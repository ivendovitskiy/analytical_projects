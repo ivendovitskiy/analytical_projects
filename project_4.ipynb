{
 "cells": [
  {
   "cell_type": "markdown",
   "metadata": {},
   "source": [
    "# Описание проекта"
   ]
  },
  {
   "cell_type": "markdown",
   "metadata": {},
   "source": [
    "Вы работаете в интернет-магазине «Стримчик», который продаёт по всему миру компьютерные игры. Из открытых источников доступны исторические данные о продажах игр, оценки пользователей и экспертов, жанры и платформы (например, Xbox или PlayStation). Вам нужно выявить определяющие успешность игры закономерности. Это позволит сделать ставку на потенциально популярный продукт и спланировать рекламные кампании.\n",
    "\n",
    "Перед вами данные до 2016 года. Представим, что сейчас декабрь 2016 г., и вы планируете кампанию на 2017-й. Нужно отработать принцип работы с данными. Неважно, прогнозируете ли вы продажи на 2017 год по данным 2016-го или же 2027-й — по данным 2026 года.\n",
    "\n",
    "В наборе данных попадается аббревиатура ESRB (Entertainment Software Rating Board) — это ассоциация, определяющая возрастной рейтинг компьютерных игр. ESRB оценивает игровой контент и присваивает ему подходящую возрастную категорию, например, «Для взрослых», «Для детей младшего возраста» или «Для подростков»."
   ]
  },
  {
   "cell_type": "markdown",
   "metadata": {},
   "source": [
    "## Изучение общей информации о данных"
   ]
  },
  {
   "cell_type": "markdown",
   "metadata": {},
   "source": [
    "Подключим необходимые для выполнения проекта библиотеки"
   ]
  },
  {
   "cell_type": "code",
   "execution_count": 1,
   "metadata": {},
   "outputs": [],
   "source": [
    "import pandas as pd #библиотека для работы с табличными типами данных\n",
    "import numpy as np #библиотека для использования формул из математической статистики\n",
    "import math #библиотека для использования более продвинутых математических функций\n",
    "import matplotlib.pyplot as plt #библиотека для построения графиков\n",
    "from scipy import stats as st #библиотека для использования статистических методов"
   ]
  },
  {
   "cell_type": "markdown",
   "metadata": {},
   "source": [
    "Прочитаем файл \"games.csv\" и запишем данные в датафрейм *games*"
   ]
  },
  {
   "cell_type": "code",
   "execution_count": 2,
   "metadata": {},
   "outputs": [],
   "source": [
    "games = pd.read_csv('/datasets/games.csv')"
   ]
  },
  {
   "cell_type": "markdown",
   "metadata": {},
   "source": [
    "Выведем первые строчки датасета на экран"
   ]
  },
  {
   "cell_type": "code",
   "execution_count": 3,
   "metadata": {},
   "outputs": [
    {
     "data": {
      "text/html": [
       "<div>\n",
       "<style scoped>\n",
       "    .dataframe tbody tr th:only-of-type {\n",
       "        vertical-align: middle;\n",
       "    }\n",
       "\n",
       "    .dataframe tbody tr th {\n",
       "        vertical-align: top;\n",
       "    }\n",
       "\n",
       "    .dataframe thead th {\n",
       "        text-align: right;\n",
       "    }\n",
       "</style>\n",
       "<table border=\"1\" class=\"dataframe\">\n",
       "  <thead>\n",
       "    <tr style=\"text-align: right;\">\n",
       "      <th></th>\n",
       "      <th>Name</th>\n",
       "      <th>Platform</th>\n",
       "      <th>Year_of_Release</th>\n",
       "      <th>Genre</th>\n",
       "      <th>NA_sales</th>\n",
       "      <th>EU_sales</th>\n",
       "      <th>JP_sales</th>\n",
       "      <th>Other_sales</th>\n",
       "      <th>Critic_Score</th>\n",
       "      <th>User_Score</th>\n",
       "      <th>Rating</th>\n",
       "    </tr>\n",
       "  </thead>\n",
       "  <tbody>\n",
       "    <tr>\n",
       "      <td>0</td>\n",
       "      <td>Wii Sports</td>\n",
       "      <td>Wii</td>\n",
       "      <td>2006.0</td>\n",
       "      <td>Sports</td>\n",
       "      <td>41.36</td>\n",
       "      <td>28.96</td>\n",
       "      <td>3.77</td>\n",
       "      <td>8.45</td>\n",
       "      <td>76.0</td>\n",
       "      <td>8</td>\n",
       "      <td>E</td>\n",
       "    </tr>\n",
       "    <tr>\n",
       "      <td>1</td>\n",
       "      <td>Super Mario Bros.</td>\n",
       "      <td>NES</td>\n",
       "      <td>1985.0</td>\n",
       "      <td>Platform</td>\n",
       "      <td>29.08</td>\n",
       "      <td>3.58</td>\n",
       "      <td>6.81</td>\n",
       "      <td>0.77</td>\n",
       "      <td>NaN</td>\n",
       "      <td>NaN</td>\n",
       "      <td>NaN</td>\n",
       "    </tr>\n",
       "    <tr>\n",
       "      <td>2</td>\n",
       "      <td>Mario Kart Wii</td>\n",
       "      <td>Wii</td>\n",
       "      <td>2008.0</td>\n",
       "      <td>Racing</td>\n",
       "      <td>15.68</td>\n",
       "      <td>12.76</td>\n",
       "      <td>3.79</td>\n",
       "      <td>3.29</td>\n",
       "      <td>82.0</td>\n",
       "      <td>8.3</td>\n",
       "      <td>E</td>\n",
       "    </tr>\n",
       "    <tr>\n",
       "      <td>3</td>\n",
       "      <td>Wii Sports Resort</td>\n",
       "      <td>Wii</td>\n",
       "      <td>2009.0</td>\n",
       "      <td>Sports</td>\n",
       "      <td>15.61</td>\n",
       "      <td>10.93</td>\n",
       "      <td>3.28</td>\n",
       "      <td>2.95</td>\n",
       "      <td>80.0</td>\n",
       "      <td>8</td>\n",
       "      <td>E</td>\n",
       "    </tr>\n",
       "    <tr>\n",
       "      <td>4</td>\n",
       "      <td>Pokemon Red/Pokemon Blue</td>\n",
       "      <td>GB</td>\n",
       "      <td>1996.0</td>\n",
       "      <td>Role-Playing</td>\n",
       "      <td>11.27</td>\n",
       "      <td>8.89</td>\n",
       "      <td>10.22</td>\n",
       "      <td>1.00</td>\n",
       "      <td>NaN</td>\n",
       "      <td>NaN</td>\n",
       "      <td>NaN</td>\n",
       "    </tr>\n",
       "  </tbody>\n",
       "</table>\n",
       "</div>"
      ],
      "text/plain": [
       "                       Name Platform  Year_of_Release         Genre  NA_sales  \\\n",
       "0                Wii Sports      Wii           2006.0        Sports     41.36   \n",
       "1         Super Mario Bros.      NES           1985.0      Platform     29.08   \n",
       "2            Mario Kart Wii      Wii           2008.0        Racing     15.68   \n",
       "3         Wii Sports Resort      Wii           2009.0        Sports     15.61   \n",
       "4  Pokemon Red/Pokemon Blue       GB           1996.0  Role-Playing     11.27   \n",
       "\n",
       "   EU_sales  JP_sales  Other_sales  Critic_Score User_Score Rating  \n",
       "0     28.96      3.77         8.45          76.0          8      E  \n",
       "1      3.58      6.81         0.77           NaN        NaN    NaN  \n",
       "2     12.76      3.79         3.29          82.0        8.3      E  \n",
       "3     10.93      3.28         2.95          80.0          8      E  \n",
       "4      8.89     10.22         1.00           NaN        NaN    NaN  "
      ]
     },
     "execution_count": 3,
     "metadata": {},
     "output_type": "execute_result"
    }
   ],
   "source": [
    "games.head()"
   ]
  },
  {
   "cell_type": "markdown",
   "metadata": {},
   "source": [
    "Посмотрим информацию о наборе данных"
   ]
  },
  {
   "cell_type": "code",
   "execution_count": 4,
   "metadata": {},
   "outputs": [
    {
     "name": "stdout",
     "output_type": "stream",
     "text": [
      "<class 'pandas.core.frame.DataFrame'>\n",
      "RangeIndex: 16715 entries, 0 to 16714\n",
      "Data columns (total 11 columns):\n",
      "Name               16713 non-null object\n",
      "Platform           16715 non-null object\n",
      "Year_of_Release    16446 non-null float64\n",
      "Genre              16713 non-null object\n",
      "NA_sales           16715 non-null float64\n",
      "EU_sales           16715 non-null float64\n",
      "JP_sales           16715 non-null float64\n",
      "Other_sales        16715 non-null float64\n",
      "Critic_Score       8137 non-null float64\n",
      "User_Score         10014 non-null object\n",
      "Rating             9949 non-null object\n",
      "dtypes: float64(6), object(5)\n",
      "memory usage: 1.4+ MB\n"
     ]
    }
   ],
   "source": [
    "games.info()"
   ]
  },
  {
   "cell_type": "code",
   "execution_count": 5,
   "metadata": {},
   "outputs": [
    {
     "data": {
      "text/plain": [
       "0"
      ]
     },
     "execution_count": 5,
     "metadata": {},
     "output_type": "execute_result"
    }
   ],
   "source": [
    "games.duplicated().sum()"
   ]
  },
  {
   "cell_type": "markdown",
   "metadata": {},
   "source": [
    "Вывод: данные извлечены правильно, дубликаты не найдены, но, как мы видим, в таблице почти в каждом столбце есть пропуски, которые необходимо обработать, прежде чем приступать к анализу данных"
   ]
  },
  {
   "cell_type": "markdown",
   "metadata": {},
   "source": [
    "## Подготовка данных"
   ]
  },
  {
   "cell_type": "markdown",
   "metadata": {},
   "source": [
    "Для того, чтобы получить приемлимый и не \"шумный\" результат на выходе, нам нужно обработать данные на входе, чтобы в данных не было случайных пропусков, чтобы они имели правильный тип данных, и чтобы у нас была вся нужная для дальнейшего анализа информация об объектах исследования(играх)"
   ]
  },
  {
   "cell_type": "markdown",
   "metadata": {},
   "source": [
    "### Замена названий столбцов"
   ]
  },
  {
   "cell_type": "markdown",
   "metadata": {},
   "source": [
    "Для начала исправим названия всех колонок на строчные - это правило хорошего тона"
   ]
  },
  {
   "cell_type": "code",
   "execution_count": 6,
   "metadata": {},
   "outputs": [
    {
     "data": {
      "text/plain": [
       "Index(['name', 'platform', 'year_of_release', 'genre', 'na_sales', 'eu_sales',\n",
       "       'jp_sales', 'other_sales', 'critic_score', 'user_score', 'rating'],\n",
       "      dtype='object')"
      ]
     },
     "execution_count": 6,
     "metadata": {},
     "output_type": "execute_result"
    }
   ],
   "source": [
    "games.columns = games.columns.str.lower()\n",
    "games.columns"
   ]
  },
  {
   "cell_type": "markdown",
   "metadata": {},
   "source": [
    "### Обработка пропусков"
   ]
  },
  {
   "cell_type": "markdown",
   "metadata": {},
   "source": [
    "Узнаем, в каких столбцах есть пропуски"
   ]
  },
  {
   "cell_type": "code",
   "execution_count": 7,
   "metadata": {},
   "outputs": [
    {
     "data": {
      "text/plain": [
       "name                  2\n",
       "platform              0\n",
       "year_of_release     269\n",
       "genre                 2\n",
       "na_sales              0\n",
       "eu_sales              0\n",
       "jp_sales              0\n",
       "other_sales           0\n",
       "critic_score       8578\n",
       "user_score         6701\n",
       "rating             6766\n",
       "dtype: int64"
      ]
     },
     "execution_count": 7,
     "metadata": {},
     "output_type": "execute_result"
    }
   ],
   "source": [
    "games.isna().sum()"
   ]
  },
  {
   "cell_type": "markdown",
   "metadata": {},
   "source": [
    "Рассмотрим строчки с пропусками подробнее"
   ]
  },
  {
   "cell_type": "code",
   "execution_count": 8,
   "metadata": {},
   "outputs": [
    {
     "data": {
      "text/html": [
       "<div>\n",
       "<style scoped>\n",
       "    .dataframe tbody tr th:only-of-type {\n",
       "        vertical-align: middle;\n",
       "    }\n",
       "\n",
       "    .dataframe tbody tr th {\n",
       "        vertical-align: top;\n",
       "    }\n",
       "\n",
       "    .dataframe thead th {\n",
       "        text-align: right;\n",
       "    }\n",
       "</style>\n",
       "<table border=\"1\" class=\"dataframe\">\n",
       "  <thead>\n",
       "    <tr style=\"text-align: right;\">\n",
       "      <th></th>\n",
       "      <th>name</th>\n",
       "      <th>platform</th>\n",
       "      <th>year_of_release</th>\n",
       "      <th>genre</th>\n",
       "      <th>na_sales</th>\n",
       "      <th>eu_sales</th>\n",
       "      <th>jp_sales</th>\n",
       "      <th>other_sales</th>\n",
       "      <th>critic_score</th>\n",
       "      <th>user_score</th>\n",
       "      <th>rating</th>\n",
       "    </tr>\n",
       "  </thead>\n",
       "  <tbody>\n",
       "    <tr>\n",
       "      <td>659</td>\n",
       "      <td>NaN</td>\n",
       "      <td>GEN</td>\n",
       "      <td>1993.0</td>\n",
       "      <td>NaN</td>\n",
       "      <td>1.78</td>\n",
       "      <td>0.53</td>\n",
       "      <td>0.00</td>\n",
       "      <td>0.08</td>\n",
       "      <td>NaN</td>\n",
       "      <td>NaN</td>\n",
       "      <td>NaN</td>\n",
       "    </tr>\n",
       "    <tr>\n",
       "      <td>14244</td>\n",
       "      <td>NaN</td>\n",
       "      <td>GEN</td>\n",
       "      <td>1993.0</td>\n",
       "      <td>NaN</td>\n",
       "      <td>0.00</td>\n",
       "      <td>0.00</td>\n",
       "      <td>0.03</td>\n",
       "      <td>0.00</td>\n",
       "      <td>NaN</td>\n",
       "      <td>NaN</td>\n",
       "      <td>NaN</td>\n",
       "    </tr>\n",
       "  </tbody>\n",
       "</table>\n",
       "</div>"
      ],
      "text/plain": [
       "      name platform  year_of_release genre  na_sales  eu_sales  jp_sales  \\\n",
       "659    NaN      GEN           1993.0   NaN      1.78      0.53      0.00   \n",
       "14244  NaN      GEN           1993.0   NaN      0.00      0.00      0.03   \n",
       "\n",
       "       other_sales  critic_score user_score rating  \n",
       "659           0.08           NaN        NaN    NaN  \n",
       "14244         0.00           NaN        NaN    NaN  "
      ]
     },
     "execution_count": 8,
     "metadata": {},
     "output_type": "execute_result"
    }
   ],
   "source": [
    "games[games['name'].isna()].head()"
   ]
  },
  {
   "cell_type": "code",
   "execution_count": 9,
   "metadata": {},
   "outputs": [
    {
     "data": {
      "text/html": [
       "<div>\n",
       "<style scoped>\n",
       "    .dataframe tbody tr th:only-of-type {\n",
       "        vertical-align: middle;\n",
       "    }\n",
       "\n",
       "    .dataframe tbody tr th {\n",
       "        vertical-align: top;\n",
       "    }\n",
       "\n",
       "    .dataframe thead th {\n",
       "        text-align: right;\n",
       "    }\n",
       "</style>\n",
       "<table border=\"1\" class=\"dataframe\">\n",
       "  <thead>\n",
       "    <tr style=\"text-align: right;\">\n",
       "      <th></th>\n",
       "      <th>name</th>\n",
       "      <th>platform</th>\n",
       "      <th>year_of_release</th>\n",
       "      <th>genre</th>\n",
       "      <th>na_sales</th>\n",
       "      <th>eu_sales</th>\n",
       "      <th>jp_sales</th>\n",
       "      <th>other_sales</th>\n",
       "      <th>critic_score</th>\n",
       "      <th>user_score</th>\n",
       "      <th>rating</th>\n",
       "    </tr>\n",
       "  </thead>\n",
       "  <tbody>\n",
       "    <tr>\n",
       "      <td>183</td>\n",
       "      <td>Madden NFL 2004</td>\n",
       "      <td>PS2</td>\n",
       "      <td>NaN</td>\n",
       "      <td>Sports</td>\n",
       "      <td>4.26</td>\n",
       "      <td>0.26</td>\n",
       "      <td>0.01</td>\n",
       "      <td>0.71</td>\n",
       "      <td>94.0</td>\n",
       "      <td>8.5</td>\n",
       "      <td>E</td>\n",
       "    </tr>\n",
       "    <tr>\n",
       "      <td>377</td>\n",
       "      <td>FIFA Soccer 2004</td>\n",
       "      <td>PS2</td>\n",
       "      <td>NaN</td>\n",
       "      <td>Sports</td>\n",
       "      <td>0.59</td>\n",
       "      <td>2.36</td>\n",
       "      <td>0.04</td>\n",
       "      <td>0.51</td>\n",
       "      <td>84.0</td>\n",
       "      <td>6.4</td>\n",
       "      <td>E</td>\n",
       "    </tr>\n",
       "    <tr>\n",
       "      <td>456</td>\n",
       "      <td>LEGO Batman: The Videogame</td>\n",
       "      <td>Wii</td>\n",
       "      <td>NaN</td>\n",
       "      <td>Action</td>\n",
       "      <td>1.80</td>\n",
       "      <td>0.97</td>\n",
       "      <td>0.00</td>\n",
       "      <td>0.29</td>\n",
       "      <td>74.0</td>\n",
       "      <td>7.9</td>\n",
       "      <td>E10+</td>\n",
       "    </tr>\n",
       "    <tr>\n",
       "      <td>475</td>\n",
       "      <td>wwe Smackdown vs. Raw 2006</td>\n",
       "      <td>PS2</td>\n",
       "      <td>NaN</td>\n",
       "      <td>Fighting</td>\n",
       "      <td>1.57</td>\n",
       "      <td>1.02</td>\n",
       "      <td>0.00</td>\n",
       "      <td>0.41</td>\n",
       "      <td>NaN</td>\n",
       "      <td>NaN</td>\n",
       "      <td>NaN</td>\n",
       "    </tr>\n",
       "    <tr>\n",
       "      <td>609</td>\n",
       "      <td>Space Invaders</td>\n",
       "      <td>2600</td>\n",
       "      <td>NaN</td>\n",
       "      <td>Shooter</td>\n",
       "      <td>2.36</td>\n",
       "      <td>0.14</td>\n",
       "      <td>0.00</td>\n",
       "      <td>0.03</td>\n",
       "      <td>NaN</td>\n",
       "      <td>NaN</td>\n",
       "      <td>NaN</td>\n",
       "    </tr>\n",
       "  </tbody>\n",
       "</table>\n",
       "</div>"
      ],
      "text/plain": [
       "                           name platform  year_of_release     genre  na_sales  \\\n",
       "183             Madden NFL 2004      PS2              NaN    Sports      4.26   \n",
       "377            FIFA Soccer 2004      PS2              NaN    Sports      0.59   \n",
       "456  LEGO Batman: The Videogame      Wii              NaN    Action      1.80   \n",
       "475  wwe Smackdown vs. Raw 2006      PS2              NaN  Fighting      1.57   \n",
       "609              Space Invaders     2600              NaN   Shooter      2.36   \n",
       "\n",
       "     eu_sales  jp_sales  other_sales  critic_score user_score rating  \n",
       "183      0.26      0.01         0.71          94.0        8.5      E  \n",
       "377      2.36      0.04         0.51          84.0        6.4      E  \n",
       "456      0.97      0.00         0.29          74.0        7.9   E10+  \n",
       "475      1.02      0.00         0.41           NaN        NaN    NaN  \n",
       "609      0.14      0.00         0.03           NaN        NaN    NaN  "
      ]
     },
     "execution_count": 9,
     "metadata": {},
     "output_type": "execute_result"
    }
   ],
   "source": [
    "games[games['year_of_release'].isna()].head()"
   ]
  },
  {
   "cell_type": "code",
   "execution_count": 10,
   "metadata": {},
   "outputs": [
    {
     "data": {
      "text/html": [
       "<div>\n",
       "<style scoped>\n",
       "    .dataframe tbody tr th:only-of-type {\n",
       "        vertical-align: middle;\n",
       "    }\n",
       "\n",
       "    .dataframe tbody tr th {\n",
       "        vertical-align: top;\n",
       "    }\n",
       "\n",
       "    .dataframe thead th {\n",
       "        text-align: right;\n",
       "    }\n",
       "</style>\n",
       "<table border=\"1\" class=\"dataframe\">\n",
       "  <thead>\n",
       "    <tr style=\"text-align: right;\">\n",
       "      <th></th>\n",
       "      <th>name</th>\n",
       "      <th>platform</th>\n",
       "      <th>year_of_release</th>\n",
       "      <th>genre</th>\n",
       "      <th>na_sales</th>\n",
       "      <th>eu_sales</th>\n",
       "      <th>jp_sales</th>\n",
       "      <th>other_sales</th>\n",
       "      <th>critic_score</th>\n",
       "      <th>user_score</th>\n",
       "      <th>rating</th>\n",
       "    </tr>\n",
       "  </thead>\n",
       "  <tbody>\n",
       "    <tr>\n",
       "      <td>659</td>\n",
       "      <td>NaN</td>\n",
       "      <td>GEN</td>\n",
       "      <td>1993.0</td>\n",
       "      <td>NaN</td>\n",
       "      <td>1.78</td>\n",
       "      <td>0.53</td>\n",
       "      <td>0.00</td>\n",
       "      <td>0.08</td>\n",
       "      <td>NaN</td>\n",
       "      <td>NaN</td>\n",
       "      <td>NaN</td>\n",
       "    </tr>\n",
       "    <tr>\n",
       "      <td>14244</td>\n",
       "      <td>NaN</td>\n",
       "      <td>GEN</td>\n",
       "      <td>1993.0</td>\n",
       "      <td>NaN</td>\n",
       "      <td>0.00</td>\n",
       "      <td>0.00</td>\n",
       "      <td>0.03</td>\n",
       "      <td>0.00</td>\n",
       "      <td>NaN</td>\n",
       "      <td>NaN</td>\n",
       "      <td>NaN</td>\n",
       "    </tr>\n",
       "  </tbody>\n",
       "</table>\n",
       "</div>"
      ],
      "text/plain": [
       "      name platform  year_of_release genre  na_sales  eu_sales  jp_sales  \\\n",
       "659    NaN      GEN           1993.0   NaN      1.78      0.53      0.00   \n",
       "14244  NaN      GEN           1993.0   NaN      0.00      0.00      0.03   \n",
       "\n",
       "       other_sales  critic_score user_score rating  \n",
       "659           0.08           NaN        NaN    NaN  \n",
       "14244         0.00           NaN        NaN    NaN  "
      ]
     },
     "execution_count": 10,
     "metadata": {},
     "output_type": "execute_result"
    }
   ],
   "source": [
    "games[games['genre'].isna()].head()"
   ]
  },
  {
   "cell_type": "markdown",
   "metadata": {},
   "source": [
    "Как мы видим, строчки с пропусками в столбце *name* и в столбце *genre* одни и те же, и они абсолютно не информативны для нас. Их мы удалим"
   ]
  },
  {
   "cell_type": "code",
   "execution_count": 11,
   "metadata": {},
   "outputs": [
    {
     "data": {
      "text/plain": [
       "name                  0\n",
       "platform              0\n",
       "year_of_release     269\n",
       "genre                 0\n",
       "na_sales              0\n",
       "eu_sales              0\n",
       "jp_sales              0\n",
       "other_sales           0\n",
       "critic_score       8576\n",
       "user_score         6699\n",
       "rating             6764\n",
       "dtype: int64"
      ]
     },
     "execution_count": 11,
     "metadata": {},
     "output_type": "execute_result"
    }
   ],
   "source": [
    "games = games.dropna(subset=['name', 'genre'])\n",
    "games.isna().sum()"
   ]
  },
  {
   "cell_type": "code",
   "execution_count": 12,
   "metadata": {},
   "outputs": [],
   "source": [
    "names_before = games[games['year_of_release'].isna()]['name'].tolist() #создадим список с названиями игр, в которых были\n",
    "                                                                    #пропущены значения"
   ]
  },
  {
   "cell_type": "markdown",
   "metadata": {},
   "source": [
    "Пропуски в столбце *год выхода* можно заполнить годом появления игры на другой платформе (чаще всего это один и тот же год или очень близкое значение)"
   ]
  },
  {
   "cell_type": "code",
   "execution_count": 13,
   "metadata": {},
   "outputs": [
    {
     "data": {
      "text/html": [
       "<div>\n",
       "<style scoped>\n",
       "    .dataframe tbody tr th:only-of-type {\n",
       "        vertical-align: middle;\n",
       "    }\n",
       "\n",
       "    .dataframe tbody tr th {\n",
       "        vertical-align: top;\n",
       "    }\n",
       "\n",
       "    .dataframe thead th {\n",
       "        text-align: right;\n",
       "    }\n",
       "</style>\n",
       "<table border=\"1\" class=\"dataframe\">\n",
       "  <thead>\n",
       "    <tr style=\"text-align: right;\">\n",
       "      <th></th>\n",
       "      <th>year_of_release_median</th>\n",
       "    </tr>\n",
       "    <tr>\n",
       "      <th>name</th>\n",
       "      <th></th>\n",
       "    </tr>\n",
       "  </thead>\n",
       "  <tbody>\n",
       "    <tr>\n",
       "      <td>Beyblade Burst</td>\n",
       "      <td>2016.0</td>\n",
       "    </tr>\n",
       "    <tr>\n",
       "      <td>Fire Emblem Fates</td>\n",
       "      <td>2015.0</td>\n",
       "    </tr>\n",
       "    <tr>\n",
       "      <td>Frozen: Olaf's Quest</td>\n",
       "      <td>2013.0</td>\n",
       "    </tr>\n",
       "    <tr>\n",
       "      <td>Haikyu!! Cross Team Match!</td>\n",
       "      <td>2016.0</td>\n",
       "    </tr>\n",
       "    <tr>\n",
       "      <td>Tales of Xillia 2</td>\n",
       "      <td>2012.0</td>\n",
       "    </tr>\n",
       "  </tbody>\n",
       "</table>\n",
       "</div>"
      ],
      "text/plain": [
       "                             year_of_release_median\n",
       "name                                               \n",
       " Beyblade Burst                              2016.0\n",
       " Fire Emblem Fates                           2015.0\n",
       " Frozen: Olaf's Quest                        2013.0\n",
       " Haikyu!! Cross Team Match!                  2016.0\n",
       " Tales of Xillia 2                           2012.0"
      ]
     },
     "execution_count": 13,
     "metadata": {},
     "output_type": "execute_result"
    }
   ],
   "source": [
    "year_of_release_by_name = games.pivot_table(index='name', values='year_of_release', aggfunc='median').rename(columns={\n",
    "    'year_of_release':'year_of_release_median'\n",
    "})\n",
    "year_of_release_by_name.head()"
   ]
  },
  {
   "cell_type": "code",
   "execution_count": 14,
   "metadata": {},
   "outputs": [
    {
     "data": {
      "text/html": [
       "<div>\n",
       "<style scoped>\n",
       "    .dataframe tbody tr th:only-of-type {\n",
       "        vertical-align: middle;\n",
       "    }\n",
       "\n",
       "    .dataframe tbody tr th {\n",
       "        vertical-align: top;\n",
       "    }\n",
       "\n",
       "    .dataframe thead th {\n",
       "        text-align: right;\n",
       "    }\n",
       "</style>\n",
       "<table border=\"1\" class=\"dataframe\">\n",
       "  <thead>\n",
       "    <tr style=\"text-align: right;\">\n",
       "      <th></th>\n",
       "      <th>name</th>\n",
       "      <th>platform</th>\n",
       "      <th>year_of_release</th>\n",
       "      <th>genre</th>\n",
       "      <th>na_sales</th>\n",
       "      <th>eu_sales</th>\n",
       "      <th>jp_sales</th>\n",
       "      <th>other_sales</th>\n",
       "      <th>critic_score</th>\n",
       "      <th>user_score</th>\n",
       "      <th>rating</th>\n",
       "      <th>year_of_release_median</th>\n",
       "    </tr>\n",
       "  </thead>\n",
       "  <tbody>\n",
       "    <tr>\n",
       "      <td>0</td>\n",
       "      <td>Wii Sports</td>\n",
       "      <td>Wii</td>\n",
       "      <td>2006.0</td>\n",
       "      <td>Sports</td>\n",
       "      <td>41.36</td>\n",
       "      <td>28.96</td>\n",
       "      <td>3.77</td>\n",
       "      <td>8.45</td>\n",
       "      <td>76.0</td>\n",
       "      <td>8</td>\n",
       "      <td>E</td>\n",
       "      <td>2006.0</td>\n",
       "    </tr>\n",
       "    <tr>\n",
       "      <td>1</td>\n",
       "      <td>Super Mario Bros.</td>\n",
       "      <td>NES</td>\n",
       "      <td>1985.0</td>\n",
       "      <td>Platform</td>\n",
       "      <td>29.08</td>\n",
       "      <td>3.58</td>\n",
       "      <td>6.81</td>\n",
       "      <td>0.77</td>\n",
       "      <td>NaN</td>\n",
       "      <td>NaN</td>\n",
       "      <td>NaN</td>\n",
       "      <td>1992.0</td>\n",
       "    </tr>\n",
       "    <tr>\n",
       "      <td>2</td>\n",
       "      <td>Mario Kart Wii</td>\n",
       "      <td>Wii</td>\n",
       "      <td>2008.0</td>\n",
       "      <td>Racing</td>\n",
       "      <td>15.68</td>\n",
       "      <td>12.76</td>\n",
       "      <td>3.79</td>\n",
       "      <td>3.29</td>\n",
       "      <td>82.0</td>\n",
       "      <td>8.3</td>\n",
       "      <td>E</td>\n",
       "      <td>2008.0</td>\n",
       "    </tr>\n",
       "    <tr>\n",
       "      <td>3</td>\n",
       "      <td>Wii Sports Resort</td>\n",
       "      <td>Wii</td>\n",
       "      <td>2009.0</td>\n",
       "      <td>Sports</td>\n",
       "      <td>15.61</td>\n",
       "      <td>10.93</td>\n",
       "      <td>3.28</td>\n",
       "      <td>2.95</td>\n",
       "      <td>80.0</td>\n",
       "      <td>8</td>\n",
       "      <td>E</td>\n",
       "      <td>2009.0</td>\n",
       "    </tr>\n",
       "    <tr>\n",
       "      <td>4</td>\n",
       "      <td>Pokemon Red/Pokemon Blue</td>\n",
       "      <td>GB</td>\n",
       "      <td>1996.0</td>\n",
       "      <td>Role-Playing</td>\n",
       "      <td>11.27</td>\n",
       "      <td>8.89</td>\n",
       "      <td>10.22</td>\n",
       "      <td>1.00</td>\n",
       "      <td>NaN</td>\n",
       "      <td>NaN</td>\n",
       "      <td>NaN</td>\n",
       "      <td>1996.0</td>\n",
       "    </tr>\n",
       "  </tbody>\n",
       "</table>\n",
       "</div>"
      ],
      "text/plain": [
       "                       name platform  year_of_release         genre  na_sales  \\\n",
       "0                Wii Sports      Wii           2006.0        Sports     41.36   \n",
       "1         Super Mario Bros.      NES           1985.0      Platform     29.08   \n",
       "2            Mario Kart Wii      Wii           2008.0        Racing     15.68   \n",
       "3         Wii Sports Resort      Wii           2009.0        Sports     15.61   \n",
       "4  Pokemon Red/Pokemon Blue       GB           1996.0  Role-Playing     11.27   \n",
       "\n",
       "   eu_sales  jp_sales  other_sales  critic_score user_score rating  \\\n",
       "0     28.96      3.77         8.45          76.0          8      E   \n",
       "1      3.58      6.81         0.77           NaN        NaN    NaN   \n",
       "2     12.76      3.79         3.29          82.0        8.3      E   \n",
       "3     10.93      3.28         2.95          80.0          8      E   \n",
       "4      8.89     10.22         1.00           NaN        NaN    NaN   \n",
       "\n",
       "   year_of_release_median  \n",
       "0                  2006.0  \n",
       "1                  1992.0  \n",
       "2                  2008.0  \n",
       "3                  2009.0  \n",
       "4                  1996.0  "
      ]
     },
     "execution_count": 14,
     "metadata": {},
     "output_type": "execute_result"
    }
   ],
   "source": [
    "games = games.merge(year_of_release_by_name, on='name', how='left')\n",
    "games.head()"
   ]
  },
  {
   "cell_type": "code",
   "execution_count": 15,
   "metadata": {},
   "outputs": [
    {
     "name": "stdout",
     "output_type": "stream",
     "text": [
      "Пропусков после замены: 146\n"
     ]
    }
   ],
   "source": [
    "games['year_of_release'] = games['year_of_release'].fillna(games['year_of_release_median'])\n",
    "print('Пропусков после замены:', games['year_of_release'].isna().sum())"
   ]
  },
  {
   "cell_type": "markdown",
   "metadata": {},
   "source": [
    "Оставшиеся пропущенные значения заполним с помощью года, указанного в названии игры (если в названии он каким-то образом фигурирует). Для разных игр это будет разное значение: например, для большинства спортивных игр значение будет равно указанному году минус один, а для игр, где просто указан год (обычно в скобках) - вставим его как есть"
   ]
  },
  {
   "cell_type": "code",
   "execution_count": 16,
   "metadata": {},
   "outputs": [],
   "source": [
    "def findYoRInName(row): #функция замены года выхода игры в соответствии с годом, указанным в названии\n",
    "    if math.isnan(row['year_of_release']):\n",
    "        for year in range(int(games['year_of_release'].min()), int(games['year_of_release'].max()+1)):\n",
    "            if str(year) in row['name']:\n",
    "                if '(' + str(year) + ')' in row['name']:\n",
    "                    return year\n",
    "                else:\n",
    "                    return year-1\n",
    "            else:\n",
    "                for year00 in range(2000, 2010):\n",
    "                    if ' 0'+str(year00-2000) in row['name']:\n",
    "                        return year00-1\n",
    "                    #elif \n",
    "                    elif ' 2K' in row['name'] or ' 2k' in row['name']:\n",
    "                        for kyear in range(2001, int(games['year_of_release'].max()+1)):\n",
    "                            if ' 2K'+str(kyear-2000) in row['name'] or ' 2k'+str(kyear-2000) in row['name']:\n",
    "                                return kyear-1\n",
    "                        else:\n",
    "                            return 1999\n",
    "    else:\n",
    "        return row['year_of_release']"
   ]
  },
  {
   "cell_type": "code",
   "execution_count": 17,
   "metadata": {},
   "outputs": [
    {
     "name": "stdout",
     "output_type": "stream",
     "text": [
      "Пропусков после замены: 139\n"
     ]
    }
   ],
   "source": [
    "games['year_of_release'] = games.apply(findYoRInName, axis=1)\n",
    "print('Пропусков после замены:', games['year_of_release'].isna().sum())"
   ]
  },
  {
   "cell_type": "markdown",
   "metadata": {},
   "source": [
    "Посмотрим на то, как мы заполнили пропуски в столбце *год выпуска* и какие пропуски еще остались:"
   ]
  },
  {
   "cell_type": "code",
   "execution_count": 18,
   "metadata": {},
   "outputs": [
    {
     "name": "stdout",
     "output_type": "stream",
     "text": [
      "Madden NFL 2004\n",
      "183     2003.0\n",
      "1880    2003.0\n",
      "3888    2003.0\n",
      "5707    2003.0\n",
      "Name: year_of_release, dtype: float64\n",
      "\n",
      "FIFA Soccer 2004\n",
      "377      2003.0\n",
      "2605     2003.0\n",
      "12028    2003.0\n",
      "13085    2003.0\n",
      "Name: year_of_release, dtype: float64\n",
      "\n",
      "LEGO Batman: The Videogame\n",
      "397      2008.0\n",
      "456      2008.0\n",
      "460      2008.0\n",
      "1518     2008.0\n",
      "1537     2008.0\n",
      "1552     2008.0\n",
      "12464    2008.0\n",
      "Name: year_of_release, dtype: float64\n",
      "\n",
      "wwe Smackdown vs. Raw 2006\n",
      "475    2005.0\n",
      "Name: year_of_release, dtype: float64\n",
      "\n",
      "Space Invaders\n",
      "609      1999.0\n",
      "4263     1994.0\n",
      "8579     1999.0\n",
      "10382    2002.0\n",
      "Name: year_of_release, dtype: float64\n",
      "\n",
      "Rock Band\n",
      "627    NaN\n",
      "804    NaN\n",
      "1141   NaN\n",
      "1839   NaN\n",
      "Name: year_of_release, dtype: float64\n",
      "\n",
      "Frogger's Adventures: Temple of the Frog\n",
      "657   NaN\n",
      "Name: year_of_release, dtype: float64\n",
      "\n",
      "LEGO Indiana Jones: The Original Adventures\n",
      "329      2008.0\n",
      "677      2008.0\n",
      "742      2008.0\n",
      "1407     2008.0\n",
      "1722     2008.0\n",
      "2012     2008.0\n",
      "13713    2008.0\n",
      "Name: year_of_release, dtype: float64\n",
      "\n",
      "Call of Duty 3\n",
      "557     2006.0\n",
      "718     2006.0\n",
      "1254    2006.0\n",
      "1914    2006.0\n",
      "Name: year_of_release, dtype: float64\n",
      "\n",
      "Rock Band\n",
      "627    NaN\n",
      "804    NaN\n",
      "1141   NaN\n",
      "1839   NaN\n",
      "Name: year_of_release, dtype: float64\n",
      "\n",
      "Call of Duty: Black Ops\n",
      "32      2010.0\n",
      "41      2010.0\n",
      "1130    2010.0\n",
      "1411    2010.0\n",
      "3438    2010.0\n",
      "Name: year_of_release, dtype: float64\n",
      "\n",
      "Rock Band\n",
      "627    NaN\n",
      "804    NaN\n",
      "1141   NaN\n",
      "1839   NaN\n",
      "Name: year_of_release, dtype: float64\n",
      "\n",
      "Triple Play 99\n",
      "1300   NaN\n",
      "Name: year_of_release, dtype: float64\n",
      "\n",
      "Adventure\n",
      "1505   NaN\n",
      "Name: year_of_release, dtype: float64\n",
      "\n",
      "LEGO Batman: The Videogame\n",
      "397      2008.0\n",
      "456      2008.0\n",
      "460      2008.0\n",
      "1518     2008.0\n",
      "1537     2008.0\n",
      "1552     2008.0\n",
      "12464    2008.0\n",
      "Name: year_of_release, dtype: float64\n",
      "\n",
      "Combat\n",
      "1584   NaN\n",
      "Name: year_of_release, dtype: float64\n",
      "\n",
      "LEGO Harry Potter: Years 5-7\n",
      "1608    2012.0\n",
      "2131    2012.0\n",
      "2272    2012.0\n",
      "3080    2012.0\n",
      "4817    2012.0\n",
      "6475    2012.0\n",
      "7209    2012.0\n",
      "8058    2012.0\n",
      "Name: year_of_release, dtype: float64\n",
      "\n",
      "NASCAR Thunder 2003\n",
      "1649    2002.0\n",
      "5786    2002.0\n",
      "6360    2002.0\n",
      "Name: year_of_release, dtype: float64\n",
      "\n",
      "Hitman 2: Silent Assassin\n",
      "483     2002.0\n",
      "1698    2002.5\n",
      "9492    2003.0\n",
      "Name: year_of_release, dtype: float64\n",
      "\n",
      "Rock Band\n",
      "627    NaN\n",
      "804    NaN\n",
      "1141   NaN\n",
      "1839   NaN\n",
      "Name: year_of_release, dtype: float64\n",
      "\n",
      "Legacy of Kain: Soul Reaver\n",
      "1983   NaN\n",
      "Name: year_of_release, dtype: float64\n",
      "\n",
      "Donkey Kong Land III\n",
      "2009   NaN\n",
      "Name: year_of_release, dtype: float64\n",
      "\n",
      "Air-Sea Battle\n",
      "2105   NaN\n",
      "Name: year_of_release, dtype: float64\n",
      "\n",
      "Suikoden III\n",
      "2107   NaN\n",
      "Name: year_of_release, dtype: float64\n",
      "\n",
      "LEGO Harry Potter: Years 5-7\n",
      "1608    2012.0\n",
      "2131    2012.0\n",
      "2272    2012.0\n",
      "3080    2012.0\n",
      "4817    2012.0\n",
      "6475    2012.0\n",
      "7209    2012.0\n",
      "8058    2012.0\n",
      "Name: year_of_release, dtype: float64\n",
      "\n",
      "Wheel of Fortune\n",
      "1576    1998.0\n",
      "2123    2010.0\n",
      "2156    2004.0\n",
      "4661    2010.0\n",
      "6669    1997.0\n",
      "Name: year_of_release, dtype: float64\n",
      "\n",
      "Yakuza 4\n",
      "2168   NaN\n",
      "Name: year_of_release, dtype: float64\n",
      "\n",
      "LEGO Harry Potter: Years 5-7\n",
      "1608    2012.0\n",
      "2131    2012.0\n",
      "2272    2012.0\n",
      "3080    2012.0\n",
      "4817    2012.0\n",
      "6475    2012.0\n",
      "7209    2012.0\n",
      "8058    2012.0\n",
      "Name: year_of_release, dtype: float64\n",
      "\n",
      "Namco Museum\n",
      "266     2001.0\n",
      "960     2001.0\n",
      "2280    2001.0\n",
      "3214    2002.0\n",
      "Name: year_of_release, dtype: float64\n",
      "\n",
      "Rhythm Heaven\n",
      "444     2008.0\n",
      "2360    2008.0\n",
      "Name: year_of_release, dtype: float64\n",
      "\n",
      "The Lord of the Rings: War in the North\n",
      "2452    2011.0\n",
      "2521    2011.0\n",
      "7967    2011.0\n",
      "Name: year_of_release, dtype: float64\n",
      "\n",
      "Madden NFL 07\n",
      "241      2006.0\n",
      "971      2006.0\n",
      "2034     2006.0\n",
      "2478     2006.0\n",
      "3228     2006.0\n",
      "3837     2006.0\n",
      "4005     2006.0\n",
      "7371     2006.0\n",
      "14887    2006.0\n",
      "Name: year_of_release, dtype: float64\n",
      "\n",
      "MLB SlugFest 20-03\n",
      "2491    2002.0\n",
      "7540    2002.0\n",
      "8982    2002.0\n",
      "Name: year_of_release, dtype: float64\n",
      "\n",
      "The Lord of the Rings: War in the North\n",
      "2452    2011.0\n",
      "2521    2011.0\n",
      "7967    2011.0\n",
      "Name: year_of_release, dtype: float64\n",
      "\n",
      "Shaun White Snowboarding\n",
      "2535    2008.0\n",
      "3089    2008.0\n",
      "5643    2008.0\n",
      "5776    2008.0\n",
      "6997    2008.0\n",
      "Name: year_of_release, dtype: float64\n",
      "\n",
      "PES 2009: Pro Evolution Soccer\n",
      "617     2008.0\n",
      "782     2008.0\n",
      "2067    2008.0\n",
      "2571    2008.0\n",
      "4328    2009.0\n",
      "Name: year_of_release, dtype: float64\n",
      "\n",
      "WarioWare: Twisted!\n",
      "2772   NaN\n",
      "Name: year_of_release, dtype: float64\n",
      "\n",
      "Madden NFL 11\n",
      "561     2010.0\n",
      "660     2010.0\n",
      "2848    2010.0\n",
      "3986    2010.0\n",
      "5048    2010.0\n",
      "Name: year_of_release, dtype: float64\n",
      "\n",
      "Test Drive Unlimited 2\n",
      "2968   NaN\n",
      "3232   NaN\n",
      "7734   NaN\n",
      "Name: year_of_release, dtype: float64\n",
      "\n",
      "The Chronicles of Narnia: The Lion, The Witch and The Wardrobe\n",
      "3023    2005.0\n",
      "4482    2005.0\n",
      "6179    2005.0\n",
      "7598    2005.0\n",
      "8086    2005.0\n",
      "Name: year_of_release, dtype: float64\n",
      "\n",
      "LEGO Harry Potter: Years 5-7\n",
      "1608    2012.0\n",
      "2131    2012.0\n",
      "2272    2012.0\n",
      "3080    2012.0\n",
      "4817    2012.0\n",
      "6475    2012.0\n",
      "7209    2012.0\n",
      "8058    2012.0\n",
      "Name: year_of_release, dtype: float64\n",
      "\n",
      "Monster Hunter 2\n",
      "3186   NaN\n",
      "Name: year_of_release, dtype: float64\n",
      "\n",
      "Metal Gear Solid 2: Substance\n",
      "3222    2002.0\n",
      "3829    2002.0\n",
      "Name: year_of_release, dtype: float64\n",
      "\n",
      "Test Drive Unlimited 2\n",
      "2968   NaN\n",
      "3232   NaN\n",
      "7734   NaN\n",
      "Name: year_of_release, dtype: float64\n",
      "\n",
      "Advance Wars: Days of Ruin\n",
      "3288   NaN\n",
      "Name: year_of_release, dtype: float64\n",
      "\n",
      "The Golden Compass\n",
      "3350    2007.0\n",
      "3351    2007.0\n",
      "3825    2007.0\n",
      "4271    2007.0\n",
      "5069    2007.0\n",
      "6107    2007.0\n",
      "Name: year_of_release, dtype: float64\n",
      "\n",
      "Madden NFL 06\n",
      "213     2005.0\n",
      "930     2005.0\n",
      "2735    2005.0\n",
      "3412    2005.0\n",
      "3505    2005.0\n",
      "7014    2005.0\n",
      "9734    2005.0\n",
      "Name: year_of_release, dtype: float64\n",
      "\n",
      "NASCAR: Dirt to Daytona\n",
      "3458     2002.0\n",
      "10998    2002.0\n",
      "Name: year_of_release, dtype: float64\n",
      "\n",
      "Madden NFL 2002\n",
      "452     2001.0\n",
      "1386    2001.0\n",
      "3313    2001.0\n",
      "3485    2001.0\n",
      "4473    2001.0\n",
      "5659    2001.0\n",
      "Name: year_of_release, dtype: float64\n",
      "\n",
      "Def Jam: Fight for NY\n",
      "997     2004.0\n",
      "3703    2004.0\n",
      "7124    2004.0\n",
      "Name: year_of_release, dtype: float64\n",
      "\n",
      "NBA Street Vol. 2\n",
      "876     2003.0\n",
      "2971    2003.0\n",
      "3738    2003.0\n",
      "Name: year_of_release, dtype: float64\n",
      "\n",
      "Fishing Derby\n",
      "3882   NaN\n",
      "Name: year_of_release, dtype: float64\n",
      "\n",
      "Wet\n",
      "3277    2009.0\n",
      "3996    2009.0\n",
      "Name: year_of_release, dtype: float64\n",
      "\n",
      "Sonic the Hedgehog\n",
      "257     1991.0\n",
      "1744    2006.0\n",
      "1995    2006.0\n",
      "4126    2006.0\n",
      "Name: year_of_release, dtype: float64\n",
      "\n",
      "Karate\n",
      "4131   NaN\n",
      "Name: year_of_release, dtype: float64\n",
      "\n",
      "Tiger Woods PGA Tour 07\n",
      "2833    2006.0\n",
      "3946    2006.0\n",
      "4093    2006.0\n",
      "4204    2006.0\n",
      "6326    2006.0\n",
      "7963    2006.0\n",
      "Name: year_of_release, dtype: float64\n",
      "\n",
      "Circus Atari\n",
      "4219   NaN\n",
      "Name: year_of_release, dtype: float64\n",
      "\n",
      "The Chronicles of Riddick: Escape from Butcher Bay\n",
      "4293   NaN\n",
      "Name: year_of_release, dtype: float64\n",
      "\n",
      "Maze Craze: A Game of Cops 'n Robbers\n",
      "4336   NaN\n",
      "Name: year_of_release, dtype: float64\n",
      "\n",
      "Silent Hill: Homecoming\n",
      "4372   NaN\n",
      "4958   NaN\n",
      "Name: year_of_release, dtype: float64\n",
      "\n",
      "Super Breakout\n",
      "4436   NaN\n",
      "Name: year_of_release, dtype: float64\n",
      "\n",
      "Robert Ludlum's The Bourne Conspiracy\n",
      "4444   NaN\n",
      "4944   NaN\n",
      "Name: year_of_release, dtype: float64\n",
      "\n",
      "NHL Slapshot\n",
      "4634   NaN\n",
      "Name: year_of_release, dtype: float64\n",
      "\n",
      "TERA\n",
      "4647   NaN\n",
      "Name: year_of_release, dtype: float64\n",
      "\n",
      "NFL GameDay 2003\n",
      "4774    2002.0\n",
      "Name: year_of_release, dtype: float64\n",
      "\n",
      "LEGO Harry Potter: Years 5-7\n",
      "1608    2012.0\n",
      "2131    2012.0\n",
      "2272    2012.0\n",
      "3080    2012.0\n",
      "4817    2012.0\n",
      "6475    2012.0\n",
      "7209    2012.0\n",
      "8058    2012.0\n",
      "Name: year_of_release, dtype: float64\n",
      "\n",
      "Harvest Moon: Save the Homeland\n",
      "4847   NaN\n",
      "Name: year_of_release, dtype: float64\n",
      "\n",
      "Robert Ludlum's The Bourne Conspiracy\n",
      "4444   NaN\n",
      "4944   NaN\n",
      "Name: year_of_release, dtype: float64\n",
      "\n",
      "Silent Hill: Homecoming\n",
      "4372   NaN\n",
      "4958   NaN\n",
      "Name: year_of_release, dtype: float64\n",
      "\n",
      "Hangman\n",
      "5040   NaN\n",
      "Name: year_of_release, dtype: float64\n",
      "\n",
      "The Golden Compass\n",
      "3350    2007.0\n",
      "3351    2007.0\n",
      "3825    2007.0\n",
      "4271    2007.0\n",
      "5069    2007.0\n",
      "6107    2007.0\n",
      "Name: year_of_release, dtype: float64\n",
      "\n",
      "NBA Live 2003\n",
      "1103    2002.0\n",
      "5155    2002.0\n",
      "5888    2002.0\n",
      "Name: year_of_release, dtype: float64\n",
      "\n",
      "Cubix Robots for Everyone: Clash 'n' Bash\n",
      "5193   NaN\n",
      "Name: year_of_release, dtype: float64\n",
      "\n",
      "Dragon Ball Z: Budokai Tenkaichi 2 (JP sales)\n",
      "5293   NaN\n",
      "Name: year_of_release, dtype: float64\n",
      "\n",
      "Tropico 4\n",
      "5325    2011.0\n",
      "6378    2011.0\n",
      "Name: year_of_release, dtype: float64\n",
      "\n",
      "Tomb Raider (2013)\n",
      "646     2013.0\n",
      "909     2013.0\n",
      "1383    2014.0\n",
      "3308    2014.0\n",
      "5335    2013.5\n",
      "Name: year_of_release, dtype: float64\n",
      "\n",
      "Bejeweled 3\n",
      "5442     2010.0\n",
      "9042     2010.0\n",
      "9217     2010.0\n",
      "11351    2010.0\n",
      "Name: year_of_release, dtype: float64\n",
      "\n",
      "Custom Robo\n",
      "5111    2004.0\n",
      "5491    2004.0\n",
      "Name: year_of_release, dtype: float64\n",
      "\n",
      "Final Fantasy XI\n",
      "5587    2006.0\n",
      "7784    2006.0\n",
      "Name: year_of_release, dtype: float64\n",
      "\n",
      "Singularity\n",
      "5623     2010.0\n",
      "6860     2010.0\n",
      "13264    2010.0\n",
      "Name: year_of_release, dtype: float64\n",
      "\n",
      "Dragster\n",
      "5641   NaN\n",
      "Name: year_of_release, dtype: float64\n",
      "\n",
      "All-Star Baseball 2005\n",
      "5654    2004.0\n",
      "8917    2004.0\n",
      "Name: year_of_release, dtype: float64\n",
      "\n",
      "Star Wars Jedi Knight II: Jedi Outcast\n",
      "5768    2002.0\n",
      "6983    2002.0\n",
      "Name: year_of_release, dtype: float64\n",
      "\n",
      "Slot Machine\n",
      "5799   NaN\n",
      "Name: year_of_release, dtype: float64\n",
      "\n",
      "The Dukes of Hazzard II: Daisy Dukes It Out\n",
      "5856   NaN\n",
      "Name: year_of_release, dtype: float64\n",
      "\n",
      "Harvest Moon: The Tale of Two Towns\n",
      "3616    2010.0\n",
      "5873    2010.0\n",
      "Name: year_of_release, dtype: float64\n",
      "\n",
      "NBA Live 2003\n",
      "1103    2002.0\n",
      "5155    2002.0\n",
      "5888    2002.0\n",
      "Name: year_of_release, dtype: float64\n",
      "\n",
      "Shrek the Third\n",
      "2964    2007.0\n",
      "4072    2007.0\n",
      "5696    2007.0\n",
      "5931    2007.0\n",
      "6136    2007.0\n",
      "Name: year_of_release, dtype: float64\n",
      "\n",
      "Nicktoons: Battle for Volcano Island\n",
      "5958    2006.0\n",
      "6018    2006.0\n",
      "Name: year_of_release, dtype: float64\n",
      "\n",
      "Haven: Call of the King\n",
      "6100   NaN\n",
      "Name: year_of_release, dtype: float64\n",
      "\n",
      "Unreal Championship 2: The Liandri Conflict\n",
      "6132   NaN\n",
      "Name: year_of_release, dtype: float64\n",
      "\n",
      "The Chronicles of Narnia: The Lion, The Witch and The Wardrobe\n",
      "3023    2005.0\n",
      "4482    2005.0\n",
      "6179    2005.0\n",
      "7598    2005.0\n",
      "8086    2005.0\n",
      "Name: year_of_release, dtype: float64\n",
      "\n",
      "Pac-Man Fever\n",
      "3883    2001.0\n",
      "6198    2001.0\n",
      "Name: year_of_release, dtype: float64\n",
      "\n",
      "The Legend of Zelda: The Minish Cap(weekly JP sales)\n",
      "6254   NaN\n",
      "Name: year_of_release, dtype: float64\n",
      "\n",
      "Indy 500\n",
      "6265   NaN\n",
      "Name: year_of_release, dtype: float64\n",
      "\n",
      "Disgaea 3: Absence of Detention\n",
      "6292   NaN\n",
      "Name: year_of_release, dtype: float64\n",
      "\n",
      "Flag Capture\n",
      "6298   NaN\n",
      "Name: year_of_release, dtype: float64\n",
      "\n",
      "Gun\n",
      "1718    2005.0\n",
      "3853    2005.0\n",
      "6341    2005.0\n",
      "8111    2005.0\n",
      "Name: year_of_release, dtype: float64\n",
      "\n",
      "Rock Revolution\n",
      "6276     2008.0\n",
      "6355     2008.0\n",
      "10410    2008.0\n",
      "11564    2008.0\n",
      "Name: year_of_release, dtype: float64\n",
      "\n",
      "LEGO Harry Potter: Years 5-7\n",
      "1608    2012.0\n",
      "2131    2012.0\n",
      "2272    2012.0\n",
      "3080    2012.0\n",
      "4817    2012.0\n",
      "6475    2012.0\n",
      "7209    2012.0\n",
      "8058    2012.0\n",
      "Name: year_of_release, dtype: float64\n",
      "\n",
      "College Hoops 2K6\n",
      "6623     2005.5\n",
      "9830     2006.0\n",
      "10681    2005.0\n",
      "Name: year_of_release, dtype: float64\n",
      "\n",
      "Jonah Lomu Rugby Challenge\n",
      "5781     2011.0\n",
      "6635     2011.0\n",
      "13432    2011.0\n",
      "Name: year_of_release, dtype: float64\n",
      "\n",
      "Mega Man X Collection\n",
      "6772    2006.0\n",
      "9629    2006.0\n",
      "Name: year_of_release, dtype: float64\n",
      "\n",
      "BioShock 2\n",
      "743     2010.0\n",
      "1210    2010.0\n",
      "6817    2010.0\n",
      "Name: year_of_release, dtype: float64\n",
      "\n",
      "Singularity\n",
      "5623     2010.0\n",
      "6860     2010.0\n",
      "13264    2010.0\n",
      "Name: year_of_release, dtype: float64\n",
      "\n",
      "Danganronpa: Trigger Happy Havoc\n",
      "5524    2013.0\n",
      "6898    2013.0\n",
      "Name: year_of_release, dtype: float64\n",
      "\n",
      "Jet X20\n",
      "6953   NaN\n",
      "Name: year_of_release, dtype: float64\n",
      "\n",
      "Tony Hawk's Downhill Jam\n",
      "6998    2006.0\n",
      "7188    2006.0\n",
      "Name: year_of_release, dtype: float64\n",
      "\n",
      "Tribes: Aerial Assault\n",
      "7007   NaN\n",
      "Name: year_of_release, dtype: float64\n",
      "\n",
      "Big Beach Sports 2\n",
      "7107   NaN\n",
      "Name: year_of_release, dtype: float64\n",
      "\n",
      "LEGO Harry Potter: Years 5-7\n",
      "1608    2012.0\n",
      "2131    2012.0\n",
      "2272    2012.0\n",
      "3080    2012.0\n",
      "4817    2012.0\n",
      "6475    2012.0\n",
      "7209    2012.0\n",
      "8058    2012.0\n",
      "Name: year_of_release, dtype: float64\n",
      "\n",
      "Yu Yu Hakusho: Dark Tournament\n",
      "7331   NaN\n",
      "Name: year_of_release, dtype: float64\n",
      "\n",
      "Ghostbusters II\n",
      "7352   NaN\n",
      "Name: year_of_release, dtype: float64\n",
      "\n",
      "Breakaway IV\n",
      "7353   NaN\n",
      "Name: year_of_release, dtype: float64\n",
      "\n",
      "Robotech: Battlecry\n",
      "3285    2002.0\n",
      "7366    2002.0\n",
      "8483    2002.0\n",
      "Name: year_of_release, dtype: float64\n",
      "\n",
      "Move Fitness\n",
      "7386   NaN\n",
      "Name: year_of_release, dtype: float64\n",
      "\n",
      "Valkyria Chronicles III: Unrecorded Chronicles\n",
      "7390   NaN\n",
      "Name: year_of_release, dtype: float64\n",
      "\n",
      "DanceDanceRevolution II\n",
      "7405   NaN\n",
      "Name: year_of_release, dtype: float64\n",
      "\n",
      "WRC: FIA World Rally Championship\n",
      "7583     2005.0\n",
      "9826     2005.0\n",
      "14232    2005.0\n",
      "16178    2005.0\n",
      "Name: year_of_release, dtype: float64\n",
      "\n",
      "Famista 64\n",
      "7604   NaN\n",
      "Name: year_of_release, dtype: float64\n",
      "\n",
      "Dead Space 3\n",
      "2106    2013.0\n",
      "2137    2013.0\n",
      "7723    2013.0\n",
      "Name: year_of_release, dtype: float64\n",
      "\n",
      "Test Drive Unlimited 2\n",
      "2968   NaN\n",
      "3232   NaN\n",
      "7734   NaN\n",
      "Name: year_of_release, dtype: float64\n",
      "\n",
      "Pet Zombies\n",
      "7847   NaN\n",
      "Name: year_of_release, dtype: float64\n",
      "\n",
      "Star Trek: Legacy\n",
      "8022     2006.0\n",
      "15969    2006.0\n",
      "Name: year_of_release, dtype: float64\n",
      "\n",
      "Backbreaker\n",
      "8066   NaN\n",
      "8259   NaN\n",
      "Name: year_of_release, dtype: float64\n",
      "\n",
      "Twisted Metal: Small Brawl\n",
      "8149   NaN\n",
      "Name: year_of_release, dtype: float64\n",
      "\n",
      "Otomedius Excellent\n",
      "8150   NaN\n",
      "Name: year_of_release, dtype: float64\n",
      "\n",
      "NBA Starting Five\n",
      "8196     2002.0\n",
      "15040    2002.0\n",
      "Name: year_of_release, dtype: float64\n",
      "\n",
      "Teen Titans\n",
      "5529    2006.0\n",
      "6586    2006.0\n",
      "8211    2006.0\n",
      "Name: year_of_release, dtype: float64\n",
      "\n",
      "Trauma Team\n",
      "8249   NaN\n",
      "Name: year_of_release, dtype: float64\n",
      "\n",
      "Backbreaker\n",
      "8066   NaN\n",
      "8259   NaN\n",
      "Name: year_of_release, dtype: float64\n",
      "\n",
      "James Cameron's Dark Angel\n",
      "8318     2002.0\n",
      "11936    2002.0\n",
      "Name: year_of_release, dtype: float64\n",
      "\n",
      "Sword of the Samurai\n",
      "8363   NaN\n",
      "Name: year_of_release, dtype: float64\n",
      "\n",
      "Splatterhouse\n",
      "8145    2010.0\n",
      "8499    2010.0\n",
      "Name: year_of_release, dtype: float64\n",
      "\n",
      "Alone in the Dark: The New Nightmare\n",
      "8546   NaN\n",
      "Name: year_of_release, dtype: float64\n",
      "\n",
      "Vegas Party\n",
      "8631   NaN\n",
      "Name: year_of_release, dtype: float64\n",
      "\n",
      "Jurassic Park: The Game\n",
      "8679   NaN\n",
      "Name: year_of_release, dtype: float64\n",
      "\n",
      "Home Run\n",
      "8739   NaN\n",
      "Name: year_of_release, dtype: float64\n",
      "\n",
      "eJay Clubworld\n",
      "8883   NaN\n",
      "Name: year_of_release, dtype: float64\n",
      "\n",
      "All-Star Baseball 2005\n",
      "5654    2004.0\n",
      "8917    2004.0\n",
      "Name: year_of_release, dtype: float64\n",
      "\n",
      "Bejeweled 3\n",
      "5442     2010.0\n",
      "9042     2010.0\n",
      "9217     2010.0\n",
      "11351    2010.0\n",
      "Name: year_of_release, dtype: float64\n",
      "\n",
      "Our House Party!\n",
      "9118   NaN\n",
      "Name: year_of_release, dtype: float64\n",
      "\n",
      "WCW Backstage Assault\n",
      "7321    1999.0\n",
      "9150    1999.0\n",
      "Name: year_of_release, dtype: float64\n",
      "\n",
      "Bejeweled 3\n",
      "5442     2010.0\n",
      "9042     2010.0\n",
      "9217     2010.0\n",
      "11351    2010.0\n",
      "Name: year_of_release, dtype: float64\n",
      "\n",
      "Disney's Cinderella: Magical Dreams\n",
      "9292   NaN\n",
      "Name: year_of_release, dtype: float64\n",
      "\n",
      "Transworld Surf\n",
      "7869    2002.0\n",
      "9379    2002.0\n",
      "Name: year_of_release, dtype: float64\n",
      "\n",
      "Street Fighter IV\n",
      "280     2009.0\n",
      "490     2009.0\n",
      "9484    2009.0\n",
      "Name: year_of_release, dtype: float64\n",
      "\n",
      "Nintendo Puzzle Collection\n",
      "9515   NaN\n",
      "Name: year_of_release, dtype: float64\n",
      "\n",
      "Charm Girls Club: My Fashion Mall\n",
      "9663   NaN\n",
      "Name: year_of_release, dtype: float64\n",
      "\n",
      "Record of Agarest War Zero\n",
      "9702     2010.0\n",
      "10605    2010.0\n",
      "Name: year_of_release, dtype: float64\n",
      "\n",
      "Rocksmith\n",
      "1823    2011.0\n",
      "1826    2011.0\n",
      "9705    2011.0\n",
      "Name: year_of_release, dtype: float64\n",
      "\n",
      "Super Robot Wars OG Saga: Masou Kishin II - Revelation of Evil God\n",
      "9737   NaN\n",
      "Name: year_of_release, dtype: float64\n",
      "\n",
      "Saru! Get You! Million Monkeys\n",
      "9760   NaN\n",
      "Name: year_of_release, dtype: float64\n",
      "\n",
      "Street Hoops\n",
      "2265    2002.0\n",
      "6101    2002.0\n",
      "9816    2002.0\n",
      "Name: year_of_release, dtype: float64\n",
      "\n",
      "WRC: FIA World Rally Championship\n",
      "7583     2005.0\n",
      "9826     2005.0\n",
      "14232    2005.0\n",
      "16178    2005.0\n",
      "Name: year_of_release, dtype: float64\n",
      "\n",
      "Godzilla: Destroy All Monsters Melee\n",
      "2871    2002.0\n",
      "9829    2002.0\n",
      "Name: year_of_release, dtype: float64\n",
      "\n",
      "The Daring Game for Girls\n",
      "9854    NaN\n",
      "10992   NaN\n",
      "Name: year_of_release, dtype: float64\n",
      "\n",
      "Major League Baseball 2K6\n",
      "4377    2006.0\n",
      "5078    2006.0\n",
      "5541    2006.0\n",
      "8226    2006.0\n",
      "9875    2006.0\n",
      "Name: year_of_release, dtype: float64\n",
      "\n",
      "Star Trek: Conquest\n",
      "9728     2007.0\n",
      "10049    2007.0\n",
      "Name: year_of_release, dtype: float64\n",
      "\n",
      "GiFTPiA\n",
      "10257   NaN\n",
      "Name: year_of_release, dtype: float64\n",
      "\n",
      "Happy Feet Two\n",
      "10116    2011.0\n",
      "10316    2011.0\n",
      "10685    2011.0\n",
      "10789    2011.0\n",
      "11621    2011.0\n",
      "Name: year_of_release, dtype: float64\n",
      "\n",
      "Disney's Chicken Little: Ace In Action\n",
      "10464    2006.0\n",
      "12298    2006.0\n",
      "Name: year_of_release, dtype: float64\n",
      "\n",
      "Atsumare! Power Pro Kun no DS Koushien\n",
      "10485   NaN\n",
      "Name: year_of_release, dtype: float64\n",
      "\n",
      "My Healthy Cooking Coach\n",
      "10611   NaN\n",
      "Name: year_of_release, dtype: float64\n",
      "\n",
      "Happy Feet Two\n",
      "10116    2011.0\n",
      "10316    2011.0\n",
      "10685    2011.0\n",
      "10789    2011.0\n",
      "11621    2011.0\n",
      "Name: year_of_release, dtype: float64\n",
      "\n",
      "Luminous Arc 2 (JP sales)\n",
      "10763   NaN\n",
      "Name: year_of_release, dtype: float64\n",
      "\n",
      "Happy Feet Two\n",
      "10116    2011.0\n",
      "10316    2011.0\n",
      "10685    2011.0\n",
      "10789    2011.0\n",
      "11621    2011.0\n",
      "Name: year_of_release, dtype: float64\n",
      "\n",
      "Egg Monster Hero\n",
      "10836   NaN\n",
      "Name: year_of_release, dtype: float64\n",
      "\n",
      "The Daring Game for Girls\n",
      "9854    NaN\n",
      "10992   NaN\n",
      "Name: year_of_release, dtype: float64\n",
      "\n",
      "Demon Chaos\n",
      "10999   NaN\n",
      "Name: year_of_release, dtype: float64\n",
      "\n",
      "Samurai Shodown Anthology\n",
      "8829     2008.0\n",
      "11015    2008.0\n",
      "12740    2008.0\n",
      "Name: year_of_release, dtype: float64\n",
      "\n",
      "Action Man-Operation Extreme\n",
      "11091   NaN\n",
      "Name: year_of_release, dtype: float64\n",
      "\n",
      "Super Puzzle Fighter II\n",
      "11118   NaN\n",
      "Name: year_of_release, dtype: float64\n",
      "\n",
      "Charm Girls Club: My Fashion Show\n",
      "11337   NaN\n",
      "Name: year_of_release, dtype: float64\n",
      "\n",
      "Face Racers: Photo Finish\n",
      "11376   NaN\n",
      "Name: year_of_release, dtype: float64\n",
      "\n",
      "Zero: Tsukihami no Kamen\n",
      "11432   NaN\n",
      "Name: year_of_release, dtype: float64\n",
      "\n",
      "The Hidden\n",
      "11454   NaN\n",
      "Name: year_of_release, dtype: float64\n",
      "\n",
      "Get Fit with Mel B\n",
      "5028     2010.0\n",
      "11395    2010.0\n",
      "11549    2010.0\n",
      "Name: year_of_release, dtype: float64\n",
      "\n",
      "Rock Revolution\n",
      "6276     2008.0\n",
      "6355     2008.0\n",
      "10410    2008.0\n",
      "11564    2008.0\n",
      "Name: year_of_release, dtype: float64\n",
      "\n",
      "Happy Feet Two\n",
      "10116    2011.0\n",
      "10316    2011.0\n",
      "10685    2011.0\n",
      "10789    2011.0\n",
      "11621    2011.0\n",
      "Name: year_of_release, dtype: float64\n",
      "\n",
      "Mega Man Battle Network: Operation Shooting Star\n",
      "11789   NaN\n",
      "Name: year_of_release, dtype: float64\n",
      "\n",
      "Smashing Drive\n",
      "11831    2003.0\n",
      "14049    2002.0\n",
      "14557    2004.0\n",
      "Name: year_of_release, dtype: float64\n",
      "\n",
      "Port Royale 3\n",
      "11924   NaN\n",
      "12220   NaN\n",
      "Name: year_of_release, dtype: float64\n",
      "\n",
      "Dream Trigger 3D\n",
      "11942   NaN\n",
      "Name: year_of_release, dtype: float64\n",
      "\n",
      "Dead Island: Riptide\n",
      "2624     2013.0\n",
      "3332     2013.0\n",
      "11953    2013.0\n",
      "Name: year_of_release, dtype: float64\n",
      "\n",
      "Yoostar on MTV\n",
      "11956   NaN\n",
      "Name: year_of_release, dtype: float64\n",
      "\n",
      "Tornado\n",
      "12002   NaN\n",
      "Name: year_of_release, dtype: float64\n",
      "\n",
      "McFarlane's Evil Prophecy\n",
      "12010   NaN\n",
      "Name: year_of_release, dtype: float64\n",
      "\n",
      "Drake of the 99 Dragons\n",
      "12045   NaN\n",
      "Name: year_of_release, dtype: float64\n",
      "\n",
      "Build-A-Bear Workshop: Friendship Valley\n",
      "12208   NaN\n",
      "Name: year_of_release, dtype: float64\n",
      "\n",
      "Rayman Arena\n",
      "3342     2001.0\n",
      "9229     2002.0\n",
      "12216    2001.5\n",
      "Name: year_of_release, dtype: float64\n",
      "\n",
      "Port Royale 3\n",
      "11924   NaN\n",
      "12220   NaN\n",
      "Name: year_of_release, dtype: float64\n",
      "\n",
      "National Geographic Challenge!\n",
      "10843    2011.0\n",
      "12234    2011.0\n",
      "13723    2011.0\n",
      "Name: year_of_release, dtype: float64\n",
      "\n",
      "Alex Rider: Stormbreaker\n",
      "12240   NaN\n",
      "Name: year_of_release, dtype: float64\n",
      "\n",
      "Chou Soujuu Mecha MG\n",
      "12523   NaN\n",
      "Name: year_of_release, dtype: float64\n",
      "\n",
      "Prinny: Can I Really Be The Hero? (US sales)\n",
      "12567   NaN\n",
      "Name: year_of_release, dtype: float64\n",
      "\n",
      "Combat Elite: WWII Paratroopers\n",
      "12583   NaN\n",
      "14544   NaN\n",
      "Name: year_of_release, dtype: float64\n",
      "\n",
      "Flip's Twisted World\n",
      "12717   NaN\n",
      "Name: year_of_release, dtype: float64\n",
      "\n",
      "Mobile Ops: The One Year War\n",
      "12733   NaN\n",
      "Name: year_of_release, dtype: float64\n",
      "\n",
      "Tom Clancy's Rainbow Six: Critical Hour\n",
      "12783   NaN\n",
      "Name: year_of_release, dtype: float64\n",
      "\n",
      "Jewel Link Chronicles: Mountains of Madness\n",
      "12879   NaN\n",
      "Name: year_of_release, dtype: float64\n",
      "\n",
      "Captain America: Super Soldier\n",
      "7748     2011.0\n",
      "8304     2011.0\n",
      "11325    2011.0\n",
      "12895    2011.0\n",
      "13059    2011.0\n",
      "Name: year_of_release, dtype: float64\n",
      "\n",
      "Mountain Bike Adrenaline\n",
      "12958   NaN\n",
      "Name: year_of_release, dtype: float64\n",
      "\n",
      "Drill Dozer\n",
      "12969   NaN\n",
      "Name: year_of_release, dtype: float64\n",
      "\n",
      "Captain America: Super Soldier\n",
      "7748     2011.0\n",
      "8304     2011.0\n",
      "11325    2011.0\n",
      "12895    2011.0\n",
      "13059    2011.0\n",
      "Name: year_of_release, dtype: float64\n",
      "\n",
      "GRID\n",
      "1867     2008.0\n",
      "2395     2008.0\n",
      "13141    2008.0\n",
      "13780    2008.0\n",
      "Name: year_of_release, dtype: float64\n",
      "\n",
      "Tour de France 2011\n",
      "13194    2010.0\n",
      "Name: year_of_release, dtype: float64\n",
      "\n",
      "Reader Rabbit 2nd Grade\n",
      "13288   NaN\n",
      "Name: year_of_release, dtype: float64\n",
      "\n",
      "Monster Hunter Frontier Online\n",
      "9533     2010.0\n",
      "13316    2010.0\n",
      "Name: year_of_release, dtype: float64\n",
      "\n",
      "RollerCoaster Tycoon\n",
      "9488     2003.0\n",
      "13563    2003.0\n",
      "Name: year_of_release, dtype: float64\n",
      "\n",
      "Battle vs. Chess\n",
      "13608    2011.0\n",
      "14744    2011.0\n",
      "14763    2011.0\n",
      "Name: year_of_release, dtype: float64\n",
      "\n",
      "The History Channel: Great Battles - Medieval\n",
      "9634     2010.0\n",
      "13646    2010.0\n",
      "Name: year_of_release, dtype: float64\n",
      "\n",
      "Clockwork Empires\n",
      "13671   NaN\n",
      "Name: year_of_release, dtype: float64\n",
      "\n",
      "B.L.U.E.: Legend of Water\n",
      "13710   NaN\n",
      "Name: year_of_release, dtype: float64\n",
      "\n",
      "GRID\n",
      "1867     2008.0\n",
      "2395     2008.0\n",
      "13141    2008.0\n",
      "13780    2008.0\n",
      "Name: year_of_release, dtype: float64\n",
      "\n",
      "NHL Hitz Pro\n",
      "7798     2003.0\n",
      "12271    2003.0\n",
      "13791    2003.0\n",
      "Name: year_of_release, dtype: float64\n",
      "\n",
      "Luxor: Pharaoh's Challenge\n",
      "13873    2007.0\n",
      "16566    2007.0\n",
      "Name: year_of_release, dtype: float64\n",
      "\n",
      "Sega Rally 2006\n",
      "13928    2005.0\n",
      "Name: year_of_release, dtype: float64\n",
      "\n",
      "Half-Minute Hero 2\n",
      "14104   NaN\n",
      "Name: year_of_release, dtype: float64\n",
      "\n",
      "Housekeeping\n",
      "14125   NaN\n",
      "Name: year_of_release, dtype: float64\n",
      "\n",
      "Major League Baseball 2K8\n",
      "3301     2008.0\n",
      "5771     2008.0\n",
      "8906     2008.0\n",
      "9266     2008.0\n",
      "14140    2008.0\n",
      "Name: year_of_release, dtype: float64\n",
      "\n",
      "Sabre Wulf\n",
      "14209   NaN\n",
      "Name: year_of_release, dtype: float64\n",
      "\n",
      "Swords\n",
      "14250   NaN\n",
      "Name: year_of_release, dtype: float64\n",
      "\n",
      "Beyond the Labyrinth\n",
      "14323   NaN\n",
      "Name: year_of_release, dtype: float64\n",
      "\n",
      "Bikkuriman Daijiten\n",
      "14348   NaN\n",
      "Name: year_of_release, dtype: float64\n",
      "\n",
      "Majesty 2: The Fantasy Kingdom Sim\n",
      "14367    2009.0\n",
      "15959    2009.0\n",
      "Name: year_of_release, dtype: float64\n",
      "\n",
      "Fullmetal Alchemist: Brotherhood\n",
      "14447   NaN\n",
      "Name: year_of_release, dtype: float64\n",
      "\n",
      "Combat Elite: WWII Paratroopers\n",
      "12583   NaN\n",
      "14544   NaN\n",
      "Name: year_of_release, dtype: float64\n",
      "\n",
      "Samurai Spirits: Tenkaichi Kenkakuden\n",
      "14595   NaN\n",
      "Name: year_of_release, dtype: float64\n",
      "\n",
      "World of Tanks\n",
      "6076     2011.0\n",
      "14683    2011.0\n",
      "Name: year_of_release, dtype: float64\n",
      "\n",
      "Battle vs. Chess\n",
      "13608    2011.0\n",
      "14744    2011.0\n",
      "14763    2011.0\n",
      "Name: year_of_release, dtype: float64\n",
      "\n",
      "Tom and Jerry in War of the Whiskers\n",
      "6476     2002.0\n",
      "12099    2003.0\n",
      "14747    2002.5\n",
      "Name: year_of_release, dtype: float64\n",
      "\n",
      "Super Duper Sumos\n",
      "14767   NaN\n",
      "Name: year_of_release, dtype: float64\n",
      "\n",
      "The King of Fighters: Maximum Impact - Maniax\n",
      "14929   NaN\n",
      "Name: year_of_release, dtype: float64\n",
      "\n",
      "Combat Wings: The Great Battles of WWII\n",
      "14948   NaN\n",
      "Name: year_of_release, dtype: float64\n",
      "\n",
      "Tube Slider\n",
      "15004   NaN\n",
      "Name: year_of_release, dtype: float64\n",
      "\n",
      "Umineko no Naku Koro ni San: Shinjitsu to Gensou no Yasoukyoku\n",
      "15020   NaN\n",
      "Name: year_of_release, dtype: float64\n",
      "\n",
      "Payout Poker & Casino\n",
      "15077   NaN\n",
      "Name: year_of_release, dtype: float64\n",
      "\n",
      "Wii de Asobu: Metroid Prime\n",
      "15079   NaN\n",
      "Name: year_of_release, dtype: float64\n",
      "\n",
      "Legacy of Ys: Books I & II\n",
      "15117   NaN\n",
      "Name: year_of_release, dtype: float64\n",
      "\n",
      "Saint\n",
      "15265   NaN\n",
      "Name: year_of_release, dtype: float64\n",
      "\n",
      "Steal Princess\n",
      "15290   NaN\n",
      "Name: year_of_release, dtype: float64\n",
      "\n",
      "Mario Tennis\n",
      "682      2000.0\n",
      "1710     2000.0\n",
      "12179    2010.0\n",
      "15336    2000.0\n",
      "Name: year_of_release, dtype: float64\n",
      "\n",
      "Runaway: A Twist of Fate\n",
      "13564    2009.0\n",
      "15533    2009.0\n",
      "Name: year_of_release, dtype: float64\n",
      "\n",
      "Yu-Gi-Oh! 5D's Wheelie Breakers (JP sales)\n",
      "15555   NaN\n",
      "Name: year_of_release, dtype: float64\n",
      "\n",
      "Cabela's Alaskan Adventure\n",
      "9485     2006.0\n",
      "15673    2006.0\n",
      "Name: year_of_release, dtype: float64\n",
      "\n",
      "Writing and Speaking Beautiful Japanese DS\n",
      "15702   NaN\n",
      "Name: year_of_release, dtype: float64\n",
      "\n",
      "Virtua Quest\n",
      "15752   NaN\n",
      "16520   NaN\n",
      "Name: year_of_release, dtype: float64\n",
      "\n",
      "Shonen Jump's Yu-Gi-Oh! GX Card Almanac\n",
      "15793   NaN\n",
      "Name: year_of_release, dtype: float64\n",
      "\n",
      "Without Warning\n",
      "14051    2005.0\n",
      "15814    2005.0\n",
      "Name: year_of_release, dtype: float64\n",
      "\n",
      "PDC World Championship Darts 2008\n",
      "6916     2008.0\n",
      "15951    2008.0\n",
      "16371    2008.0\n",
      "Name: year_of_release, dtype: float64\n",
      "\n",
      "Dinotopia: The Sunstone Odyssey\n",
      "15964    2003.0\n",
      "16440    2003.0\n",
      "Name: year_of_release, dtype: float64\n",
      "\n",
      "Jet Impulse\n",
      "15996   NaN\n",
      "Name: year_of_release, dtype: float64\n",
      "\n",
      "Dream Dancer\n",
      "16015   NaN\n",
      "Name: year_of_release, dtype: float64\n",
      "\n",
      "Dance! It's Your Stage\n",
      "15512    2011.0\n",
      "16057    2011.0\n",
      "Name: year_of_release, dtype: float64\n",
      "\n",
      "Football Manager 2007\n",
      "16077    2006.0\n",
      "Name: year_of_release, dtype: float64\n",
      "\n",
      "Ferrari: The Race Experience\n",
      "16078   NaN\n",
      "Name: year_of_release, dtype: float64\n",
      "\n",
      "Aquaman: Battle for Atlantis\n",
      "16155    2003.0\n",
      "16351    2003.0\n",
      "Name: year_of_release, dtype: float64\n",
      "\n",
      "WRC: FIA World Rally Championship\n",
      "7583     2005.0\n",
      "9826     2005.0\n",
      "14232    2005.0\n",
      "16178    2005.0\n",
      "Name: year_of_release, dtype: float64\n",
      "\n",
      "Homeworld Remastered Collection\n",
      "16275   NaN\n",
      "Name: year_of_release, dtype: float64\n",
      "\n",
      "Shorts\n",
      "16286   NaN\n",
      "Name: year_of_release, dtype: float64\n",
      "\n",
      "AKB1/48: Idol to Guam de Koishitara...\n",
      "4799     2011.0\n",
      "16291    2011.0\n",
      "Name: year_of_release, dtype: float64\n",
      "\n",
      "Brothers in Arms: Furious 4\n",
      "12184    2012.0\n",
      "16327    2012.0\n",
      "Name: year_of_release, dtype: float64\n",
      "\n",
      "Agarest Senki: Re-appearance\n",
      "16346   NaN\n",
      "Name: year_of_release, dtype: float64\n",
      "\n",
      "PDC World Championship Darts 2008\n",
      "6916     2008.0\n",
      "15951    2008.0\n",
      "16371    2008.0\n",
      "Name: year_of_release, dtype: float64\n",
      "\n",
      "Freaky Flyers\n",
      "10550    2003.0\n",
      "14530    2003.0\n",
      "16403    2003.0\n",
      "Name: year_of_release, dtype: float64\n",
      "\n",
      "Inversion\n",
      "12145    2012.0\n",
      "12677    2012.0\n",
      "16446    2012.0\n",
      "Name: year_of_release, dtype: float64\n",
      "\n",
      "Hakuouki: Shinsengumi Kitan\n",
      "16456   NaN\n",
      "Name: year_of_release, dtype: float64\n",
      "\n",
      "Virtua Quest\n",
      "15752   NaN\n",
      "16520   NaN\n",
      "Name: year_of_release, dtype: float64\n",
      "\n"
     ]
    }
   ],
   "source": [
    "for name in names_before:\n",
    "        print('{0}\\n{1}\\n'.format(name, games[games['name']==name]['year_of_release']))"
   ]
  },
  {
   "cell_type": "markdown",
   "metadata": {},
   "source": [
    "Как мы видим, заполненные пропуски зачастую совпадают с годом, в котором вышла эта же игра на большинстве других устройств. Однако есть исключения: игры, у которых не указана дата - это могут быть как игры для определенных консолей, так и многоплатформенные. Конечно, и эти пропуски можно заполнить, поискав информацию в Интернете. Однако это отнимет много времени, а потеря 139 строчек в масштабе 16 тысяч - невеликая потеря - поэтому удалим их"
   ]
  },
  {
   "cell_type": "code",
   "execution_count": 19,
   "metadata": {},
   "outputs": [
    {
     "data": {
      "text/plain": [
       "name                  0\n",
       "platform              0\n",
       "year_of_release       0\n",
       "genre                 0\n",
       "na_sales              0\n",
       "eu_sales              0\n",
       "jp_sales              0\n",
       "other_sales           0\n",
       "critic_score       8495\n",
       "user_score         6636\n",
       "rating             6703\n",
       "dtype: int64"
      ]
     },
     "execution_count": 19,
     "metadata": {},
     "output_type": "execute_result"
    }
   ],
   "source": [
    "games = games.dropna(subset=['year_of_release'])\n",
    "games = games.drop('year_of_release_median', 1)\n",
    "games.isna().sum()"
   ]
  },
  {
   "cell_type": "markdown",
   "metadata": {},
   "source": [
    "Возрастной рейтинг игры заполним также: найдем рейтинг этой игры, который будет указан для этой игры только на другой платформе (обычно эти значения не отличаются для версий на разных устройствах)"
   ]
  },
  {
   "cell_type": "code",
   "execution_count": 20,
   "metadata": {},
   "outputs": [
    {
     "name": "stdout",
     "output_type": "stream",
     "text": [
      "<class 'pandas.core.frame.DataFrame'>\n",
      "Index: 6000 entries,  Tales of Xillia 2 to uDraw Studio: Instant Artist\n",
      "Data columns (total 1 columns):\n",
      "rating_by_name    6000 non-null object\n",
      "dtypes: object(1)\n",
      "memory usage: 93.8+ KB\n"
     ]
    },
    {
     "data": {
      "text/plain": [
       "None"
      ]
     },
     "metadata": {},
     "output_type": "display_data"
    },
    {
     "data": {
      "text/html": [
       "<div>\n",
       "<style scoped>\n",
       "    .dataframe tbody tr th:only-of-type {\n",
       "        vertical-align: middle;\n",
       "    }\n",
       "\n",
       "    .dataframe tbody tr th {\n",
       "        vertical-align: top;\n",
       "    }\n",
       "\n",
       "    .dataframe thead th {\n",
       "        text-align: right;\n",
       "    }\n",
       "</style>\n",
       "<table border=\"1\" class=\"dataframe\">\n",
       "  <thead>\n",
       "    <tr style=\"text-align: right;\">\n",
       "      <th></th>\n",
       "      <th>rating_by_name</th>\n",
       "    </tr>\n",
       "    <tr>\n",
       "      <th>name</th>\n",
       "      <th></th>\n",
       "    </tr>\n",
       "  </thead>\n",
       "  <tbody>\n",
       "    <tr>\n",
       "      <td>Tales of Xillia 2</td>\n",
       "      <td>T</td>\n",
       "    </tr>\n",
       "    <tr>\n",
       "      <td>.hack//Infection Part 1</td>\n",
       "      <td>T</td>\n",
       "    </tr>\n",
       "    <tr>\n",
       "      <td>.hack//Mutation Part 2</td>\n",
       "      <td>T</td>\n",
       "    </tr>\n",
       "    <tr>\n",
       "      <td>.hack//Outbreak Part 3</td>\n",
       "      <td>T</td>\n",
       "    </tr>\n",
       "    <tr>\n",
       "      <td>007 Racing</td>\n",
       "      <td>T</td>\n",
       "    </tr>\n",
       "  </tbody>\n",
       "</table>\n",
       "</div>"
      ],
      "text/plain": [
       "                        rating_by_name\n",
       "name                                  \n",
       " Tales of Xillia 2                   T\n",
       ".hack//Infection Part 1              T\n",
       ".hack//Mutation Part 2               T\n",
       ".hack//Outbreak Part 3               T\n",
       "007 Racing                           T"
      ]
     },
     "metadata": {},
     "output_type": "display_data"
    }
   ],
   "source": [
    "rating_by_name = games.query('rating.isna() == False').pivot_table(index='name', values='rating', aggfunc='first').\\\n",
    "rename(columns={'rating':'rating_by_name'})\n",
    "display(rating_by_name.info(), rating_by_name.head())"
   ]
  },
  {
   "cell_type": "code",
   "execution_count": 21,
   "metadata": {},
   "outputs": [],
   "source": [
    "games = games.merge(rating_by_name, on='name', how='left')"
   ]
  },
  {
   "cell_type": "code",
   "execution_count": 22,
   "metadata": {
    "scrolled": true
   },
   "outputs": [
    {
     "name": "stdout",
     "output_type": "stream",
     "text": [
      "Пропусков после замены: 6266\n"
     ]
    }
   ],
   "source": [
    "games['rating'] = games['rating'].fillna(games['rating_by_name'])\n",
    "games = games.drop('rating_by_name', 1)\n",
    "print('Пропусков после замены:', games['rating'].isna().sum())"
   ]
  },
  {
   "cell_type": "markdown",
   "metadata": {},
   "source": [
    "В данном случае у нас осталось слишком много пропусков, чтобы просто избавиться от этих строчек (в случае удаления мы потеряем весомую часть данных). Поэтому заполним пропуски значением *unknown*"
   ]
  },
  {
   "cell_type": "code",
   "execution_count": 23,
   "metadata": {},
   "outputs": [
    {
     "name": "stdout",
     "output_type": "stream",
     "text": [
      "Пропусков после замены: 0\n"
     ]
    }
   ],
   "source": [
    "games['rating'] = games['rating'].fillna('unknown')\n",
    "print('Пропусков после замены:', games['rating'].isna().sum())"
   ]
  },
  {
   "cell_type": "code",
   "execution_count": 24,
   "metadata": {},
   "outputs": [
    {
     "data": {
      "text/plain": [
       "name                  0\n",
       "platform              0\n",
       "year_of_release       0\n",
       "genre                 0\n",
       "na_sales              0\n",
       "eu_sales              0\n",
       "jp_sales              0\n",
       "other_sales           0\n",
       "critic_score       8495\n",
       "user_score         6636\n",
       "rating                0\n",
       "dtype: int64"
      ]
     },
     "execution_count": 24,
     "metadata": {},
     "output_type": "execute_result"
    }
   ],
   "source": [
    "games.isna().sum()"
   ]
  },
  {
   "cell_type": "markdown",
   "metadata": {},
   "source": [
    "С пропусками остались только столбцы с оценками критиков и пользователей. Данный пропуски невозможно корректно восстановить (не вручную), а если заполнить характерными значениями по выборке или нулями, то результат сильно исказиться. Поэтому предпочтем оставить численные значения и *NaN*\n",
    "\n",
    "P.s. значения *tbd* *(\"подлежит уточнению\")* в столбце *user_score* также заменим на *NaN* для упрощения дальнейшего взаимодействия с таблицей"
   ]
  },
  {
   "cell_type": "code",
   "execution_count": 25,
   "metadata": {},
   "outputs": [],
   "source": [
    "games.loc[games['user_score'] == 'tbd', 'user_score'] = np.nan"
   ]
  },
  {
   "cell_type": "code",
   "execution_count": 26,
   "metadata": {},
   "outputs": [
    {
     "data": {
      "text/plain": [
       "name                  0\n",
       "platform              0\n",
       "year_of_release       0\n",
       "genre                 0\n",
       "na_sales              0\n",
       "eu_sales              0\n",
       "jp_sales              0\n",
       "other_sales           0\n",
       "critic_score       8495\n",
       "user_score         9031\n",
       "rating                0\n",
       "dtype: int64"
      ]
     },
     "execution_count": 26,
     "metadata": {},
     "output_type": "execute_result"
    }
   ],
   "source": [
    "games.isna().sum()"
   ]
  },
  {
   "cell_type": "markdown",
   "metadata": {},
   "source": [
    "### Преобразование типов данных"
   ]
  },
  {
   "cell_type": "markdown",
   "metadata": {},
   "source": [
    "Вспомним, какие типы данных содержатся в той или иной колонке"
   ]
  },
  {
   "cell_type": "code",
   "execution_count": 27,
   "metadata": {},
   "outputs": [
    {
     "name": "stdout",
     "output_type": "stream",
     "text": [
      "<class 'pandas.core.frame.DataFrame'>\n",
      "Int64Index: 16574 entries, 0 to 16573\n",
      "Data columns (total 11 columns):\n",
      "name               16574 non-null object\n",
      "platform           16574 non-null object\n",
      "year_of_release    16574 non-null float64\n",
      "genre              16574 non-null object\n",
      "na_sales           16574 non-null float64\n",
      "eu_sales           16574 non-null float64\n",
      "jp_sales           16574 non-null float64\n",
      "other_sales        16574 non-null float64\n",
      "critic_score       8079 non-null float64\n",
      "user_score         7543 non-null object\n",
      "rating             16574 non-null object\n",
      "dtypes: float64(6), object(5)\n",
      "memory usage: 1.5+ MB\n"
     ]
    }
   ],
   "source": [
    "games.info()"
   ]
  },
  {
   "cell_type": "markdown",
   "metadata": {},
   "source": [
    "Теперь перейдем к преобразованию типов данных"
   ]
  },
  {
   "cell_type": "code",
   "execution_count": 28,
   "metadata": {},
   "outputs": [],
   "source": [
    "games['year_of_release'] = games['year_of_release'].astype('uint16') #диапазон значений uint16 - [0, 65535]\n",
    "\n",
    "games['na_sales'] = games['na_sales'].astype('float16') #диапазон значений float16 - [0.0, 65500.0]\n",
    "games['eu_sales'] = games['eu_sales'].astype('float16')\n",
    "games['jp_sales'] = games['jp_sales'].astype('float16')\n",
    "games['other_sales'] = games['other_sales'].astype('float16')\n",
    "\n",
    "games['critic_score'] = games['critic_score'].astype('float16')\n",
    "games['user_score'] = games['user_score'].astype('float16')"
   ]
  },
  {
   "cell_type": "code",
   "execution_count": 29,
   "metadata": {},
   "outputs": [
    {
     "name": "stdout",
     "output_type": "stream",
     "text": [
      "<class 'pandas.core.frame.DataFrame'>\n",
      "Int64Index: 16574 entries, 0 to 16573\n",
      "Data columns (total 11 columns):\n",
      "name               16574 non-null object\n",
      "platform           16574 non-null object\n",
      "year_of_release    16574 non-null uint16\n",
      "genre              16574 non-null object\n",
      "na_sales           16574 non-null float16\n",
      "eu_sales           16574 non-null float16\n",
      "jp_sales           16574 non-null float16\n",
      "other_sales        16574 non-null float16\n",
      "critic_score       8079 non-null float16\n",
      "user_score         7543 non-null float16\n",
      "rating             16574 non-null object\n",
      "dtypes: float16(6), object(4), uint16(1)\n",
      "memory usage: 874.0+ KB\n"
     ]
    }
   ],
   "source": [
    "games.info()"
   ]
  },
  {
   "cell_type": "markdown",
   "metadata": {},
   "source": [
    "Затраты по памяти сокращены почти вдвое"
   ]
  },
  {
   "cell_type": "markdown",
   "metadata": {},
   "source": [
    "### Добавление дополнительного показателя *суммарные продажи*"
   ]
  },
  {
   "cell_type": "markdown",
   "metadata": {},
   "source": [
    "Добавим к таблице еще один столбец *суммарные продажи* - продажи по всем регионам"
   ]
  },
  {
   "cell_type": "code",
   "execution_count": 30,
   "metadata": {},
   "outputs": [
    {
     "data": {
      "text/html": [
       "<div>\n",
       "<style scoped>\n",
       "    .dataframe tbody tr th:only-of-type {\n",
       "        vertical-align: middle;\n",
       "    }\n",
       "\n",
       "    .dataframe tbody tr th {\n",
       "        vertical-align: top;\n",
       "    }\n",
       "\n",
       "    .dataframe thead th {\n",
       "        text-align: right;\n",
       "    }\n",
       "</style>\n",
       "<table border=\"1\" class=\"dataframe\">\n",
       "  <thead>\n",
       "    <tr style=\"text-align: right;\">\n",
       "      <th></th>\n",
       "      <th>name</th>\n",
       "      <th>na_sales</th>\n",
       "      <th>eu_sales</th>\n",
       "      <th>jp_sales</th>\n",
       "      <th>other_sales</th>\n",
       "      <th>world_sales</th>\n",
       "    </tr>\n",
       "  </thead>\n",
       "  <tbody>\n",
       "    <tr>\n",
       "      <td>0</td>\n",
       "      <td>Wii Sports</td>\n",
       "      <td>41.375000</td>\n",
       "      <td>28.953125</td>\n",
       "      <td>3.769531</td>\n",
       "      <td>8.453125</td>\n",
       "      <td>82.500</td>\n",
       "    </tr>\n",
       "    <tr>\n",
       "      <td>1</td>\n",
       "      <td>Super Mario Bros.</td>\n",
       "      <td>29.078125</td>\n",
       "      <td>3.580078</td>\n",
       "      <td>6.808594</td>\n",
       "      <td>0.770020</td>\n",
       "      <td>40.250</td>\n",
       "    </tr>\n",
       "    <tr>\n",
       "      <td>2</td>\n",
       "      <td>Mario Kart Wii</td>\n",
       "      <td>15.679688</td>\n",
       "      <td>12.757812</td>\n",
       "      <td>3.789062</td>\n",
       "      <td>3.289062</td>\n",
       "      <td>35.500</td>\n",
       "    </tr>\n",
       "    <tr>\n",
       "      <td>3</td>\n",
       "      <td>Wii Sports Resort</td>\n",
       "      <td>15.609375</td>\n",
       "      <td>10.929688</td>\n",
       "      <td>3.279297</td>\n",
       "      <td>2.949219</td>\n",
       "      <td>32.750</td>\n",
       "    </tr>\n",
       "    <tr>\n",
       "      <td>4</td>\n",
       "      <td>Pokemon Red/Pokemon Blue</td>\n",
       "      <td>11.273438</td>\n",
       "      <td>8.890625</td>\n",
       "      <td>10.218750</td>\n",
       "      <td>1.000000</td>\n",
       "      <td>31.375</td>\n",
       "    </tr>\n",
       "  </tbody>\n",
       "</table>\n",
       "</div>"
      ],
      "text/plain": [
       "                       name   na_sales   eu_sales   jp_sales  other_sales  \\\n",
       "0                Wii Sports  41.375000  28.953125   3.769531     8.453125   \n",
       "1         Super Mario Bros.  29.078125   3.580078   6.808594     0.770020   \n",
       "2            Mario Kart Wii  15.679688  12.757812   3.789062     3.289062   \n",
       "3         Wii Sports Resort  15.609375  10.929688   3.279297     2.949219   \n",
       "4  Pokemon Red/Pokemon Blue  11.273438   8.890625  10.218750     1.000000   \n",
       "\n",
       "   world_sales  \n",
       "0       82.500  \n",
       "1       40.250  \n",
       "2       35.500  \n",
       "3       32.750  \n",
       "4       31.375  "
      ]
     },
     "execution_count": 30,
     "metadata": {},
     "output_type": "execute_result"
    }
   ],
   "source": [
    "games['world_sales'] = games['na_sales'] + games['eu_sales'] + games['jp_sales'] + games['other_sales']\n",
    "games[['name', 'na_sales', 'eu_sales', 'jp_sales', 'other_sales', 'world_sales']].head()"
   ]
  },
  {
   "cell_type": "markdown",
   "metadata": {},
   "source": [
    "Вывод: по итогам предобработки данных мы очистили данные от пропусков, от которых могли очистить. Пропуски, приходящиеся на столбцы с оценками критиков и пользователей, мы не можем не заполнить (так как пропуски неслучайные в данном контексте), не удалить (так как потеряем больше половины от всех данных). Данные пропуски мы оставили значениями *NaN*, а влияние этих столбцов на другие характеристики теперь будем рассматривать в меньшей степени. Также в меньшей степени будем смотреть на влияние столбца *rating*, так как большую часть его значений мы заполнили значениями по умолчанию - *unknown*. Остальным пропускам (в *годах выпуска* и в *жанрах*), в основном, присвоили аналогичные значения этой же игры для другой платформы. В завершении обработки начальной таблицы мы преобразовали типы данных почти во всех столбцах без потери в качестве, но с экономией по ресурсам почти в два раза.\n",
    "\n",
    "Вот так сейчас выглядит таблица с данными"
   ]
  },
  {
   "cell_type": "code",
   "execution_count": 31,
   "metadata": {},
   "outputs": [
    {
     "data": {
      "text/html": [
       "<div>\n",
       "<style scoped>\n",
       "    .dataframe tbody tr th:only-of-type {\n",
       "        vertical-align: middle;\n",
       "    }\n",
       "\n",
       "    .dataframe tbody tr th {\n",
       "        vertical-align: top;\n",
       "    }\n",
       "\n",
       "    .dataframe thead th {\n",
       "        text-align: right;\n",
       "    }\n",
       "</style>\n",
       "<table border=\"1\" class=\"dataframe\">\n",
       "  <thead>\n",
       "    <tr style=\"text-align: right;\">\n",
       "      <th></th>\n",
       "      <th>name</th>\n",
       "      <th>platform</th>\n",
       "      <th>year_of_release</th>\n",
       "      <th>genre</th>\n",
       "      <th>na_sales</th>\n",
       "      <th>eu_sales</th>\n",
       "      <th>jp_sales</th>\n",
       "      <th>other_sales</th>\n",
       "      <th>critic_score</th>\n",
       "      <th>user_score</th>\n",
       "      <th>rating</th>\n",
       "      <th>world_sales</th>\n",
       "    </tr>\n",
       "  </thead>\n",
       "  <tbody>\n",
       "    <tr>\n",
       "      <td>0</td>\n",
       "      <td>Wii Sports</td>\n",
       "      <td>Wii</td>\n",
       "      <td>2006</td>\n",
       "      <td>Sports</td>\n",
       "      <td>41.375000</td>\n",
       "      <td>28.953125</td>\n",
       "      <td>3.769531</td>\n",
       "      <td>8.453125</td>\n",
       "      <td>76.0</td>\n",
       "      <td>8.000000</td>\n",
       "      <td>E</td>\n",
       "      <td>82.500</td>\n",
       "    </tr>\n",
       "    <tr>\n",
       "      <td>1</td>\n",
       "      <td>Super Mario Bros.</td>\n",
       "      <td>NES</td>\n",
       "      <td>1985</td>\n",
       "      <td>Platform</td>\n",
       "      <td>29.078125</td>\n",
       "      <td>3.580078</td>\n",
       "      <td>6.808594</td>\n",
       "      <td>0.770020</td>\n",
       "      <td>NaN</td>\n",
       "      <td>NaN</td>\n",
       "      <td>unknown</td>\n",
       "      <td>40.250</td>\n",
       "    </tr>\n",
       "    <tr>\n",
       "      <td>2</td>\n",
       "      <td>Mario Kart Wii</td>\n",
       "      <td>Wii</td>\n",
       "      <td>2008</td>\n",
       "      <td>Racing</td>\n",
       "      <td>15.679688</td>\n",
       "      <td>12.757812</td>\n",
       "      <td>3.789062</td>\n",
       "      <td>3.289062</td>\n",
       "      <td>82.0</td>\n",
       "      <td>8.296875</td>\n",
       "      <td>E</td>\n",
       "      <td>35.500</td>\n",
       "    </tr>\n",
       "    <tr>\n",
       "      <td>3</td>\n",
       "      <td>Wii Sports Resort</td>\n",
       "      <td>Wii</td>\n",
       "      <td>2009</td>\n",
       "      <td>Sports</td>\n",
       "      <td>15.609375</td>\n",
       "      <td>10.929688</td>\n",
       "      <td>3.279297</td>\n",
       "      <td>2.949219</td>\n",
       "      <td>80.0</td>\n",
       "      <td>8.000000</td>\n",
       "      <td>E</td>\n",
       "      <td>32.750</td>\n",
       "    </tr>\n",
       "    <tr>\n",
       "      <td>4</td>\n",
       "      <td>Pokemon Red/Pokemon Blue</td>\n",
       "      <td>GB</td>\n",
       "      <td>1996</td>\n",
       "      <td>Role-Playing</td>\n",
       "      <td>11.273438</td>\n",
       "      <td>8.890625</td>\n",
       "      <td>10.218750</td>\n",
       "      <td>1.000000</td>\n",
       "      <td>NaN</td>\n",
       "      <td>NaN</td>\n",
       "      <td>unknown</td>\n",
       "      <td>31.375</td>\n",
       "    </tr>\n",
       "  </tbody>\n",
       "</table>\n",
       "</div>"
      ],
      "text/plain": [
       "                       name platform  year_of_release         genre  \\\n",
       "0                Wii Sports      Wii             2006        Sports   \n",
       "1         Super Mario Bros.      NES             1985      Platform   \n",
       "2            Mario Kart Wii      Wii             2008        Racing   \n",
       "3         Wii Sports Resort      Wii             2009        Sports   \n",
       "4  Pokemon Red/Pokemon Blue       GB             1996  Role-Playing   \n",
       "\n",
       "    na_sales   eu_sales   jp_sales  other_sales  critic_score  user_score  \\\n",
       "0  41.375000  28.953125   3.769531     8.453125          76.0    8.000000   \n",
       "1  29.078125   3.580078   6.808594     0.770020           NaN         NaN   \n",
       "2  15.679688  12.757812   3.789062     3.289062          82.0    8.296875   \n",
       "3  15.609375  10.929688   3.279297     2.949219          80.0    8.000000   \n",
       "4  11.273438   8.890625  10.218750     1.000000           NaN         NaN   \n",
       "\n",
       "    rating  world_sales  \n",
       "0        E       82.500  \n",
       "1  unknown       40.250  \n",
       "2        E       35.500  \n",
       "3        E       32.750  \n",
       "4  unknown       31.375  "
      ]
     },
     "execution_count": 31,
     "metadata": {},
     "output_type": "execute_result"
    }
   ],
   "source": [
    "games.head()"
   ]
  },
  {
   "cell_type": "markdown",
   "metadata": {},
   "source": [
    "Вот так ее краткие характеристики"
   ]
  },
  {
   "cell_type": "code",
   "execution_count": 32,
   "metadata": {},
   "outputs": [
    {
     "name": "stdout",
     "output_type": "stream",
     "text": [
      "<class 'pandas.core.frame.DataFrame'>\n",
      "Int64Index: 16574 entries, 0 to 16573\n",
      "Data columns (total 12 columns):\n",
      "name               16574 non-null object\n",
      "platform           16574 non-null object\n",
      "year_of_release    16574 non-null uint16\n",
      "genre              16574 non-null object\n",
      "na_sales           16574 non-null float16\n",
      "eu_sales           16574 non-null float16\n",
      "jp_sales           16574 non-null float16\n",
      "other_sales        16574 non-null float16\n",
      "critic_score       8079 non-null float16\n",
      "user_score         7543 non-null float16\n",
      "rating             16574 non-null object\n",
      "world_sales        16574 non-null float16\n",
      "dtypes: float16(7), object(4), uint16(1)\n",
      "memory usage: 906.4+ KB\n"
     ]
    }
   ],
   "source": [
    "games.info()"
   ]
  },
  {
   "cell_type": "markdown",
   "metadata": {},
   "source": [
    "## Анализ данных"
   ]
  },
  {
   "cell_type": "markdown",
   "metadata": {},
   "source": [
    "### Тенденции в индустрии игр"
   ]
  },
  {
   "cell_type": "markdown",
   "metadata": {},
   "source": [
    "Для начала интересно посмотреть на то, как со временем менялось количество выпускаемых игр в год"
   ]
  },
  {
   "cell_type": "code",
   "execution_count": 33,
   "metadata": {},
   "outputs": [
    {
     "data": {
      "image/png": "[encoded data removed]",
      "text/plain": [
       "<Figure size 576x432 with 1 Axes>"
      ]
     },
     "metadata": {
      "needs_background": "light"
     },
     "output_type": "display_data"
    }
   ],
   "source": [
    "(games\n",
    ".pivot_table(index='year_of_release', values='name', aggfunc='count')\n",
    ".rename(columns={'name':'count'})\n",
    ".plot(grid=True, figsize=(8,6))\n",
    ")\n",
    "plt.xlabel('Год')\n",
    "plt.ylabel('Количество игр (млн. копий)')\n",
    "plt.title('Изменение количества выпускаемых игр в год с течением времени')\n",
    "plt.show()"
   ]
  },
  {
   "cell_type": "code",
   "execution_count": 34,
   "metadata": {},
   "outputs": [],
   "source": [
    "#plt.figure(figsize=(8,6))\n",
    "#plt.grid(True)\n",
    "#plt.hist(games['year_of_release'], bins=37)\n",
    "#plt.show()"
   ]
  },
  {
   "cell_type": "markdown",
   "metadata": {},
   "source": [
    "Интуитивно ожидалось что-то подобное - значительное увеличение количества выпускаемых игр с течением времени. Однако удивительна тенденция на уменьшение выпуска игр - она началась в конце нулевых и продолжалась до конца исследуемого периода.\n",
    "\n",
    "Также немаловажным является тот факт, что до определенного года игр выходило несопоставимо меньше, чем в современную эпоху"
   ]
  },
  {
   "cell_type": "code",
   "execution_count": 35,
   "metadata": {},
   "outputs": [
    {
     "data": {
      "text/plain": [
       "count    16574.000000\n",
       "mean      2006.489683\n",
       "std          5.861696\n",
       "min       1980.000000\n",
       "25%       2003.000000\n",
       "50%       2007.000000\n",
       "75%       2010.000000\n",
       "max       2016.000000\n",
       "Name: year_of_release, dtype: float64"
      ]
     },
     "execution_count": 35,
     "metadata": {},
     "output_type": "execute_result"
    }
   ],
   "source": [
    "games['year_of_release'].describe()"
   ]
  },
  {
   "cell_type": "markdown",
   "metadata": {},
   "source": [
    "В период с 2003-го по 2007-й на свет появилось столько же игр, сколько с 1980-го по 2003-й. В среднем, почти в 8 раз в год меньше игр"
   ]
  },
  {
   "cell_type": "markdown",
   "metadata": {},
   "source": [
    "Может быть такой резкий скачок производства игр связан с появлением новых платформ? Давайте рассмотрим это предположение.\n",
    "\n",
    "Для начала выберем 5 платформ с наибольшими суммарными продажами за весь исследуемый период"
   ]
  },
  {
   "cell_type": "code",
   "execution_count": 36,
   "metadata": {},
   "outputs": [
    {
     "data": {
      "text/html": [
       "<div>\n",
       "<style scoped>\n",
       "    .dataframe tbody tr th:only-of-type {\n",
       "        vertical-align: middle;\n",
       "    }\n",
       "\n",
       "    .dataframe tbody tr th {\n",
       "        vertical-align: top;\n",
       "    }\n",
       "\n",
       "    .dataframe thead th {\n",
       "        text-align: right;\n",
       "    }\n",
       "</style>\n",
       "<table border=\"1\" class=\"dataframe\">\n",
       "  <thead>\n",
       "    <tr style=\"text-align: right;\">\n",
       "      <th></th>\n",
       "      <th>world_sales</th>\n",
       "    </tr>\n",
       "    <tr>\n",
       "      <th>platform</th>\n",
       "      <th></th>\n",
       "    </tr>\n",
       "  </thead>\n",
       "  <tbody>\n",
       "    <tr>\n",
       "      <td>PS2</td>\n",
       "      <td>1251.0</td>\n",
       "    </tr>\n",
       "    <tr>\n",
       "      <td>X360</td>\n",
       "      <td>966.5</td>\n",
       "    </tr>\n",
       "    <tr>\n",
       "      <td>PS3</td>\n",
       "      <td>935.0</td>\n",
       "    </tr>\n",
       "    <tr>\n",
       "      <td>Wii</td>\n",
       "      <td>903.0</td>\n",
       "    </tr>\n",
       "    <tr>\n",
       "      <td>DS</td>\n",
       "      <td>804.5</td>\n",
       "    </tr>\n",
       "  </tbody>\n",
       "</table>\n",
       "</div>"
      ],
      "text/plain": [
       "          world_sales\n",
       "platform             \n",
       "PS2            1251.0\n",
       "X360            966.5\n",
       "PS3             935.0\n",
       "Wii             903.0\n",
       "DS              804.5"
      ]
     },
     "execution_count": 36,
     "metadata": {},
     "output_type": "execute_result"
    }
   ],
   "source": [
    "(games\n",
    " .pivot_table(index='platform', values='world_sales', aggfunc='sum')\n",
    " .sort_values(by='world_sales', ascending=False)\n",
    " .head()\n",
    ")"
   ]
  },
  {
   "cell_type": "code",
   "execution_count": 37,
   "metadata": {},
   "outputs": [],
   "source": [
    "ps2 = (games\n",
    "       .query('platform == \"PS2\"')\n",
    "       .pivot_table(index='year_of_release', values='world_sales', aggfunc='sum')\n",
    "      )\n",
    "\n",
    "x360 = (games\n",
    "        .query('platform == \"X360\"')\n",
    "        .pivot_table(index='year_of_release', values='world_sales', aggfunc='sum')\n",
    "       )\n",
    "\n",
    "ps3 = (games\n",
    "       .query('platform == \"PS3\"')\n",
    "       .pivot_table(index='year_of_release', values='world_sales', aggfunc='sum')\n",
    "      )\n",
    "\n",
    "wii = (games\n",
    "       .query('platform == \"Wii\"')\n",
    "       .pivot_table(index='year_of_release', values='world_sales', aggfunc='sum')\n",
    "      )\n",
    "\n",
    "ds = (games\n",
    "      .query('platform == \"DS\"')\n",
    "      .pivot_table(index='year_of_release', values='world_sales', aggfunc='sum')\n",
    "     )\n",
    "\n",
    "#ps = (games.query('platform == \"PS\"').pivot_table(index='year_of_release', values='world_sales'))"
   ]
  },
  {
   "cell_type": "markdown",
   "metadata": {},
   "source": [
    "Теперь построим график изменения продаж игр от времени для этих платформ (будем рассматривать период с 2000-го года)"
   ]
  },
  {
   "cell_type": "code",
   "execution_count": 38,
   "metadata": {},
   "outputs": [
    {
     "data": {
      "text/html": [
       "<div>\n",
       "<style scoped>\n",
       "    .dataframe tbody tr th:only-of-type {\n",
       "        vertical-align: middle;\n",
       "    }\n",
       "\n",
       "    .dataframe tbody tr th {\n",
       "        vertical-align: top;\n",
       "    }\n",
       "\n",
       "    .dataframe thead th {\n",
       "        text-align: right;\n",
       "    }\n",
       "</style>\n",
       "<table border=\"1\" class=\"dataframe\">\n",
       "  <thead>\n",
       "    <tr style=\"text-align: right;\">\n",
       "      <th></th>\n",
       "      <th>year_of_release</th>\n",
       "      <th>world_sales_ds</th>\n",
       "      <th>world_sales_ps2</th>\n",
       "      <th>world_sales_x360</th>\n",
       "      <th>world_sales_ps3</th>\n",
       "      <th>world_sales_wii</th>\n",
       "    </tr>\n",
       "    <tr>\n",
       "      <th>year_of_release</th>\n",
       "      <th></th>\n",
       "      <th></th>\n",
       "      <th></th>\n",
       "      <th></th>\n",
       "      <th></th>\n",
       "      <th></th>\n",
       "    </tr>\n",
       "  </thead>\n",
       "  <tbody>\n",
       "    <tr>\n",
       "      <td>1985</td>\n",
       "      <td>1985</td>\n",
       "      <td>0.020004</td>\n",
       "      <td>0.00000</td>\n",
       "      <td>0.00000</td>\n",
       "      <td>0.000000</td>\n",
       "      <td>0.000</td>\n",
       "    </tr>\n",
       "    <tr>\n",
       "      <td>2000</td>\n",
       "      <td>2000</td>\n",
       "      <td>0.000000</td>\n",
       "      <td>39.15625</td>\n",
       "      <td>0.00000</td>\n",
       "      <td>0.000000</td>\n",
       "      <td>0.000</td>\n",
       "    </tr>\n",
       "    <tr>\n",
       "      <td>2001</td>\n",
       "      <td>2001</td>\n",
       "      <td>0.000000</td>\n",
       "      <td>166.37500</td>\n",
       "      <td>0.00000</td>\n",
       "      <td>0.000000</td>\n",
       "      <td>0.000</td>\n",
       "    </tr>\n",
       "    <tr>\n",
       "      <td>2002</td>\n",
       "      <td>2002</td>\n",
       "      <td>0.000000</td>\n",
       "      <td>208.75000</td>\n",
       "      <td>0.00000</td>\n",
       "      <td>0.000000</td>\n",
       "      <td>0.000</td>\n",
       "    </tr>\n",
       "    <tr>\n",
       "      <td>2003</td>\n",
       "      <td>2003</td>\n",
       "      <td>0.000000</td>\n",
       "      <td>193.00000</td>\n",
       "      <td>0.00000</td>\n",
       "      <td>0.000000</td>\n",
       "      <td>0.000</td>\n",
       "    </tr>\n",
       "    <tr>\n",
       "      <td>2004</td>\n",
       "      <td>2004</td>\n",
       "      <td>17.265625</td>\n",
       "      <td>213.12500</td>\n",
       "      <td>0.00000</td>\n",
       "      <td>0.000000</td>\n",
       "      <td>0.000</td>\n",
       "    </tr>\n",
       "    <tr>\n",
       "      <td>2005</td>\n",
       "      <td>2005</td>\n",
       "      <td>130.125000</td>\n",
       "      <td>164.00000</td>\n",
       "      <td>9.21875</td>\n",
       "      <td>0.190063</td>\n",
       "      <td>0.000</td>\n",
       "    </tr>\n",
       "    <tr>\n",
       "      <td>2006</td>\n",
       "      <td>2006</td>\n",
       "      <td>119.812500</td>\n",
       "      <td>104.00000</td>\n",
       "      <td>51.81250</td>\n",
       "      <td>21.437500</td>\n",
       "      <td>140.125</td>\n",
       "    </tr>\n",
       "    <tr>\n",
       "      <td>2007</td>\n",
       "      <td>2007</td>\n",
       "      <td>147.250000</td>\n",
       "      <td>76.12500</td>\n",
       "      <td>95.37500</td>\n",
       "      <td>73.187500</td>\n",
       "      <td>153.375</td>\n",
       "    </tr>\n",
       "    <tr>\n",
       "      <td>2008</td>\n",
       "      <td>2008</td>\n",
       "      <td>145.375000</td>\n",
       "      <td>53.90625</td>\n",
       "      <td>136.00000</td>\n",
       "      <td>118.812500</td>\n",
       "      <td>177.625</td>\n",
       "    </tr>\n",
       "  </tbody>\n",
       "</table>\n",
       "</div>"
      ],
      "text/plain": [
       "                 year_of_release  world_sales_ds  world_sales_ps2  \\\n",
       "year_of_release                                                     \n",
       "1985                        1985        0.020004          0.00000   \n",
       "2000                        2000        0.000000         39.15625   \n",
       "2001                        2001        0.000000        166.37500   \n",
       "2002                        2002        0.000000        208.75000   \n",
       "2003                        2003        0.000000        193.00000   \n",
       "2004                        2004       17.265625        213.12500   \n",
       "2005                        2005      130.125000        164.00000   \n",
       "2006                        2006      119.812500        104.00000   \n",
       "2007                        2007      147.250000         76.12500   \n",
       "2008                        2008      145.375000         53.90625   \n",
       "\n",
       "                 world_sales_x360  world_sales_ps3  world_sales_wii  \n",
       "year_of_release                                                      \n",
       "1985                      0.00000         0.000000            0.000  \n",
       "2000                      0.00000         0.000000            0.000  \n",
       "2001                      0.00000         0.000000            0.000  \n",
       "2002                      0.00000         0.000000            0.000  \n",
       "2003                      0.00000         0.000000            0.000  \n",
       "2004                      0.00000         0.000000            0.000  \n",
       "2005                      9.21875         0.190063            0.000  \n",
       "2006                     51.81250        21.437500          140.125  \n",
       "2007                     95.37500        73.187500          153.375  \n",
       "2008                    136.00000       118.812500          177.625  "
      ]
     },
     "execution_count": 38,
     "metadata": {},
     "output_type": "execute_result"
    }
   ],
   "source": [
    "top5_platforms = (ds\n",
    "                  .join(ps2, on='year_of_release', how='outer', lsuffix='_ds')\n",
    "                  .join(x360, on='year_of_release', how='outer', lsuffix='_ps2')\n",
    "                  .join(ps3, on='year_of_release', lsuffix='_x360')\n",
    "                  .join(wii, on='year_of_release', lsuffix='_ps3', rsuffix='_wii')\n",
    "                  .fillna(0)\n",
    "                 )\n",
    "top5_platforms.index = top5_platforms['year_of_release']\n",
    "top5_platforms = top5_platforms.sort_index()\n",
    "top5_platforms.head(10)"
   ]
  },
  {
   "cell_type": "code",
   "execution_count": 39,
   "metadata": {},
   "outputs": [
    {
     "data": {
      "image/png": "[encoded data removed]",
      "text/plain": [
       "<Figure size 864x576 with 1 Axes>"
      ]
     },
     "metadata": {
      "needs_background": "light"
     },
     "output_type": "display_data"
    }
   ],
   "source": [
    "plt.figure(figsize=(12,8))\n",
    "plt.grid(True)\n",
    "labels=['PS2', 'DS', 'PS3', 'Xbox 360', 'Wii']\n",
    "ax = plt.stackplot(top5_platforms.index, top5_platforms['world_sales_ps2'],\n",
    "                   top5_platforms['world_sales_ds'], top5_platforms['world_sales_ps3'],\n",
    "                   top5_platforms['world_sales_x360'], top5_platforms['world_sales_wii'], labels=labels)\n",
    "plt.xlim(2000, 2016)\n",
    "plt.legend(fontsize=15)\n",
    "plt.ylabel('Продажи (млн. копий)')\n",
    "plt.title('Продажи игр в год в период с 2000 по 2016 по 5 самым популярным платформам')\n",
    "plt.show()"
   ]
  },
  {
   "cell_type": "markdown",
   "metadata": {},
   "source": [
    "Как мы видим, резкое увеличение числа выпускаемых игр в период с 2008-2009 годов связано с тем, что в тот момент на пик своей популярности выходили такие платформы как Wii, PS3 и Xbox 360. Видимо, конкуренция и вынудила выпускать больше игр.\n",
    "\n",
    "Также взглянув на график, можно сказать и о том, что характерный срок актуальности платформы составляет 6-7 лет, так что возьмем данные, начиная с 2011-го и в дальнейшем будем работать с ними"
   ]
  },
  {
   "cell_type": "code",
   "execution_count": 40,
   "metadata": {},
   "outputs": [],
   "source": [
    "games_actual = games.query('year_of_release >= 2011')"
   ]
  },
  {
   "cell_type": "markdown",
   "metadata": {},
   "source": [
    "### Актуальные платформы"
   ]
  },
  {
   "cell_type": "markdown",
   "metadata": {},
   "source": [
    "С учетом вышесказанного давайте рассмотрим последний актуальный период (2011-2016 гг.). По нему мы найдем самые популярные платформы и попробуем выделить наиболее перспективные на ближайший год"
   ]
  },
  {
   "cell_type": "code",
   "execution_count": 41,
   "metadata": {},
   "outputs": [
    {
     "data": {
      "text/html": [
       "<div>\n",
       "<style scoped>\n",
       "    .dataframe tbody tr th:only-of-type {\n",
       "        vertical-align: middle;\n",
       "    }\n",
       "\n",
       "    .dataframe tbody tr th {\n",
       "        vertical-align: top;\n",
       "    }\n",
       "\n",
       "    .dataframe thead th {\n",
       "        text-align: right;\n",
       "    }\n",
       "</style>\n",
       "<table border=\"1\" class=\"dataframe\">\n",
       "  <thead>\n",
       "    <tr style=\"text-align: right;\">\n",
       "      <th></th>\n",
       "      <th>world_sales</th>\n",
       "    </tr>\n",
       "    <tr>\n",
       "      <th>platform</th>\n",
       "      <th></th>\n",
       "    </tr>\n",
       "  </thead>\n",
       "  <tbody>\n",
       "    <tr>\n",
       "      <td>PS3</td>\n",
       "      <td>447.75</td>\n",
       "    </tr>\n",
       "    <tr>\n",
       "      <td>X360</td>\n",
       "      <td>382.75</td>\n",
       "    </tr>\n",
       "    <tr>\n",
       "      <td>PS4</td>\n",
       "      <td>314.25</td>\n",
       "    </tr>\n",
       "    <tr>\n",
       "      <td>3DS</td>\n",
       "      <td>258.25</td>\n",
       "    </tr>\n",
       "    <tr>\n",
       "      <td>XOne</td>\n",
       "      <td>159.25</td>\n",
       "    </tr>\n",
       "  </tbody>\n",
       "</table>\n",
       "</div>"
      ],
      "text/plain": [
       "          world_sales\n",
       "platform             \n",
       "PS3            447.75\n",
       "X360           382.75\n",
       "PS4            314.25\n",
       "3DS            258.25\n",
       "XOne           159.25"
      ]
     },
     "execution_count": 41,
     "metadata": {},
     "output_type": "execute_result"
    }
   ],
   "source": [
    "(games_actual\n",
    " .pivot_table(index='platform', values='world_sales', aggfunc='sum')\n",
    " .sort_values(by='world_sales', ascending=False)\n",
    " .head()\n",
    ")"
   ]
  },
  {
   "cell_type": "code",
   "execution_count": 42,
   "metadata": {},
   "outputs": [],
   "source": [
    "ps4 = (games_actual\n",
    "       .query('platform == \"PS4\"')\n",
    "       .pivot_table(index='year_of_release', values='world_sales', aggfunc='sum')\n",
    "       )\n",
    "\n",
    "ds3 = (games_actual\n",
    "       .query('platform == \"3DS\"')\n",
    "       .pivot_table(index='year_of_release', values='world_sales', aggfunc='sum')\n",
    "       )\n",
    "\n",
    "xone = (games_actual\n",
    "        .query('platform == \"XOne\"')\n",
    "        .pivot_table(index='year_of_release', values='world_sales', aggfunc='sum')\n",
    "        )"
   ]
  },
  {
   "cell_type": "code",
   "execution_count": 43,
   "metadata": {
    "scrolled": false
   },
   "outputs": [
    {
     "data": {
      "image/png": "[encoded data removed]",
      "text/plain": [
       "<Figure size 864x576 with 1 Axes>"
      ]
     },
     "metadata": {
      "needs_background": "light"
     },
     "output_type": "display_data"
    }
   ],
   "source": [
    "fig, ax = plt.subplots(figsize=(12,8))\n",
    "\n",
    "ax.plot(ps4, label='PS4')\n",
    "ax.plot(x360, label='Xbox 360')\n",
    "ax.plot(ps3, label='PS3')\n",
    "ax.plot(xone, label='Xbox One')\n",
    "ax.plot(ds3, label='Nintendo 3DS')\n",
    "\n",
    "ax.set_xlim(2011, 2016)\n",
    "ax.legend(fontsize=13)\n",
    "ax.set_title('Продажи игр в год в период с 2011 по 2016 по 5 самым популярным платформам')\n",
    "ax.set_ylabel('Продажи (млн. копий)')\n",
    "plt.grid(True)\n",
    "plt.show()"
   ]
  },
  {
   "cell_type": "markdown",
   "metadata": {},
   "source": [
    "Перспектива у большинства платформ удручающая. Продажи игр на все самые популярные устройства в последние годы падают. Лучше всех на фоне конкурентов выглядит PS4: он лидирует в индустрии и продажи начали падать только в 2016-м году. На 2017-й год это самая перспективная платформа. На втором месте расположился Xbox One. В абсолюте показатели продаж за 2016-й год более чем в 2 раза меньше, чем у конкурента, однако относительно себя прошлогоднего продажи упали чуть менее круто, чем у PS4"
   ]
  },
  {
   "cell_type": "code",
   "execution_count": 44,
   "metadata": {},
   "outputs": [
    {
     "data": {
      "text/html": [
       "<div>\n",
       "<style scoped>\n",
       "    .dataframe tbody tr th:only-of-type {\n",
       "        vertical-align: middle;\n",
       "    }\n",
       "\n",
       "    .dataframe tbody tr th {\n",
       "        vertical-align: top;\n",
       "    }\n",
       "\n",
       "    .dataframe thead th {\n",
       "        text-align: right;\n",
       "    }\n",
       "</style>\n",
       "<table border=\"1\" class=\"dataframe\">\n",
       "  <thead>\n",
       "    <tr style=\"text-align: right;\">\n",
       "      <th></th>\n",
       "      <th>year_of_release</th>\n",
       "      <th>platform</th>\n",
       "      <th>world_sales</th>\n",
       "    </tr>\n",
       "  </thead>\n",
       "  <tbody>\n",
       "    <tr>\n",
       "      <td>0</td>\n",
       "      <td>2011</td>\n",
       "      <td>3DS</td>\n",
       "      <td>63.18750</td>\n",
       "    </tr>\n",
       "    <tr>\n",
       "      <td>1</td>\n",
       "      <td>2011</td>\n",
       "      <td>PS3</td>\n",
       "      <td>158.00000</td>\n",
       "    </tr>\n",
       "    <tr>\n",
       "      <td>2</td>\n",
       "      <td>2011</td>\n",
       "      <td>X360</td>\n",
       "      <td>145.25000</td>\n",
       "    </tr>\n",
       "    <tr>\n",
       "      <td>3</td>\n",
       "      <td>2012</td>\n",
       "      <td>3DS</td>\n",
       "      <td>51.78125</td>\n",
       "    </tr>\n",
       "    <tr>\n",
       "      <td>4</td>\n",
       "      <td>2012</td>\n",
       "      <td>PS3</td>\n",
       "      <td>108.25000</td>\n",
       "    </tr>\n",
       "  </tbody>\n",
       "</table>\n",
       "</div>"
      ],
      "text/plain": [
       "   year_of_release platform  world_sales\n",
       "0             2011      3DS     63.18750\n",
       "1             2011      PS3    158.00000\n",
       "2             2011     X360    145.25000\n",
       "3             2012      3DS     51.78125\n",
       "4             2012      PS3    108.25000"
      ]
     },
     "execution_count": 44,
     "metadata": {},
     "output_type": "execute_result"
    }
   ],
   "source": [
    "top5_platforms_since_2011 = (games_actual\n",
    "                             .query('platform in [\"PS4\", \"XOne\", \"PS3\", \"X360\", \"3DS\"]')\n",
    "                             .pivot_table(index=['year_of_release', 'platform'], values='world_sales', aggfunc='sum')\n",
    "                             .reset_index()\n",
    "                            )\n",
    "top5_platforms_since_2011.head()"
   ]
  },
  {
   "cell_type": "markdown",
   "metadata": {},
   "source": [
    "Рассмотрим распределение продаж игр по разным платформам в год за этот же период"
   ]
  },
  {
   "cell_type": "code",
   "execution_count": 45,
   "metadata": {},
   "outputs": [
    {
     "name": "stderr",
     "output_type": "stream",
     "text": [
      "/opt/conda/lib/python3.7/site-packages/numpy/core/_asarray.py:83: VisibleDeprecationWarning: Creating an ndarray from ragged nested sequences (which is a list-or-tuple of lists-or-tuples-or ndarrays with different lengths or shapes) is deprecated. If you meant to do this, you must specify 'dtype=object' when creating the ndarray\n",
      "  return array(a, dtype, copy=False, order=order)\n"
     ]
    },
    {
     "data": {
      "image/png": "[encoded data removed]",
      "text/plain": [
       "<Figure size 576x576 with 1 Axes>"
      ]
     },
     "metadata": {
      "needs_background": "light"
     },
     "output_type": "display_data"
    }
   ],
   "source": [
    "top5_platforms_since_2011[['platform', 'world_sales']].boxplot(by='platform', grid=True, figsize=(8,8))\n",
    "plt.title('Распределение продаж в год для 5 самых популярных платформ с 2011-го года')\n",
    "plt.xlabel('Платформа')\n",
    "plt.ylabel('Продажи (млн. копий)')\n",
    "plt.show()"
   ]
  },
  {
   "cell_type": "markdown",
   "metadata": {},
   "source": [
    "Как мы видим, лучше всех по средним продажам в год является также PS4, ненамного опередив предшественника PS3. Про конкурента можно сказать противоположное: последняя версия платформы менее популярна у пользователей, чем предшественник в лице Xbox 360, однако продажи весьма предсказуемы и варьируются то 20 до 60 миллионов в год (наименьший разброc из топ-5)"
   ]
  },
  {
   "cell_type": "markdown",
   "metadata": {},
   "source": [
    "### Влияние оценок критиков и пользователей"
   ]
  },
  {
   "cell_type": "markdown",
   "metadata": {},
   "source": [
    "Теперь рассмотрим, насколько мировые продажи той или иной игры кореллируют с отзывами критиков и пользователей\n",
    "\n",
    "Чтобы игры не повторялись и исследование зависимости было более точное, возьмем для рассмотрения одну платформу, игры на которые имеют наибольшее количество оценок за последний актуальный период"
   ]
  },
  {
   "cell_type": "code",
   "execution_count": 46,
   "metadata": {},
   "outputs": [
    {
     "name": "stdout",
     "output_type": "stream",
     "text": [
      "Количество оценок критиков по платформам:\n",
      "PS3     352\n",
      "X360    299\n",
      "PC      296\n",
      "PS4     252\n",
      "XOne    169\n",
      "Name: platform, dtype: int64\n",
      "\n",
      "Количество оценок пользователей по платформам:\n",
      "PS3     419\n",
      "X360    368\n",
      "PC      314\n",
      "PS4     257\n",
      "XOne    182\n",
      "Name: platform, dtype: int64\n"
     ]
    }
   ],
   "source": [
    "print('Количество оценок критиков по платформам:\\n{0}\\n\\nКоличество оценок пользователей по платформам:\\n{1}'.\n",
    "      format(games_actual[games_actual['critic_score'].isna() == False]['platform'].value_counts().head(),\n",
    "             games_actual[games_actual['user_score'].isna() == False]['platform'].value_counts().head()))"
   ]
  },
  {
   "cell_type": "markdown",
   "metadata": {},
   "source": [
    "Как у критиков, так и у пользователей наибольшой популярностью пользовалась PS3. В качестве примера рассмотрим именно эту платфому"
   ]
  },
  {
   "cell_type": "code",
   "execution_count": 47,
   "metadata": {},
   "outputs": [
    {
     "data": {
      "text/html": [
       "<div>\n",
       "<style scoped>\n",
       "    .dataframe tbody tr th:only-of-type {\n",
       "        vertical-align: middle;\n",
       "    }\n",
       "\n",
       "    .dataframe tbody tr th {\n",
       "        vertical-align: top;\n",
       "    }\n",
       "\n",
       "    .dataframe thead th {\n",
       "        text-align: right;\n",
       "    }\n",
       "</style>\n",
       "<table border=\"1\" class=\"dataframe\">\n",
       "  <thead>\n",
       "    <tr style=\"text-align: right;\">\n",
       "      <th></th>\n",
       "      <th>world_sales</th>\n",
       "      <th>critic_score</th>\n",
       "      <th>user_score</th>\n",
       "    </tr>\n",
       "  </thead>\n",
       "  <tbody>\n",
       "    <tr>\n",
       "      <td>16</td>\n",
       "      <td>21.062500</td>\n",
       "      <td>97.0</td>\n",
       "      <td>8.203125</td>\n",
       "    </tr>\n",
       "    <tr>\n",
       "      <td>34</td>\n",
       "      <td>13.789062</td>\n",
       "      <td>83.0</td>\n",
       "      <td>5.300781</td>\n",
       "    </tr>\n",
       "    <tr>\n",
       "      <td>37</td>\n",
       "      <td>13.328125</td>\n",
       "      <td>88.0</td>\n",
       "      <td>3.199219</td>\n",
       "    </tr>\n",
       "    <tr>\n",
       "      <td>69</td>\n",
       "      <td>9.367188</td>\n",
       "      <td>71.0</td>\n",
       "      <td>2.599609</td>\n",
       "    </tr>\n",
       "    <tr>\n",
       "      <td>81</td>\n",
       "      <td>8.171875</td>\n",
       "      <td>88.0</td>\n",
       "      <td>6.601562</td>\n",
       "    </tr>\n",
       "  </tbody>\n",
       "</table>\n",
       "</div>"
      ],
      "text/plain": [
       "    world_sales  critic_score  user_score\n",
       "16    21.062500          97.0    8.203125\n",
       "34    13.789062          83.0    5.300781\n",
       "37    13.328125          88.0    3.199219\n",
       "69     9.367188          71.0    2.599609\n",
       "81     8.171875          88.0    6.601562"
      ]
     },
     "execution_count": 47,
     "metadata": {},
     "output_type": "execute_result"
    }
   ],
   "source": [
    "world_sales_ps3_by_score = games_actual.query('platform == \"PS3\"')[['world_sales', 'critic_score', 'user_score']]\n",
    "world_sales_ps3_by_score.head()"
   ]
  },
  {
   "cell_type": "markdown",
   "metadata": {},
   "source": [
    "Построим диаграммы рассеяния мировых продаж от оценок"
   ]
  },
  {
   "cell_type": "code",
   "execution_count": 48,
   "metadata": {},
   "outputs": [
    {
     "data": {
      "image/png": "[encoded data removed]",
      "text/plain": [
       "<Figure size 576x432 with 1 Axes>"
      ]
     },
     "metadata": {
      "needs_background": "light"
     },
     "output_type": "display_data"
    }
   ],
   "source": [
    "world_sales_ps3_by_score.plot(x='critic_score', y='world_sales', kind='scatter', figsize=(8,6), alpha=0.3)\n",
    "plt.xlabel('Оценка критиков')\n",
    "plt.ylabel('Продажи (млн. копий)')\n",
    "plt.title('Диаграмма рассеяния продаж от оценок критиков для платформы PS3')\n",
    "plt.show()"
   ]
  },
  {
   "cell_type": "code",
   "execution_count": 49,
   "metadata": {},
   "outputs": [
    {
     "data": {
      "image/png": "[encoded data removed]",
      "text/plain": [
       "<Figure size 576x432 with 1 Axes>"
      ]
     },
     "metadata": {
      "needs_background": "light"
     },
     "output_type": "display_data"
    }
   ],
   "source": [
    "world_sales_ps3_by_score.plot(x='user_score', y='world_sales', kind='scatter', figsize=(8,6), alpha=0.3)\n",
    "plt.xlabel('Оценка пользователей')\n",
    "plt.ylabel('Продажи (млн. копий)')\n",
    "plt.title('Диаграмма рассеяния продаж от оценок пользователей для платформы PS3')\n",
    "plt.show()"
   ]
  },
  {
   "cell_type": "markdown",
   "metadata": {},
   "source": [
    "Как можно судить по графикам: прямая зависимость не наблюдается, однако самые продаваемые игры непременно получают хорошие оценки у критиков. А вот пользовательские оценки в меньшей степени влияют на продажи игры"
   ]
  },
  {
   "cell_type": "code",
   "execution_count": 50,
   "metadata": {},
   "outputs": [
    {
     "name": "stdout",
     "output_type": "stream",
     "text": [
      "Матрица корреляций между продажами, оценками критиков и пользователей для платформы PS3\n"
     ]
    },
    {
     "data": {
      "text/html": [
       "<div>\n",
       "<style scoped>\n",
       "    .dataframe tbody tr th:only-of-type {\n",
       "        vertical-align: middle;\n",
       "    }\n",
       "\n",
       "    .dataframe tbody tr th {\n",
       "        vertical-align: top;\n",
       "    }\n",
       "\n",
       "    .dataframe thead th {\n",
       "        text-align: right;\n",
       "    }\n",
       "</style>\n",
       "<table border=\"1\" class=\"dataframe\">\n",
       "  <thead>\n",
       "    <tr style=\"text-align: right;\">\n",
       "      <th></th>\n",
       "      <th>world_sales</th>\n",
       "      <th>critic_score</th>\n",
       "      <th>user_score</th>\n",
       "    </tr>\n",
       "  </thead>\n",
       "  <tbody>\n",
       "    <tr>\n",
       "      <td>world_sales</td>\n",
       "      <td>1.000000</td>\n",
       "      <td>0.380242</td>\n",
       "      <td>0.014053</td>\n",
       "    </tr>\n",
       "    <tr>\n",
       "      <td>critic_score</td>\n",
       "      <td>0.380242</td>\n",
       "      <td>1.000000</td>\n",
       "      <td>0.562711</td>\n",
       "    </tr>\n",
       "    <tr>\n",
       "      <td>user_score</td>\n",
       "      <td>0.014053</td>\n",
       "      <td>0.562711</td>\n",
       "      <td>1.000000</td>\n",
       "    </tr>\n",
       "  </tbody>\n",
       "</table>\n",
       "</div>"
      ],
      "text/plain": [
       "              world_sales  critic_score  user_score\n",
       "world_sales      1.000000      0.380242    0.014053\n",
       "critic_score     0.380242      1.000000    0.562711\n",
       "user_score       0.014053      0.562711    1.000000"
      ]
     },
     "metadata": {},
     "output_type": "display_data"
    }
   ],
   "source": [
    "print('Матрица корреляций между продажами, оценками критиков и пользователей для платформы PS3')\n",
    "display(world_sales_ps3_by_score.corr())"
   ]
  },
  {
   "cell_type": "markdown",
   "metadata": {},
   "source": [
    "Матрица корреляции подтверждает наши слова: прямой зависимости ни от оценок пользователей, ни от оценок критиков у продаж нет.\n",
    "\n",
    "Исследуем ту же самую зависимость в разрезе оставшихся платформ"
   ]
  },
  {
   "cell_type": "code",
   "execution_count": 51,
   "metadata": {},
   "outputs": [
    {
     "data": {
      "image/png": "[encoded data removed]",
      "text/plain": [
       "<Figure size 576x432 with 1 Axes>"
      ]
     },
     "metadata": {
      "needs_background": "light"
     },
     "output_type": "display_data"
    }
   ],
   "source": [
    "(\n",
    "    games_actual\n",
    "    .query('platform != \"PS3\"')\n",
    "    .plot(x='critic_score', y='world_sales', kind='scatter', figsize=(8,6), alpha=0.3)\n",
    ")\n",
    "plt.xlabel('Оценка пользователей')\n",
    "plt.ylabel('Продажи (млн. копий)')\n",
    "plt.title('Диаграмма рассеяния продаж от оценок критиков для остальных платформ')\n",
    "plt.show()"
   ]
  },
  {
   "cell_type": "code",
   "execution_count": 52,
   "metadata": {},
   "outputs": [
    {
     "data": {
      "image/png": "[encoded data removed]",
      "text/plain": [
       "<Figure size 576x432 with 1 Axes>"
      ]
     },
     "metadata": {
      "needs_background": "light"
     },
     "output_type": "display_data"
    }
   ],
   "source": [
    "(\n",
    "    games_actual\n",
    "    .query('platform != \"PS3\"')\n",
    "    .plot(x='user_score', y='world_sales', kind='scatter', figsize=(8,6), alpha=0.3)\n",
    ")\n",
    "plt.xlabel('Оценка пользователей')\n",
    "plt.ylabel('Продажи (млн. копий)')\n",
    "plt.title('Диаграмма рассеяния продаж от оценок пользователей для остальных платформ')\n",
    "plt.show()"
   ]
  },
  {
   "cell_type": "code",
   "execution_count": 53,
   "metadata": {},
   "outputs": [
    {
     "name": "stdout",
     "output_type": "stream",
     "text": [
      "Матрица корреляций между продажами, оценками критиков и пользователей для других платформ\n"
     ]
    },
    {
     "data": {
      "text/html": [
       "<div>\n",
       "<style scoped>\n",
       "    .dataframe tbody tr th:only-of-type {\n",
       "        vertical-align: middle;\n",
       "    }\n",
       "\n",
       "    .dataframe tbody tr th {\n",
       "        vertical-align: top;\n",
       "    }\n",
       "\n",
       "    .dataframe thead th {\n",
       "        text-align: right;\n",
       "    }\n",
       "</style>\n",
       "<table border=\"1\" class=\"dataframe\">\n",
       "  <thead>\n",
       "    <tr style=\"text-align: right;\">\n",
       "      <th></th>\n",
       "      <th>world_sales</th>\n",
       "      <th>critic_score</th>\n",
       "      <th>user_score</th>\n",
       "    </tr>\n",
       "  </thead>\n",
       "  <tbody>\n",
       "    <tr>\n",
       "      <td>world_sales</td>\n",
       "      <td>1.000000</td>\n",
       "      <td>0.317096</td>\n",
       "      <td>0.038642</td>\n",
       "    </tr>\n",
       "    <tr>\n",
       "      <td>critic_score</td>\n",
       "      <td>0.317096</td>\n",
       "      <td>1.000000</td>\n",
       "      <td>0.528187</td>\n",
       "    </tr>\n",
       "    <tr>\n",
       "      <td>user_score</td>\n",
       "      <td>0.038642</td>\n",
       "      <td>0.528187</td>\n",
       "      <td>1.000000</td>\n",
       "    </tr>\n",
       "  </tbody>\n",
       "</table>\n",
       "</div>"
      ],
      "text/plain": [
       "              world_sales  critic_score  user_score\n",
       "world_sales      1.000000      0.317096    0.038642\n",
       "critic_score     0.317096      1.000000    0.528187\n",
       "user_score       0.038642      0.528187    1.000000"
      ]
     },
     "metadata": {},
     "output_type": "display_data"
    }
   ],
   "source": [
    "print('Матрица корреляций между продажами, оценками критиков и пользователей для других платформ')\n",
    "display(games_actual.query('platform != \"PS3\"')[['world_sales', 'critic_score', 'user_score']].corr())"
   ]
  },
  {
   "cell_type": "markdown",
   "metadata": {},
   "source": [
    "Как мы видим, результаты получились очень схожими, что позволяет нам сделать вывод о том, что сильной прямой зависимости ни от оценок критиков, ни от оценок пользователей у продаж нет. Однако чтобы игра стала культовой и разошлась многомиллионным тиражом, необходимо получить высокую оценку критиков (не ниже 70)"
   ]
  },
  {
   "cell_type": "markdown",
   "metadata": {},
   "source": [
    "### Распределение игр по жанрам"
   ]
  },
  {
   "cell_type": "markdown",
   "metadata": {},
   "source": [
    "Создадим новый датафрейм без выбросов по продажам, так как самые продаваемые игры и игры с нулем проданных копий могут значительно искажать картину происходящего"
   ]
  },
  {
   "cell_type": "code",
   "execution_count": 54,
   "metadata": {},
   "outputs": [
    {
     "name": "stdout",
     "output_type": "stream",
     "text": [
      "Информация об исходных данных:\n",
      "count    4052.000000\n",
      "mean        0.484375\n",
      "std         1.214844\n",
      "min         0.010002\n",
      "25%         0.040009\n",
      "50%         0.130005\n",
      "75%         0.400146\n",
      "max        21.062500\n",
      "Name: world_sales, dtype: float64\n"
     ]
    }
   ],
   "source": [
    "print('Информация об исходных данных:\\n{}'.format(games_actual['world_sales'].describe()))"
   ]
  },
  {
   "cell_type": "code",
   "execution_count": 55,
   "metadata": {},
   "outputs": [
    {
     "name": "stdout",
     "output_type": "stream",
     "text": [
      "Информация о данных после устранения выбросов:\n",
      "count    3933.000000\n",
      "mean        0.318115\n",
      "std         0.484619\n",
      "min         0.010002\n",
      "25%         0.040009\n",
      "50%         0.119995\n",
      "75%         0.360107\n",
      "max         2.998047\n",
      "Name: world_sales, dtype: float64\n"
     ]
    }
   ],
   "source": [
    "games_good_world_sales = games_actual.query('0.005 <= world_sales <= 3')\n",
    "print('Информация о данных после устранения выбросов:\\n{}'.format(games_good_world_sales['world_sales'].describe()))"
   ]
  },
  {
   "cell_type": "markdown",
   "metadata": {},
   "source": [
    "Теперь найдем самые популярные жанры среди игр и связь популярности жанра с продажами"
   ]
  },
  {
   "cell_type": "code",
   "execution_count": 56,
   "metadata": {},
   "outputs": [
    {
     "name": "stdout",
     "output_type": "stream",
     "text": [
      "Топ-5 самых популярных жанров:\n",
      "Action          1258\n",
      "Role-Playing     450\n",
      "Adventure        409\n",
      "Sports           377\n",
      "Misc             374\n",
      "Name: genre, dtype: int64\n"
     ]
    }
   ],
   "source": [
    "print('Топ-5 самых популярных жанров:\\n{}'.format(games_good_world_sales['genre'].value_counts().head()))"
   ]
  },
  {
   "cell_type": "markdown",
   "metadata": {},
   "source": [
    "Перед нами 5 самых популярных жанров с 2011-го года. Если рассуждать логически, то у самых популярных жанров и продажи должны быть выше, чем у менее популярных. Давайте проверим это"
   ]
  },
  {
   "cell_type": "code",
   "execution_count": 57,
   "metadata": {},
   "outputs": [
    {
     "data": {
      "text/html": [
       "<div>\n",
       "<style scoped>\n",
       "    .dataframe tbody tr th:only-of-type {\n",
       "        vertical-align: middle;\n",
       "    }\n",
       "\n",
       "    .dataframe tbody tr th {\n",
       "        vertical-align: top;\n",
       "    }\n",
       "\n",
       "    .dataframe thead th {\n",
       "        text-align: right;\n",
       "    }\n",
       "</style>\n",
       "<table border=\"1\" class=\"dataframe\">\n",
       "  <thead>\n",
       "    <tr style=\"text-align: right;\">\n",
       "      <th></th>\n",
       "      <th>world_sales</th>\n",
       "    </tr>\n",
       "    <tr>\n",
       "      <th>genre</th>\n",
       "      <th></th>\n",
       "    </tr>\n",
       "  </thead>\n",
       "  <tbody>\n",
       "    <tr>\n",
       "      <td>Action</td>\n",
       "      <td>395.500</td>\n",
       "    </tr>\n",
       "    <tr>\n",
       "      <td>Sports</td>\n",
       "      <td>172.250</td>\n",
       "    </tr>\n",
       "    <tr>\n",
       "      <td>Shooter</td>\n",
       "      <td>172.125</td>\n",
       "    </tr>\n",
       "    <tr>\n",
       "      <td>Role-Playing</td>\n",
       "      <td>150.875</td>\n",
       "    </tr>\n",
       "    <tr>\n",
       "      <td>Misc</td>\n",
       "      <td>93.125</td>\n",
       "    </tr>\n",
       "  </tbody>\n",
       "</table>\n",
       "</div>"
      ],
      "text/plain": [
       "              world_sales\n",
       "genre                    \n",
       "Action            395.500\n",
       "Sports            172.250\n",
       "Shooter           172.125\n",
       "Role-Playing      150.875\n",
       "Misc               93.125"
      ]
     },
     "execution_count": 57,
     "metadata": {},
     "output_type": "execute_result"
    }
   ],
   "source": [
    "genre_by_world_sales = (\n",
    "    games_good_world_sales\n",
    "    .pivot_table(index='genre', values='world_sales', aggfunc='sum')\n",
    "    .sort_values('world_sales', ascending=False)\n",
    ")\n",
    "genre_by_world_sales.head()"
   ]
  },
  {
   "cell_type": "markdown",
   "metadata": {},
   "source": [
    "Так и есть, 4 из 5 самых популярных жанров являются также лидерами по количеству проданных копий игр"
   ]
  },
  {
   "cell_type": "code",
   "execution_count": 58,
   "metadata": {},
   "outputs": [
    {
     "data": {
      "text/plain": [
       "['Action', 'Sports', 'Shooter', 'Role-Playing', 'Misc']"
      ]
     },
     "execution_count": 58,
     "metadata": {},
     "output_type": "execute_result"
    }
   ],
   "source": [
    "list_of_top5_genres = []\n",
    "for i in  range(5):\n",
    "    list_of_top5_genres.append(genre_by_world_sales.index[i])\n",
    "list_of_top5_genres"
   ]
  },
  {
   "cell_type": "code",
   "execution_count": 59,
   "metadata": {},
   "outputs": [
    {
     "name": "stdout",
     "output_type": "stream",
     "text": [
      "Продажи по 5 самым продаваемым жанрам:\n",
      "count    2755.000000\n",
      "mean        0.356934\n",
      "std         0.515137\n",
      "min         0.010002\n",
      "25%         0.049988\n",
      "50%         0.150024\n",
      "75%         0.419922\n",
      "max         2.998047\n",
      "Name: world_sales, dtype: float64\n",
      "\n"
     ]
    }
   ],
   "source": [
    "print('Продажи по 5 самым продаваемым жанрам:\\n{}\\n'\n",
    "          .format(games_good_world_sales.query('genre in @list_of_top5_genres')['world_sales'].describe())\n",
    "         )"
   ]
  },
  {
   "cell_type": "code",
   "execution_count": 60,
   "metadata": {},
   "outputs": [
    {
     "name": "stdout",
     "output_type": "stream",
     "text": [
      "Продажи по всем жанрам:\n",
      "count    3933.000000\n",
      "mean        0.318115\n",
      "std         0.484619\n",
      "min         0.010002\n",
      "25%         0.040009\n",
      "50%         0.119995\n",
      "75%         0.360107\n",
      "max         2.998047\n",
      "Name: world_sales, dtype: float64\n",
      "\n"
     ]
    }
   ],
   "source": [
    "print('Продажи по всем жанрам:\\n{}\\n'\n",
    "          .format(games_good_world_sales['world_sales'].describe())\n",
    "         )"
   ]
  },
  {
   "cell_type": "markdown",
   "metadata": {},
   "source": [
    "Как мы видим, игры, продаваемые в самых популярных жанрах, занимают 70% от всей индустрии в настоящий период, поэтому сравнивать их показатели будет неправильно (так как во все жанры входят и самые популярные). В таком случае сравним самые популярные жанры с оставшимися"
   ]
  },
  {
   "cell_type": "code",
   "execution_count": 61,
   "metadata": {},
   "outputs": [
    {
     "name": "stdout",
     "output_type": "stream",
     "text": [
      "Продажи из остальных жанров:\n",
      "count    1178.000000\n",
      "mean        0.226807\n",
      "std         0.388428\n",
      "min         0.010002\n",
      "25%         0.029999\n",
      "50%         0.080017\n",
      "75%         0.219971\n",
      "max         2.849609\n",
      "Name: world_sales, dtype: float64\n",
      "\n"
     ]
    }
   ],
   "source": [
    "print('Продажи из остальных жанров:\\n{}\\n'\n",
    "          .format(games_good_world_sales.query('genre not in @list_of_top5_genres')['world_sales'].describe())\n",
    "         )"
   ]
  },
  {
   "cell_type": "markdown",
   "metadata": {},
   "source": [
    "Теперь разница в продажах на лицо. Игра одного из пяти самых популярных жанров в среднем продается почти вдвое большим тиражом, чем игра из непопулярного жанра"
   ]
  },
  {
   "cell_type": "markdown",
   "metadata": {},
   "source": [
    "Вывод: мы рассмотрели данные из индустрии игр, выделили последний актуальный период - с 2011-го по 2016-й года - и проанализировали его. Результатом анализа можно назвать следующие выводы:\n",
    "* самой перспективной платформой для игр на 2017-й год является PS4;\n",
    "* оценки пользователей не влияют на продажи игр;\n",
    "* чтобы рассчитывать на многомиллионные продажи необходимо получить высокие оценки от критиков (70 и выше);\n",
    "* продажи в пяти наиболее популярных жанрах вдвое выше, чем в остальных, а игры из этих жанров занимают 70%-ю долю в индустрии."
   ]
  },
  {
   "cell_type": "markdown",
   "metadata": {},
   "source": [
    "## Составление портрета пользователя"
   ]
  },
  {
   "cell_type": "markdown",
   "metadata": {},
   "source": [
    "Продажи также сильно различаются в зависимости от рассматриваемого региона. Попробуем найти закономерности в продажах в каждом из регионов: Северная Америка, Европа и Япония. При составлении портрета пользователя для каждого региона будем обращать внимание на следующие характерные моменты:\n",
    "* самые популярные платформы;\n",
    "* самые популярные жанры;\n",
    "* влияет ли рейтинг ESRB на продажи в данном регионе?"
   ]
  },
  {
   "cell_type": "markdown",
   "metadata": {},
   "source": [
    "* EC - \"Early childhood\"\n",
    "* E - \"Everyone\" (K-A - \"Kids to adult\")\n",
    "* E10+ - \"Everyone 10 and older\"\n",
    "* T - \"Teen\"\n",
    "* M - \"Mature\"\n",
    "* AO - \"Adults only\""
   ]
  },
  {
   "cell_type": "markdown",
   "metadata": {},
   "source": [
    "### Северная Америка"
   ]
  },
  {
   "cell_type": "code",
   "execution_count": 62,
   "metadata": {},
   "outputs": [
    {
     "data": {
      "text/html": [
       "<div>\n",
       "<style scoped>\n",
       "    .dataframe tbody tr th:only-of-type {\n",
       "        vertical-align: middle;\n",
       "    }\n",
       "\n",
       "    .dataframe tbody tr th {\n",
       "        vertical-align: top;\n",
       "    }\n",
       "\n",
       "    .dataframe thead th {\n",
       "        text-align: right;\n",
       "    }\n",
       "</style>\n",
       "<table border=\"1\" class=\"dataframe\">\n",
       "  <thead>\n",
       "    <tr style=\"text-align: right;\">\n",
       "      <th></th>\n",
       "      <th>na_sales</th>\n",
       "      <th>share</th>\n",
       "    </tr>\n",
       "    <tr>\n",
       "      <th>platform</th>\n",
       "      <th></th>\n",
       "      <th></th>\n",
       "    </tr>\n",
       "  </thead>\n",
       "  <tbody>\n",
       "    <tr>\n",
       "      <td>X360</td>\n",
       "      <td>228.1250</td>\n",
       "      <td>0.273682</td>\n",
       "    </tr>\n",
       "    <tr>\n",
       "      <td>PS3</td>\n",
       "      <td>169.0000</td>\n",
       "      <td>0.202759</td>\n",
       "    </tr>\n",
       "    <tr>\n",
       "      <td>PS4</td>\n",
       "      <td>108.7500</td>\n",
       "      <td>0.130493</td>\n",
       "    </tr>\n",
       "    <tr>\n",
       "      <td>XOne</td>\n",
       "      <td>93.1250</td>\n",
       "      <td>0.111755</td>\n",
       "    </tr>\n",
       "    <tr>\n",
       "      <td>3DS</td>\n",
       "      <td>82.8125</td>\n",
       "      <td>0.099365</td>\n",
       "    </tr>\n",
       "  </tbody>\n",
       "</table>\n",
       "</div>"
      ],
      "text/plain": [
       "          na_sales     share\n",
       "platform                    \n",
       "X360      228.1250  0.273682\n",
       "PS3       169.0000  0.202759\n",
       "PS4       108.7500  0.130493\n",
       "XOne       93.1250  0.111755\n",
       "3DS        82.8125  0.099365"
      ]
     },
     "execution_count": 62,
     "metadata": {},
     "output_type": "execute_result"
    }
   ],
   "source": [
    "na_sales_by_platforms = (\n",
    "    games_actual\n",
    "    .pivot_table(index='platform', values='na_sales', aggfunc='sum')\n",
    "    .sort_values(by='na_sales', ascending=False)\n",
    ")\n",
    "na_sales_by_platforms['share'] = na_sales_by_platforms['na_sales'] / na_sales_by_platforms['na_sales'].sum()\n",
    "na_sales_by_platforms.head()"
   ]
  },
  {
   "cell_type": "code",
   "execution_count": 63,
   "metadata": {},
   "outputs": [
    {
     "data": {
      "text/html": [
       "<div>\n",
       "<style scoped>\n",
       "    .dataframe tbody tr th:only-of-type {\n",
       "        vertical-align: middle;\n",
       "    }\n",
       "\n",
       "    .dataframe tbody tr th {\n",
       "        vertical-align: top;\n",
       "    }\n",
       "\n",
       "    .dataframe thead th {\n",
       "        text-align: right;\n",
       "    }\n",
       "</style>\n",
       "<table border=\"1\" class=\"dataframe\">\n",
       "  <thead>\n",
       "    <tr style=\"text-align: right;\">\n",
       "      <th></th>\n",
       "      <th>na_sales</th>\n",
       "      <th>share</th>\n",
       "    </tr>\n",
       "    <tr>\n",
       "      <th>genre</th>\n",
       "      <th></th>\n",
       "      <th></th>\n",
       "    </tr>\n",
       "  </thead>\n",
       "  <tbody>\n",
       "    <tr>\n",
       "      <td>Action</td>\n",
       "      <td>234.3750</td>\n",
       "      <td>0.281250</td>\n",
       "    </tr>\n",
       "    <tr>\n",
       "      <td>Shooter</td>\n",
       "      <td>194.5000</td>\n",
       "      <td>0.233398</td>\n",
       "    </tr>\n",
       "    <tr>\n",
       "      <td>Sports</td>\n",
       "      <td>108.6875</td>\n",
       "      <td>0.130371</td>\n",
       "    </tr>\n",
       "    <tr>\n",
       "      <td>Role-Playing</td>\n",
       "      <td>83.8125</td>\n",
       "      <td>0.100525</td>\n",
       "    </tr>\n",
       "    <tr>\n",
       "      <td>Misc</td>\n",
       "      <td>69.8125</td>\n",
       "      <td>0.083740</td>\n",
       "    </tr>\n",
       "  </tbody>\n",
       "</table>\n",
       "</div>"
      ],
      "text/plain": [
       "              na_sales     share\n",
       "genre                           \n",
       "Action        234.3750  0.281250\n",
       "Shooter       194.5000  0.233398\n",
       "Sports        108.6875  0.130371\n",
       "Role-Playing   83.8125  0.100525\n",
       "Misc           69.8125  0.083740"
      ]
     },
     "execution_count": 63,
     "metadata": {},
     "output_type": "execute_result"
    }
   ],
   "source": [
    "na_sales_by_genres = (\n",
    "    games_actual\n",
    "    .pivot_table(index='genre', values='na_sales', aggfunc='sum')\n",
    "    .sort_values(by='na_sales', ascending=False)\n",
    ")\n",
    "na_sales_by_genres['share'] = na_sales_by_genres['na_sales'] / na_sales_by_genres['na_sales'].sum()\n",
    "na_sales_by_genres.head()"
   ]
  },
  {
   "cell_type": "code",
   "execution_count": 64,
   "metadata": {},
   "outputs": [
    {
     "data": {
      "text/html": [
       "<div>\n",
       "<style scoped>\n",
       "    .dataframe tbody tr th:only-of-type {\n",
       "        vertical-align: middle;\n",
       "    }\n",
       "\n",
       "    .dataframe tbody tr th {\n",
       "        vertical-align: top;\n",
       "    }\n",
       "\n",
       "    .dataframe thead th {\n",
       "        text-align: right;\n",
       "    }\n",
       "</style>\n",
       "<table border=\"1\" class=\"dataframe\">\n",
       "  <thead>\n",
       "    <tr style=\"text-align: right;\">\n",
       "      <th></th>\n",
       "      <th>na_sales</th>\n",
       "      <th>share</th>\n",
       "    </tr>\n",
       "    <tr>\n",
       "      <th>rating</th>\n",
       "      <th></th>\n",
       "      <th></th>\n",
       "    </tr>\n",
       "  </thead>\n",
       "  <tbody>\n",
       "    <tr>\n",
       "      <td>M</td>\n",
       "      <td>320.0000</td>\n",
       "      <td>0.384033</td>\n",
       "    </tr>\n",
       "    <tr>\n",
       "      <td>E</td>\n",
       "      <td>174.1250</td>\n",
       "      <td>0.208862</td>\n",
       "    </tr>\n",
       "    <tr>\n",
       "      <td>E10+</td>\n",
       "      <td>122.3125</td>\n",
       "      <td>0.146729</td>\n",
       "    </tr>\n",
       "    <tr>\n",
       "      <td>T</td>\n",
       "      <td>115.7500</td>\n",
       "      <td>0.138916</td>\n",
       "    </tr>\n",
       "    <tr>\n",
       "      <td>unknown</td>\n",
       "      <td>101.0000</td>\n",
       "      <td>0.121155</td>\n",
       "    </tr>\n",
       "  </tbody>\n",
       "</table>\n",
       "</div>"
      ],
      "text/plain": [
       "         na_sales     share\n",
       "rating                     \n",
       "M        320.0000  0.384033\n",
       "E        174.1250  0.208862\n",
       "E10+     122.3125  0.146729\n",
       "T        115.7500  0.138916\n",
       "unknown  101.0000  0.121155"
      ]
     },
     "execution_count": 64,
     "metadata": {},
     "output_type": "execute_result"
    }
   ],
   "source": [
    "na_sales_by_rating = (\n",
    "    games_actual\n",
    "    .pivot_table(index='rating', values='na_sales', aggfunc='sum')\n",
    "    .sort_values(by='na_sales', ascending=False)\n",
    ")\n",
    "na_sales_by_rating['share'] = na_sales_by_rating['na_sales'] / na_sales_by_rating['na_sales'].sum()\n",
    "na_sales_by_rating.head()"
   ]
  },
  {
   "cell_type": "markdown",
   "metadata": {},
   "source": [
    "Средний *американский* геймер 2010-х годов предпочитал играть в игры в жанрах *action* или *shooter* с рейтингом *M (13+)* на платформе *Xbox 360*"
   ]
  },
  {
   "cell_type": "markdown",
   "metadata": {},
   "source": [
    "### Европа"
   ]
  },
  {
   "cell_type": "code",
   "execution_count": 65,
   "metadata": {},
   "outputs": [
    {
     "data": {
      "text/html": [
       "<div>\n",
       "<style scoped>\n",
       "    .dataframe tbody tr th:only-of-type {\n",
       "        vertical-align: middle;\n",
       "    }\n",
       "\n",
       "    .dataframe tbody tr th {\n",
       "        vertical-align: top;\n",
       "    }\n",
       "\n",
       "    .dataframe thead th {\n",
       "        text-align: right;\n",
       "    }\n",
       "</style>\n",
       "<table border=\"1\" class=\"dataframe\">\n",
       "  <thead>\n",
       "    <tr style=\"text-align: right;\">\n",
       "      <th></th>\n",
       "      <th>eu_sales</th>\n",
       "      <th>share</th>\n",
       "    </tr>\n",
       "    <tr>\n",
       "      <th>platform</th>\n",
       "      <th></th>\n",
       "      <th></th>\n",
       "    </tr>\n",
       "  </thead>\n",
       "  <tbody>\n",
       "    <tr>\n",
       "      <td>PS3</td>\n",
       "      <td>164.12500</td>\n",
       "      <td>0.243652</td>\n",
       "    </tr>\n",
       "    <tr>\n",
       "      <td>PS4</td>\n",
       "      <td>141.12500</td>\n",
       "      <td>0.209595</td>\n",
       "    </tr>\n",
       "    <tr>\n",
       "      <td>X360</td>\n",
       "      <td>117.87500</td>\n",
       "      <td>0.175049</td>\n",
       "    </tr>\n",
       "    <tr>\n",
       "      <td>3DS</td>\n",
       "      <td>61.46875</td>\n",
       "      <td>0.091248</td>\n",
       "    </tr>\n",
       "    <tr>\n",
       "      <td>PC</td>\n",
       "      <td>57.37500</td>\n",
       "      <td>0.085205</td>\n",
       "    </tr>\n",
       "  </tbody>\n",
       "</table>\n",
       "</div>"
      ],
      "text/plain": [
       "           eu_sales     share\n",
       "platform                     \n",
       "PS3       164.12500  0.243652\n",
       "PS4       141.12500  0.209595\n",
       "X360      117.87500  0.175049\n",
       "3DS        61.46875  0.091248\n",
       "PC         57.37500  0.085205"
      ]
     },
     "execution_count": 65,
     "metadata": {},
     "output_type": "execute_result"
    }
   ],
   "source": [
    "eu_sales_by_platforms = (\n",
    "    games_actual\n",
    "    .pivot_table(index='platform', values='eu_sales', aggfunc='sum')\n",
    "    .sort_values(by='eu_sales', ascending=False)\n",
    ")\n",
    "eu_sales_by_platforms['share'] = eu_sales_by_platforms['eu_sales'] / eu_sales_by_platforms['eu_sales'].sum()\n",
    "eu_sales_by_platforms.head()"
   ]
  },
  {
   "cell_type": "code",
   "execution_count": 66,
   "metadata": {},
   "outputs": [
    {
     "data": {
      "text/html": [
       "<div>\n",
       "<style scoped>\n",
       "    .dataframe tbody tr th:only-of-type {\n",
       "        vertical-align: middle;\n",
       "    }\n",
       "\n",
       "    .dataframe tbody tr th {\n",
       "        vertical-align: top;\n",
       "    }\n",
       "\n",
       "    .dataframe thead th {\n",
       "        text-align: right;\n",
       "    }\n",
       "</style>\n",
       "<table border=\"1\" class=\"dataframe\">\n",
       "  <thead>\n",
       "    <tr style=\"text-align: right;\">\n",
       "      <th></th>\n",
       "      <th>eu_sales</th>\n",
       "      <th>share</th>\n",
       "    </tr>\n",
       "    <tr>\n",
       "      <th>genre</th>\n",
       "      <th></th>\n",
       "      <th></th>\n",
       "    </tr>\n",
       "  </thead>\n",
       "  <tbody>\n",
       "    <tr>\n",
       "      <td>Action</td>\n",
       "      <td>202.12500</td>\n",
       "      <td>0.300293</td>\n",
       "    </tr>\n",
       "    <tr>\n",
       "      <td>Shooter</td>\n",
       "      <td>148.00000</td>\n",
       "      <td>0.219971</td>\n",
       "    </tr>\n",
       "    <tr>\n",
       "      <td>Sports</td>\n",
       "      <td>88.68750</td>\n",
       "      <td>0.131836</td>\n",
       "    </tr>\n",
       "    <tr>\n",
       "      <td>Role-Playing</td>\n",
       "      <td>62.31250</td>\n",
       "      <td>0.092590</td>\n",
       "    </tr>\n",
       "    <tr>\n",
       "      <td>Racing</td>\n",
       "      <td>40.59375</td>\n",
       "      <td>0.060303</td>\n",
       "    </tr>\n",
       "  </tbody>\n",
       "</table>\n",
       "</div>"
      ],
      "text/plain": [
       "               eu_sales     share\n",
       "genre                            \n",
       "Action        202.12500  0.300293\n",
       "Shooter       148.00000  0.219971\n",
       "Sports         88.68750  0.131836\n",
       "Role-Playing   62.31250  0.092590\n",
       "Racing         40.59375  0.060303"
      ]
     },
     "execution_count": 66,
     "metadata": {},
     "output_type": "execute_result"
    }
   ],
   "source": [
    "eu_sales_by_genres = (\n",
    "    games_actual\n",
    "    .pivot_table(index='genre', values='eu_sales', aggfunc='sum')\n",
    "    .sort_values(by='eu_sales', ascending=False)\n",
    ")\n",
    "eu_sales_by_genres['share'] = eu_sales_by_genres['eu_sales'] / eu_sales_by_genres['eu_sales'].sum()\n",
    "eu_sales_by_genres.head()"
   ]
  },
  {
   "cell_type": "code",
   "execution_count": 67,
   "metadata": {},
   "outputs": [
    {
     "data": {
      "text/html": [
       "<div>\n",
       "<style scoped>\n",
       "    .dataframe tbody tr th:only-of-type {\n",
       "        vertical-align: middle;\n",
       "    }\n",
       "\n",
       "    .dataframe tbody tr th {\n",
       "        vertical-align: top;\n",
       "    }\n",
       "\n",
       "    .dataframe thead th {\n",
       "        text-align: right;\n",
       "    }\n",
       "</style>\n",
       "<table border=\"1\" class=\"dataframe\">\n",
       "  <thead>\n",
       "    <tr style=\"text-align: right;\">\n",
       "      <th></th>\n",
       "      <th>eu_sales</th>\n",
       "      <th>share</th>\n",
       "    </tr>\n",
       "    <tr>\n",
       "      <th>rating</th>\n",
       "      <th></th>\n",
       "      <th></th>\n",
       "    </tr>\n",
       "  </thead>\n",
       "  <tbody>\n",
       "    <tr>\n",
       "      <td>M</td>\n",
       "      <td>263.5000</td>\n",
       "      <td>0.391357</td>\n",
       "    </tr>\n",
       "    <tr>\n",
       "      <td>E</td>\n",
       "      <td>144.6250</td>\n",
       "      <td>0.214722</td>\n",
       "    </tr>\n",
       "    <tr>\n",
       "      <td>unknown</td>\n",
       "      <td>94.0625</td>\n",
       "      <td>0.139648</td>\n",
       "    </tr>\n",
       "    <tr>\n",
       "      <td>T</td>\n",
       "      <td>88.6875</td>\n",
       "      <td>0.131714</td>\n",
       "    </tr>\n",
       "    <tr>\n",
       "      <td>E10+</td>\n",
       "      <td>82.4375</td>\n",
       "      <td>0.122375</td>\n",
       "    </tr>\n",
       "  </tbody>\n",
       "</table>\n",
       "</div>"
      ],
      "text/plain": [
       "         eu_sales     share\n",
       "rating                     \n",
       "M        263.5000  0.391357\n",
       "E        144.6250  0.214722\n",
       "unknown   94.0625  0.139648\n",
       "T         88.6875  0.131714\n",
       "E10+      82.4375  0.122375"
      ]
     },
     "execution_count": 67,
     "metadata": {},
     "output_type": "execute_result"
    }
   ],
   "source": [
    "eu_sales_by_rating = (\n",
    "    games_actual\n",
    "    .pivot_table(index='rating', values='eu_sales', aggfunc='sum')\n",
    "    .sort_values(by='eu_sales', ascending=False)\n",
    ")\n",
    "eu_sales_by_rating['share'] = eu_sales_by_rating['eu_sales'] / eu_sales_by_rating['eu_sales'].sum()\n",
    "eu_sales_by_rating.head()"
   ]
  },
  {
   "cell_type": "markdown",
   "metadata": {},
   "source": [
    "Типичный игрок из *Европы* 2011-2016 годов также выбирал игры в жанре *action* с возрастным ограничением *13+* и джойстик от компании *Sony (PS3 или PS4)*"
   ]
  },
  {
   "cell_type": "markdown",
   "metadata": {},
   "source": [
    "### Япония"
   ]
  },
  {
   "cell_type": "code",
   "execution_count": 68,
   "metadata": {},
   "outputs": [
    {
     "data": {
      "text/html": [
       "<div>\n",
       "<style scoped>\n",
       "    .dataframe tbody tr th:only-of-type {\n",
       "        vertical-align: middle;\n",
       "    }\n",
       "\n",
       "    .dataframe tbody tr th {\n",
       "        vertical-align: top;\n",
       "    }\n",
       "\n",
       "    .dataframe thead th {\n",
       "        text-align: right;\n",
       "    }\n",
       "</style>\n",
       "<table border=\"1\" class=\"dataframe\">\n",
       "  <thead>\n",
       "    <tr style=\"text-align: right;\">\n",
       "      <th></th>\n",
       "      <th>jp_sales</th>\n",
       "      <th>share</th>\n",
       "    </tr>\n",
       "    <tr>\n",
       "      <th>platform</th>\n",
       "      <th></th>\n",
       "      <th></th>\n",
       "    </tr>\n",
       "  </thead>\n",
       "  <tbody>\n",
       "    <tr>\n",
       "      <td>3DS</td>\n",
       "      <td>100.625000</td>\n",
       "      <td>0.409180</td>\n",
       "    </tr>\n",
       "    <tr>\n",
       "      <td>PS3</td>\n",
       "      <td>49.406250</td>\n",
       "      <td>0.200928</td>\n",
       "    </tr>\n",
       "    <tr>\n",
       "      <td>PSP</td>\n",
       "      <td>24.281250</td>\n",
       "      <td>0.098755</td>\n",
       "    </tr>\n",
       "    <tr>\n",
       "      <td>PSV</td>\n",
       "      <td>21.843750</td>\n",
       "      <td>0.088867</td>\n",
       "    </tr>\n",
       "    <tr>\n",
       "      <td>PS4</td>\n",
       "      <td>15.960938</td>\n",
       "      <td>0.064941</td>\n",
       "    </tr>\n",
       "  </tbody>\n",
       "</table>\n",
       "</div>"
      ],
      "text/plain": [
       "            jp_sales     share\n",
       "platform                      \n",
       "3DS       100.625000  0.409180\n",
       "PS3        49.406250  0.200928\n",
       "PSP        24.281250  0.098755\n",
       "PSV        21.843750  0.088867\n",
       "PS4        15.960938  0.064941"
      ]
     },
     "execution_count": 68,
     "metadata": {},
     "output_type": "execute_result"
    }
   ],
   "source": [
    "jp_sales_by_platforms = (\n",
    "    games_actual\n",
    "    .pivot_table(index='platform', values='jp_sales', aggfunc='sum')\n",
    "    .sort_values(by='jp_sales', ascending=False)\n",
    ")\n",
    "jp_sales_by_platforms['share'] = jp_sales_by_platforms['jp_sales'] / jp_sales_by_platforms['jp_sales'].sum()\n",
    "jp_sales_by_platforms.head()"
   ]
  },
  {
   "cell_type": "code",
   "execution_count": 69,
   "metadata": {},
   "outputs": [
    {
     "data": {
      "text/html": [
       "<div>\n",
       "<style scoped>\n",
       "    .dataframe tbody tr th:only-of-type {\n",
       "        vertical-align: middle;\n",
       "    }\n",
       "\n",
       "    .dataframe tbody tr th {\n",
       "        vertical-align: top;\n",
       "    }\n",
       "\n",
       "    .dataframe thead th {\n",
       "        text-align: right;\n",
       "    }\n",
       "</style>\n",
       "<table border=\"1\" class=\"dataframe\">\n",
       "  <thead>\n",
       "    <tr style=\"text-align: right;\">\n",
       "      <th></th>\n",
       "      <th>jp_sales</th>\n",
       "      <th>share</th>\n",
       "    </tr>\n",
       "    <tr>\n",
       "      <th>genre</th>\n",
       "      <th></th>\n",
       "      <th></th>\n",
       "    </tr>\n",
       "  </thead>\n",
       "  <tbody>\n",
       "    <tr>\n",
       "      <td>Role-Playing</td>\n",
       "      <td>79.875000</td>\n",
       "      <td>0.324951</td>\n",
       "    </tr>\n",
       "    <tr>\n",
       "      <td>Action</td>\n",
       "      <td>63.625000</td>\n",
       "      <td>0.258789</td>\n",
       "    </tr>\n",
       "    <tr>\n",
       "      <td>Misc</td>\n",
       "      <td>17.843750</td>\n",
       "      <td>0.072571</td>\n",
       "    </tr>\n",
       "    <tr>\n",
       "      <td>Fighting</td>\n",
       "      <td>12.382812</td>\n",
       "      <td>0.050354</td>\n",
       "    </tr>\n",
       "    <tr>\n",
       "      <td>Platform</td>\n",
       "      <td>12.132812</td>\n",
       "      <td>0.049347</td>\n",
       "    </tr>\n",
       "  </tbody>\n",
       "</table>\n",
       "</div>"
      ],
      "text/plain": [
       "               jp_sales     share\n",
       "genre                            \n",
       "Role-Playing  79.875000  0.324951\n",
       "Action        63.625000  0.258789\n",
       "Misc          17.843750  0.072571\n",
       "Fighting      12.382812  0.050354\n",
       "Platform      12.132812  0.049347"
      ]
     },
     "execution_count": 69,
     "metadata": {},
     "output_type": "execute_result"
    }
   ],
   "source": [
    "jp_sales_by_genres = (\n",
    "    games_actual\n",
    "    .pivot_table(index='genre', values='jp_sales', aggfunc='sum')\n",
    "    .sort_values(by='jp_sales', ascending=False)\n",
    ")\n",
    "jp_sales_by_genres['share'] = jp_sales_by_genres['jp_sales'] / jp_sales_by_genres['jp_sales'].sum()\n",
    "jp_sales_by_genres.head()"
   ]
  },
  {
   "cell_type": "code",
   "execution_count": 70,
   "metadata": {},
   "outputs": [
    {
     "data": {
      "text/html": [
       "<div>\n",
       "<style scoped>\n",
       "    .dataframe tbody tr th:only-of-type {\n",
       "        vertical-align: middle;\n",
       "    }\n",
       "\n",
       "    .dataframe tbody tr th {\n",
       "        vertical-align: top;\n",
       "    }\n",
       "\n",
       "    .dataframe thead th {\n",
       "        text-align: right;\n",
       "    }\n",
       "</style>\n",
       "<table border=\"1\" class=\"dataframe\">\n",
       "  <thead>\n",
       "    <tr style=\"text-align: right;\">\n",
       "      <th></th>\n",
       "      <th>jp_sales</th>\n",
       "      <th>share</th>\n",
       "    </tr>\n",
       "    <tr>\n",
       "      <th>rating</th>\n",
       "      <th></th>\n",
       "      <th></th>\n",
       "    </tr>\n",
       "  </thead>\n",
       "  <tbody>\n",
       "    <tr>\n",
       "      <td>unknown</td>\n",
       "      <td>129.750000</td>\n",
       "      <td>0.527344</td>\n",
       "    </tr>\n",
       "    <tr>\n",
       "      <td>T</td>\n",
       "      <td>39.125000</td>\n",
       "      <td>0.159058</td>\n",
       "    </tr>\n",
       "    <tr>\n",
       "      <td>E</td>\n",
       "      <td>37.625000</td>\n",
       "      <td>0.152954</td>\n",
       "    </tr>\n",
       "    <tr>\n",
       "      <td>M</td>\n",
       "      <td>27.843750</td>\n",
       "      <td>0.113159</td>\n",
       "    </tr>\n",
       "    <tr>\n",
       "      <td>E10+</td>\n",
       "      <td>11.609375</td>\n",
       "      <td>0.047180</td>\n",
       "    </tr>\n",
       "  </tbody>\n",
       "</table>\n",
       "</div>"
      ],
      "text/plain": [
       "           jp_sales     share\n",
       "rating                       \n",
       "unknown  129.750000  0.527344\n",
       "T         39.125000  0.159058\n",
       "E         37.625000  0.152954\n",
       "M         27.843750  0.113159\n",
       "E10+      11.609375  0.047180"
      ]
     },
     "execution_count": 70,
     "metadata": {},
     "output_type": "execute_result"
    }
   ],
   "source": [
    "jp_sales_by_rating = (\n",
    "    games_actual\n",
    "    .pivot_table(index='rating', values='jp_sales', aggfunc='sum')\n",
    "    .sort_values(by='jp_sales', ascending=False)\n",
    ")\n",
    "jp_sales_by_rating['share'] = jp_sales_by_rating['jp_sales'] / jp_sales_by_rating['jp_sales'].sum()\n",
    "jp_sales_by_rating.head()"
   ]
  },
  {
   "cell_type": "markdown",
   "metadata": {},
   "source": [
    "А вот *японцы* оказались фанатами портативной техники - продажи игр на *Nintendo 3DS* вдвое выше, чем у ближайшего конкурента, - *PS3* - а также игр в жанре *role-playing* и *action*. Возрастное ограничение на играх в этой азиатской стране указывались значительно реже, чем в предыдущих регионах - всего в половине случаев. Возможно, это случилось из-за того, что они использовали свой рейтинг"
   ]
  },
  {
   "cell_type": "markdown",
   "metadata": {},
   "source": [
    "Вывод: портрет пользователей из Северной Америки и Европы очень схож: предпочтение игр в жанре *action* с возрастным ограничением *13+*, различаются лишь платформы, на которых играют жители данных регионов: если американцы в большинстве случаев выбирали свою приставку - *Xbox 360* - то вот европейцы больше склонялись к продукции из азии, но и американский бренд не обходили стороной. \n",
    "\n",
    "А вот портрет типичного азиатского геймера сильно отличается от остальных: вместо *экшена* он выберет *ролевую игру*, а вместо громоздких *Play Station* и *Xbox* - портативную *Nintendo 3DS*. Возрастное же ограничение по рейтингу ESRB в данной стране применяется меньше, чем в других регионах"
   ]
  },
  {
   "cell_type": "markdown",
   "metadata": {},
   "source": [
    "## Проверка гипотез"
   ]
  },
  {
   "cell_type": "markdown",
   "metadata": {},
   "source": [
    "Проверим следующие гипотезы:\n",
    "* Средние пользовательские рейтинги платформ Xbox One и PC одинаковые;\n",
    "* Средние пользовательские рейтинги жанров Action (англ. «действие», экшен-игры) и Sports (англ. «спортивные соревнования») разные.\n",
    "\n",
    "Для проверки гипотез будем использовать Т-критерий Стьюдента для независимых выборок"
   ]
  },
  {
   "cell_type": "code",
   "execution_count": 71,
   "metadata": {},
   "outputs": [
    {
     "name": "stdout",
     "output_type": "stream",
     "text": [
      "Средняя оценка пользователя для игры на платформе платформы Xbox One: 6.52\n",
      "Дисперсия: 1.91\n",
      "Средняя оценка пользователя для игры на платформе PC: 6.46\n",
      "Дисперсия: 2.58\n"
     ]
    }
   ],
   "source": [
    "print('Средняя оценка пользователя для игры на платформе платформы Xbox One: {0:.2f}\\nДисперсия: {1:.2f}'.\\\n",
    "        format(games_actual.query('platform == \"XOne\"')['user_score'].mean(),\n",
    "               np.var(games_actual.query('platform == \"XOne\"')['user_score'], ddof=1)))\n",
    "print('Средняя оценка пользователя для игры на платформе PC: {0:.2f}\\nДисперсия: {1:.2f}'.\\\n",
    "        format(games_actual.query('platform == \"PC\"')['user_score'].mean(),\n",
    "               np.var(games_actual.query('platform == \"PC\"')['user_score'], ddof=1)))"
   ]
  },
  {
   "cell_type": "markdown",
   "metadata": {},
   "source": [
    "Как мы видим, значения действительно похожи. Давайте проверим с помощью статистических методов: в данном случае воспользуемся Т-критерием Стьюдента с критическим уровнем значимости равным 0.05, так как в данном эксперименте нам не важна высокая точность. Нулевая гипотеза будет звучать следующим образом: *средняя оценка пользователей на игру для платформы Xbox One равна средней оценке пользователей на игру для персонального компьютера*"
   ]
  },
  {
   "cell_type": "code",
   "execution_count": 72,
   "metadata": {},
   "outputs": [
    {
     "name": "stdout",
     "output_type": "stream",
     "text": [
      "p-value = 0.67\n",
      "Не получилось отвергнуть нулевую гипотезу\n"
     ]
    }
   ],
   "source": [
    "results1 = st.ttest_ind(games_actual.query('platform == \"XOne\" and user_score.isna() == False')['user_score'],\n",
    "                       games_actual.query('platform == \"PC\" and user_score.isna() == False')['user_score'], equal_var=False)\n",
    "alpha = 0.05\n",
    "\n",
    "print('p-value = {0:.2f}'.format(results1.pvalue))\n",
    "if results1.pvalue < alpha:\n",
    "    print('Отвергаем нулевую гипотезу')\n",
    "else:\n",
    "    print('Не получилось отвергнуть нулевую гипотезу')"
   ]
  },
  {
   "cell_type": "markdown",
   "metadata": {},
   "source": [
    "Как мы видим, вероятность того, что средние из других случайных выборок по оценкам пользователей для Xbox и PC будут равны, равна 67%, что значительно выше установленного нами критического уровня статистической значимости, следовательно, данную гипотезу отвергнуть мы не можем"
   ]
  },
  {
   "cell_type": "code",
   "execution_count": 73,
   "metadata": {},
   "outputs": [
    {
     "data": {
      "image/png": "[encoded data removed]",
      "text/plain": [
       "<Figure size 576x432 with 1 Axes>"
      ]
     },
     "metadata": {
      "needs_background": "light"
     },
     "output_type": "display_data"
    }
   ],
   "source": [
    "plt.figure(figsize=(8,6))\n",
    "plt.hist(games_actual.query('platform == \"PC\"')['user_score'], label='PC', alpha = 0.8)\n",
    "plt.hist(games_actual.query('platform == \"XOne\"')['user_score'], label='Xbox One', alpha = 0.9)\n",
    "plt.xlabel('средние оценки пользователей')\n",
    "plt.ylabel('количество оценок')\n",
    "plt.title('Распределение средних оценок пользователей игры для платформ Xbox One и PC')\n",
    "plt.legend(loc='upper left', fontsize=12)\n",
    "plt.grid()\n",
    "plt.show()"
   ]
  },
  {
   "cell_type": "markdown",
   "metadata": {},
   "source": [
    "Тот же самый эксперимент проведем и для второго вопроса: различаются ли средние пользовательские рейтинги дл жанров *action* и *sports*? Для начала также найдем средние значения и дисперсии данных выборок и сравним их между собой"
   ]
  },
  {
   "cell_type": "code",
   "execution_count": 74,
   "metadata": {},
   "outputs": [
    {
     "name": "stdout",
     "output_type": "stream",
     "text": [
      "Средняя пользовательская оценка игры в жанре action: 6.79\n",
      "Дисперсия: 1.80\n",
      "Средняя пользовательская оценка игры в жанре sports: 5.65\n",
      "Дисперсия: 2.88\n"
     ]
    }
   ],
   "source": [
    "print('Средняя пользовательская оценка игры в жанре action: {0:.2f}\\nДисперсия: {1:.2f}'.\\\n",
    "        format(games_actual.query('genre == \"Action\"')['user_score'].mean(),\n",
    "               np.var(games_actual.query('genre == \"Action\"')['user_score'], ddof=1)))\n",
    "print('Средняя пользовательская оценка игры в жанре sports: {0:.2f}\\nДисперсия: {1:.2f}'.\\\n",
    "        format(games_actual.query('genre == \"Sports\"')['user_score'].mean(),\n",
    "               np.var(games_actual.query('genre == \"Sports\"')['user_score'], ddof=1)))"
   ]
  },
  {
   "cell_type": "markdown",
   "metadata": {},
   "source": [
    "По первым ощущениям, выборки и их средние значения не очень равны, но доверимся в этом вопросе статистическим методам, а не собственному воображению. Проверяем нулевую гипотезу: *средние значения оценок пользователей для игр из жанра action и sports равны*"
   ]
  },
  {
   "cell_type": "code",
   "execution_count": 75,
   "metadata": {},
   "outputs": [
    {
     "name": "stdout",
     "output_type": "stream",
     "text": [
      "p-value = 4.50e-19\n",
      "Отвергаем нулевую гипотезу\n"
     ]
    }
   ],
   "source": [
    "results2 = st.ttest_ind(games_actual.query('genre == \"Action\" and user_score.isna() == False')['user_score'],\n",
    "                       games_actual.query('genre == \"Sports\" and user_score.isna() == False')['user_score'], equal_var=False)\n",
    "alpha = 0.05\n",
    "\n",
    "print('p-value = {0:.2e}'.format(results2.pvalue))\n",
    "if results2.pvalue < alpha:\n",
    "    print('Отвергаем нулевую гипотезу')\n",
    "else:\n",
    "    print('Не получилось отвергнуть нулевую гипотезу')"
   ]
  },
  {
   "cell_type": "markdown",
   "metadata": {},
   "source": [
    "Полученное значение p-value очень низкое, а значит нулевую гипотезу нам придется отвергнуть"
   ]
  },
  {
   "cell_type": "code",
   "execution_count": 76,
   "metadata": {},
   "outputs": [
    {
     "data": {
      "image/png": "[encoded data removed]",
      "text/plain": [
       "<Figure size 576x432 with 1 Axes>"
      ]
     },
     "metadata": {
      "needs_background": "light"
     },
     "output_type": "display_data"
    }
   ],
   "source": [
    "plt.figure(figsize=(8,6))\n",
    "plt.hist(games_actual.query('genre == \"Action\"')['user_score'], label='Action', alpha = 0.7)\n",
    "plt.hist(games_actual.query('genre == \"Sports\"')['user_score'], label='Sports', alpha = 0.9)\n",
    "plt.xlabel('средние оценки пользователей')\n",
    "plt.ylabel('количество оценок')\n",
    "plt.title('Распределение средних оценок пользователей на игры из жанров Action и Sports')\n",
    "plt.legend(loc='upper left', fontsize=12)\n",
    "plt.grid()\n",
    "plt.show()"
   ]
  },
  {
   "cell_type": "markdown",
   "metadata": {},
   "source": [
    "Вывод: мы проверили две гипотезы:\n",
    "* *равны ли средние совокупностей оценок по жанру action и sports: p-value = 4.50e-19, нулевая гипотеза отвергнута;*\n",
    "* *равны ли средние совокупностей оценок игр для платформ Xbox One и PC: p-value = 0.67, нулевую гипотезу отвергнуть не удалось*"
   ]
  },
  {
   "cell_type": "markdown",
   "metadata": {},
   "source": [
    "## Вывод"
   ]
  },
  {
   "cell_type": "markdown",
   "metadata": {},
   "source": [
    "На этапе предобработки данных мы удалили 141 строчки с данными: у 2 из них были пропущены имя и жанр игры, еще у 139 - не удалось установить год выпуска - пропуски в столбцах с возрастным ограничением заменили на *'unknown'*, остальные пропуски в столбцах, требующих численный тип данных, оставили значения *NaN*, так как такие пропуски неслучайные и восстановить их невозможно. Также мы сократили траты на хранение данных почти вдвое, засчет изменения типов данных в столбцах на более эффективные без потери качества и добавили столбец с суммарными показателями по продажам.\n",
    "\n",
    "На этапе анализа данных мы рассмотрели данные из индустрии игр, выделили последний актуальный период - с 2011-го по 2016-й года - и проанализировали его. Результатом анализа можно назвать следующие выводы:\n",
    "* самой перспективной платформой для игр на 2017-й год является PS4;\n",
    "* оценки пользователей не влияют на продажи игр;\n",
    "* чтобы рассчитывать на многомиллионные продажи необходимо получить высокие оценки от критиков (70 и выше);\n",
    "* продажи в пяти наиболее популярных жанрах вдвое выше, чем в остальных, а игры из этих жанров занимают 70%-ю долю в индустрии.\n",
    "\n",
    "Также мы составили портреты пользователей для разных регионов:\n",
    "* для Северной Америки характерно: платформа - *Xbox 360*, жанр - *action*, возрастное ограничение, равное *13+*;\n",
    "* для Европы: *Play Station 3*, *action* и также *13+*\n",
    "* для Японии: *Nintendo 3DS*, *ролевые игры* и не указанный возрастной рейтинг по классификации *ESRB* (возможно, в данной стране действует другая система установления рейтинга играм, которой японцы придерживаются)\n",
    "\n",
    "В завершении проекта проверили две гипотезы:\n",
    "* *равны ли средние совокупностей оценок по жанру action и sports: p-value = 4.50e-19 < 0.05 (установленный нами критический уровень значимости), нулевая гипотеза отвергнута;*\n",
    "* *равны ли средние совокупностей оценок игр для платформ Xbox One и PC: p-value = 0.67 > 0.05, нулевую гипотезу отвергнуть не удалось*"
   ]
  }
 ],
 "metadata": {
  "ExecuteTimeLog": [
   {
    "duration": 620,
    "start_time": "2021-10-04T07:31:27.762Z"
   },
   {
    "duration": 40,
    "start_time": "2021-10-04T07:33:25.842Z"
   },
   {
    "duration": 18,
    "start_time": "2021-10-04T07:33:48.078Z"
   },
   {
    "duration": 81,
    "start_time": "2021-10-04T07:34:52.162Z"
   },
   {
    "duration": 10,
    "start_time": "2021-10-04T07:35:11.731Z"
   },
   {
    "duration": 17,
    "start_time": "2021-10-04T07:39:48.824Z"
   },
   {
    "duration": 352,
    "start_time": "2021-10-04T07:45:36.547Z"
   },
   {
    "duration": 4,
    "start_time": "2021-10-04T07:47:01.039Z"
   },
   {
    "duration": 250,
    "start_time": "2021-10-04T07:47:17.134Z"
   },
   {
    "duration": 4,
    "start_time": "2021-10-04T07:47:23.459Z"
   },
   {
    "duration": 283,
    "start_time": "2021-10-04T07:48:05.566Z"
   },
   {
    "duration": 255,
    "start_time": "2021-10-04T07:48:16.075Z"
   },
   {
    "duration": 285,
    "start_time": "2021-10-04T07:50:01.798Z"
   },
   {
    "duration": 249,
    "start_time": "2021-10-04T07:51:04.393Z"
   },
   {
    "duration": 4,
    "start_time": "2021-10-04T07:52:37.755Z"
   },
   {
    "duration": 4,
    "start_time": "2021-10-04T07:54:17.820Z"
   },
   {
    "duration": 3,
    "start_time": "2021-10-04T07:55:07.383Z"
   },
   {
    "duration": 4,
    "start_time": "2021-10-04T07:55:35.047Z"
   },
   {
    "duration": 268,
    "start_time": "2021-10-04T07:56:01.863Z"
   },
   {
    "duration": 1966,
    "start_time": "2021-10-04T07:56:14.568Z"
   },
   {
    "duration": 3,
    "start_time": "2021-10-04T07:56:59.957Z"
   },
   {
    "duration": 4,
    "start_time": "2021-10-04T07:57:37.861Z"
   },
   {
    "duration": 3,
    "start_time": "2021-10-04T07:57:46.852Z"
   },
   {
    "duration": 4,
    "start_time": "2021-10-04T07:57:49.432Z"
   },
   {
    "duration": 4,
    "start_time": "2021-10-04T07:58:08.200Z"
   },
   {
    "duration": 274,
    "start_time": "2021-10-04T07:58:31.872Z"
   },
   {
    "duration": 3,
    "start_time": "2021-10-04T07:58:48.578Z"
   },
   {
    "duration": 5,
    "start_time": "2021-10-04T07:58:55.148Z"
   },
   {
    "duration": 4,
    "start_time": "2021-10-04T07:59:41.914Z"
   },
   {
    "duration": 609,
    "start_time": "2021-10-04T08:00:14.460Z"
   },
   {
    "duration": 970,
    "start_time": "2021-10-04T08:00:32.497Z"
   },
   {
    "duration": 5,
    "start_time": "2021-10-04T08:04:32.692Z"
   },
   {
    "duration": 83,
    "start_time": "2021-10-04T08:19:43.142Z"
   },
   {
    "duration": 291,
    "start_time": "2021-10-04T08:20:07.337Z"
   },
   {
    "duration": 287,
    "start_time": "2021-10-04T08:20:43.429Z"
   },
   {
    "duration": 93,
    "start_time": "2021-10-04T08:21:13.341Z"
   },
   {
    "duration": 6,
    "start_time": "2021-10-04T08:21:16.125Z"
   },
   {
    "duration": 290,
    "start_time": "2021-10-04T08:22:02.969Z"
   },
   {
    "duration": 3,
    "start_time": "2021-10-04T08:23:43.184Z"
   },
   {
    "duration": 274,
    "start_time": "2021-10-04T08:23:49.404Z"
   },
   {
    "duration": 265,
    "start_time": "2021-10-04T08:23:58.577Z"
   },
   {
    "duration": 270,
    "start_time": "2021-10-04T08:24:32.647Z"
   },
   {
    "duration": 275,
    "start_time": "2021-10-04T08:24:43.162Z"
   },
   {
    "duration": 261,
    "start_time": "2021-10-04T08:24:55.116Z"
   },
   {
    "duration": 6,
    "start_time": "2021-10-04T08:25:33.656Z"
   },
   {
    "duration": 275,
    "start_time": "2021-10-04T08:26:29.701Z"
   },
   {
    "duration": 299,
    "start_time": "2021-10-04T08:26:38.783Z"
   },
   {
    "duration": 12,
    "start_time": "2021-10-04T08:28:16.812Z"
   },
   {
    "duration": 17,
    "start_time": "2021-10-04T08:28:25.768Z"
   },
   {
    "duration": 278,
    "start_time": "2021-10-04T08:43:05.027Z"
   },
   {
    "duration": 86,
    "start_time": "2021-10-04T08:43:40.965Z"
   },
   {
    "duration": 4,
    "start_time": "2021-10-04T08:43:52.128Z"
   },
   {
    "duration": 3,
    "start_time": "2021-10-04T08:43:59.340Z"
   },
   {
    "duration": 4,
    "start_time": "2021-10-04T08:44:05.436Z"
   },
   {
    "duration": 4,
    "start_time": "2021-10-04T08:44:09.046Z"
   },
   {
    "duration": 255,
    "start_time": "2021-10-04T08:46:40.807Z"
   },
   {
    "duration": 525,
    "start_time": "2021-10-04T08:46:58.228Z"
   },
   {
    "duration": 38,
    "start_time": "2021-10-04T08:46:58.755Z"
   },
   {
    "duration": 19,
    "start_time": "2021-10-04T08:46:58.794Z"
   },
   {
    "duration": 17,
    "start_time": "2021-10-04T08:46:58.814Z"
   },
   {
    "duration": 30,
    "start_time": "2021-10-04T08:46:58.833Z"
   },
   {
    "duration": 19,
    "start_time": "2021-10-04T08:46:58.864Z"
   },
   {
    "duration": 325,
    "start_time": "2021-10-04T08:46:58.884Z"
   },
   {
    "duration": 279,
    "start_time": "2021-10-04T08:47:59.576Z"
   },
   {
    "duration": 821,
    "start_time": "2021-10-04T08:48:18.146Z"
   },
   {
    "duration": 295,
    "start_time": "2021-10-04T08:48:23.738Z"
   },
   {
    "duration": 281,
    "start_time": "2021-10-04T08:48:39.542Z"
   },
   {
    "duration": 9,
    "start_time": "2021-10-04T08:48:45.249Z"
   },
   {
    "duration": 267,
    "start_time": "2021-10-04T08:49:51.919Z"
   },
   {
    "duration": 5,
    "start_time": "2021-10-04T08:50:00.968Z"
   },
   {
    "duration": 554,
    "start_time": "2021-10-05T07:29:38.688Z"
   },
   {
    "duration": 38,
    "start_time": "2021-10-05T07:29:39.244Z"
   },
   {
    "duration": 19,
    "start_time": "2021-10-05T07:29:39.284Z"
   },
   {
    "duration": 9,
    "start_time": "2021-10-05T07:29:39.305Z"
   },
   {
    "duration": 16,
    "start_time": "2021-10-05T07:29:39.316Z"
   },
   {
    "duration": 18,
    "start_time": "2021-10-05T07:29:39.333Z"
   },
   {
    "duration": 6,
    "start_time": "2021-10-05T07:29:39.353Z"
   },
   {
    "duration": 9,
    "start_time": "2021-10-05T07:47:51.654Z"
   },
   {
    "duration": 536,
    "start_time": "2021-10-05T07:48:06.904Z"
   },
   {
    "duration": 39,
    "start_time": "2021-10-05T07:48:07.442Z"
   },
   {
    "duration": 18,
    "start_time": "2021-10-05T07:48:07.483Z"
   },
   {
    "duration": 19,
    "start_time": "2021-10-05T07:48:07.503Z"
   },
   {
    "duration": 25,
    "start_time": "2021-10-05T07:48:07.524Z"
   },
   {
    "duration": 8,
    "start_time": "2021-10-05T07:48:07.550Z"
   },
   {
    "duration": 20,
    "start_time": "2021-10-05T07:48:07.560Z"
   },
   {
    "duration": 20,
    "start_time": "2021-10-05T07:48:07.582Z"
   },
   {
    "duration": 13,
    "start_time": "2021-10-05T07:49:51.052Z"
   },
   {
    "duration": 14,
    "start_time": "2021-10-05T07:50:26.871Z"
   },
   {
    "duration": 10,
    "start_time": "2021-10-05T07:50:32.815Z"
   },
   {
    "duration": 14,
    "start_time": "2021-10-05T07:50:41.462Z"
   },
   {
    "duration": 265,
    "start_time": "2021-10-05T08:02:23.698Z"
   },
   {
    "duration": 581,
    "start_time": "2021-10-05T08:02:58.714Z"
   },
   {
    "duration": 39,
    "start_time": "2021-10-05T08:02:59.298Z"
   },
   {
    "duration": 17,
    "start_time": "2021-10-05T08:02:59.339Z"
   },
   {
    "duration": 22,
    "start_time": "2021-10-05T08:02:59.358Z"
   },
   {
    "duration": 16,
    "start_time": "2021-10-05T08:02:59.382Z"
   },
   {
    "duration": 4,
    "start_time": "2021-10-05T08:02:59.400Z"
   },
   {
    "duration": 13,
    "start_time": "2021-10-05T08:02:59.406Z"
   },
   {
    "duration": 12,
    "start_time": "2021-10-05T08:02:59.421Z"
   },
   {
    "duration": 12,
    "start_time": "2021-10-05T08:02:59.449Z"
   },
   {
    "duration": 13,
    "start_time": "2021-10-05T08:02:59.463Z"
   },
   {
    "duration": 22,
    "start_time": "2021-10-05T08:02:59.477Z"
   },
   {
    "duration": 4,
    "start_time": "2021-10-05T08:02:59.501Z"
   },
   {
    "duration": 12,
    "start_time": "2021-10-05T08:04:25.568Z"
   },
   {
    "duration": 25,
    "start_time": "2021-10-05T08:06:21.696Z"
   },
   {
    "duration": 23,
    "start_time": "2021-10-05T08:07:12.817Z"
   },
   {
    "duration": 16,
    "start_time": "2021-10-05T08:07:30.304Z"
   },
   {
    "duration": 5,
    "start_time": "2021-10-05T08:11:06.348Z"
   },
   {
    "duration": 5,
    "start_time": "2021-10-05T08:11:14.507Z"
   },
   {
    "duration": 74,
    "start_time": "2021-10-05T08:24:25.300Z"
   },
   {
    "duration": 6,
    "start_time": "2021-10-05T08:24:34.072Z"
   },
   {
    "duration": 29,
    "start_time": "2021-10-05T08:24:47.331Z"
   },
   {
    "duration": 6,
    "start_time": "2021-10-05T08:32:47.292Z"
   },
   {
    "duration": 6,
    "start_time": "2021-10-05T08:32:57.467Z"
   },
   {
    "duration": 7,
    "start_time": "2021-10-05T08:33:09.427Z"
   },
   {
    "duration": 6,
    "start_time": "2021-10-05T08:33:15.466Z"
   },
   {
    "duration": 4786,
    "start_time": "2021-10-05T08:37:35.034Z"
   },
   {
    "duration": 4875,
    "start_time": "2021-10-05T08:38:29.623Z"
   },
   {
    "duration": 33,
    "start_time": "2021-10-05T08:39:31.456Z"
   },
   {
    "duration": 753,
    "start_time": "2021-10-05T08:41:23.500Z"
   },
   {
    "duration": 20,
    "start_time": "2021-10-05T08:41:54.070Z"
   },
   {
    "duration": 32,
    "start_time": "2021-10-05T08:47:54.476Z"
   },
   {
    "duration": 3,
    "start_time": "2021-10-05T08:51:25.261Z"
   },
   {
    "duration": 319,
    "start_time": "2021-10-05T08:55:14.885Z"
   },
   {
    "duration": 3,
    "start_time": "2021-10-05T08:55:19.776Z"
   },
   {
    "duration": 4,
    "start_time": "2021-10-05T08:59:22.584Z"
   },
   {
    "duration": 4,
    "start_time": "2021-10-05T09:06:01.253Z"
   },
   {
    "duration": 4,
    "start_time": "2021-10-05T09:06:35.063Z"
   },
   {
    "duration": 4,
    "start_time": "2021-10-05T09:06:46.492Z"
   },
   {
    "duration": 221,
    "start_time": "2021-10-05T09:10:07.395Z"
   },
   {
    "duration": 3,
    "start_time": "2021-10-05T09:10:37.095Z"
   },
   {
    "duration": 4,
    "start_time": "2021-10-05T09:10:44.431Z"
   },
   {
    "duration": 74,
    "start_time": "2021-10-05T09:11:29.231Z"
   },
   {
    "duration": 4,
    "start_time": "2021-10-05T09:11:37.680Z"
   },
   {
    "duration": 65,
    "start_time": "2021-10-05T09:13:52.899Z"
   },
   {
    "duration": 4,
    "start_time": "2021-10-05T09:14:06.399Z"
   },
   {
    "duration": 3527,
    "start_time": "2021-10-05T09:15:25.289Z"
   },
   {
    "duration": 554,
    "start_time": "2021-10-05T09:18:16.176Z"
   },
   {
    "duration": 39,
    "start_time": "2021-10-05T09:18:16.732Z"
   },
   {
    "duration": 18,
    "start_time": "2021-10-05T09:18:16.773Z"
   },
   {
    "duration": 11,
    "start_time": "2021-10-05T09:18:16.793Z"
   },
   {
    "duration": 14,
    "start_time": "2021-10-05T09:18:16.806Z"
   },
   {
    "duration": 4,
    "start_time": "2021-10-05T09:18:16.822Z"
   },
   {
    "duration": 9,
    "start_time": "2021-10-05T09:18:16.849Z"
   },
   {
    "duration": 12,
    "start_time": "2021-10-05T09:18:16.859Z"
   },
   {
    "duration": 14,
    "start_time": "2021-10-05T09:18:16.874Z"
   },
   {
    "duration": 11,
    "start_time": "2021-10-05T09:18:16.890Z"
   },
   {
    "duration": 16,
    "start_time": "2021-10-05T09:18:16.903Z"
   },
   {
    "duration": 33,
    "start_time": "2021-10-05T09:18:16.920Z"
   },
   {
    "duration": 8,
    "start_time": "2021-10-05T09:18:16.954Z"
   },
   {
    "duration": 6,
    "start_time": "2021-10-05T09:18:16.964Z"
   },
   {
    "duration": 3825,
    "start_time": "2021-10-05T09:18:16.972Z"
   },
   {
    "duration": 1101,
    "start_time": "2021-10-05T09:18:19.698Z"
   },
   {
    "duration": 3869,
    "start_time": "2021-10-05T09:18:39.872Z"
   },
   {
    "duration": 8836,
    "start_time": "2021-10-05T09:18:43.940Z"
   },
   {
    "duration": 3662,
    "start_time": "2021-10-05T09:19:10.253Z"
   },
   {
    "duration": 77,
    "start_time": "2021-10-05T09:31:58.365Z"
   },
   {
    "duration": 96,
    "start_time": "2021-10-05T09:32:26.866Z"
   },
   {
    "duration": 228,
    "start_time": "2021-10-05T09:32:42.019Z"
   },
   {
    "duration": 74,
    "start_time": "2021-10-05T09:32:50.967Z"
   },
   {
    "duration": 75,
    "start_time": "2021-10-05T09:44:53.851Z"
   },
   {
    "duration": 63,
    "start_time": "2021-10-05T09:45:14.054Z"
   },
   {
    "duration": 72,
    "start_time": "2021-10-05T09:46:16.932Z"
   },
   {
    "duration": 87,
    "start_time": "2021-10-05T09:47:21.413Z"
   },
   {
    "duration": 5,
    "start_time": "2021-10-05T09:47:57.837Z"
   },
   {
    "duration": 6,
    "start_time": "2021-10-05T09:49:28.447Z"
   },
   {
    "duration": 263,
    "start_time": "2021-10-05T09:49:34.571Z"
   },
   {
    "duration": 6386,
    "start_time": "2021-10-05T09:51:24.845Z"
   },
   {
    "duration": 36,
    "start_time": "2021-10-05T09:52:07.036Z"
   },
   {
    "duration": 408,
    "start_time": "2021-10-05T09:52:37.515Z"
   },
   {
    "duration": 452,
    "start_time": "2021-10-05T09:52:53.022Z"
   },
   {
    "duration": 39,
    "start_time": "2021-10-05T09:52:55.964Z"
   },
   {
    "duration": 36,
    "start_time": "2021-10-05T09:53:13.638Z"
   },
   {
    "duration": 28,
    "start_time": "2021-10-05T09:53:32.549Z"
   },
   {
    "duration": 29,
    "start_time": "2021-10-05T09:53:49.265Z"
   },
   {
    "duration": 85,
    "start_time": "2021-10-05T09:53:56.061Z"
   },
   {
    "duration": 4,
    "start_time": "2021-10-05T09:54:03.549Z"
   },
   {
    "duration": 29,
    "start_time": "2021-10-05T09:54:35.038Z"
   },
   {
    "duration": 118,
    "start_time": "2021-10-05T09:54:51.274Z"
   },
   {
    "duration": 249,
    "start_time": "2021-10-05T09:55:32.227Z"
   },
   {
    "duration": 4,
    "start_time": "2021-10-05T09:55:51.339Z"
   },
   {
    "duration": 29,
    "start_time": "2021-10-05T09:55:57.215Z"
   },
   {
    "duration": 68,
    "start_time": "2021-10-05T09:56:50.764Z"
   },
   {
    "duration": 74,
    "start_time": "2021-10-05T09:57:02.955Z"
   },
   {
    "duration": 6,
    "start_time": "2021-10-05T09:58:04.825Z"
   },
   {
    "duration": 2946,
    "start_time": "2021-10-05T09:58:07.240Z"
   },
   {
    "duration": 586,
    "start_time": "2021-10-05T09:59:57.704Z"
   },
   {
    "duration": 42,
    "start_time": "2021-10-05T09:59:58.292Z"
   },
   {
    "duration": 20,
    "start_time": "2021-10-05T09:59:58.336Z"
   },
   {
    "duration": 11,
    "start_time": "2021-10-05T09:59:58.358Z"
   },
   {
    "duration": 19,
    "start_time": "2021-10-05T09:59:58.371Z"
   },
   {
    "duration": 5,
    "start_time": "2021-10-05T09:59:58.392Z"
   },
   {
    "duration": 11,
    "start_time": "2021-10-05T09:59:58.399Z"
   },
   {
    "duration": 45,
    "start_time": "2021-10-05T09:59:58.413Z"
   },
   {
    "duration": 13,
    "start_time": "2021-10-05T09:59:58.461Z"
   },
   {
    "duration": 13,
    "start_time": "2021-10-05T09:59:58.476Z"
   },
   {
    "duration": 15,
    "start_time": "2021-10-05T09:59:58.491Z"
   },
   {
    "duration": 5,
    "start_time": "2021-10-05T09:59:58.508Z"
   },
   {
    "duration": 37,
    "start_time": "2021-10-05T09:59:58.515Z"
   },
   {
    "duration": 7,
    "start_time": "2021-10-05T09:59:58.554Z"
   },
   {
    "duration": 3013,
    "start_time": "2021-10-05T09:59:58.562Z"
   },
   {
    "duration": 29,
    "start_time": "2021-10-05T10:00:01.577Z"
   },
   {
    "duration": 3,
    "start_time": "2021-10-05T10:00:01.612Z"
   },
   {
    "duration": 591,
    "start_time": "2021-10-05T10:02:39.828Z"
   },
   {
    "duration": 589,
    "start_time": "2021-10-05T10:02:48.507Z"
   },
   {
    "duration": 45,
    "start_time": "2021-10-05T10:02:49.098Z"
   },
   {
    "duration": 22,
    "start_time": "2021-10-05T10:02:49.146Z"
   },
   {
    "duration": 13,
    "start_time": "2021-10-05T10:02:49.170Z"
   },
   {
    "duration": 21,
    "start_time": "2021-10-05T10:02:49.185Z"
   },
   {
    "duration": 6,
    "start_time": "2021-10-05T10:02:49.208Z"
   },
   {
    "duration": 38,
    "start_time": "2021-10-05T10:02:49.216Z"
   },
   {
    "duration": 14,
    "start_time": "2021-10-05T10:02:49.258Z"
   },
   {
    "duration": 14,
    "start_time": "2021-10-05T10:02:49.274Z"
   },
   {
    "duration": 14,
    "start_time": "2021-10-05T10:02:49.290Z"
   },
   {
    "duration": 49,
    "start_time": "2021-10-05T10:02:49.307Z"
   },
   {
    "duration": 4,
    "start_time": "2021-10-05T10:02:49.358Z"
   },
   {
    "duration": 7,
    "start_time": "2021-10-05T10:02:49.364Z"
   },
   {
    "duration": 5,
    "start_time": "2021-10-05T10:02:49.373Z"
   },
   {
    "duration": 6,
    "start_time": "2021-10-05T10:02:49.380Z"
   },
   {
    "duration": 3056,
    "start_time": "2021-10-05T10:02:49.387Z"
   },
   {
    "duration": 310,
    "start_time": "2021-10-05T10:02:52.445Z"
   },
   {
    "duration": 1070,
    "start_time": "2021-10-05T10:02:51.688Z"
   },
   {
    "duration": 104,
    "start_time": "2021-10-05T10:07:19.771Z"
   },
   {
    "duration": 77,
    "start_time": "2021-10-05T10:07:28.580Z"
   },
   {
    "duration": 66,
    "start_time": "2021-10-05T10:07:31.580Z"
   },
   {
    "duration": 97,
    "start_time": "2021-10-05T10:07:43.048Z"
   },
   {
    "duration": 76,
    "start_time": "2021-10-05T10:08:57.080Z"
   },
   {
    "duration": 3651,
    "start_time": "2021-10-05T10:09:11.048Z"
   },
   {
    "duration": 230,
    "start_time": "2021-10-05T10:11:47.690Z"
   },
   {
    "duration": 37,
    "start_time": "2021-10-05T10:11:59.350Z"
   },
   {
    "duration": 30,
    "start_time": "2021-10-05T10:13:05.988Z"
   },
   {
    "duration": 31,
    "start_time": "2021-10-05T10:13:22.492Z"
   },
   {
    "duration": 622,
    "start_time": "2021-10-05T10:14:07.735Z"
   },
   {
    "duration": 41,
    "start_time": "2021-10-05T10:14:08.359Z"
   },
   {
    "duration": 18,
    "start_time": "2021-10-05T10:14:08.402Z"
   },
   {
    "duration": 18,
    "start_time": "2021-10-05T10:14:08.423Z"
   },
   {
    "duration": 23,
    "start_time": "2021-10-05T10:14:08.443Z"
   },
   {
    "duration": 5,
    "start_time": "2021-10-05T10:14:08.469Z"
   },
   {
    "duration": 24,
    "start_time": "2021-10-05T10:14:08.476Z"
   },
   {
    "duration": 20,
    "start_time": "2021-10-05T10:14:08.503Z"
   },
   {
    "duration": 28,
    "start_time": "2021-10-05T10:14:08.525Z"
   },
   {
    "duration": 12,
    "start_time": "2021-10-05T10:14:08.555Z"
   },
   {
    "duration": 17,
    "start_time": "2021-10-05T10:14:08.569Z"
   },
   {
    "duration": 13,
    "start_time": "2021-10-05T10:14:08.588Z"
   },
   {
    "duration": 12,
    "start_time": "2021-10-05T10:14:08.602Z"
   },
   {
    "duration": 13,
    "start_time": "2021-10-05T10:14:08.616Z"
   },
   {
    "duration": 19,
    "start_time": "2021-10-05T10:14:08.630Z"
   },
   {
    "duration": 3337,
    "start_time": "2021-10-05T10:14:08.651Z"
   },
   {
    "duration": 27,
    "start_time": "2021-10-05T10:14:11.990Z"
   },
   {
    "duration": 2,
    "start_time": "2021-10-05T10:14:12.019Z"
   },
   {
    "duration": 10,
    "start_time": "2021-10-05T10:15:44.215Z"
   },
   {
    "duration": 7,
    "start_time": "2021-10-05T10:16:39.081Z"
   },
   {
    "duration": 6,
    "start_time": "2021-10-05T10:16:54.633Z"
   },
   {
    "duration": 27,
    "start_time": "2021-10-05T10:17:52.139Z"
   },
   {
    "duration": 5179,
    "start_time": "2021-10-05T10:20:17.929Z"
   },
   {
    "duration": 31,
    "start_time": "2021-10-05T10:21:27.147Z"
   },
   {
    "duration": 34,
    "start_time": "2021-10-05T10:21:32.733Z"
   },
   {
    "duration": 240,
    "start_time": "2021-10-05T10:21:39.258Z"
   },
   {
    "duration": 56,
    "start_time": "2021-10-05T10:24:07.961Z"
   },
   {
    "duration": 7,
    "start_time": "2021-10-05T10:35:10.131Z"
   },
   {
    "duration": 5,
    "start_time": "2021-10-05T10:35:30.218Z"
   },
   {
    "duration": 78,
    "start_time": "2021-10-05T10:37:01.099Z"
   },
   {
    "duration": 56,
    "start_time": "2021-10-05T10:37:19.155Z"
   },
   {
    "duration": 221,
    "start_time": "2021-10-05T10:39:15.506Z"
   },
   {
    "duration": 668,
    "start_time": "2021-10-05T10:39:39.026Z"
   },
   {
    "duration": 594,
    "start_time": "2021-10-05T10:49:29.784Z"
   },
   {
    "duration": 51,
    "start_time": "2021-10-05T10:50:47.419Z"
   },
   {
    "duration": 10,
    "start_time": "2021-10-05T10:53:02.151Z"
   },
   {
    "duration": 9,
    "start_time": "2021-10-05T10:53:18.080Z"
   },
   {
    "duration": 13,
    "start_time": "2021-10-05T10:53:21.605Z"
   },
   {
    "duration": 47,
    "start_time": "2021-10-05T10:54:13.438Z"
   },
   {
    "duration": 46,
    "start_time": "2021-10-05T10:54:32.054Z"
   },
   {
    "duration": 4,
    "start_time": "2021-10-05T10:57:50.091Z"
   },
   {
    "duration": 621,
    "start_time": "2021-10-05T10:58:33.646Z"
   },
   {
    "duration": 42,
    "start_time": "2021-10-05T10:58:34.269Z"
   },
   {
    "duration": 19,
    "start_time": "2021-10-05T10:58:34.313Z"
   },
   {
    "duration": 15,
    "start_time": "2021-10-05T10:58:34.334Z"
   },
   {
    "duration": 19,
    "start_time": "2021-10-05T10:58:34.351Z"
   },
   {
    "duration": 5,
    "start_time": "2021-10-05T10:58:34.372Z"
   },
   {
    "duration": 11,
    "start_time": "2021-10-05T10:58:34.380Z"
   },
   {
    "duration": 14,
    "start_time": "2021-10-05T10:58:34.394Z"
   },
   {
    "duration": 53,
    "start_time": "2021-10-05T10:58:34.410Z"
   },
   {
    "duration": 14,
    "start_time": "2021-10-05T10:58:34.465Z"
   },
   {
    "duration": 15,
    "start_time": "2021-10-05T10:58:34.481Z"
   },
   {
    "duration": 5,
    "start_time": "2021-10-05T10:58:34.498Z"
   },
   {
    "duration": 5,
    "start_time": "2021-10-05T10:58:34.505Z"
   },
   {
    "duration": 41,
    "start_time": "2021-10-05T10:58:34.511Z"
   },
   {
    "duration": 10,
    "start_time": "2021-10-05T10:58:34.553Z"
   },
   {
    "duration": 3129,
    "start_time": "2021-10-05T10:58:34.565Z"
   },
   {
    "duration": 4,
    "start_time": "2021-10-05T10:58:37.696Z"
   },
   {
    "duration": 66,
    "start_time": "2021-10-05T10:58:37.702Z"
   },
   {
    "duration": 13,
    "start_time": "2021-10-05T10:58:37.769Z"
   },
   {
    "duration": 6,
    "start_time": "2021-10-05T10:58:37.784Z"
   },
   {
    "duration": 6,
    "start_time": "2021-10-05T11:06:56.309Z"
   },
   {
    "duration": 540,
    "start_time": "2021-10-05T11:07:05.502Z"
   },
   {
    "duration": 42,
    "start_time": "2021-10-05T11:07:06.045Z"
   },
   {
    "duration": 20,
    "start_time": "2021-10-05T11:07:06.089Z"
   },
   {
    "duration": 13,
    "start_time": "2021-10-05T11:07:06.111Z"
   },
   {
    "duration": 29,
    "start_time": "2021-10-05T11:07:06.126Z"
   },
   {
    "duration": 4,
    "start_time": "2021-10-05T11:07:06.157Z"
   },
   {
    "duration": 12,
    "start_time": "2021-10-05T11:07:06.163Z"
   },
   {
    "duration": 14,
    "start_time": "2021-10-05T11:07:06.178Z"
   },
   {
    "duration": 15,
    "start_time": "2021-10-05T11:07:06.194Z"
   },
   {
    "duration": 44,
    "start_time": "2021-10-05T11:07:06.210Z"
   },
   {
    "duration": 18,
    "start_time": "2021-10-05T11:07:06.256Z"
   },
   {
    "duration": 5,
    "start_time": "2021-10-05T11:07:06.275Z"
   },
   {
    "duration": 12,
    "start_time": "2021-10-05T11:07:06.281Z"
   },
   {
    "duration": 8,
    "start_time": "2021-10-05T11:07:06.295Z"
   },
   {
    "duration": 7,
    "start_time": "2021-10-05T11:07:06.305Z"
   },
   {
    "duration": 305,
    "start_time": "2021-10-05T11:07:06.314Z"
   },
   {
    "duration": 4,
    "start_time": "2021-10-05T11:07:06.621Z"
   },
   {
    "duration": 558,
    "start_time": "2021-10-05T11:07:06.626Z"
   },
   {
    "duration": 134,
    "start_time": "2021-10-05T11:07:07.186Z"
   },
   {
    "duration": 1063,
    "start_time": "2021-10-05T11:07:06.260Z"
   },
   {
    "duration": 553,
    "start_time": "2021-10-05T11:09:24.994Z"
   },
   {
    "duration": 41,
    "start_time": "2021-10-05T11:09:25.549Z"
   },
   {
    "duration": 21,
    "start_time": "2021-10-05T11:09:25.592Z"
   },
   {
    "duration": 12,
    "start_time": "2021-10-05T11:09:25.615Z"
   },
   {
    "duration": 31,
    "start_time": "2021-10-05T11:09:25.629Z"
   },
   {
    "duration": 6,
    "start_time": "2021-10-05T11:09:25.662Z"
   },
   {
    "duration": 13,
    "start_time": "2021-10-05T11:09:25.670Z"
   },
   {
    "duration": 13,
    "start_time": "2021-10-05T11:09:25.685Z"
   },
   {
    "duration": 13,
    "start_time": "2021-10-05T11:09:25.700Z"
   },
   {
    "duration": 45,
    "start_time": "2021-10-05T11:09:25.715Z"
   },
   {
    "duration": 18,
    "start_time": "2021-10-05T11:09:25.762Z"
   },
   {
    "duration": 4,
    "start_time": "2021-10-05T11:09:25.781Z"
   },
   {
    "duration": 5,
    "start_time": "2021-10-05T11:09:25.787Z"
   },
   {
    "duration": 5,
    "start_time": "2021-10-05T11:09:25.794Z"
   },
   {
    "duration": 7,
    "start_time": "2021-10-05T11:09:25.801Z"
   },
   {
    "duration": 3240,
    "start_time": "2021-10-05T11:09:25.809Z"
   },
   {
    "duration": 5,
    "start_time": "2021-10-05T11:09:29.051Z"
   },
   {
    "duration": 52,
    "start_time": "2021-10-05T11:09:29.057Z"
   },
   {
    "duration": 3,
    "start_time": "2021-10-05T11:09:29.111Z"
   },
   {
    "duration": 784,
    "start_time": "2021-10-05T17:28:25.538Z"
   },
   {
    "duration": 52,
    "start_time": "2021-10-05T17:28:26.324Z"
   },
   {
    "duration": 30,
    "start_time": "2021-10-05T17:28:26.379Z"
   },
   {
    "duration": 14,
    "start_time": "2021-10-05T17:28:26.411Z"
   },
   {
    "duration": 47,
    "start_time": "2021-10-05T17:28:26.427Z"
   },
   {
    "duration": 6,
    "start_time": "2021-10-05T17:28:26.477Z"
   },
   {
    "duration": 12,
    "start_time": "2021-10-05T17:28:26.485Z"
   },
   {
    "duration": 19,
    "start_time": "2021-10-05T17:28:26.501Z"
   },
   {
    "duration": 52,
    "start_time": "2021-10-05T17:28:26.523Z"
   },
   {
    "duration": 22,
    "start_time": "2021-10-05T17:28:26.577Z"
   },
   {
    "duration": 18,
    "start_time": "2021-10-05T17:28:26.601Z"
   },
   {
    "duration": 39,
    "start_time": "2021-10-05T17:28:26.622Z"
   },
   {
    "duration": 7,
    "start_time": "2021-10-05T17:28:26.663Z"
   },
   {
    "duration": 5,
    "start_time": "2021-10-05T17:28:26.673Z"
   },
   {
    "duration": 10,
    "start_time": "2021-10-05T17:28:26.680Z"
   },
   {
    "duration": 816,
    "start_time": "2021-10-05T17:28:26.692Z"
   },
   {
    "duration": 928,
    "start_time": "2021-10-05T17:28:26.582Z"
   },
   {
    "duration": 929,
    "start_time": "2021-10-05T17:28:26.583Z"
   },
   {
    "duration": 929,
    "start_time": "2021-10-05T17:28:26.585Z"
   },
   {
    "duration": 1002,
    "start_time": "2021-10-05T17:29:19.952Z"
   },
   {
    "duration": 49,
    "start_time": "2021-10-05T17:29:20.957Z"
   },
   {
    "duration": 26,
    "start_time": "2021-10-05T17:29:21.009Z"
   },
   {
    "duration": 25,
    "start_time": "2021-10-05T17:29:21.038Z"
   },
   {
    "duration": 22,
    "start_time": "2021-10-05T17:29:21.065Z"
   },
   {
    "duration": 5,
    "start_time": "2021-10-05T17:29:21.090Z"
   },
   {
    "duration": 12,
    "start_time": "2021-10-05T17:29:21.097Z"
   },
   {
    "duration": 55,
    "start_time": "2021-10-05T17:29:21.111Z"
   },
   {
    "duration": 27,
    "start_time": "2021-10-05T17:29:21.170Z"
   },
   {
    "duration": 19,
    "start_time": "2021-10-05T17:29:21.200Z"
   },
   {
    "duration": 38,
    "start_time": "2021-10-05T17:29:21.221Z"
   },
   {
    "duration": 6,
    "start_time": "2021-10-05T17:29:21.262Z"
   },
   {
    "duration": 6,
    "start_time": "2021-10-05T17:29:21.271Z"
   },
   {
    "duration": 6,
    "start_time": "2021-10-05T17:29:21.279Z"
   },
   {
    "duration": 8,
    "start_time": "2021-10-05T17:29:21.287Z"
   },
   {
    "duration": 5680,
    "start_time": "2021-10-05T17:29:21.297Z"
   },
   {
    "duration": 5,
    "start_time": "2021-10-05T17:29:26.980Z"
   },
   {
    "duration": 99,
    "start_time": "2021-10-05T17:29:26.988Z"
   },
   {
    "duration": 2,
    "start_time": "2021-10-05T17:29:27.090Z"
   },
   {
    "duration": 35,
    "start_time": "2021-10-05T17:37:24.484Z"
   },
   {
    "duration": 32,
    "start_time": "2021-10-05T17:40:10.804Z"
   },
   {
    "duration": 36,
    "start_time": "2021-10-05T17:40:49.048Z"
   },
   {
    "duration": 36,
    "start_time": "2021-10-05T17:44:36.257Z"
   },
   {
    "duration": 386,
    "start_time": "2021-10-05T17:45:51.024Z"
   },
   {
    "duration": 329,
    "start_time": "2021-10-05T17:46:02.449Z"
   },
   {
    "duration": 315,
    "start_time": "2021-10-05T17:58:17.570Z"
   },
   {
    "duration": 328,
    "start_time": "2021-10-05T17:58:48.146Z"
   },
   {
    "duration": 22,
    "start_time": "2021-10-05T17:59:09.805Z"
   },
   {
    "duration": 23,
    "start_time": "2021-10-05T17:59:28.527Z"
   },
   {
    "duration": 316,
    "start_time": "2021-10-05T18:01:06.688Z"
   },
   {
    "duration": 64,
    "start_time": "2021-10-05T18:01:34.955Z"
   },
   {
    "duration": 333,
    "start_time": "2021-10-05T18:04:05.126Z"
   },
   {
    "duration": 324,
    "start_time": "2021-10-05T18:04:51.699Z"
   },
   {
    "duration": 337,
    "start_time": "2021-10-05T18:05:03.280Z"
   },
   {
    "duration": 357,
    "start_time": "2021-10-05T18:05:11.805Z"
   },
   {
    "duration": 318,
    "start_time": "2021-10-05T18:05:16.631Z"
   },
   {
    "duration": 336,
    "start_time": "2021-10-05T18:06:01.096Z"
   },
   {
    "duration": 379,
    "start_time": "2021-10-05T18:08:04.311Z"
   },
   {
    "duration": 52,
    "start_time": "2021-10-05T18:08:18.223Z"
   },
   {
    "duration": 329,
    "start_time": "2021-10-05T18:08:36.361Z"
   },
   {
    "duration": 40,
    "start_time": "2021-10-05T18:08:47.773Z"
   },
   {
    "duration": 81,
    "start_time": "2021-10-05T18:18:00.929Z"
   },
   {
    "duration": 69,
    "start_time": "2021-10-05T18:18:38.125Z"
   },
   {
    "duration": 38,
    "start_time": "2021-10-05T18:23:09.805Z"
   },
   {
    "duration": 39,
    "start_time": "2021-10-05T18:23:18.301Z"
   },
   {
    "duration": 748,
    "start_time": "2021-10-05T18:32:00.214Z"
   },
   {
    "duration": 52,
    "start_time": "2021-10-05T18:32:00.965Z"
   },
   {
    "duration": 38,
    "start_time": "2021-10-05T18:32:01.020Z"
   },
   {
    "duration": 27,
    "start_time": "2021-10-05T18:32:01.061Z"
   },
   {
    "duration": 26,
    "start_time": "2021-10-05T18:32:01.090Z"
   },
   {
    "duration": 12,
    "start_time": "2021-10-05T18:32:01.118Z"
   },
   {
    "duration": 37,
    "start_time": "2021-10-05T18:32:01.132Z"
   },
   {
    "duration": 54,
    "start_time": "2021-10-05T18:32:01.173Z"
   },
   {
    "duration": 38,
    "start_time": "2021-10-05T18:32:01.230Z"
   },
   {
    "duration": 54,
    "start_time": "2021-10-05T18:32:01.270Z"
   },
   {
    "duration": 56,
    "start_time": "2021-10-05T18:32:01.326Z"
   },
   {
    "duration": 58,
    "start_time": "2021-10-05T18:32:01.384Z"
   },
   {
    "duration": 41,
    "start_time": "2021-10-05T18:32:01.444Z"
   },
   {
    "duration": 11,
    "start_time": "2021-10-05T18:32:01.488Z"
   },
   {
    "duration": 17,
    "start_time": "2021-10-05T18:32:01.502Z"
   },
   {
    "duration": 37,
    "start_time": "2021-10-05T18:32:01.522Z"
   },
   {
    "duration": 11,
    "start_time": "2021-10-05T18:32:01.563Z"
   },
   {
    "duration": 12,
    "start_time": "2021-10-05T18:32:01.577Z"
   },
   {
    "duration": 836,
    "start_time": "2021-10-05T18:32:01.592Z"
   },
   {
    "duration": 5,
    "start_time": "2021-10-05T18:32:02.431Z"
   },
   {
    "duration": 20,
    "start_time": "2021-10-05T18:32:02.438Z"
   },
   {
    "duration": 6,
    "start_time": "2021-10-05T18:32:02.461Z"
   },
   {
    "duration": 736,
    "start_time": "2021-10-05T18:34:40.889Z"
   },
   {
    "duration": 50,
    "start_time": "2021-10-05T18:34:41.628Z"
   },
   {
    "duration": 27,
    "start_time": "2021-10-05T18:34:41.681Z"
   },
   {
    "duration": 15,
    "start_time": "2021-10-05T18:34:41.711Z"
   },
   {
    "duration": 43,
    "start_time": "2021-10-05T18:34:41.729Z"
   },
   {
    "duration": 6,
    "start_time": "2021-10-05T18:34:41.775Z"
   },
   {
    "duration": 14,
    "start_time": "2021-10-05T18:34:41.783Z"
   },
   {
    "duration": 20,
    "start_time": "2021-10-05T18:34:41.799Z"
   },
   {
    "duration": 20,
    "start_time": "2021-10-05T18:34:41.860Z"
   },
   {
    "duration": 19,
    "start_time": "2021-10-05T18:34:41.882Z"
   },
   {
    "duration": 22,
    "start_time": "2021-10-05T18:34:41.903Z"
   },
   {
    "duration": 34,
    "start_time": "2021-10-05T18:34:41.928Z"
   },
   {
    "duration": 51,
    "start_time": "2021-10-05T18:34:41.964Z"
   },
   {
    "duration": 49,
    "start_time": "2021-10-05T18:34:42.017Z"
   },
   {
    "duration": 8,
    "start_time": "2021-10-05T18:34:42.069Z"
   },
   {
    "duration": 8,
    "start_time": "2021-10-05T18:34:42.079Z"
   },
   {
    "duration": 6,
    "start_time": "2021-10-05T18:34:42.090Z"
   },
   {
    "duration": 8,
    "start_time": "2021-10-05T18:34:42.098Z"
   },
   {
    "duration": 5,
    "start_time": "2021-10-05T18:34:42.108Z"
   },
   {
    "duration": 417,
    "start_time": "2021-10-05T18:34:42.157Z"
   },
   {
    "duration": 897,
    "start_time": "2021-10-05T18:34:41.680Z"
   },
   {
    "duration": 808,
    "start_time": "2021-10-05T18:35:18.493Z"
   },
   {
    "duration": 50,
    "start_time": "2021-10-05T18:35:19.305Z"
   },
   {
    "duration": 41,
    "start_time": "2021-10-05T18:35:19.360Z"
   },
   {
    "duration": 22,
    "start_time": "2021-10-05T18:35:19.405Z"
   },
   {
    "duration": 47,
    "start_time": "2021-10-05T18:35:19.431Z"
   },
   {
    "duration": 8,
    "start_time": "2021-10-05T18:35:19.481Z"
   },
   {
    "duration": 28,
    "start_time": "2021-10-05T18:35:19.491Z"
   },
   {
    "duration": 49,
    "start_time": "2021-10-05T18:35:19.522Z"
   },
   {
    "duration": 38,
    "start_time": "2021-10-05T18:35:19.578Z"
   },
   {
    "duration": 53,
    "start_time": "2021-10-05T18:35:19.620Z"
   },
   {
    "duration": 45,
    "start_time": "2021-10-05T18:35:19.677Z"
   },
   {
    "duration": 7,
    "start_time": "2021-10-05T18:35:19.725Z"
   },
   {
    "duration": 48,
    "start_time": "2021-10-05T18:35:19.734Z"
   },
   {
    "duration": 45,
    "start_time": "2021-10-05T18:35:19.785Z"
   },
   {
    "duration": 30,
    "start_time": "2021-10-05T18:35:19.832Z"
   },
   {
    "duration": 12,
    "start_time": "2021-10-05T18:35:19.867Z"
   },
   {
    "duration": 8,
    "start_time": "2021-10-05T18:35:19.883Z"
   },
   {
    "duration": 11,
    "start_time": "2021-10-05T18:35:19.894Z"
   },
   {
    "duration": 49,
    "start_time": "2021-10-05T18:35:19.908Z"
   },
   {
    "duration": 536,
    "start_time": "2021-10-05T18:35:19.962Z"
   },
   {
    "duration": 907,
    "start_time": "2021-10-05T18:35:19.594Z"
   },
   {
    "duration": 745,
    "start_time": "2021-10-05T18:36:16.041Z"
   },
   {
    "duration": 13,
    "start_time": "2021-10-05T18:38:11.776Z"
   },
   {
    "duration": 1030,
    "start_time": "2021-10-05T18:39:09.678Z"
   },
   {
    "duration": 52,
    "start_time": "2021-10-05T18:39:10.711Z"
   },
   {
    "duration": 28,
    "start_time": "2021-10-05T18:39:10.766Z"
   },
   {
    "duration": 15,
    "start_time": "2021-10-05T18:39:10.797Z"
   },
   {
    "duration": 54,
    "start_time": "2021-10-05T18:39:10.815Z"
   },
   {
    "duration": 7,
    "start_time": "2021-10-05T18:39:10.871Z"
   },
   {
    "duration": 12,
    "start_time": "2021-10-05T18:39:10.880Z"
   },
   {
    "duration": 20,
    "start_time": "2021-10-05T18:39:10.895Z"
   },
   {
    "duration": 59,
    "start_time": "2021-10-05T18:39:10.919Z"
   },
   {
    "duration": 20,
    "start_time": "2021-10-05T18:39:10.981Z"
   },
   {
    "duration": 27,
    "start_time": "2021-10-05T18:39:11.003Z"
   },
   {
    "duration": 7,
    "start_time": "2021-10-05T18:39:11.058Z"
   },
   {
    "duration": 47,
    "start_time": "2021-10-05T18:39:11.067Z"
   },
   {
    "duration": 61,
    "start_time": "2021-10-05T18:39:11.117Z"
   },
   {
    "duration": 7,
    "start_time": "2021-10-05T18:39:11.181Z"
   },
   {
    "duration": 6,
    "start_time": "2021-10-05T18:39:11.191Z"
   },
   {
    "duration": 8,
    "start_time": "2021-10-05T18:39:11.200Z"
   },
   {
    "duration": 11,
    "start_time": "2021-10-05T18:39:11.210Z"
   },
   {
    "duration": 3,
    "start_time": "2021-10-05T18:39:11.257Z"
   },
   {
    "duration": 815,
    "start_time": "2021-10-05T18:39:11.263Z"
   },
   {
    "duration": 3,
    "start_time": "2021-10-05T18:39:12.080Z"
   },
   {
    "duration": 7,
    "start_time": "2021-10-05T18:39:12.085Z"
   },
   {
    "duration": 3259,
    "start_time": "2021-10-05T18:39:54.283Z"
   },
   {
    "duration": 882,
    "start_time": "2021-10-05T18:40:43.195Z"
   },
   {
    "duration": 8,
    "start_time": "2021-10-05T18:55:53.047Z"
   },
   {
    "duration": 8,
    "start_time": "2021-10-05T18:57:30.921Z"
   },
   {
    "duration": 720,
    "start_time": "2021-10-05T18:58:59.398Z"
   },
   {
    "duration": 50,
    "start_time": "2021-10-05T18:59:00.121Z"
   },
   {
    "duration": 33,
    "start_time": "2021-10-05T18:59:00.175Z"
   },
   {
    "duration": 22,
    "start_time": "2021-10-05T18:59:00.211Z"
   },
   {
    "duration": 42,
    "start_time": "2021-10-05T18:59:00.235Z"
   },
   {
    "duration": 8,
    "start_time": "2021-10-05T18:59:00.280Z"
   },
   {
    "duration": 21,
    "start_time": "2021-10-05T18:59:00.291Z"
   },
   {
    "duration": 62,
    "start_time": "2021-10-05T18:59:00.318Z"
   },
   {
    "duration": 41,
    "start_time": "2021-10-05T18:59:00.384Z"
   },
   {
    "duration": 38,
    "start_time": "2021-10-05T18:59:00.428Z"
   },
   {
    "duration": 35,
    "start_time": "2021-10-05T18:59:00.469Z"
   },
   {
    "duration": 6,
    "start_time": "2021-10-05T18:59:00.506Z"
   },
   {
    "duration": 56,
    "start_time": "2021-10-05T18:59:00.514Z"
   },
   {
    "duration": 41,
    "start_time": "2021-10-05T18:59:00.572Z"
   },
   {
    "duration": 8,
    "start_time": "2021-10-05T18:59:00.616Z"
   },
   {
    "duration": 61,
    "start_time": "2021-10-05T18:59:00.626Z"
   },
   {
    "duration": 47,
    "start_time": "2021-10-05T18:59:00.690Z"
   },
   {
    "duration": 819,
    "start_time": "2021-10-05T18:59:00.740Z"
   },
   {
    "duration": 4,
    "start_time": "2021-10-05T18:59:01.561Z"
   },
   {
    "duration": 17,
    "start_time": "2021-10-05T18:59:01.568Z"
   },
   {
    "duration": 5853,
    "start_time": "2021-10-05T18:59:58.633Z"
   },
   {
    "duration": 1511,
    "start_time": "2021-10-05T19:00:38.818Z"
   },
   {
    "duration": 1354,
    "start_time": "2021-10-05T19:01:12.040Z"
   },
   {
    "duration": 50,
    "start_time": "2021-10-05T19:01:13.397Z"
   },
   {
    "duration": 30,
    "start_time": "2021-10-05T19:01:13.450Z"
   },
   {
    "duration": 14,
    "start_time": "2021-10-05T19:01:13.483Z"
   },
   {
    "duration": 23,
    "start_time": "2021-10-05T19:01:13.499Z"
   },
   {
    "duration": 34,
    "start_time": "2021-10-05T19:01:13.524Z"
   },
   {
    "duration": 13,
    "start_time": "2021-10-05T19:01:13.560Z"
   },
   {
    "duration": 21,
    "start_time": "2021-10-05T19:01:13.575Z"
   },
   {
    "duration": 20,
    "start_time": "2021-10-05T19:01:13.600Z"
   },
   {
    "duration": 51,
    "start_time": "2021-10-05T19:01:13.622Z"
   },
   {
    "duration": 18,
    "start_time": "2021-10-05T19:01:13.676Z"
   },
   {
    "duration": 5,
    "start_time": "2021-10-05T19:01:13.697Z"
   },
   {
    "duration": 73,
    "start_time": "2021-10-05T19:01:13.704Z"
   },
   {
    "duration": 42,
    "start_time": "2021-10-05T19:01:13.779Z"
   },
   {
    "duration": 7,
    "start_time": "2021-10-05T19:01:13.823Z"
   },
   {
    "duration": 366,
    "start_time": "2021-10-05T19:01:13.832Z"
   },
   {
    "duration": 872,
    "start_time": "2021-10-05T19:01:13.329Z"
   },
   {
    "duration": 872,
    "start_time": "2021-10-05T19:01:13.330Z"
   },
   {
    "duration": 873,
    "start_time": "2021-10-05T19:01:13.331Z"
   },
   {
    "duration": 868,
    "start_time": "2021-10-05T19:01:13.337Z"
   },
   {
    "duration": 741,
    "start_time": "2021-10-05T19:01:29.013Z"
   },
   {
    "duration": 49,
    "start_time": "2021-10-05T19:01:29.758Z"
   },
   {
    "duration": 27,
    "start_time": "2021-10-05T19:01:29.810Z"
   },
   {
    "duration": 24,
    "start_time": "2021-10-05T19:01:29.840Z"
   },
   {
    "duration": 30,
    "start_time": "2021-10-05T19:01:29.866Z"
   },
   {
    "duration": 14,
    "start_time": "2021-10-05T19:01:29.899Z"
   },
   {
    "duration": 22,
    "start_time": "2021-10-05T19:01:29.916Z"
   },
   {
    "duration": 38,
    "start_time": "2021-10-05T19:01:29.941Z"
   },
   {
    "duration": 29,
    "start_time": "2021-10-05T19:01:29.983Z"
   },
   {
    "duration": 23,
    "start_time": "2021-10-05T19:01:30.015Z"
   },
   {
    "duration": 50,
    "start_time": "2021-10-05T19:01:30.040Z"
   },
   {
    "duration": 20,
    "start_time": "2021-10-05T19:01:30.092Z"
   },
   {
    "duration": 60,
    "start_time": "2021-10-05T19:01:30.115Z"
   },
   {
    "duration": 42,
    "start_time": "2021-10-05T19:01:30.178Z"
   },
   {
    "duration": 7,
    "start_time": "2021-10-05T19:01:30.223Z"
   },
   {
    "duration": 25,
    "start_time": "2021-10-05T19:01:30.232Z"
   },
   {
    "duration": 1644,
    "start_time": "2021-10-05T19:01:30.259Z"
   },
   {
    "duration": 821,
    "start_time": "2021-10-05T19:01:31.084Z"
   },
   {
    "duration": 822,
    "start_time": "2021-10-05T19:01:31.085Z"
   },
   {
    "duration": 820,
    "start_time": "2021-10-05T19:01:31.088Z"
   },
   {
    "duration": 8,
    "start_time": "2021-10-05T19:03:09.315Z"
   },
   {
    "duration": 1536,
    "start_time": "2021-10-05T19:03:11.242Z"
   },
   {
    "duration": 808,
    "start_time": "2021-10-05T19:03:20.203Z"
   },
   {
    "duration": 50,
    "start_time": "2021-10-05T19:03:21.014Z"
   },
   {
    "duration": 29,
    "start_time": "2021-10-05T19:03:21.067Z"
   },
   {
    "duration": 14,
    "start_time": "2021-10-05T19:03:21.099Z"
   },
   {
    "duration": 49,
    "start_time": "2021-10-05T19:03:21.116Z"
   },
   {
    "duration": 6,
    "start_time": "2021-10-05T19:03:21.167Z"
   },
   {
    "duration": 14,
    "start_time": "2021-10-05T19:03:21.175Z"
   },
   {
    "duration": 20,
    "start_time": "2021-10-05T19:03:21.193Z"
   },
   {
    "duration": 57,
    "start_time": "2021-10-05T19:03:21.215Z"
   },
   {
    "duration": 19,
    "start_time": "2021-10-05T19:03:21.275Z"
   },
   {
    "duration": 26,
    "start_time": "2021-10-05T19:03:21.296Z"
   },
   {
    "duration": 6,
    "start_time": "2021-10-05T19:03:21.324Z"
   },
   {
    "duration": 63,
    "start_time": "2021-10-05T19:03:21.332Z"
   },
   {
    "duration": 36,
    "start_time": "2021-10-05T19:03:21.397Z"
   },
   {
    "duration": 8,
    "start_time": "2021-10-05T19:03:21.458Z"
   },
   {
    "duration": 8,
    "start_time": "2021-10-05T19:03:21.468Z"
   },
   {
    "duration": 1625,
    "start_time": "2021-10-05T19:03:21.478Z"
   },
   {
    "duration": 863,
    "start_time": "2021-10-05T19:03:22.243Z"
   },
   {
    "duration": 859,
    "start_time": "2021-10-05T19:03:22.249Z"
   },
   {
    "duration": 853,
    "start_time": "2021-10-05T19:03:22.256Z"
   },
   {
    "duration": 735,
    "start_time": "2021-10-05T19:04:28.192Z"
   },
   {
    "duration": 9,
    "start_time": "2021-10-05T19:05:43.000Z"
   },
   {
    "duration": 1033,
    "start_time": "2021-10-05T19:05:45.351Z"
   },
   {
    "duration": 12,
    "start_time": "2021-10-05T19:06:40.289Z"
   },
   {
    "duration": 4726,
    "start_time": "2021-10-05T19:06:42.396Z"
   },
   {
    "duration": 803,
    "start_time": "2021-10-05T19:07:37.297Z"
   },
   {
    "duration": 21,
    "start_time": "2021-10-05T19:09:29.408Z"
   },
   {
    "duration": 19,
    "start_time": "2021-10-05T19:15:26.104Z"
   },
   {
    "duration": 17,
    "start_time": "2021-10-05T19:15:36.263Z"
   },
   {
    "duration": 21,
    "start_time": "2021-10-05T19:18:26.183Z"
   },
   {
    "duration": 763,
    "start_time": "2021-10-05T19:18:45.314Z"
   },
   {
    "duration": 51,
    "start_time": "2021-10-05T19:18:46.080Z"
   },
   {
    "duration": 34,
    "start_time": "2021-10-05T19:18:46.134Z"
   },
   {
    "duration": 21,
    "start_time": "2021-10-05T19:18:46.171Z"
   },
   {
    "duration": 23,
    "start_time": "2021-10-05T19:18:46.194Z"
   },
   {
    "duration": 7,
    "start_time": "2021-10-05T19:18:46.219Z"
   },
   {
    "duration": 12,
    "start_time": "2021-10-05T19:18:46.258Z"
   },
   {
    "duration": 21,
    "start_time": "2021-10-05T19:18:46.274Z"
   },
   {
    "duration": 27,
    "start_time": "2021-10-05T19:18:46.298Z"
   },
   {
    "duration": 49,
    "start_time": "2021-10-05T19:18:46.327Z"
   },
   {
    "duration": 21,
    "start_time": "2021-10-05T19:18:46.378Z"
   },
   {
    "duration": 5,
    "start_time": "2021-10-05T19:18:46.401Z"
   },
   {
    "duration": 66,
    "start_time": "2021-10-05T19:18:46.408Z"
   },
   {
    "duration": 37,
    "start_time": "2021-10-05T19:18:46.476Z"
   },
   {
    "duration": 7,
    "start_time": "2021-10-05T19:18:46.515Z"
   },
   {
    "duration": 38,
    "start_time": "2021-10-05T19:18:46.524Z"
   },
   {
    "duration": 4700,
    "start_time": "2021-10-05T19:18:46.564Z"
   },
   {
    "duration": 805,
    "start_time": "2021-10-05T19:18:51.267Z"
   },
   {
    "duration": 19,
    "start_time": "2021-10-05T19:18:52.074Z"
   },
   {
    "duration": 3,
    "start_time": "2021-10-05T19:18:52.095Z"
   },
   {
    "duration": 10,
    "start_time": "2021-10-05T19:21:56.501Z"
   },
   {
    "duration": 9,
    "start_time": "2021-10-05T19:22:44.451Z"
   },
   {
    "duration": 15,
    "start_time": "2021-10-05T19:23:09.190Z"
   },
   {
    "duration": 10,
    "start_time": "2021-10-05T19:28:02.310Z"
   },
   {
    "duration": 9,
    "start_time": "2021-10-05T19:34:24.329Z"
   },
   {
    "duration": 10,
    "start_time": "2021-10-05T19:34:34.630Z"
   },
   {
    "duration": 21,
    "start_time": "2021-10-05T19:35:27.065Z"
   },
   {
    "duration": 10,
    "start_time": "2021-10-05T19:36:11.468Z"
   },
   {
    "duration": 393,
    "start_time": "2021-10-05T19:37:39.056Z"
   },
   {
    "duration": 491,
    "start_time": "2021-10-05T19:37:46.647Z"
   },
   {
    "duration": 1476,
    "start_time": "2021-10-05T19:42:29.458Z"
   },
   {
    "duration": 362,
    "start_time": "2021-10-05T19:48:09.824Z"
   },
   {
    "duration": 368,
    "start_time": "2021-10-05T19:48:27.014Z"
   },
   {
    "duration": 33,
    "start_time": "2021-10-05T19:48:57.079Z"
   },
   {
    "duration": 38,
    "start_time": "2021-10-05T19:49:39.143Z"
   },
   {
    "duration": 42,
    "start_time": "2021-10-05T19:49:47.064Z"
   },
   {
    "duration": 50,
    "start_time": "2021-10-05T19:50:14.973Z"
   },
   {
    "duration": 43,
    "start_time": "2021-10-05T19:50:50.015Z"
   },
   {
    "duration": 42,
    "start_time": "2021-10-05T19:51:25.013Z"
   },
   {
    "duration": 42,
    "start_time": "2021-10-05T19:52:16.265Z"
   },
   {
    "duration": 41,
    "start_time": "2021-10-05T19:52:23.189Z"
   },
   {
    "duration": 9066,
    "start_time": "2021-10-05T19:55:30.513Z"
   },
   {
    "duration": 246,
    "start_time": "2021-10-05T19:55:51.246Z"
   },
   {
    "duration": 358,
    "start_time": "2021-10-05T19:56:04.529Z"
   },
   {
    "duration": 244,
    "start_time": "2021-10-05T19:56:11.529Z"
   },
   {
    "duration": 795,
    "start_time": "2021-10-05T20:05:20.398Z"
   },
   {
    "duration": 8266,
    "start_time": "2021-10-05T20:05:32.156Z"
   },
   {
    "duration": 6,
    "start_time": "2021-10-05T20:06:07.808Z"
   },
   {
    "duration": 314,
    "start_time": "2021-10-05T20:06:17.185Z"
   },
   {
    "duration": 7,
    "start_time": "2021-10-05T20:06:22.112Z"
   },
   {
    "duration": 23,
    "start_time": "2021-10-05T20:06:38.020Z"
   },
   {
    "duration": 4,
    "start_time": "2021-10-05T20:06:54.024Z"
   },
   {
    "duration": 100,
    "start_time": "2021-10-05T20:09:41.300Z"
   },
   {
    "duration": 755,
    "start_time": "2021-10-05T20:10:54.076Z"
   },
   {
    "duration": 51,
    "start_time": "2021-10-05T20:10:54.834Z"
   },
   {
    "duration": 32,
    "start_time": "2021-10-05T20:10:54.888Z"
   },
   {
    "duration": 38,
    "start_time": "2021-10-05T20:10:54.923Z"
   },
   {
    "duration": 24,
    "start_time": "2021-10-05T20:10:54.964Z"
   },
   {
    "duration": 7,
    "start_time": "2021-10-05T20:10:54.991Z"
   },
   {
    "duration": 20,
    "start_time": "2021-10-05T20:10:55.001Z"
   },
   {
    "duration": 55,
    "start_time": "2021-10-05T20:10:55.023Z"
   },
   {
    "duration": 21,
    "start_time": "2021-10-05T20:10:55.084Z"
   },
   {
    "duration": 57,
    "start_time": "2021-10-05T20:10:55.108Z"
   },
   {
    "duration": 21,
    "start_time": "2021-10-05T20:10:55.168Z"
   },
   {
    "duration": 6,
    "start_time": "2021-10-05T20:10:55.192Z"
   },
   {
    "duration": 70,
    "start_time": "2021-10-05T20:10:55.200Z"
   },
   {
    "duration": 41,
    "start_time": "2021-10-05T20:10:55.273Z"
   },
   {
    "duration": 8,
    "start_time": "2021-10-05T20:10:55.317Z"
   },
   {
    "duration": 9,
    "start_time": "2021-10-05T20:10:55.359Z"
   },
   {
    "duration": 846,
    "start_time": "2021-10-05T20:10:55.371Z"
   },
   {
    "duration": 815,
    "start_time": "2021-10-05T20:10:55.405Z"
   },
   {
    "duration": 815,
    "start_time": "2021-10-05T20:10:55.407Z"
   },
   {
    "duration": 816,
    "start_time": "2021-10-05T20:10:55.408Z"
   },
   {
    "duration": 817,
    "start_time": "2021-10-05T20:10:55.410Z"
   },
   {
    "duration": 817,
    "start_time": "2021-10-05T20:10:55.412Z"
   },
   {
    "duration": 814,
    "start_time": "2021-10-05T20:10:55.417Z"
   },
   {
    "duration": 815,
    "start_time": "2021-10-05T20:10:55.419Z"
   },
   {
    "duration": 8,
    "start_time": "2021-10-05T20:11:49.639Z"
   },
   {
    "duration": 2153,
    "start_time": "2021-10-05T20:11:51.734Z"
   },
   {
    "duration": 789,
    "start_time": "2021-10-05T20:12:01.434Z"
   },
   {
    "duration": 21,
    "start_time": "2021-10-05T20:12:07.352Z"
   },
   {
    "duration": 45,
    "start_time": "2021-10-05T20:12:10.289Z"
   },
   {
    "duration": 20771,
    "start_time": "2021-10-05T20:12:13.439Z"
   },
   {
    "duration": 90641,
    "start_time": "2021-10-05T20:13:36.343Z"
   },
   {
    "duration": 5,
    "start_time": "2021-10-05T20:21:56.615Z"
   },
   {
    "duration": 52,
    "start_time": "2021-10-05T20:25:35.353Z"
   },
   {
    "duration": 39,
    "start_time": "2021-10-05T20:25:43.508Z"
   },
   {
    "duration": 39,
    "start_time": "2021-10-05T20:27:05.387Z"
   },
   {
    "duration": 392,
    "start_time": "2021-10-05T20:29:46.375Z"
   },
   {
    "duration": 880,
    "start_time": "2021-10-05T20:31:04.001Z"
   },
   {
    "duration": 52,
    "start_time": "2021-10-05T20:31:04.884Z"
   },
   {
    "duration": 28,
    "start_time": "2021-10-05T20:31:04.938Z"
   },
   {
    "duration": 27,
    "start_time": "2021-10-05T20:31:04.969Z"
   },
   {
    "duration": 23,
    "start_time": "2021-10-05T20:31:04.998Z"
   },
   {
    "duration": 9,
    "start_time": "2021-10-05T20:31:05.023Z"
   },
   {
    "duration": 29,
    "start_time": "2021-10-05T20:31:05.035Z"
   },
   {
    "duration": 30,
    "start_time": "2021-10-05T20:31:05.067Z"
   },
   {
    "duration": 32,
    "start_time": "2021-10-05T20:31:05.101Z"
   },
   {
    "duration": 36,
    "start_time": "2021-10-05T20:31:05.136Z"
   },
   {
    "duration": 36,
    "start_time": "2021-10-05T20:31:05.174Z"
   },
   {
    "duration": 6,
    "start_time": "2021-10-05T20:31:05.213Z"
   },
   {
    "duration": 47,
    "start_time": "2021-10-05T20:31:05.221Z"
   },
   {
    "duration": 50,
    "start_time": "2021-10-05T20:31:05.270Z"
   },
   {
    "duration": 9,
    "start_time": "2021-10-05T20:31:05.323Z"
   },
   {
    "duration": 13,
    "start_time": "2021-10-05T20:31:05.359Z"
   },
   {
    "duration": 2325,
    "start_time": "2021-10-05T20:31:05.375Z"
   },
   {
    "duration": 788,
    "start_time": "2021-10-05T20:31:07.702Z"
   },
   {
    "duration": 49,
    "start_time": "2021-10-05T20:31:08.510Z"
   },
   {
    "duration": 46,
    "start_time": "2021-10-05T20:31:08.561Z"
   },
   {
    "duration": 57,
    "start_time": "2021-10-05T20:31:08.609Z"
   },
   {
    "duration": 7,
    "start_time": "2021-10-05T20:31:08.668Z"
   },
   {
    "duration": 25,
    "start_time": "2021-10-05T20:31:08.678Z"
   },
   {
    "duration": 49,
    "start_time": "2021-10-05T20:31:08.706Z"
   },
   {
    "duration": 3,
    "start_time": "2021-10-05T20:31:08.757Z"
   },
   {
    "duration": 10,
    "start_time": "2021-10-05T20:32:15.543Z"
   },
   {
    "duration": 10,
    "start_time": "2021-10-05T20:35:40.563Z"
   },
   {
    "duration": 10,
    "start_time": "2021-10-05T20:38:00.157Z"
   },
   {
    "duration": 10,
    "start_time": "2021-10-05T20:39:28.666Z"
   },
   {
    "duration": 8,
    "start_time": "2021-10-05T20:41:57.439Z"
   },
   {
    "duration": 20,
    "start_time": "2021-10-05T20:47:40.299Z"
   },
   {
    "duration": 13,
    "start_time": "2021-10-05T20:47:49.409Z"
   },
   {
    "duration": 8,
    "start_time": "2021-10-05T20:48:02.762Z"
   },
   {
    "duration": 13,
    "start_time": "2021-10-05T20:48:18.227Z"
   },
   {
    "duration": 12,
    "start_time": "2021-10-05T20:48:20.487Z"
   },
   {
    "duration": 11,
    "start_time": "2021-10-05T21:15:21.045Z"
   },
   {
    "duration": 25,
    "start_time": "2021-10-05T21:16:08.259Z"
   },
   {
    "duration": 12,
    "start_time": "2021-10-05T21:16:16.660Z"
   },
   {
    "duration": 12,
    "start_time": "2021-10-05T21:16:29.233Z"
   },
   {
    "duration": 6,
    "start_time": "2021-10-05T21:17:38.485Z"
   },
   {
    "duration": 5,
    "start_time": "2021-10-05T21:17:43.185Z"
   },
   {
    "duration": 6,
    "start_time": "2021-10-05T21:17:48.879Z"
   },
   {
    "duration": 6,
    "start_time": "2021-10-05T21:17:59.608Z"
   },
   {
    "duration": 5,
    "start_time": "2021-10-05T21:18:07.364Z"
   },
   {
    "duration": 9,
    "start_time": "2021-10-05T21:18:16.362Z"
   },
   {
    "duration": 12,
    "start_time": "2021-10-05T21:18:18.253Z"
   },
   {
    "duration": 8,
    "start_time": "2021-10-05T21:18:26.460Z"
   },
   {
    "duration": 5,
    "start_time": "2021-10-05T21:23:11.446Z"
   },
   {
    "duration": 119,
    "start_time": "2021-10-05T21:24:03.227Z"
   },
   {
    "duration": 13,
    "start_time": "2021-10-05T21:24:16.981Z"
   },
   {
    "duration": 11,
    "start_time": "2021-10-05T21:25:33.474Z"
   },
   {
    "duration": 11,
    "start_time": "2021-10-05T21:25:43.922Z"
   },
   {
    "duration": 12,
    "start_time": "2021-10-05T21:25:51.843Z"
   },
   {
    "duration": 15,
    "start_time": "2021-10-05T21:26:00.594Z"
   },
   {
    "duration": 13,
    "start_time": "2021-10-05T21:26:12.293Z"
   },
   {
    "duration": 17,
    "start_time": "2021-10-05T21:26:30.430Z"
   },
   {
    "duration": 405,
    "start_time": "2021-10-05T21:29:54.134Z"
   },
   {
    "duration": 2011,
    "start_time": "2021-10-05T21:30:07.432Z"
   },
   {
    "duration": 358,
    "start_time": "2021-10-05T21:30:19.910Z"
   },
   {
    "duration": 6,
    "start_time": "2021-10-05T21:30:41.072Z"
   },
   {
    "duration": 324,
    "start_time": "2021-10-05T21:30:48.559Z"
   },
   {
    "duration": 315,
    "start_time": "2021-10-05T21:30:58.391Z"
   },
   {
    "duration": 6,
    "start_time": "2021-10-05T21:31:03.532Z"
   },
   {
    "duration": 6,
    "start_time": "2021-10-05T21:31:16.036Z"
   },
   {
    "duration": 6,
    "start_time": "2021-10-05T21:31:27.456Z"
   },
   {
    "duration": 5,
    "start_time": "2021-10-05T21:32:30.213Z"
   },
   {
    "duration": 6,
    "start_time": "2021-10-05T21:33:43.440Z"
   },
   {
    "duration": 13,
    "start_time": "2021-10-05T21:38:13.925Z"
   },
   {
    "duration": 14,
    "start_time": "2021-10-05T21:38:41.722Z"
   },
   {
    "duration": 13,
    "start_time": "2021-10-05T21:39:17.647Z"
   },
   {
    "duration": 24,
    "start_time": "2021-10-05T21:39:19.731Z"
   },
   {
    "duration": 21,
    "start_time": "2021-10-05T21:44:55.669Z"
   },
   {
    "duration": 20,
    "start_time": "2021-10-05T22:03:44.953Z"
   },
   {
    "duration": 14,
    "start_time": "2021-10-05T22:04:35.203Z"
   },
   {
    "duration": 409,
    "start_time": "2021-10-05T22:11:54.638Z"
   },
   {
    "duration": 4,
    "start_time": "2021-10-05T22:12:37.881Z"
   },
   {
    "duration": 4,
    "start_time": "2021-10-05T22:14:14.432Z"
   },
   {
    "duration": 18,
    "start_time": "2021-10-05T22:15:35.761Z"
   },
   {
    "duration": 371,
    "start_time": "2021-10-05T22:17:04.111Z"
   },
   {
    "duration": 348,
    "start_time": "2021-10-05T22:17:11.656Z"
   },
   {
    "duration": 631,
    "start_time": "2021-10-05T22:17:49.300Z"
   },
   {
    "duration": 298,
    "start_time": "2021-10-05T22:17:58.501Z"
   },
   {
    "duration": 324,
    "start_time": "2021-10-05T22:18:19.563Z"
   },
   {
    "duration": 360,
    "start_time": "2021-10-05T22:19:19.067Z"
   },
   {
    "duration": 259,
    "start_time": "2021-10-05T22:28:22.614Z"
   },
   {
    "duration": 592,
    "start_time": "2021-10-05T22:28:40.655Z"
   },
   {
    "duration": 269,
    "start_time": "2021-10-05T22:28:57.716Z"
   },
   {
    "duration": 573,
    "start_time": "2021-10-05T22:29:12.875Z"
   },
   {
    "duration": 118,
    "start_time": "2021-10-05T22:29:25.974Z"
   },
   {
    "duration": 597,
    "start_time": "2021-10-05T22:29:28.750Z"
   },
   {
    "duration": 273,
    "start_time": "2021-10-05T22:30:48.663Z"
   },
   {
    "duration": 279,
    "start_time": "2021-10-05T22:30:56.645Z"
   },
   {
    "duration": 782,
    "start_time": "2021-10-05T22:31:05.032Z"
   },
   {
    "duration": 582,
    "start_time": "2021-10-05T22:31:23.748Z"
   },
   {
    "duration": 581,
    "start_time": "2021-10-05T22:31:34.915Z"
   },
   {
    "duration": 543,
    "start_time": "2021-10-05T22:37:21.065Z"
   },
   {
    "duration": 270,
    "start_time": "2021-10-05T22:37:52.114Z"
   },
   {
    "duration": 334,
    "start_time": "2021-10-05T22:38:06.805Z"
   },
   {
    "duration": 307,
    "start_time": "2021-10-05T22:38:19.383Z"
   },
   {
    "duration": 405,
    "start_time": "2021-10-05T22:39:38.044Z"
   },
   {
    "duration": 441,
    "start_time": "2021-10-05T22:39:55.066Z"
   },
   {
    "duration": 1310,
    "start_time": "2021-10-05T22:40:08.732Z"
   },
   {
    "duration": 397,
    "start_time": "2021-10-05T22:40:14.385Z"
   },
   {
    "duration": 408,
    "start_time": "2021-10-05T22:40:19.959Z"
   },
   {
    "duration": 393,
    "start_time": "2021-10-05T22:40:27.592Z"
   },
   {
    "duration": 405,
    "start_time": "2021-10-05T22:40:31.229Z"
   },
   {
    "duration": 403,
    "start_time": "2021-10-05T22:40:37.065Z"
   },
   {
    "duration": 398,
    "start_time": "2021-10-05T22:40:42.039Z"
   },
   {
    "duration": 333,
    "start_time": "2021-10-05T22:41:12.291Z"
   },
   {
    "duration": 443,
    "start_time": "2021-10-05T22:41:32.711Z"
   },
   {
    "duration": 340,
    "start_time": "2021-10-05T22:41:49.734Z"
   },
   {
    "duration": 12,
    "start_time": "2021-10-05T22:44:09.271Z"
   },
   {
    "duration": 3,
    "start_time": "2021-10-05T22:48:26.933Z"
   },
   {
    "duration": 109,
    "start_time": "2021-10-05T22:50:14.457Z"
   },
   {
    "duration": 435,
    "start_time": "2021-10-05T22:50:27.640Z"
   },
   {
    "duration": 8144,
    "start_time": "2021-10-05T22:53:02.031Z"
   },
   {
    "duration": 7687,
    "start_time": "2021-10-05T22:53:13.860Z"
   },
   {
    "duration": 302,
    "start_time": "2021-10-05T22:55:24.955Z"
   },
   {
    "duration": 26,
    "start_time": "2021-10-05T22:58:59.991Z"
   },
   {
    "duration": 267,
    "start_time": "2021-10-05T23:02:56.605Z"
   },
   {
    "duration": 21,
    "start_time": "2021-10-05T23:04:20.326Z"
   },
   {
    "duration": 20,
    "start_time": "2021-10-05T23:04:35.943Z"
   },
   {
    "duration": 60,
    "start_time": "2021-10-05T23:09:35.424Z"
   },
   {
    "duration": 58,
    "start_time": "2021-10-05T23:11:36.043Z"
   },
   {
    "duration": 59,
    "start_time": "2021-10-05T23:11:54.787Z"
   },
   {
    "duration": 522,
    "start_time": "2021-10-05T23:12:07.763Z"
   },
   {
    "duration": 61,
    "start_time": "2021-10-05T23:12:09.507Z"
   },
   {
    "duration": 328,
    "start_time": "2021-10-05T23:12:15.771Z"
   },
   {
    "duration": 360,
    "start_time": "2021-10-05T23:12:31.913Z"
   },
   {
    "duration": 1392,
    "start_time": "2021-10-05T23:14:04.367Z"
   },
   {
    "duration": 316,
    "start_time": "2021-10-05T23:14:53.435Z"
   },
   {
    "duration": 582,
    "start_time": "2021-10-05T23:15:06.042Z"
   },
   {
    "duration": 1908,
    "start_time": "2021-10-05T23:16:00.049Z"
   },
   {
    "duration": 1448,
    "start_time": "2021-10-05T23:17:19.070Z"
   },
   {
    "duration": 314,
    "start_time": "2021-10-05T23:32:20.167Z"
   },
   {
    "duration": 323,
    "start_time": "2021-10-05T23:32:28.816Z"
   },
   {
    "duration": 649,
    "start_time": "2021-10-05T23:33:17.450Z"
   },
   {
    "duration": 622,
    "start_time": "2021-10-05T23:33:28.095Z"
   },
   {
    "duration": 312,
    "start_time": "2021-10-05T23:34:07.321Z"
   },
   {
    "duration": 323,
    "start_time": "2021-10-05T23:34:24.478Z"
   },
   {
    "duration": 324,
    "start_time": "2021-10-05T23:34:54.584Z"
   },
   {
    "duration": 326,
    "start_time": "2021-10-05T23:35:02.314Z"
   },
   {
    "duration": 336,
    "start_time": "2021-10-05T23:35:14.501Z"
   },
   {
    "duration": 456,
    "start_time": "2021-10-05T23:35:46.119Z"
   },
   {
    "duration": 669,
    "start_time": "2021-10-05T23:36:24.935Z"
   },
   {
    "duration": 427,
    "start_time": "2021-10-05T23:36:55.203Z"
   },
   {
    "duration": 687,
    "start_time": "2021-10-05T23:37:38.987Z"
   },
   {
    "duration": 397,
    "start_time": "2021-10-05T23:39:16.336Z"
   },
   {
    "duration": 8,
    "start_time": "2021-10-05T23:40:22.598Z"
   },
   {
    "duration": 60,
    "start_time": "2021-10-05T23:40:34.624Z"
   },
   {
    "duration": 415,
    "start_time": "2021-10-05T23:41:04.981Z"
   },
   {
    "duration": 9213,
    "start_time": "2021-10-05T23:42:57.690Z"
   },
   {
    "duration": 7879,
    "start_time": "2021-10-05T23:43:15.781Z"
   },
   {
    "duration": 71,
    "start_time": "2021-10-05T23:45:35.471Z"
   },
   {
    "duration": 9075,
    "start_time": "2021-10-05T23:45:38.109Z"
   },
   {
    "duration": 10419,
    "start_time": "2021-10-05T23:46:25.600Z"
   },
   {
    "duration": 2013,
    "start_time": "2021-10-05T23:47:02.099Z"
   },
   {
    "duration": 1713,
    "start_time": "2021-10-05T23:47:47.055Z"
   },
   {
    "duration": 553,
    "start_time": "2021-10-05T23:48:17.926Z"
   },
   {
    "duration": 62,
    "start_time": "2021-10-05T23:48:44.555Z"
   },
   {
    "duration": 621,
    "start_time": "2021-10-05T23:48:46.494Z"
   },
   {
    "duration": 108,
    "start_time": "2021-10-05T23:49:20.080Z"
   },
   {
    "duration": 323,
    "start_time": "2021-10-05T23:49:28.593Z"
   },
   {
    "duration": 458,
    "start_time": "2021-10-05T23:49:50.381Z"
   },
   {
    "duration": 615,
    "start_time": "2021-10-05T23:49:58.633Z"
   },
   {
    "duration": 306,
    "start_time": "2021-10-05T23:50:30.748Z"
   },
   {
    "duration": 406,
    "start_time": "2021-10-05T23:50:38.901Z"
   },
   {
    "duration": 321,
    "start_time": "2021-10-05T23:51:08.841Z"
   },
   {
    "duration": 418,
    "start_time": "2021-10-05T23:51:17.726Z"
   },
   {
    "duration": 845,
    "start_time": "2021-10-05T23:56:16.177Z"
   },
   {
    "duration": 762,
    "start_time": "2021-10-05T23:56:37.809Z"
   },
   {
    "duration": 518,
    "start_time": "2021-10-05T23:56:56.955Z"
   },
   {
    "duration": 425,
    "start_time": "2021-10-06T00:02:15.520Z"
   },
   {
    "duration": 442,
    "start_time": "2021-10-06T00:04:09.497Z"
   },
   {
    "duration": 482,
    "start_time": "2021-10-06T00:04:17.429Z"
   },
   {
    "duration": 435,
    "start_time": "2021-10-06T00:04:51.793Z"
   },
   {
    "duration": 22,
    "start_time": "2021-10-06T00:05:42.465Z"
   },
   {
    "duration": 77,
    "start_time": "2021-10-06T00:06:49.445Z"
   },
   {
    "duration": 456,
    "start_time": "2021-10-06T00:07:09.405Z"
   },
   {
    "duration": 427,
    "start_time": "2021-10-06T00:07:17.230Z"
   },
   {
    "duration": 430,
    "start_time": "2021-10-06T00:07:38.005Z"
   },
   {
    "duration": 552,
    "start_time": "2021-10-06T00:09:08.074Z"
   },
   {
    "duration": 448,
    "start_time": "2021-10-06T00:09:41.201Z"
   },
   {
    "duration": 472,
    "start_time": "2021-10-06T00:09:49.755Z"
   },
   {
    "duration": 755,
    "start_time": "2021-10-06T00:09:59.998Z"
   },
   {
    "duration": 435,
    "start_time": "2021-10-06T00:10:31.966Z"
   },
   {
    "duration": 437,
    "start_time": "2021-10-06T00:10:59.193Z"
   },
   {
    "duration": 344,
    "start_time": "2021-10-06T00:26:35.749Z"
   },
   {
    "duration": 24,
    "start_time": "2021-10-06T00:26:50.423Z"
   },
   {
    "duration": 23,
    "start_time": "2021-10-06T00:27:32.163Z"
   },
   {
    "duration": 24,
    "start_time": "2021-10-06T00:27:35.406Z"
   },
   {
    "duration": 23,
    "start_time": "2021-10-06T00:27:40.664Z"
   },
   {
    "duration": 23,
    "start_time": "2021-10-06T00:27:45.962Z"
   },
   {
    "duration": 499,
    "start_time": "2021-10-06T00:31:44.981Z"
   },
   {
    "duration": 40,
    "start_time": "2021-10-06T00:31:51.969Z"
   },
   {
    "duration": 673,
    "start_time": "2021-10-06T00:32:06.479Z"
   },
   {
    "duration": 38,
    "start_time": "2021-10-06T00:32:26.179Z"
   },
   {
    "duration": 664,
    "start_time": "2021-10-06T00:32:28.129Z"
   },
   {
    "duration": 40,
    "start_time": "2021-10-06T00:32:47.268Z"
   },
   {
    "duration": 438,
    "start_time": "2021-10-06T00:32:49.095Z"
   },
   {
    "duration": 23,
    "start_time": "2021-10-06T00:33:40.239Z"
   },
   {
    "duration": 1827,
    "start_time": "2021-10-06T00:36:06.956Z"
   },
   {
    "duration": 33,
    "start_time": "2021-10-06T00:36:09.647Z"
   },
   {
    "duration": 430,
    "start_time": "2021-10-06T00:36:11.312Z"
   },
   {
    "duration": 73,
    "start_time": "2021-10-06T00:38:50.869Z"
   },
   {
    "duration": 426,
    "start_time": "2021-10-06T00:38:52.657Z"
   },
   {
    "duration": 30,
    "start_time": "2021-10-06T00:39:02.699Z"
   },
   {
    "duration": 454,
    "start_time": "2021-10-06T00:39:04.858Z"
   },
   {
    "duration": 532,
    "start_time": "2021-10-06T00:39:21.457Z"
   },
   {
    "duration": 430,
    "start_time": "2021-10-06T00:39:56.411Z"
   },
   {
    "duration": 24,
    "start_time": "2021-10-06T00:42:14.149Z"
   },
   {
    "duration": 22,
    "start_time": "2021-10-06T00:42:27.010Z"
   },
   {
    "duration": 22,
    "start_time": "2021-10-06T00:42:35.561Z"
   },
   {
    "duration": 23,
    "start_time": "2021-10-06T00:42:39.693Z"
   },
   {
    "duration": 23,
    "start_time": "2021-10-06T00:43:28.421Z"
   },
   {
    "duration": 23,
    "start_time": "2021-10-06T00:43:31.031Z"
   },
   {
    "duration": 26,
    "start_time": "2021-10-06T00:43:41.825Z"
   },
   {
    "duration": 24,
    "start_time": "2021-10-06T00:43:45.620Z"
   },
   {
    "duration": 23,
    "start_time": "2021-10-06T00:44:06.365Z"
   },
   {
    "duration": 434,
    "start_time": "2021-10-06T00:44:53.990Z"
   },
   {
    "duration": 24,
    "start_time": "2021-10-06T00:46:30.553Z"
   },
   {
    "duration": 23,
    "start_time": "2021-10-06T00:46:34.605Z"
   },
   {
    "duration": 23,
    "start_time": "2021-10-06T00:46:37.820Z"
   },
   {
    "duration": 24,
    "start_time": "2021-10-06T00:46:43.166Z"
   },
   {
    "duration": 24,
    "start_time": "2021-10-06T00:46:51.641Z"
   },
   {
    "duration": 473,
    "start_time": "2021-10-06T01:05:00.229Z"
   },
   {
    "duration": 647,
    "start_time": "2021-10-06T01:05:31.210Z"
   },
   {
    "duration": 380,
    "start_time": "2021-10-06T01:05:48.762Z"
   },
   {
    "duration": 338,
    "start_time": "2021-10-06T01:05:58.393Z"
   },
   {
    "duration": 635,
    "start_time": "2021-10-06T01:08:03.940Z"
   },
   {
    "duration": 294,
    "start_time": "2021-10-06T01:09:25.517Z"
   },
   {
    "duration": 302,
    "start_time": "2021-10-06T01:10:16.297Z"
   },
   {
    "duration": 306,
    "start_time": "2021-10-06T01:10:49.097Z"
   },
   {
    "duration": 756,
    "start_time": "2021-10-06T01:11:27.483Z"
   },
   {
    "duration": 311,
    "start_time": "2021-10-06T01:11:32.251Z"
   },
   {
    "duration": 655,
    "start_time": "2021-10-06T01:13:02.113Z"
   },
   {
    "duration": 371,
    "start_time": "2021-10-06T01:15:36.198Z"
   },
   {
    "duration": 305,
    "start_time": "2021-10-06T01:16:05.576Z"
   },
   {
    "duration": 658,
    "start_time": "2021-10-06T01:17:23.302Z"
   },
   {
    "duration": 304,
    "start_time": "2021-10-06T01:17:37.456Z"
   },
   {
    "duration": 307,
    "start_time": "2021-10-06T01:18:35.688Z"
   },
   {
    "duration": 311,
    "start_time": "2021-10-06T01:18:45.428Z"
   },
   {
    "duration": 367,
    "start_time": "2021-10-06T01:19:22.922Z"
   },
   {
    "duration": 25,
    "start_time": "2021-10-06T01:25:38.228Z"
   },
   {
    "duration": 126,
    "start_time": "2021-10-06T01:28:37.256Z"
   },
   {
    "duration": 29,
    "start_time": "2021-10-06T01:28:51.986Z"
   },
   {
    "duration": 28,
    "start_time": "2021-10-06T01:29:49.262Z"
   },
   {
    "duration": 39,
    "start_time": "2021-10-06T01:30:05.511Z"
   },
   {
    "duration": 31,
    "start_time": "2021-10-06T01:30:17.170Z"
   },
   {
    "duration": 24,
    "start_time": "2021-10-06T01:30:26.373Z"
   },
   {
    "duration": 755,
    "start_time": "2021-10-06T01:31:07.026Z"
   },
   {
    "duration": 946,
    "start_time": "2021-10-06T01:31:52.472Z"
   },
   {
    "duration": 625,
    "start_time": "2021-10-06T01:32:37.238Z"
   },
   {
    "duration": 961,
    "start_time": "2021-10-06T01:32:47.464Z"
   },
   {
    "duration": 366,
    "start_time": "2021-10-06T01:33:12.383Z"
   },
   {
    "duration": 787,
    "start_time": "2021-10-06T01:37:44.193Z"
   },
   {
    "duration": 312,
    "start_time": "2021-10-06T01:38:05.626Z"
   },
   {
    "duration": 344,
    "start_time": "2021-10-06T01:38:39.787Z"
   },
   {
    "duration": 9,
    "start_time": "2021-10-06T01:40:26.427Z"
   },
   {
    "duration": 9,
    "start_time": "2021-10-06T01:40:30.980Z"
   },
   {
    "duration": 239,
    "start_time": "2021-10-06T01:40:49.853Z"
   },
   {
    "duration": 216,
    "start_time": "2021-10-06T01:41:04.064Z"
   },
   {
    "duration": 10,
    "start_time": "2021-10-06T01:41:41.119Z"
   },
   {
    "duration": 330,
    "start_time": "2021-10-06T01:42:31.257Z"
   },
   {
    "duration": 123,
    "start_time": "2021-10-06T01:42:53.719Z"
   },
   {
    "duration": 349,
    "start_time": "2021-10-06T01:43:01.389Z"
   },
   {
    "duration": 9,
    "start_time": "2021-10-06T01:43:56.091Z"
   },
   {
    "duration": 18,
    "start_time": "2021-10-06T01:43:59.759Z"
   },
   {
    "duration": 317,
    "start_time": "2021-10-06T01:48:22.576Z"
   },
   {
    "duration": 709,
    "start_time": "2021-10-06T01:49:11.693Z"
   },
   {
    "duration": 308,
    "start_time": "2021-10-06T01:49:42.383Z"
   },
   {
    "duration": 2120,
    "start_time": "2021-10-06T01:50:06.880Z"
   },
   {
    "duration": 11,
    "start_time": "2021-10-06T01:50:45.854Z"
   },
   {
    "duration": 17,
    "start_time": "2021-10-06T01:51:21.637Z"
   },
   {
    "duration": 15,
    "start_time": "2021-10-06T01:51:31.232Z"
   },
   {
    "duration": 16,
    "start_time": "2021-10-06T01:51:39.324Z"
   },
   {
    "duration": 353,
    "start_time": "2021-10-06T01:52:19.168Z"
   },
   {
    "duration": 18,
    "start_time": "2021-10-06T01:52:41.011Z"
   },
   {
    "duration": 18,
    "start_time": "2021-10-06T01:52:49.844Z"
   },
   {
    "duration": 104,
    "start_time": "2021-10-06T01:54:09.332Z"
   },
   {
    "duration": 48,
    "start_time": "2021-10-06T01:54:19.335Z"
   },
   {
    "duration": 339,
    "start_time": "2021-10-06T01:55:09.622Z"
   },
   {
    "duration": 315,
    "start_time": "2021-10-06T01:57:36.488Z"
   },
   {
    "duration": 43,
    "start_time": "2021-10-06T01:57:47.651Z"
   },
   {
    "duration": 38,
    "start_time": "2021-10-06T01:58:22.067Z"
   },
   {
    "duration": 35,
    "start_time": "2021-10-06T01:58:47.027Z"
   },
   {
    "duration": 34,
    "start_time": "2021-10-06T01:59:28.243Z"
   },
   {
    "duration": 35,
    "start_time": "2021-10-06T02:00:03.259Z"
   },
   {
    "duration": 33,
    "start_time": "2021-10-06T02:00:20.802Z"
   },
   {
    "duration": 33,
    "start_time": "2021-10-06T02:00:55.020Z"
   },
   {
    "duration": 525,
    "start_time": "2021-10-06T02:01:35.119Z"
   },
   {
    "duration": 921,
    "start_time": "2021-10-06T02:04:39.467Z"
   },
   {
    "duration": 36,
    "start_time": "2021-10-06T02:08:24.735Z"
   },
   {
    "duration": 341,
    "start_time": "2021-10-06T02:10:06.368Z"
   },
   {
    "duration": 34,
    "start_time": "2021-10-06T02:10:39.080Z"
   },
   {
    "duration": 36,
    "start_time": "2021-10-06T02:10:50.636Z"
   },
   {
    "duration": 34,
    "start_time": "2021-10-06T02:11:13.435Z"
   },
   {
    "duration": 29,
    "start_time": "2021-10-06T02:13:37.827Z"
   },
   {
    "duration": 434,
    "start_time": "2021-10-06T02:14:13.848Z"
   },
   {
    "duration": 28,
    "start_time": "2021-10-06T02:14:29.391Z"
   },
   {
    "duration": 647,
    "start_time": "2021-10-06T02:14:36.002Z"
   },
   {
    "duration": 478,
    "start_time": "2021-10-06T02:14:50.264Z"
   },
   {
    "duration": 522,
    "start_time": "2021-10-06T02:15:37.975Z"
   },
   {
    "duration": 832,
    "start_time": "2021-10-06T02:16:51.969Z"
   },
   {
    "duration": 48,
    "start_time": "2021-10-06T02:16:52.803Z"
   },
   {
    "duration": 21,
    "start_time": "2021-10-06T02:16:52.854Z"
   },
   {
    "duration": 14,
    "start_time": "2021-10-06T02:16:52.878Z"
   },
   {
    "duration": 21,
    "start_time": "2021-10-06T02:16:52.895Z"
   },
   {
    "duration": 6,
    "start_time": "2021-10-06T02:16:52.919Z"
   },
   {
    "duration": 42,
    "start_time": "2021-10-06T02:16:52.927Z"
   },
   {
    "duration": 19,
    "start_time": "2021-10-06T02:16:52.974Z"
   },
   {
    "duration": 24,
    "start_time": "2021-10-06T02:16:52.996Z"
   },
   {
    "duration": 51,
    "start_time": "2021-10-06T02:16:53.022Z"
   },
   {
    "duration": 22,
    "start_time": "2021-10-06T02:16:53.075Z"
   },
   {
    "duration": 5,
    "start_time": "2021-10-06T02:16:53.100Z"
   },
   {
    "duration": 72,
    "start_time": "2021-10-06T02:16:53.108Z"
   },
   {
    "duration": 35,
    "start_time": "2021-10-06T02:16:53.182Z"
   },
   {
    "duration": 8,
    "start_time": "2021-10-06T02:16:53.219Z"
   },
   {
    "duration": 9,
    "start_time": "2021-10-06T02:16:53.257Z"
   },
   {
    "duration": 2095,
    "start_time": "2021-10-06T02:16:53.268Z"
   },
   {
    "duration": 836,
    "start_time": "2021-10-06T02:16:55.365Z"
   },
   {
    "duration": 20,
    "start_time": "2021-10-06T02:16:56.203Z"
   },
   {
    "duration": 65,
    "start_time": "2021-10-06T02:16:56.225Z"
   },
   {
    "duration": 20,
    "start_time": "2021-10-06T02:16:56.292Z"
   },
   {
    "duration": 44,
    "start_time": "2021-10-06T02:16:56.314Z"
   },
   {
    "duration": 9,
    "start_time": "2021-10-06T02:16:56.363Z"
   },
   {
    "duration": 15,
    "start_time": "2021-10-06T02:16:56.374Z"
   },
   {
    "duration": 9,
    "start_time": "2021-10-06T02:16:56.391Z"
   },
   {
    "duration": 16,
    "start_time": "2021-10-06T02:16:56.402Z"
   },
   {
    "duration": 44,
    "start_time": "2021-10-06T02:16:56.420Z"
   },
   {
    "duration": 13,
    "start_time": "2021-10-06T02:16:56.467Z"
   },
   {
    "duration": 14,
    "start_time": "2021-10-06T02:16:56.482Z"
   },
   {
    "duration": 19,
    "start_time": "2021-10-06T02:16:56.498Z"
   },
   {
    "duration": 59,
    "start_time": "2021-10-06T02:16:56.520Z"
   },
   {
    "duration": 17,
    "start_time": "2021-10-06T02:16:56.582Z"
   },
   {
    "duration": 372,
    "start_time": "2021-10-06T02:16:56.602Z"
   },
   {
    "duration": 3,
    "start_time": "2021-10-06T02:16:56.977Z"
   },
   {
    "duration": 14,
    "start_time": "2021-10-06T02:16:56.982Z"
   },
   {
    "duration": 20,
    "start_time": "2021-10-06T02:16:56.998Z"
   },
   {
    "duration": 99,
    "start_time": "2021-10-06T02:16:57.020Z"
   },
   {
    "duration": 562,
    "start_time": "2021-10-06T02:16:57.121Z"
   },
   {
    "duration": 24,
    "start_time": "2021-10-06T02:16:57.685Z"
   },
   {
    "duration": 64,
    "start_time": "2021-10-06T02:16:57.711Z"
   },
   {
    "duration": 437,
    "start_time": "2021-10-06T02:16:57.777Z"
   },
   {
    "duration": 18,
    "start_time": "2021-10-06T02:16:58.217Z"
   },
   {
    "duration": 500,
    "start_time": "2021-10-06T02:16:58.238Z"
   },
   {
    "duration": 28,
    "start_time": "2021-10-06T02:22:59.568Z"
   },
   {
    "duration": 362,
    "start_time": "2021-10-06T02:23:50.141Z"
   },
   {
    "duration": 443,
    "start_time": "2021-10-06T02:24:26.121Z"
   },
   {
    "duration": 31,
    "start_time": "2021-10-06T02:32:53.493Z"
   },
   {
    "duration": 29,
    "start_time": "2021-10-06T02:33:20.506Z"
   },
   {
    "duration": 764,
    "start_time": "2021-10-06T02:35:14.647Z"
   },
   {
    "duration": 505,
    "start_time": "2021-10-06T02:36:28.219Z"
   },
   {
    "duration": 436,
    "start_time": "2021-10-06T02:37:40.753Z"
   },
   {
    "duration": 353,
    "start_time": "2021-10-06T02:39:11.704Z"
   },
   {
    "duration": 476,
    "start_time": "2021-10-06T02:39:44.918Z"
   },
   {
    "duration": 429,
    "start_time": "2021-10-06T02:40:01.293Z"
   },
   {
    "duration": 26,
    "start_time": "2021-10-06T02:40:21.973Z"
   },
   {
    "duration": 469,
    "start_time": "2021-10-06T02:40:26.559Z"
   },
   {
    "duration": 453,
    "start_time": "2021-10-06T02:40:32.934Z"
   },
   {
    "duration": 556,
    "start_time": "2021-10-06T18:53:17.451Z"
   },
   {
    "duration": 36,
    "start_time": "2021-10-06T18:53:18.009Z"
   },
   {
    "duration": 15,
    "start_time": "2021-10-06T18:53:18.047Z"
   },
   {
    "duration": 11,
    "start_time": "2021-10-06T18:53:18.063Z"
   },
   {
    "duration": 24,
    "start_time": "2021-10-06T18:53:18.076Z"
   },
   {
    "duration": 4,
    "start_time": "2021-10-06T18:53:18.101Z"
   },
   {
    "duration": 9,
    "start_time": "2021-10-06T18:53:18.107Z"
   },
   {
    "duration": 12,
    "start_time": "2021-10-06T18:53:18.119Z"
   },
   {
    "duration": 12,
    "start_time": "2021-10-06T18:53:18.133Z"
   },
   {
    "duration": 12,
    "start_time": "2021-10-06T18:53:18.146Z"
   },
   {
    "duration": 46,
    "start_time": "2021-10-06T18:53:18.159Z"
   },
   {
    "duration": 4,
    "start_time": "2021-10-06T18:53:18.207Z"
   },
   {
    "duration": 26,
    "start_time": "2021-10-06T18:53:18.213Z"
   },
   {
    "duration": 22,
    "start_time": "2021-10-06T18:53:18.241Z"
   },
   {
    "duration": 5,
    "start_time": "2021-10-06T18:53:18.265Z"
   },
   {
    "duration": 6,
    "start_time": "2021-10-06T18:53:18.299Z"
   },
   {
    "duration": 1189,
    "start_time": "2021-10-06T18:53:18.306Z"
   },
   {
    "duration": 521,
    "start_time": "2021-10-06T18:53:19.496Z"
   },
   {
    "duration": 15,
    "start_time": "2021-10-06T18:53:20.018Z"
   },
   {
    "duration": 31,
    "start_time": "2021-10-06T18:53:20.034Z"
   },
   {
    "duration": 37,
    "start_time": "2021-10-06T18:53:20.067Z"
   },
   {
    "duration": 10,
    "start_time": "2021-10-06T18:53:20.106Z"
   },
   {
    "duration": 7,
    "start_time": "2021-10-06T18:53:20.121Z"
   },
   {
    "duration": 16,
    "start_time": "2021-10-06T18:53:20.130Z"
   },
   {
    "duration": 10,
    "start_time": "2021-10-06T18:53:20.148Z"
   },
   {
    "duration": 9,
    "start_time": "2021-10-06T18:53:20.160Z"
   },
   {
    "duration": 32,
    "start_time": "2021-10-06T18:53:20.171Z"
   },
   {
    "duration": 10,
    "start_time": "2021-10-06T18:53:20.205Z"
   },
   {
    "duration": 9,
    "start_time": "2021-10-06T18:53:20.216Z"
   },
   {
    "duration": 12,
    "start_time": "2021-10-06T18:53:20.227Z"
   },
   {
    "duration": 11,
    "start_time": "2021-10-06T18:53:20.241Z"
   },
   {
    "duration": 13,
    "start_time": "2021-10-06T18:53:20.254Z"
   },
   {
    "duration": 249,
    "start_time": "2021-10-06T18:53:20.269Z"
   },
   {
    "duration": 2,
    "start_time": "2021-10-06T18:53:20.520Z"
   },
   {
    "duration": 10,
    "start_time": "2021-10-06T18:53:20.524Z"
   },
   {
    "duration": 12,
    "start_time": "2021-10-06T18:53:20.536Z"
   },
   {
    "duration": 67,
    "start_time": "2021-10-06T18:53:20.549Z"
   },
   {
    "duration": 275,
    "start_time": "2021-10-06T18:53:20.617Z"
   },
   {
    "duration": 18,
    "start_time": "2021-10-06T18:53:20.893Z"
   },
   {
    "duration": 24,
    "start_time": "2021-10-06T18:53:20.912Z"
   },
   {
    "duration": 290,
    "start_time": "2021-10-06T18:53:20.937Z"
   },
   {
    "duration": 19,
    "start_time": "2021-10-06T18:53:21.229Z"
   },
   {
    "duration": 297,
    "start_time": "2021-10-06T18:53:21.249Z"
   },
   {
    "duration": 12,
    "start_time": "2021-10-06T19:01:37.052Z"
   },
   {
    "duration": 13,
    "start_time": "2021-10-06T19:02:26.530Z"
   },
   {
    "duration": 13,
    "start_time": "2021-10-06T19:02:44.146Z"
   },
   {
    "duration": 15,
    "start_time": "2021-10-06T19:05:07.619Z"
   },
   {
    "duration": 251,
    "start_time": "2021-10-06T19:05:58.018Z"
   },
   {
    "duration": 2,
    "start_time": "2021-10-06T19:06:24.515Z"
   },
   {
    "duration": 41,
    "start_time": "2021-10-06T19:17:24.588Z"
   },
   {
    "duration": 45,
    "start_time": "2021-10-06T19:17:33.505Z"
   },
   {
    "duration": 188,
    "start_time": "2021-10-06T19:18:16.922Z"
   },
   {
    "duration": 132,
    "start_time": "2021-10-06T19:18:35.009Z"
   },
   {
    "duration": 127,
    "start_time": "2021-10-06T19:18:41.241Z"
   },
   {
    "duration": 3,
    "start_time": "2021-10-06T19:18:48.936Z"
   },
   {
    "duration": 4,
    "start_time": "2021-10-06T19:18:58.401Z"
   },
   {
    "duration": 278,
    "start_time": "2021-10-06T19:19:21.600Z"
   },
   {
    "duration": 124,
    "start_time": "2021-10-06T19:19:38.424Z"
   },
   {
    "duration": 2346,
    "start_time": "2021-10-06T19:19:44.704Z"
   },
   {
    "duration": 130,
    "start_time": "2021-10-06T19:20:04.905Z"
   },
   {
    "duration": 152,
    "start_time": "2021-10-06T19:20:15.585Z"
   },
   {
    "duration": 3,
    "start_time": "2021-10-06T19:20:39.209Z"
   },
   {
    "duration": 157,
    "start_time": "2021-10-06T19:20:46.120Z"
   },
   {
    "duration": 3,
    "start_time": "2021-10-06T19:21:24.185Z"
   },
   {
    "duration": 3,
    "start_time": "2021-10-06T19:21:29.497Z"
   },
   {
    "duration": 3,
    "start_time": "2021-10-06T19:21:34.688Z"
   },
   {
    "duration": 4,
    "start_time": "2021-10-06T19:21:41.265Z"
   },
   {
    "duration": 4,
    "start_time": "2021-10-06T19:21:46.592Z"
   },
   {
    "duration": 291,
    "start_time": "2021-10-06T19:24:28.080Z"
   },
   {
    "duration": 280,
    "start_time": "2021-10-06T19:25:01.800Z"
   },
   {
    "duration": 276,
    "start_time": "2021-10-06T19:25:26.298Z"
   },
   {
    "duration": 5,
    "start_time": "2021-10-06T19:26:06.448Z"
   },
   {
    "duration": 6,
    "start_time": "2021-10-06T19:26:24.119Z"
   },
   {
    "duration": 4,
    "start_time": "2021-10-06T19:26:36.879Z"
   },
   {
    "duration": 5,
    "start_time": "2021-10-06T19:26:55.272Z"
   },
   {
    "duration": 9,
    "start_time": "2021-10-06T19:30:19.839Z"
   },
   {
    "duration": 17,
    "start_time": "2021-10-06T19:33:26.983Z"
   },
   {
    "duration": 17,
    "start_time": "2021-10-06T19:34:11.454Z"
   },
   {
    "duration": 18,
    "start_time": "2021-10-06T19:34:48.286Z"
   },
   {
    "duration": 277,
    "start_time": "2021-10-06T19:35:12.925Z"
   },
   {
    "duration": 4199,
    "start_time": "2021-10-06T19:35:28.567Z"
   },
   {
    "duration": 17,
    "start_time": "2021-10-06T19:35:42.502Z"
   },
   {
    "duration": 4568,
    "start_time": "2021-10-06T19:36:00.478Z"
   },
   {
    "duration": 291,
    "start_time": "2021-10-06T19:36:33.911Z"
   },
   {
    "duration": 291,
    "start_time": "2021-10-06T19:36:44.806Z"
   },
   {
    "duration": 164,
    "start_time": "2021-10-06T19:36:51.421Z"
   },
   {
    "duration": 176,
    "start_time": "2021-10-06T19:37:00.670Z"
   },
   {
    "duration": 165,
    "start_time": "2021-10-06T19:37:06.030Z"
   },
   {
    "duration": 3571,
    "start_time": "2021-10-06T19:39:35.848Z"
   },
   {
    "duration": 77,
    "start_time": "2021-10-06T19:40:09.517Z"
   },
   {
    "duration": 17,
    "start_time": "2021-10-06T19:40:47.525Z"
   },
   {
    "duration": 551,
    "start_time": "2021-10-06T19:41:08.848Z"
   },
   {
    "duration": 36,
    "start_time": "2021-10-06T19:41:09.401Z"
   },
   {
    "duration": 15,
    "start_time": "2021-10-06T19:41:09.439Z"
   },
   {
    "duration": 11,
    "start_time": "2021-10-06T19:41:09.456Z"
   },
   {
    "duration": 15,
    "start_time": "2021-10-06T19:41:09.468Z"
   },
   {
    "duration": 16,
    "start_time": "2021-10-06T19:41:09.484Z"
   },
   {
    "duration": 8,
    "start_time": "2021-10-06T19:41:09.501Z"
   },
   {
    "duration": 13,
    "start_time": "2021-10-06T19:41:09.511Z"
   },
   {
    "duration": 13,
    "start_time": "2021-10-06T19:41:09.525Z"
   },
   {
    "duration": 12,
    "start_time": "2021-10-06T19:41:09.540Z"
   },
   {
    "duration": 46,
    "start_time": "2021-10-06T19:41:09.553Z"
   },
   {
    "duration": 3,
    "start_time": "2021-10-06T19:41:09.601Z"
   },
   {
    "duration": 27,
    "start_time": "2021-10-06T19:41:09.606Z"
   },
   {
    "duration": 22,
    "start_time": "2021-10-06T19:41:09.634Z"
   },
   {
    "duration": 4,
    "start_time": "2021-10-06T19:41:09.657Z"
   },
   {
    "duration": 5,
    "start_time": "2021-10-06T19:41:09.663Z"
   },
   {
    "duration": 1240,
    "start_time": "2021-10-06T19:41:09.669Z"
   },
   {
    "duration": 526,
    "start_time": "2021-10-06T19:41:10.911Z"
   },
   {
    "duration": 12,
    "start_time": "2021-10-06T19:41:11.439Z"
   },
   {
    "duration": 24,
    "start_time": "2021-10-06T19:41:11.453Z"
   },
   {
    "duration": 31,
    "start_time": "2021-10-06T19:41:11.479Z"
   },
   {
    "duration": 9,
    "start_time": "2021-10-06T19:41:11.512Z"
   },
   {
    "duration": 5,
    "start_time": "2021-10-06T19:41:11.524Z"
   },
   {
    "duration": 9,
    "start_time": "2021-10-06T19:41:11.531Z"
   },
   {
    "duration": 6,
    "start_time": "2021-10-06T19:41:11.541Z"
   },
   {
    "duration": 10,
    "start_time": "2021-10-06T19:41:11.549Z"
   },
   {
    "duration": 45,
    "start_time": "2021-10-06T19:41:11.560Z"
   },
   {
    "duration": 9,
    "start_time": "2021-10-06T19:41:11.607Z"
   },
   {
    "duration": 9,
    "start_time": "2021-10-06T19:41:11.618Z"
   },
   {
    "duration": 13,
    "start_time": "2021-10-06T19:41:11.629Z"
   },
   {
    "duration": 12,
    "start_time": "2021-10-06T19:41:11.644Z"
   },
   {
    "duration": 10,
    "start_time": "2021-10-06T19:41:11.658Z"
   },
   {
    "duration": 227,
    "start_time": "2021-10-06T19:41:11.699Z"
   },
   {
    "duration": 3,
    "start_time": "2021-10-06T19:41:11.927Z"
   },
   {
    "duration": 13,
    "start_time": "2021-10-06T19:41:11.931Z"
   },
   {
    "duration": 14,
    "start_time": "2021-10-06T19:41:11.946Z"
   },
   {
    "duration": 59,
    "start_time": "2021-10-06T19:41:11.962Z"
   },
   {
    "duration": 271,
    "start_time": "2021-10-06T19:41:12.022Z"
   },
   {
    "duration": 15,
    "start_time": "2021-10-06T19:41:12.299Z"
   },
   {
    "duration": 23,
    "start_time": "2021-10-06T19:41:12.315Z"
   },
   {
    "duration": 294,
    "start_time": "2021-10-06T19:41:12.340Z"
   },
   {
    "duration": 17,
    "start_time": "2021-10-06T19:41:12.636Z"
   },
   {
    "duration": 4310,
    "start_time": "2021-10-06T19:41:12.654Z"
   },
   {
    "duration": 1975,
    "start_time": "2021-10-06T19:41:14.991Z"
   },
   {
    "duration": 1971,
    "start_time": "2021-10-06T19:41:14.996Z"
   },
   {
    "duration": 19,
    "start_time": "2021-10-06T19:41:53.178Z"
   },
   {
    "duration": 18,
    "start_time": "2021-10-06T19:42:04.443Z"
   },
   {
    "duration": 18,
    "start_time": "2021-10-06T19:42:15.163Z"
   },
   {
    "duration": 16,
    "start_time": "2021-10-06T19:42:21.819Z"
   },
   {
    "duration": 15,
    "start_time": "2021-10-06T19:42:33.043Z"
   },
   {
    "duration": 54,
    "start_time": "2021-10-06T19:43:06.738Z"
   },
   {
    "duration": 18,
    "start_time": "2021-10-06T19:44:17.633Z"
   },
   {
    "duration": 161,
    "start_time": "2021-10-06T19:44:22.818Z"
   },
   {
    "duration": 286,
    "start_time": "2021-10-06T19:44:52.699Z"
   },
   {
    "duration": 203,
    "start_time": "2021-10-06T19:45:23.890Z"
   },
   {
    "duration": 210,
    "start_time": "2021-10-06T19:45:28.129Z"
   },
   {
    "duration": 218,
    "start_time": "2021-10-06T19:45:33.931Z"
   },
   {
    "duration": 234,
    "start_time": "2021-10-06T19:45:40.121Z"
   },
   {
    "duration": 248,
    "start_time": "2021-10-06T19:47:31.121Z"
   },
   {
    "duration": 239,
    "start_time": "2021-10-06T19:48:21.985Z"
   },
   {
    "duration": 246,
    "start_time": "2021-10-06T19:49:11.082Z"
   },
   {
    "duration": 262,
    "start_time": "2021-10-06T19:49:23.577Z"
   },
   {
    "duration": 248,
    "start_time": "2021-10-06T19:55:16.441Z"
   },
   {
    "duration": 306,
    "start_time": "2021-10-06T19:55:31.408Z"
   },
   {
    "duration": 259,
    "start_time": "2021-10-06T19:55:50.887Z"
   },
   {
    "duration": 261,
    "start_time": "2021-10-06T19:56:02.608Z"
   },
   {
    "duration": 274,
    "start_time": "2021-10-06T19:57:35.400Z"
   },
   {
    "duration": 268,
    "start_time": "2021-10-06T19:57:40.551Z"
   },
   {
    "duration": 279,
    "start_time": "2021-10-06T19:57:47.191Z"
   },
   {
    "duration": 18,
    "start_time": "2021-10-06T20:03:00.422Z"
   },
   {
    "duration": 251,
    "start_time": "2021-10-06T20:03:02.550Z"
   },
   {
    "duration": 282,
    "start_time": "2021-10-06T20:03:20.143Z"
   },
   {
    "duration": 3734,
    "start_time": "2021-10-06T20:04:28.518Z"
   },
   {
    "duration": 3365,
    "start_time": "2021-10-06T20:05:08.862Z"
   },
   {
    "duration": 394,
    "start_time": "2021-10-06T20:05:39.142Z"
   },
   {
    "duration": 459,
    "start_time": "2021-10-06T20:07:35.550Z"
   },
   {
    "duration": 287,
    "start_time": "2021-10-06T20:07:53.486Z"
   },
   {
    "duration": 20,
    "start_time": "2021-10-06T20:13:08.397Z"
   },
   {
    "duration": 127,
    "start_time": "2021-10-06T20:15:37.044Z"
   },
   {
    "duration": 10,
    "start_time": "2021-10-06T20:16:06.572Z"
   },
   {
    "duration": 7,
    "start_time": "2021-10-06T20:16:25.228Z"
   },
   {
    "duration": 8,
    "start_time": "2021-10-06T20:16:37.843Z"
   },
   {
    "duration": 19,
    "start_time": "2021-10-06T20:19:22.707Z"
   },
   {
    "duration": 243,
    "start_time": "2021-10-06T20:19:26.372Z"
   },
   {
    "duration": 21,
    "start_time": "2021-10-06T20:19:54.067Z"
   },
   {
    "duration": 254,
    "start_time": "2021-10-06T20:20:00.299Z"
   },
   {
    "duration": 20,
    "start_time": "2021-10-06T20:20:55.563Z"
   },
   {
    "duration": 247,
    "start_time": "2021-10-06T20:20:58.506Z"
   },
   {
    "duration": 305,
    "start_time": "2021-10-06T20:21:44.635Z"
   },
   {
    "duration": 350,
    "start_time": "2021-10-06T20:21:55.971Z"
   },
   {
    "duration": 316,
    "start_time": "2021-10-06T20:22:04.434Z"
   },
   {
    "duration": 20,
    "start_time": "2021-10-06T20:22:21.675Z"
   },
   {
    "duration": 251,
    "start_time": "2021-10-06T20:22:24.979Z"
   },
   {
    "duration": 7,
    "start_time": "2021-10-06T20:22:26.810Z"
   },
   {
    "duration": 255,
    "start_time": "2021-10-06T20:24:56.674Z"
   },
   {
    "duration": 273,
    "start_time": "2021-10-06T20:26:20.585Z"
   },
   {
    "duration": 269,
    "start_time": "2021-10-06T20:47:22.263Z"
   },
   {
    "duration": 612,
    "start_time": "2021-10-08T15:55:04.308Z"
   },
   {
    "duration": 37,
    "start_time": "2021-10-08T15:55:04.922Z"
   },
   {
    "duration": 15,
    "start_time": "2021-10-08T15:55:04.961Z"
   },
   {
    "duration": 12,
    "start_time": "2021-10-08T15:55:04.977Z"
   },
   {
    "duration": 21,
    "start_time": "2021-10-08T15:55:04.991Z"
   },
   {
    "duration": 5,
    "start_time": "2021-10-08T15:55:05.013Z"
   },
   {
    "duration": 11,
    "start_time": "2021-10-08T15:55:05.019Z"
   },
   {
    "duration": 14,
    "start_time": "2021-10-08T15:55:05.032Z"
   },
   {
    "duration": 14,
    "start_time": "2021-10-08T15:55:05.049Z"
   },
   {
    "duration": 44,
    "start_time": "2021-10-08T15:55:05.065Z"
   },
   {
    "duration": 18,
    "start_time": "2021-10-08T15:55:05.111Z"
   },
   {
    "duration": 4,
    "start_time": "2021-10-08T15:55:05.131Z"
   },
   {
    "duration": 39,
    "start_time": "2021-10-08T15:55:05.136Z"
   },
   {
    "duration": 49,
    "start_time": "2021-10-08T15:55:05.177Z"
   },
   {
    "duration": 6,
    "start_time": "2021-10-08T15:55:05.227Z"
   },
   {
    "duration": 7,
    "start_time": "2021-10-08T15:55:05.235Z"
   },
   {
    "duration": 1244,
    "start_time": "2021-10-08T15:55:05.243Z"
   },
   {
    "duration": 566,
    "start_time": "2021-10-08T15:55:06.489Z"
   },
   {
    "duration": 13,
    "start_time": "2021-10-08T15:55:07.057Z"
   },
   {
    "duration": 46,
    "start_time": "2021-10-08T15:55:07.072Z"
   },
   {
    "duration": 12,
    "start_time": "2021-10-08T15:55:07.120Z"
   },
   {
    "duration": 10,
    "start_time": "2021-10-08T15:55:07.134Z"
   },
   {
    "duration": 7,
    "start_time": "2021-10-08T15:55:07.147Z"
   },
   {
    "duration": 13,
    "start_time": "2021-10-08T15:55:07.156Z"
   },
   {
    "duration": 30,
    "start_time": "2021-10-08T15:55:07.171Z"
   },
   {
    "duration": 10,
    "start_time": "2021-10-08T15:55:07.203Z"
   },
   {
    "duration": 10,
    "start_time": "2021-10-08T15:55:07.215Z"
   },
   {
    "duration": 9,
    "start_time": "2021-10-08T15:55:07.227Z"
   },
   {
    "duration": 10,
    "start_time": "2021-10-08T15:55:07.237Z"
   },
   {
    "duration": 13,
    "start_time": "2021-10-08T15:55:07.248Z"
   },
   {
    "duration": 43,
    "start_time": "2021-10-08T15:55:07.263Z"
   },
   {
    "duration": 11,
    "start_time": "2021-10-08T15:55:07.308Z"
   },
   {
    "duration": 247,
    "start_time": "2021-10-08T15:55:07.320Z"
   },
   {
    "duration": 3,
    "start_time": "2021-10-08T15:55:07.569Z"
   },
   {
    "duration": 11,
    "start_time": "2021-10-08T15:55:07.574Z"
   },
   {
    "duration": 29,
    "start_time": "2021-10-08T15:55:07.586Z"
   },
   {
    "duration": 47,
    "start_time": "2021-10-08T15:55:07.617Z"
   },
   {
    "duration": 306,
    "start_time": "2021-10-08T15:55:07.666Z"
   },
   {
    "duration": 30,
    "start_time": "2021-10-08T15:55:07.974Z"
   },
   {
    "duration": 28,
    "start_time": "2021-10-08T15:55:08.005Z"
   },
   {
    "duration": 314,
    "start_time": "2021-10-08T15:55:08.035Z"
   },
   {
    "duration": 21,
    "start_time": "2021-10-08T15:55:08.351Z"
   },
   {
    "duration": 426,
    "start_time": "2021-10-08T15:55:08.374Z"
   },
   {
    "duration": 19,
    "start_time": "2021-10-08T15:55:08.802Z"
   },
   {
    "duration": 305,
    "start_time": "2021-10-08T15:55:08.823Z"
   },
   {
    "duration": 235,
    "start_time": "2021-10-08T15:58:00.478Z"
   },
   {
    "duration": 220,
    "start_time": "2021-10-08T15:58:48.220Z"
   },
   {
    "duration": 20,
    "start_time": "2021-10-08T16:07:02.075Z"
   },
   {
    "duration": 7,
    "start_time": "2021-10-08T16:07:57.926Z"
   },
   {
    "duration": 7,
    "start_time": "2021-10-08T16:08:12.228Z"
   },
   {
    "duration": 6,
    "start_time": "2021-10-08T16:09:20.375Z"
   },
   {
    "duration": 32,
    "start_time": "2021-10-08T16:10:49.615Z"
   },
   {
    "duration": 21,
    "start_time": "2021-10-08T16:11:14.284Z"
   },
   {
    "duration": 23,
    "start_time": "2021-10-08T16:11:23.815Z"
   },
   {
    "duration": 18,
    "start_time": "2021-10-08T16:11:34.482Z"
   },
   {
    "duration": 21,
    "start_time": "2021-10-08T16:12:05.491Z"
   },
   {
    "duration": 17,
    "start_time": "2021-10-08T16:12:12.128Z"
   },
   {
    "duration": 21,
    "start_time": "2021-10-08T16:12:17.200Z"
   },
   {
    "duration": 200,
    "start_time": "2021-10-08T16:13:25.814Z"
   },
   {
    "duration": 165,
    "start_time": "2021-10-08T16:13:29.244Z"
   },
   {
    "duration": 170,
    "start_time": "2021-10-08T16:13:35.687Z"
   },
   {
    "duration": 212,
    "start_time": "2021-10-08T16:13:46.729Z"
   },
   {
    "duration": 21,
    "start_time": "2021-10-08T16:14:29.788Z"
   },
   {
    "duration": 19,
    "start_time": "2021-10-08T16:15:10.880Z"
   },
   {
    "duration": 23,
    "start_time": "2021-10-08T16:15:21.673Z"
   },
   {
    "duration": 16,
    "start_time": "2021-10-08T16:16:17.362Z"
   },
   {
    "duration": 16,
    "start_time": "2021-10-08T16:16:22.018Z"
   },
   {
    "duration": 23,
    "start_time": "2021-10-08T16:16:26.912Z"
   },
   {
    "duration": 302,
    "start_time": "2021-10-08T16:17:42.051Z"
   },
   {
    "duration": 296,
    "start_time": "2021-10-08T16:18:30.910Z"
   },
   {
    "duration": 24,
    "start_time": "2021-10-08T16:19:54.342Z"
   },
   {
    "duration": 143,
    "start_time": "2021-10-08T16:22:58.195Z"
   },
   {
    "duration": 342,
    "start_time": "2021-10-08T16:23:20.607Z"
   },
   {
    "duration": 141,
    "start_time": "2021-10-08T16:26:04.278Z"
   },
   {
    "duration": 952,
    "start_time": "2021-10-08T16:28:30.008Z"
   },
   {
    "duration": 26,
    "start_time": "2021-10-08T16:29:10.720Z"
   },
   {
    "duration": 332,
    "start_time": "2021-10-08T16:29:12.425Z"
   },
   {
    "duration": 39,
    "start_time": "2021-10-08T16:29:29.088Z"
   },
   {
    "duration": 22,
    "start_time": "2021-10-08T16:29:31.407Z"
   },
   {
    "duration": 307,
    "start_time": "2021-10-08T16:29:33.803Z"
   },
   {
    "duration": 16,
    "start_time": "2021-10-08T16:29:37.242Z"
   },
   {
    "duration": 27,
    "start_time": "2021-10-08T16:29:39.218Z"
   },
   {
    "duration": 261,
    "start_time": "2021-10-08T16:29:40.229Z"
   },
   {
    "duration": 17,
    "start_time": "2021-10-08T16:29:43.293Z"
   },
   {
    "duration": 19,
    "start_time": "2021-10-08T16:29:45.921Z"
   },
   {
    "duration": 264,
    "start_time": "2021-10-08T16:29:48.264Z"
   },
   {
    "duration": 346,
    "start_time": "2021-10-08T17:37:00.659Z"
   },
   {
    "duration": 228,
    "start_time": "2021-10-08T17:37:53.654Z"
   },
   {
    "duration": 233,
    "start_time": "2021-10-08T17:38:01.520Z"
   },
   {
    "duration": 557,
    "start_time": "2021-10-08T17:38:17.946Z"
   },
   {
    "duration": 35,
    "start_time": "2021-10-08T17:38:18.505Z"
   },
   {
    "duration": 14,
    "start_time": "2021-10-08T17:38:18.542Z"
   },
   {
    "duration": 10,
    "start_time": "2021-10-08T17:38:18.558Z"
   },
   {
    "duration": 15,
    "start_time": "2021-10-08T17:38:18.570Z"
   },
   {
    "duration": 15,
    "start_time": "2021-10-08T17:38:18.586Z"
   },
   {
    "duration": 10,
    "start_time": "2021-10-08T17:38:18.602Z"
   },
   {
    "duration": 12,
    "start_time": "2021-10-08T17:38:18.614Z"
   },
   {
    "duration": 13,
    "start_time": "2021-10-08T17:38:18.627Z"
   },
   {
    "duration": 11,
    "start_time": "2021-10-08T17:38:18.642Z"
   },
   {
    "duration": 46,
    "start_time": "2021-10-08T17:38:18.655Z"
   },
   {
    "duration": 4,
    "start_time": "2021-10-08T17:38:18.702Z"
   },
   {
    "duration": 28,
    "start_time": "2021-10-08T17:38:18.707Z"
   },
   {
    "duration": 24,
    "start_time": "2021-10-08T17:38:18.736Z"
   },
   {
    "duration": 5,
    "start_time": "2021-10-08T17:38:18.762Z"
   },
   {
    "duration": 30,
    "start_time": "2021-10-08T17:38:18.769Z"
   },
   {
    "duration": 1198,
    "start_time": "2021-10-08T17:38:18.801Z"
   },
   {
    "duration": 562,
    "start_time": "2021-10-08T17:38:20.001Z"
   },
   {
    "duration": 14,
    "start_time": "2021-10-08T17:38:20.564Z"
   },
   {
    "duration": 38,
    "start_time": "2021-10-08T17:38:20.580Z"
   },
   {
    "duration": 13,
    "start_time": "2021-10-08T17:38:20.619Z"
   },
   {
    "duration": 10,
    "start_time": "2021-10-08T17:38:20.633Z"
   },
   {
    "duration": 6,
    "start_time": "2021-10-08T17:38:20.646Z"
   },
   {
    "duration": 9,
    "start_time": "2021-10-08T17:38:20.654Z"
   },
   {
    "duration": 38,
    "start_time": "2021-10-08T17:38:20.665Z"
   },
   {
    "duration": 10,
    "start_time": "2021-10-08T17:38:20.704Z"
   },
   {
    "duration": 9,
    "start_time": "2021-10-08T17:38:20.715Z"
   },
   {
    "duration": 9,
    "start_time": "2021-10-08T17:38:20.726Z"
   },
   {
    "duration": 9,
    "start_time": "2021-10-08T17:38:20.736Z"
   },
   {
    "duration": 12,
    "start_time": "2021-10-08T17:38:20.746Z"
   },
   {
    "duration": 44,
    "start_time": "2021-10-08T17:38:20.760Z"
   },
   {
    "duration": 8,
    "start_time": "2021-10-08T17:38:20.806Z"
   },
   {
    "duration": 248,
    "start_time": "2021-10-08T17:38:20.815Z"
   },
   {
    "duration": 2,
    "start_time": "2021-10-08T17:38:21.064Z"
   },
   {
    "duration": 15,
    "start_time": "2021-10-08T17:38:21.068Z"
   },
   {
    "duration": 44,
    "start_time": "2021-10-08T17:38:21.085Z"
   },
   {
    "duration": 1296,
    "start_time": "2021-10-08T17:38:19.834Z"
   },
   {
    "duration": 1278,
    "start_time": "2021-10-08T17:38:19.854Z"
   },
   {
    "duration": 1273,
    "start_time": "2021-10-08T17:38:19.860Z"
   },
   {
    "duration": 1269,
    "start_time": "2021-10-08T17:38:19.865Z"
   },
   {
    "duration": 1267,
    "start_time": "2021-10-08T17:38:19.868Z"
   },
   {
    "duration": 1264,
    "start_time": "2021-10-08T17:38:19.872Z"
   },
   {
    "duration": 1261,
    "start_time": "2021-10-08T17:38:19.876Z"
   },
   {
    "duration": 1258,
    "start_time": "2021-10-08T17:38:19.880Z"
   },
   {
    "duration": 14,
    "start_time": "2021-10-08T17:38:47.743Z"
   },
   {
    "duration": 40,
    "start_time": "2021-10-08T17:38:51.238Z"
   },
   {
    "duration": 338,
    "start_time": "2021-10-08T17:38:52.473Z"
   },
   {
    "duration": 360,
    "start_time": "2021-10-08T17:38:52.926Z"
   },
   {
    "duration": 23,
    "start_time": "2021-10-08T17:39:07.541Z"
   },
   {
    "duration": 299,
    "start_time": "2021-10-08T17:39:10.001Z"
   },
   {
    "duration": 16,
    "start_time": "2021-10-08T17:39:14.114Z"
   },
   {
    "duration": 24,
    "start_time": "2021-10-08T17:39:14.902Z"
   },
   {
    "duration": 310,
    "start_time": "2021-10-08T17:39:17.633Z"
   },
   {
    "duration": 19,
    "start_time": "2021-10-08T17:39:21.348Z"
   },
   {
    "duration": 281,
    "start_time": "2021-10-08T17:39:22.236Z"
   },
   {
    "duration": 302,
    "start_time": "2021-10-08T17:53:22.739Z"
   },
   {
    "duration": 225,
    "start_time": "2021-10-08T17:54:13.109Z"
   },
   {
    "duration": 282,
    "start_time": "2021-10-08T17:54:48.558Z"
   },
   {
    "duration": 265,
    "start_time": "2021-10-08T17:54:54.448Z"
   },
   {
    "duration": 290,
    "start_time": "2021-10-08T17:55:11.232Z"
   },
   {
    "duration": 317,
    "start_time": "2021-10-08T17:55:26.489Z"
   },
   {
    "duration": 290,
    "start_time": "2021-10-08T17:55:32.414Z"
   },
   {
    "duration": 314,
    "start_time": "2021-10-08T17:55:36.002Z"
   },
   {
    "duration": 289,
    "start_time": "2021-10-08T17:55:41.217Z"
   },
   {
    "duration": 354,
    "start_time": "2021-10-08T17:55:44.609Z"
   },
   {
    "duration": 284,
    "start_time": "2021-10-08T17:55:51.334Z"
   },
   {
    "duration": 284,
    "start_time": "2021-10-08T17:55:54.490Z"
   },
   {
    "duration": 5,
    "start_time": "2021-10-08T19:03:21.474Z"
   },
   {
    "duration": 9,
    "start_time": "2021-10-08T19:04:14.799Z"
   },
   {
    "duration": 11,
    "start_time": "2021-10-08T19:04:27.632Z"
   },
   {
    "duration": 62,
    "start_time": "2021-10-08T19:04:44.713Z"
   },
   {
    "duration": 7,
    "start_time": "2021-10-08T19:05:03.070Z"
   },
   {
    "duration": 9,
    "start_time": "2021-10-08T19:05:12.932Z"
   },
   {
    "duration": 10,
    "start_time": "2021-10-08T19:05:23.446Z"
   },
   {
    "duration": 9,
    "start_time": "2021-10-08T21:34:30.036Z"
   },
   {
    "duration": 9,
    "start_time": "2021-10-08T21:34:55.231Z"
   },
   {
    "duration": 9,
    "start_time": "2021-10-08T21:36:34.994Z"
   },
   {
    "duration": 8,
    "start_time": "2021-10-08T21:36:37.488Z"
   },
   {
    "duration": 12,
    "start_time": "2021-10-08T21:39:09.266Z"
   },
   {
    "duration": 12,
    "start_time": "2021-10-08T21:39:42.431Z"
   },
   {
    "duration": 14,
    "start_time": "2021-10-08T21:39:50.091Z"
   },
   {
    "duration": 13,
    "start_time": "2021-10-08T21:40:07.143Z"
   },
   {
    "duration": 896,
    "start_time": "2021-10-09T03:16:57.895Z"
   },
   {
    "duration": 55,
    "start_time": "2021-10-09T03:16:58.794Z"
   },
   {
    "duration": 22,
    "start_time": "2021-10-09T03:16:58.852Z"
   },
   {
    "duration": 26,
    "start_time": "2021-10-09T03:16:58.877Z"
   },
   {
    "duration": 23,
    "start_time": "2021-10-09T03:16:58.905Z"
   },
   {
    "duration": 6,
    "start_time": "2021-10-09T03:16:58.930Z"
   },
   {
    "duration": 15,
    "start_time": "2021-10-09T03:16:58.938Z"
   },
   {
    "duration": 57,
    "start_time": "2021-10-09T03:16:58.957Z"
   },
   {
    "duration": 20,
    "start_time": "2021-10-09T03:16:59.017Z"
   },
   {
    "duration": 25,
    "start_time": "2021-10-09T03:16:59.040Z"
   },
   {
    "duration": 46,
    "start_time": "2021-10-09T03:16:59.067Z"
   },
   {
    "duration": 5,
    "start_time": "2021-10-09T03:16:59.116Z"
   },
   {
    "duration": 41,
    "start_time": "2021-10-09T03:16:59.123Z"
   },
   {
    "duration": 68,
    "start_time": "2021-10-09T03:16:59.167Z"
   },
   {
    "duration": 7,
    "start_time": "2021-10-09T03:16:59.238Z"
   },
   {
    "duration": 9,
    "start_time": "2021-10-09T03:16:59.247Z"
   },
   {
    "duration": 2497,
    "start_time": "2021-10-09T03:16:59.259Z"
   },
   {
    "duration": 817,
    "start_time": "2021-10-09T03:17:01.758Z"
   },
   {
    "duration": 42,
    "start_time": "2021-10-09T03:17:02.577Z"
   },
   {
    "duration": 47,
    "start_time": "2021-10-09T03:17:02.622Z"
   },
   {
    "duration": 47,
    "start_time": "2021-10-09T03:17:02.672Z"
   },
   {
    "duration": 19,
    "start_time": "2021-10-09T03:17:02.721Z"
   },
   {
    "duration": 8,
    "start_time": "2021-10-09T03:17:02.745Z"
   },
   {
    "duration": 53,
    "start_time": "2021-10-09T03:17:02.756Z"
   },
   {
    "duration": 9,
    "start_time": "2021-10-09T03:17:02.811Z"
   },
   {
    "duration": 15,
    "start_time": "2021-10-09T03:17:02.823Z"
   },
   {
    "duration": 12,
    "start_time": "2021-10-09T03:17:02.841Z"
   },
   {
    "duration": 46,
    "start_time": "2021-10-09T03:17:02.856Z"
   },
   {
    "duration": 14,
    "start_time": "2021-10-09T03:17:02.904Z"
   },
   {
    "duration": 19,
    "start_time": "2021-10-09T03:17:02.920Z"
   },
   {
    "duration": 19,
    "start_time": "2021-10-09T03:17:02.942Z"
   },
   {
    "duration": 44,
    "start_time": "2021-10-09T03:17:02.963Z"
   },
   {
    "duration": 402,
    "start_time": "2021-10-09T03:17:03.009Z"
   },
   {
    "duration": 3,
    "start_time": "2021-10-09T03:17:03.414Z"
   },
   {
    "duration": 33,
    "start_time": "2021-10-09T03:17:03.419Z"
   },
   {
    "duration": 22,
    "start_time": "2021-10-09T03:17:03.455Z"
   },
   {
    "duration": 77,
    "start_time": "2021-10-09T03:17:03.479Z"
   },
   {
    "duration": 55,
    "start_time": "2021-10-09T03:17:03.558Z"
   },
   {
    "duration": 520,
    "start_time": "2021-10-09T03:17:03.615Z"
   },
   {
    "duration": 23,
    "start_time": "2021-10-09T03:17:04.137Z"
   },
   {
    "duration": 62,
    "start_time": "2021-10-09T03:17:04.162Z"
   },
   {
    "duration": 492,
    "start_time": "2021-10-09T03:17:04.226Z"
   },
   {
    "duration": 30,
    "start_time": "2021-10-09T03:17:04.720Z"
   },
   {
    "duration": 536,
    "start_time": "2021-10-09T03:17:04.752Z"
   },
   {
    "duration": 22,
    "start_time": "2021-10-09T03:17:05.291Z"
   },
   {
    "duration": 37,
    "start_time": "2021-10-09T03:37:00.555Z"
   },
   {
    "duration": 509,
    "start_time": "2021-10-09T03:37:21.782Z"
   },
   {
    "duration": 37,
    "start_time": "2021-10-09T03:38:55.862Z"
   },
   {
    "duration": 36,
    "start_time": "2021-10-09T03:39:27.807Z"
   },
   {
    "duration": 36,
    "start_time": "2021-10-09T03:39:35.039Z"
   },
   {
    "duration": 498,
    "start_time": "2021-10-09T03:40:00.507Z"
   },
   {
    "duration": 580,
    "start_time": "2021-10-09T03:40:11.153Z"
   },
   {
    "duration": 50,
    "start_time": "2021-10-09T03:40:32.668Z"
   },
   {
    "duration": 703,
    "start_time": "2021-10-09T03:40:38.279Z"
   },
   {
    "duration": 17,
    "start_time": "2021-10-09T03:44:34.747Z"
   },
   {
    "duration": 15,
    "start_time": "2021-10-09T03:44:56.779Z"
   },
   {
    "duration": 19,
    "start_time": "2021-10-09T03:45:02.512Z"
   },
   {
    "duration": 19,
    "start_time": "2021-10-09T03:45:18.910Z"
   },
   {
    "duration": 401,
    "start_time": "2021-10-09T03:46:09.726Z"
   },
   {
    "duration": 37,
    "start_time": "2021-10-09T03:46:22.944Z"
   },
   {
    "duration": 37,
    "start_time": "2021-10-09T03:46:32.005Z"
   },
   {
    "duration": 312,
    "start_time": "2021-10-09T03:46:44.035Z"
   },
   {
    "duration": 18,
    "start_time": "2021-10-09T03:46:54.054Z"
   },
   {
    "duration": 18,
    "start_time": "2021-10-09T03:47:02.967Z"
   },
   {
    "duration": 262,
    "start_time": "2021-10-09T03:47:10.431Z"
   },
   {
    "duration": 16,
    "start_time": "2021-10-09T03:47:20.874Z"
   },
   {
    "duration": 10,
    "start_time": "2021-10-09T03:47:34.336Z"
   },
   {
    "duration": 390,
    "start_time": "2021-10-09T03:54:57.531Z"
   },
   {
    "duration": 440,
    "start_time": "2021-10-09T03:55:03.370Z"
   },
   {
    "duration": 729,
    "start_time": "2021-10-09T03:55:18.436Z"
   },
   {
    "duration": 430,
    "start_time": "2021-10-09T03:55:31.616Z"
   },
   {
    "duration": 471,
    "start_time": "2021-10-09T03:55:38.460Z"
   },
   {
    "duration": 424,
    "start_time": "2021-10-09T03:56:04.915Z"
   },
   {
    "duration": 511,
    "start_time": "2021-10-09T03:57:34.951Z"
   },
   {
    "duration": 466,
    "start_time": "2021-10-09T03:59:00.708Z"
   },
   {
    "duration": 463,
    "start_time": "2021-10-09T04:06:15.791Z"
   },
   {
    "duration": 446,
    "start_time": "2021-10-09T04:06:17.311Z"
   },
   {
    "duration": 478,
    "start_time": "2021-10-09T04:12:25.264Z"
   },
   {
    "duration": 482,
    "start_time": "2021-10-09T04:12:31.463Z"
   },
   {
    "duration": 441,
    "start_time": "2021-10-09T04:12:39.920Z"
   },
   {
    "duration": 436,
    "start_time": "2021-10-09T04:12:45.126Z"
   },
   {
    "duration": 467,
    "start_time": "2021-10-09T04:12:54.087Z"
   },
   {
    "duration": 455,
    "start_time": "2021-10-09T04:13:00.348Z"
   },
   {
    "duration": 433,
    "start_time": "2021-10-09T04:13:15.129Z"
   },
   {
    "duration": 530,
    "start_time": "2021-10-09T04:13:25.337Z"
   },
   {
    "duration": 10,
    "start_time": "2021-10-09T04:23:07.918Z"
   },
   {
    "duration": 9,
    "start_time": "2021-10-09T04:23:18.517Z"
   },
   {
    "duration": 9,
    "start_time": "2021-10-09T04:24:06.239Z"
   },
   {
    "duration": 8,
    "start_time": "2021-10-09T04:24:27.322Z"
   },
   {
    "duration": 9,
    "start_time": "2021-10-09T04:24:45.294Z"
   },
   {
    "duration": 10,
    "start_time": "2021-10-09T04:24:55.354Z"
   },
   {
    "duration": 11,
    "start_time": "2021-10-09T04:25:13.324Z"
   },
   {
    "duration": 9,
    "start_time": "2021-10-09T04:25:22.089Z"
   },
   {
    "duration": 8,
    "start_time": "2021-10-09T04:25:53.372Z"
   },
   {
    "duration": 8,
    "start_time": "2021-10-09T04:27:08.517Z"
   },
   {
    "duration": 40,
    "start_time": "2021-10-09T04:33:09.038Z"
   },
   {
    "duration": 46,
    "start_time": "2021-10-09T04:33:20.394Z"
   },
   {
    "duration": 47,
    "start_time": "2021-10-09T04:34:21.676Z"
   },
   {
    "duration": 47,
    "start_time": "2021-10-09T04:34:27.205Z"
   },
   {
    "duration": 46,
    "start_time": "2021-10-09T04:34:54.597Z"
   },
   {
    "duration": 46,
    "start_time": "2021-10-09T04:35:27.884Z"
   },
   {
    "duration": 11,
    "start_time": "2021-10-09T04:50:10.980Z"
   },
   {
    "duration": 43,
    "start_time": "2021-10-09T04:51:14.563Z"
   },
   {
    "duration": 266,
    "start_time": "2021-10-09T04:59:27.093Z"
   },
   {
    "duration": 281,
    "start_time": "2021-10-09T05:00:20.635Z"
   },
   {
    "duration": 296,
    "start_time": "2021-10-09T05:17:13.181Z"
   },
   {
    "duration": 45,
    "start_time": "2021-10-09T05:18:54.738Z"
   },
   {
    "duration": 42,
    "start_time": "2021-10-09T05:19:18.507Z"
   },
   {
    "duration": 44,
    "start_time": "2021-10-09T05:20:14.767Z"
   },
   {
    "duration": 280,
    "start_time": "2021-10-09T05:20:42.533Z"
   },
   {
    "duration": 48,
    "start_time": "2021-10-09T05:23:01.860Z"
   },
   {
    "duration": 44,
    "start_time": "2021-10-09T05:23:09.959Z"
   },
   {
    "duration": 42,
    "start_time": "2021-10-09T05:25:45.528Z"
   },
   {
    "duration": 553,
    "start_time": "2021-10-09T05:26:08.147Z"
   },
   {
    "duration": 7,
    "start_time": "2021-10-09T05:26:12.291Z"
   },
   {
    "duration": 48,
    "start_time": "2021-10-09T05:26:48.261Z"
   },
   {
    "duration": 31,
    "start_time": "2021-10-09T05:26:49.981Z"
   },
   {
    "duration": 6,
    "start_time": "2021-10-09T05:27:16.103Z"
   },
   {
    "duration": 30,
    "start_time": "2021-10-09T05:27:43.649Z"
   },
   {
    "duration": 261,
    "start_time": "2021-10-09T05:28:03.626Z"
   },
   {
    "duration": 8,
    "start_time": "2021-10-09T05:28:06.720Z"
   },
   {
    "duration": 91,
    "start_time": "2021-10-09T05:28:19.481Z"
   },
   {
    "duration": 27,
    "start_time": "2021-10-09T05:28:22.015Z"
   },
   {
    "duration": 7,
    "start_time": "2021-10-09T05:28:23.879Z"
   },
   {
    "duration": 7,
    "start_time": "2021-10-09T05:28:31.347Z"
   },
   {
    "duration": 327,
    "start_time": "2021-10-09T05:41:30.020Z"
   },
   {
    "duration": 820,
    "start_time": "2021-10-09T05:42:56.763Z"
   },
   {
    "duration": 269,
    "start_time": "2021-10-09T05:43:36.567Z"
   },
   {
    "duration": 19,
    "start_time": "2021-10-09T05:44:15.770Z"
   },
   {
    "duration": 25,
    "start_time": "2021-10-09T05:44:46.653Z"
   },
   {
    "duration": 46,
    "start_time": "2021-10-09T05:44:52.647Z"
   },
   {
    "duration": 9,
    "start_time": "2021-10-09T05:44:56.040Z"
   },
   {
    "duration": 46,
    "start_time": "2021-10-09T05:44:57.781Z"
   },
   {
    "duration": 28,
    "start_time": "2021-10-09T05:45:01.131Z"
   },
   {
    "duration": 27,
    "start_time": "2021-10-09T05:46:01.826Z"
   },
   {
    "duration": 926,
    "start_time": "2021-10-09T07:45:01.988Z"
   },
   {
    "duration": 51,
    "start_time": "2021-10-09T07:45:02.916Z"
   },
   {
    "duration": 32,
    "start_time": "2021-10-09T07:45:02.970Z"
   },
   {
    "duration": 28,
    "start_time": "2021-10-09T07:45:03.005Z"
   },
   {
    "duration": 24,
    "start_time": "2021-10-09T07:45:03.035Z"
   },
   {
    "duration": 6,
    "start_time": "2021-10-09T07:45:03.062Z"
   },
   {
    "duration": 36,
    "start_time": "2021-10-09T07:45:03.071Z"
   },
   {
    "duration": 22,
    "start_time": "2021-10-09T07:45:03.111Z"
   },
   {
    "duration": 23,
    "start_time": "2021-10-09T07:45:03.137Z"
   },
   {
    "duration": 21,
    "start_time": "2021-10-09T07:45:03.202Z"
   },
   {
    "duration": 23,
    "start_time": "2021-10-09T07:45:03.226Z"
   },
   {
    "duration": 6,
    "start_time": "2021-10-09T07:45:03.252Z"
   },
   {
    "duration": 76,
    "start_time": "2021-10-09T07:45:03.262Z"
   },
   {
    "duration": 64,
    "start_time": "2021-10-09T07:45:03.341Z"
   },
   {
    "duration": 9,
    "start_time": "2021-10-09T07:45:03.408Z"
   },
   {
    "duration": 10,
    "start_time": "2021-10-09T07:45:03.419Z"
   },
   {
    "duration": 2241,
    "start_time": "2021-10-09T07:45:03.432Z"
   },
   {
    "duration": 824,
    "start_time": "2021-10-09T07:45:05.676Z"
   },
   {
    "duration": 22,
    "start_time": "2021-10-09T07:45:06.503Z"
   },
   {
    "duration": 73,
    "start_time": "2021-10-09T07:45:06.527Z"
   },
   {
    "duration": 22,
    "start_time": "2021-10-09T07:45:06.603Z"
   },
   {
    "duration": 16,
    "start_time": "2021-10-09T07:45:06.627Z"
   },
   {
    "duration": 8,
    "start_time": "2021-10-09T07:45:06.649Z"
   },
   {
    "duration": 45,
    "start_time": "2021-10-09T07:45:06.661Z"
   },
   {
    "duration": 9,
    "start_time": "2021-10-09T07:45:06.709Z"
   },
   {
    "duration": 16,
    "start_time": "2021-10-09T07:45:06.721Z"
   },
   {
    "duration": 14,
    "start_time": "2021-10-09T07:45:06.740Z"
   },
   {
    "duration": 51,
    "start_time": "2021-10-09T07:45:06.757Z"
   },
   {
    "duration": 14,
    "start_time": "2021-10-09T07:45:06.811Z"
   },
   {
    "duration": 20,
    "start_time": "2021-10-09T07:45:06.828Z"
   },
   {
    "duration": 52,
    "start_time": "2021-10-09T07:45:06.850Z"
   },
   {
    "duration": 14,
    "start_time": "2021-10-09T07:45:06.904Z"
   },
   {
    "duration": 408,
    "start_time": "2021-10-09T07:45:06.920Z"
   },
   {
    "duration": 3,
    "start_time": "2021-10-09T07:45:07.330Z"
   },
   {
    "duration": 13,
    "start_time": "2021-10-09T07:45:07.335Z"
   },
   {
    "duration": 19,
    "start_time": "2021-10-09T07:45:07.350Z"
   },
   {
    "duration": 64,
    "start_time": "2021-10-09T07:45:07.399Z"
   },
   {
    "duration": 51,
    "start_time": "2021-10-09T07:45:07.465Z"
   },
   {
    "duration": 717,
    "start_time": "2021-10-09T07:45:07.519Z"
   },
   {
    "duration": -312,
    "start_time": "2021-10-09T07:45:08.551Z"
   },
   {
    "duration": -314,
    "start_time": "2021-10-09T07:45:08.554Z"
   },
   {
    "duration": -315,
    "start_time": "2021-10-09T07:45:08.556Z"
   },
   {
    "duration": -315,
    "start_time": "2021-10-09T07:45:08.558Z"
   },
   {
    "duration": -318,
    "start_time": "2021-10-09T07:45:08.562Z"
   },
   {
    "duration": -324,
    "start_time": "2021-10-09T07:45:08.569Z"
   },
   {
    "duration": -324,
    "start_time": "2021-10-09T07:45:08.571Z"
   },
   {
    "duration": -325,
    "start_time": "2021-10-09T07:45:08.573Z"
   },
   {
    "duration": -326,
    "start_time": "2021-10-09T07:45:08.575Z"
   },
   {
    "duration": -328,
    "start_time": "2021-10-09T07:45:08.579Z"
   },
   {
    "duration": -336,
    "start_time": "2021-10-09T07:45:08.588Z"
   },
   {
    "duration": -338,
    "start_time": "2021-10-09T07:45:08.591Z"
   },
   {
    "duration": -340,
    "start_time": "2021-10-09T07:45:08.595Z"
   },
   {
    "duration": -342,
    "start_time": "2021-10-09T07:45:08.598Z"
   },
   {
    "duration": -344,
    "start_time": "2021-10-09T07:45:08.601Z"
   },
   {
    "duration": 630,
    "start_time": "2021-10-09T07:45:51.865Z"
   },
   {
    "duration": 539,
    "start_time": "2021-10-09T07:46:13.269Z"
   },
   {
    "duration": 23,
    "start_time": "2021-10-09T07:46:19.283Z"
   },
   {
    "duration": 42,
    "start_time": "2021-10-09T07:46:20.062Z"
   },
   {
    "duration": 484,
    "start_time": "2021-10-09T07:46:20.665Z"
   },
   {
    "duration": 31,
    "start_time": "2021-10-09T07:46:22.185Z"
   },
   {
    "duration": 464,
    "start_time": "2021-10-09T07:46:22.799Z"
   },
   {
    "duration": 17,
    "start_time": "2021-10-09T07:46:23.947Z"
   },
   {
    "duration": 16,
    "start_time": "2021-10-09T07:46:24.466Z"
   },
   {
    "duration": 443,
    "start_time": "2021-10-09T07:46:25.017Z"
   },
   {
    "duration": 491,
    "start_time": "2021-10-09T07:46:25.462Z"
   },
   {
    "duration": 11,
    "start_time": "2021-10-09T07:46:26.553Z"
   },
   {
    "duration": 8,
    "start_time": "2021-10-09T07:46:28.681Z"
   },
   {
    "duration": 46,
    "start_time": "2021-10-09T07:46:30.270Z"
   },
   {
    "duration": 10,
    "start_time": "2021-10-09T07:46:30.938Z"
   },
   {
    "duration": 43,
    "start_time": "2021-10-09T07:46:31.292Z"
   },
   {
    "duration": 24,
    "start_time": "2021-10-09T07:46:31.911Z"
   },
   {
    "duration": 817,
    "start_time": "2021-10-09T09:56:47.464Z"
   },
   {
    "duration": 47,
    "start_time": "2021-10-09T09:56:48.284Z"
   },
   {
    "duration": 22,
    "start_time": "2021-10-09T09:56:48.337Z"
   },
   {
    "duration": 14,
    "start_time": "2021-10-09T09:56:48.362Z"
   },
   {
    "duration": 55,
    "start_time": "2021-10-09T09:56:48.378Z"
   },
   {
    "duration": 6,
    "start_time": "2021-10-09T09:56:48.435Z"
   },
   {
    "duration": 20,
    "start_time": "2021-10-09T09:56:48.443Z"
   },
   {
    "duration": 20,
    "start_time": "2021-10-09T09:56:48.467Z"
   },
   {
    "duration": 49,
    "start_time": "2021-10-09T09:56:48.491Z"
   },
   {
    "duration": 21,
    "start_time": "2021-10-09T09:56:48.542Z"
   },
   {
    "duration": 26,
    "start_time": "2021-10-09T09:56:48.566Z"
   },
   {
    "duration": 31,
    "start_time": "2021-10-09T09:56:48.594Z"
   },
   {
    "duration": 43,
    "start_time": "2021-10-09T09:56:48.628Z"
   },
   {
    "duration": 57,
    "start_time": "2021-10-09T09:56:48.674Z"
   },
   {
    "duration": 7,
    "start_time": "2021-10-09T09:56:48.733Z"
   },
   {
    "duration": 9,
    "start_time": "2021-10-09T09:56:48.742Z"
   },
   {
    "duration": 2124,
    "start_time": "2021-10-09T09:56:48.753Z"
   },
   {
    "duration": 854,
    "start_time": "2021-10-09T09:56:50.880Z"
   },
   {
    "duration": 20,
    "start_time": "2021-10-09T09:56:51.736Z"
   },
   {
    "duration": 65,
    "start_time": "2021-10-09T09:56:51.759Z"
   },
   {
    "duration": 22,
    "start_time": "2021-10-09T09:56:51.826Z"
   },
   {
    "duration": 15,
    "start_time": "2021-10-09T09:56:51.851Z"
   },
   {
    "duration": 13,
    "start_time": "2021-10-09T09:56:51.868Z"
   },
   {
    "duration": 44,
    "start_time": "2021-10-09T09:56:51.884Z"
   },
   {
    "duration": 10,
    "start_time": "2021-10-09T09:56:51.930Z"
   },
   {
    "duration": 13,
    "start_time": "2021-10-09T09:56:51.945Z"
   },
   {
    "duration": 13,
    "start_time": "2021-10-09T09:56:51.961Z"
   },
   {
    "duration": 49,
    "start_time": "2021-10-09T09:56:51.976Z"
   },
   {
    "duration": 12,
    "start_time": "2021-10-09T09:56:52.028Z"
   },
   {
    "duration": 19,
    "start_time": "2021-10-09T09:56:52.043Z"
   },
   {
    "duration": 20,
    "start_time": "2021-10-09T09:56:52.064Z"
   },
   {
    "duration": 12,
    "start_time": "2021-10-09T09:56:52.122Z"
   },
   {
    "duration": 395,
    "start_time": "2021-10-09T09:56:52.137Z"
   },
   {
    "duration": 3,
    "start_time": "2021-10-09T09:56:52.534Z"
   },
   {
    "duration": 19,
    "start_time": "2021-10-09T09:56:52.539Z"
   },
   {
    "duration": 19,
    "start_time": "2021-10-09T09:56:52.561Z"
   },
   {
    "duration": 83,
    "start_time": "2021-10-09T09:56:52.583Z"
   },
   {
    "duration": 61,
    "start_time": "2021-10-09T09:56:52.668Z"
   },
   {
    "duration": 490,
    "start_time": "2021-10-09T09:56:52.732Z"
   },
   {
    "duration": 23,
    "start_time": "2021-10-09T09:56:53.224Z"
   },
   {
    "duration": 42,
    "start_time": "2021-10-09T09:56:53.249Z"
   },
   {
    "duration": 478,
    "start_time": "2021-10-09T09:56:53.322Z"
   },
   {
    "duration": 43,
    "start_time": "2021-10-09T09:56:53.803Z"
   },
   {
    "duration": 536,
    "start_time": "2021-10-09T09:56:53.849Z"
   },
   {
    "duration": 17,
    "start_time": "2021-10-09T09:56:54.387Z"
   },
   {
    "duration": 30,
    "start_time": "2021-10-09T09:56:54.406Z"
   },
   {
    "duration": 457,
    "start_time": "2021-10-09T09:56:54.438Z"
   },
   {
    "duration": 468,
    "start_time": "2021-10-09T09:56:54.897Z"
   },
   {
    "duration": 11,
    "start_time": "2021-10-09T09:56:55.368Z"
   },
   {
    "duration": 19,
    "start_time": "2021-10-09T09:56:55.382Z"
   },
   {
    "duration": 63,
    "start_time": "2021-10-09T09:56:55.403Z"
   },
   {
    "duration": 11,
    "start_time": "2021-10-09T09:56:55.468Z"
   },
   {
    "duration": 64,
    "start_time": "2021-10-09T09:56:55.481Z"
   },
   {
    "duration": 23,
    "start_time": "2021-10-09T09:56:55.547Z"
   },
   {
    "duration": 5673,
    "start_time": "2021-10-09T10:04:49.646Z"
   },
   {
    "duration": 5,
    "start_time": "2021-10-09T10:05:03.931Z"
   },
   {
    "duration": 20,
    "start_time": "2021-10-09T10:06:26.422Z"
   },
   {
    "duration": 225,
    "start_time": "2021-10-09T10:08:07.977Z"
   },
   {
    "duration": 1330,
    "start_time": "2021-10-09T10:08:40.822Z"
   },
   {
    "duration": 613,
    "start_time": "2021-10-09T10:10:08.536Z"
   },
   {
    "duration": 25,
    "start_time": "2021-10-09T10:10:22.258Z"
   },
   {
    "duration": 22,
    "start_time": "2021-10-09T10:10:46.338Z"
   },
   {
    "duration": 20,
    "start_time": "2021-10-09T10:11:32.953Z"
   },
   {
    "duration": 20,
    "start_time": "2021-10-09T10:11:42.166Z"
   },
   {
    "duration": 20,
    "start_time": "2021-10-09T10:12:23.162Z"
   },
   {
    "duration": 21,
    "start_time": "2021-10-09T10:12:25.897Z"
   },
   {
    "duration": 20,
    "start_time": "2021-10-09T10:12:28.346Z"
   },
   {
    "duration": 20,
    "start_time": "2021-10-09T10:12:43.261Z"
   },
   {
    "duration": 21,
    "start_time": "2021-10-09T10:13:36.122Z"
   },
   {
    "duration": 10,
    "start_time": "2021-10-09T10:14:24.532Z"
   },
   {
    "duration": 27,
    "start_time": "2021-10-09T10:16:51.914Z"
   },
   {
    "duration": 21,
    "start_time": "2021-10-09T10:18:40.070Z"
   },
   {
    "duration": 21,
    "start_time": "2021-10-09T10:18:58.962Z"
   },
   {
    "duration": 253,
    "start_time": "2021-10-09T10:19:28.023Z"
   },
   {
    "duration": 21,
    "start_time": "2021-10-09T10:19:40.020Z"
   },
   {
    "duration": 19,
    "start_time": "2021-10-09T10:20:07.826Z"
   },
   {
    "duration": 19,
    "start_time": "2021-10-09T10:20:25.236Z"
   },
   {
    "duration": 20,
    "start_time": "2021-10-09T10:20:26.203Z"
   },
   {
    "duration": 20,
    "start_time": "2021-10-09T10:20:27.242Z"
   },
   {
    "duration": 20,
    "start_time": "2021-10-09T10:21:07.363Z"
   },
   {
    "duration": 22,
    "start_time": "2021-10-09T10:21:09.305Z"
   },
   {
    "duration": 22,
    "start_time": "2021-10-09T10:21:11.585Z"
   },
   {
    "duration": 23,
    "start_time": "2021-10-09T10:22:15.042Z"
   },
   {
    "duration": 22,
    "start_time": "2021-10-09T10:22:20.737Z"
   },
   {
    "duration": 21,
    "start_time": "2021-10-09T10:28:15.953Z"
   },
   {
    "duration": 11,
    "start_time": "2021-10-09T10:45:21.841Z"
   },
   {
    "duration": 11,
    "start_time": "2021-10-09T10:47:59.306Z"
   },
   {
    "duration": 11,
    "start_time": "2021-10-09T10:48:08.459Z"
   },
   {
    "duration": 12,
    "start_time": "2021-10-09T10:48:14.901Z"
   },
   {
    "duration": 25,
    "start_time": "2021-10-09T10:55:01.894Z"
   },
   {
    "duration": 237,
    "start_time": "2021-10-09T10:55:08.503Z"
   },
   {
    "duration": 22,
    "start_time": "2021-10-09T10:55:13.440Z"
   },
   {
    "duration": 26,
    "start_time": "2021-10-09T10:58:49.998Z"
   },
   {
    "duration": 21,
    "start_time": "2021-10-09T10:58:57.424Z"
   },
   {
    "duration": 69,
    "start_time": "2021-10-09T10:59:19.311Z"
   },
   {
    "duration": 26,
    "start_time": "2021-10-09T10:59:25.242Z"
   },
   {
    "duration": 28,
    "start_time": "2021-10-09T10:59:37.171Z"
   },
   {
    "duration": 25,
    "start_time": "2021-10-09T11:00:12.508Z"
   },
   {
    "duration": 23,
    "start_time": "2021-10-09T11:01:22.680Z"
   },
   {
    "duration": 27,
    "start_time": "2021-10-09T11:01:37.937Z"
   },
   {
    "duration": 12,
    "start_time": "2021-10-09T11:07:26.861Z"
   },
   {
    "duration": 21,
    "start_time": "2021-10-09T11:53:01.291Z"
   },
   {
    "duration": 23,
    "start_time": "2021-10-09T11:53:07.558Z"
   },
   {
    "duration": 24,
    "start_time": "2021-10-09T11:53:13.528Z"
   },
   {
    "duration": 22,
    "start_time": "2021-10-09T11:54:12.398Z"
   },
   {
    "duration": 27,
    "start_time": "2021-10-09T11:54:18.119Z"
   },
   {
    "duration": 23,
    "start_time": "2021-10-09T11:54:36.747Z"
   },
   {
    "duration": 252,
    "start_time": "2021-10-09T11:55:34.660Z"
   },
   {
    "duration": 239,
    "start_time": "2021-10-09T11:55:44.712Z"
   },
   {
    "duration": 23,
    "start_time": "2021-10-09T11:55:50.132Z"
   },
   {
    "duration": 238,
    "start_time": "2021-10-09T11:55:55.521Z"
   },
   {
    "duration": 23,
    "start_time": "2021-10-09T11:56:00.061Z"
   },
   {
    "duration": 22,
    "start_time": "2021-10-09T11:56:02.189Z"
   },
   {
    "duration": 23,
    "start_time": "2021-10-09T11:56:39.917Z"
   },
   {
    "duration": 23,
    "start_time": "2021-10-09T11:56:42.607Z"
   },
   {
    "duration": 854,
    "start_time": "2021-10-12T11:19:19.786Z"
   },
   {
    "duration": 46,
    "start_time": "2021-10-12T11:19:20.642Z"
   },
   {
    "duration": 23,
    "start_time": "2021-10-12T11:19:20.691Z"
   },
   {
    "duration": 14,
    "start_time": "2021-10-12T11:19:20.717Z"
   },
   {
    "duration": 50,
    "start_time": "2021-10-12T11:19:20.733Z"
   },
   {
    "duration": 5,
    "start_time": "2021-10-12T11:19:20.786Z"
   },
   {
    "duration": 13,
    "start_time": "2021-10-12T11:19:20.793Z"
   },
   {
    "duration": 19,
    "start_time": "2021-10-12T11:19:20.810Z"
   },
   {
    "duration": 19,
    "start_time": "2021-10-12T11:19:20.868Z"
   },
   {
    "duration": 19,
    "start_time": "2021-10-12T11:19:20.890Z"
   },
   {
    "duration": 19,
    "start_time": "2021-10-12T11:19:20.912Z"
   },
   {
    "duration": 36,
    "start_time": "2021-10-12T11:19:20.934Z"
   },
   {
    "duration": 39,
    "start_time": "2021-10-12T11:19:20.973Z"
   },
   {
    "duration": 74,
    "start_time": "2021-10-12T11:19:21.015Z"
   },
   {
    "duration": 7,
    "start_time": "2021-10-12T11:19:21.091Z"
   },
   {
    "duration": 9,
    "start_time": "2021-10-12T11:19:21.100Z"
   },
   {
    "duration": 2218,
    "start_time": "2021-10-12T11:19:21.112Z"
   },
   {
    "duration": 837,
    "start_time": "2021-10-12T11:19:23.333Z"
   },
   {
    "duration": 22,
    "start_time": "2021-10-12T11:19:24.173Z"
   },
   {
    "duration": 70,
    "start_time": "2021-10-12T11:19:24.197Z"
   },
   {
    "duration": 20,
    "start_time": "2021-10-12T11:19:24.270Z"
   },
   {
    "duration": 15,
    "start_time": "2021-10-12T11:19:24.292Z"
   },
   {
    "duration": 8,
    "start_time": "2021-10-12T11:19:24.313Z"
   },
   {
    "duration": 52,
    "start_time": "2021-10-12T11:19:24.324Z"
   },
   {
    "duration": 8,
    "start_time": "2021-10-12T11:19:24.379Z"
   },
   {
    "duration": 12,
    "start_time": "2021-10-12T11:19:24.390Z"
   },
   {
    "duration": 12,
    "start_time": "2021-10-12T11:19:24.405Z"
   },
   {
    "duration": 53,
    "start_time": "2021-10-12T11:19:24.420Z"
   },
   {
    "duration": 13,
    "start_time": "2021-10-12T11:19:24.475Z"
   },
   {
    "duration": 19,
    "start_time": "2021-10-12T11:19:24.491Z"
   },
   {
    "duration": 20,
    "start_time": "2021-10-12T11:19:24.513Z"
   },
   {
    "duration": 12,
    "start_time": "2021-10-12T11:19:24.567Z"
   },
   {
    "duration": 403,
    "start_time": "2021-10-12T11:19:24.581Z"
   },
   {
    "duration": 2,
    "start_time": "2021-10-12T11:19:24.987Z"
   },
   {
    "duration": 20,
    "start_time": "2021-10-12T11:19:24.992Z"
   },
   {
    "duration": 26,
    "start_time": "2021-10-12T11:19:25.014Z"
   },
   {
    "duration": 83,
    "start_time": "2021-10-12T11:19:25.042Z"
   },
   {
    "duration": 60,
    "start_time": "2021-10-12T11:19:25.127Z"
   },
   {
    "duration": 509,
    "start_time": "2021-10-12T11:19:25.190Z"
   },
   {
    "duration": 26,
    "start_time": "2021-10-12T11:19:25.702Z"
   },
   {
    "duration": 64,
    "start_time": "2021-10-12T11:19:25.731Z"
   },
   {
    "duration": 709,
    "start_time": "2021-10-12T11:19:25.798Z"
   },
   {
    "duration": 31,
    "start_time": "2021-10-12T11:19:26.509Z"
   },
   {
    "duration": 537,
    "start_time": "2021-10-12T11:19:26.542Z"
   },
   {
    "duration": 18,
    "start_time": "2021-10-12T11:19:27.082Z"
   },
   {
    "duration": 17,
    "start_time": "2021-10-12T11:19:27.102Z"
   },
   {
    "duration": 534,
    "start_time": "2021-10-12T11:19:27.121Z"
   },
   {
    "duration": 494,
    "start_time": "2021-10-12T11:19:27.657Z"
   },
   {
    "duration": 21,
    "start_time": "2021-10-12T11:19:28.153Z"
   },
   {
    "duration": 10,
    "start_time": "2021-10-12T11:19:28.176Z"
   },
   {
    "duration": 45,
    "start_time": "2021-10-12T11:19:28.188Z"
   },
   {
    "duration": 36,
    "start_time": "2021-10-12T11:19:28.236Z"
   },
   {
    "duration": 47,
    "start_time": "2021-10-12T11:19:28.274Z"
   },
   {
    "duration": 57,
    "start_time": "2021-10-12T11:19:28.324Z"
   },
   {
    "duration": 12,
    "start_time": "2021-10-12T11:19:28.384Z"
   },
   {
    "duration": 23,
    "start_time": "2021-10-12T11:19:28.399Z"
   },
   {
    "duration": 55,
    "start_time": "2021-10-12T11:19:28.425Z"
   },
   {
    "duration": 22,
    "start_time": "2021-10-12T11:19:28.482Z"
   },
   {
    "duration": 25,
    "start_time": "2021-10-12T11:19:28.506Z"
   },
   {
    "duration": 53,
    "start_time": "2021-10-12T11:19:28.534Z"
   },
   {
    "duration": 22,
    "start_time": "2021-10-12T11:19:28.590Z"
   },
   {
    "duration": 494,
    "start_time": "2021-10-12T11:32:09.958Z"
   },
   {
    "duration": 489,
    "start_time": "2021-10-12T11:33:08.711Z"
   },
   {
    "duration": 486,
    "start_time": "2021-10-12T11:34:57.825Z"
   },
   {
    "duration": 481,
    "start_time": "2021-10-12T11:35:12.722Z"
   },
   {
    "duration": 22,
    "start_time": "2021-10-12T11:39:43.437Z"
   },
   {
    "duration": 23,
    "start_time": "2021-10-12T11:39:55.323Z"
   },
   {
    "duration": 114,
    "start_time": "2021-10-12T11:40:33.578Z"
   },
   {
    "duration": 21,
    "start_time": "2021-10-12T11:40:36.462Z"
   },
   {
    "duration": 11,
    "start_time": "2021-10-12T11:41:11.218Z"
   },
   {
    "duration": 9,
    "start_time": "2021-10-12T11:41:39.254Z"
   },
   {
    "duration": 24,
    "start_time": "2021-10-12T11:42:37.792Z"
   },
   {
    "duration": 12,
    "start_time": "2021-10-12T11:42:39.647Z"
   },
   {
    "duration": 12,
    "start_time": "2021-10-12T11:43:05.549Z"
   },
   {
    "duration": 24,
    "start_time": "2021-10-12T11:43:07.731Z"
   },
   {
    "duration": 13,
    "start_time": "2021-10-12T11:47:24.606Z"
   },
   {
    "duration": 115,
    "start_time": "2021-10-12T11:49:49.699Z"
   },
   {
    "duration": 20,
    "start_time": "2021-10-12T11:49:54.954Z"
   },
   {
    "duration": 17,
    "start_time": "2021-10-12T11:53:31.772Z"
   },
   {
    "duration": 21,
    "start_time": "2021-10-12T11:53:48.069Z"
   },
   {
    "duration": 17,
    "start_time": "2021-10-12T11:56:59.237Z"
   },
   {
    "duration": 91,
    "start_time": "2021-10-12T11:57:44.228Z"
   },
   {
    "duration": 12,
    "start_time": "2021-10-12T11:57:58.089Z"
   },
   {
    "duration": 23,
    "start_time": "2021-10-12T11:58:34.939Z"
   },
   {
    "duration": 23,
    "start_time": "2021-10-12T11:59:15.036Z"
   },
   {
    "duration": 22,
    "start_time": "2021-10-12T11:59:24.902Z"
   },
   {
    "duration": 21,
    "start_time": "2021-10-12T11:59:28.069Z"
   },
   {
    "duration": 21,
    "start_time": "2021-10-12T12:03:54.550Z"
   },
   {
    "duration": 866,
    "start_time": "2021-10-12T12:21:46.280Z"
   },
   {
    "duration": 46,
    "start_time": "2021-10-12T12:21:47.149Z"
   },
   {
    "duration": 22,
    "start_time": "2021-10-12T12:21:47.199Z"
   },
   {
    "duration": 15,
    "start_time": "2021-10-12T12:21:47.224Z"
   },
   {
    "duration": 46,
    "start_time": "2021-10-12T12:21:47.242Z"
   },
   {
    "duration": 6,
    "start_time": "2021-10-12T12:21:47.290Z"
   },
   {
    "duration": 16,
    "start_time": "2021-10-12T12:21:47.298Z"
   },
   {
    "duration": 50,
    "start_time": "2021-10-12T12:21:47.319Z"
   },
   {
    "duration": 24,
    "start_time": "2021-10-12T12:21:47.372Z"
   },
   {
    "duration": 22,
    "start_time": "2021-10-12T12:21:47.398Z"
   },
   {
    "duration": 52,
    "start_time": "2021-10-12T12:21:47.422Z"
   },
   {
    "duration": 5,
    "start_time": "2021-10-12T12:21:47.477Z"
   },
   {
    "duration": 40,
    "start_time": "2021-10-12T12:21:47.484Z"
   },
   {
    "duration": 62,
    "start_time": "2021-10-12T12:21:47.526Z"
   },
   {
    "duration": 7,
    "start_time": "2021-10-12T12:21:47.591Z"
   },
   {
    "duration": 9,
    "start_time": "2021-10-12T12:21:47.600Z"
   },
   {
    "duration": 2306,
    "start_time": "2021-10-12T12:21:47.612Z"
   },
   {
    "duration": 798,
    "start_time": "2021-10-12T12:21:49.920Z"
   },
   {
    "duration": 79,
    "start_time": "2021-10-12T12:21:50.721Z"
   },
   {
    "duration": 65,
    "start_time": "2021-10-12T12:21:50.802Z"
   },
   {
    "duration": 21,
    "start_time": "2021-10-12T12:21:50.870Z"
   },
   {
    "duration": 17,
    "start_time": "2021-10-12T12:21:50.894Z"
   },
   {
    "duration": 8,
    "start_time": "2021-10-12T12:21:50.918Z"
   },
   {
    "duration": 49,
    "start_time": "2021-10-12T12:21:50.929Z"
   },
   {
    "duration": 11,
    "start_time": "2021-10-12T12:21:50.980Z"
   },
   {
    "duration": 13,
    "start_time": "2021-10-12T12:21:50.994Z"
   },
   {
    "duration": 21,
    "start_time": "2021-10-12T12:21:51.009Z"
   },
   {
    "duration": 38,
    "start_time": "2021-10-12T12:21:51.033Z"
   },
   {
    "duration": 15,
    "start_time": "2021-10-12T12:21:51.073Z"
   },
   {
    "duration": 22,
    "start_time": "2021-10-12T12:21:51.090Z"
   },
   {
    "duration": 57,
    "start_time": "2021-10-12T12:21:51.115Z"
   },
   {
    "duration": 17,
    "start_time": "2021-10-12T12:21:51.175Z"
   },
   {
    "duration": 516,
    "start_time": "2021-10-12T12:21:51.195Z"
   },
   {
    "duration": 4,
    "start_time": "2021-10-12T12:21:51.714Z"
   },
   {
    "duration": 14,
    "start_time": "2021-10-12T12:21:51.721Z"
   },
   {
    "duration": 51,
    "start_time": "2021-10-12T12:21:51.738Z"
   },
   {
    "duration": 91,
    "start_time": "2021-10-12T12:21:51.792Z"
   },
   {
    "duration": 37,
    "start_time": "2021-10-12T12:21:51.885Z"
   },
   {
    "duration": 537,
    "start_time": "2021-10-12T12:21:51.924Z"
   },
   {
    "duration": 23,
    "start_time": "2021-10-12T12:21:52.467Z"
   },
   {
    "duration": 41,
    "start_time": "2021-10-12T12:21:52.492Z"
   },
   {
    "duration": 533,
    "start_time": "2021-10-12T12:21:52.535Z"
   },
   {
    "duration": 31,
    "start_time": "2021-10-12T12:21:53.070Z"
   },
   {
    "duration": 552,
    "start_time": "2021-10-12T12:21:53.104Z"
   },
   {
    "duration": 20,
    "start_time": "2021-10-12T12:21:53.659Z"
   },
   {
    "duration": 16,
    "start_time": "2021-10-12T12:21:53.682Z"
   },
   {
    "duration": 516,
    "start_time": "2021-10-12T12:21:53.701Z"
   },
   {
    "duration": 499,
    "start_time": "2021-10-12T12:21:54.219Z"
   },
   {
    "duration": 11,
    "start_time": "2021-10-12T12:21:54.721Z"
   },
   {
    "duration": 34,
    "start_time": "2021-10-12T12:21:54.735Z"
   },
   {
    "duration": 21,
    "start_time": "2021-10-12T12:21:54.771Z"
   },
   {
    "duration": 25,
    "start_time": "2021-10-12T12:21:54.795Z"
   },
   {
    "duration": 72,
    "start_time": "2021-10-12T12:21:54.822Z"
   },
   {
    "duration": 13,
    "start_time": "2021-10-12T12:21:54.896Z"
   },
   {
    "duration": 15,
    "start_time": "2021-10-12T12:21:54.912Z"
   },
   {
    "duration": 44,
    "start_time": "2021-10-12T12:21:54.930Z"
   },
   {
    "duration": 43,
    "start_time": "2021-10-12T12:21:54.978Z"
   },
   {
    "duration": 51,
    "start_time": "2021-10-12T12:21:55.024Z"
   },
   {
    "duration": 11,
    "start_time": "2021-10-12T12:21:55.078Z"
   },
   {
    "duration": 12,
    "start_time": "2021-10-12T12:21:55.091Z"
   },
   {
    "duration": 63,
    "start_time": "2021-10-12T12:21:55.105Z"
   },
   {
    "duration": 22,
    "start_time": "2021-10-12T12:21:55.171Z"
   },
   {
    "duration": 23,
    "start_time": "2021-10-12T12:21:55.196Z"
   },
   {
    "duration": 55,
    "start_time": "2021-10-12T12:21:55.221Z"
   },
   {
    "duration": 22,
    "start_time": "2021-10-12T12:21:55.279Z"
   },
   {
    "duration": 23,
    "start_time": "2021-10-12T12:21:55.303Z"
   },
   {
    "duration": 16,
    "start_time": "2021-10-12T12:23:04.538Z"
   },
   {
    "duration": 21,
    "start_time": "2021-10-12T12:30:18.989Z"
   },
   {
    "duration": 5,
    "start_time": "2021-10-12T12:30:37.717Z"
   },
   {
    "duration": 5,
    "start_time": "2021-10-12T12:30:43.849Z"
   },
   {
    "duration": 6,
    "start_time": "2021-10-12T12:31:06.900Z"
   },
   {
    "duration": 325,
    "start_time": "2021-10-12T12:33:25.195Z"
   },
   {
    "duration": 4,
    "start_time": "2021-10-12T12:37:24.603Z"
   },
   {
    "duration": 287,
    "start_time": "2021-10-12T12:37:47.398Z"
   },
   {
    "duration": 5,
    "start_time": "2021-10-12T12:37:57.085Z"
   },
   {
    "duration": 248,
    "start_time": "2021-10-12T12:38:28.742Z"
   },
   {
    "duration": 6,
    "start_time": "2021-10-12T12:38:37.269Z"
   },
   {
    "duration": 17,
    "start_time": "2021-10-12T12:39:30.336Z"
   },
   {
    "duration": 17,
    "start_time": "2021-10-12T12:39:45.198Z"
   },
   {
    "duration": 6,
    "start_time": "2021-10-12T12:41:31.936Z"
   },
   {
    "duration": 16,
    "start_time": "2021-10-12T12:41:34.035Z"
   },
   {
    "duration": 24,
    "start_time": "2021-10-12T12:42:16.990Z"
   },
   {
    "duration": -104,
    "start_time": "2021-10-12T12:49:55.192Z"
   },
   {
    "duration": 7014,
    "start_time": "2021-10-12T12:49:56.589Z"
   },
   {
    "duration": 12,
    "start_time": "2021-10-12T12:50:08.982Z"
   },
   {
    "duration": 7784,
    "start_time": "2021-10-12T12:51:14.792Z"
   },
   {
    "duration": 8528,
    "start_time": "2021-10-12T12:51:46.573Z"
   },
   {
    "duration": 10,
    "start_time": "2021-10-12T12:52:12.913Z"
   },
   {
    "duration": 10,
    "start_time": "2021-10-12T12:52:31.875Z"
   },
   {
    "duration": 11,
    "start_time": "2021-10-12T12:52:42.181Z"
   },
   {
    "duration": 9,
    "start_time": "2021-10-12T12:52:44.946Z"
   },
   {
    "duration": 9,
    "start_time": "2021-10-12T12:52:52.662Z"
   },
   {
    "duration": 9,
    "start_time": "2021-10-12T12:53:01.141Z"
   },
   {
    "duration": 9,
    "start_time": "2021-10-12T12:53:07.958Z"
   },
   {
    "duration": 9,
    "start_time": "2021-10-12T12:53:26.510Z"
   },
   {
    "duration": 12,
    "start_time": "2021-10-12T12:59:39.091Z"
   },
   {
    "duration": 10,
    "start_time": "2021-10-12T12:59:51.278Z"
   },
   {
    "duration": 9,
    "start_time": "2021-10-12T13:00:02.602Z"
   },
   {
    "duration": 10,
    "start_time": "2021-10-12T13:00:20.987Z"
   },
   {
    "duration": 11,
    "start_time": "2021-10-12T13:00:27.497Z"
   },
   {
    "duration": 11,
    "start_time": "2021-10-12T13:00:31.613Z"
   },
   {
    "duration": 9,
    "start_time": "2021-10-12T13:00:41.250Z"
   },
   {
    "duration": 9,
    "start_time": "2021-10-12T13:00:44.911Z"
   },
   {
    "duration": 9,
    "start_time": "2021-10-12T13:00:47.671Z"
   },
   {
    "duration": 13,
    "start_time": "2021-10-12T13:01:26.423Z"
   },
   {
    "duration": 270,
    "start_time": "2021-10-12T13:02:45.043Z"
   },
   {
    "duration": 13,
    "start_time": "2021-10-12T13:02:51.199Z"
   },
   {
    "duration": 12,
    "start_time": "2021-10-12T13:03:15.324Z"
   },
   {
    "duration": 12,
    "start_time": "2021-10-12T13:03:23.524Z"
   },
   {
    "duration": 12,
    "start_time": "2021-10-12T13:04:04.849Z"
   },
   {
    "duration": 12,
    "start_time": "2021-10-12T13:04:25.161Z"
   },
   {
    "duration": 18,
    "start_time": "2021-10-12T13:08:14.933Z"
   },
   {
    "duration": 18,
    "start_time": "2021-10-12T13:08:25.035Z"
   },
   {
    "duration": 21,
    "start_time": "2021-10-12T13:08:52.085Z"
   },
   {
    "duration": 19,
    "start_time": "2021-10-12T13:09:39.881Z"
   },
   {
    "duration": 18,
    "start_time": "2021-10-12T13:09:58.089Z"
   },
   {
    "duration": 18,
    "start_time": "2021-10-12T13:10:07.978Z"
   },
   {
    "duration": 316,
    "start_time": "2021-10-12T13:10:30.170Z"
   },
   {
    "duration": 2271,
    "start_time": "2021-10-12T13:10:37.792Z"
   },
   {
    "duration": 586,
    "start_time": "2021-10-12T13:10:47.599Z"
   },
   {
    "duration": 294,
    "start_time": "2021-10-12T13:11:06.183Z"
   },
   {
    "duration": 290,
    "start_time": "2021-10-12T13:11:18.942Z"
   },
   {
    "duration": 575,
    "start_time": "2021-10-12T13:11:23.822Z"
   },
   {
    "duration": 288,
    "start_time": "2021-10-12T13:11:44.036Z"
   },
   {
    "duration": 564,
    "start_time": "2021-10-12T13:11:51.951Z"
   },
   {
    "duration": 295,
    "start_time": "2021-10-12T13:12:10.784Z"
   },
   {
    "duration": 295,
    "start_time": "2021-10-12T13:12:32.299Z"
   },
   {
    "duration": 319,
    "start_time": "2021-10-12T13:12:39.855Z"
   },
   {
    "duration": 648,
    "start_time": "2021-10-12T13:12:47.751Z"
   },
   {
    "duration": 555,
    "start_time": "2021-10-12T13:13:16.163Z"
   },
   {
    "duration": 543,
    "start_time": "2021-10-12T13:13:25.903Z"
   },
   {
    "duration": 11,
    "start_time": "2021-10-12T13:13:54.701Z"
   },
   {
    "duration": 306,
    "start_time": "2021-10-12T13:15:33.954Z"
   },
   {
    "duration": 21,
    "start_time": "2021-10-12T13:15:38.842Z"
   },
   {
    "duration": 6,
    "start_time": "2021-10-12T13:15:49.521Z"
   },
   {
    "duration": 251,
    "start_time": "2021-10-12T13:15:55.653Z"
   },
   {
    "duration": 19,
    "start_time": "2021-10-12T13:19:04.208Z"
   },
   {
    "duration": 20,
    "start_time": "2021-10-12T13:19:48.284Z"
   },
   {
    "duration": 10,
    "start_time": "2021-10-12T13:21:05.657Z"
   },
   {
    "duration": 9,
    "start_time": "2021-10-12T13:21:13.837Z"
   },
   {
    "duration": 8,
    "start_time": "2021-10-12T13:21:20.982Z"
   },
   {
    "duration": 22,
    "start_time": "2021-10-12T13:21:38.861Z"
   },
   {
    "duration": 7,
    "start_time": "2021-10-12T13:21:54.403Z"
   },
   {
    "duration": 24,
    "start_time": "2021-10-12T13:22:02.777Z"
   },
   {
    "duration": 24,
    "start_time": "2021-10-12T13:23:23.733Z"
   },
   {
    "duration": 17,
    "start_time": "2021-10-12T13:23:36.626Z"
   },
   {
    "duration": 16,
    "start_time": "2021-10-12T13:24:11.905Z"
   },
   {
    "duration": 12,
    "start_time": "2021-10-12T13:24:12.461Z"
   },
   {
    "duration": 12,
    "start_time": "2021-10-12T13:25:06.532Z"
   },
   {
    "duration": 10,
    "start_time": "2021-10-12T13:25:09.412Z"
   },
   {
    "duration": 16,
    "start_time": "2021-10-12T13:26:13.184Z"
   },
   {
    "duration": 11,
    "start_time": "2021-10-12T13:26:15.379Z"
   },
   {
    "duration": 255,
    "start_time": "2021-10-12T13:29:11.930Z"
   },
   {
    "duration": 9,
    "start_time": "2021-10-12T13:29:20.663Z"
   },
   {
    "duration": 10,
    "start_time": "2021-10-12T13:29:49.918Z"
   },
   {
    "duration": 11,
    "start_time": "2021-10-12T13:29:58.336Z"
   },
   {
    "duration": 11,
    "start_time": "2021-10-12T13:30:59.788Z"
   },
   {
    "duration": 8,
    "start_time": "2021-10-12T13:31:42.434Z"
   },
   {
    "duration": 9,
    "start_time": "2021-10-12T13:32:31.687Z"
   },
   {
    "duration": 94,
    "start_time": "2021-10-12T13:33:32.073Z"
   },
   {
    "duration": 9,
    "start_time": "2021-10-12T13:33:35.689Z"
   },
   {
    "duration": 9,
    "start_time": "2021-10-12T13:33:39.330Z"
   },
   {
    "duration": 15,
    "start_time": "2021-10-12T13:34:17.130Z"
   },
   {
    "duration": 21,
    "start_time": "2021-10-12T13:39:59.523Z"
   },
   {
    "duration": 6,
    "start_time": "2021-10-12T13:40:05.955Z"
   },
   {
    "duration": 15,
    "start_time": "2021-10-12T13:40:08.035Z"
   },
   {
    "duration": 11,
    "start_time": "2021-10-12T13:40:10.864Z"
   },
   {
    "duration": 9,
    "start_time": "2021-10-12T13:40:14.382Z"
   },
   {
    "duration": 14,
    "start_time": "2021-10-12T13:40:15.199Z"
   },
   {
    "duration": 9,
    "start_time": "2021-10-12T13:41:32.704Z"
   },
   {
    "duration": 9,
    "start_time": "2021-10-12T13:44:17.840Z"
   },
   {
    "duration": 20,
    "start_time": "2021-10-12T13:47:09.923Z"
   },
   {
    "duration": 41,
    "start_time": "2021-10-12T13:47:36.809Z"
   },
   {
    "duration": 500,
    "start_time": "2021-10-12T13:47:39.882Z"
   },
   {
    "duration": 14,
    "start_time": "2021-10-12T13:53:32.470Z"
   },
   {
    "duration": 19,
    "start_time": "2021-10-12T13:53:50.312Z"
   },
   {
    "duration": 14,
    "start_time": "2021-10-12T13:56:20.931Z"
   },
   {
    "duration": 17,
    "start_time": "2021-10-12T13:56:44.288Z"
   },
   {
    "duration": 404,
    "start_time": "2021-10-12T13:57:02.594Z"
   },
   {
    "duration": 451,
    "start_time": "2021-10-12T13:57:20.927Z"
   },
   {
    "duration": 11,
    "start_time": "2021-10-12T13:59:51.394Z"
   },
   {
    "duration": 11,
    "start_time": "2021-10-12T14:01:08.902Z"
   },
   {
    "duration": 18,
    "start_time": "2021-10-12T14:01:19.277Z"
   },
   {
    "duration": 1074,
    "start_time": "2021-10-12T15:29:11.712Z"
   },
   {
    "duration": 50,
    "start_time": "2021-10-12T15:29:12.789Z"
   },
   {
    "duration": 34,
    "start_time": "2021-10-12T15:29:12.843Z"
   },
   {
    "duration": 17,
    "start_time": "2021-10-12T15:29:12.881Z"
   },
   {
    "duration": 27,
    "start_time": "2021-10-12T15:29:12.900Z"
   },
   {
    "duration": 39,
    "start_time": "2021-10-12T15:29:12.930Z"
   },
   {
    "duration": 20,
    "start_time": "2021-10-12T15:29:12.971Z"
   },
   {
    "duration": 22,
    "start_time": "2021-10-12T15:29:12.996Z"
   },
   {
    "duration": 48,
    "start_time": "2021-10-12T15:29:13.021Z"
   },
   {
    "duration": 22,
    "start_time": "2021-10-12T15:29:13.072Z"
   },
   {
    "duration": 23,
    "start_time": "2021-10-12T15:29:13.097Z"
   },
   {
    "duration": 5,
    "start_time": "2021-10-12T15:29:13.122Z"
   },
   {
    "duration": 72,
    "start_time": "2021-10-12T15:29:13.129Z"
   },
   {
    "duration": 42,
    "start_time": "2021-10-12T15:29:13.203Z"
   },
   {
    "duration": 23,
    "start_time": "2021-10-12T15:29:13.247Z"
   },
   {
    "duration": 9,
    "start_time": "2021-10-12T15:29:13.273Z"
   },
   {
    "duration": 2455,
    "start_time": "2021-10-12T15:29:13.284Z"
   },
   {
    "duration": 832,
    "start_time": "2021-10-12T15:29:15.741Z"
   },
   {
    "duration": 22,
    "start_time": "2021-10-12T15:29:16.576Z"
   },
   {
    "duration": 77,
    "start_time": "2021-10-12T15:29:16.601Z"
   },
   {
    "duration": 23,
    "start_time": "2021-10-12T15:29:16.680Z"
   },
   {
    "duration": 17,
    "start_time": "2021-10-12T15:29:16.705Z"
   },
   {
    "duration": 43,
    "start_time": "2021-10-12T15:29:16.730Z"
   },
   {
    "duration": 15,
    "start_time": "2021-10-12T15:29:16.778Z"
   },
   {
    "duration": 9,
    "start_time": "2021-10-12T15:29:16.795Z"
   },
   {
    "duration": 16,
    "start_time": "2021-10-12T15:29:16.807Z"
   },
   {
    "duration": 50,
    "start_time": "2021-10-12T15:29:16.826Z"
   },
   {
    "duration": 15,
    "start_time": "2021-10-12T15:29:16.879Z"
   },
   {
    "duration": 13,
    "start_time": "2021-10-12T15:29:16.897Z"
   },
   {
    "duration": 57,
    "start_time": "2021-10-12T15:29:16.912Z"
   },
   {
    "duration": 21,
    "start_time": "2021-10-12T15:29:16.972Z"
   },
   {
    "duration": 15,
    "start_time": "2021-10-12T15:29:16.995Z"
   },
   {
    "duration": 420,
    "start_time": "2021-10-12T15:29:17.012Z"
   },
   {
    "duration": 3,
    "start_time": "2021-10-12T15:29:17.434Z"
   },
   {
    "duration": 31,
    "start_time": "2021-10-12T15:29:17.439Z"
   },
   {
    "duration": 22,
    "start_time": "2021-10-12T15:29:17.473Z"
   },
   {
    "duration": 92,
    "start_time": "2021-10-12T15:29:17.498Z"
   },
   {
    "duration": 35,
    "start_time": "2021-10-12T15:29:17.592Z"
   },
   {
    "duration": 541,
    "start_time": "2021-10-12T15:29:17.630Z"
   },
   {
    "duration": 8,
    "start_time": "2021-10-12T15:29:18.173Z"
   },
   {
    "duration": 23,
    "start_time": "2021-10-12T15:29:18.183Z"
   },
   {
    "duration": 71,
    "start_time": "2021-10-12T15:29:18.209Z"
   },
   {
    "duration": 534,
    "start_time": "2021-10-12T15:29:18.282Z"
   },
   {
    "duration": 48,
    "start_time": "2021-10-12T15:29:18.819Z"
   },
   {
    "duration": 533,
    "start_time": "2021-10-12T15:29:18.870Z"
   },
   {
    "duration": 15,
    "start_time": "2021-10-12T15:29:19.405Z"
   },
   {
    "duration": 44,
    "start_time": "2021-10-12T15:29:19.423Z"
   },
   {
    "duration": 444,
    "start_time": "2021-10-12T15:29:19.470Z"
   },
   {
    "duration": 444,
    "start_time": "2021-10-12T15:29:19.916Z"
   },
   {
    "duration": 13,
    "start_time": "2021-10-12T15:29:20.363Z"
   },
   {
    "duration": 12,
    "start_time": "2021-10-12T15:29:20.379Z"
   },
   {
    "duration": 18,
    "start_time": "2021-10-12T15:29:20.393Z"
   },
   {
    "duration": 8,
    "start_time": "2021-10-12T15:29:20.413Z"
   },
   {
    "duration": 63,
    "start_time": "2021-10-12T15:29:20.424Z"
   },
   {
    "duration": 6,
    "start_time": "2021-10-12T15:29:20.490Z"
   },
   {
    "duration": 21,
    "start_time": "2021-10-12T15:29:20.498Z"
   },
   {
    "duration": 13,
    "start_time": "2021-10-12T15:29:20.521Z"
   },
   {
    "duration": 9,
    "start_time": "2021-10-12T15:29:20.567Z"
   },
   {
    "duration": 15,
    "start_time": "2021-10-12T15:29:20.578Z"
   },
   {
    "duration": 11,
    "start_time": "2021-10-12T15:29:20.595Z"
   },
   {
    "duration": 11,
    "start_time": "2021-10-12T15:29:20.608Z"
   },
   {
    "duration": 64,
    "start_time": "2021-10-12T15:29:20.622Z"
   },
   {
    "duration": 23,
    "start_time": "2021-10-12T15:29:20.689Z"
   },
   {
    "duration": 55,
    "start_time": "2021-10-12T15:29:20.714Z"
   },
   {
    "duration": 23,
    "start_time": "2021-10-12T15:29:20.772Z"
   },
   {
    "duration": 22,
    "start_time": "2021-10-12T15:29:20.798Z"
   },
   {
    "duration": 51,
    "start_time": "2021-10-12T15:29:20.823Z"
   },
   {
    "duration": 10,
    "start_time": "2021-10-12T15:47:37.759Z"
   },
   {
    "duration": 15,
    "start_time": "2021-10-12T15:47:41.545Z"
   },
   {
    "duration": 7,
    "start_time": "2021-10-12T15:49:03.065Z"
   },
   {
    "duration": 20,
    "start_time": "2021-10-12T15:49:34.754Z"
   },
   {
    "duration": 7,
    "start_time": "2021-10-12T15:49:44.333Z"
   },
   {
    "duration": 15,
    "start_time": "2021-10-12T15:49:47.310Z"
   },
   {
    "duration": 12,
    "start_time": "2021-10-12T15:49:54.546Z"
   },
   {
    "duration": 10,
    "start_time": "2021-10-12T15:50:00.764Z"
   },
   {
    "duration": 13,
    "start_time": "2021-10-12T15:50:25.877Z"
   },
   {
    "duration": 6,
    "start_time": "2021-10-12T15:54:01.971Z"
   },
   {
    "duration": 84,
    "start_time": "2021-10-12T15:54:07.980Z"
   },
   {
    "duration": 5,
    "start_time": "2021-10-12T15:54:11.885Z"
   },
   {
    "duration": 13,
    "start_time": "2021-10-12T15:59:47.769Z"
   },
   {
    "duration": 13,
    "start_time": "2021-10-12T16:00:56.904Z"
   },
   {
    "duration": 14,
    "start_time": "2021-10-12T16:03:31.315Z"
   },
   {
    "duration": 14,
    "start_time": "2021-10-12T16:03:59.356Z"
   },
   {
    "duration": 13,
    "start_time": "2021-10-12T16:04:06.678Z"
   },
   {
    "duration": 11,
    "start_time": "2021-10-12T16:04:24.773Z"
   },
   {
    "duration": 21,
    "start_time": "2021-10-12T16:11:34.912Z"
   },
   {
    "duration": 426,
    "start_time": "2021-10-12T16:23:37.899Z"
   },
   {
    "duration": 470,
    "start_time": "2021-10-12T16:23:40.872Z"
   },
   {
    "duration": 465,
    "start_time": "2021-10-12T16:23:45.077Z"
   },
   {
    "duration": 365,
    "start_time": "2021-10-12T16:23:48.157Z"
   },
   {
    "duration": 504,
    "start_time": "2021-10-12T16:23:59.804Z"
   },
   {
    "duration": 501,
    "start_time": "2021-10-12T16:24:25.969Z"
   },
   {
    "duration": 482,
    "start_time": "2021-10-12T16:24:28.960Z"
   },
   {
    "duration": 535,
    "start_time": "2021-10-12T16:25:14.455Z"
   },
   {
    "duration": 633,
    "start_time": "2021-10-12T16:25:41.646Z"
   },
   {
    "duration": 560,
    "start_time": "2021-10-12T16:26:04.203Z"
   },
   {
    "duration": 7501,
    "start_time": "2021-10-12T16:27:17.362Z"
   },
   {
    "duration": 17,
    "start_time": "2021-10-12T16:27:32.709Z"
   },
   {
    "duration": 87,
    "start_time": "2021-10-12T16:30:57.682Z"
   },
   {
    "duration": 17,
    "start_time": "2021-10-12T16:31:05.019Z"
   },
   {
    "duration": 96,
    "start_time": "2021-10-12T16:32:43.727Z"
   },
   {
    "duration": 16,
    "start_time": "2021-10-12T16:32:49.389Z"
   },
   {
    "duration": 13,
    "start_time": "2021-10-12T16:33:06.254Z"
   },
   {
    "duration": 16,
    "start_time": "2021-10-12T16:33:24.654Z"
   },
   {
    "duration": 15,
    "start_time": "2021-10-12T16:33:29.842Z"
   },
   {
    "duration": 13,
    "start_time": "2021-10-12T16:33:35.207Z"
   },
   {
    "duration": 21,
    "start_time": "2021-10-12T16:33:43.256Z"
   },
   {
    "duration": 24,
    "start_time": "2021-10-12T16:34:29.668Z"
   },
   {
    "duration": 19,
    "start_time": "2021-10-12T16:34:39.756Z"
   },
   {
    "duration": 6,
    "start_time": "2021-10-12T16:35:48.080Z"
   },
   {
    "duration": 126,
    "start_time": "2021-10-12T16:36:01.655Z"
   },
   {
    "duration": 14,
    "start_time": "2021-10-12T16:36:32.611Z"
   },
   {
    "duration": 14,
    "start_time": "2021-10-12T16:36:44.280Z"
   },
   {
    "duration": 15,
    "start_time": "2021-10-12T16:37:01.860Z"
   },
   {
    "duration": 14,
    "start_time": "2021-10-12T16:37:12.695Z"
   },
   {
    "duration": 17,
    "start_time": "2021-10-12T16:38:13.411Z"
   },
   {
    "duration": 13,
    "start_time": "2021-10-12T16:38:35.234Z"
   },
   {
    "duration": 22,
    "start_time": "2021-10-12T16:38:52.978Z"
   },
   {
    "duration": 933,
    "start_time": "2021-10-12T17:54:34.446Z"
   },
   {
    "duration": 48,
    "start_time": "2021-10-12T17:54:35.382Z"
   },
   {
    "duration": 23,
    "start_time": "2021-10-12T17:54:35.433Z"
   },
   {
    "duration": 14,
    "start_time": "2021-10-12T17:54:35.467Z"
   },
   {
    "duration": 23,
    "start_time": "2021-10-12T17:54:35.484Z"
   },
   {
    "duration": 6,
    "start_time": "2021-10-12T17:54:35.510Z"
   },
   {
    "duration": 50,
    "start_time": "2021-10-12T17:54:35.519Z"
   },
   {
    "duration": 20,
    "start_time": "2021-10-12T17:54:35.573Z"
   },
   {
    "duration": 20,
    "start_time": "2021-10-12T17:54:35.596Z"
   },
   {
    "duration": 51,
    "start_time": "2021-10-12T17:54:35.618Z"
   },
   {
    "duration": 23,
    "start_time": "2021-10-12T17:54:35.671Z"
   },
   {
    "duration": 5,
    "start_time": "2021-10-12T17:54:35.696Z"
   },
   {
    "duration": 66,
    "start_time": "2021-10-12T17:54:35.703Z"
   },
   {
    "duration": 45,
    "start_time": "2021-10-12T17:54:35.772Z"
   },
   {
    "duration": 7,
    "start_time": "2021-10-12T17:54:35.820Z"
   },
   {
    "duration": 42,
    "start_time": "2021-10-12T17:54:35.830Z"
   },
   {
    "duration": 2180,
    "start_time": "2021-10-12T17:54:35.874Z"
   },
   {
    "duration": 957,
    "start_time": "2021-10-12T17:54:38.056Z"
   },
   {
    "duration": 20,
    "start_time": "2021-10-12T17:54:39.016Z"
   },
   {
    "duration": 74,
    "start_time": "2021-10-12T17:54:39.038Z"
   },
   {
    "duration": 21,
    "start_time": "2021-10-12T17:54:39.114Z"
   },
   {
    "duration": 38,
    "start_time": "2021-10-12T17:54:39.138Z"
   },
   {
    "duration": 9,
    "start_time": "2021-10-12T17:54:39.183Z"
   },
   {
    "duration": 20,
    "start_time": "2021-10-12T17:54:39.197Z"
   },
   {
    "duration": 19,
    "start_time": "2021-10-12T17:54:39.220Z"
   },
   {
    "duration": 36,
    "start_time": "2021-10-12T17:54:39.242Z"
   },
   {
    "duration": 17,
    "start_time": "2021-10-12T17:54:39.280Z"
   },
   {
    "duration": 16,
    "start_time": "2021-10-12T17:54:39.301Z"
   },
   {
    "duration": 52,
    "start_time": "2021-10-12T17:54:39.320Z"
   },
   {
    "duration": 20,
    "start_time": "2021-10-12T17:54:39.374Z"
   },
   {
    "duration": 19,
    "start_time": "2021-10-12T17:54:39.396Z"
   },
   {
    "duration": 18,
    "start_time": "2021-10-12T17:54:39.417Z"
   },
   {
    "duration": 437,
    "start_time": "2021-10-12T17:54:39.436Z"
   },
   {
    "duration": 3,
    "start_time": "2021-10-12T17:54:39.875Z"
   },
   {
    "duration": 14,
    "start_time": "2021-10-12T17:54:39.880Z"
   },
   {
    "duration": 21,
    "start_time": "2021-10-12T17:54:39.896Z"
   },
   {
    "duration": 98,
    "start_time": "2021-10-12T17:54:39.919Z"
   },
   {
    "duration": 55,
    "start_time": "2021-10-12T17:54:40.019Z"
   },
   {
    "duration": 518,
    "start_time": "2021-10-12T17:54:40.076Z"
   },
   {
    "duration": 9,
    "start_time": "2021-10-12T17:54:40.597Z"
   },
   {
    "duration": 22,
    "start_time": "2021-10-12T17:54:40.609Z"
   },
   {
    "duration": 71,
    "start_time": "2021-10-12T17:54:40.634Z"
   },
   {
    "duration": 539,
    "start_time": "2021-10-12T17:54:40.708Z"
   },
   {
    "duration": 38,
    "start_time": "2021-10-12T17:54:41.250Z"
   },
   {
    "duration": 550,
    "start_time": "2021-10-12T17:54:41.291Z"
   },
   {
    "duration": 27,
    "start_time": "2021-10-12T17:54:41.845Z"
   },
   {
    "duration": 15,
    "start_time": "2021-10-12T17:54:41.875Z"
   },
   {
    "duration": 446,
    "start_time": "2021-10-12T17:54:41.893Z"
   },
   {
    "duration": 488,
    "start_time": "2021-10-12T17:54:42.341Z"
   },
   {
    "duration": 14,
    "start_time": "2021-10-12T17:54:42.832Z"
   },
   {
    "duration": 538,
    "start_time": "2021-10-12T17:54:42.867Z"
   },
   {
    "duration": 626,
    "start_time": "2021-10-12T17:54:43.407Z"
   },
   {
    "duration": 35,
    "start_time": "2021-10-12T17:54:44.035Z"
   },
   {
    "duration": 10,
    "start_time": "2021-10-12T17:54:44.072Z"
   },
   {
    "duration": 15,
    "start_time": "2021-10-12T17:54:44.085Z"
   },
   {
    "duration": 8,
    "start_time": "2021-10-12T17:54:44.102Z"
   },
   {
    "duration": 60,
    "start_time": "2021-10-12T17:54:44.112Z"
   },
   {
    "duration": 6,
    "start_time": "2021-10-12T17:54:44.174Z"
   },
   {
    "duration": 20,
    "start_time": "2021-10-12T17:54:44.182Z"
   },
   {
    "duration": 10,
    "start_time": "2021-10-12T17:54:44.204Z"
   },
   {
    "duration": 13,
    "start_time": "2021-10-12T17:54:44.216Z"
   },
   {
    "duration": 24,
    "start_time": "2021-10-12T17:54:44.268Z"
   },
   {
    "duration": 24,
    "start_time": "2021-10-12T17:54:44.294Z"
   },
   {
    "duration": 51,
    "start_time": "2021-10-12T17:54:44.321Z"
   },
   {
    "duration": 24,
    "start_time": "2021-10-12T17:54:44.374Z"
   },
   {
    "duration": 24,
    "start_time": "2021-10-12T17:54:44.400Z"
   },
   {
    "duration": 56,
    "start_time": "2021-10-12T17:54:44.426Z"
   },
   {
    "duration": 854,
    "start_time": "2021-10-12T18:18:13.299Z"
   },
   {
    "duration": 47,
    "start_time": "2021-10-12T18:18:14.156Z"
   },
   {
    "duration": 23,
    "start_time": "2021-10-12T18:18:14.207Z"
   },
   {
    "duration": 35,
    "start_time": "2021-10-12T18:18:14.234Z"
   },
   {
    "duration": 24,
    "start_time": "2021-10-12T18:18:14.272Z"
   },
   {
    "duration": 7,
    "start_time": "2021-10-12T18:18:14.298Z"
   },
   {
    "duration": 13,
    "start_time": "2021-10-12T18:18:14.307Z"
   },
   {
    "duration": 57,
    "start_time": "2021-10-12T18:18:14.322Z"
   },
   {
    "duration": 21,
    "start_time": "2021-10-12T18:18:14.383Z"
   },
   {
    "duration": 21,
    "start_time": "2021-10-12T18:18:14.406Z"
   },
   {
    "duration": 54,
    "start_time": "2021-10-12T18:18:14.429Z"
   },
   {
    "duration": 6,
    "start_time": "2021-10-12T18:18:14.486Z"
   },
   {
    "duration": 45,
    "start_time": "2021-10-12T18:18:14.494Z"
   },
   {
    "duration": 67,
    "start_time": "2021-10-12T18:18:14.541Z"
   },
   {
    "duration": 7,
    "start_time": "2021-10-12T18:18:14.610Z"
   },
   {
    "duration": 8,
    "start_time": "2021-10-12T18:18:14.620Z"
   },
   {
    "duration": 2454,
    "start_time": "2021-10-12T18:18:14.631Z"
   },
   {
    "duration": 831,
    "start_time": "2021-10-12T18:18:17.088Z"
   },
   {
    "duration": 41,
    "start_time": "2021-10-12T18:18:17.942Z"
   },
   {
    "duration": 47,
    "start_time": "2021-10-12T18:18:17.985Z"
   },
   {
    "duration": 52,
    "start_time": "2021-10-12T18:18:18.034Z"
   },
   {
    "duration": 18,
    "start_time": "2021-10-12T18:18:18.089Z"
   },
   {
    "duration": 9,
    "start_time": "2021-10-12T18:18:18.110Z"
   },
   {
    "duration": 53,
    "start_time": "2021-10-12T18:18:18.122Z"
   },
   {
    "duration": 10,
    "start_time": "2021-10-12T18:18:18.178Z"
   },
   {
    "duration": 15,
    "start_time": "2021-10-12T18:18:18.191Z"
   },
   {
    "duration": 53,
    "start_time": "2021-10-12T18:18:18.214Z"
   },
   {
    "duration": 14,
    "start_time": "2021-10-12T18:18:18.270Z"
   },
   {
    "duration": 13,
    "start_time": "2021-10-12T18:18:18.287Z"
   },
   {
    "duration": 20,
    "start_time": "2021-10-12T18:18:18.303Z"
   },
   {
    "duration": 57,
    "start_time": "2021-10-12T18:18:18.326Z"
   },
   {
    "duration": 22,
    "start_time": "2021-10-12T18:18:18.386Z"
   },
   {
    "duration": 423,
    "start_time": "2021-10-12T18:18:18.411Z"
   },
   {
    "duration": 3,
    "start_time": "2021-10-12T18:18:18.837Z"
   },
   {
    "duration": 32,
    "start_time": "2021-10-12T18:18:18.842Z"
   },
   {
    "duration": 21,
    "start_time": "2021-10-12T18:18:18.877Z"
   },
   {
    "duration": 85,
    "start_time": "2021-10-12T18:18:18.900Z"
   },
   {
    "duration": 34,
    "start_time": "2021-10-12T18:18:18.988Z"
   },
   {
    "duration": 520,
    "start_time": "2021-10-12T18:18:19.024Z"
   },
   {
    "duration": 7,
    "start_time": "2021-10-12T18:18:19.547Z"
   },
   {
    "duration": 20,
    "start_time": "2021-10-12T18:18:19.568Z"
   },
   {
    "duration": 44,
    "start_time": "2021-10-12T18:18:19.591Z"
   },
   {
    "duration": 529,
    "start_time": "2021-10-12T18:18:19.638Z"
   },
   {
    "duration": 27,
    "start_time": "2021-10-12T18:18:20.170Z"
   },
   {
    "duration": 535,
    "start_time": "2021-10-12T18:18:20.199Z"
   },
   {
    "duration": 14,
    "start_time": "2021-10-12T18:18:20.736Z"
   },
   {
    "duration": 17,
    "start_time": "2021-10-12T18:18:20.767Z"
   },
   {
    "duration": 446,
    "start_time": "2021-10-12T18:18:20.787Z"
   },
   {
    "duration": 490,
    "start_time": "2021-10-12T18:18:21.235Z"
   },
   {
    "duration": 13,
    "start_time": "2021-10-12T18:18:21.727Z"
   },
   {
    "duration": 633,
    "start_time": "2021-10-12T18:18:21.742Z"
   },
   {
    "duration": 477,
    "start_time": "2021-10-12T18:18:22.378Z"
   },
   {
    "duration": 18,
    "start_time": "2021-10-12T18:18:22.857Z"
   },
   {
    "duration": 11,
    "start_time": "2021-10-12T18:18:22.877Z"
   },
   {
    "duration": 14,
    "start_time": "2021-10-12T18:18:22.891Z"
   },
   {
    "duration": 8,
    "start_time": "2021-10-12T18:18:22.907Z"
   },
   {
    "duration": 61,
    "start_time": "2021-10-12T18:18:22.917Z"
   },
   {
    "duration": 6,
    "start_time": "2021-10-12T18:18:22.980Z"
   },
   {
    "duration": 13,
    "start_time": "2021-10-12T18:18:22.989Z"
   },
   {
    "duration": 9,
    "start_time": "2021-10-12T18:18:23.005Z"
   },
   {
    "duration": 57,
    "start_time": "2021-10-12T18:18:23.016Z"
   },
   {
    "duration": 24,
    "start_time": "2021-10-12T18:18:23.075Z"
   },
   {
    "duration": 23,
    "start_time": "2021-10-12T18:18:23.101Z"
   },
   {
    "duration": 59,
    "start_time": "2021-10-12T18:18:23.126Z"
   },
   {
    "duration": 23,
    "start_time": "2021-10-12T18:18:23.187Z"
   },
   {
    "duration": 22,
    "start_time": "2021-10-12T18:18:23.212Z"
   },
   {
    "duration": 52,
    "start_time": "2021-10-12T18:18:23.236Z"
   },
   {
    "duration": 24,
    "start_time": "2021-10-12T18:32:40.152Z"
   },
   {
    "duration": 23,
    "start_time": "2021-10-12T18:33:15.363Z"
   },
   {
    "duration": 23,
    "start_time": "2021-10-12T18:33:20.814Z"
   },
   {
    "duration": 25,
    "start_time": "2021-10-12T18:33:26.004Z"
   },
   {
    "duration": 23,
    "start_time": "2021-10-12T18:33:34.342Z"
   },
   {
    "duration": 21,
    "start_time": "2021-10-12T18:33:44.709Z"
   },
   {
    "duration": 22,
    "start_time": "2021-10-12T18:34:02.055Z"
   },
   {
    "duration": 20,
    "start_time": "2021-10-12T18:34:05.983Z"
   },
   {
    "duration": 21,
    "start_time": "2021-10-12T18:34:07.446Z"
   },
   {
    "duration": 21,
    "start_time": "2021-10-12T18:34:08.478Z"
   },
   {
    "duration": 20,
    "start_time": "2021-10-12T18:34:11.595Z"
   },
   {
    "duration": 21,
    "start_time": "2021-10-12T18:34:11.617Z"
   },
   {
    "duration": 6,
    "start_time": "2021-10-12T18:38:17.886Z"
   },
   {
    "duration": 20,
    "start_time": "2021-10-12T18:50:00.727Z"
   },
   {
    "duration": 24,
    "start_time": "2021-10-12T18:50:07.517Z"
   },
   {
    "duration": 397,
    "start_time": "2021-10-12T18:50:35.814Z"
   },
   {
    "duration": 24,
    "start_time": "2021-10-12T18:51:04.988Z"
   },
   {
    "duration": 25,
    "start_time": "2021-10-12T18:51:16.200Z"
   },
   {
    "duration": 24,
    "start_time": "2021-10-12T18:51:22.812Z"
   },
   {
    "duration": 23,
    "start_time": "2021-10-12T18:51:26.649Z"
   },
   {
    "duration": 23,
    "start_time": "2021-10-12T18:51:30.980Z"
   },
   {
    "duration": 25,
    "start_time": "2021-10-12T18:51:35.701Z"
   },
   {
    "duration": 24,
    "start_time": "2021-10-12T18:52:20.354Z"
   },
   {
    "duration": 24,
    "start_time": "2021-10-12T18:53:33.529Z"
   },
   {
    "duration": 23,
    "start_time": "2021-10-12T18:54:23.748Z"
   },
   {
    "duration": 329,
    "start_time": "2021-10-12T18:56:56.490Z"
   },
   {
    "duration": 25,
    "start_time": "2021-10-12T18:57:04.209Z"
   },
   {
    "duration": 23,
    "start_time": "2021-10-12T18:57:22.398Z"
   },
   {
    "duration": 25,
    "start_time": "2021-10-12T18:59:05.771Z"
   },
   {
    "duration": 23,
    "start_time": "2021-10-12T18:59:42.282Z"
   },
   {
    "duration": 5,
    "start_time": "2021-10-12T19:00:23.340Z"
   },
   {
    "duration": 307,
    "start_time": "2021-10-12T19:01:04.514Z"
   },
   {
    "duration": 23,
    "start_time": "2021-10-12T19:01:47.870Z"
   },
   {
    "duration": 9,
    "start_time": "2021-10-12T19:02:39.047Z"
   },
   {
    "duration": 8,
    "start_time": "2021-10-12T19:09:11.257Z"
   },
   {
    "duration": 10,
    "start_time": "2021-10-12T19:09:29.595Z"
   },
   {
    "duration": 8,
    "start_time": "2021-10-12T19:14:30.174Z"
   },
   {
    "duration": 12,
    "start_time": "2021-10-12T19:14:48.437Z"
   },
   {
    "duration": 8,
    "start_time": "2021-10-12T19:14:52.075Z"
   },
   {
    "duration": 23,
    "start_time": "2021-10-12T19:16:16.974Z"
   },
   {
    "duration": 24,
    "start_time": "2021-10-12T19:17:09.890Z"
   },
   {
    "duration": 20,
    "start_time": "2021-10-12T20:13:27.094Z"
   },
   {
    "duration": 649,
    "start_time": "2021-10-12T20:16:05.150Z"
   },
   {
    "duration": 14,
    "start_time": "2021-10-12T20:17:06.803Z"
   },
   {
    "duration": 15,
    "start_time": "2021-10-12T20:18:03.833Z"
   },
   {
    "duration": 581,
    "start_time": "2021-10-12T20:19:12.456Z"
   },
   {
    "duration": 16,
    "start_time": "2021-10-12T20:19:17.305Z"
   },
   {
    "duration": 4,
    "start_time": "2021-10-12T20:19:53.123Z"
   },
   {
    "duration": 14,
    "start_time": "2021-10-12T20:22:49.674Z"
   },
   {
    "duration": 5,
    "start_time": "2021-10-12T20:22:56.836Z"
   },
   {
    "duration": 11,
    "start_time": "2021-10-12T20:24:56.358Z"
   },
   {
    "duration": 1111,
    "start_time": "2021-10-12T20:26:00.901Z"
   },
   {
    "duration": 297,
    "start_time": "2021-10-12T20:26:16.440Z"
   },
   {
    "duration": 289,
    "start_time": "2021-10-12T20:28:19.084Z"
   },
   {
    "duration": 288,
    "start_time": "2021-10-12T20:28:47.351Z"
   },
   {
    "duration": 732,
    "start_time": "2021-10-12T20:29:02.760Z"
   },
   {
    "duration": 284,
    "start_time": "2021-10-12T20:31:36.553Z"
   },
   {
    "duration": 312,
    "start_time": "2021-10-12T20:32:10.158Z"
   },
   {
    "duration": 368,
    "start_time": "2021-10-12T20:32:16.395Z"
   },
   {
    "duration": 345,
    "start_time": "2021-10-12T20:32:36.626Z"
   },
   {
    "duration": 359,
    "start_time": "2021-10-12T20:32:57.929Z"
   },
   {
    "duration": 1019,
    "start_time": "2021-10-12T20:33:09.306Z"
   },
   {
    "duration": 11,
    "start_time": "2021-10-12T20:33:17.716Z"
   },
   {
    "duration": 10,
    "start_time": "2021-10-12T20:34:00.868Z"
   },
   {
    "duration": 9,
    "start_time": "2021-10-12T20:34:06.908Z"
   },
   {
    "duration": 9,
    "start_time": "2021-10-12T20:34:18.555Z"
   },
   {
    "duration": 11,
    "start_time": "2021-10-12T20:34:29.497Z"
   },
   {
    "duration": 15,
    "start_time": "2021-10-12T20:37:55.312Z"
   },
   {
    "duration": 84,
    "start_time": "2021-10-12T20:38:17.328Z"
   },
   {
    "duration": 36,
    "start_time": "2021-10-12T20:39:10.653Z"
   },
   {
    "duration": 15,
    "start_time": "2021-10-12T20:39:21.477Z"
   },
   {
    "duration": 17,
    "start_time": "2021-10-12T20:40:44.825Z"
   },
   {
    "duration": 15,
    "start_time": "2021-10-12T20:40:53.667Z"
   },
   {
    "duration": 21,
    "start_time": "2021-10-12T20:41:19.086Z"
   },
   {
    "duration": 21,
    "start_time": "2021-10-12T20:46:01.147Z"
   },
   {
    "duration": 22,
    "start_time": "2021-10-12T20:46:10.821Z"
   },
   {
    "duration": 531,
    "start_time": "2021-10-12T20:52:43.150Z"
   },
   {
    "duration": 547,
    "start_time": "2021-10-12T20:53:13.067Z"
   },
   {
    "duration": 97,
    "start_time": "2021-10-12T20:53:29.343Z"
   },
   {
    "duration": 82,
    "start_time": "2021-10-12T20:53:47.704Z"
   },
   {
    "duration": 409,
    "start_time": "2021-10-12T20:54:54.935Z"
   },
   {
    "duration": 404,
    "start_time": "2021-10-12T20:56:22.692Z"
   },
   {
    "duration": 418,
    "start_time": "2021-10-12T20:56:42.052Z"
   },
   {
    "duration": 411,
    "start_time": "2021-10-12T20:56:52.041Z"
   },
   {
    "duration": 411,
    "start_time": "2021-10-12T20:56:59.559Z"
   },
   {
    "duration": 656,
    "start_time": "2021-10-12T20:57:33.084Z"
   },
   {
    "duration": 556,
    "start_time": "2021-10-12T20:58:04.198Z"
   },
   {
    "duration": 408,
    "start_time": "2021-10-12T20:58:53.536Z"
   },
   {
    "duration": 580,
    "start_time": "2021-10-12T20:59:15.910Z"
   },
   {
    "duration": 461,
    "start_time": "2021-10-12T21:00:46.141Z"
   },
   {
    "duration": 424,
    "start_time": "2021-10-12T21:00:56.074Z"
   },
   {
    "duration": 444,
    "start_time": "2021-10-12T21:01:32.049Z"
   },
   {
    "duration": 428,
    "start_time": "2021-10-12T21:01:36.400Z"
   },
   {
    "duration": 413,
    "start_time": "2021-10-12T21:01:43.599Z"
   },
   {
    "duration": 419,
    "start_time": "2021-10-12T21:01:50.667Z"
   },
   {
    "duration": 444,
    "start_time": "2021-10-12T21:02:01.775Z"
   },
   {
    "duration": 571,
    "start_time": "2021-10-12T21:02:17.882Z"
   },
   {
    "duration": 329,
    "start_time": "2021-10-12T21:02:25.345Z"
   },
   {
    "duration": 398,
    "start_time": "2021-10-12T21:02:30.621Z"
   },
   {
    "duration": 391,
    "start_time": "2021-10-12T21:02:39.154Z"
   },
   {
    "duration": 499,
    "start_time": "2021-10-12T21:03:06.732Z"
   },
   {
    "duration": 397,
    "start_time": "2021-10-12T21:03:14.982Z"
   },
   {
    "duration": 378,
    "start_time": "2021-10-12T21:03:34.920Z"
   },
   {
    "duration": 394,
    "start_time": "2021-10-12T21:03:42.556Z"
   },
   {
    "duration": 391,
    "start_time": "2021-10-12T21:03:50.757Z"
   },
   {
    "duration": 389,
    "start_time": "2021-10-12T21:03:55.316Z"
   },
   {
    "duration": 392,
    "start_time": "2021-10-12T21:04:12.315Z"
   },
   {
    "duration": 436,
    "start_time": "2021-10-12T21:04:16.832Z"
   },
   {
    "duration": 449,
    "start_time": "2021-10-12T21:05:25.163Z"
   },
   {
    "duration": 21,
    "start_time": "2021-10-12T21:06:17.205Z"
   },
   {
    "duration": 22,
    "start_time": "2021-10-12T21:09:47.112Z"
   },
   {
    "duration": 21,
    "start_time": "2021-10-12T21:11:48.643Z"
   },
   {
    "duration": 20,
    "start_time": "2021-10-12T21:12:51.138Z"
   },
   {
    "duration": 14,
    "start_time": "2021-10-12T21:13:21.408Z"
   },
   {
    "duration": 13,
    "start_time": "2021-10-12T21:13:32.204Z"
   },
   {
    "duration": 14,
    "start_time": "2021-10-12T21:13:46.659Z"
   },
   {
    "duration": 21,
    "start_time": "2021-10-12T21:13:54.758Z"
   },
   {
    "duration": 408,
    "start_time": "2021-10-12T21:17:42.192Z"
   },
   {
    "duration": 484,
    "start_time": "2021-10-12T21:18:07.583Z"
   },
   {
    "duration": 597,
    "start_time": "2021-10-12T21:18:25.870Z"
   },
   {
    "duration": 406,
    "start_time": "2021-10-12T21:18:36.477Z"
   },
   {
    "duration": 412,
    "start_time": "2021-10-12T21:18:47.584Z"
   },
   {
    "duration": 425,
    "start_time": "2021-10-12T21:20:39.704Z"
   },
   {
    "duration": 408,
    "start_time": "2021-10-12T21:20:58.238Z"
   },
   {
    "duration": 439,
    "start_time": "2021-10-12T21:25:43.249Z"
   },
   {
    "duration": 430,
    "start_time": "2021-10-12T21:25:56.422Z"
   },
   {
    "duration": 439,
    "start_time": "2021-10-12T21:26:12.007Z"
   },
   {
    "duration": 661,
    "start_time": "2021-10-12T21:26:18.964Z"
   },
   {
    "duration": 528,
    "start_time": "2021-10-12T21:26:43.926Z"
   },
   {
    "duration": 1343,
    "start_time": "2021-10-12T21:27:16.997Z"
   },
   {
    "duration": 47,
    "start_time": "2021-10-12T21:27:18.343Z"
   },
   {
    "duration": 30,
    "start_time": "2021-10-12T21:27:18.393Z"
   },
   {
    "duration": 41,
    "start_time": "2021-10-12T21:27:18.427Z"
   },
   {
    "duration": 32,
    "start_time": "2021-10-12T21:27:18.471Z"
   },
   {
    "duration": 6,
    "start_time": "2021-10-12T21:27:18.506Z"
   },
   {
    "duration": 15,
    "start_time": "2021-10-12T21:27:18.514Z"
   },
   {
    "duration": 27,
    "start_time": "2021-10-12T21:27:18.569Z"
   },
   {
    "duration": 22,
    "start_time": "2021-10-12T21:27:18.600Z"
   },
   {
    "duration": 48,
    "start_time": "2021-10-12T21:27:18.625Z"
   },
   {
    "duration": 23,
    "start_time": "2021-10-12T21:27:18.676Z"
   },
   {
    "duration": 5,
    "start_time": "2021-10-12T21:27:18.702Z"
   },
   {
    "duration": 66,
    "start_time": "2021-10-12T21:27:18.709Z"
   },
   {
    "duration": 39,
    "start_time": "2021-10-12T21:27:18.777Z"
   },
   {
    "duration": 7,
    "start_time": "2021-10-12T21:27:18.818Z"
   },
   {
    "duration": 9,
    "start_time": "2021-10-12T21:27:18.827Z"
   },
   {
    "duration": 2314,
    "start_time": "2021-10-12T21:27:18.838Z"
   },
   {
    "duration": 821,
    "start_time": "2021-10-12T21:27:21.155Z"
   },
   {
    "duration": 20,
    "start_time": "2021-10-12T21:27:21.979Z"
   },
   {
    "duration": 70,
    "start_time": "2021-10-12T21:27:22.002Z"
   },
   {
    "duration": 21,
    "start_time": "2021-10-12T21:27:22.075Z"
   },
   {
    "duration": 18,
    "start_time": "2021-10-12T21:27:22.098Z"
   },
   {
    "duration": 8,
    "start_time": "2021-10-12T21:27:22.118Z"
   },
   {
    "duration": 46,
    "start_time": "2021-10-12T21:27:22.129Z"
   },
   {
    "duration": 9,
    "start_time": "2021-10-12T21:27:22.178Z"
   },
   {
    "duration": 14,
    "start_time": "2021-10-12T21:27:22.189Z"
   },
   {
    "duration": 14,
    "start_time": "2021-10-12T21:27:22.210Z"
   },
   {
    "duration": 51,
    "start_time": "2021-10-12T21:27:22.228Z"
   },
   {
    "duration": 14,
    "start_time": "2021-10-12T21:27:22.282Z"
   },
   {
    "duration": 19,
    "start_time": "2021-10-12T21:27:22.298Z"
   },
   {
    "duration": 50,
    "start_time": "2021-10-12T21:27:22.320Z"
   },
   {
    "duration": 20,
    "start_time": "2021-10-12T21:27:22.372Z"
   },
   {
    "duration": 408,
    "start_time": "2021-10-12T21:27:22.394Z"
   },
   {
    "duration": 3,
    "start_time": "2021-10-12T21:27:22.804Z"
   },
   {
    "duration": 17,
    "start_time": "2021-10-12T21:27:22.810Z"
   },
   {
    "duration": 46,
    "start_time": "2021-10-12T21:27:22.830Z"
   },
   {
    "duration": 65,
    "start_time": "2021-10-12T21:27:22.878Z"
   },
   {
    "duration": 51,
    "start_time": "2021-10-12T21:27:22.945Z"
   },
   {
    "duration": 511,
    "start_time": "2021-10-12T21:27:22.998Z"
   },
   {
    "duration": 8,
    "start_time": "2021-10-12T21:27:23.511Z"
   },
   {
    "duration": 23,
    "start_time": "2021-10-12T21:27:23.521Z"
   },
   {
    "duration": 59,
    "start_time": "2021-10-12T21:27:23.546Z"
   },
   {
    "duration": 527,
    "start_time": "2021-10-12T21:27:23.607Z"
   },
   {
    "duration": 40,
    "start_time": "2021-10-12T21:27:24.137Z"
   },
   {
    "duration": 474,
    "start_time": "2021-10-12T21:27:24.179Z"
   },
   {
    "duration": 19,
    "start_time": "2021-10-12T21:27:24.656Z"
   },
   {
    "duration": 16,
    "start_time": "2021-10-12T21:27:24.678Z"
   },
   {
    "duration": 444,
    "start_time": "2021-10-12T21:27:24.696Z"
   },
   {
    "duration": 481,
    "start_time": "2021-10-12T21:27:25.143Z"
   },
   {
    "duration": 14,
    "start_time": "2021-10-12T21:27:25.626Z"
   },
   {
    "duration": 546,
    "start_time": "2021-10-12T21:27:25.642Z"
   },
   {
    "duration": 502,
    "start_time": "2021-10-12T21:27:26.191Z"
   },
   {
    "duration": 18,
    "start_time": "2021-10-12T21:27:26.696Z"
   },
   {
    "duration": 10,
    "start_time": "2021-10-12T21:27:26.716Z"
   },
   {
    "duration": 47,
    "start_time": "2021-10-12T21:27:26.729Z"
   },
   {
    "duration": 7,
    "start_time": "2021-10-12T21:27:26.779Z"
   },
   {
    "duration": 22,
    "start_time": "2021-10-12T21:27:26.788Z"
   },
   {
    "duration": 6,
    "start_time": "2021-10-12T21:27:26.812Z"
   },
   {
    "duration": 129,
    "start_time": "2021-10-12T21:27:26.820Z"
   },
   {
    "duration": 23,
    "start_time": "2021-10-12T21:27:26.951Z"
   },
   {
    "duration": 12,
    "start_time": "2021-10-12T21:27:26.977Z"
   },
   {
    "duration": 24,
    "start_time": "2021-10-12T21:27:26.991Z"
   },
   {
    "duration": 64,
    "start_time": "2021-10-12T21:27:27.017Z"
   },
   {
    "duration": 24,
    "start_time": "2021-10-12T21:27:27.083Z"
   },
   {
    "duration": 23,
    "start_time": "2021-10-12T21:27:27.109Z"
   },
   {
    "duration": 52,
    "start_time": "2021-10-12T21:27:27.135Z"
   },
   {
    "duration": 23,
    "start_time": "2021-10-12T21:27:27.189Z"
   },
   {
    "duration": 24,
    "start_time": "2021-10-12T21:27:27.215Z"
   },
   {
    "duration": 24,
    "start_time": "2021-10-12T21:27:27.267Z"
   },
   {
    "duration": 26,
    "start_time": "2021-10-12T21:27:27.294Z"
   },
   {
    "duration": 54,
    "start_time": "2021-10-12T21:27:27.323Z"
   },
   {
    "duration": 19,
    "start_time": "2021-10-12T21:27:27.380Z"
   },
   {
    "duration": 475,
    "start_time": "2021-10-12T21:27:27.401Z"
   },
   {
    "duration": 21,
    "start_time": "2021-10-12T21:27:27.878Z"
   },
   {
    "duration": 31,
    "start_time": "2021-10-12T21:27:27.901Z"
   },
   {
    "duration": 454,
    "start_time": "2021-10-12T21:27:27.935Z"
   },
   {
    "duration": 1429,
    "start_time": "2021-10-12T21:38:19.674Z"
   },
   {
    "duration": 47,
    "start_time": "2021-10-12T21:38:21.106Z"
   },
   {
    "duration": 27,
    "start_time": "2021-10-12T21:38:21.156Z"
   },
   {
    "duration": 14,
    "start_time": "2021-10-12T21:38:21.186Z"
   },
   {
    "duration": 24,
    "start_time": "2021-10-12T21:38:21.203Z"
   },
   {
    "duration": 6,
    "start_time": "2021-10-12T21:38:21.229Z"
   },
   {
    "duration": 13,
    "start_time": "2021-10-12T21:38:21.267Z"
   },
   {
    "duration": 25,
    "start_time": "2021-10-12T21:38:21.282Z"
   },
   {
    "duration": 31,
    "start_time": "2021-10-12T21:38:21.311Z"
   },
   {
    "duration": 41,
    "start_time": "2021-10-12T21:38:21.345Z"
   },
   {
    "duration": 21,
    "start_time": "2021-10-12T21:38:21.388Z"
   },
   {
    "duration": 5,
    "start_time": "2021-10-12T21:38:21.412Z"
   },
   {
    "duration": 71,
    "start_time": "2021-10-12T21:38:21.420Z"
   },
   {
    "duration": 39,
    "start_time": "2021-10-12T21:38:21.493Z"
   },
   {
    "duration": 8,
    "start_time": "2021-10-12T21:38:21.535Z"
   },
   {
    "duration": 8,
    "start_time": "2021-10-12T21:38:21.568Z"
   },
   {
    "duration": 2165,
    "start_time": "2021-10-12T21:38:21.579Z"
   },
   {
    "duration": 821,
    "start_time": "2021-10-12T21:38:23.746Z"
   },
   {
    "duration": 21,
    "start_time": "2021-10-12T21:38:24.569Z"
   },
   {
    "duration": 74,
    "start_time": "2021-10-12T21:38:24.593Z"
   },
   {
    "duration": 22,
    "start_time": "2021-10-12T21:38:24.669Z"
   },
   {
    "duration": 16,
    "start_time": "2021-10-12T21:38:24.694Z"
   },
   {
    "duration": 9,
    "start_time": "2021-10-12T21:38:24.712Z"
   },
   {
    "duration": 49,
    "start_time": "2021-10-12T21:38:24.723Z"
   },
   {
    "duration": 9,
    "start_time": "2021-10-12T21:38:24.774Z"
   },
   {
    "duration": 16,
    "start_time": "2021-10-12T21:38:24.785Z"
   },
   {
    "duration": 13,
    "start_time": "2021-10-12T21:38:24.809Z"
   },
   {
    "duration": 48,
    "start_time": "2021-10-12T21:38:24.825Z"
   },
   {
    "duration": 13,
    "start_time": "2021-10-12T21:38:24.875Z"
   },
   {
    "duration": 19,
    "start_time": "2021-10-12T21:38:24.891Z"
   },
   {
    "duration": 18,
    "start_time": "2021-10-12T21:38:24.913Z"
   },
   {
    "duration": 12,
    "start_time": "2021-10-12T21:38:24.968Z"
   },
   {
    "duration": 414,
    "start_time": "2021-10-12T21:38:24.983Z"
   },
   {
    "duration": 2,
    "start_time": "2021-10-12T21:38:25.400Z"
   },
   {
    "duration": 18,
    "start_time": "2021-10-12T21:38:25.405Z"
   },
   {
    "duration": 45,
    "start_time": "2021-10-12T21:38:25.425Z"
   },
   {
    "duration": 63,
    "start_time": "2021-10-12T21:38:25.472Z"
   },
   {
    "duration": 53,
    "start_time": "2021-10-12T21:38:25.538Z"
   },
   {
    "duration": 516,
    "start_time": "2021-10-12T21:38:25.593Z"
   },
   {
    "duration": 8,
    "start_time": "2021-10-12T21:38:26.111Z"
   },
   {
    "duration": 27,
    "start_time": "2021-10-12T21:38:26.121Z"
   },
   {
    "duration": 39,
    "start_time": "2021-10-12T21:38:26.167Z"
   },
   {
    "duration": 509,
    "start_time": "2021-10-12T21:38:26.208Z"
   },
   {
    "duration": 28,
    "start_time": "2021-10-12T21:38:26.720Z"
   },
   {
    "duration": 461,
    "start_time": "2021-10-12T21:38:26.768Z"
   },
   {
    "duration": 14,
    "start_time": "2021-10-12T21:38:27.232Z"
   },
   {
    "duration": 30,
    "start_time": "2021-10-12T21:38:27.248Z"
   },
   {
    "duration": 425,
    "start_time": "2021-10-12T21:38:27.281Z"
   },
   {
    "duration": 465,
    "start_time": "2021-10-12T21:38:27.708Z"
   },
   {
    "duration": 14,
    "start_time": "2021-10-12T21:38:28.176Z"
   },
   {
    "duration": 579,
    "start_time": "2021-10-12T21:38:28.193Z"
   },
   {
    "duration": 486,
    "start_time": "2021-10-12T21:38:28.775Z"
   },
   {
    "duration": 18,
    "start_time": "2021-10-12T21:38:29.264Z"
   },
   {
    "duration": 10,
    "start_time": "2021-10-12T21:38:29.285Z"
   },
   {
    "duration": 15,
    "start_time": "2021-10-12T21:38:29.298Z"
   },
   {
    "duration": 8,
    "start_time": "2021-10-12T21:38:29.315Z"
   },
   {
    "duration": 21,
    "start_time": "2021-10-12T21:38:29.369Z"
   },
   {
    "duration": 6,
    "start_time": "2021-10-12T21:38:29.393Z"
   },
   {
    "duration": 114,
    "start_time": "2021-10-12T21:38:29.401Z"
   },
   {
    "duration": 13,
    "start_time": "2021-10-12T21:38:29.518Z"
   },
   {
    "duration": 34,
    "start_time": "2021-10-12T21:38:29.533Z"
   },
   {
    "duration": 24,
    "start_time": "2021-10-12T21:38:29.569Z"
   },
   {
    "duration": 24,
    "start_time": "2021-10-12T21:38:29.595Z"
   },
   {
    "duration": 57,
    "start_time": "2021-10-12T21:38:29.622Z"
   },
   {
    "duration": 24,
    "start_time": "2021-10-12T21:38:29.682Z"
   },
   {
    "duration": 24,
    "start_time": "2021-10-12T21:38:29.709Z"
   },
   {
    "duration": 24,
    "start_time": "2021-10-12T21:38:29.768Z"
   },
   {
    "duration": 25,
    "start_time": "2021-10-12T21:38:29.795Z"
   },
   {
    "duration": 57,
    "start_time": "2021-10-12T21:38:29.823Z"
   },
   {
    "duration": 25,
    "start_time": "2021-10-12T21:38:29.883Z"
   },
   {
    "duration": 21,
    "start_time": "2021-10-12T21:38:29.911Z"
   },
   {
    "duration": 50,
    "start_time": "2021-10-12T21:38:29.935Z"
   },
   {
    "duration": 466,
    "start_time": "2021-10-12T21:38:29.988Z"
   },
   {
    "duration": 28,
    "start_time": "2021-10-12T21:38:30.457Z"
   },
   {
    "duration": 26,
    "start_time": "2021-10-12T21:38:30.488Z"
   },
   {
    "duration": 456,
    "start_time": "2021-10-12T21:38:30.517Z"
   }
  ],
  "kernelspec": {
   "display_name": "Python 3",
   "language": "python",
   "name": "python3"
  },
  "language_info": {
   "codemirror_mode": {
    "name": "ipython",
    "version": 3
   },
   "file_extension": ".py",
   "mimetype": "text/x-python",
   "name": "python",
   "nbconvert_exporter": "python",
   "pygments_lexer": "ipython3",
   "version": "3.7.8"
  },
  "toc": {
   "base_numbering": 1,
   "nav_menu": {},
   "number_sections": true,
   "sideBar": true,
   "skip_h1_title": true,
   "title_cell": "Table of Contents",
   "title_sidebar": "Contents",
   "toc_cell": false,
   "toc_position": {},
   "toc_section_display": true,
   "toc_window_display": false
  }
 },
 "nbformat": 4,
 "nbformat_minor": 2
}
