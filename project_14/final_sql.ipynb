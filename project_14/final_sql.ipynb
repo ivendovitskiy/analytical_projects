{
 "cells": [
  {
   "cell_type": "markdown",
   "id": "0cfd95ec",
   "metadata": {},
   "source": [
    "**Иван, привет!**\n",
    "\n",
    "Меня зовут Алексей Каргин, я буду проверять проект по **SQL** в рамках финального спринта. Приятно познакомиться! Предлагаю общаться на «ты». Если это неприемлемо, будет здорово, если я об этом узнаю, и мы перейдем на «вы». Для удобства я оставлю комментарии в отдельных ячейках Markdown с заголовком «Комментарий ревьюера». Пожалуйста, не перемещай, не изменяй и не удаляй их - так наше общение будет более продуктивным. Я буду использовать цветовую разметку:\n",
    "\n",
    "<div class=\"alert alert-danger\">\n",
    "<b>Комментарий ревьюера</b> \n",
    "    \n",
    "✍ Так выделены самые важные замечания. Без их отработки проект не будет принят.\n",
    "</div>\n",
    "\n",
    "<div class=\"alert alert-warning\">\n",
    "<b>Комментарий ревьюера</b> \n",
    "    \n",
    "📝 Так выделены небольшие замечания или рекомендации. Постарайся учесть эти комментарии в этом проекте.\n",
    "</div>\n",
    "\n",
    "<div class=\"alert alert-success\">\n",
    "<b>Комментарий ревьюера</b> \n",
    "    \n",
    "👍 Так выделены все остальные комментарии, включая рекомендации, позитивные моменты или какие-то рассуждения.\n",
    "</div>\n",
    "\n",
    "Давай работать над проектом в диалоге: если ты что-то меняешь в проекте или отвечаешь на мои комментарии — пиши об этом. Мне будет легче отследить изменения, если ты выделишь свои комментарии:\n",
    "\n",
    "<div class=\"alert alert-info\"> \n",
    "<b>Комментарий студента</b> \n",
    "    \n",
    "Например, вот так.\n",
    "</div>\n",
    "\n",
    "---\n",
    "\n",
    "<div class=\"alert alert-success\">\n",
    "<b>Обратная связь v.1</b> \n",
    "    \n",
    "👋 Иван, спасибо, что прислал проект! Ты хорошо придерживаешься оформления проекта, твои запросы легко читать, и они также хорошо оформлены. Мы можем также добавлять небольшие комментарии к подзапросам - так проще возвращаться к своим запросам и проектам через некоторое время.\n",
    "    \n",
    "<br>\n",
    "<div class=\"text-danger\">   \n",
    "    \n",
    "✍ Однако проект пока нельзя принять, так как есть несколько моментов во втором запросе, которые нужно проверить - возможно сейчас мы дублируем данные по количеству обзоров и мы выводим информацию не для всех книг (если брать по id).\n",
    "\n",
    "    \n",
    "    \n",
    "</div>    \n",
    "\n",
    "    \n",
    "Посмотри, пожалуйста, мои дополнительные комментарии - там больше деталей, плюс есть иные рекомендации. Мне кажется, что несмотря на все мои комментарии у тебя не составит труда внести необходимые изменения. Буду ждать новой версии проекта!\n",
    "\n",
    "<br>    \n",
    "С наилучшими пожеланиями, <br>\n",
    "Алексей\n",
    "</div>\n",
    "\n",
    "\n",
    "---\n",
    "\n",
    "<div class=\"alert alert-success\">\n",
    "<b>Обратная связь v.2</b> \n",
    "    \n",
    "👋 Иван, спасибо, спасибо, что оперативно внес корректировку в запросы - в целом, теперь все верно и проект может быть принят. Однако, у тебя были некоторые вопросы, по ходу проекта, посмотри, пожалуйста, мои комментарии - если у тебя больше нет вопросов, то дай знать, чтобы я принял проект.\n",
    "    \n",
    "<br>    \n",
    "С наилучшими пожеланиями, <br>\n",
    "Алексей\n",
    "</div>\n",
    "\n",
    "---\n",
    "\n",
    "<div class=\"alert alert-success\">\n",
    "<b>Обратная связь v.3</b> \n",
    "    \n",
    "🎉 Иван, теперь, когда вопросов нет, могу только поздравить с окончанием финального спринта и всего обучения на курсе Яндекс Практикума! Спасибо за работу над проектом - у тебя отличная мотивация изучать новое и совершенствовать свои навыки!\n",
    "    \n",
    "    \n",
    "<br>    \n",
    "С наилучшими пожеланиями, <br>\n",
    "Алексей\n",
    "</div>\n",
    "\n",
    "---"
   ]
  },
  {
   "cell_type": "markdown",
   "id": "37c51aa4",
   "metadata": {},
   "source": [
    "# Первичный анализ рынка книг"
   ]
  },
  {
   "cell_type": "markdown",
   "id": "77183b53",
   "metadata": {},
   "source": [
    "Коронавирус застал мир врасплох, изменив привычный порядок вещей. В свободное время жители городов больше не выходят на улицу, не посещают кафе и торговые центры. Зато стало больше времени для книг. Это заметили стартаперы — и бросились создавать приложения для тех, кто любит читать.\n",
    "\n",
    "Ваша компания решила быть на волне и купила крупный сервис для чтения книг по подписке. Ваша первая задача как аналитика — проанализировать базу данных.\n",
    "В ней — информация о книгах, издательствах, авторах, а также пользовательские обзоры книг. Эти данные помогут сформулировать ценностное предложение для нового продукта.\n",
    "\n",
    "### Описание данных\n",
    "\n",
    "**Таблица `books`**\n",
    "\n",
    "Содержит данные о книгах:\n",
    "\n",
    "- `book_id` — идентификатор книги;\n",
    "- `author_id` — идентификатор автора;\n",
    "- `title` — название книги;\n",
    "- `num_pages` — количество страниц;\n",
    "- `publication_date` — дата публикации книги;\n",
    "- `publisher_id` — идентификатор издателя.\n",
    "\n",
    "**Таблица `authors`**\n",
    "\n",
    "Содержит данные об авторах:\n",
    "\n",
    "- `author_id` — идентификатор автора;\n",
    "- `author` — имя автора.\n",
    "\n",
    "**Таблица `publishers`**\n",
    "\n",
    "Содержит данные об издательствах:\n",
    "\n",
    "- `publisher_id` — идентификатор издательства;\n",
    "- `publisher` — название издательства;\n",
    "\n",
    "**Таблица `ratings`**\n",
    "\n",
    "Содержит данные о пользовательских оценках книг:\n",
    "\n",
    "- `rating_id` — идентификатор оценки;\n",
    "- `book_id` — идентификатор книги;\n",
    "- `username` — имя пользователя, оставившего оценку;\n",
    "- `rating` — оценка книги.\n",
    "\n",
    "**Таблица `reviews`**\n",
    "\n",
    "Содержит данные о пользовательских обзорах на книги:\n",
    "\n",
    "- `review_id` — идентификатор обзора;\n",
    "- `book_id` — идентификатор книги;\n",
    "- `username` — имя пользователя, написавшего обзор;\n",
    "- `text` — текст обзора.\n",
    "\n",
    "![https://s3-us-west-2.amazonaws.com/secure.notion-static.com/069818d1-0e5c-4d87-a461-0de584ab9c33/Untitled_(33).png](https://s3-us-west-2.amazonaws.com/secure.notion-static.com/069818d1-0e5c-4d87-a461-0de584ab9c33/Untitled_(33).png)\n",
    "\n",
    "### Задания\n",
    "\n",
    "- Посчитайте, сколько книг вышло после 1 января 2000 года;\n",
    "- Для каждой книги посчитайте количество обзоров и среднюю оценку;\n",
    "- Определите издательство, которое выпустило наибольшее число книг толще 50 страниц — так вы исключите из анализа брошюры;\n",
    "- Определите автора с самой высокой средней оценкой книг — учитывайте только книги с 50 и более оценками;\n",
    "- Посчитайте среднее количество обзоров от пользователей, которые поставили больше 50 оценок."
   ]
  },
  {
   "cell_type": "markdown",
   "id": "3b1afa73",
   "metadata": {},
   "source": [
    "<div class=\"alert alert-success\">\n",
    "<b>Комментарий ревьюера v.1</b> \n",
    "    \n",
    "👍 Хорошо, что есть краткое описание проекта и исходных таблиц, а также перечислены решаемые задачи.\n",
    "</div>"
   ]
  },
  {
   "cell_type": "markdown",
   "id": "2c4414c9",
   "metadata": {},
   "source": [
    "## Импорт библиотек"
   ]
  },
  {
   "cell_type": "code",
   "execution_count": 1,
   "id": "c7f320f9",
   "metadata": {},
   "outputs": [],
   "source": [
    "#импортируем библиотеки\n",
    "import pandas as pd\n",
    "from sqlalchemy import create_engine"
   ]
  },
  {
   "cell_type": "markdown",
   "id": "f4e0b769",
   "metadata": {},
   "source": [
    "## Подключение к базе данных"
   ]
  },
  {
   "cell_type": "code",
   "execution_count": 2,
   "id": "e398083d",
   "metadata": {},
   "outputs": [],
   "source": [
    "# устанавливаем параметры\n",
    "db_config = {'user': 'praktikum_student', # имя пользователя\n",
    " 'pwd': 'Sdf4$2;d-d30pp', # пароль\n",
    " 'host': 'rc1b-wcoijxj3yxfsf3fs.mdb.yandexcloud.net',\n",
    " 'port': 6432, # порт подключения\n",
    " 'db': 'data-analyst-final-project-db'} # название базы данных\n",
    "connection_string = 'postgresql://{}:{}@{}:{}/{}'.format(db_config['user'],\n",
    " db_config['pwd'],\n",
    " db_config['host'],\n",
    " db_config['port'],\n",
    " db_config['db'])\n",
    "# сохраняем коннектор\n",
    "engine = create_engine(connection_string, connect_args={'sslmode':'require'})"
   ]
  },
  {
   "cell_type": "markdown",
   "id": "b9eebc5c",
   "metadata": {},
   "source": [
    "<div class=\"alert alert-success\">\n",
    "<b>Комментарий ревьюера v.1</b>\n",
    "    \n",
    "👍 Все готово для подключения к базе данных! \n",
    "\n",
    "</div>"
   ]
  },
  {
   "cell_type": "markdown",
   "id": "3ed248dd",
   "metadata": {},
   "source": [
    "<div class=\"alert alert-warning\">\n",
    "<b>Комментарий ревьюера v.1</b> \n",
    "    \n",
    "📝 Лучше отделить импорт библиотек от остального кода и вынести его в отдельную ячейку. Это соответствует стандарту оформления кода [PEP8](https://www.python.org/dev/peps/pep-0008/#imports).\n",
    "    \n",
    "</div>"
   ]
  },
  {
   "cell_type": "markdown",
   "id": "d97e6541",
   "metadata": {},
   "source": [
    "<div class=\"alert alert-info\">\n",
    "<b>Комментарий студента v.1</b>\n",
    "    \n",
    "Вынес\n",
    "\n",
    "</div>"
   ]
  },
  {
   "cell_type": "markdown",
   "id": "09eade73",
   "metadata": {},
   "source": [
    "<div class=\"alert alert-success\">\n",
    "<b>Комментарий ревьюера v.2</b> \n",
    "    \n",
    "👍 Спасибо!\n",
    "</div>"
   ]
  },
  {
   "cell_type": "markdown",
   "id": "e250241d",
   "metadata": {},
   "source": [
    "## Выполнение запросов"
   ]
  },
  {
   "cell_type": "markdown",
   "id": "605ddf45",
   "metadata": {},
   "source": [
    "Для начала изучим каждую из таблиц"
   ]
  },
  {
   "cell_type": "code",
   "execution_count": 3,
   "id": "67346d13",
   "metadata": {},
   "outputs": [
    {
     "name": "stdout",
     "output_type": "stream",
     "text": [
      "Таблица BOOKS\n"
     ]
    },
    {
     "data": {
      "text/html": [
       "<div>\n",
       "<style scoped>\n",
       "    .dataframe tbody tr th:only-of-type {\n",
       "        vertical-align: middle;\n",
       "    }\n",
       "\n",
       "    .dataframe tbody tr th {\n",
       "        vertical-align: top;\n",
       "    }\n",
       "\n",
       "    .dataframe thead th {\n",
       "        text-align: right;\n",
       "    }\n",
       "</style>\n",
       "<table border=\"1\" class=\"dataframe\">\n",
       "  <thead>\n",
       "    <tr style=\"text-align: right;\">\n",
       "      <th></th>\n",
       "      <th>book_id</th>\n",
       "      <th>author_id</th>\n",
       "      <th>title</th>\n",
       "      <th>num_pages</th>\n",
       "      <th>publication_date</th>\n",
       "      <th>publisher_id</th>\n",
       "    </tr>\n",
       "  </thead>\n",
       "  <tbody>\n",
       "    <tr>\n",
       "      <td>0</td>\n",
       "      <td>1</td>\n",
       "      <td>546</td>\n",
       "      <td>'Salem's Lot</td>\n",
       "      <td>594</td>\n",
       "      <td>2005-11-01</td>\n",
       "      <td>93</td>\n",
       "    </tr>\n",
       "    <tr>\n",
       "      <td>1</td>\n",
       "      <td>2</td>\n",
       "      <td>465</td>\n",
       "      <td>1 000 Places to See Before You Die</td>\n",
       "      <td>992</td>\n",
       "      <td>2003-05-22</td>\n",
       "      <td>336</td>\n",
       "    </tr>\n",
       "    <tr>\n",
       "      <td>2</td>\n",
       "      <td>3</td>\n",
       "      <td>407</td>\n",
       "      <td>13 Little Blue Envelopes (Little Blue Envelope...</td>\n",
       "      <td>322</td>\n",
       "      <td>2010-12-21</td>\n",
       "      <td>135</td>\n",
       "    </tr>\n",
       "    <tr>\n",
       "      <td>3</td>\n",
       "      <td>4</td>\n",
       "      <td>82</td>\n",
       "      <td>1491: New Revelations of the Americas Before C...</td>\n",
       "      <td>541</td>\n",
       "      <td>2006-10-10</td>\n",
       "      <td>309</td>\n",
       "    </tr>\n",
       "    <tr>\n",
       "      <td>4</td>\n",
       "      <td>5</td>\n",
       "      <td>125</td>\n",
       "      <td>1776</td>\n",
       "      <td>386</td>\n",
       "      <td>2006-07-04</td>\n",
       "      <td>268</td>\n",
       "    </tr>\n",
       "  </tbody>\n",
       "</table>\n",
       "</div>"
      ],
      "text/plain": [
       "   book_id  author_id                                              title  \\\n",
       "0        1        546                                       'Salem's Lot   \n",
       "1        2        465                 1 000 Places to See Before You Die   \n",
       "2        3        407  13 Little Blue Envelopes (Little Blue Envelope...   \n",
       "3        4         82  1491: New Revelations of the Americas Before C...   \n",
       "4        5        125                                               1776   \n",
       "\n",
       "   num_pages publication_date  publisher_id  \n",
       "0        594       2005-11-01            93  \n",
       "1        992       2003-05-22           336  \n",
       "2        322       2010-12-21           135  \n",
       "3        541       2006-10-10           309  \n",
       "4        386       2006-07-04           268  "
      ]
     },
     "execution_count": 3,
     "metadata": {},
     "output_type": "execute_result"
    }
   ],
   "source": [
    "queryBooks = '''\n",
    "SELECT\n",
    "    *\n",
    "FROM\n",
    "    books\n",
    "'''\n",
    "print('Таблица BOOKS')\n",
    "pd.io.sql.read_sql(queryBooks, con = engine).head()"
   ]
  },
  {
   "cell_type": "code",
   "execution_count": 4,
   "id": "b891279e",
   "metadata": {},
   "outputs": [
    {
     "name": "stdout",
     "output_type": "stream",
     "text": [
      "Таблица AUTHORS\n"
     ]
    },
    {
     "data": {
      "text/html": [
       "<div>\n",
       "<style scoped>\n",
       "    .dataframe tbody tr th:only-of-type {\n",
       "        vertical-align: middle;\n",
       "    }\n",
       "\n",
       "    .dataframe tbody tr th {\n",
       "        vertical-align: top;\n",
       "    }\n",
       "\n",
       "    .dataframe thead th {\n",
       "        text-align: right;\n",
       "    }\n",
       "</style>\n",
       "<table border=\"1\" class=\"dataframe\">\n",
       "  <thead>\n",
       "    <tr style=\"text-align: right;\">\n",
       "      <th></th>\n",
       "      <th>author_id</th>\n",
       "      <th>author</th>\n",
       "    </tr>\n",
       "  </thead>\n",
       "  <tbody>\n",
       "    <tr>\n",
       "      <td>0</td>\n",
       "      <td>1</td>\n",
       "      <td>A.S. Byatt</td>\n",
       "    </tr>\n",
       "    <tr>\n",
       "      <td>1</td>\n",
       "      <td>2</td>\n",
       "      <td>Aesop/Laura Harris/Laura Gibbs</td>\n",
       "    </tr>\n",
       "    <tr>\n",
       "      <td>2</td>\n",
       "      <td>3</td>\n",
       "      <td>Agatha Christie</td>\n",
       "    </tr>\n",
       "    <tr>\n",
       "      <td>3</td>\n",
       "      <td>4</td>\n",
       "      <td>Alan Brennert</td>\n",
       "    </tr>\n",
       "    <tr>\n",
       "      <td>4</td>\n",
       "      <td>5</td>\n",
       "      <td>Alan Moore/David   Lloyd</td>\n",
       "    </tr>\n",
       "  </tbody>\n",
       "</table>\n",
       "</div>"
      ],
      "text/plain": [
       "   author_id                          author\n",
       "0          1                      A.S. Byatt\n",
       "1          2  Aesop/Laura Harris/Laura Gibbs\n",
       "2          3                 Agatha Christie\n",
       "3          4                   Alan Brennert\n",
       "4          5        Alan Moore/David   Lloyd"
      ]
     },
     "execution_count": 4,
     "metadata": {},
     "output_type": "execute_result"
    }
   ],
   "source": [
    "queryAuthors = '''\n",
    "SELECT\n",
    "    *\n",
    "FROM\n",
    "    authors\n",
    "'''\n",
    "print('Таблица AUTHORS')\n",
    "pd.io.sql.read_sql(queryAuthors, con = engine).head()"
   ]
  },
  {
   "cell_type": "code",
   "execution_count": 5,
   "id": "c391d444",
   "metadata": {},
   "outputs": [
    {
     "name": "stdout",
     "output_type": "stream",
     "text": [
      "Таблица RATINGS\n"
     ]
    },
    {
     "data": {
      "text/html": [
       "<div>\n",
       "<style scoped>\n",
       "    .dataframe tbody tr th:only-of-type {\n",
       "        vertical-align: middle;\n",
       "    }\n",
       "\n",
       "    .dataframe tbody tr th {\n",
       "        vertical-align: top;\n",
       "    }\n",
       "\n",
       "    .dataframe thead th {\n",
       "        text-align: right;\n",
       "    }\n",
       "</style>\n",
       "<table border=\"1\" class=\"dataframe\">\n",
       "  <thead>\n",
       "    <tr style=\"text-align: right;\">\n",
       "      <th></th>\n",
       "      <th>rating_id</th>\n",
       "      <th>book_id</th>\n",
       "      <th>username</th>\n",
       "      <th>rating</th>\n",
       "    </tr>\n",
       "  </thead>\n",
       "  <tbody>\n",
       "    <tr>\n",
       "      <td>0</td>\n",
       "      <td>1</td>\n",
       "      <td>1</td>\n",
       "      <td>ryanfranco</td>\n",
       "      <td>4</td>\n",
       "    </tr>\n",
       "    <tr>\n",
       "      <td>1</td>\n",
       "      <td>2</td>\n",
       "      <td>1</td>\n",
       "      <td>grantpatricia</td>\n",
       "      <td>2</td>\n",
       "    </tr>\n",
       "    <tr>\n",
       "      <td>2</td>\n",
       "      <td>3</td>\n",
       "      <td>1</td>\n",
       "      <td>brandtandrea</td>\n",
       "      <td>5</td>\n",
       "    </tr>\n",
       "    <tr>\n",
       "      <td>3</td>\n",
       "      <td>4</td>\n",
       "      <td>2</td>\n",
       "      <td>lorichen</td>\n",
       "      <td>3</td>\n",
       "    </tr>\n",
       "    <tr>\n",
       "      <td>4</td>\n",
       "      <td>5</td>\n",
       "      <td>2</td>\n",
       "      <td>mariokeller</td>\n",
       "      <td>2</td>\n",
       "    </tr>\n",
       "  </tbody>\n",
       "</table>\n",
       "</div>"
      ],
      "text/plain": [
       "   rating_id  book_id       username  rating\n",
       "0          1        1     ryanfranco       4\n",
       "1          2        1  grantpatricia       2\n",
       "2          3        1   brandtandrea       5\n",
       "3          4        2       lorichen       3\n",
       "4          5        2    mariokeller       2"
      ]
     },
     "execution_count": 5,
     "metadata": {},
     "output_type": "execute_result"
    }
   ],
   "source": [
    "queryRatings = '''\n",
    "SELECT\n",
    "    *\n",
    "FROM\n",
    "    ratings\n",
    "'''\n",
    "print('Таблица RATINGS')\n",
    "pd.io.sql.read_sql(queryRatings, con = engine).head()"
   ]
  },
  {
   "cell_type": "code",
   "execution_count": 6,
   "id": "7f6c2346",
   "metadata": {},
   "outputs": [
    {
     "name": "stdout",
     "output_type": "stream",
     "text": [
      "Таблица REVIEWS\n"
     ]
    },
    {
     "data": {
      "text/html": [
       "<div>\n",
       "<style scoped>\n",
       "    .dataframe tbody tr th:only-of-type {\n",
       "        vertical-align: middle;\n",
       "    }\n",
       "\n",
       "    .dataframe tbody tr th {\n",
       "        vertical-align: top;\n",
       "    }\n",
       "\n",
       "    .dataframe thead th {\n",
       "        text-align: right;\n",
       "    }\n",
       "</style>\n",
       "<table border=\"1\" class=\"dataframe\">\n",
       "  <thead>\n",
       "    <tr style=\"text-align: right;\">\n",
       "      <th></th>\n",
       "      <th>review_id</th>\n",
       "      <th>book_id</th>\n",
       "      <th>username</th>\n",
       "      <th>text</th>\n",
       "    </tr>\n",
       "  </thead>\n",
       "  <tbody>\n",
       "    <tr>\n",
       "      <td>0</td>\n",
       "      <td>1</td>\n",
       "      <td>1</td>\n",
       "      <td>brandtandrea</td>\n",
       "      <td>Mention society tell send professor analysis. ...</td>\n",
       "    </tr>\n",
       "    <tr>\n",
       "      <td>1</td>\n",
       "      <td>2</td>\n",
       "      <td>1</td>\n",
       "      <td>ryanfranco</td>\n",
       "      <td>Foot glass pretty audience hit themselves. Amo...</td>\n",
       "    </tr>\n",
       "    <tr>\n",
       "      <td>2</td>\n",
       "      <td>3</td>\n",
       "      <td>2</td>\n",
       "      <td>lorichen</td>\n",
       "      <td>Listen treat keep worry. Miss husband tax but ...</td>\n",
       "    </tr>\n",
       "    <tr>\n",
       "      <td>3</td>\n",
       "      <td>4</td>\n",
       "      <td>3</td>\n",
       "      <td>johnsonamanda</td>\n",
       "      <td>Finally month interesting blue could nature cu...</td>\n",
       "    </tr>\n",
       "    <tr>\n",
       "      <td>4</td>\n",
       "      <td>5</td>\n",
       "      <td>3</td>\n",
       "      <td>scotttamara</td>\n",
       "      <td>Nation purpose heavy give wait song will. List...</td>\n",
       "    </tr>\n",
       "  </tbody>\n",
       "</table>\n",
       "</div>"
      ],
      "text/plain": [
       "   review_id  book_id       username  \\\n",
       "0          1        1   brandtandrea   \n",
       "1          2        1     ryanfranco   \n",
       "2          3        2       lorichen   \n",
       "3          4        3  johnsonamanda   \n",
       "4          5        3    scotttamara   \n",
       "\n",
       "                                                text  \n",
       "0  Mention society tell send professor analysis. ...  \n",
       "1  Foot glass pretty audience hit themselves. Amo...  \n",
       "2  Listen treat keep worry. Miss husband tax but ...  \n",
       "3  Finally month interesting blue could nature cu...  \n",
       "4  Nation purpose heavy give wait song will. List...  "
      ]
     },
     "execution_count": 6,
     "metadata": {},
     "output_type": "execute_result"
    }
   ],
   "source": [
    "queryReviews = '''\n",
    "SELECT\n",
    "    *\n",
    "FROM\n",
    "    reviews\n",
    "'''\n",
    "print('Таблица REVIEWS')\n",
    "pd.io.sql.read_sql(queryReviews, con = engine).head()"
   ]
  },
  {
   "cell_type": "code",
   "execution_count": 7,
   "id": "6112a280",
   "metadata": {},
   "outputs": [
    {
     "name": "stdout",
     "output_type": "stream",
     "text": [
      "Таблица PUBLISHERS\n"
     ]
    },
    {
     "data": {
      "text/html": [
       "<div>\n",
       "<style scoped>\n",
       "    .dataframe tbody tr th:only-of-type {\n",
       "        vertical-align: middle;\n",
       "    }\n",
       "\n",
       "    .dataframe tbody tr th {\n",
       "        vertical-align: top;\n",
       "    }\n",
       "\n",
       "    .dataframe thead th {\n",
       "        text-align: right;\n",
       "    }\n",
       "</style>\n",
       "<table border=\"1\" class=\"dataframe\">\n",
       "  <thead>\n",
       "    <tr style=\"text-align: right;\">\n",
       "      <th></th>\n",
       "      <th>publisher_id</th>\n",
       "      <th>publisher</th>\n",
       "    </tr>\n",
       "  </thead>\n",
       "  <tbody>\n",
       "    <tr>\n",
       "      <td>0</td>\n",
       "      <td>1</td>\n",
       "      <td>Ace</td>\n",
       "    </tr>\n",
       "    <tr>\n",
       "      <td>1</td>\n",
       "      <td>2</td>\n",
       "      <td>Ace Book</td>\n",
       "    </tr>\n",
       "    <tr>\n",
       "      <td>2</td>\n",
       "      <td>3</td>\n",
       "      <td>Ace Books</td>\n",
       "    </tr>\n",
       "    <tr>\n",
       "      <td>3</td>\n",
       "      <td>4</td>\n",
       "      <td>Ace Hardcover</td>\n",
       "    </tr>\n",
       "    <tr>\n",
       "      <td>4</td>\n",
       "      <td>5</td>\n",
       "      <td>Addison Wesley Publishing Company</td>\n",
       "    </tr>\n",
       "  </tbody>\n",
       "</table>\n",
       "</div>"
      ],
      "text/plain": [
       "   publisher_id                          publisher\n",
       "0             1                                Ace\n",
       "1             2                           Ace Book\n",
       "2             3                          Ace Books\n",
       "3             4                      Ace Hardcover\n",
       "4             5  Addison Wesley Publishing Company"
      ]
     },
     "execution_count": 7,
     "metadata": {},
     "output_type": "execute_result"
    }
   ],
   "source": [
    "queryPublishers = '''\n",
    "SELECT\n",
    "    *\n",
    "FROM\n",
    "    publishers\n",
    "'''\n",
    "print('Таблица PUBLISHERS')\n",
    "pd.io.sql.read_sql(queryPublishers, con = engine).head()"
   ]
  },
  {
   "cell_type": "markdown",
   "id": "cf82d488",
   "metadata": {},
   "source": [
    "Самая интересная таблица - *books* - она связывает оставшиеся четыре таблицы между собой. С ней и начнем работу"
   ]
  },
  {
   "cell_type": "markdown",
   "id": "64b11de9",
   "metadata": {},
   "source": [
    "<div class=\"alert alert-success\">\n",
    "<b>Комментарий ревьюера v.1</b>\n",
    "    \n",
    "👍 Отлично! Подключение к базе  данных работает, таблицы на месте. На экран были выведены первые строки из каждой таблицы, что позволило оценить их содержание. Однако, обрати, пожалуйста, внимание, что в запросе мы загружаем все данные, поэтому перед их выгрузкой лучше оценить их объем. Почему это важно - если данных много, а их может быть много и они могут быть объемными, мы можем создать дополнительную нагрузку на окружение, что может быть не очень хорошо.\n",
    "</div>"
   ]
  },
  {
   "cell_type": "markdown",
   "id": "dcbc2d2f",
   "metadata": {},
   "source": [
    "<div class=\"alert alert-info\">\n",
    "<b>Комментарий студента v.1</b>\n",
    "    \n",
    "А как оценивать объем? COUNT * ?\n",
    "\n",
    "</div>"
   ]
  },
  {
   "cell_type": "markdown",
   "id": "636501e4",
   "metadata": {},
   "source": [
    "<div class=\"alert alert-success\">\n",
    "<b>Комментарий ревьюера v.2</b> \n",
    "    \n",
    "👍 Да, это самый простой способ. \n",
    "</div>"
   ]
  },
  {
   "cell_type": "markdown",
   "id": "e5c01bd0",
   "metadata": {},
   "source": [
    "### Сколько книг вышло после 1 января 2000 года?"
   ]
  },
  {
   "cell_type": "markdown",
   "id": "4a6439a5",
   "metadata": {},
   "source": [
    "Найдем общее количество более-менее современных книг (вышедших после 1-го января 2000-го года)"
   ]
  },
  {
   "cell_type": "code",
   "execution_count": 8,
   "id": "56951f68",
   "metadata": {},
   "outputs": [
    {
     "data": {
      "text/html": [
       "<div>\n",
       "<style scoped>\n",
       "    .dataframe tbody tr th:only-of-type {\n",
       "        vertical-align: middle;\n",
       "    }\n",
       "\n",
       "    .dataframe tbody tr th {\n",
       "        vertical-align: top;\n",
       "    }\n",
       "\n",
       "    .dataframe thead th {\n",
       "        text-align: right;\n",
       "    }\n",
       "</style>\n",
       "<table border=\"1\" class=\"dataframe\">\n",
       "  <thead>\n",
       "    <tr style=\"text-align: right;\">\n",
       "      <th></th>\n",
       "      <th>cnt</th>\n",
       "    </tr>\n",
       "  </thead>\n",
       "  <tbody>\n",
       "    <tr>\n",
       "      <td>0</td>\n",
       "      <td>819</td>\n",
       "    </tr>\n",
       "  </tbody>\n",
       "</table>\n",
       "</div>"
      ],
      "text/plain": [
       "   cnt\n",
       "0  819"
      ]
     },
     "execution_count": 8,
     "metadata": {},
     "output_type": "execute_result"
    }
   ],
   "source": [
    "query1 = '''\n",
    "SELECT\n",
    "    COUNT (book_id) as cnt\n",
    "FROM\n",
    "    books\n",
    "WHERE\n",
    "    publication_date > '2000-01-01'\n",
    "'''\n",
    "pd.io.sql.read_sql(query1, con = engine)"
   ]
  },
  {
   "cell_type": "code",
   "execution_count": 9,
   "id": "cf10f241",
   "metadata": {},
   "outputs": [
    {
     "data": {
      "text/html": [
       "<div>\n",
       "<style scoped>\n",
       "    .dataframe tbody tr th:only-of-type {\n",
       "        vertical-align: middle;\n",
       "    }\n",
       "\n",
       "    .dataframe tbody tr th {\n",
       "        vertical-align: top;\n",
       "    }\n",
       "\n",
       "    .dataframe thead th {\n",
       "        text-align: right;\n",
       "    }\n",
       "</style>\n",
       "<table border=\"1\" class=\"dataframe\">\n",
       "  <thead>\n",
       "    <tr style=\"text-align: right;\">\n",
       "      <th></th>\n",
       "      <th>max_date</th>\n",
       "    </tr>\n",
       "  </thead>\n",
       "  <tbody>\n",
       "    <tr>\n",
       "      <td>0</td>\n",
       "      <td>2020-03-31</td>\n",
       "    </tr>\n",
       "  </tbody>\n",
       "</table>\n",
       "</div>"
      ],
      "text/plain": [
       "     max_date\n",
       "0  2020-03-31"
      ]
     },
     "execution_count": 9,
     "metadata": {},
     "output_type": "execute_result"
    }
   ],
   "source": [
    "query11 = '''\n",
    "SELECT\n",
    "    MAX(publication_date) as max_date\n",
    "FROM\n",
    "    books\n",
    "'''\n",
    "pd.io.sql.read_sql(query11, con = engine)"
   ]
  },
  {
   "cell_type": "markdown",
   "id": "15fd993e",
   "metadata": {},
   "source": [
    "819 книг за 20 лет - не так уж и много - всего по 40 книг в год"
   ]
  },
  {
   "cell_type": "markdown",
   "id": "6708c6cc",
   "metadata": {},
   "source": [
    "<div class=\"alert alert-success\">\n",
    "<b>Комментарий ревьюера v.1</b> \n",
    "    \n",
    "👍 <b>Запрос 1:</b> Тут все верно! \n",
    "</div>"
   ]
  },
  {
   "cell_type": "markdown",
   "id": "759dd45d",
   "metadata": {},
   "source": [
    "### Количество обзоров и средняя оценка для каждой книги?"
   ]
  },
  {
   "cell_type": "markdown",
   "id": "29465418",
   "metadata": {},
   "source": [
    "Теперь узнаем лидеров среди книг по числу обзоров и найдем для них среднюю оценку"
   ]
  },
  {
   "cell_type": "code",
   "execution_count": 19,
   "id": "8d09eeef",
   "metadata": {},
   "outputs": [
    {
     "data": {
      "text/html": [
       "<div>\n",
       "<style scoped>\n",
       "    .dataframe tbody tr th:only-of-type {\n",
       "        vertical-align: middle;\n",
       "    }\n",
       "\n",
       "    .dataframe tbody tr th {\n",
       "        vertical-align: top;\n",
       "    }\n",
       "\n",
       "    .dataframe thead th {\n",
       "        text-align: right;\n",
       "    }\n",
       "</style>\n",
       "<table border=\"1\" class=\"dataframe\">\n",
       "  <thead>\n",
       "    <tr style=\"text-align: right;\">\n",
       "      <th></th>\n",
       "      <th>title</th>\n",
       "      <th>avg_rating</th>\n",
       "      <th>cnt_reviews</th>\n",
       "    </tr>\n",
       "  </thead>\n",
       "  <tbody>\n",
       "    <tr>\n",
       "      <td>0</td>\n",
       "      <td>Twilight (Twilight  #1)</td>\n",
       "      <td>3.66</td>\n",
       "      <td>7</td>\n",
       "    </tr>\n",
       "    <tr>\n",
       "      <td>1</td>\n",
       "      <td>Water for Elephants</td>\n",
       "      <td>3.98</td>\n",
       "      <td>6</td>\n",
       "    </tr>\n",
       "    <tr>\n",
       "      <td>2</td>\n",
       "      <td>The Glass Castle</td>\n",
       "      <td>4.21</td>\n",
       "      <td>6</td>\n",
       "    </tr>\n",
       "    <tr>\n",
       "      <td>3</td>\n",
       "      <td>Harry Potter and the Prisoner of Azkaban (Harr...</td>\n",
       "      <td>4.41</td>\n",
       "      <td>6</td>\n",
       "    </tr>\n",
       "    <tr>\n",
       "      <td>4</td>\n",
       "      <td>The Curious Incident of the Dog in the Night-Time</td>\n",
       "      <td>4.08</td>\n",
       "      <td>6</td>\n",
       "    </tr>\n",
       "    <tr>\n",
       "      <td>5</td>\n",
       "      <td>The Da Vinci Code (Robert Langdon  #2)</td>\n",
       "      <td>3.83</td>\n",
       "      <td>6</td>\n",
       "    </tr>\n",
       "    <tr>\n",
       "      <td>6</td>\n",
       "      <td>The Alchemist</td>\n",
       "      <td>3.79</td>\n",
       "      <td>6</td>\n",
       "    </tr>\n",
       "    <tr>\n",
       "      <td>7</td>\n",
       "      <td>The Hobbit  or There and Back Again</td>\n",
       "      <td>4.13</td>\n",
       "      <td>6</td>\n",
       "    </tr>\n",
       "    <tr>\n",
       "      <td>8</td>\n",
       "      <td>The Book Thief</td>\n",
       "      <td>4.26</td>\n",
       "      <td>6</td>\n",
       "    </tr>\n",
       "    <tr>\n",
       "      <td>9</td>\n",
       "      <td>The Lightning Thief (Percy Jackson and the Oly...</td>\n",
       "      <td>4.08</td>\n",
       "      <td>6</td>\n",
       "    </tr>\n",
       "  </tbody>\n",
       "</table>\n",
       "</div>"
      ],
      "text/plain": [
       "                                               title  avg_rating  cnt_reviews\n",
       "0                            Twilight (Twilight  #1)        3.66            7\n",
       "1                                Water for Elephants        3.98            6\n",
       "2                                   The Glass Castle        4.21            6\n",
       "3  Harry Potter and the Prisoner of Azkaban (Harr...        4.41            6\n",
       "4  The Curious Incident of the Dog in the Night-Time        4.08            6\n",
       "5             The Da Vinci Code (Robert Langdon  #2)        3.83            6\n",
       "6                                      The Alchemist        3.79            6\n",
       "7                The Hobbit  or There and Back Again        4.13            6\n",
       "8                                     The Book Thief        4.26            6\n",
       "9  The Lightning Thief (Percy Jackson and the Oly...        4.08            6"
      ]
     },
     "execution_count": 19,
     "metadata": {},
     "output_type": "execute_result"
    }
   ],
   "source": [
    "query2 = '''\n",
    "SELECT\n",
    "    title,\n",
    "    ROUND(AVG(rating), 2) as avg_rating,\n",
    "    COUNT(DISTINCT review_id) as cnt_reviews\n",
    "FROM\n",
    "    books\n",
    "    LEFT JOIN ratings ON books.book_id = ratings.book_id\n",
    "    LEFT JOIN reviews ON books.book_id = reviews.book_id\n",
    "GROUP BY\n",
    "    books.book_id\n",
    "ORDER BY\n",
    "    cnt_reviews DESC\n",
    "'''\n",
    "pd.io.sql.read_sql(query2, con = engine).head(10)"
   ]
  },
  {
   "cell_type": "markdown",
   "id": "12d5e809",
   "metadata": {},
   "source": [
    "Как мы видим, самые популярные на отзывы Сумерки - книга с не самым высокой средней оценкой"
   ]
  },
  {
   "cell_type": "markdown",
   "id": "a0c7538e",
   "metadata": {},
   "source": [
    "<div class=\"alert alert-danger\">\n",
    "<b>Комментарий ревьюера v.1</b> \n",
    "    \n",
    "📝 <b>Запрос 2:</b> Иван, этот запрос нужно немного скорректировать. Мы получаем слишком завышенные значения для столбца `cnt_reviews`. Это легко проверить: в таблице выше количество `cnt_reviews` = `26167`, а в исходной таблице `review` всего ревью `2793`.\n",
    "    \n",
    "Исправь, пожалуйста, запрос так, чтобы он не дублировал количество обзоров. \n",
    "    \n",
    "Также, обрати, пожалуйста, внимание, что сейчас запрос выводит информацию о `999` книгах, но в базе данных их немного больше. А в запросе нас просят вывести информацию для всех книг, которые есть в базе. Возможно, нам нужно учитывать уникальный номер книги.      \n",
    "</div> "
   ]
  },
  {
   "cell_type": "markdown",
   "id": "1c4d8dd6",
   "metadata": {},
   "source": [
    "<div class=\"alert alert-info\">\n",
    "<b>Комментарий студента v.1</b>\n",
    "    \n",
    "Ошибочка вышла. Исправил\n",
    "\n",
    "</div>"
   ]
  },
  {
   "cell_type": "markdown",
   "id": "d8649438",
   "metadata": {},
   "source": [
    "<div class=\"alert alert-warning\">\n",
    "<b>Комментарий ревьюера v.2</b> \n",
    "    \n",
    "👍 Запрос 2: Спасибо, теперь у нас нет дублирования записей. Но, 999 книг осталось потому, что в запросе мы используем title  для группировки данных. Лучше брать уникальные id книг, поскольку даже одно и тоже произведение могло издаваться разными издательствами или быть с разным переводом. Хороший пример - серии книг про Гарри Поттера, где есть несколько типов перевода и они оцениваются по разному.\n",
    "</div>"
   ]
  },
  {
   "cell_type": "markdown",
   "id": "97093553",
   "metadata": {},
   "source": [
    "<div class=\"alert alert-info\">\n",
    "<b>Комментарий студента v.2</b>\n",
    "    \n",
    "Вроде, теперь так, как должно быть\n",
    "\n",
    "</div>"
   ]
  },
  {
   "cell_type": "markdown",
   "id": "0279f88a",
   "metadata": {},
   "source": [
    "<div class=\"alert alert-success\">\n",
    "<b>Комментарий ревьюера v.3</b> \n",
    "    \n",
    "👍 <b>Запрос 1:</b> Теперь все верно!\n",
    "</div>"
   ]
  },
  {
   "cell_type": "code",
   "execution_count": 11,
   "id": "95ef04e8",
   "metadata": {
    "scrolled": true
   },
   "outputs": [
    {
     "data": {
      "text/html": [
       "<div>\n",
       "<style scoped>\n",
       "    .dataframe tbody tr th:only-of-type {\n",
       "        vertical-align: middle;\n",
       "    }\n",
       "\n",
       "    .dataframe tbody tr th {\n",
       "        vertical-align: top;\n",
       "    }\n",
       "\n",
       "    .dataframe thead th {\n",
       "        text-align: right;\n",
       "    }\n",
       "</style>\n",
       "<table border=\"1\" class=\"dataframe\">\n",
       "  <thead>\n",
       "    <tr style=\"text-align: right;\">\n",
       "      <th></th>\n",
       "      <th>title</th>\n",
       "      <th>avg_rating</th>\n",
       "      <th>cnt_reviews</th>\n",
       "    </tr>\n",
       "  </thead>\n",
       "  <tbody>\n",
       "    <tr>\n",
       "      <td>0</td>\n",
       "      <td>Twilight (Twilight  #1)</td>\n",
       "      <td>3.66</td>\n",
       "      <td>7</td>\n",
       "    </tr>\n",
       "    <tr>\n",
       "      <td>1</td>\n",
       "      <td>Water for Elephants</td>\n",
       "      <td>3.98</td>\n",
       "      <td>6</td>\n",
       "    </tr>\n",
       "    <tr>\n",
       "      <td>2</td>\n",
       "      <td>The Glass Castle</td>\n",
       "      <td>4.21</td>\n",
       "      <td>6</td>\n",
       "    </tr>\n",
       "    <tr>\n",
       "      <td>3</td>\n",
       "      <td>Harry Potter and the Prisoner of Azkaban (Harr...</td>\n",
       "      <td>4.41</td>\n",
       "      <td>6</td>\n",
       "    </tr>\n",
       "    <tr>\n",
       "      <td>4</td>\n",
       "      <td>The Curious Incident of the Dog in the Night-Time</td>\n",
       "      <td>4.08</td>\n",
       "      <td>6</td>\n",
       "    </tr>\n",
       "    <tr>\n",
       "      <td>5</td>\n",
       "      <td>The Da Vinci Code (Robert Langdon  #2)</td>\n",
       "      <td>3.83</td>\n",
       "      <td>6</td>\n",
       "    </tr>\n",
       "    <tr>\n",
       "      <td>6</td>\n",
       "      <td>The Alchemist</td>\n",
       "      <td>3.79</td>\n",
       "      <td>6</td>\n",
       "    </tr>\n",
       "    <tr>\n",
       "      <td>7</td>\n",
       "      <td>The Hobbit  or There and Back Again</td>\n",
       "      <td>4.13</td>\n",
       "      <td>6</td>\n",
       "    </tr>\n",
       "    <tr>\n",
       "      <td>8</td>\n",
       "      <td>The Book Thief</td>\n",
       "      <td>4.26</td>\n",
       "      <td>6</td>\n",
       "    </tr>\n",
       "    <tr>\n",
       "      <td>9</td>\n",
       "      <td>The Lightning Thief (Percy Jackson and the Oly...</td>\n",
       "      <td>4.08</td>\n",
       "      <td>6</td>\n",
       "    </tr>\n",
       "  </tbody>\n",
       "</table>\n",
       "</div>"
      ],
      "text/plain": [
       "                                               title  avg_rating  cnt_reviews\n",
       "0                            Twilight (Twilight  #1)        3.66            7\n",
       "1                                Water for Elephants        3.98            6\n",
       "2                                   The Glass Castle        4.21            6\n",
       "3  Harry Potter and the Prisoner of Azkaban (Harr...        4.41            6\n",
       "4  The Curious Incident of the Dog in the Night-Time        4.08            6\n",
       "5             The Da Vinci Code (Robert Langdon  #2)        3.83            6\n",
       "6                                      The Alchemist        3.79            6\n",
       "7                The Hobbit  or There and Back Again        4.13            6\n",
       "8                                     The Book Thief        4.26            6\n",
       "9  The Lightning Thief (Percy Jackson and the Oly...        4.08            6"
      ]
     },
     "execution_count": 11,
     "metadata": {},
     "output_type": "execute_result"
    }
   ],
   "source": [
    "# ячейка ревьюера:\n",
    "query2 = '''\n",
    "SELECT\n",
    "    title,\n",
    "    ROUND(AVG(rating), 2) as avg_rating,\n",
    "    COUNT(DISTINCT review_id) as cnt_reviews\n",
    "FROM\n",
    "    books\n",
    "    LEFT JOIN ratings ON books.book_id = ratings.book_id\n",
    "    LEFT JOIN reviews ON books.book_id = reviews.book_id\n",
    "GROUP BY\n",
    "    books.book_id, title\n",
    "ORDER BY\n",
    "    cnt_reviews DESC\n",
    "'''\n",
    "pd.io.sql.read_sql(query2, con = engine).head(10)"
   ]
  },
  {
   "cell_type": "markdown",
   "id": "ea767729",
   "metadata": {},
   "source": [
    "### Издательство, которое выпустило наибольшее число книг толще 50 страниц?"
   ]
  },
  {
   "cell_type": "code",
   "execution_count": 12,
   "id": "1ea39016",
   "metadata": {},
   "outputs": [
    {
     "data": {
      "text/html": [
       "<div>\n",
       "<style scoped>\n",
       "    .dataframe tbody tr th:only-of-type {\n",
       "        vertical-align: middle;\n",
       "    }\n",
       "\n",
       "    .dataframe tbody tr th {\n",
       "        vertical-align: top;\n",
       "    }\n",
       "\n",
       "    .dataframe thead th {\n",
       "        text-align: right;\n",
       "    }\n",
       "</style>\n",
       "<table border=\"1\" class=\"dataframe\">\n",
       "  <thead>\n",
       "    <tr style=\"text-align: right;\">\n",
       "      <th></th>\n",
       "      <th>publisher</th>\n",
       "      <th>cnt_books</th>\n",
       "    </tr>\n",
       "  </thead>\n",
       "  <tbody>\n",
       "    <tr>\n",
       "      <td>0</td>\n",
       "      <td>Penguin Books</td>\n",
       "      <td>42</td>\n",
       "    </tr>\n",
       "    <tr>\n",
       "      <td>1</td>\n",
       "      <td>Vintage</td>\n",
       "      <td>31</td>\n",
       "    </tr>\n",
       "    <tr>\n",
       "      <td>2</td>\n",
       "      <td>Grand Central Publishing</td>\n",
       "      <td>25</td>\n",
       "    </tr>\n",
       "    <tr>\n",
       "      <td>3</td>\n",
       "      <td>Penguin Classics</td>\n",
       "      <td>24</td>\n",
       "    </tr>\n",
       "    <tr>\n",
       "      <td>4</td>\n",
       "      <td>Ballantine Books</td>\n",
       "      <td>19</td>\n",
       "    </tr>\n",
       "    <tr>\n",
       "      <td>5</td>\n",
       "      <td>Bantam</td>\n",
       "      <td>19</td>\n",
       "    </tr>\n",
       "    <tr>\n",
       "      <td>6</td>\n",
       "      <td>Berkley</td>\n",
       "      <td>17</td>\n",
       "    </tr>\n",
       "    <tr>\n",
       "      <td>7</td>\n",
       "      <td>St. Martin's Press</td>\n",
       "      <td>14</td>\n",
       "    </tr>\n",
       "    <tr>\n",
       "      <td>8</td>\n",
       "      <td>Berkley Books</td>\n",
       "      <td>14</td>\n",
       "    </tr>\n",
       "    <tr>\n",
       "      <td>9</td>\n",
       "      <td>Delta</td>\n",
       "      <td>13</td>\n",
       "    </tr>\n",
       "  </tbody>\n",
       "</table>\n",
       "</div>"
      ],
      "text/plain": [
       "                  publisher  cnt_books\n",
       "0             Penguin Books         42\n",
       "1                   Vintage         31\n",
       "2  Grand Central Publishing         25\n",
       "3          Penguin Classics         24\n",
       "4          Ballantine Books         19\n",
       "5                    Bantam         19\n",
       "6                   Berkley         17\n",
       "7        St. Martin's Press         14\n",
       "8             Berkley Books         14\n",
       "9                     Delta         13"
      ]
     },
     "execution_count": 12,
     "metadata": {},
     "output_type": "execute_result"
    }
   ],
   "source": [
    "query3 = '''\n",
    "SELECT\n",
    "    publisher,\n",
    "    COUNT(book_id) as cnt_books\n",
    "FROM\n",
    "    books\n",
    "    LEFT JOIN publishers ON books.publisher_id = publishers.publisher_id\n",
    "WHERE\n",
    "    num_pages > 50\n",
    "GROUP BY\n",
    "    publisher\n",
    "ORDER BY\n",
    "    cnt_books DESC\n",
    "'''\n",
    "pd.io.sql.read_sql(query3, con = engine).head(10)"
   ]
  },
  {
   "cell_type": "markdown",
   "id": "a5445f16",
   "metadata": {},
   "source": [
    "Перед нами десятка самых печатающих издательств. Пингвины впереди всех!"
   ]
  },
  {
   "cell_type": "markdown",
   "id": "62e3a2b1",
   "metadata": {},
   "source": [
    "<div class=\"alert alert-success\">\n",
    "<b>Комментарий ревьюера v.1</b> \n",
    "    \n",
    "👍 <b>Запрос 3:</b> Тут все корректно!\n",
    "</div>"
   ]
  },
  {
   "cell_type": "markdown",
   "id": "58d6814a",
   "metadata": {},
   "source": [
    "### Автор с самой высокой средней оценкой книг?\n",
    "\n",
    "(книги только с 50 и более оценками)"
   ]
  },
  {
   "cell_type": "code",
   "execution_count": 13,
   "id": "90042494",
   "metadata": {},
   "outputs": [
    {
     "data": {
      "text/html": [
       "<div>\n",
       "<style scoped>\n",
       "    .dataframe tbody tr th:only-of-type {\n",
       "        vertical-align: middle;\n",
       "    }\n",
       "\n",
       "    .dataframe tbody tr th {\n",
       "        vertical-align: top;\n",
       "    }\n",
       "\n",
       "    .dataframe thead th {\n",
       "        text-align: right;\n",
       "    }\n",
       "</style>\n",
       "<table border=\"1\" class=\"dataframe\">\n",
       "  <thead>\n",
       "    <tr style=\"text-align: right;\">\n",
       "      <th></th>\n",
       "      <th>author</th>\n",
       "      <th>avg_rating</th>\n",
       "    </tr>\n",
       "  </thead>\n",
       "  <tbody>\n",
       "    <tr>\n",
       "      <td>0</td>\n",
       "      <td>J.K. Rowling/Mary GrandPré</td>\n",
       "      <td>4.29</td>\n",
       "    </tr>\n",
       "    <tr>\n",
       "      <td>1</td>\n",
       "      <td>Markus Zusak/Cao Xuân Việt Khương</td>\n",
       "      <td>4.26</td>\n",
       "    </tr>\n",
       "    <tr>\n",
       "      <td>2</td>\n",
       "      <td>J.R.R. Tolkien</td>\n",
       "      <td>4.25</td>\n",
       "    </tr>\n",
       "    <tr>\n",
       "      <td>3</td>\n",
       "      <td>Louisa May Alcott</td>\n",
       "      <td>4.19</td>\n",
       "    </tr>\n",
       "    <tr>\n",
       "      <td>4</td>\n",
       "      <td>Rick Riordan</td>\n",
       "      <td>4.08</td>\n",
       "    </tr>\n",
       "    <tr>\n",
       "      <td>5</td>\n",
       "      <td>William Golding</td>\n",
       "      <td>3.90</td>\n",
       "    </tr>\n",
       "    <tr>\n",
       "      <td>6</td>\n",
       "      <td>J.D. Salinger</td>\n",
       "      <td>3.83</td>\n",
       "    </tr>\n",
       "    <tr>\n",
       "      <td>7</td>\n",
       "      <td>William Shakespeare/Paul Werstine/Barbara A. M...</td>\n",
       "      <td>3.79</td>\n",
       "    </tr>\n",
       "    <tr>\n",
       "      <td>8</td>\n",
       "      <td>Paulo Coelho/Alan R. Clarke/Özdemir İnce</td>\n",
       "      <td>3.79</td>\n",
       "    </tr>\n",
       "    <tr>\n",
       "      <td>9</td>\n",
       "      <td>Lois Lowry</td>\n",
       "      <td>3.75</td>\n",
       "    </tr>\n",
       "  </tbody>\n",
       "</table>\n",
       "</div>"
      ],
      "text/plain": [
       "                                              author  avg_rating\n",
       "0                         J.K. Rowling/Mary GrandPré        4.29\n",
       "1                  Markus Zusak/Cao Xuân Việt Khương        4.26\n",
       "2                                     J.R.R. Tolkien        4.25\n",
       "3                                  Louisa May Alcott        4.19\n",
       "4                                       Rick Riordan        4.08\n",
       "5                                    William Golding        3.90\n",
       "6                                      J.D. Salinger        3.83\n",
       "7  William Shakespeare/Paul Werstine/Barbara A. M...        3.79\n",
       "8           Paulo Coelho/Alan R. Clarke/Özdemir İnce        3.79\n",
       "9                                         Lois Lowry        3.75"
      ]
     },
     "execution_count": 13,
     "metadata": {},
     "output_type": "execute_result"
    }
   ],
   "source": [
    "query4 = '''\n",
    "SELECT\n",
    "    authors.author AS author,\n",
    "    ROUND(AVG(rating), 2) AS avg_rating\n",
    "FROM\n",
    "    (SELECT\n",
    "        books.book_id,\n",
    "        author_id\n",
    "    FROM\n",
    "        books\n",
    "        LEFT JOIN ratings ON books.book_id = ratings.book_id\n",
    "    GROUP BY\n",
    "        books.book_id\n",
    "    HAVING\n",
    "        COUNT(rating) >= 50) AS books_with_50_plus_ratings\n",
    "    LEFT JOIN authors ON books_with_50_plus_ratings.author_id = authors.author_id\n",
    "    LEFT JOIN ratings ON books_with_50_plus_ratings.book_id = ratings.book_id\n",
    "GROUP BY\n",
    "    author\n",
    "ORDER BY\n",
    "    avg_rating DESC\n",
    "'''\n",
    "pd.io.sql.read_sql(query4, con = engine).head(10)"
   ]
  },
  {
   "cell_type": "markdown",
   "id": "a55a65f0",
   "metadata": {},
   "source": [
    "Перед нами самы заметные авторы последнего времени. По ощущениям реальная картина схожая"
   ]
  },
  {
   "cell_type": "markdown",
   "id": "1474e489",
   "metadata": {},
   "source": [
    "<div class=\"alert alert-success\">\n",
    "<b>Комментарий ревьюера v.1</b> \n",
    "    \n",
    "👍 <b>Запрос 4:</b> В этом запросе тоже все корректно. Обрати, пожалуйста, внимание, что в начале ты выделил книги, у которых 50 или больше оценок (тут все корректно), а затем подсчитал средний рейтинг для этих книг для каждого автора. Т.е. мы использовали все данные о рейтинге для всех книг. Для решения этого запроса мы могли подойти немного по-другому - в начале подсчитать рейтинг для книг, которые имеют 50 и более запросов, а потом уже подсчитать среднее значение по среднему рейтингу книг для каждого. Поэтому, советую учитывать при решении подобных задач такую вариативность. Последнее может быть актуально при большом количестве данных.\n",
    "</div>"
   ]
  },
  {
   "cell_type": "markdown",
   "id": "9dccff49",
   "metadata": {},
   "source": [
    "<div class=\"alert alert-info\">\n",
    "<b>Комментарий студента v.1</b>\n",
    "    \n",
    "Не совсем понял этот комментрий. Что значит \"все данные о рейтинге\"? И не понял, почему второй вариант эффективнее и как его реализовать\n",
    "\n",
    "</div>"
   ]
  },
  {
   "cell_type": "markdown",
   "id": "ea27899c",
   "metadata": {},
   "source": [
    "<div class=\"alert alert-success\">\n",
    "<b>Комментарий ревьюера v.2</b> \n",
    "    \n",
    "👍 <b>Запрос 4:</b> Спасибо за вопрос и извини, если немного запутал. Сейчас, внутренним запросом мы определили книги, у которых есть 50 и более оценок. Тут все верно, далее к ним мы подключили данные по автору и рейтингу и в итоге получили массив данных, для всех книг у нас есть данные по рейтингу, а также по автору.\n",
    "</div>"
   ]
  },
  {
   "cell_type": "code",
   "execution_count": 14,
   "id": "6617b65a",
   "metadata": {},
   "outputs": [
    {
     "data": {
      "text/html": [
       "<div>\n",
       "<style scoped>\n",
       "    .dataframe tbody tr th:only-of-type {\n",
       "        vertical-align: middle;\n",
       "    }\n",
       "\n",
       "    .dataframe tbody tr th {\n",
       "        vertical-align: top;\n",
       "    }\n",
       "\n",
       "    .dataframe thead th {\n",
       "        text-align: right;\n",
       "    }\n",
       "</style>\n",
       "<table border=\"1\" class=\"dataframe\">\n",
       "  <thead>\n",
       "    <tr style=\"text-align: right;\">\n",
       "      <th></th>\n",
       "      <th>book_id</th>\n",
       "      <th>author_id</th>\n",
       "      <th>author_id</th>\n",
       "      <th>author</th>\n",
       "      <th>rating_id</th>\n",
       "      <th>book_id</th>\n",
       "      <th>username</th>\n",
       "      <th>rating</th>\n",
       "    </tr>\n",
       "  </thead>\n",
       "  <tbody>\n",
       "    <tr>\n",
       "      <td>0</td>\n",
       "      <td>75</td>\n",
       "      <td>106</td>\n",
       "      <td>106</td>\n",
       "      <td>Dan Brown</td>\n",
       "      <td>389</td>\n",
       "      <td>75</td>\n",
       "      <td>annawarner</td>\n",
       "      <td>5</td>\n",
       "    </tr>\n",
       "    <tr>\n",
       "      <td>1</td>\n",
       "      <td>75</td>\n",
       "      <td>106</td>\n",
       "      <td>106</td>\n",
       "      <td>Dan Brown</td>\n",
       "      <td>390</td>\n",
       "      <td>75</td>\n",
       "      <td>thomas49</td>\n",
       "      <td>4</td>\n",
       "    </tr>\n",
       "    <tr>\n",
       "      <td>2</td>\n",
       "      <td>75</td>\n",
       "      <td>106</td>\n",
       "      <td>106</td>\n",
       "      <td>Dan Brown</td>\n",
       "      <td>391</td>\n",
       "      <td>75</td>\n",
       "      <td>julie81</td>\n",
       "      <td>4</td>\n",
       "    </tr>\n",
       "    <tr>\n",
       "      <td>3</td>\n",
       "      <td>75</td>\n",
       "      <td>106</td>\n",
       "      <td>106</td>\n",
       "      <td>Dan Brown</td>\n",
       "      <td>392</td>\n",
       "      <td>75</td>\n",
       "      <td>robert00</td>\n",
       "      <td>4</td>\n",
       "    </tr>\n",
       "    <tr>\n",
       "      <td>4</td>\n",
       "      <td>75</td>\n",
       "      <td>106</td>\n",
       "      <td>106</td>\n",
       "      <td>Dan Brown</td>\n",
       "      <td>393</td>\n",
       "      <td>75</td>\n",
       "      <td>jarvispaul</td>\n",
       "      <td>4</td>\n",
       "    </tr>\n",
       "    <tr>\n",
       "      <td>...</td>\n",
       "      <td>...</td>\n",
       "      <td>...</td>\n",
       "      <td>...</td>\n",
       "      <td>...</td>\n",
       "      <td>...</td>\n",
       "      <td>...</td>\n",
       "      <td>...</td>\n",
       "      <td>...</td>\n",
       "    </tr>\n",
       "    <tr>\n",
       "      <td>1408</td>\n",
       "      <td>948</td>\n",
       "      <td>554</td>\n",
       "      <td>554</td>\n",
       "      <td>Stephenie Meyer</td>\n",
       "      <td>6191</td>\n",
       "      <td>948</td>\n",
       "      <td>perrypatricia</td>\n",
       "      <td>3</td>\n",
       "    </tr>\n",
       "    <tr>\n",
       "      <td>1409</td>\n",
       "      <td>948</td>\n",
       "      <td>554</td>\n",
       "      <td>554</td>\n",
       "      <td>Stephenie Meyer</td>\n",
       "      <td>6192</td>\n",
       "      <td>948</td>\n",
       "      <td>carriehale</td>\n",
       "      <td>3</td>\n",
       "    </tr>\n",
       "    <tr>\n",
       "      <td>1410</td>\n",
       "      <td>948</td>\n",
       "      <td>554</td>\n",
       "      <td>554</td>\n",
       "      <td>Stephenie Meyer</td>\n",
       "      <td>6193</td>\n",
       "      <td>948</td>\n",
       "      <td>yvasquez</td>\n",
       "      <td>5</td>\n",
       "    </tr>\n",
       "    <tr>\n",
       "      <td>1411</td>\n",
       "      <td>948</td>\n",
       "      <td>554</td>\n",
       "      <td>554</td>\n",
       "      <td>Stephenie Meyer</td>\n",
       "      <td>6194</td>\n",
       "      <td>948</td>\n",
       "      <td>danielpatrick</td>\n",
       "      <td>4</td>\n",
       "    </tr>\n",
       "    <tr>\n",
       "      <td>1412</td>\n",
       "      <td>948</td>\n",
       "      <td>554</td>\n",
       "      <td>554</td>\n",
       "      <td>Stephenie Meyer</td>\n",
       "      <td>6195</td>\n",
       "      <td>948</td>\n",
       "      <td>carlsonbrad</td>\n",
       "      <td>5</td>\n",
       "    </tr>\n",
       "  </tbody>\n",
       "</table>\n",
       "<p>1413 rows × 8 columns</p>\n",
       "</div>"
      ],
      "text/plain": [
       "      book_id  author_id  author_id           author  rating_id  book_id  \\\n",
       "0          75        106        106        Dan Brown        389       75   \n",
       "1          75        106        106        Dan Brown        390       75   \n",
       "2          75        106        106        Dan Brown        391       75   \n",
       "3          75        106        106        Dan Brown        392       75   \n",
       "4          75        106        106        Dan Brown        393       75   \n",
       "...       ...        ...        ...              ...        ...      ...   \n",
       "1408      948        554        554  Stephenie Meyer       6191      948   \n",
       "1409      948        554        554  Stephenie Meyer       6192      948   \n",
       "1410      948        554        554  Stephenie Meyer       6193      948   \n",
       "1411      948        554        554  Stephenie Meyer       6194      948   \n",
       "1412      948        554        554  Stephenie Meyer       6195      948   \n",
       "\n",
       "           username  rating  \n",
       "0        annawarner       5  \n",
       "1          thomas49       4  \n",
       "2           julie81       4  \n",
       "3          robert00       4  \n",
       "4        jarvispaul       4  \n",
       "...             ...     ...  \n",
       "1408  perrypatricia       3  \n",
       "1409     carriehale       3  \n",
       "1410       yvasquez       5  \n",
       "1411  danielpatrick       4  \n",
       "1412    carlsonbrad       5  \n",
       "\n",
       "[1413 rows x 8 columns]"
      ]
     },
     "execution_count": 14,
     "metadata": {},
     "output_type": "execute_result"
    }
   ],
   "source": [
    "# ячейка ревьюера:\n",
    "query4 = '''\n",
    "SELECT *\n",
    "FROM\n",
    "  (SELECT books.book_id,\n",
    "          author_id\n",
    "   FROM books\n",
    "   LEFT JOIN ratings ON books.book_id = ratings.book_id\n",
    "   GROUP BY books.book_id\n",
    "   HAVING COUNT(rating) >= 50) AS books_with_50_plus_ratings\n",
    "LEFT JOIN authors ON books_with_50_plus_ratings.author_id = authors.author_id\n",
    "LEFT JOIN ratings ON books_with_50_plus_ratings.book_id = ratings.book_id\n",
    "'''\n",
    "pd.io.sql.read_sql(query4, con = engine)"
   ]
  },
  {
   "cell_type": "markdown",
   "id": "30ea8ca8",
   "metadata": {},
   "source": [
    "<div class=\"alert alert-success\">\n",
    "<b>Комментарий ревьюера v.2</b> \n",
    "    \n",
    "👍 <b>Запрос 4:</b> Далее мы считаем среднее значение столбца `rating` для каждого автора. Давай немного рассмотрим возможные варианты. Может быть так, что у автора две книги, одна имеет 10 значений рейтинга - все пятерки (отличная книга), а вторая имеет всего 2 рейтинга - все двойки (неудачная книга, но и оценок меньше). В итоге у нас средний рейтинг (как мы это определили выше в запросе) будет (10*5 + 2*2) / 12 = 4.5. Но, мы можем подсчитать вначале средний рейтинг для каждой книги, а затем взять среднее значение. В нашем случае это будет как (10*5/10 + 2*2/2) / 2 = и среднее значение будет 3.5, что на балл ниже, чем при первом расчете. Давай вернемся к нашим книгам, как мы можем это реализовать:\n",
    "</div>"
   ]
  },
  {
   "cell_type": "code",
   "execution_count": 15,
   "id": "d548f7d2",
   "metadata": {},
   "outputs": [
    {
     "data": {
      "text/html": [
       "<div>\n",
       "<style scoped>\n",
       "    .dataframe tbody tr th:only-of-type {\n",
       "        vertical-align: middle;\n",
       "    }\n",
       "\n",
       "    .dataframe tbody tr th {\n",
       "        vertical-align: top;\n",
       "    }\n",
       "\n",
       "    .dataframe thead th {\n",
       "        text-align: right;\n",
       "    }\n",
       "</style>\n",
       "<table border=\"1\" class=\"dataframe\">\n",
       "  <thead>\n",
       "    <tr style=\"text-align: right;\">\n",
       "      <th></th>\n",
       "      <th>author</th>\n",
       "      <th>avg_rating</th>\n",
       "    </tr>\n",
       "  </thead>\n",
       "  <tbody>\n",
       "    <tr>\n",
       "      <td>0</td>\n",
       "      <td>J.K. Rowling/Mary GrandPré</td>\n",
       "      <td>4.283844</td>\n",
       "    </tr>\n",
       "    <tr>\n",
       "      <td>1</td>\n",
       "      <td>Dan Brown</td>\n",
       "      <td>3.754540</td>\n",
       "    </tr>\n",
       "    <tr>\n",
       "      <td>2</td>\n",
       "      <td>J.D. Salinger</td>\n",
       "      <td>3.825581</td>\n",
       "    </tr>\n",
       "    <tr>\n",
       "      <td>3</td>\n",
       "      <td>William Golding</td>\n",
       "      <td>3.901408</td>\n",
       "    </tr>\n",
       "    <tr>\n",
       "      <td>4</td>\n",
       "      <td>Louisa May Alcott</td>\n",
       "      <td>4.192308</td>\n",
       "    </tr>\n",
       "    <tr>\n",
       "      <td>5</td>\n",
       "      <td>Paulo Coelho/Alan R. Clarke/Özdemir İnce</td>\n",
       "      <td>3.789474</td>\n",
       "    </tr>\n",
       "    <tr>\n",
       "      <td>6</td>\n",
       "      <td>Stephenie Meyer</td>\n",
       "      <td>3.662500</td>\n",
       "    </tr>\n",
       "    <tr>\n",
       "      <td>7</td>\n",
       "      <td>William Shakespeare/Paul Werstine/Barbara A. M...</td>\n",
       "      <td>3.787879</td>\n",
       "    </tr>\n",
       "    <tr>\n",
       "      <td>8</td>\n",
       "      <td>Rick Riordan</td>\n",
       "      <td>4.080645</td>\n",
       "    </tr>\n",
       "    <tr>\n",
       "      <td>9</td>\n",
       "      <td>George Orwell/Boris Grabnar/Peter Škerl</td>\n",
       "      <td>3.729730</td>\n",
       "    </tr>\n",
       "    <tr>\n",
       "      <td>10</td>\n",
       "      <td>John Steinbeck</td>\n",
       "      <td>3.622951</td>\n",
       "    </tr>\n",
       "    <tr>\n",
       "      <td>11</td>\n",
       "      <td>J.R.R. Tolkien</td>\n",
       "      <td>4.258446</td>\n",
       "    </tr>\n",
       "    <tr>\n",
       "      <td>12</td>\n",
       "      <td>Lois Lowry</td>\n",
       "      <td>3.750000</td>\n",
       "    </tr>\n",
       "    <tr>\n",
       "      <td>13</td>\n",
       "      <td>Markus Zusak/Cao Xuân Việt Khương</td>\n",
       "      <td>4.264151</td>\n",
       "    </tr>\n",
       "  </tbody>\n",
       "</table>\n",
       "</div>"
      ],
      "text/plain": [
       "                                               author  avg_rating\n",
       "0                          J.K. Rowling/Mary GrandPré    4.283844\n",
       "1                                           Dan Brown    3.754540\n",
       "2                                       J.D. Salinger    3.825581\n",
       "3                                     William Golding    3.901408\n",
       "4                                   Louisa May Alcott    4.192308\n",
       "5            Paulo Coelho/Alan R. Clarke/Özdemir İnce    3.789474\n",
       "6                                     Stephenie Meyer    3.662500\n",
       "7   William Shakespeare/Paul Werstine/Barbara A. M...    3.787879\n",
       "8                                        Rick Riordan    4.080645\n",
       "9             George Orwell/Boris Grabnar/Peter Škerl    3.729730\n",
       "10                                     John Steinbeck    3.622951\n",
       "11                                     J.R.R. Tolkien    4.258446\n",
       "12                                         Lois Lowry    3.750000\n",
       "13                  Markus Zusak/Cao Xuân Việt Khương    4.264151"
      ]
     },
     "execution_count": 15,
     "metadata": {},
     "output_type": "execute_result"
    }
   ],
   "source": [
    "# ячейка ревьюера: добавив дополнительную итерацию агрегации данных по книге:\n",
    "\n",
    "query4 = '''\n",
    "\n",
    "--- я взял твой запрос и сделал его временным запросом и группировал данные по книге, \n",
    "--- чтобы подсчитать средний рейтинг для каждой книги:\n",
    "WITH book_rating AS\n",
    "  (SELECT books_with_50_plus_ratings.book_id,\n",
    "          authors.author AS author,\n",
    "          AVG(rating) AS avg_rating\n",
    "   FROM\n",
    "     (SELECT books.book_id,\n",
    "             author_id\n",
    "      FROM books\n",
    "      LEFT JOIN ratings ON books.book_id = ratings.book_id\n",
    "      GROUP BY books.book_id\n",
    "      HAVING COUNT(rating) >= 50) AS books_with_50_plus_ratings\n",
    "   LEFT JOIN authors ON books_with_50_plus_ratings.author_id = authors.author_id\n",
    "   LEFT JOIN ratings ON books_with_50_plus_ratings.book_id = ratings.book_id\n",
    "   GROUP BY books_with_50_plus_ratings.book_id,\n",
    "            authors.author) \n",
    "            \n",
    "--- теперь обратимся к данным из временного запроса и подсчитаем средний рейтинг книг для каждого автора:\n",
    "SELECT author AS author,\n",
    "       AVG(avg_rating) AS avg_rating\n",
    "FROM book_rating\n",
    "GROUP BY author\n",
    "\n",
    "'''\n",
    "pd.io.sql.read_sql(query4, con = engine)"
   ]
  },
  {
   "cell_type": "markdown",
   "id": "b0e991d6",
   "metadata": {},
   "source": [
    "<div class=\"alert alert-success\">\n",
    "<b>Комментарий ревьюера v.2</b> \n",
    "    \n",
    "👍 <b>Запрос 4:</b> Как видишь, мы получили немного другие данные. Ниже мы можем это сравнить:\n",
    "</div>"
   ]
  },
  {
   "cell_type": "code",
   "execution_count": 16,
   "id": "4a4a3b3d",
   "metadata": {},
   "outputs": [
    {
     "data": {
      "text/html": [
       "<div>\n",
       "<style scoped>\n",
       "    .dataframe tbody tr th:only-of-type {\n",
       "        vertical-align: middle;\n",
       "    }\n",
       "\n",
       "    .dataframe tbody tr th {\n",
       "        vertical-align: top;\n",
       "    }\n",
       "\n",
       "    .dataframe thead th {\n",
       "        text-align: right;\n",
       "    }\n",
       "</style>\n",
       "<table border=\"1\" class=\"dataframe\">\n",
       "  <thead>\n",
       "    <tr style=\"text-align: right;\">\n",
       "      <th></th>\n",
       "      <th>author</th>\n",
       "      <th>avg_rating</th>\n",
       "      <th>book_count</th>\n",
       "      <th>avg_rating_first</th>\n",
       "    </tr>\n",
       "  </thead>\n",
       "  <tbody>\n",
       "    <tr>\n",
       "      <td>0</td>\n",
       "      <td>J.K. Rowling/Mary GrandPré</td>\n",
       "      <td>4.283844</td>\n",
       "      <td>4</td>\n",
       "      <td>4.287097</td>\n",
       "    </tr>\n",
       "    <tr>\n",
       "      <td>1</td>\n",
       "      <td>Markus Zusak/Cao Xuân Việt Khương</td>\n",
       "      <td>4.264151</td>\n",
       "      <td>1</td>\n",
       "      <td>4.264151</td>\n",
       "    </tr>\n",
       "    <tr>\n",
       "      <td>2</td>\n",
       "      <td>J.R.R. Tolkien</td>\n",
       "      <td>4.258446</td>\n",
       "      <td>2</td>\n",
       "      <td>4.246914</td>\n",
       "    </tr>\n",
       "    <tr>\n",
       "      <td>3</td>\n",
       "      <td>Louisa May Alcott</td>\n",
       "      <td>4.192308</td>\n",
       "      <td>1</td>\n",
       "      <td>4.192308</td>\n",
       "    </tr>\n",
       "    <tr>\n",
       "      <td>4</td>\n",
       "      <td>Rick Riordan</td>\n",
       "      <td>4.080645</td>\n",
       "      <td>1</td>\n",
       "      <td>4.080645</td>\n",
       "    </tr>\n",
       "    <tr>\n",
       "      <td>5</td>\n",
       "      <td>William Golding</td>\n",
       "      <td>3.901408</td>\n",
       "      <td>1</td>\n",
       "      <td>3.901408</td>\n",
       "    </tr>\n",
       "    <tr>\n",
       "      <td>6</td>\n",
       "      <td>J.D. Salinger</td>\n",
       "      <td>3.825581</td>\n",
       "      <td>1</td>\n",
       "      <td>3.825581</td>\n",
       "    </tr>\n",
       "    <tr>\n",
       "      <td>7</td>\n",
       "      <td>Paulo Coelho/Alan R. Clarke/Özdemir İnce</td>\n",
       "      <td>3.789474</td>\n",
       "      <td>1</td>\n",
       "      <td>3.789474</td>\n",
       "    </tr>\n",
       "    <tr>\n",
       "      <td>8</td>\n",
       "      <td>William Shakespeare/Paul Werstine/Barbara A. M...</td>\n",
       "      <td>3.787879</td>\n",
       "      <td>1</td>\n",
       "      <td>3.787879</td>\n",
       "    </tr>\n",
       "    <tr>\n",
       "      <td>9</td>\n",
       "      <td>Dan Brown</td>\n",
       "      <td>3.754540</td>\n",
       "      <td>2</td>\n",
       "      <td>3.741259</td>\n",
       "    </tr>\n",
       "    <tr>\n",
       "      <td>10</td>\n",
       "      <td>Lois Lowry</td>\n",
       "      <td>3.750000</td>\n",
       "      <td>1</td>\n",
       "      <td>3.750000</td>\n",
       "    </tr>\n",
       "    <tr>\n",
       "      <td>11</td>\n",
       "      <td>George Orwell/Boris Grabnar/Peter Škerl</td>\n",
       "      <td>3.729730</td>\n",
       "      <td>1</td>\n",
       "      <td>3.729730</td>\n",
       "    </tr>\n",
       "    <tr>\n",
       "      <td>12</td>\n",
       "      <td>Stephenie Meyer</td>\n",
       "      <td>3.662500</td>\n",
       "      <td>1</td>\n",
       "      <td>3.662500</td>\n",
       "    </tr>\n",
       "    <tr>\n",
       "      <td>13</td>\n",
       "      <td>John Steinbeck</td>\n",
       "      <td>3.622951</td>\n",
       "      <td>1</td>\n",
       "      <td>3.622951</td>\n",
       "    </tr>\n",
       "  </tbody>\n",
       "</table>\n",
       "</div>"
      ],
      "text/plain": [
       "                                               author  avg_rating  book_count  \\\n",
       "0                          J.K. Rowling/Mary GrandPré    4.283844           4   \n",
       "1                   Markus Zusak/Cao Xuân Việt Khương    4.264151           1   \n",
       "2                                      J.R.R. Tolkien    4.258446           2   \n",
       "3                                   Louisa May Alcott    4.192308           1   \n",
       "4                                        Rick Riordan    4.080645           1   \n",
       "5                                     William Golding    3.901408           1   \n",
       "6                                       J.D. Salinger    3.825581           1   \n",
       "7            Paulo Coelho/Alan R. Clarke/Özdemir İnce    3.789474           1   \n",
       "8   William Shakespeare/Paul Werstine/Barbara A. M...    3.787879           1   \n",
       "9                                           Dan Brown    3.754540           2   \n",
       "10                                         Lois Lowry    3.750000           1   \n",
       "11            George Orwell/Boris Grabnar/Peter Škerl    3.729730           1   \n",
       "12                                    Stephenie Meyer    3.662500           1   \n",
       "13                                     John Steinbeck    3.622951           1   \n",
       "\n",
       "    avg_rating_first  \n",
       "0           4.287097  \n",
       "1           4.264151  \n",
       "2           4.246914  \n",
       "3           4.192308  \n",
       "4           4.080645  \n",
       "5           3.901408  \n",
       "6           3.825581  \n",
       "7           3.789474  \n",
       "8           3.787879  \n",
       "9           3.741259  \n",
       "10          3.750000  \n",
       "11          3.729730  \n",
       "12          3.662500  \n",
       "13          3.622951  "
      ]
     },
     "execution_count": 16,
     "metadata": {},
     "output_type": "execute_result"
    }
   ],
   "source": [
    "# ячейка ревьюера: добавив дополнительную итерации агрегации данных по книге:\n",
    "\n",
    "query4 = '''\n",
    "\n",
    "--- я взял твой запрос и сделал его временным запросом и группировал данные по книге, \n",
    "--- чтобы подсчитать средний рейтинг для каждой книги:\n",
    "WITH book_rating AS\n",
    "  (SELECT books_with_50_plus_ratings.book_id,\n",
    "          authors.author AS author,\n",
    "          AVG(rating) AS avg_rating\n",
    "   FROM\n",
    "     (SELECT books.book_id,\n",
    "             author_id\n",
    "      FROM books\n",
    "      LEFT JOIN ratings ON books.book_id = ratings.book_id\n",
    "      GROUP BY books.book_id\n",
    "      HAVING COUNT(rating) >= 50) AS books_with_50_plus_ratings\n",
    "   LEFT JOIN authors ON books_with_50_plus_ratings.author_id = authors.author_id\n",
    "   LEFT JOIN ratings ON books_with_50_plus_ratings.book_id = ratings.book_id\n",
    "   GROUP BY books_with_50_plus_ratings.book_id,\n",
    "            authors.author),\n",
    "     first_rating AS\n",
    "  (SELECT authors.author AS author,\n",
    "          AVG(rating) AS avg_rating\n",
    "   FROM\n",
    "     (SELECT books.book_id,\n",
    "             author_id\n",
    "      FROM books\n",
    "      LEFT JOIN ratings ON books.book_id = ratings.book_id\n",
    "      GROUP BY books.book_id\n",
    "      HAVING COUNT(rating) >= 50) AS books_with_50_plus_ratings\n",
    "   LEFT JOIN authors ON books_with_50_plus_ratings.author_id = authors.author_id\n",
    "   LEFT JOIN ratings ON books_with_50_plus_ratings.book_id = ratings.book_id\n",
    "   GROUP BY author) \n",
    "   \n",
    "--- теперь обратимся к данным из временного запроса и подсчитаем средний рейтинг книг для каждого автора:\n",
    "SELECT book_rating.author AS author,\n",
    "       AVG(book_rating.avg_rating) AS avg_rating,\n",
    "       COUNT(DISTINCT book_rating.book_id) AS book_count,\n",
    "       AVG(first_rating.avg_rating) AS avg_rating_first\n",
    "FROM book_rating\n",
    "LEFT JOIN first_rating ON first_rating.author = book_rating.author\n",
    "GROUP BY book_rating.author\n",
    "ORDER BY avg_rating DESC\n",
    "\n",
    "'''\n",
    "pd.io.sql.read_sql(query4, con = engine)"
   ]
  },
  {
   "cell_type": "markdown",
   "id": "d59f6a5a",
   "metadata": {},
   "source": [
    "<div class=\"alert alert-success\">\n",
    "<b>Комментарий ревьюера v.2</b> \n",
    "    \n",
    "👍 <b>Запрос 4:</b> Получается, там, где у нас количество книг будет больше одной, то средние рейтинги различаются. Если у нас было бы больше данных - различия могли бы быть более существенные. Я не говорю, что этот способ более эффективный, но будет не лишним посмотреть, какие альтернативные подходы могут быть использованы при решении этой задачи.\n",
    "</div>"
   ]
  },
  {
   "cell_type": "markdown",
   "id": "03db13c6",
   "metadata": {},
   "source": [
    "<div class=\"alert alert-info\">\n",
    "<b>Комментарий студента v.2</b>\n",
    "    \n",
    "Так понятнее, спасибо! Буду иметь в виду)\n",
    "    \n",
    "P.s. с оператором WITH ... AS ... просто ещё не работал (и в курсе его не было👀)\n",
    "\n",
    "</div>"
   ]
  },
  {
   "cell_type": "markdown",
   "id": "a247d38e",
   "metadata": {},
   "source": [
    "<div class=\"alert alert-success\">\n",
    "<b>Комментарий ревьюера v.3</b> \n",
    "    \n",
    "👍 <b>Запрос 4:</b> Здорово, что теперь стало яснее. По поводу WITH ... AS - тут логика такая - мы делаем временную таблицу, к которой потом обращаемся. Можно взять за аналог создание дополнительного среза из датасета pandas. Все тоже самое, можно было бы решить, используя вложенные запросы. Тут, наверно, кому как удобнее. \n",
    "</div>"
   ]
  },
  {
   "cell_type": "markdown",
   "id": "9b3f26cb",
   "metadata": {},
   "source": [
    "### Среднее количество обзоров от пользователей, которые поставили больше 50 оценок?"
   ]
  },
  {
   "cell_type": "code",
   "execution_count": 17,
   "id": "df87673b",
   "metadata": {},
   "outputs": [
    {
     "data": {
      "text/html": [
       "<div>\n",
       "<style scoped>\n",
       "    .dataframe tbody tr th:only-of-type {\n",
       "        vertical-align: middle;\n",
       "    }\n",
       "\n",
       "    .dataframe tbody tr th {\n",
       "        vertical-align: top;\n",
       "    }\n",
       "\n",
       "    .dataframe thead th {\n",
       "        text-align: right;\n",
       "    }\n",
       "</style>\n",
       "<table border=\"1\" class=\"dataframe\">\n",
       "  <thead>\n",
       "    <tr style=\"text-align: right;\">\n",
       "      <th></th>\n",
       "      <th>avg_cnt_reviews</th>\n",
       "    </tr>\n",
       "  </thead>\n",
       "  <tbody>\n",
       "    <tr>\n",
       "      <td>0</td>\n",
       "      <td>24.33</td>\n",
       "    </tr>\n",
       "  </tbody>\n",
       "</table>\n",
       "</div>"
      ],
      "text/plain": [
       "   avg_cnt_reviews\n",
       "0            24.33"
      ]
     },
     "execution_count": 17,
     "metadata": {},
     "output_type": "execute_result"
    }
   ],
   "source": [
    "query5 = '''\n",
    "SELECT\n",
    "    ROUND(AVG(cnts_reviews.cnt_reviews), 2) AS avg_cnt_reviews\n",
    "FROM\n",
    "    (SELECT\n",
    "        COUNT(review_id) AS cnt_reviews\n",
    "    FROM (\n",
    "        SELECT\n",
    "            username\n",
    "        FROM\n",
    "            ratings\n",
    "        GROUP BY\n",
    "            username\n",
    "        HAVING\n",
    "            COUNT(rating_id) > 50\n",
    "            ) AS users_with_50_plus_ratings\n",
    "        LEFT JOIN reviews ON users_with_50_plus_ratings.username = reviews.username\n",
    "    GROUP BY\n",
    "        reviews.username) AS cnts_reviews\n",
    "'''\n",
    "pd.io.sql.read_sql(query5, con = engine)"
   ]
  },
  {
   "cell_type": "markdown",
   "id": "c6c59e24",
   "metadata": {},
   "source": [
    "Количество отзывов даже у самых активных пользователей почти в 2 раза меньше, чем количество оценок. Не пора ли простимулировать пользователей писать больше отзывов?"
   ]
  },
  {
   "cell_type": "markdown",
   "id": "c812a20a",
   "metadata": {},
   "source": [
    "<div class=\"alert alert-success\">\n",
    "<b>Комментарий ревьюера v.1</b> \n",
    "    \n",
    "👍 <b>Запрос 5:</b> Здесь тоже все корректно! Обрати, пожалуйста, внимание, что мы можем округлить до 2-3 знаков после запятой, для удобства.\n",
    "</div>"
   ]
  },
  {
   "cell_type": "markdown",
   "id": "19d1a003",
   "metadata": {},
   "source": [
    "<div class=\"alert alert-info\">\n",
    "<b>Комментарий студента v.1</b>\n",
    "    \n",
    "Округлил\n",
    "\n",
    "</div>"
   ]
  },
  {
   "cell_type": "markdown",
   "id": "1d1b42b9",
   "metadata": {},
   "source": [
    "<div class=\"alert alert-success\">\n",
    "<b>Комментарий ревьюера v.2</b> \n",
    "    \n",
    "👍 <b>Запрос 5:</b> Спасибо!\n",
    "</div>"
   ]
  },
  {
   "cell_type": "markdown",
   "id": "8a558d08",
   "metadata": {},
   "source": [
    "<div class=\"alert alert-warning\">\n",
    "<b>Комментарий ревьюера v.1</b> \n",
    "    \n",
    "📝 Несмотря на то, что это не требуется заданием - лучше в конце проекта, даже такого небольшого, как этот, оставить резюме по поводу проделанной работы. Так проект / отчет выглядит более завершенным, да и коллеженки часто спрашивают, когда им пересылаешь отчет - \"расскажи в двух словах, чего там\".\n",
    "    \n",
    "</div>"
   ]
  },
  {
   "cell_type": "markdown",
   "id": "909cee9c",
   "metadata": {},
   "source": [
    "**Вывод:**\n",
    "- за последние 20 лет каждый год появлялось, в среднем, по 40 книг;\n",
    "- cамые популярные по числу отзывов книги: Мемуары гейши(8 отзывов и средняя оценка 4.14) и Сумерки(7 и 3.66);\n",
    "- самые выпускающее издательство - Penguin (Penguin Books + Penguin Classics) - выпустили 66 книг;\n",
    "- лучшие писатели по среднему рейтингу книг - Джоан Роалинг, Маркус Зусак и Джон Толкин;\n",
    "- среди самых активных пользователей (тех, кто поставил больше 50 оценок) среднее количество написанных отзывов равно 24.33 - то есть менее, чем на каждую вторую оцененную книгу"
   ]
  },
  {
   "cell_type": "markdown",
   "id": "161bca51",
   "metadata": {},
   "source": [
    "<div class=\"alert alert-success\">\n",
    "<b>Комментарий ревьюера v.2</b> \n",
    "    \n",
    "👍 <b>Запрос 5:</b> Вышло - отлично, спасибо!\n",
    "</div>"
   ]
  }
 ],
 "metadata": {
  "ExecuteTimeLog": [
   {
    "duration": 606,
    "start_time": "2022-03-04T10:48:24.190Z"
   },
   {
    "duration": 350,
    "start_time": "2022-03-04T10:48:24.798Z"
   },
   {
    "duration": 88,
    "start_time": "2022-03-04T10:48:25.150Z"
   },
   {
    "duration": 117,
    "start_time": "2022-03-04T10:48:25.240Z"
   },
   {
    "duration": 105,
    "start_time": "2022-03-04T10:48:25.359Z"
   },
   {
    "duration": 85,
    "start_time": "2022-03-04T10:48:25.466Z"
   },
   {
    "duration": 84,
    "start_time": "2022-03-04T10:48:25.553Z"
   },
   {
    "duration": 82,
    "start_time": "2022-03-04T10:48:25.639Z"
   },
   {
    "duration": 102,
    "start_time": "2022-03-04T10:48:25.722Z"
   },
   {
    "duration": 84,
    "start_time": "2022-03-04T10:48:25.826Z"
   },
   {
    "duration": 97,
    "start_time": "2022-03-04T10:48:25.912Z"
   },
   {
    "duration": 89,
    "start_time": "2022-03-04T10:48:26.011Z"
   },
   {
    "duration": 119,
    "start_time": "2022-03-04T10:53:14.865Z"
   },
   {
    "duration": 142,
    "start_time": "2022-03-04T10:53:17.911Z"
   },
   {
    "duration": 132,
    "start_time": "2022-03-04T10:53:26.344Z"
   },
   {
    "duration": 93,
    "start_time": "2022-03-04T10:55:22.360Z"
   },
   {
    "duration": 90,
    "start_time": "2022-03-04T10:55:25.144Z"
   },
   {
    "duration": 931,
    "start_time": "2022-03-04T11:10:27.477Z"
   },
   {
    "duration": 41,
    "start_time": "2022-03-04T11:10:29.999Z"
   },
   {
    "duration": 55,
    "start_time": "2022-03-04T11:11:04.659Z"
   },
   {
    "duration": 18,
    "start_time": "2022-03-04T11:11:05.073Z"
   },
   {
    "duration": 37,
    "start_time": "2022-03-04T11:11:05.504Z"
   },
   {
    "duration": 28,
    "start_time": "2022-03-04T11:11:05.887Z"
   },
   {
    "duration": 16,
    "start_time": "2022-03-04T11:11:06.469Z"
   },
   {
    "duration": 15,
    "start_time": "2022-03-04T11:12:45.333Z"
   },
   {
    "duration": 16,
    "start_time": "2022-03-04T11:12:45.603Z"
   },
   {
    "duration": 40,
    "start_time": "2022-03-04T11:12:48.198Z"
   },
   {
    "duration": 399,
    "start_time": "2022-03-04T11:13:31.348Z"
   },
   {
    "duration": 38,
    "start_time": "2022-03-04T11:13:55.803Z"
   },
   {
    "duration": 36,
    "start_time": "2022-03-04T11:15:05.608Z"
   },
   {
    "duration": 43,
    "start_time": "2022-03-04T11:15:12.628Z"
   },
   {
    "duration": 15733,
    "start_time": "2022-03-04T11:16:32.593Z"
   },
   {
    "duration": 27,
    "start_time": "2022-03-04T11:17:46.178Z"
   },
   {
    "duration": 43,
    "start_time": "2022-03-04T11:18:11.690Z"
   },
   {
    "duration": 18,
    "start_time": "2022-03-04T11:21:03.382Z"
   },
   {
    "duration": 16,
    "start_time": "2022-03-04T11:21:13.615Z"
   },
   {
    "duration": 76,
    "start_time": "2022-03-04T11:21:28.750Z"
   },
   {
    "duration": 328,
    "start_time": "2022-03-04T11:23:09.250Z"
   },
   {
    "duration": 304,
    "start_time": "2022-03-04T11:23:16.806Z"
   },
   {
    "duration": 300,
    "start_time": "2022-03-04T11:24:28.783Z"
   },
   {
    "duration": 287,
    "start_time": "2022-03-04T11:24:46.463Z"
   },
   {
    "duration": 20,
    "start_time": "2022-03-04T11:33:49.269Z"
   },
   {
    "duration": 36,
    "start_time": "2022-03-04T11:51:20.138Z"
   },
   {
    "duration": 597,
    "start_time": "2022-03-04T12:04:40.240Z"
   },
   {
    "duration": 24,
    "start_time": "2022-03-04T12:04:40.839Z"
   },
   {
    "duration": 302,
    "start_time": "2022-03-04T12:04:40.865Z"
   },
   {
    "duration": 79,
    "start_time": "2022-03-04T12:04:41.169Z"
   },
   {
    "duration": 111,
    "start_time": "2022-03-04T12:04:41.249Z"
   },
   {
    "duration": 94,
    "start_time": "2022-03-04T12:04:41.361Z"
   },
   {
    "duration": 79,
    "start_time": "2022-03-04T12:04:41.456Z"
   },
   {
    "duration": 74,
    "start_time": "2022-03-04T12:04:41.537Z"
   },
   {
    "duration": 76,
    "start_time": "2022-03-04T12:04:41.613Z"
   },
   {
    "duration": 95,
    "start_time": "2022-03-04T12:04:41.690Z"
   },
   {
    "duration": 79,
    "start_time": "2022-03-04T12:04:41.786Z"
   },
   {
    "duration": 80,
    "start_time": "2022-03-04T12:04:41.867Z"
   },
   {
    "duration": 78,
    "start_time": "2022-03-04T12:04:41.949Z"
   },
   {
    "duration": 122,
    "start_time": "2022-03-04T12:05:17.522Z"
   },
   {
    "duration": 117,
    "start_time": "2022-03-04T12:05:26.258Z"
   },
   {
    "duration": 324,
    "start_time": "2022-03-04T12:09:22.522Z"
   },
   {
    "duration": 283,
    "start_time": "2022-03-04T12:09:27.564Z"
   },
   {
    "duration": 263,
    "start_time": "2022-03-04T12:09:41.419Z"
   },
   {
    "duration": 253,
    "start_time": "2022-03-04T12:09:58.892Z"
   },
   {
    "duration": 110,
    "start_time": "2022-03-04T12:10:09.995Z"
   },
   {
    "duration": 109,
    "start_time": "2022-03-04T12:10:12.906Z"
   },
   {
    "duration": 112,
    "start_time": "2022-03-04T12:10:17.070Z"
   },
   {
    "duration": 111,
    "start_time": "2022-03-04T12:10:19.238Z"
   },
   {
    "duration": 109,
    "start_time": "2022-03-04T12:10:26.445Z"
   },
   {
    "duration": 81,
    "start_time": "2022-03-04T12:11:40.303Z"
   },
   {
    "duration": 78,
    "start_time": "2022-03-04T12:11:50.847Z"
   },
   {
    "duration": 119,
    "start_time": "2022-03-04T12:13:25.206Z"
   },
   {
    "duration": 121,
    "start_time": "2022-03-04T12:13:28.878Z"
   },
   {
    "duration": 5,
    "start_time": "2022-03-04T12:16:26.966Z"
   },
   {
    "duration": 4,
    "start_time": "2022-03-04T12:18:28.303Z"
   },
   {
    "duration": 270,
    "start_time": "2022-03-04T12:20:36.095Z"
   },
   {
    "duration": 308,
    "start_time": "2022-03-04T12:20:48.077Z"
   },
   {
    "duration": 265,
    "start_time": "2022-03-04T12:21:27.136Z"
   },
   {
    "duration": 330,
    "start_time": "2022-03-04T12:21:35.392Z"
   },
   {
    "duration": 84,
    "start_time": "2022-03-04T12:21:38.456Z"
   },
   {
    "duration": 344,
    "start_time": "2022-03-04T12:24:56.376Z"
   },
   {
    "duration": 83,
    "start_time": "2022-03-04T12:25:03.728Z"
   },
   {
    "duration": 262,
    "start_time": "2022-03-04T12:28:14.439Z"
   },
   {
    "duration": 261,
    "start_time": "2022-03-04T12:28:44.017Z"
   },
   {
    "duration": 264,
    "start_time": "2022-03-04T12:28:54.228Z"
   },
   {
    "duration": 285,
    "start_time": "2022-03-04T12:29:21.697Z"
   },
   {
    "duration": 256,
    "start_time": "2022-03-04T12:31:52.755Z"
   },
   {
    "duration": 275,
    "start_time": "2022-03-04T12:32:05.597Z"
   },
   {
    "duration": 284,
    "start_time": "2022-03-04T12:32:12.915Z"
   },
   {
    "duration": 270,
    "start_time": "2022-03-04T12:32:18.605Z"
   },
   {
    "duration": 85,
    "start_time": "2022-03-04T12:32:25.588Z"
   },
   {
    "duration": 260,
    "start_time": "2022-03-04T12:32:40.395Z"
   },
   {
    "duration": 86,
    "start_time": "2022-03-04T12:32:43.348Z"
   },
   {
    "duration": 89,
    "start_time": "2022-03-04T12:33:32.163Z"
   },
   {
    "duration": 286,
    "start_time": "2022-03-04T12:33:53.356Z"
   },
   {
    "duration": 86,
    "start_time": "2022-03-04T12:34:14.453Z"
   },
   {
    "duration": 83,
    "start_time": "2022-03-04T12:37:07.013Z"
   },
   {
    "duration": 579,
    "start_time": "2022-03-04T12:37:24.877Z"
   },
   {
    "duration": 27,
    "start_time": "2022-03-04T12:37:25.458Z"
   },
   {
    "duration": 282,
    "start_time": "2022-03-04T12:37:25.487Z"
   },
   {
    "duration": 72,
    "start_time": "2022-03-04T12:37:25.771Z"
   },
   {
    "duration": 101,
    "start_time": "2022-03-04T12:37:25.844Z"
   },
   {
    "duration": 89,
    "start_time": "2022-03-04T12:37:25.947Z"
   },
   {
    "duration": 71,
    "start_time": "2022-03-04T12:37:26.038Z"
   },
   {
    "duration": 70,
    "start_time": "2022-03-04T12:37:26.111Z"
   },
   {
    "duration": 69,
    "start_time": "2022-03-04T12:37:26.183Z"
   },
   {
    "duration": 90,
    "start_time": "2022-03-04T12:37:26.253Z"
   },
   {
    "duration": 82,
    "start_time": "2022-03-04T12:37:26.345Z"
   },
   {
    "duration": 73,
    "start_time": "2022-03-04T12:37:26.429Z"
   },
   {
    "duration": 74,
    "start_time": "2022-03-04T12:37:26.503Z"
   },
   {
    "duration": 88,
    "start_time": "2022-03-04T12:37:26.579Z"
   },
   {
    "duration": 78,
    "start_time": "2022-03-04T12:37:26.669Z"
   },
   {
    "duration": 80,
    "start_time": "2022-03-04T12:37:26.749Z"
   },
   {
    "duration": 72,
    "start_time": "2022-03-04T12:37:26.830Z"
   },
   {
    "duration": 76,
    "start_time": "2022-03-04T12:39:03.617Z"
   },
   {
    "duration": 716,
    "start_time": "2022-03-04T12:39:17.155Z"
   },
   {
    "duration": 26,
    "start_time": "2022-03-04T12:39:17.874Z"
   },
   {
    "duration": 309,
    "start_time": "2022-03-04T12:39:17.902Z"
   },
   {
    "duration": 79,
    "start_time": "2022-03-04T12:39:18.213Z"
   },
   {
    "duration": 108,
    "start_time": "2022-03-04T12:39:18.294Z"
   },
   {
    "duration": 94,
    "start_time": "2022-03-04T12:39:18.404Z"
   },
   {
    "duration": 78,
    "start_time": "2022-03-04T12:39:18.500Z"
   },
   {
    "duration": 77,
    "start_time": "2022-03-04T12:39:18.581Z"
   },
   {
    "duration": 76,
    "start_time": "2022-03-04T12:39:18.661Z"
   },
   {
    "duration": 98,
    "start_time": "2022-03-04T12:39:18.739Z"
   },
   {
    "duration": 89,
    "start_time": "2022-03-04T12:39:18.839Z"
   },
   {
    "duration": 79,
    "start_time": "2022-03-04T12:39:18.930Z"
   },
   {
    "duration": 81,
    "start_time": "2022-03-04T12:39:19.011Z"
   },
   {
    "duration": 90,
    "start_time": "2022-03-04T12:39:19.094Z"
   },
   {
    "duration": 83,
    "start_time": "2022-03-04T12:39:19.186Z"
   },
   {
    "duration": 87,
    "start_time": "2022-03-04T12:39:19.272Z"
   },
   {
    "duration": 79,
    "start_time": "2022-03-04T12:39:19.361Z"
   },
   {
    "duration": 300,
    "start_time": "2022-03-04T12:43:32.631Z"
   },
   {
    "duration": 295,
    "start_time": "2022-03-04T12:43:45.697Z"
   },
   {
    "duration": 30,
    "start_time": "2022-03-04T12:44:08.763Z"
   },
   {
    "duration": 21,
    "start_time": "2022-03-04T12:53:16.638Z"
   },
   {
    "duration": 603,
    "start_time": "2022-03-04T15:19:11.405Z"
   },
   {
    "duration": 41,
    "start_time": "2022-03-04T15:19:12.010Z"
   },
   {
    "duration": 299,
    "start_time": "2022-03-04T15:19:12.053Z"
   },
   {
    "duration": 78,
    "start_time": "2022-03-04T15:19:12.353Z"
   },
   {
    "duration": 108,
    "start_time": "2022-03-04T15:19:12.433Z"
   },
   {
    "duration": 92,
    "start_time": "2022-03-04T15:19:12.543Z"
   },
   {
    "duration": 76,
    "start_time": "2022-03-04T15:19:12.637Z"
   },
   {
    "duration": 75,
    "start_time": "2022-03-04T15:19:12.714Z"
   },
   {
    "duration": 76,
    "start_time": "2022-03-04T15:19:12.792Z"
   },
   {
    "duration": 90,
    "start_time": "2022-03-04T15:19:12.870Z"
   },
   {
    "duration": 89,
    "start_time": "2022-03-04T15:19:12.962Z"
   },
   {
    "duration": 78,
    "start_time": "2022-03-04T15:19:13.053Z"
   },
   {
    "duration": 80,
    "start_time": "2022-03-04T15:19:13.133Z"
   },
   {
    "duration": 90,
    "start_time": "2022-03-04T15:19:13.215Z"
   },
   {
    "duration": 81,
    "start_time": "2022-03-04T15:19:13.307Z"
   },
   {
    "duration": 86,
    "start_time": "2022-03-04T15:19:13.389Z"
   },
   {
    "duration": 77,
    "start_time": "2022-03-04T15:19:13.477Z"
   },
   {
    "duration": 111,
    "start_time": "2022-03-04T15:20:13.442Z"
   },
   {
    "duration": 109,
    "start_time": "2022-03-04T15:20:15.849Z"
   }
  ],
  "kernelspec": {
   "display_name": "Python 3 (ipykernel)",
   "language": "python",
   "name": "python3"
  },
  "language_info": {
   "codemirror_mode": {
    "name": "ipython",
    "version": 3
   },
   "file_extension": ".py",
   "mimetype": "text/x-python",
   "name": "python",
   "nbconvert_exporter": "python",
   "pygments_lexer": "ipython3",
   "version": "3.9.5"
  },
  "toc": {
   "base_numbering": 1,
   "nav_menu": {},
   "number_sections": true,
   "sideBar": true,
   "skip_h1_title": true,
   "title_cell": "Table of Contents",
   "title_sidebar": "Contents",
   "toc_cell": false,
   "toc_position": {},
   "toc_section_display": true,
   "toc_window_display": false
  }
 },
 "nbformat": 4,
 "nbformat_minor": 5
}
