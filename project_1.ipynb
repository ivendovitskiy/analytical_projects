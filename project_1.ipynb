{
 "cells": [
  {
   "cell_type": "markdown",
   "metadata": {},
   "source": [
    "# Исследование надёжности заёмщиков\n",
    "\n",
    "Заказчик — кредитный отдел банка. Нужно разобраться, влияет ли семейное положение и количество детей клиента на факт погашения кредита в срок. Входные данные от банка — статистика о платёжеспособности клиентов.\n",
    "\n",
    "Результаты исследования будут учтены при построении модели **кредитного скоринга** — специальной системы, которая оценивает способность потенциального заёмщика вернуть кредит банку."
   ]
  },
  {
   "cell_type": "markdown",
   "metadata": {},
   "source": [
    "## Шаг 1. Откройте файл с данными и изучите общую информацию"
   ]
  },
  {
   "cell_type": "code",
   "execution_count": 1,
   "metadata": {},
   "outputs": [
    {
     "data": {
      "text/html": [
       "<div>\n",
       "<style scoped>\n",
       "    .dataframe tbody tr th:only-of-type {\n",
       "        vertical-align: middle;\n",
       "    }\n",
       "\n",
       "    .dataframe tbody tr th {\n",
       "        vertical-align: top;\n",
       "    }\n",
       "\n",
       "    .dataframe thead th {\n",
       "        text-align: right;\n",
       "    }\n",
       "</style>\n",
       "<table border=\"1\" class=\"dataframe\">\n",
       "  <thead>\n",
       "    <tr style=\"text-align: right;\">\n",
       "      <th></th>\n",
       "      <th>children</th>\n",
       "      <th>days_employed</th>\n",
       "      <th>dob_years</th>\n",
       "      <th>education</th>\n",
       "      <th>education_id</th>\n",
       "      <th>family_status</th>\n",
       "      <th>family_status_id</th>\n",
       "      <th>gender</th>\n",
       "      <th>income_type</th>\n",
       "      <th>debt</th>\n",
       "      <th>total_income</th>\n",
       "      <th>purpose</th>\n",
       "    </tr>\n",
       "  </thead>\n",
       "  <tbody>\n",
       "    <tr>\n",
       "      <td>0</td>\n",
       "      <td>1</td>\n",
       "      <td>-8437.673028</td>\n",
       "      <td>42</td>\n",
       "      <td>высшее</td>\n",
       "      <td>0</td>\n",
       "      <td>женат / замужем</td>\n",
       "      <td>0</td>\n",
       "      <td>F</td>\n",
       "      <td>сотрудник</td>\n",
       "      <td>0</td>\n",
       "      <td>253875.639453</td>\n",
       "      <td>покупка жилья</td>\n",
       "    </tr>\n",
       "    <tr>\n",
       "      <td>1</td>\n",
       "      <td>1</td>\n",
       "      <td>-4024.803754</td>\n",
       "      <td>36</td>\n",
       "      <td>среднее</td>\n",
       "      <td>1</td>\n",
       "      <td>женат / замужем</td>\n",
       "      <td>0</td>\n",
       "      <td>F</td>\n",
       "      <td>сотрудник</td>\n",
       "      <td>0</td>\n",
       "      <td>112080.014102</td>\n",
       "      <td>приобретение автомобиля</td>\n",
       "    </tr>\n",
       "    <tr>\n",
       "      <td>2</td>\n",
       "      <td>0</td>\n",
       "      <td>-5623.422610</td>\n",
       "      <td>33</td>\n",
       "      <td>Среднее</td>\n",
       "      <td>1</td>\n",
       "      <td>женат / замужем</td>\n",
       "      <td>0</td>\n",
       "      <td>M</td>\n",
       "      <td>сотрудник</td>\n",
       "      <td>0</td>\n",
       "      <td>145885.952297</td>\n",
       "      <td>покупка жилья</td>\n",
       "    </tr>\n",
       "    <tr>\n",
       "      <td>3</td>\n",
       "      <td>3</td>\n",
       "      <td>-4124.747207</td>\n",
       "      <td>32</td>\n",
       "      <td>среднее</td>\n",
       "      <td>1</td>\n",
       "      <td>женат / замужем</td>\n",
       "      <td>0</td>\n",
       "      <td>M</td>\n",
       "      <td>сотрудник</td>\n",
       "      <td>0</td>\n",
       "      <td>267628.550329</td>\n",
       "      <td>дополнительное образование</td>\n",
       "    </tr>\n",
       "    <tr>\n",
       "      <td>4</td>\n",
       "      <td>0</td>\n",
       "      <td>340266.072047</td>\n",
       "      <td>53</td>\n",
       "      <td>среднее</td>\n",
       "      <td>1</td>\n",
       "      <td>гражданский брак</td>\n",
       "      <td>1</td>\n",
       "      <td>F</td>\n",
       "      <td>пенсионер</td>\n",
       "      <td>0</td>\n",
       "      <td>158616.077870</td>\n",
       "      <td>сыграть свадьбу</td>\n",
       "    </tr>\n",
       "    <tr>\n",
       "      <td>...</td>\n",
       "      <td>...</td>\n",
       "      <td>...</td>\n",
       "      <td>...</td>\n",
       "      <td>...</td>\n",
       "      <td>...</td>\n",
       "      <td>...</td>\n",
       "      <td>...</td>\n",
       "      <td>...</td>\n",
       "      <td>...</td>\n",
       "      <td>...</td>\n",
       "      <td>...</td>\n",
       "      <td>...</td>\n",
       "    </tr>\n",
       "    <tr>\n",
       "      <td>21520</td>\n",
       "      <td>1</td>\n",
       "      <td>-4529.316663</td>\n",
       "      <td>43</td>\n",
       "      <td>среднее</td>\n",
       "      <td>1</td>\n",
       "      <td>гражданский брак</td>\n",
       "      <td>1</td>\n",
       "      <td>F</td>\n",
       "      <td>компаньон</td>\n",
       "      <td>0</td>\n",
       "      <td>224791.862382</td>\n",
       "      <td>операции с жильем</td>\n",
       "    </tr>\n",
       "    <tr>\n",
       "      <td>21521</td>\n",
       "      <td>0</td>\n",
       "      <td>343937.404131</td>\n",
       "      <td>67</td>\n",
       "      <td>среднее</td>\n",
       "      <td>1</td>\n",
       "      <td>женат / замужем</td>\n",
       "      <td>0</td>\n",
       "      <td>F</td>\n",
       "      <td>пенсионер</td>\n",
       "      <td>0</td>\n",
       "      <td>155999.806512</td>\n",
       "      <td>сделка с автомобилем</td>\n",
       "    </tr>\n",
       "    <tr>\n",
       "      <td>21522</td>\n",
       "      <td>1</td>\n",
       "      <td>-2113.346888</td>\n",
       "      <td>38</td>\n",
       "      <td>среднее</td>\n",
       "      <td>1</td>\n",
       "      <td>гражданский брак</td>\n",
       "      <td>1</td>\n",
       "      <td>M</td>\n",
       "      <td>сотрудник</td>\n",
       "      <td>1</td>\n",
       "      <td>89672.561153</td>\n",
       "      <td>недвижимость</td>\n",
       "    </tr>\n",
       "    <tr>\n",
       "      <td>21523</td>\n",
       "      <td>3</td>\n",
       "      <td>-3112.481705</td>\n",
       "      <td>38</td>\n",
       "      <td>среднее</td>\n",
       "      <td>1</td>\n",
       "      <td>женат / замужем</td>\n",
       "      <td>0</td>\n",
       "      <td>M</td>\n",
       "      <td>сотрудник</td>\n",
       "      <td>1</td>\n",
       "      <td>244093.050500</td>\n",
       "      <td>на покупку своего автомобиля</td>\n",
       "    </tr>\n",
       "    <tr>\n",
       "      <td>21524</td>\n",
       "      <td>2</td>\n",
       "      <td>-1984.507589</td>\n",
       "      <td>40</td>\n",
       "      <td>среднее</td>\n",
       "      <td>1</td>\n",
       "      <td>женат / замужем</td>\n",
       "      <td>0</td>\n",
       "      <td>F</td>\n",
       "      <td>сотрудник</td>\n",
       "      <td>0</td>\n",
       "      <td>82047.418899</td>\n",
       "      <td>на покупку автомобиля</td>\n",
       "    </tr>\n",
       "  </tbody>\n",
       "</table>\n",
       "<p>21525 rows × 12 columns</p>\n",
       "</div>"
      ],
      "text/plain": [
       "       children  days_employed  dob_years education  education_id  \\\n",
       "0             1   -8437.673028         42    высшее             0   \n",
       "1             1   -4024.803754         36   среднее             1   \n",
       "2             0   -5623.422610         33   Среднее             1   \n",
       "3             3   -4124.747207         32   среднее             1   \n",
       "4             0  340266.072047         53   среднее             1   \n",
       "...         ...            ...        ...       ...           ...   \n",
       "21520         1   -4529.316663         43   среднее             1   \n",
       "21521         0  343937.404131         67   среднее             1   \n",
       "21522         1   -2113.346888         38   среднее             1   \n",
       "21523         3   -3112.481705         38   среднее             1   \n",
       "21524         2   -1984.507589         40   среднее             1   \n",
       "\n",
       "          family_status  family_status_id gender income_type  debt  \\\n",
       "0       женат / замужем                 0      F   сотрудник     0   \n",
       "1       женат / замужем                 0      F   сотрудник     0   \n",
       "2       женат / замужем                 0      M   сотрудник     0   \n",
       "3       женат / замужем                 0      M   сотрудник     0   \n",
       "4      гражданский брак                 1      F   пенсионер     0   \n",
       "...                 ...               ...    ...         ...   ...   \n",
       "21520  гражданский брак                 1      F   компаньон     0   \n",
       "21521   женат / замужем                 0      F   пенсионер     0   \n",
       "21522  гражданский брак                 1      M   сотрудник     1   \n",
       "21523   женат / замужем                 0      M   сотрудник     1   \n",
       "21524   женат / замужем                 0      F   сотрудник     0   \n",
       "\n",
       "        total_income                       purpose  \n",
       "0      253875.639453                 покупка жилья  \n",
       "1      112080.014102       приобретение автомобиля  \n",
       "2      145885.952297                 покупка жилья  \n",
       "3      267628.550329    дополнительное образование  \n",
       "4      158616.077870               сыграть свадьбу  \n",
       "...              ...                           ...  \n",
       "21520  224791.862382             операции с жильем  \n",
       "21521  155999.806512          сделка с автомобилем  \n",
       "21522   89672.561153                  недвижимость  \n",
       "21523  244093.050500  на покупку своего автомобиля  \n",
       "21524   82047.418899         на покупку автомобиля  \n",
       "\n",
       "[21525 rows x 12 columns]"
      ]
     },
     "metadata": {},
     "output_type": "display_data"
    },
    {
     "name": "stdout",
     "output_type": "stream",
     "text": [
      "<class 'pandas.core.frame.DataFrame'>\n",
      "RangeIndex: 21525 entries, 0 to 21524\n",
      "Data columns (total 12 columns):\n",
      "children            21525 non-null int64\n",
      "days_employed       19351 non-null float64\n",
      "dob_years           21525 non-null int64\n",
      "education           21525 non-null object\n",
      "education_id        21525 non-null int64\n",
      "family_status       21525 non-null object\n",
      "family_status_id    21525 non-null int64\n",
      "gender              21525 non-null object\n",
      "income_type         21525 non-null object\n",
      "debt                21525 non-null int64\n",
      "total_income        19351 non-null float64\n",
      "purpose             21525 non-null object\n",
      "dtypes: float64(2), int64(5), object(5)\n",
      "memory usage: 2.0+ MB\n"
     ]
    },
    {
     "data": {
      "text/plain": [
       "children               0\n",
       "days_employed       2174\n",
       "dob_years              0\n",
       "education              0\n",
       "education_id           0\n",
       "family_status          0\n",
       "family_status_id       0\n",
       "gender                 0\n",
       "income_type            0\n",
       "debt                   0\n",
       "total_income        2174\n",
       "purpose                0\n",
       "dtype: int64"
      ]
     },
     "execution_count": 1,
     "metadata": {},
     "output_type": "execute_result"
    }
   ],
   "source": [
    "import pandas as pd\n",
    "import numpy as np\n",
    "\n",
    "data = pd.read_csv('/datasets/data.csv')\n",
    "display(data)\n",
    "data.info() #столбцы 'days_employed' и 'total_income' имеют отличные от других столбцов значения\n",
    "data.isna().sum()\n",
    "#2174 пропущенных значений в столбцах 'days_employed' и 'total_income' (ожидаемые пропущенные значения - NaN)\n",
    "#Данные пропуски - пропуски в количественных переменных, поэтому заменим их характерными значениями"
   ]
  },
  {
   "cell_type": "markdown",
   "metadata": {},
   "source": [
    "**Вывод**\n",
    "\n",
    "Как мы видим, пропуски есть в столбцах 'days_emploted' и 'total_income'. Прежде чем начинать работать с данными, нужно заполнить данные пропуски"
   ]
  },
  {
   "cell_type": "markdown",
   "metadata": {},
   "source": [
    "## Шаг 2. Предобработка данных"
   ]
  },
  {
   "cell_type": "markdown",
   "metadata": {},
   "source": [
    "### Обработка пропусков"
   ]
  },
  {
   "cell_type": "markdown",
   "metadata": {},
   "source": [
    "При первом ознакомлении заметно, что данные в столбце 'days_employed' встречаются как положительные, так и отрицательные, поэтому рассмотрим их по порядку\n",
    "\n"
   ]
  },
  {
   "cell_type": "code",
   "execution_count": 2,
   "metadata": {},
   "outputs": [
    {
     "data": {
      "text/plain": [
       "328728.72060451825"
      ]
     },
     "execution_count": 2,
     "metadata": {},
     "output_type": "execute_result"
    }
   ],
   "source": [
    "#Положительные значения:\n",
    "data[data['days_employed'] > 0]['days_employed'].min()"
   ]
  },
  {
   "cell_type": "markdown",
   "metadata": {},
   "source": [
    "328728 дней - это более 900 лет - многовато для минимального значения стажа (среди положительных значений). Значит здесь какая-то ошибка. Предположим, что это связано с тем, что считались не дни, а часы: значит, положительные значения в данном столбце нужно разделить на 24"
   ]
  },
  {
   "cell_type": "code",
   "execution_count": 3,
   "metadata": {},
   "outputs": [
    {
     "data": {
      "text/plain": [
       "16739.80835313875"
      ]
     },
     "execution_count": 3,
     "metadata": {},
     "output_type": "execute_result"
    }
   ],
   "source": [
    "data.loc[data['days_employed'] > 0, 'days_employed'] /= 24\n",
    "data['days_employed'].max()"
   ]
  },
  {
   "cell_type": "markdown",
   "metadata": {},
   "source": [
    "16749 дней - это почти 46 лет - звучит уже лучше. Будем обрабатывать значения дальше, на очереди отрицательные.\n",
    "\n",
    "Как мы понимаем, количество дней отрицательным быть не может, значит ошибка в том, как эти дни считаются (то есть в системе подсчета). Для начала попробуем взять эти значения по модулю и поссмотреть, что из этого выйдет: "
   ]
  },
  {
   "cell_type": "code",
   "execution_count": 4,
   "metadata": {},
   "outputs": [
    {
     "data": {
      "text/plain": [
       "18388.949900568383"
      ]
     },
     "execution_count": 4,
     "metadata": {},
     "output_type": "execute_result"
    }
   ],
   "source": [
    "#Отрицательные значения (могли появиться вследствие иной системы подсчета часов) возьмем по модулю:\n",
    "abs(data[data['days_employed'] < 0]['days_employed'].min())"
   ]
  },
  {
   "cell_type": "markdown",
   "metadata": {},
   "source": [
    "18388 дней - 50 с небольшим лет - максимальный стаж (среди отрицательных значений). В это верится больше, но у данных значений нужно поменять знак"
   ]
  },
  {
   "cell_type": "code",
   "execution_count": 5,
   "metadata": {},
   "outputs": [],
   "source": [
    "data.loc[data['days_employed'] < 0, 'days_employed'] *= (-1)"
   ]
  },
  {
   "cell_type": "markdown",
   "metadata": {},
   "source": [
    "Теперь найдем минимальное и максимальное значения в обновленных данных:"
   ]
  },
  {
   "cell_type": "code",
   "execution_count": 6,
   "metadata": {},
   "outputs": [
    {
     "name": "stdout",
     "output_type": "stream",
     "text": [
      "Минимальное значение стажа: 24.14163324048118 дней\n",
      "Максимальное значение стажа: 18388.949900568383 дней = 50 лет\n"
     ]
    }
   ],
   "source": [
    "print('Минимальное значение стажа: {0} дней\\nМаксимальное значение стажа: {1} дней = {2:.0f} лет'.format(data['days_employed'].min(), data['days_employed'].max(), data['days_employed'].max() / 365))"
   ]
  },
  {
   "cell_type": "markdown",
   "metadata": {},
   "source": [
    "18388 дней или 50 лет стажа - звучит более правдоподобно"
   ]
  },
  {
   "cell_type": "markdown",
   "metadata": {},
   "source": [
    "Прежде чем продолжить разбираться с пропусками в столбце 'days_employed', рассмотрим значения в столбце 'dob_years' (возраст клиента)"
   ]
  },
  {
   "cell_type": "code",
   "execution_count": 7,
   "metadata": {},
   "outputs": [
    {
     "data": {
      "text/plain": [
       "35    617\n",
       "40    609\n",
       "41    607\n",
       "34    603\n",
       "38    598\n",
       "42    597\n",
       "33    581\n",
       "39    573\n",
       "31    560\n",
       "36    555\n",
       "44    547\n",
       "29    545\n",
       "30    540\n",
       "48    538\n",
       "37    537\n",
       "50    514\n",
       "43    513\n",
       "32    510\n",
       "49    508\n",
       "28    503\n",
       "45    497\n",
       "27    493\n",
       "56    487\n",
       "52    484\n",
       "47    480\n",
       "54    479\n",
       "46    475\n",
       "58    461\n",
       "57    460\n",
       "53    459\n",
       "51    448\n",
       "59    444\n",
       "55    443\n",
       "26    408\n",
       "60    377\n",
       "25    357\n",
       "61    355\n",
       "62    352\n",
       "63    269\n",
       "64    265\n",
       "24    264\n",
       "23    254\n",
       "65    194\n",
       "66    183\n",
       "22    183\n",
       "67    167\n",
       "21    111\n",
       "0     101\n",
       "68     99\n",
       "69     85\n",
       "70     65\n",
       "71     58\n",
       "20     51\n",
       "72     33\n",
       "19     14\n",
       "73      8\n",
       "74      6\n",
       "75      1\n",
       "Name: dob_years, dtype: int64"
      ]
     },
     "execution_count": 7,
     "metadata": {},
     "output_type": "execute_result"
    }
   ],
   "source": [
    "data['dob_years'].value_counts() #как мы видим, в наших данных встречаются клиенты с возрастом 0 аж 101 раз"
   ]
  },
  {
   "cell_type": "markdown",
   "metadata": {},
   "source": [
    "Рассмотрим строчки, в которых значение возраста равно 0. Возможно заметим в них какую-то связь:"
   ]
  },
  {
   "cell_type": "code",
   "execution_count": 8,
   "metadata": {},
   "outputs": [
    {
     "data": {
      "text/html": [
       "<div>\n",
       "<style scoped>\n",
       "    .dataframe tbody tr th:only-of-type {\n",
       "        vertical-align: middle;\n",
       "    }\n",
       "\n",
       "    .dataframe tbody tr th {\n",
       "        vertical-align: top;\n",
       "    }\n",
       "\n",
       "    .dataframe thead th {\n",
       "        text-align: right;\n",
       "    }\n",
       "</style>\n",
       "<table border=\"1\" class=\"dataframe\">\n",
       "  <thead>\n",
       "    <tr style=\"text-align: right;\">\n",
       "      <th></th>\n",
       "      <th>children</th>\n",
       "      <th>days_employed</th>\n",
       "      <th>dob_years</th>\n",
       "      <th>education</th>\n",
       "      <th>education_id</th>\n",
       "      <th>family_status</th>\n",
       "      <th>family_status_id</th>\n",
       "      <th>gender</th>\n",
       "      <th>income_type</th>\n",
       "      <th>debt</th>\n",
       "      <th>total_income</th>\n",
       "      <th>purpose</th>\n",
       "    </tr>\n",
       "  </thead>\n",
       "  <tbody>\n",
       "    <tr>\n",
       "      <td>99</td>\n",
       "      <td>0</td>\n",
       "      <td>14439.234121</td>\n",
       "      <td>0</td>\n",
       "      <td>Среднее</td>\n",
       "      <td>1</td>\n",
       "      <td>женат / замужем</td>\n",
       "      <td>0</td>\n",
       "      <td>F</td>\n",
       "      <td>пенсионер</td>\n",
       "      <td>0</td>\n",
       "      <td>71291.522491</td>\n",
       "      <td>автомобиль</td>\n",
       "    </tr>\n",
       "    <tr>\n",
       "      <td>149</td>\n",
       "      <td>0</td>\n",
       "      <td>2664.273168</td>\n",
       "      <td>0</td>\n",
       "      <td>среднее</td>\n",
       "      <td>1</td>\n",
       "      <td>в разводе</td>\n",
       "      <td>3</td>\n",
       "      <td>F</td>\n",
       "      <td>сотрудник</td>\n",
       "      <td>0</td>\n",
       "      <td>70176.435951</td>\n",
       "      <td>операции с жильем</td>\n",
       "    </tr>\n",
       "    <tr>\n",
       "      <td>270</td>\n",
       "      <td>3</td>\n",
       "      <td>1872.663186</td>\n",
       "      <td>0</td>\n",
       "      <td>среднее</td>\n",
       "      <td>1</td>\n",
       "      <td>женат / замужем</td>\n",
       "      <td>0</td>\n",
       "      <td>F</td>\n",
       "      <td>сотрудник</td>\n",
       "      <td>0</td>\n",
       "      <td>102166.458894</td>\n",
       "      <td>ремонт жилью</td>\n",
       "    </tr>\n",
       "    <tr>\n",
       "      <td>578</td>\n",
       "      <td>0</td>\n",
       "      <td>16577.356876</td>\n",
       "      <td>0</td>\n",
       "      <td>среднее</td>\n",
       "      <td>1</td>\n",
       "      <td>женат / замужем</td>\n",
       "      <td>0</td>\n",
       "      <td>F</td>\n",
       "      <td>пенсионер</td>\n",
       "      <td>0</td>\n",
       "      <td>97620.687042</td>\n",
       "      <td>строительство собственной недвижимости</td>\n",
       "    </tr>\n",
       "    <tr>\n",
       "      <td>1040</td>\n",
       "      <td>0</td>\n",
       "      <td>1158.029561</td>\n",
       "      <td>0</td>\n",
       "      <td>высшее</td>\n",
       "      <td>0</td>\n",
       "      <td>в разводе</td>\n",
       "      <td>3</td>\n",
       "      <td>F</td>\n",
       "      <td>компаньон</td>\n",
       "      <td>0</td>\n",
       "      <td>303994.134987</td>\n",
       "      <td>свой автомобиль</td>\n",
       "    </tr>\n",
       "    <tr>\n",
       "      <td>...</td>\n",
       "      <td>...</td>\n",
       "      <td>...</td>\n",
       "      <td>...</td>\n",
       "      <td>...</td>\n",
       "      <td>...</td>\n",
       "      <td>...</td>\n",
       "      <td>...</td>\n",
       "      <td>...</td>\n",
       "      <td>...</td>\n",
       "      <td>...</td>\n",
       "      <td>...</td>\n",
       "      <td>...</td>\n",
       "    </tr>\n",
       "    <tr>\n",
       "      <td>19829</td>\n",
       "      <td>0</td>\n",
       "      <td>NaN</td>\n",
       "      <td>0</td>\n",
       "      <td>среднее</td>\n",
       "      <td>1</td>\n",
       "      <td>женат / замужем</td>\n",
       "      <td>0</td>\n",
       "      <td>F</td>\n",
       "      <td>сотрудник</td>\n",
       "      <td>0</td>\n",
       "      <td>NaN</td>\n",
       "      <td>жилье</td>\n",
       "    </tr>\n",
       "    <tr>\n",
       "      <td>20462</td>\n",
       "      <td>0</td>\n",
       "      <td>14113.952856</td>\n",
       "      <td>0</td>\n",
       "      <td>среднее</td>\n",
       "      <td>1</td>\n",
       "      <td>женат / замужем</td>\n",
       "      <td>0</td>\n",
       "      <td>F</td>\n",
       "      <td>пенсионер</td>\n",
       "      <td>0</td>\n",
       "      <td>259193.920299</td>\n",
       "      <td>покупка своего жилья</td>\n",
       "    </tr>\n",
       "    <tr>\n",
       "      <td>20577</td>\n",
       "      <td>0</td>\n",
       "      <td>13822.552977</td>\n",
       "      <td>0</td>\n",
       "      <td>среднее</td>\n",
       "      <td>1</td>\n",
       "      <td>Не женат / не замужем</td>\n",
       "      <td>4</td>\n",
       "      <td>F</td>\n",
       "      <td>пенсионер</td>\n",
       "      <td>0</td>\n",
       "      <td>129788.762899</td>\n",
       "      <td>недвижимость</td>\n",
       "    </tr>\n",
       "    <tr>\n",
       "      <td>21179</td>\n",
       "      <td>2</td>\n",
       "      <td>108.967042</td>\n",
       "      <td>0</td>\n",
       "      <td>высшее</td>\n",
       "      <td>0</td>\n",
       "      <td>женат / замужем</td>\n",
       "      <td>0</td>\n",
       "      <td>M</td>\n",
       "      <td>компаньон</td>\n",
       "      <td>0</td>\n",
       "      <td>240702.007382</td>\n",
       "      <td>строительство жилой недвижимости</td>\n",
       "    </tr>\n",
       "    <tr>\n",
       "      <td>21313</td>\n",
       "      <td>0</td>\n",
       "      <td>1268.487728</td>\n",
       "      <td>0</td>\n",
       "      <td>среднее</td>\n",
       "      <td>1</td>\n",
       "      <td>Не женат / не замужем</td>\n",
       "      <td>4</td>\n",
       "      <td>M</td>\n",
       "      <td>сотрудник</td>\n",
       "      <td>0</td>\n",
       "      <td>152419.184851</td>\n",
       "      <td>операции с жильем</td>\n",
       "    </tr>\n",
       "  </tbody>\n",
       "</table>\n",
       "<p>101 rows × 12 columns</p>\n",
       "</div>"
      ],
      "text/plain": [
       "       children  days_employed  dob_years education  education_id  \\\n",
       "99            0   14439.234121          0   Среднее             1   \n",
       "149           0    2664.273168          0   среднее             1   \n",
       "270           3    1872.663186          0   среднее             1   \n",
       "578           0   16577.356876          0   среднее             1   \n",
       "1040          0    1158.029561          0    высшее             0   \n",
       "...         ...            ...        ...       ...           ...   \n",
       "19829         0            NaN          0   среднее             1   \n",
       "20462         0   14113.952856          0   среднее             1   \n",
       "20577         0   13822.552977          0   среднее             1   \n",
       "21179         2     108.967042          0    высшее             0   \n",
       "21313         0    1268.487728          0   среднее             1   \n",
       "\n",
       "               family_status  family_status_id gender income_type  debt  \\\n",
       "99           женат / замужем                 0      F   пенсионер     0   \n",
       "149                в разводе                 3      F   сотрудник     0   \n",
       "270          женат / замужем                 0      F   сотрудник     0   \n",
       "578          женат / замужем                 0      F   пенсионер     0   \n",
       "1040               в разводе                 3      F   компаньон     0   \n",
       "...                      ...               ...    ...         ...   ...   \n",
       "19829        женат / замужем                 0      F   сотрудник     0   \n",
       "20462        женат / замужем                 0      F   пенсионер     0   \n",
       "20577  Не женат / не замужем                 4      F   пенсионер     0   \n",
       "21179        женат / замужем                 0      M   компаньон     0   \n",
       "21313  Не женат / не замужем                 4      M   сотрудник     0   \n",
       "\n",
       "        total_income                                 purpose  \n",
       "99      71291.522491                              автомобиль  \n",
       "149     70176.435951                       операции с жильем  \n",
       "270    102166.458894                            ремонт жилью  \n",
       "578     97620.687042  строительство собственной недвижимости  \n",
       "1040   303994.134987                         свой автомобиль  \n",
       "...              ...                                     ...  \n",
       "19829            NaN                                   жилье  \n",
       "20462  259193.920299                    покупка своего жилья  \n",
       "20577  129788.762899                            недвижимость  \n",
       "21179  240702.007382        строительство жилой недвижимости  \n",
       "21313  152419.184851                       операции с жильем  \n",
       "\n",
       "[101 rows x 12 columns]"
      ]
     },
     "execution_count": 8,
     "metadata": {},
     "output_type": "execute_result"
    }
   ],
   "source": [
    "data[data['dob_years'] == 0]"
   ]
  },
  {
   "cell_type": "markdown",
   "metadata": {},
   "source": [
    "Данные идут в разнобой: 'ноль' стоит как у пенсионеров, так и у сотрудников; как у женщин, так и у мужчин; у представителей разного уровня образований - то куда относить этот 'ноль' непонятно, так что удалим данные строчки."
   ]
  },
  {
   "cell_type": "code",
   "execution_count": 9,
   "metadata": {},
   "outputs": [],
   "source": [
    "data = data.drop(data.index[data['dob_years'] == 0])"
   ]
  },
  {
   "cell_type": "markdown",
   "metadata": {},
   "source": [
    "Вернемся к заполнению пропусков в столбце 'days_employed'\n",
    "\n",
    "Создадим столбец с показателем количества отработанных дней за год в среднем для каждого заемщика"
   ]
  },
  {
   "cell_type": "code",
   "execution_count": 10,
   "metadata": {
    "scrolled": true
   },
   "outputs": [
    {
     "data": {
      "text/html": [
       "<div>\n",
       "<style scoped>\n",
       "    .dataframe tbody tr th:only-of-type {\n",
       "        vertical-align: middle;\n",
       "    }\n",
       "\n",
       "    .dataframe tbody tr th {\n",
       "        vertical-align: top;\n",
       "    }\n",
       "\n",
       "    .dataframe thead th {\n",
       "        text-align: right;\n",
       "    }\n",
       "</style>\n",
       "<table border=\"1\" class=\"dataframe\">\n",
       "  <thead>\n",
       "    <tr style=\"text-align: right;\">\n",
       "      <th></th>\n",
       "      <th>children</th>\n",
       "      <th>days_employed</th>\n",
       "      <th>dob_years</th>\n",
       "      <th>education</th>\n",
       "      <th>education_id</th>\n",
       "      <th>family_status</th>\n",
       "      <th>family_status_id</th>\n",
       "      <th>gender</th>\n",
       "      <th>income_type</th>\n",
       "      <th>debt</th>\n",
       "      <th>total_income</th>\n",
       "      <th>purpose</th>\n",
       "      <th>days_employed_per_year</th>\n",
       "    </tr>\n",
       "  </thead>\n",
       "  <tbody>\n",
       "    <tr>\n",
       "      <td>13029</td>\n",
       "      <td>0</td>\n",
       "      <td>16104.423292</td>\n",
       "      <td>60</td>\n",
       "      <td>среднее</td>\n",
       "      <td>1</td>\n",
       "      <td>женат / замужем</td>\n",
       "      <td>0</td>\n",
       "      <td>F</td>\n",
       "      <td>пенсионер</td>\n",
       "      <td>0</td>\n",
       "      <td>59773.456711</td>\n",
       "      <td>покупка жилья</td>\n",
       "      <td>366.009620</td>\n",
       "    </tr>\n",
       "    <tr>\n",
       "      <td>20253</td>\n",
       "      <td>0</td>\n",
       "      <td>15009.995825</td>\n",
       "      <td>57</td>\n",
       "      <td>ВЫСШЕЕ</td>\n",
       "      <td>0</td>\n",
       "      <td>женат / замужем</td>\n",
       "      <td>0</td>\n",
       "      <td>F</td>\n",
       "      <td>пенсионер</td>\n",
       "      <td>0</td>\n",
       "      <td>73792.951395</td>\n",
       "      <td>сделка с подержанным автомобилем</td>\n",
       "      <td>366.097459</td>\n",
       "    </tr>\n",
       "    <tr>\n",
       "      <td>8337</td>\n",
       "      <td>0</td>\n",
       "      <td>15011.160203</td>\n",
       "      <td>57</td>\n",
       "      <td>среднее</td>\n",
       "      <td>1</td>\n",
       "      <td>вдовец / вдова</td>\n",
       "      <td>2</td>\n",
       "      <td>M</td>\n",
       "      <td>пенсионер</td>\n",
       "      <td>0</td>\n",
       "      <td>82876.335652</td>\n",
       "      <td>строительство жилой недвижимости</td>\n",
       "      <td>366.125859</td>\n",
       "    </tr>\n",
       "    <tr>\n",
       "      <td>19712</td>\n",
       "      <td>0</td>\n",
       "      <td>16113.315481</td>\n",
       "      <td>60</td>\n",
       "      <td>среднее</td>\n",
       "      <td>1</td>\n",
       "      <td>женат / замужем</td>\n",
       "      <td>0</td>\n",
       "      <td>F</td>\n",
       "      <td>пенсионер</td>\n",
       "      <td>0</td>\n",
       "      <td>48346.184126</td>\n",
       "      <td>профильное образование</td>\n",
       "      <td>366.211715</td>\n",
       "    </tr>\n",
       "    <tr>\n",
       "      <td>2718</td>\n",
       "      <td>0</td>\n",
       "      <td>15747.576181</td>\n",
       "      <td>59</td>\n",
       "      <td>среднее</td>\n",
       "      <td>1</td>\n",
       "      <td>женат / замужем</td>\n",
       "      <td>0</td>\n",
       "      <td>F</td>\n",
       "      <td>пенсионер</td>\n",
       "      <td>0</td>\n",
       "      <td>88749.933619</td>\n",
       "      <td>образование</td>\n",
       "      <td>366.222702</td>\n",
       "    </tr>\n",
       "    <tr>\n",
       "      <td>...</td>\n",
       "      <td>...</td>\n",
       "      <td>...</td>\n",
       "      <td>...</td>\n",
       "      <td>...</td>\n",
       "      <td>...</td>\n",
       "      <td>...</td>\n",
       "      <td>...</td>\n",
       "      <td>...</td>\n",
       "      <td>...</td>\n",
       "      <td>...</td>\n",
       "      <td>...</td>\n",
       "      <td>...</td>\n",
       "      <td>...</td>\n",
       "    </tr>\n",
       "    <tr>\n",
       "      <td>13953</td>\n",
       "      <td>0</td>\n",
       "      <td>15701.024409</td>\n",
       "      <td>27</td>\n",
       "      <td>среднее</td>\n",
       "      <td>1</td>\n",
       "      <td>в разводе</td>\n",
       "      <td>3</td>\n",
       "      <td>M</td>\n",
       "      <td>пенсионер</td>\n",
       "      <td>0</td>\n",
       "      <td>97961.993557</td>\n",
       "      <td>операции с жильем</td>\n",
       "      <td>1427.365855</td>\n",
       "    </tr>\n",
       "    <tr>\n",
       "      <td>12507</td>\n",
       "      <td>0</td>\n",
       "      <td>15812.170938</td>\n",
       "      <td>27</td>\n",
       "      <td>среднее</td>\n",
       "      <td>1</td>\n",
       "      <td>Не женат / не замужем</td>\n",
       "      <td>4</td>\n",
       "      <td>F</td>\n",
       "      <td>пенсионер</td>\n",
       "      <td>0</td>\n",
       "      <td>50969.340462</td>\n",
       "      <td>сделка с автомобилем</td>\n",
       "      <td>1437.470085</td>\n",
       "    </tr>\n",
       "    <tr>\n",
       "      <td>16166</td>\n",
       "      <td>0</td>\n",
       "      <td>15181.174890</td>\n",
       "      <td>26</td>\n",
       "      <td>среднее</td>\n",
       "      <td>1</td>\n",
       "      <td>гражданский брак</td>\n",
       "      <td>1</td>\n",
       "      <td>M</td>\n",
       "      <td>пенсионер</td>\n",
       "      <td>0</td>\n",
       "      <td>80044.196101</td>\n",
       "      <td>автомобиль</td>\n",
       "      <td>1518.117489</td>\n",
       "    </tr>\n",
       "    <tr>\n",
       "      <td>19439</td>\n",
       "      <td>0</td>\n",
       "      <td>16224.881982</td>\n",
       "      <td>26</td>\n",
       "      <td>высшее</td>\n",
       "      <td>0</td>\n",
       "      <td>женат / замужем</td>\n",
       "      <td>0</td>\n",
       "      <td>F</td>\n",
       "      <td>пенсионер</td>\n",
       "      <td>0</td>\n",
       "      <td>214963.301941</td>\n",
       "      <td>покупка недвижимости</td>\n",
       "      <td>1622.488198</td>\n",
       "    </tr>\n",
       "    <tr>\n",
       "      <td>1242</td>\n",
       "      <td>0</td>\n",
       "      <td>13948.510826</td>\n",
       "      <td>22</td>\n",
       "      <td>Среднее</td>\n",
       "      <td>1</td>\n",
       "      <td>Не женат / не замужем</td>\n",
       "      <td>4</td>\n",
       "      <td>F</td>\n",
       "      <td>пенсионер</td>\n",
       "      <td>0</td>\n",
       "      <td>89368.600062</td>\n",
       "      <td>получение высшего образования</td>\n",
       "      <td>2324.751804</td>\n",
       "    </tr>\n",
       "  </tbody>\n",
       "</table>\n",
       "<p>1340 rows × 13 columns</p>\n",
       "</div>"
      ],
      "text/plain": [
       "       children  days_employed  dob_years education  education_id  \\\n",
       "13029         0   16104.423292         60   среднее             1   \n",
       "20253         0   15009.995825         57    ВЫСШЕЕ             0   \n",
       "8337          0   15011.160203         57   среднее             1   \n",
       "19712         0   16113.315481         60   среднее             1   \n",
       "2718          0   15747.576181         59   среднее             1   \n",
       "...         ...            ...        ...       ...           ...   \n",
       "13953         0   15701.024409         27   среднее             1   \n",
       "12507         0   15812.170938         27   среднее             1   \n",
       "16166         0   15181.174890         26   среднее             1   \n",
       "19439         0   16224.881982         26    высшее             0   \n",
       "1242          0   13948.510826         22   Среднее             1   \n",
       "\n",
       "               family_status  family_status_id gender income_type  debt  \\\n",
       "13029        женат / замужем                 0      F   пенсионер     0   \n",
       "20253        женат / замужем                 0      F   пенсионер     0   \n",
       "8337          вдовец / вдова                 2      M   пенсионер     0   \n",
       "19712        женат / замужем                 0      F   пенсионер     0   \n",
       "2718         женат / замужем                 0      F   пенсионер     0   \n",
       "...                      ...               ...    ...         ...   ...   \n",
       "13953              в разводе                 3      M   пенсионер     0   \n",
       "12507  Не женат / не замужем                 4      F   пенсионер     0   \n",
       "16166       гражданский брак                 1      M   пенсионер     0   \n",
       "19439        женат / замужем                 0      F   пенсионер     0   \n",
       "1242   Не женат / не замужем                 4      F   пенсионер     0   \n",
       "\n",
       "        total_income                           purpose  days_employed_per_year  \n",
       "13029   59773.456711                     покупка жилья              366.009620  \n",
       "20253   73792.951395  сделка с подержанным автомобилем              366.097459  \n",
       "8337    82876.335652  строительство жилой недвижимости              366.125859  \n",
       "19712   48346.184126            профильное образование              366.211715  \n",
       "2718    88749.933619                       образование              366.222702  \n",
       "...              ...                               ...                     ...  \n",
       "13953   97961.993557                 операции с жильем             1427.365855  \n",
       "12507   50969.340462              сделка с автомобилем             1437.470085  \n",
       "16166   80044.196101                        автомобиль             1518.117489  \n",
       "19439  214963.301941              покупка недвижимости             1622.488198  \n",
       "1242    89368.600062     получение высшего образования             2324.751804  \n",
       "\n",
       "[1340 rows x 13 columns]"
      ]
     },
     "execution_count": 10,
     "metadata": {},
     "output_type": "execute_result"
    }
   ],
   "source": [
    "data['days_employed_per_year'] = data['days_employed'] / (data['dob_years'] - 16) #по законам РФ официальное трудоустройство возможно только с 16-ти лет\n",
    "data[data['days_employed_per_year'] > 366].sort_values('days_employed_per_year')"
   ]
  },
  {
   "cell_type": "markdown",
   "metadata": {},
   "source": [
    "Как мы видим, в 1340 строках средний стаж в год больше, чем 366, что невозможно. Посмотрим на данные, может удастся найти закономерность в строчках с неверными значениями"
   ]
  },
  {
   "cell_type": "code",
   "execution_count": 11,
   "metadata": {},
   "outputs": [
    {
     "data": {
      "text/html": [
       "<div>\n",
       "<style scoped>\n",
       "    .dataframe tbody tr th:only-of-type {\n",
       "        vertical-align: middle;\n",
       "    }\n",
       "\n",
       "    .dataframe tbody tr th {\n",
       "        vertical-align: top;\n",
       "    }\n",
       "\n",
       "    .dataframe thead th {\n",
       "        text-align: right;\n",
       "    }\n",
       "</style>\n",
       "<table border=\"1\" class=\"dataframe\">\n",
       "  <thead>\n",
       "    <tr style=\"text-align: right;\">\n",
       "      <th></th>\n",
       "      <th>children</th>\n",
       "      <th>days_employed</th>\n",
       "      <th>dob_years</th>\n",
       "      <th>education</th>\n",
       "      <th>education_id</th>\n",
       "      <th>family_status</th>\n",
       "      <th>family_status_id</th>\n",
       "      <th>gender</th>\n",
       "      <th>income_type</th>\n",
       "      <th>debt</th>\n",
       "      <th>total_income</th>\n",
       "      <th>purpose</th>\n",
       "      <th>days_employed_per_year</th>\n",
       "    </tr>\n",
       "  </thead>\n",
       "  <tbody>\n",
       "    <tr>\n",
       "      <td>4</td>\n",
       "      <td>0</td>\n",
       "      <td>14177.753002</td>\n",
       "      <td>53</td>\n",
       "      <td>среднее</td>\n",
       "      <td>1</td>\n",
       "      <td>гражданский брак</td>\n",
       "      <td>1</td>\n",
       "      <td>F</td>\n",
       "      <td>пенсионер</td>\n",
       "      <td>0</td>\n",
       "      <td>158616.077870</td>\n",
       "      <td>сыграть свадьбу</td>\n",
       "      <td>383.182514</td>\n",
       "    </tr>\n",
       "    <tr>\n",
       "      <td>18</td>\n",
       "      <td>0</td>\n",
       "      <td>16678.380705</td>\n",
       "      <td>53</td>\n",
       "      <td>среднее</td>\n",
       "      <td>1</td>\n",
       "      <td>вдовец / вдова</td>\n",
       "      <td>2</td>\n",
       "      <td>F</td>\n",
       "      <td>пенсионер</td>\n",
       "      <td>0</td>\n",
       "      <td>56823.777243</td>\n",
       "      <td>на покупку подержанного автомобиля</td>\n",
       "      <td>450.767046</td>\n",
       "    </tr>\n",
       "    <tr>\n",
       "      <td>87</td>\n",
       "      <td>0</td>\n",
       "      <td>14069.147292</td>\n",
       "      <td>53</td>\n",
       "      <td>среднее</td>\n",
       "      <td>1</td>\n",
       "      <td>женат / замужем</td>\n",
       "      <td>0</td>\n",
       "      <td>F</td>\n",
       "      <td>пенсионер</td>\n",
       "      <td>0</td>\n",
       "      <td>74363.856554</td>\n",
       "      <td>покупка жилья для сдачи</td>\n",
       "      <td>380.247224</td>\n",
       "    </tr>\n",
       "    <tr>\n",
       "      <td>98</td>\n",
       "      <td>0</td>\n",
       "      <td>15204.425239</td>\n",
       "      <td>54</td>\n",
       "      <td>высшее</td>\n",
       "      <td>0</td>\n",
       "      <td>женат / замужем</td>\n",
       "      <td>0</td>\n",
       "      <td>F</td>\n",
       "      <td>пенсионер</td>\n",
       "      <td>0</td>\n",
       "      <td>199707.298524</td>\n",
       "      <td>покупка жилья для сдачи</td>\n",
       "      <td>400.116454</td>\n",
       "    </tr>\n",
       "    <tr>\n",
       "      <td>140</td>\n",
       "      <td>0</td>\n",
       "      <td>3017.782065</td>\n",
       "      <td>24</td>\n",
       "      <td>среднее</td>\n",
       "      <td>1</td>\n",
       "      <td>гражданский брак</td>\n",
       "      <td>1</td>\n",
       "      <td>F</td>\n",
       "      <td>сотрудник</td>\n",
       "      <td>0</td>\n",
       "      <td>102110.989149</td>\n",
       "      <td>покупка коммерческой недвижимости</td>\n",
       "      <td>377.222758</td>\n",
       "    </tr>\n",
       "    <tr>\n",
       "      <td>...</td>\n",
       "      <td>...</td>\n",
       "      <td>...</td>\n",
       "      <td>...</td>\n",
       "      <td>...</td>\n",
       "      <td>...</td>\n",
       "      <td>...</td>\n",
       "      <td>...</td>\n",
       "      <td>...</td>\n",
       "      <td>...</td>\n",
       "      <td>...</td>\n",
       "      <td>...</td>\n",
       "      <td>...</td>\n",
       "      <td>...</td>\n",
       "    </tr>\n",
       "    <tr>\n",
       "      <td>21378</td>\n",
       "      <td>0</td>\n",
       "      <td>16719.031045</td>\n",
       "      <td>59</td>\n",
       "      <td>среднее</td>\n",
       "      <td>1</td>\n",
       "      <td>вдовец / вдова</td>\n",
       "      <td>2</td>\n",
       "      <td>F</td>\n",
       "      <td>пенсионер</td>\n",
       "      <td>0</td>\n",
       "      <td>204103.704870</td>\n",
       "      <td>операции со своей недвижимостью</td>\n",
       "      <td>388.814675</td>\n",
       "    </tr>\n",
       "    <tr>\n",
       "      <td>21398</td>\n",
       "      <td>0</td>\n",
       "      <td>14921.079975</td>\n",
       "      <td>55</td>\n",
       "      <td>СРЕДНЕЕ</td>\n",
       "      <td>1</td>\n",
       "      <td>Не женат / не замужем</td>\n",
       "      <td>4</td>\n",
       "      <td>F</td>\n",
       "      <td>пенсионер</td>\n",
       "      <td>0</td>\n",
       "      <td>89194.369579</td>\n",
       "      <td>строительство жилой недвижимости</td>\n",
       "      <td>382.591794</td>\n",
       "    </tr>\n",
       "    <tr>\n",
       "      <td>21433</td>\n",
       "      <td>0</td>\n",
       "      <td>16280.502364</td>\n",
       "      <td>57</td>\n",
       "      <td>среднее</td>\n",
       "      <td>1</td>\n",
       "      <td>гражданский брак</td>\n",
       "      <td>1</td>\n",
       "      <td>F</td>\n",
       "      <td>пенсионер</td>\n",
       "      <td>0</td>\n",
       "      <td>139742.106467</td>\n",
       "      <td>на проведение свадьбы</td>\n",
       "      <td>397.085424</td>\n",
       "    </tr>\n",
       "    <tr>\n",
       "      <td>21475</td>\n",
       "      <td>0</td>\n",
       "      <td>15217.221094</td>\n",
       "      <td>52</td>\n",
       "      <td>среднее</td>\n",
       "      <td>1</td>\n",
       "      <td>женат / замужем</td>\n",
       "      <td>0</td>\n",
       "      <td>F</td>\n",
       "      <td>пенсионер</td>\n",
       "      <td>1</td>\n",
       "      <td>48239.310903</td>\n",
       "      <td>свой автомобиль</td>\n",
       "      <td>422.700586</td>\n",
       "    </tr>\n",
       "    <tr>\n",
       "      <td>21505</td>\n",
       "      <td>0</td>\n",
       "      <td>14121.036100</td>\n",
       "      <td>53</td>\n",
       "      <td>среднее</td>\n",
       "      <td>1</td>\n",
       "      <td>гражданский брак</td>\n",
       "      <td>1</td>\n",
       "      <td>M</td>\n",
       "      <td>пенсионер</td>\n",
       "      <td>0</td>\n",
       "      <td>75439.993167</td>\n",
       "      <td>сыграть свадьбу</td>\n",
       "      <td>381.649624</td>\n",
       "    </tr>\n",
       "  </tbody>\n",
       "</table>\n",
       "<p>1340 rows × 13 columns</p>\n",
       "</div>"
      ],
      "text/plain": [
       "       children  days_employed  dob_years education  education_id  \\\n",
       "4             0   14177.753002         53   среднее             1   \n",
       "18            0   16678.380705         53   среднее             1   \n",
       "87            0   14069.147292         53   среднее             1   \n",
       "98            0   15204.425239         54    высшее             0   \n",
       "140           0    3017.782065         24   среднее             1   \n",
       "...         ...            ...        ...       ...           ...   \n",
       "21378         0   16719.031045         59   среднее             1   \n",
       "21398         0   14921.079975         55   СРЕДНЕЕ             1   \n",
       "21433         0   16280.502364         57   среднее             1   \n",
       "21475         0   15217.221094         52   среднее             1   \n",
       "21505         0   14121.036100         53   среднее             1   \n",
       "\n",
       "               family_status  family_status_id gender income_type  debt  \\\n",
       "4           гражданский брак                 1      F   пенсионер     0   \n",
       "18            вдовец / вдова                 2      F   пенсионер     0   \n",
       "87           женат / замужем                 0      F   пенсионер     0   \n",
       "98           женат / замужем                 0      F   пенсионер     0   \n",
       "140         гражданский брак                 1      F   сотрудник     0   \n",
       "...                      ...               ...    ...         ...   ...   \n",
       "21378         вдовец / вдова                 2      F   пенсионер     0   \n",
       "21398  Не женат / не замужем                 4      F   пенсионер     0   \n",
       "21433       гражданский брак                 1      F   пенсионер     0   \n",
       "21475        женат / замужем                 0      F   пенсионер     1   \n",
       "21505       гражданский брак                 1      M   пенсионер     0   \n",
       "\n",
       "        total_income                             purpose  \\\n",
       "4      158616.077870                     сыграть свадьбу   \n",
       "18      56823.777243  на покупку подержанного автомобиля   \n",
       "87      74363.856554             покупка жилья для сдачи   \n",
       "98     199707.298524             покупка жилья для сдачи   \n",
       "140    102110.989149   покупка коммерческой недвижимости   \n",
       "...              ...                                 ...   \n",
       "21378  204103.704870     операции со своей недвижимостью   \n",
       "21398   89194.369579    строительство жилой недвижимости   \n",
       "21433  139742.106467               на проведение свадьбы   \n",
       "21475   48239.310903                     свой автомобиль   \n",
       "21505   75439.993167                     сыграть свадьбу   \n",
       "\n",
       "       days_employed_per_year  \n",
       "4                  383.182514  \n",
       "18                 450.767046  \n",
       "87                 380.247224  \n",
       "98                 400.116454  \n",
       "140                377.222758  \n",
       "...                       ...  \n",
       "21378              388.814675  \n",
       "21398              382.591794  \n",
       "21433              397.085424  \n",
       "21475              422.700586  \n",
       "21505              381.649624  \n",
       "\n",
       "[1340 rows x 13 columns]"
      ]
     },
     "execution_count": 11,
     "metadata": {},
     "output_type": "execute_result"
    }
   ],
   "source": [
    "data[data['days_employed_per_year'] > 366]"
   ]
  },
  {
   "cell_type": "markdown",
   "metadata": {},
   "source": [
    "К сожалению, выявить какую-то взаимосвязь не удалось, то есть исправить данные не получится, следственно, данные строчки придется удалить"
   ]
  },
  {
   "cell_type": "code",
   "execution_count": 12,
   "metadata": {},
   "outputs": [],
   "source": [
    "data = data.drop(data.index[data['days_employed_per_year'] > 366])"
   ]
  },
  {
   "cell_type": "markdown",
   "metadata": {},
   "source": [
    "Вычислим среднее количество дней стажа за год тех заемщиков, у которых данный показатель <366"
   ]
  },
  {
   "cell_type": "code",
   "execution_count": 13,
   "metadata": {},
   "outputs": [],
   "source": [
    "avg_days_employed_per_year = data[data['days_employed_per_year'] <= 366]['days_employed_per_year'].median()"
   ]
  },
  {
   "cell_type": "markdown",
   "metadata": {},
   "source": [
    "Заполним пропуски в столбце 'days_employed' характерным значением - медиана среднего количсества дней стажа, накапливающихся за год, умноженная на количество лет с момента возможности официального трудоустройства"
   ]
  },
  {
   "cell_type": "code",
   "execution_count": 14,
   "metadata": {},
   "outputs": [
    {
     "data": {
      "text/plain": [
       "0"
      ]
     },
     "execution_count": 14,
     "metadata": {},
     "output_type": "execute_result"
    }
   ],
   "source": [
    "data.loc[data['days_employed'].isna(), 'days_employed'] = avg_days_employed_per_year * (data['dob_years'] - 16)\n",
    "data['days_employed'].isna().sum() #пропуски в столбце 'days_employed' заполнены"
   ]
  },
  {
   "cell_type": "markdown",
   "metadata": {},
   "source": [
    "Попробуем найти взаимосвязь между уровнем дохода и различными характеристиками заемщиков (количеством детей в семье, уровнем образования, семейным положением, полом и статусом работы)"
   ]
  },
  {
   "cell_type": "code",
   "execution_count": 15,
   "metadata": {},
   "outputs": [
    {
     "data": {
      "text/html": [
       "<div>\n",
       "<style scoped>\n",
       "    .dataframe tbody tr th:only-of-type {\n",
       "        vertical-align: middle;\n",
       "    }\n",
       "\n",
       "    .dataframe tbody tr th {\n",
       "        vertical-align: top;\n",
       "    }\n",
       "\n",
       "    .dataframe thead th {\n",
       "        text-align: right;\n",
       "    }\n",
       "</style>\n",
       "<table border=\"1\" class=\"dataframe\">\n",
       "  <thead>\n",
       "    <tr style=\"text-align: right;\">\n",
       "      <th></th>\n",
       "      <th>total_income</th>\n",
       "    </tr>\n",
       "    <tr>\n",
       "      <th>children</th>\n",
       "      <th></th>\n",
       "    </tr>\n",
       "  </thead>\n",
       "  <tbody>\n",
       "    <tr>\n",
       "      <td>-1</td>\n",
       "      <td>146253.325480</td>\n",
       "    </tr>\n",
       "    <tr>\n",
       "      <td>0</td>\n",
       "      <td>145900.544012</td>\n",
       "    </tr>\n",
       "    <tr>\n",
       "      <td>1</td>\n",
       "      <td>148388.755249</td>\n",
       "    </tr>\n",
       "    <tr>\n",
       "      <td>2</td>\n",
       "      <td>144650.291209</td>\n",
       "    </tr>\n",
       "    <tr>\n",
       "      <td>3</td>\n",
       "      <td>157447.617463</td>\n",
       "    </tr>\n",
       "    <tr>\n",
       "      <td>4</td>\n",
       "      <td>157568.585593</td>\n",
       "    </tr>\n",
       "    <tr>\n",
       "      <td>5</td>\n",
       "      <td>186351.410251</td>\n",
       "    </tr>\n",
       "    <tr>\n",
       "      <td>20</td>\n",
       "      <td>145334.865002</td>\n",
       "    </tr>\n",
       "  </tbody>\n",
       "</table>\n",
       "</div>"
      ],
      "text/plain": [
       "           total_income\n",
       "children               \n",
       "-1        146253.325480\n",
       " 0        145900.544012\n",
       " 1        148388.755249\n",
       " 2        144650.291209\n",
       " 3        157447.617463\n",
       " 4        157568.585593\n",
       " 5        186351.410251\n",
       " 20       145334.865002"
      ]
     },
     "execution_count": 15,
     "metadata": {},
     "output_type": "execute_result"
    }
   ],
   "source": [
    "data.pivot_table(\n",
    "    index='children',\n",
    "    values='total_income',\n",
    "    aggfunc='median'\n",
    ")"
   ]
  },
  {
   "cell_type": "code",
   "execution_count": 17,
   "metadata": {},
   "outputs": [
    {
     "data": {
      "text/html": [
       "<div>\n",
       "<style scoped>\n",
       "    .dataframe tbody tr th:only-of-type {\n",
       "        vertical-align: middle;\n",
       "    }\n",
       "\n",
       "    .dataframe tbody tr th {\n",
       "        vertical-align: top;\n",
       "    }\n",
       "\n",
       "    .dataframe thead th {\n",
       "        text-align: right;\n",
       "    }\n",
       "</style>\n",
       "<table border=\"1\" class=\"dataframe\">\n",
       "  <thead>\n",
       "    <tr style=\"text-align: right;\">\n",
       "      <th></th>\n",
       "      <th>total_income</th>\n",
       "    </tr>\n",
       "    <tr>\n",
       "      <th>family_status_id</th>\n",
       "      <th></th>\n",
       "    </tr>\n",
       "  </thead>\n",
       "  <tbody>\n",
       "    <tr>\n",
       "      <td>0</td>\n",
       "      <td>147849.624770</td>\n",
       "    </tr>\n",
       "    <tr>\n",
       "      <td>1</td>\n",
       "      <td>146752.793602</td>\n",
       "    </tr>\n",
       "    <tr>\n",
       "      <td>2</td>\n",
       "      <td>128540.213683</td>\n",
       "    </tr>\n",
       "    <tr>\n",
       "      <td>3</td>\n",
       "      <td>150150.119927</td>\n",
       "    </tr>\n",
       "    <tr>\n",
       "      <td>4</td>\n",
       "      <td>145903.057821</td>\n",
       "    </tr>\n",
       "  </tbody>\n",
       "</table>\n",
       "</div>"
      ],
      "text/plain": [
       "                   total_income\n",
       "family_status_id               \n",
       "0                 147849.624770\n",
       "1                 146752.793602\n",
       "2                 128540.213683\n",
       "3                 150150.119927\n",
       "4                 145903.057821"
      ]
     },
     "execution_count": 17,
     "metadata": {},
     "output_type": "execute_result"
    }
   ],
   "source": [
    "data.pivot_table(\n",
    "    index='family_status_id',\n",
    "    values='total_income',\n",
    "    aggfunc='median'\n",
    ")"
   ]
  },
  {
   "cell_type": "code",
   "execution_count": 18,
   "metadata": {},
   "outputs": [
    {
     "data": {
      "text/html": [
       "<div>\n",
       "<style scoped>\n",
       "    .dataframe tbody tr th:only-of-type {\n",
       "        vertical-align: middle;\n",
       "    }\n",
       "\n",
       "    .dataframe tbody tr th {\n",
       "        vertical-align: top;\n",
       "    }\n",
       "\n",
       "    .dataframe thead th {\n",
       "        text-align: right;\n",
       "    }\n",
       "</style>\n",
       "<table border=\"1\" class=\"dataframe\">\n",
       "  <thead>\n",
       "    <tr style=\"text-align: right;\">\n",
       "      <th></th>\n",
       "      <th>total_income</th>\n",
       "    </tr>\n",
       "    <tr>\n",
       "      <th>gender</th>\n",
       "      <th></th>\n",
       "    </tr>\n",
       "  </thead>\n",
       "  <tbody>\n",
       "    <tr>\n",
       "      <td>F</td>\n",
       "      <td>135449.561416</td>\n",
       "    </tr>\n",
       "    <tr>\n",
       "      <td>M</td>\n",
       "      <td>168739.412523</td>\n",
       "    </tr>\n",
       "    <tr>\n",
       "      <td>XNA</td>\n",
       "      <td>203905.157261</td>\n",
       "    </tr>\n",
       "  </tbody>\n",
       "</table>\n",
       "</div>"
      ],
      "text/plain": [
       "         total_income\n",
       "gender               \n",
       "F       135449.561416\n",
       "M       168739.412523\n",
       "XNA     203905.157261"
      ]
     },
     "execution_count": 18,
     "metadata": {},
     "output_type": "execute_result"
    }
   ],
   "source": [
    "data.pivot_table(\n",
    "    index='gender',\n",
    "    values='total_income',\n",
    "    aggfunc='median'\n",
    ")"
   ]
  },
  {
   "cell_type": "code",
   "execution_count": 19,
   "metadata": {},
   "outputs": [
    {
     "data": {
      "text/html": [
       "<div>\n",
       "<style scoped>\n",
       "    .dataframe tbody tr th:only-of-type {\n",
       "        vertical-align: middle;\n",
       "    }\n",
       "\n",
       "    .dataframe tbody tr th {\n",
       "        vertical-align: top;\n",
       "    }\n",
       "\n",
       "    .dataframe thead th {\n",
       "        text-align: right;\n",
       "    }\n",
       "</style>\n",
       "<table border=\"1\" class=\"dataframe\">\n",
       "  <thead>\n",
       "    <tr style=\"text-align: right;\">\n",
       "      <th></th>\n",
       "      <th>total_income</th>\n",
       "    </tr>\n",
       "    <tr>\n",
       "      <th>income_type</th>\n",
       "      <th></th>\n",
       "    </tr>\n",
       "  </thead>\n",
       "  <tbody>\n",
       "    <tr>\n",
       "      <td>в декрете</td>\n",
       "      <td>53829.130729</td>\n",
       "    </tr>\n",
       "    <tr>\n",
       "      <td>госслужащий</td>\n",
       "      <td>150521.917580</td>\n",
       "    </tr>\n",
       "    <tr>\n",
       "      <td>компаньон</td>\n",
       "      <td>172396.000846</td>\n",
       "    </tr>\n",
       "    <tr>\n",
       "      <td>пенсионер</td>\n",
       "      <td>115413.406988</td>\n",
       "    </tr>\n",
       "    <tr>\n",
       "      <td>предприниматель</td>\n",
       "      <td>499163.144947</td>\n",
       "    </tr>\n",
       "    <tr>\n",
       "      <td>сотрудник</td>\n",
       "      <td>142607.772745</td>\n",
       "    </tr>\n",
       "    <tr>\n",
       "      <td>студент</td>\n",
       "      <td>98201.625314</td>\n",
       "    </tr>\n",
       "  </tbody>\n",
       "</table>\n",
       "</div>"
      ],
      "text/plain": [
       "                  total_income\n",
       "income_type                   \n",
       "в декрете         53829.130729\n",
       "госслужащий      150521.917580\n",
       "компаньон        172396.000846\n",
       "пенсионер        115413.406988\n",
       "предприниматель  499163.144947\n",
       "сотрудник        142607.772745\n",
       "студент           98201.625314"
      ]
     },
     "execution_count": 19,
     "metadata": {},
     "output_type": "execute_result"
    }
   ],
   "source": [
    "data.pivot_table(\n",
    "    index='income_type',\n",
    "    values='total_income',\n",
    "    aggfunc='median'\n",
    ")"
   ]
  },
  {
   "cell_type": "markdown",
   "metadata": {},
   "source": [
    "Заполнять пропущенные данные в столбце заработка средним значением по всем клиентам будет неверно, так как, как мы видим, доходы среди разных категорий заемщиков по типу занятости могут сильно отличаться. Например, средний предприниматель в месяц зарабатывает почти 500 тысяч рублей, тогда как заемщик в декрете - всего порядка 50 тысяч.\n",
    "\n",
    "Также были замечены странные значения в столбцах 'children' и 'gender', но к ним мы еще вернемся, а пока...\n",
    "\n",
    "Заполним пропуски в соответствие с категорией занятости данного сотрудника"
   ]
  },
  {
   "cell_type": "code",
   "execution_count": 20,
   "metadata": {},
   "outputs": [],
   "source": [
    "data.loc[(data['total_income'].isna()) & (data['income_type'] == 'в декрете'), 'total_income'] = data[data['income_type'] == 'в декрете']['total_income'].median()\n",
    "data.loc[(data['total_income'].isna()) & (data['income_type'] == 'госслужащий'), 'total_income'] = data[data['income_type'] == 'госслужащий']['total_income'].median()\n",
    "data.loc[(data['total_income'].isna()) & (data['income_type'] == 'компаньон'), 'total_income'] = data[data['income_type'] == 'компаньон']['total_income'].median()\n",
    "data.loc[(data['total_income'].isna()) & (data['income_type'] == 'пенсионер'), 'total_income'] = data[data['income_type'] == 'пенсионер']['total_income'].median()\n",
    "data.loc[(data['total_income'].isna()) & (data['income_type'] == 'предприниматель'), 'total_income'] = data[data['income_type'] == 'предприниматель']['total_income'].median()\n",
    "data.loc[(data['total_income'].isna()) & (data['income_type'] == 'сотрудник'), 'total_income'] = data[data['income_type'] == 'сотрудник']['total_income'].median()\n",
    "data.loc[(data['total_income'].isna()) & (data['income_type'] == 'студент'), 'total_income'] = data[data['income_type'] == 'студент']['total_income'].median()"
   ]
  },
  {
   "cell_type": "markdown",
   "metadata": {},
   "source": [
    "Проверим, не осталось ли у нас незаполненных значений в столбце с месячным заработком"
   ]
  },
  {
   "cell_type": "code",
   "execution_count": 21,
   "metadata": {},
   "outputs": [
    {
     "data": {
      "text/plain": [
       "0"
      ]
     },
     "execution_count": 21,
     "metadata": {},
     "output_type": "execute_result"
    }
   ],
   "source": [
    "data['total_income'].isna().sum() #пропуски в столбце 'total_income' заполнены"
   ]
  },
  {
   "cell_type": "markdown",
   "metadata": {},
   "source": [
    "Рассмотрим те самые странные значения в столбце 'children'"
   ]
  },
  {
   "cell_type": "code",
   "execution_count": 22,
   "metadata": {},
   "outputs": [
    {
     "data": {
      "text/plain": [
       " 0     12908\n",
       " 1      4666\n",
       " 2      2024\n",
       " 3       322\n",
       " 20       72\n",
       "-1        43\n",
       " 4        40\n",
       " 5         9\n",
       "Name: children, dtype: int64"
      ]
     },
     "execution_count": 22,
     "metadata": {},
     "output_type": "execute_result"
    }
   ],
   "source": [
    "data['children'].value_counts()"
   ]
  },
  {
   "cell_type": "markdown",
   "metadata": {},
   "source": [
    "Видим некорректное значение -1 и странное значение 20, притом что максимальное до него 5.\n",
    "Можем предположить, что вместо -1 должно быть 1, а вместо 20 - 2. Давайте посмотрим на строчки с каждым из этих значений по отдельности"
   ]
  },
  {
   "cell_type": "code",
   "execution_count": 23,
   "metadata": {},
   "outputs": [
    {
     "data": {
      "text/html": [
       "<div>\n",
       "<style scoped>\n",
       "    .dataframe tbody tr th:only-of-type {\n",
       "        vertical-align: middle;\n",
       "    }\n",
       "\n",
       "    .dataframe tbody tr th {\n",
       "        vertical-align: top;\n",
       "    }\n",
       "\n",
       "    .dataframe thead th {\n",
       "        text-align: right;\n",
       "    }\n",
       "</style>\n",
       "<table border=\"1\" class=\"dataframe\">\n",
       "  <thead>\n",
       "    <tr style=\"text-align: right;\">\n",
       "      <th></th>\n",
       "      <th>children</th>\n",
       "      <th>days_employed</th>\n",
       "      <th>dob_years</th>\n",
       "      <th>education</th>\n",
       "      <th>education_id</th>\n",
       "      <th>family_status</th>\n",
       "      <th>family_status_id</th>\n",
       "      <th>gender</th>\n",
       "      <th>income_type</th>\n",
       "      <th>debt</th>\n",
       "      <th>total_income</th>\n",
       "      <th>purpose</th>\n",
       "      <th>days_employed_per_year</th>\n",
       "    </tr>\n",
       "  </thead>\n",
       "  <tbody>\n",
       "    <tr>\n",
       "      <td>291</td>\n",
       "      <td>-1</td>\n",
       "      <td>4417.703588</td>\n",
       "      <td>46</td>\n",
       "      <td>среднее</td>\n",
       "      <td>1</td>\n",
       "      <td>гражданский брак</td>\n",
       "      <td>1</td>\n",
       "      <td>F</td>\n",
       "      <td>сотрудник</td>\n",
       "      <td>0</td>\n",
       "      <td>102816.346412</td>\n",
       "      <td>профильное образование</td>\n",
       "      <td>147.256786</td>\n",
       "    </tr>\n",
       "    <tr>\n",
       "      <td>705</td>\n",
       "      <td>-1</td>\n",
       "      <td>902.084528</td>\n",
       "      <td>50</td>\n",
       "      <td>среднее</td>\n",
       "      <td>1</td>\n",
       "      <td>женат / замужем</td>\n",
       "      <td>0</td>\n",
       "      <td>F</td>\n",
       "      <td>госслужащий</td>\n",
       "      <td>0</td>\n",
       "      <td>137882.899271</td>\n",
       "      <td>приобретение автомобиля</td>\n",
       "      <td>26.531898</td>\n",
       "    </tr>\n",
       "    <tr>\n",
       "      <td>742</td>\n",
       "      <td>-1</td>\n",
       "      <td>3174.456205</td>\n",
       "      <td>57</td>\n",
       "      <td>среднее</td>\n",
       "      <td>1</td>\n",
       "      <td>женат / замужем</td>\n",
       "      <td>0</td>\n",
       "      <td>F</td>\n",
       "      <td>сотрудник</td>\n",
       "      <td>0</td>\n",
       "      <td>64268.044444</td>\n",
       "      <td>дополнительное образование</td>\n",
       "      <td>77.425761</td>\n",
       "    </tr>\n",
       "    <tr>\n",
       "      <td>941</td>\n",
       "      <td>-1</td>\n",
       "      <td>3870.017071</td>\n",
       "      <td>57</td>\n",
       "      <td>Среднее</td>\n",
       "      <td>1</td>\n",
       "      <td>женат / замужем</td>\n",
       "      <td>0</td>\n",
       "      <td>F</td>\n",
       "      <td>пенсионер</td>\n",
       "      <td>0</td>\n",
       "      <td>115413.406988</td>\n",
       "      <td>на покупку своего автомобиля</td>\n",
       "      <td>NaN</td>\n",
       "    </tr>\n",
       "    <tr>\n",
       "      <td>1363</td>\n",
       "      <td>-1</td>\n",
       "      <td>1195.264956</td>\n",
       "      <td>55</td>\n",
       "      <td>СРЕДНЕЕ</td>\n",
       "      <td>1</td>\n",
       "      <td>женат / замужем</td>\n",
       "      <td>0</td>\n",
       "      <td>F</td>\n",
       "      <td>компаньон</td>\n",
       "      <td>0</td>\n",
       "      <td>69550.699692</td>\n",
       "      <td>профильное образование</td>\n",
       "      <td>30.647819</td>\n",
       "    </tr>\n",
       "    <tr>\n",
       "      <td>1929</td>\n",
       "      <td>-1</td>\n",
       "      <td>1461.303336</td>\n",
       "      <td>38</td>\n",
       "      <td>среднее</td>\n",
       "      <td>1</td>\n",
       "      <td>Не женат / не замужем</td>\n",
       "      <td>4</td>\n",
       "      <td>M</td>\n",
       "      <td>сотрудник</td>\n",
       "      <td>0</td>\n",
       "      <td>109121.569013</td>\n",
       "      <td>покупка жилья</td>\n",
       "      <td>66.422879</td>\n",
       "    </tr>\n",
       "    <tr>\n",
       "      <td>2073</td>\n",
       "      <td>-1</td>\n",
       "      <td>2539.761232</td>\n",
       "      <td>42</td>\n",
       "      <td>среднее</td>\n",
       "      <td>1</td>\n",
       "      <td>в разводе</td>\n",
       "      <td>3</td>\n",
       "      <td>F</td>\n",
       "      <td>компаньон</td>\n",
       "      <td>0</td>\n",
       "      <td>162638.609373</td>\n",
       "      <td>покупка жилья</td>\n",
       "      <td>97.683124</td>\n",
       "    </tr>\n",
       "    <tr>\n",
       "      <td>3814</td>\n",
       "      <td>-1</td>\n",
       "      <td>3045.290443</td>\n",
       "      <td>26</td>\n",
       "      <td>Среднее</td>\n",
       "      <td>1</td>\n",
       "      <td>гражданский брак</td>\n",
       "      <td>1</td>\n",
       "      <td>F</td>\n",
       "      <td>госслужащий</td>\n",
       "      <td>0</td>\n",
       "      <td>131892.785435</td>\n",
       "      <td>на проведение свадьбы</td>\n",
       "      <td>304.529044</td>\n",
       "    </tr>\n",
       "    <tr>\n",
       "      <td>4201</td>\n",
       "      <td>-1</td>\n",
       "      <td>901.101738</td>\n",
       "      <td>41</td>\n",
       "      <td>среднее</td>\n",
       "      <td>1</td>\n",
       "      <td>женат / замужем</td>\n",
       "      <td>0</td>\n",
       "      <td>F</td>\n",
       "      <td>госслужащий</td>\n",
       "      <td>0</td>\n",
       "      <td>226375.766751</td>\n",
       "      <td>операции со своей недвижимостью</td>\n",
       "      <td>36.044070</td>\n",
       "    </tr>\n",
       "    <tr>\n",
       "      <td>4402</td>\n",
       "      <td>-1</td>\n",
       "      <td>16583.387620</td>\n",
       "      <td>64</td>\n",
       "      <td>СРЕДНЕЕ</td>\n",
       "      <td>1</td>\n",
       "      <td>женат / замужем</td>\n",
       "      <td>0</td>\n",
       "      <td>F</td>\n",
       "      <td>пенсионер</td>\n",
       "      <td>0</td>\n",
       "      <td>163264.062064</td>\n",
       "      <td>покупка недвижимости</td>\n",
       "      <td>345.487242</td>\n",
       "    </tr>\n",
       "    <tr>\n",
       "      <td>4542</td>\n",
       "      <td>-1</td>\n",
       "      <td>1811.899756</td>\n",
       "      <td>32</td>\n",
       "      <td>среднее</td>\n",
       "      <td>1</td>\n",
       "      <td>женат / замужем</td>\n",
       "      <td>0</td>\n",
       "      <td>F</td>\n",
       "      <td>сотрудник</td>\n",
       "      <td>0</td>\n",
       "      <td>160544.718446</td>\n",
       "      <td>образование</td>\n",
       "      <td>113.243735</td>\n",
       "    </tr>\n",
       "    <tr>\n",
       "      <td>5272</td>\n",
       "      <td>-1</td>\n",
       "      <td>1143.485347</td>\n",
       "      <td>46</td>\n",
       "      <td>среднее</td>\n",
       "      <td>1</td>\n",
       "      <td>вдовец / вдова</td>\n",
       "      <td>2</td>\n",
       "      <td>F</td>\n",
       "      <td>сотрудник</td>\n",
       "      <td>0</td>\n",
       "      <td>278708.018820</td>\n",
       "      <td>покупка недвижимости</td>\n",
       "      <td>38.116178</td>\n",
       "    </tr>\n",
       "    <tr>\n",
       "      <td>6013</td>\n",
       "      <td>-1</td>\n",
       "      <td>1361.258696</td>\n",
       "      <td>46</td>\n",
       "      <td>высшее</td>\n",
       "      <td>0</td>\n",
       "      <td>женат / замужем</td>\n",
       "      <td>0</td>\n",
       "      <td>F</td>\n",
       "      <td>сотрудник</td>\n",
       "      <td>0</td>\n",
       "      <td>143008.454914</td>\n",
       "      <td>строительство собственной недвижимости</td>\n",
       "      <td>45.375290</td>\n",
       "    </tr>\n",
       "    <tr>\n",
       "      <td>7190</td>\n",
       "      <td>-1</td>\n",
       "      <td>5928.202068</td>\n",
       "      <td>34</td>\n",
       "      <td>СРЕДНЕЕ</td>\n",
       "      <td>1</td>\n",
       "      <td>женат / замужем</td>\n",
       "      <td>0</td>\n",
       "      <td>M</td>\n",
       "      <td>сотрудник</td>\n",
       "      <td>0</td>\n",
       "      <td>184315.121979</td>\n",
       "      <td>приобретение автомобиля</td>\n",
       "      <td>329.344559</td>\n",
       "    </tr>\n",
       "    <tr>\n",
       "      <td>7278</td>\n",
       "      <td>-1</td>\n",
       "      <td>526.318451</td>\n",
       "      <td>51</td>\n",
       "      <td>среднее</td>\n",
       "      <td>1</td>\n",
       "      <td>женат / замужем</td>\n",
       "      <td>0</td>\n",
       "      <td>F</td>\n",
       "      <td>сотрудник</td>\n",
       "      <td>0</td>\n",
       "      <td>146928.769439</td>\n",
       "      <td>операции с коммерческой недвижимостью</td>\n",
       "      <td>15.037670</td>\n",
       "    </tr>\n",
       "    <tr>\n",
       "      <td>7615</td>\n",
       "      <td>-1</td>\n",
       "      <td>1793.422545</td>\n",
       "      <td>35</td>\n",
       "      <td>среднее</td>\n",
       "      <td>1</td>\n",
       "      <td>женат / замужем</td>\n",
       "      <td>0</td>\n",
       "      <td>M</td>\n",
       "      <td>сотрудник</td>\n",
       "      <td>0</td>\n",
       "      <td>142607.772745</td>\n",
       "      <td>образование</td>\n",
       "      <td>NaN</td>\n",
       "    </tr>\n",
       "    <tr>\n",
       "      <td>7685</td>\n",
       "      <td>-1</td>\n",
       "      <td>3237.360455</td>\n",
       "      <td>53</td>\n",
       "      <td>среднее</td>\n",
       "      <td>1</td>\n",
       "      <td>вдовец / вдова</td>\n",
       "      <td>2</td>\n",
       "      <td>F</td>\n",
       "      <td>сотрудник</td>\n",
       "      <td>0</td>\n",
       "      <td>159676.174958</td>\n",
       "      <td>строительство жилой недвижимости</td>\n",
       "      <td>87.496229</td>\n",
       "    </tr>\n",
       "    <tr>\n",
       "      <td>8229</td>\n",
       "      <td>-1</td>\n",
       "      <td>1803.441074</td>\n",
       "      <td>54</td>\n",
       "      <td>высшее</td>\n",
       "      <td>0</td>\n",
       "      <td>женат / замужем</td>\n",
       "      <td>0</td>\n",
       "      <td>F</td>\n",
       "      <td>компаньон</td>\n",
       "      <td>0</td>\n",
       "      <td>138809.082930</td>\n",
       "      <td>покупка недвижимости</td>\n",
       "      <td>47.458976</td>\n",
       "    </tr>\n",
       "    <tr>\n",
       "      <td>8251</td>\n",
       "      <td>-1</td>\n",
       "      <td>3113.998449</td>\n",
       "      <td>31</td>\n",
       "      <td>среднее</td>\n",
       "      <td>1</td>\n",
       "      <td>гражданский брак</td>\n",
       "      <td>1</td>\n",
       "      <td>F</td>\n",
       "      <td>сотрудник</td>\n",
       "      <td>0</td>\n",
       "      <td>54412.056005</td>\n",
       "      <td>свой автомобиль</td>\n",
       "      <td>207.599897</td>\n",
       "    </tr>\n",
       "    <tr>\n",
       "      <td>8561</td>\n",
       "      <td>-1</td>\n",
       "      <td>195.479496</td>\n",
       "      <td>31</td>\n",
       "      <td>среднее</td>\n",
       "      <td>1</td>\n",
       "      <td>женат / замужем</td>\n",
       "      <td>0</td>\n",
       "      <td>F</td>\n",
       "      <td>сотрудник</td>\n",
       "      <td>0</td>\n",
       "      <td>145577.881522</td>\n",
       "      <td>ремонт жилью</td>\n",
       "      <td>13.031966</td>\n",
       "    </tr>\n",
       "    <tr>\n",
       "      <td>9565</td>\n",
       "      <td>-1</td>\n",
       "      <td>2896.629686</td>\n",
       "      <td>34</td>\n",
       "      <td>высшее</td>\n",
       "      <td>0</td>\n",
       "      <td>женат / замужем</td>\n",
       "      <td>0</td>\n",
       "      <td>M</td>\n",
       "      <td>сотрудник</td>\n",
       "      <td>0</td>\n",
       "      <td>126754.656529</td>\n",
       "      <td>операции с недвижимостью</td>\n",
       "      <td>160.923871</td>\n",
       "    </tr>\n",
       "    <tr>\n",
       "      <td>9574</td>\n",
       "      <td>-1</td>\n",
       "      <td>2710.419901</td>\n",
       "      <td>28</td>\n",
       "      <td>высшее</td>\n",
       "      <td>0</td>\n",
       "      <td>женат / замужем</td>\n",
       "      <td>0</td>\n",
       "      <td>M</td>\n",
       "      <td>госслужащий</td>\n",
       "      <td>0</td>\n",
       "      <td>303137.161001</td>\n",
       "      <td>получение дополнительного образования</td>\n",
       "      <td>225.868325</td>\n",
       "    </tr>\n",
       "    <tr>\n",
       "      <td>10177</td>\n",
       "      <td>-1</td>\n",
       "      <td>1743.604011</td>\n",
       "      <td>37</td>\n",
       "      <td>среднее</td>\n",
       "      <td>1</td>\n",
       "      <td>женат / замужем</td>\n",
       "      <td>0</td>\n",
       "      <td>M</td>\n",
       "      <td>сотрудник</td>\n",
       "      <td>0</td>\n",
       "      <td>310367.509001</td>\n",
       "      <td>получение образования</td>\n",
       "      <td>83.028762</td>\n",
       "    </tr>\n",
       "    <tr>\n",
       "      <td>10365</td>\n",
       "      <td>-1</td>\n",
       "      <td>14407.255248</td>\n",
       "      <td>63</td>\n",
       "      <td>ВЫСШЕЕ</td>\n",
       "      <td>0</td>\n",
       "      <td>вдовец / вдова</td>\n",
       "      <td>2</td>\n",
       "      <td>F</td>\n",
       "      <td>пенсионер</td>\n",
       "      <td>0</td>\n",
       "      <td>170762.751325</td>\n",
       "      <td>строительство жилой недвижимости</td>\n",
       "      <td>306.537346</td>\n",
       "    </tr>\n",
       "    <tr>\n",
       "      <td>11109</td>\n",
       "      <td>-1</td>\n",
       "      <td>3438.463024</td>\n",
       "      <td>59</td>\n",
       "      <td>среднее</td>\n",
       "      <td>1</td>\n",
       "      <td>женат / замужем</td>\n",
       "      <td>0</td>\n",
       "      <td>F</td>\n",
       "      <td>сотрудник</td>\n",
       "      <td>0</td>\n",
       "      <td>219874.012345</td>\n",
       "      <td>операции с жильем</td>\n",
       "      <td>79.964256</td>\n",
       "    </tr>\n",
       "    <tr>\n",
       "      <td>11268</td>\n",
       "      <td>-1</td>\n",
       "      <td>1048.782203</td>\n",
       "      <td>30</td>\n",
       "      <td>высшее</td>\n",
       "      <td>0</td>\n",
       "      <td>гражданский брак</td>\n",
       "      <td>1</td>\n",
       "      <td>F</td>\n",
       "      <td>компаньон</td>\n",
       "      <td>0</td>\n",
       "      <td>321603.700207</td>\n",
       "      <td>на покупку автомобиля</td>\n",
       "      <td>74.913014</td>\n",
       "    </tr>\n",
       "    <tr>\n",
       "      <td>11617</td>\n",
       "      <td>-1</td>\n",
       "      <td>370.827130</td>\n",
       "      <td>27</td>\n",
       "      <td>среднее</td>\n",
       "      <td>1</td>\n",
       "      <td>женат / замужем</td>\n",
       "      <td>0</td>\n",
       "      <td>F</td>\n",
       "      <td>компаньон</td>\n",
       "      <td>0</td>\n",
       "      <td>164591.260338</td>\n",
       "      <td>покупка жилья для сдачи</td>\n",
       "      <td>33.711557</td>\n",
       "    </tr>\n",
       "    <tr>\n",
       "      <td>12304</td>\n",
       "      <td>-1</td>\n",
       "      <td>8493.101252</td>\n",
       "      <td>61</td>\n",
       "      <td>неоконченное высшее</td>\n",
       "      <td>2</td>\n",
       "      <td>женат / замужем</td>\n",
       "      <td>0</td>\n",
       "      <td>M</td>\n",
       "      <td>сотрудник</td>\n",
       "      <td>0</td>\n",
       "      <td>315006.182056</td>\n",
       "      <td>недвижимость</td>\n",
       "      <td>188.735583</td>\n",
       "    </tr>\n",
       "    <tr>\n",
       "      <td>13786</td>\n",
       "      <td>-1</td>\n",
       "      <td>2454.157167</td>\n",
       "      <td>42</td>\n",
       "      <td>среднее</td>\n",
       "      <td>1</td>\n",
       "      <td>Не женат / не замужем</td>\n",
       "      <td>4</td>\n",
       "      <td>M</td>\n",
       "      <td>компаньон</td>\n",
       "      <td>0</td>\n",
       "      <td>172396.000846</td>\n",
       "      <td>автомобиль</td>\n",
       "      <td>NaN</td>\n",
       "    </tr>\n",
       "    <tr>\n",
       "      <td>14357</td>\n",
       "      <td>-1</td>\n",
       "      <td>268.337037</td>\n",
       "      <td>23</td>\n",
       "      <td>среднее</td>\n",
       "      <td>1</td>\n",
       "      <td>в разводе</td>\n",
       "      <td>3</td>\n",
       "      <td>F</td>\n",
       "      <td>компаньон</td>\n",
       "      <td>0</td>\n",
       "      <td>92257.579312</td>\n",
       "      <td>покупка жилой недвижимости</td>\n",
       "      <td>38.333862</td>\n",
       "    </tr>\n",
       "    <tr>\n",
       "      <td>15147</td>\n",
       "      <td>-1</td>\n",
       "      <td>9851.184337</td>\n",
       "      <td>44</td>\n",
       "      <td>среднее</td>\n",
       "      <td>1</td>\n",
       "      <td>в разводе</td>\n",
       "      <td>3</td>\n",
       "      <td>F</td>\n",
       "      <td>сотрудник</td>\n",
       "      <td>0</td>\n",
       "      <td>110990.810581</td>\n",
       "      <td>свой автомобиль</td>\n",
       "      <td>351.828012</td>\n",
       "    </tr>\n",
       "    <tr>\n",
       "      <td>15435</td>\n",
       "      <td>-1</td>\n",
       "      <td>3614.220232</td>\n",
       "      <td>40</td>\n",
       "      <td>высшее</td>\n",
       "      <td>0</td>\n",
       "      <td>гражданский брак</td>\n",
       "      <td>1</td>\n",
       "      <td>F</td>\n",
       "      <td>сотрудник</td>\n",
       "      <td>0</td>\n",
       "      <td>98127.537462</td>\n",
       "      <td>сыграть свадьбу</td>\n",
       "      <td>150.592510</td>\n",
       "    </tr>\n",
       "    <tr>\n",
       "      <td>16129</td>\n",
       "      <td>-1</td>\n",
       "      <td>457.861760</td>\n",
       "      <td>33</td>\n",
       "      <td>среднее</td>\n",
       "      <td>1</td>\n",
       "      <td>женат / замужем</td>\n",
       "      <td>0</td>\n",
       "      <td>F</td>\n",
       "      <td>сотрудник</td>\n",
       "      <td>1</td>\n",
       "      <td>149641.079451</td>\n",
       "      <td>автомобиль</td>\n",
       "      <td>26.933045</td>\n",
       "    </tr>\n",
       "    <tr>\n",
       "      <td>16265</td>\n",
       "      <td>-1</td>\n",
       "      <td>2802.218127</td>\n",
       "      <td>40</td>\n",
       "      <td>высшее</td>\n",
       "      <td>0</td>\n",
       "      <td>женат / замужем</td>\n",
       "      <td>0</td>\n",
       "      <td>M</td>\n",
       "      <td>сотрудник</td>\n",
       "      <td>0</td>\n",
       "      <td>111984.472021</td>\n",
       "      <td>покупка жилья</td>\n",
       "      <td>116.759089</td>\n",
       "    </tr>\n",
       "    <tr>\n",
       "      <td>17095</td>\n",
       "      <td>-1</td>\n",
       "      <td>2809.693200</td>\n",
       "      <td>34</td>\n",
       "      <td>среднее</td>\n",
       "      <td>1</td>\n",
       "      <td>женат / замужем</td>\n",
       "      <td>0</td>\n",
       "      <td>F</td>\n",
       "      <td>сотрудник</td>\n",
       "      <td>0</td>\n",
       "      <td>182543.890127</td>\n",
       "      <td>на покупку подержанного автомобиля</td>\n",
       "      <td>156.094067</td>\n",
       "    </tr>\n",
       "    <tr>\n",
       "      <td>17429</td>\n",
       "      <td>-1</td>\n",
       "      <td>895.379738</td>\n",
       "      <td>37</td>\n",
       "      <td>среднее</td>\n",
       "      <td>1</td>\n",
       "      <td>женат / замужем</td>\n",
       "      <td>0</td>\n",
       "      <td>F</td>\n",
       "      <td>компаньон</td>\n",
       "      <td>0</td>\n",
       "      <td>214814.018780</td>\n",
       "      <td>жилье</td>\n",
       "      <td>42.637130</td>\n",
       "    </tr>\n",
       "    <tr>\n",
       "      <td>17657</td>\n",
       "      <td>-1</td>\n",
       "      <td>4571.957475</td>\n",
       "      <td>41</td>\n",
       "      <td>среднее</td>\n",
       "      <td>1</td>\n",
       "      <td>женат / замужем</td>\n",
       "      <td>0</td>\n",
       "      <td>F</td>\n",
       "      <td>сотрудник</td>\n",
       "      <td>0</td>\n",
       "      <td>122105.415823</td>\n",
       "      <td>операции со своей недвижимостью</td>\n",
       "      <td>182.878299</td>\n",
       "    </tr>\n",
       "    <tr>\n",
       "      <td>18219</td>\n",
       "      <td>-1</td>\n",
       "      <td>3575.215641</td>\n",
       "      <td>33</td>\n",
       "      <td>среднее</td>\n",
       "      <td>1</td>\n",
       "      <td>женат / замужем</td>\n",
       "      <td>0</td>\n",
       "      <td>F</td>\n",
       "      <td>сотрудник</td>\n",
       "      <td>0</td>\n",
       "      <td>128362.023879</td>\n",
       "      <td>высшее образование</td>\n",
       "      <td>210.306802</td>\n",
       "    </tr>\n",
       "    <tr>\n",
       "      <td>19100</td>\n",
       "      <td>-1</td>\n",
       "      <td>617.246968</td>\n",
       "      <td>38</td>\n",
       "      <td>среднее</td>\n",
       "      <td>1</td>\n",
       "      <td>Не женат / не замужем</td>\n",
       "      <td>4</td>\n",
       "      <td>M</td>\n",
       "      <td>сотрудник</td>\n",
       "      <td>0</td>\n",
       "      <td>122205.497527</td>\n",
       "      <td>строительство жилой недвижимости</td>\n",
       "      <td>28.056680</td>\n",
       "    </tr>\n",
       "    <tr>\n",
       "      <td>19366</td>\n",
       "      <td>-1</td>\n",
       "      <td>372.034749</td>\n",
       "      <td>43</td>\n",
       "      <td>СРЕДНЕЕ</td>\n",
       "      <td>1</td>\n",
       "      <td>женат / замужем</td>\n",
       "      <td>0</td>\n",
       "      <td>M</td>\n",
       "      <td>сотрудник</td>\n",
       "      <td>0</td>\n",
       "      <td>155588.766795</td>\n",
       "      <td>сделка с подержанным автомобилем</td>\n",
       "      <td>13.779065</td>\n",
       "    </tr>\n",
       "    <tr>\n",
       "      <td>20393</td>\n",
       "      <td>-1</td>\n",
       "      <td>14798.212801</td>\n",
       "      <td>69</td>\n",
       "      <td>среднее</td>\n",
       "      <td>1</td>\n",
       "      <td>Не женат / не замужем</td>\n",
       "      <td>4</td>\n",
       "      <td>F</td>\n",
       "      <td>пенсионер</td>\n",
       "      <td>0</td>\n",
       "      <td>116521.045858</td>\n",
       "      <td>операции с недвижимостью</td>\n",
       "      <td>279.211562</td>\n",
       "    </tr>\n",
       "    <tr>\n",
       "      <td>20717</td>\n",
       "      <td>-1</td>\n",
       "      <td>661.822321</td>\n",
       "      <td>32</td>\n",
       "      <td>высшее</td>\n",
       "      <td>0</td>\n",
       "      <td>женат / замужем</td>\n",
       "      <td>0</td>\n",
       "      <td>F</td>\n",
       "      <td>сотрудник</td>\n",
       "      <td>0</td>\n",
       "      <td>137405.384917</td>\n",
       "      <td>покупка жилой недвижимости</td>\n",
       "      <td>41.363895</td>\n",
       "    </tr>\n",
       "    <tr>\n",
       "      <td>21140</td>\n",
       "      <td>-1</td>\n",
       "      <td>1422.668059</td>\n",
       "      <td>44</td>\n",
       "      <td>среднее</td>\n",
       "      <td>1</td>\n",
       "      <td>женат / замужем</td>\n",
       "      <td>0</td>\n",
       "      <td>F</td>\n",
       "      <td>компаньон</td>\n",
       "      <td>0</td>\n",
       "      <td>169562.091999</td>\n",
       "      <td>операции со своей недвижимостью</td>\n",
       "      <td>50.809574</td>\n",
       "    </tr>\n",
       "  </tbody>\n",
       "</table>\n",
       "</div>"
      ],
      "text/plain": [
       "       children  days_employed  dob_years            education  education_id  \\\n",
       "291          -1    4417.703588         46              среднее             1   \n",
       "705          -1     902.084528         50              среднее             1   \n",
       "742          -1    3174.456205         57              среднее             1   \n",
       "941          -1    3870.017071         57              Среднее             1   \n",
       "1363         -1    1195.264956         55              СРЕДНЕЕ             1   \n",
       "1929         -1    1461.303336         38              среднее             1   \n",
       "2073         -1    2539.761232         42              среднее             1   \n",
       "3814         -1    3045.290443         26              Среднее             1   \n",
       "4201         -1     901.101738         41              среднее             1   \n",
       "4402         -1   16583.387620         64              СРЕДНЕЕ             1   \n",
       "4542         -1    1811.899756         32              среднее             1   \n",
       "5272         -1    1143.485347         46              среднее             1   \n",
       "6013         -1    1361.258696         46               высшее             0   \n",
       "7190         -1    5928.202068         34              СРЕДНЕЕ             1   \n",
       "7278         -1     526.318451         51              среднее             1   \n",
       "7615         -1    1793.422545         35              среднее             1   \n",
       "7685         -1    3237.360455         53              среднее             1   \n",
       "8229         -1    1803.441074         54               высшее             0   \n",
       "8251         -1    3113.998449         31              среднее             1   \n",
       "8561         -1     195.479496         31              среднее             1   \n",
       "9565         -1    2896.629686         34               высшее             0   \n",
       "9574         -1    2710.419901         28               высшее             0   \n",
       "10177        -1    1743.604011         37              среднее             1   \n",
       "10365        -1   14407.255248         63               ВЫСШЕЕ             0   \n",
       "11109        -1    3438.463024         59              среднее             1   \n",
       "11268        -1    1048.782203         30               высшее             0   \n",
       "11617        -1     370.827130         27              среднее             1   \n",
       "12304        -1    8493.101252         61  неоконченное высшее             2   \n",
       "13786        -1    2454.157167         42              среднее             1   \n",
       "14357        -1     268.337037         23              среднее             1   \n",
       "15147        -1    9851.184337         44              среднее             1   \n",
       "15435        -1    3614.220232         40               высшее             0   \n",
       "16129        -1     457.861760         33              среднее             1   \n",
       "16265        -1    2802.218127         40               высшее             0   \n",
       "17095        -1    2809.693200         34              среднее             1   \n",
       "17429        -1     895.379738         37              среднее             1   \n",
       "17657        -1    4571.957475         41              среднее             1   \n",
       "18219        -1    3575.215641         33              среднее             1   \n",
       "19100        -1     617.246968         38              среднее             1   \n",
       "19366        -1     372.034749         43              СРЕДНЕЕ             1   \n",
       "20393        -1   14798.212801         69              среднее             1   \n",
       "20717        -1     661.822321         32               высшее             0   \n",
       "21140        -1    1422.668059         44              среднее             1   \n",
       "\n",
       "               family_status  family_status_id gender  income_type  debt  \\\n",
       "291         гражданский брак                 1      F    сотрудник     0   \n",
       "705          женат / замужем                 0      F  госслужащий     0   \n",
       "742          женат / замужем                 0      F    сотрудник     0   \n",
       "941          женат / замужем                 0      F    пенсионер     0   \n",
       "1363         женат / замужем                 0      F    компаньон     0   \n",
       "1929   Не женат / не замужем                 4      M    сотрудник     0   \n",
       "2073               в разводе                 3      F    компаньон     0   \n",
       "3814        гражданский брак                 1      F  госслужащий     0   \n",
       "4201         женат / замужем                 0      F  госслужащий     0   \n",
       "4402         женат / замужем                 0      F    пенсионер     0   \n",
       "4542         женат / замужем                 0      F    сотрудник     0   \n",
       "5272          вдовец / вдова                 2      F    сотрудник     0   \n",
       "6013         женат / замужем                 0      F    сотрудник     0   \n",
       "7190         женат / замужем                 0      M    сотрудник     0   \n",
       "7278         женат / замужем                 0      F    сотрудник     0   \n",
       "7615         женат / замужем                 0      M    сотрудник     0   \n",
       "7685          вдовец / вдова                 2      F    сотрудник     0   \n",
       "8229         женат / замужем                 0      F    компаньон     0   \n",
       "8251        гражданский брак                 1      F    сотрудник     0   \n",
       "8561         женат / замужем                 0      F    сотрудник     0   \n",
       "9565         женат / замужем                 0      M    сотрудник     0   \n",
       "9574         женат / замужем                 0      M  госслужащий     0   \n",
       "10177        женат / замужем                 0      M    сотрудник     0   \n",
       "10365         вдовец / вдова                 2      F    пенсионер     0   \n",
       "11109        женат / замужем                 0      F    сотрудник     0   \n",
       "11268       гражданский брак                 1      F    компаньон     0   \n",
       "11617        женат / замужем                 0      F    компаньон     0   \n",
       "12304        женат / замужем                 0      M    сотрудник     0   \n",
       "13786  Не женат / не замужем                 4      M    компаньон     0   \n",
       "14357              в разводе                 3      F    компаньон     0   \n",
       "15147              в разводе                 3      F    сотрудник     0   \n",
       "15435       гражданский брак                 1      F    сотрудник     0   \n",
       "16129        женат / замужем                 0      F    сотрудник     1   \n",
       "16265        женат / замужем                 0      M    сотрудник     0   \n",
       "17095        женат / замужем                 0      F    сотрудник     0   \n",
       "17429        женат / замужем                 0      F    компаньон     0   \n",
       "17657        женат / замужем                 0      F    сотрудник     0   \n",
       "18219        женат / замужем                 0      F    сотрудник     0   \n",
       "19100  Не женат / не замужем                 4      M    сотрудник     0   \n",
       "19366        женат / замужем                 0      M    сотрудник     0   \n",
       "20393  Не женат / не замужем                 4      F    пенсионер     0   \n",
       "20717        женат / замужем                 0      F    сотрудник     0   \n",
       "21140        женат / замужем                 0      F    компаньон     0   \n",
       "\n",
       "        total_income                                 purpose  \\\n",
       "291    102816.346412                  профильное образование   \n",
       "705    137882.899271                 приобретение автомобиля   \n",
       "742     64268.044444              дополнительное образование   \n",
       "941    115413.406988            на покупку своего автомобиля   \n",
       "1363    69550.699692                  профильное образование   \n",
       "1929   109121.569013                           покупка жилья   \n",
       "2073   162638.609373                           покупка жилья   \n",
       "3814   131892.785435                   на проведение свадьбы   \n",
       "4201   226375.766751         операции со своей недвижимостью   \n",
       "4402   163264.062064                    покупка недвижимости   \n",
       "4542   160544.718446                             образование   \n",
       "5272   278708.018820                    покупка недвижимости   \n",
       "6013   143008.454914  строительство собственной недвижимости   \n",
       "7190   184315.121979                 приобретение автомобиля   \n",
       "7278   146928.769439   операции с коммерческой недвижимостью   \n",
       "7615   142607.772745                             образование   \n",
       "7685   159676.174958        строительство жилой недвижимости   \n",
       "8229   138809.082930                    покупка недвижимости   \n",
       "8251    54412.056005                         свой автомобиль   \n",
       "8561   145577.881522                            ремонт жилью   \n",
       "9565   126754.656529                операции с недвижимостью   \n",
       "9574   303137.161001   получение дополнительного образования   \n",
       "10177  310367.509001                   получение образования   \n",
       "10365  170762.751325        строительство жилой недвижимости   \n",
       "11109  219874.012345                       операции с жильем   \n",
       "11268  321603.700207                   на покупку автомобиля   \n",
       "11617  164591.260338                 покупка жилья для сдачи   \n",
       "12304  315006.182056                            недвижимость   \n",
       "13786  172396.000846                              автомобиль   \n",
       "14357   92257.579312              покупка жилой недвижимости   \n",
       "15147  110990.810581                         свой автомобиль   \n",
       "15435   98127.537462                         сыграть свадьбу   \n",
       "16129  149641.079451                              автомобиль   \n",
       "16265  111984.472021                           покупка жилья   \n",
       "17095  182543.890127      на покупку подержанного автомобиля   \n",
       "17429  214814.018780                                   жилье   \n",
       "17657  122105.415823         операции со своей недвижимостью   \n",
       "18219  128362.023879                      высшее образование   \n",
       "19100  122205.497527        строительство жилой недвижимости   \n",
       "19366  155588.766795        сделка с подержанным автомобилем   \n",
       "20393  116521.045858                операции с недвижимостью   \n",
       "20717  137405.384917              покупка жилой недвижимости   \n",
       "21140  169562.091999         операции со своей недвижимостью   \n",
       "\n",
       "       days_employed_per_year  \n",
       "291                147.256786  \n",
       "705                 26.531898  \n",
       "742                 77.425761  \n",
       "941                       NaN  \n",
       "1363                30.647819  \n",
       "1929                66.422879  \n",
       "2073                97.683124  \n",
       "3814               304.529044  \n",
       "4201                36.044070  \n",
       "4402               345.487242  \n",
       "4542               113.243735  \n",
       "5272                38.116178  \n",
       "6013                45.375290  \n",
       "7190               329.344559  \n",
       "7278                15.037670  \n",
       "7615                      NaN  \n",
       "7685                87.496229  \n",
       "8229                47.458976  \n",
       "8251               207.599897  \n",
       "8561                13.031966  \n",
       "9565               160.923871  \n",
       "9574               225.868325  \n",
       "10177               83.028762  \n",
       "10365              306.537346  \n",
       "11109               79.964256  \n",
       "11268               74.913014  \n",
       "11617               33.711557  \n",
       "12304              188.735583  \n",
       "13786                     NaN  \n",
       "14357               38.333862  \n",
       "15147              351.828012  \n",
       "15435              150.592510  \n",
       "16129               26.933045  \n",
       "16265              116.759089  \n",
       "17095              156.094067  \n",
       "17429               42.637130  \n",
       "17657              182.878299  \n",
       "18219              210.306802  \n",
       "19100               28.056680  \n",
       "19366               13.779065  \n",
       "20393              279.211562  \n",
       "20717               41.363895  \n",
       "21140               50.809574  "
      ]
     },
     "execution_count": 23,
     "metadata": {},
     "output_type": "execute_result"
    }
   ],
   "source": [
    "data[data['children'] == -1]"
   ]
  },
  {
   "cell_type": "code",
   "execution_count": 24,
   "metadata": {},
   "outputs": [
    {
     "data": {
      "text/html": [
       "<div>\n",
       "<style scoped>\n",
       "    .dataframe tbody tr th:only-of-type {\n",
       "        vertical-align: middle;\n",
       "    }\n",
       "\n",
       "    .dataframe tbody tr th {\n",
       "        vertical-align: top;\n",
       "    }\n",
       "\n",
       "    .dataframe thead th {\n",
       "        text-align: right;\n",
       "    }\n",
       "</style>\n",
       "<table border=\"1\" class=\"dataframe\">\n",
       "  <thead>\n",
       "    <tr style=\"text-align: right;\">\n",
       "      <th></th>\n",
       "      <th>children</th>\n",
       "      <th>days_employed</th>\n",
       "      <th>dob_years</th>\n",
       "      <th>education</th>\n",
       "      <th>education_id</th>\n",
       "      <th>family_status</th>\n",
       "      <th>family_status_id</th>\n",
       "      <th>gender</th>\n",
       "      <th>income_type</th>\n",
       "      <th>debt</th>\n",
       "      <th>total_income</th>\n",
       "      <th>purpose</th>\n",
       "      <th>days_employed_per_year</th>\n",
       "    </tr>\n",
       "  </thead>\n",
       "  <tbody>\n",
       "    <tr>\n",
       "      <td>606</td>\n",
       "      <td>20</td>\n",
       "      <td>880.221113</td>\n",
       "      <td>21</td>\n",
       "      <td>среднее</td>\n",
       "      <td>1</td>\n",
       "      <td>женат / замужем</td>\n",
       "      <td>0</td>\n",
       "      <td>M</td>\n",
       "      <td>компаньон</td>\n",
       "      <td>0</td>\n",
       "      <td>145334.865002</td>\n",
       "      <td>покупка жилья</td>\n",
       "      <td>176.044223</td>\n",
       "    </tr>\n",
       "    <tr>\n",
       "      <td>720</td>\n",
       "      <td>20</td>\n",
       "      <td>855.595512</td>\n",
       "      <td>44</td>\n",
       "      <td>среднее</td>\n",
       "      <td>1</td>\n",
       "      <td>женат / замужем</td>\n",
       "      <td>0</td>\n",
       "      <td>F</td>\n",
       "      <td>компаньон</td>\n",
       "      <td>0</td>\n",
       "      <td>112998.738649</td>\n",
       "      <td>покупка недвижимости</td>\n",
       "      <td>30.556983</td>\n",
       "    </tr>\n",
       "    <tr>\n",
       "      <td>1074</td>\n",
       "      <td>20</td>\n",
       "      <td>3310.411598</td>\n",
       "      <td>56</td>\n",
       "      <td>среднее</td>\n",
       "      <td>1</td>\n",
       "      <td>женат / замужем</td>\n",
       "      <td>0</td>\n",
       "      <td>F</td>\n",
       "      <td>сотрудник</td>\n",
       "      <td>1</td>\n",
       "      <td>229518.537004</td>\n",
       "      <td>получение образования</td>\n",
       "      <td>82.760290</td>\n",
       "    </tr>\n",
       "    <tr>\n",
       "      <td>2510</td>\n",
       "      <td>20</td>\n",
       "      <td>2714.161249</td>\n",
       "      <td>59</td>\n",
       "      <td>высшее</td>\n",
       "      <td>0</td>\n",
       "      <td>вдовец / вдова</td>\n",
       "      <td>2</td>\n",
       "      <td>F</td>\n",
       "      <td>сотрудник</td>\n",
       "      <td>0</td>\n",
       "      <td>264474.835577</td>\n",
       "      <td>операции с коммерческой недвижимостью</td>\n",
       "      <td>63.120029</td>\n",
       "    </tr>\n",
       "    <tr>\n",
       "      <td>3302</td>\n",
       "      <td>20</td>\n",
       "      <td>1793.422545</td>\n",
       "      <td>35</td>\n",
       "      <td>среднее</td>\n",
       "      <td>1</td>\n",
       "      <td>Не женат / не замужем</td>\n",
       "      <td>4</td>\n",
       "      <td>F</td>\n",
       "      <td>госслужащий</td>\n",
       "      <td>0</td>\n",
       "      <td>150521.917580</td>\n",
       "      <td>профильное образование</td>\n",
       "      <td>NaN</td>\n",
       "    </tr>\n",
       "    <tr>\n",
       "      <td>...</td>\n",
       "      <td>...</td>\n",
       "      <td>...</td>\n",
       "      <td>...</td>\n",
       "      <td>...</td>\n",
       "      <td>...</td>\n",
       "      <td>...</td>\n",
       "      <td>...</td>\n",
       "      <td>...</td>\n",
       "      <td>...</td>\n",
       "      <td>...</td>\n",
       "      <td>...</td>\n",
       "      <td>...</td>\n",
       "      <td>...</td>\n",
       "    </tr>\n",
       "    <tr>\n",
       "      <td>21008</td>\n",
       "      <td>20</td>\n",
       "      <td>1240.257910</td>\n",
       "      <td>40</td>\n",
       "      <td>среднее</td>\n",
       "      <td>1</td>\n",
       "      <td>женат / замужем</td>\n",
       "      <td>0</td>\n",
       "      <td>F</td>\n",
       "      <td>сотрудник</td>\n",
       "      <td>1</td>\n",
       "      <td>133524.010303</td>\n",
       "      <td>свой автомобиль</td>\n",
       "      <td>51.677413</td>\n",
       "    </tr>\n",
       "    <tr>\n",
       "      <td>21325</td>\n",
       "      <td>20</td>\n",
       "      <td>601.174883</td>\n",
       "      <td>37</td>\n",
       "      <td>среднее</td>\n",
       "      <td>1</td>\n",
       "      <td>женат / замужем</td>\n",
       "      <td>0</td>\n",
       "      <td>F</td>\n",
       "      <td>компаньон</td>\n",
       "      <td>0</td>\n",
       "      <td>102986.065978</td>\n",
       "      <td>профильное образование</td>\n",
       "      <td>28.627375</td>\n",
       "    </tr>\n",
       "    <tr>\n",
       "      <td>21390</td>\n",
       "      <td>20</td>\n",
       "      <td>3492.454430</td>\n",
       "      <td>53</td>\n",
       "      <td>среднее</td>\n",
       "      <td>1</td>\n",
       "      <td>женат / замужем</td>\n",
       "      <td>0</td>\n",
       "      <td>M</td>\n",
       "      <td>компаньон</td>\n",
       "      <td>0</td>\n",
       "      <td>172396.000846</td>\n",
       "      <td>покупка жилой недвижимости</td>\n",
       "      <td>NaN</td>\n",
       "    </tr>\n",
       "    <tr>\n",
       "      <td>21404</td>\n",
       "      <td>20</td>\n",
       "      <td>494.788448</td>\n",
       "      <td>52</td>\n",
       "      <td>среднее</td>\n",
       "      <td>1</td>\n",
       "      <td>женат / замужем</td>\n",
       "      <td>0</td>\n",
       "      <td>M</td>\n",
       "      <td>компаньон</td>\n",
       "      <td>0</td>\n",
       "      <td>156629.683642</td>\n",
       "      <td>операции со своей недвижимостью</td>\n",
       "      <td>13.744124</td>\n",
       "    </tr>\n",
       "    <tr>\n",
       "      <td>21491</td>\n",
       "      <td>20</td>\n",
       "      <td>173.954460</td>\n",
       "      <td>27</td>\n",
       "      <td>среднее</td>\n",
       "      <td>1</td>\n",
       "      <td>женат / замужем</td>\n",
       "      <td>0</td>\n",
       "      <td>F</td>\n",
       "      <td>сотрудник</td>\n",
       "      <td>0</td>\n",
       "      <td>155520.899688</td>\n",
       "      <td>на покупку подержанного автомобиля</td>\n",
       "      <td>15.814042</td>\n",
       "    </tr>\n",
       "  </tbody>\n",
       "</table>\n",
       "<p>72 rows × 13 columns</p>\n",
       "</div>"
      ],
      "text/plain": [
       "       children  days_employed  dob_years education  education_id  \\\n",
       "606          20     880.221113         21   среднее             1   \n",
       "720          20     855.595512         44   среднее             1   \n",
       "1074         20    3310.411598         56   среднее             1   \n",
       "2510         20    2714.161249         59    высшее             0   \n",
       "3302         20    1793.422545         35   среднее             1   \n",
       "...         ...            ...        ...       ...           ...   \n",
       "21008        20    1240.257910         40   среднее             1   \n",
       "21325        20     601.174883         37   среднее             1   \n",
       "21390        20    3492.454430         53   среднее             1   \n",
       "21404        20     494.788448         52   среднее             1   \n",
       "21491        20     173.954460         27   среднее             1   \n",
       "\n",
       "               family_status  family_status_id gender  income_type  debt  \\\n",
       "606          женат / замужем                 0      M    компаньон     0   \n",
       "720          женат / замужем                 0      F    компаньон     0   \n",
       "1074         женат / замужем                 0      F    сотрудник     1   \n",
       "2510          вдовец / вдова                 2      F    сотрудник     0   \n",
       "3302   Не женат / не замужем                 4      F  госслужащий     0   \n",
       "...                      ...               ...    ...          ...   ...   \n",
       "21008        женат / замужем                 0      F    сотрудник     1   \n",
       "21325        женат / замужем                 0      F    компаньон     0   \n",
       "21390        женат / замужем                 0      M    компаньон     0   \n",
       "21404        женат / замужем                 0      M    компаньон     0   \n",
       "21491        женат / замужем                 0      F    сотрудник     0   \n",
       "\n",
       "        total_income                                purpose  \\\n",
       "606    145334.865002                          покупка жилья   \n",
       "720    112998.738649                   покупка недвижимости   \n",
       "1074   229518.537004                  получение образования   \n",
       "2510   264474.835577  операции с коммерческой недвижимостью   \n",
       "3302   150521.917580                 профильное образование   \n",
       "...              ...                                    ...   \n",
       "21008  133524.010303                        свой автомобиль   \n",
       "21325  102986.065978                 профильное образование   \n",
       "21390  172396.000846             покупка жилой недвижимости   \n",
       "21404  156629.683642        операции со своей недвижимостью   \n",
       "21491  155520.899688     на покупку подержанного автомобиля   \n",
       "\n",
       "       days_employed_per_year  \n",
       "606                176.044223  \n",
       "720                 30.556983  \n",
       "1074                82.760290  \n",
       "2510                63.120029  \n",
       "3302                      NaN  \n",
       "...                       ...  \n",
       "21008               51.677413  \n",
       "21325               28.627375  \n",
       "21390                     NaN  \n",
       "21404               13.744124  \n",
       "21491               15.814042  \n",
       "\n",
       "[72 rows x 13 columns]"
      ]
     },
     "execution_count": 24,
     "metadata": {},
     "output_type": "execute_result"
    }
   ],
   "source": [
    "data[data['children'] == 20]"
   ]
  },
  {
   "cell_type": "markdown",
   "metadata": {},
   "source": [
    "По значению -1 все понятно: такого не может быть, в принципе. Так как все клиенты совершеннолетние, то найти причины, по которым у любого из них не может быть 1 ребенок мы не можем, так что заменим -1 на 1.\n",
    "\n",
    "С клиентами, у которых отметка на 20 детей ситуация чуть сложнее: с одной стороны, есть клиенты, которые в силу возраста не могли бы иметь столько детей (например, 21-летний молодой человек с 20 детьми - звучит фантастически); с другой стороны есть клиенты в возрасте, которые чисто теоретически могли обзавестись таким количеством детей, но отталкиваясь от того, что таких клиентов в нашей базе получилось почти в 2 раза больше, чем клиентов с 4 детьми, и в 8 раз больше, чем клиентов с 5 детьми, а также от того факта, что клиентов с количеством детей от 6 до 19 вообще нет, можно понять, что здесь что-то не так. Так что этой группе заемщиков мы тоже нашли новый дом\n",
    "\n",
    "Заменим значения -1 на 1, а 20 - на 2"
   ]
  },
  {
   "cell_type": "code",
   "execution_count": 25,
   "metadata": {},
   "outputs": [],
   "source": [
    "data['children'] = data['children'].replace(-1, 1)\n",
    "data['children'] = data['children'].replace(20, 2)"
   ]
  },
  {
   "cell_type": "markdown",
   "metadata": {},
   "source": [
    "Проверяем - все ли заменилось успешно?"
   ]
  },
  {
   "cell_type": "code",
   "execution_count": 26,
   "metadata": {},
   "outputs": [
    {
     "data": {
      "text/plain": [
       "0    12908\n",
       "1     4709\n",
       "2     2096\n",
       "3      322\n",
       "4       40\n",
       "5        9\n",
       "Name: children, dtype: int64"
      ]
     },
     "execution_count": 26,
     "metadata": {},
     "output_type": "execute_result"
    }
   ],
   "source": [
    "data['children'].value_counts()"
   ]
  },
  {
   "cell_type": "markdown",
   "metadata": {},
   "source": [
    "Да, теперь все выглядит красиво и логично!"
   ]
  },
  {
   "cell_type": "markdown",
   "metadata": {},
   "source": [
    "Проверим общую информацию о данных с помощью метода .info(), а также подсчитаем количество незаполненных ячеек связки методов .isna() и .sum()"
   ]
  },
  {
   "cell_type": "code",
   "execution_count": 27,
   "metadata": {},
   "outputs": [
    {
     "name": "stdout",
     "output_type": "stream",
     "text": [
      "<class 'pandas.core.frame.DataFrame'>\n",
      "Int64Index: 20084 entries, 0 to 21524\n",
      "Data columns (total 13 columns):\n",
      "children                  20084 non-null int64\n",
      "days_employed             20084 non-null float64\n",
      "dob_years                 20084 non-null int64\n",
      "education                 20084 non-null object\n",
      "education_id              20084 non-null int64\n",
      "family_status             20084 non-null object\n",
      "family_status_id          20084 non-null int64\n",
      "gender                    20084 non-null object\n",
      "income_type               20084 non-null object\n",
      "debt                      20084 non-null int64\n",
      "total_income              20084 non-null float64\n",
      "purpose                   20084 non-null object\n",
      "days_employed_per_year    17920 non-null float64\n",
      "dtypes: float64(3), int64(5), object(5)\n",
      "memory usage: 2.8+ MB\n"
     ]
    },
    {
     "data": {
      "text/plain": [
       "children                     0\n",
       "days_employed                0\n",
       "dob_years                    0\n",
       "education                    0\n",
       "education_id                 0\n",
       "family_status                0\n",
       "family_status_id             0\n",
       "gender                       0\n",
       "income_type                  0\n",
       "debt                         0\n",
       "total_income                 0\n",
       "purpose                      0\n",
       "days_employed_per_year    2164\n",
       "dtype: int64"
      ]
     },
     "execution_count": 27,
     "metadata": {},
     "output_type": "execute_result"
    }
   ],
   "source": [
    "data.info()\n",
    "data.isna().sum()"
   ]
  },
  {
   "cell_type": "markdown",
   "metadata": {},
   "source": [
    "**Вывод**\n",
    "\n",
    "Пропуски в столбцах 'days_employed' и 'total_income' были заполнены характерными значениями: в первом случае это медиана дней стажа в год, уможенная на количество лет трудоспособного возраста, а во втором случае - медиана из зарплат по типу занятости заемщика. Данные пропуски, скорее всего, связаны с технологических сбоями.\n",
    "\n",
    "Также были проанализированы остальные столбцы с данными и сделаны следующие изменения: значения '-1' и '20' в столбце 'children' заменены на '1' и '2', соответственно; строчки со значением '0' в столбце 'dob_years' - удалены. Данные значения были немногочисленны, и, можно предположить, что они связаны с человеческим фактором (опечатки и прочее)\n",
    "\n",
    "Все строчки в столбце 'days_employed' исправлены на корректные (положительные поделены на '24', отрицательные - изменили на положительные). Связываем это с тем, что данные приходили с разных источников: с одного - с правильным знаком, но в часах, вместо дней; а со второго - в правильной единице измерения, но с противоположным знаком."
   ]
  },
  {
   "cell_type": "markdown",
   "metadata": {},
   "source": [
    "### Замена типа данных"
   ]
  },
  {
   "cell_type": "markdown",
   "metadata": {},
   "source": [
    "Приведем данные столбцов 'days_employed' и 'total_income' к целочисленному типу данных"
   ]
  },
  {
   "cell_type": "code",
   "execution_count": 28,
   "metadata": {},
   "outputs": [
    {
     "name": "stdout",
     "output_type": "stream",
     "text": [
      "<class 'pandas.core.frame.DataFrame'>\n",
      "Int64Index: 20084 entries, 0 to 21524\n",
      "Data columns (total 13 columns):\n",
      "children                  20084 non-null int64\n",
      "days_employed             20084 non-null int64\n",
      "dob_years                 20084 non-null int64\n",
      "education                 20084 non-null object\n",
      "education_id              20084 non-null int64\n",
      "family_status             20084 non-null object\n",
      "family_status_id          20084 non-null int64\n",
      "gender                    20084 non-null object\n",
      "income_type               20084 non-null object\n",
      "debt                      20084 non-null int64\n",
      "total_income              20084 non-null int64\n",
      "purpose                   20084 non-null object\n",
      "days_employed_per_year    17920 non-null float64\n",
      "dtypes: float64(1), int64(7), object(5)\n",
      "memory usage: 2.8+ MB\n"
     ]
    }
   ],
   "source": [
    "data['days_employed'] = data['days_employed'].astype(int)\n",
    "data['total_income'] = data['total_income'].astype(int)\n",
    "data.info() #проверка"
   ]
  },
  {
   "cell_type": "markdown",
   "metadata": {},
   "source": [
    "**Вывод**\n",
    "\n",
    "Данные в столбцах 'days_employed' и 'total_income' приведены к целочисленному типу данных, что будет затрачивать меньше памяти при вычислениях"
   ]
  },
  {
   "cell_type": "markdown",
   "metadata": {},
   "source": [
    "### Обработка дубликатов"
   ]
  },
  {
   "cell_type": "markdown",
   "metadata": {},
   "source": [
    "Сначала найдем грубые дубликаты"
   ]
  },
  {
   "cell_type": "code",
   "execution_count": 29,
   "metadata": {},
   "outputs": [
    {
     "data": {
      "text/plain": [
       "54"
      ]
     },
     "execution_count": 29,
     "metadata": {},
     "output_type": "execute_result"
    }
   ],
   "source": [
    "data.duplicated().sum()"
   ]
  },
  {
   "cell_type": "markdown",
   "metadata": {},
   "source": [
    "54 абсолютно одинаковых строчек - звучит не очень - но надо посмотреть на них повнимательней"
   ]
  },
  {
   "cell_type": "code",
   "execution_count": 30,
   "metadata": {},
   "outputs": [
    {
     "data": {
      "text/html": [
       "<div>\n",
       "<style scoped>\n",
       "    .dataframe tbody tr th:only-of-type {\n",
       "        vertical-align: middle;\n",
       "    }\n",
       "\n",
       "    .dataframe tbody tr th {\n",
       "        vertical-align: top;\n",
       "    }\n",
       "\n",
       "    .dataframe thead th {\n",
       "        text-align: right;\n",
       "    }\n",
       "</style>\n",
       "<table border=\"1\" class=\"dataframe\">\n",
       "  <thead>\n",
       "    <tr style=\"text-align: right;\">\n",
       "      <th></th>\n",
       "      <th>children</th>\n",
       "      <th>days_employed</th>\n",
       "      <th>dob_years</th>\n",
       "      <th>education</th>\n",
       "      <th>education_id</th>\n",
       "      <th>family_status</th>\n",
       "      <th>family_status_id</th>\n",
       "      <th>gender</th>\n",
       "      <th>income_type</th>\n",
       "      <th>debt</th>\n",
       "      <th>total_income</th>\n",
       "      <th>purpose</th>\n",
       "      <th>days_employed_per_year</th>\n",
       "    </tr>\n",
       "  </thead>\n",
       "  <tbody>\n",
       "    <tr>\n",
       "      <td>2849</td>\n",
       "      <td>0</td>\n",
       "      <td>2359</td>\n",
       "      <td>41</td>\n",
       "      <td>среднее</td>\n",
       "      <td>1</td>\n",
       "      <td>женат / замужем</td>\n",
       "      <td>0</td>\n",
       "      <td>F</td>\n",
       "      <td>сотрудник</td>\n",
       "      <td>0</td>\n",
       "      <td>142607</td>\n",
       "      <td>покупка жилья для семьи</td>\n",
       "      <td>NaN</td>\n",
       "    </tr>\n",
       "    <tr>\n",
       "      <td>4182</td>\n",
       "      <td>1</td>\n",
       "      <td>1699</td>\n",
       "      <td>34</td>\n",
       "      <td>ВЫСШЕЕ</td>\n",
       "      <td>0</td>\n",
       "      <td>гражданский брак</td>\n",
       "      <td>1</td>\n",
       "      <td>F</td>\n",
       "      <td>сотрудник</td>\n",
       "      <td>0</td>\n",
       "      <td>142607</td>\n",
       "      <td>свадьба</td>\n",
       "      <td>NaN</td>\n",
       "    </tr>\n",
       "    <tr>\n",
       "      <td>4851</td>\n",
       "      <td>0</td>\n",
       "      <td>4153</td>\n",
       "      <td>60</td>\n",
       "      <td>среднее</td>\n",
       "      <td>1</td>\n",
       "      <td>гражданский брак</td>\n",
       "      <td>1</td>\n",
       "      <td>F</td>\n",
       "      <td>пенсионер</td>\n",
       "      <td>0</td>\n",
       "      <td>115413</td>\n",
       "      <td>свадьба</td>\n",
       "      <td>NaN</td>\n",
       "    </tr>\n",
       "    <tr>\n",
       "      <td>5557</td>\n",
       "      <td>0</td>\n",
       "      <td>3964</td>\n",
       "      <td>58</td>\n",
       "      <td>среднее</td>\n",
       "      <td>1</td>\n",
       "      <td>гражданский брак</td>\n",
       "      <td>1</td>\n",
       "      <td>F</td>\n",
       "      <td>пенсионер</td>\n",
       "      <td>0</td>\n",
       "      <td>115413</td>\n",
       "      <td>сыграть свадьбу</td>\n",
       "      <td>NaN</td>\n",
       "    </tr>\n",
       "    <tr>\n",
       "      <td>7808</td>\n",
       "      <td>0</td>\n",
       "      <td>3870</td>\n",
       "      <td>57</td>\n",
       "      <td>среднее</td>\n",
       "      <td>1</td>\n",
       "      <td>гражданский брак</td>\n",
       "      <td>1</td>\n",
       "      <td>F</td>\n",
       "      <td>пенсионер</td>\n",
       "      <td>0</td>\n",
       "      <td>115413</td>\n",
       "      <td>на проведение свадьбы</td>\n",
       "      <td>NaN</td>\n",
       "    </tr>\n",
       "    <tr>\n",
       "      <td>8583</td>\n",
       "      <td>0</td>\n",
       "      <td>3964</td>\n",
       "      <td>58</td>\n",
       "      <td>высшее</td>\n",
       "      <td>0</td>\n",
       "      <td>Не женат / не замужем</td>\n",
       "      <td>4</td>\n",
       "      <td>F</td>\n",
       "      <td>пенсионер</td>\n",
       "      <td>0</td>\n",
       "      <td>115413</td>\n",
       "      <td>дополнительное образование</td>\n",
       "      <td>NaN</td>\n",
       "    </tr>\n",
       "    <tr>\n",
       "      <td>9238</td>\n",
       "      <td>2</td>\n",
       "      <td>1699</td>\n",
       "      <td>34</td>\n",
       "      <td>среднее</td>\n",
       "      <td>1</td>\n",
       "      <td>женат / замужем</td>\n",
       "      <td>0</td>\n",
       "      <td>F</td>\n",
       "      <td>сотрудник</td>\n",
       "      <td>0</td>\n",
       "      <td>142607</td>\n",
       "      <td>покупка жилья для сдачи</td>\n",
       "      <td>NaN</td>\n",
       "    </tr>\n",
       "    <tr>\n",
       "      <td>9528</td>\n",
       "      <td>0</td>\n",
       "      <td>4719</td>\n",
       "      <td>66</td>\n",
       "      <td>среднее</td>\n",
       "      <td>1</td>\n",
       "      <td>вдовец / вдова</td>\n",
       "      <td>2</td>\n",
       "      <td>F</td>\n",
       "      <td>пенсионер</td>\n",
       "      <td>0</td>\n",
       "      <td>115413</td>\n",
       "      <td>операции со своей недвижимостью</td>\n",
       "      <td>NaN</td>\n",
       "    </tr>\n",
       "    <tr>\n",
       "      <td>9627</td>\n",
       "      <td>0</td>\n",
       "      <td>3775</td>\n",
       "      <td>56</td>\n",
       "      <td>среднее</td>\n",
       "      <td>1</td>\n",
       "      <td>женат / замужем</td>\n",
       "      <td>0</td>\n",
       "      <td>F</td>\n",
       "      <td>пенсионер</td>\n",
       "      <td>0</td>\n",
       "      <td>115413</td>\n",
       "      <td>операции со своей недвижимостью</td>\n",
       "      <td>NaN</td>\n",
       "    </tr>\n",
       "    <tr>\n",
       "      <td>10462</td>\n",
       "      <td>0</td>\n",
       "      <td>4341</td>\n",
       "      <td>62</td>\n",
       "      <td>среднее</td>\n",
       "      <td>1</td>\n",
       "      <td>женат / замужем</td>\n",
       "      <td>0</td>\n",
       "      <td>F</td>\n",
       "      <td>пенсионер</td>\n",
       "      <td>0</td>\n",
       "      <td>115413</td>\n",
       "      <td>покупка коммерческой недвижимости</td>\n",
       "      <td>NaN</td>\n",
       "    </tr>\n",
       "    <tr>\n",
       "      <td>10697</td>\n",
       "      <td>0</td>\n",
       "      <td>2265</td>\n",
       "      <td>40</td>\n",
       "      <td>среднее</td>\n",
       "      <td>1</td>\n",
       "      <td>гражданский брак</td>\n",
       "      <td>1</td>\n",
       "      <td>F</td>\n",
       "      <td>компаньон</td>\n",
       "      <td>0</td>\n",
       "      <td>172396</td>\n",
       "      <td>сыграть свадьбу</td>\n",
       "      <td>NaN</td>\n",
       "    </tr>\n",
       "    <tr>\n",
       "      <td>10864</td>\n",
       "      <td>0</td>\n",
       "      <td>4341</td>\n",
       "      <td>62</td>\n",
       "      <td>среднее</td>\n",
       "      <td>1</td>\n",
       "      <td>женат / замужем</td>\n",
       "      <td>0</td>\n",
       "      <td>F</td>\n",
       "      <td>пенсионер</td>\n",
       "      <td>0</td>\n",
       "      <td>115413</td>\n",
       "      <td>ремонт жилью</td>\n",
       "      <td>NaN</td>\n",
       "    </tr>\n",
       "    <tr>\n",
       "      <td>10994</td>\n",
       "      <td>0</td>\n",
       "      <td>4341</td>\n",
       "      <td>62</td>\n",
       "      <td>среднее</td>\n",
       "      <td>1</td>\n",
       "      <td>женат / замужем</td>\n",
       "      <td>0</td>\n",
       "      <td>F</td>\n",
       "      <td>пенсионер</td>\n",
       "      <td>0</td>\n",
       "      <td>115413</td>\n",
       "      <td>ремонт жилью</td>\n",
       "      <td>NaN</td>\n",
       "    </tr>\n",
       "    <tr>\n",
       "      <td>11791</td>\n",
       "      <td>0</td>\n",
       "      <td>2926</td>\n",
       "      <td>47</td>\n",
       "      <td>среднее</td>\n",
       "      <td>1</td>\n",
       "      <td>женат / замужем</td>\n",
       "      <td>0</td>\n",
       "      <td>F</td>\n",
       "      <td>сотрудник</td>\n",
       "      <td>0</td>\n",
       "      <td>142607</td>\n",
       "      <td>строительство недвижимости</td>\n",
       "      <td>NaN</td>\n",
       "    </tr>\n",
       "    <tr>\n",
       "      <td>12373</td>\n",
       "      <td>0</td>\n",
       "      <td>3964</td>\n",
       "      <td>58</td>\n",
       "      <td>среднее</td>\n",
       "      <td>1</td>\n",
       "      <td>женат / замужем</td>\n",
       "      <td>0</td>\n",
       "      <td>M</td>\n",
       "      <td>сотрудник</td>\n",
       "      <td>0</td>\n",
       "      <td>142607</td>\n",
       "      <td>покупка недвижимости</td>\n",
       "      <td>NaN</td>\n",
       "    </tr>\n",
       "    <tr>\n",
       "      <td>12375</td>\n",
       "      <td>1</td>\n",
       "      <td>1982</td>\n",
       "      <td>37</td>\n",
       "      <td>среднее</td>\n",
       "      <td>1</td>\n",
       "      <td>женат / замужем</td>\n",
       "      <td>0</td>\n",
       "      <td>F</td>\n",
       "      <td>сотрудник</td>\n",
       "      <td>0</td>\n",
       "      <td>142607</td>\n",
       "      <td>покупка недвижимости</td>\n",
       "      <td>NaN</td>\n",
       "    </tr>\n",
       "    <tr>\n",
       "      <td>12736</td>\n",
       "      <td>0</td>\n",
       "      <td>4058</td>\n",
       "      <td>59</td>\n",
       "      <td>среднее</td>\n",
       "      <td>1</td>\n",
       "      <td>женат / замужем</td>\n",
       "      <td>0</td>\n",
       "      <td>F</td>\n",
       "      <td>пенсионер</td>\n",
       "      <td>0</td>\n",
       "      <td>115413</td>\n",
       "      <td>заняться образованием</td>\n",
       "      <td>NaN</td>\n",
       "    </tr>\n",
       "    <tr>\n",
       "      <td>13025</td>\n",
       "      <td>1</td>\n",
       "      <td>2642</td>\n",
       "      <td>44</td>\n",
       "      <td>среднее</td>\n",
       "      <td>1</td>\n",
       "      <td>женат / замужем</td>\n",
       "      <td>0</td>\n",
       "      <td>F</td>\n",
       "      <td>сотрудник</td>\n",
       "      <td>0</td>\n",
       "      <td>142607</td>\n",
       "      <td>сделка с подержанным автомобилем</td>\n",
       "      <td>NaN</td>\n",
       "    </tr>\n",
       "    <tr>\n",
       "      <td>13639</td>\n",
       "      <td>0</td>\n",
       "      <td>4530</td>\n",
       "      <td>64</td>\n",
       "      <td>среднее</td>\n",
       "      <td>1</td>\n",
       "      <td>женат / замужем</td>\n",
       "      <td>0</td>\n",
       "      <td>F</td>\n",
       "      <td>пенсионер</td>\n",
       "      <td>0</td>\n",
       "      <td>115413</td>\n",
       "      <td>автомобиль</td>\n",
       "      <td>NaN</td>\n",
       "    </tr>\n",
       "    <tr>\n",
       "      <td>13773</td>\n",
       "      <td>0</td>\n",
       "      <td>1793</td>\n",
       "      <td>35</td>\n",
       "      <td>среднее</td>\n",
       "      <td>1</td>\n",
       "      <td>гражданский брак</td>\n",
       "      <td>1</td>\n",
       "      <td>F</td>\n",
       "      <td>сотрудник</td>\n",
       "      <td>0</td>\n",
       "      <td>142607</td>\n",
       "      <td>сыграть свадьбу</td>\n",
       "      <td>NaN</td>\n",
       "    </tr>\n",
       "    <tr>\n",
       "      <td>13878</td>\n",
       "      <td>1</td>\n",
       "      <td>1415</td>\n",
       "      <td>31</td>\n",
       "      <td>среднее</td>\n",
       "      <td>1</td>\n",
       "      <td>женат / замужем</td>\n",
       "      <td>0</td>\n",
       "      <td>F</td>\n",
       "      <td>компаньон</td>\n",
       "      <td>0</td>\n",
       "      <td>172396</td>\n",
       "      <td>покупка жилья</td>\n",
       "      <td>NaN</td>\n",
       "    </tr>\n",
       "    <tr>\n",
       "      <td>13942</td>\n",
       "      <td>0</td>\n",
       "      <td>2642</td>\n",
       "      <td>44</td>\n",
       "      <td>среднее</td>\n",
       "      <td>1</td>\n",
       "      <td>женат / замужем</td>\n",
       "      <td>0</td>\n",
       "      <td>F</td>\n",
       "      <td>сотрудник</td>\n",
       "      <td>0</td>\n",
       "      <td>142607</td>\n",
       "      <td>приобретение автомобиля</td>\n",
       "      <td>NaN</td>\n",
       "    </tr>\n",
       "    <tr>\n",
       "      <td>14432</td>\n",
       "      <td>2</td>\n",
       "      <td>1887</td>\n",
       "      <td>36</td>\n",
       "      <td>высшее</td>\n",
       "      <td>0</td>\n",
       "      <td>женат / замужем</td>\n",
       "      <td>0</td>\n",
       "      <td>F</td>\n",
       "      <td>госслужащий</td>\n",
       "      <td>0</td>\n",
       "      <td>150521</td>\n",
       "      <td>получение образования</td>\n",
       "      <td>NaN</td>\n",
       "    </tr>\n",
       "    <tr>\n",
       "      <td>14832</td>\n",
       "      <td>0</td>\n",
       "      <td>3209</td>\n",
       "      <td>50</td>\n",
       "      <td>среднее</td>\n",
       "      <td>1</td>\n",
       "      <td>Не женат / не замужем</td>\n",
       "      <td>4</td>\n",
       "      <td>F</td>\n",
       "      <td>сотрудник</td>\n",
       "      <td>0</td>\n",
       "      <td>142607</td>\n",
       "      <td>недвижимость</td>\n",
       "      <td>NaN</td>\n",
       "    </tr>\n",
       "    <tr>\n",
       "      <td>15091</td>\n",
       "      <td>0</td>\n",
       "      <td>3964</td>\n",
       "      <td>58</td>\n",
       "      <td>среднее</td>\n",
       "      <td>1</td>\n",
       "      <td>гражданский брак</td>\n",
       "      <td>1</td>\n",
       "      <td>M</td>\n",
       "      <td>сотрудник</td>\n",
       "      <td>0</td>\n",
       "      <td>142607</td>\n",
       "      <td>на проведение свадьбы</td>\n",
       "      <td>NaN</td>\n",
       "    </tr>\n",
       "    <tr>\n",
       "      <td>15188</td>\n",
       "      <td>0</td>\n",
       "      <td>4153</td>\n",
       "      <td>60</td>\n",
       "      <td>среднее</td>\n",
       "      <td>1</td>\n",
       "      <td>женат / замужем</td>\n",
       "      <td>0</td>\n",
       "      <td>M</td>\n",
       "      <td>сотрудник</td>\n",
       "      <td>0</td>\n",
       "      <td>142607</td>\n",
       "      <td>покупка недвижимости</td>\n",
       "      <td>NaN</td>\n",
       "    </tr>\n",
       "    <tr>\n",
       "      <td>15273</td>\n",
       "      <td>0</td>\n",
       "      <td>3870</td>\n",
       "      <td>57</td>\n",
       "      <td>среднее</td>\n",
       "      <td>1</td>\n",
       "      <td>гражданский брак</td>\n",
       "      <td>1</td>\n",
       "      <td>F</td>\n",
       "      <td>пенсионер</td>\n",
       "      <td>0</td>\n",
       "      <td>115413</td>\n",
       "      <td>свадьба</td>\n",
       "      <td>NaN</td>\n",
       "    </tr>\n",
       "    <tr>\n",
       "      <td>16176</td>\n",
       "      <td>0</td>\n",
       "      <td>2926</td>\n",
       "      <td>47</td>\n",
       "      <td>среднее</td>\n",
       "      <td>1</td>\n",
       "      <td>женат / замужем</td>\n",
       "      <td>0</td>\n",
       "      <td>F</td>\n",
       "      <td>сотрудник</td>\n",
       "      <td>0</td>\n",
       "      <td>142607</td>\n",
       "      <td>ремонт жилью</td>\n",
       "      <td>NaN</td>\n",
       "    </tr>\n",
       "    <tr>\n",
       "      <td>16378</td>\n",
       "      <td>0</td>\n",
       "      <td>2831</td>\n",
       "      <td>46</td>\n",
       "      <td>среднее</td>\n",
       "      <td>1</td>\n",
       "      <td>женат / замужем</td>\n",
       "      <td>0</td>\n",
       "      <td>F</td>\n",
       "      <td>сотрудник</td>\n",
       "      <td>0</td>\n",
       "      <td>142607</td>\n",
       "      <td>высшее образование</td>\n",
       "      <td>NaN</td>\n",
       "    </tr>\n",
       "    <tr>\n",
       "      <td>16902</td>\n",
       "      <td>2</td>\n",
       "      <td>2170</td>\n",
       "      <td>39</td>\n",
       "      <td>среднее</td>\n",
       "      <td>1</td>\n",
       "      <td>гражданский брак</td>\n",
       "      <td>1</td>\n",
       "      <td>F</td>\n",
       "      <td>сотрудник</td>\n",
       "      <td>0</td>\n",
       "      <td>142607</td>\n",
       "      <td>сыграть свадьбу</td>\n",
       "      <td>NaN</td>\n",
       "    </tr>\n",
       "    <tr>\n",
       "      <td>16904</td>\n",
       "      <td>1</td>\n",
       "      <td>1510</td>\n",
       "      <td>32</td>\n",
       "      <td>высшее</td>\n",
       "      <td>0</td>\n",
       "      <td>женат / замужем</td>\n",
       "      <td>0</td>\n",
       "      <td>F</td>\n",
       "      <td>сотрудник</td>\n",
       "      <td>0</td>\n",
       "      <td>142607</td>\n",
       "      <td>на покупку подержанного автомобиля</td>\n",
       "      <td>NaN</td>\n",
       "    </tr>\n",
       "    <tr>\n",
       "      <td>17379</td>\n",
       "      <td>0</td>\n",
       "      <td>3586</td>\n",
       "      <td>54</td>\n",
       "      <td>высшее</td>\n",
       "      <td>0</td>\n",
       "      <td>женат / замужем</td>\n",
       "      <td>0</td>\n",
       "      <td>M</td>\n",
       "      <td>компаньон</td>\n",
       "      <td>0</td>\n",
       "      <td>172396</td>\n",
       "      <td>операции с коммерческой недвижимостью</td>\n",
       "      <td>NaN</td>\n",
       "    </tr>\n",
       "    <tr>\n",
       "      <td>17755</td>\n",
       "      <td>1</td>\n",
       "      <td>2548</td>\n",
       "      <td>43</td>\n",
       "      <td>среднее</td>\n",
       "      <td>1</td>\n",
       "      <td>женат / замужем</td>\n",
       "      <td>0</td>\n",
       "      <td>M</td>\n",
       "      <td>сотрудник</td>\n",
       "      <td>0</td>\n",
       "      <td>142607</td>\n",
       "      <td>заняться образованием</td>\n",
       "      <td>NaN</td>\n",
       "    </tr>\n",
       "    <tr>\n",
       "      <td>17774</td>\n",
       "      <td>1</td>\n",
       "      <td>2265</td>\n",
       "      <td>40</td>\n",
       "      <td>среднее</td>\n",
       "      <td>1</td>\n",
       "      <td>гражданский брак</td>\n",
       "      <td>1</td>\n",
       "      <td>F</td>\n",
       "      <td>компаньон</td>\n",
       "      <td>0</td>\n",
       "      <td>172396</td>\n",
       "      <td>строительство жилой недвижимости</td>\n",
       "      <td>NaN</td>\n",
       "    </tr>\n",
       "    <tr>\n",
       "      <td>18328</td>\n",
       "      <td>0</td>\n",
       "      <td>1227</td>\n",
       "      <td>29</td>\n",
       "      <td>высшее</td>\n",
       "      <td>0</td>\n",
       "      <td>женат / замужем</td>\n",
       "      <td>0</td>\n",
       "      <td>M</td>\n",
       "      <td>сотрудник</td>\n",
       "      <td>0</td>\n",
       "      <td>142607</td>\n",
       "      <td>покупка жилой недвижимости</td>\n",
       "      <td>NaN</td>\n",
       "    </tr>\n",
       "    <tr>\n",
       "      <td>18349</td>\n",
       "      <td>1</td>\n",
       "      <td>1321</td>\n",
       "      <td>30</td>\n",
       "      <td>высшее</td>\n",
       "      <td>0</td>\n",
       "      <td>женат / замужем</td>\n",
       "      <td>0</td>\n",
       "      <td>F</td>\n",
       "      <td>госслужащий</td>\n",
       "      <td>0</td>\n",
       "      <td>150521</td>\n",
       "      <td>покупка жилья для семьи</td>\n",
       "      <td>NaN</td>\n",
       "    </tr>\n",
       "    <tr>\n",
       "      <td>18428</td>\n",
       "      <td>0</td>\n",
       "      <td>4530</td>\n",
       "      <td>64</td>\n",
       "      <td>среднее</td>\n",
       "      <td>1</td>\n",
       "      <td>женат / замужем</td>\n",
       "      <td>0</td>\n",
       "      <td>F</td>\n",
       "      <td>пенсионер</td>\n",
       "      <td>0</td>\n",
       "      <td>115413</td>\n",
       "      <td>жилье</td>\n",
       "      <td>NaN</td>\n",
       "    </tr>\n",
       "    <tr>\n",
       "      <td>18521</td>\n",
       "      <td>0</td>\n",
       "      <td>3775</td>\n",
       "      <td>56</td>\n",
       "      <td>среднее</td>\n",
       "      <td>1</td>\n",
       "      <td>гражданский брак</td>\n",
       "      <td>1</td>\n",
       "      <td>F</td>\n",
       "      <td>сотрудник</td>\n",
       "      <td>0</td>\n",
       "      <td>142607</td>\n",
       "      <td>сыграть свадьбу</td>\n",
       "      <td>NaN</td>\n",
       "    </tr>\n",
       "    <tr>\n",
       "      <td>18563</td>\n",
       "      <td>0</td>\n",
       "      <td>3586</td>\n",
       "      <td>54</td>\n",
       "      <td>среднее</td>\n",
       "      <td>1</td>\n",
       "      <td>женат / замужем</td>\n",
       "      <td>0</td>\n",
       "      <td>F</td>\n",
       "      <td>сотрудник</td>\n",
       "      <td>0</td>\n",
       "      <td>142607</td>\n",
       "      <td>операции со своей недвижимостью</td>\n",
       "      <td>NaN</td>\n",
       "    </tr>\n",
       "    <tr>\n",
       "      <td>18755</td>\n",
       "      <td>0</td>\n",
       "      <td>3964</td>\n",
       "      <td>58</td>\n",
       "      <td>среднее</td>\n",
       "      <td>1</td>\n",
       "      <td>женат / замужем</td>\n",
       "      <td>0</td>\n",
       "      <td>F</td>\n",
       "      <td>пенсионер</td>\n",
       "      <td>0</td>\n",
       "      <td>115413</td>\n",
       "      <td>заняться образованием</td>\n",
       "      <td>NaN</td>\n",
       "    </tr>\n",
       "    <tr>\n",
       "      <td>19041</td>\n",
       "      <td>0</td>\n",
       "      <td>3775</td>\n",
       "      <td>56</td>\n",
       "      <td>среднее</td>\n",
       "      <td>1</td>\n",
       "      <td>гражданский брак</td>\n",
       "      <td>1</td>\n",
       "      <td>F</td>\n",
       "      <td>сотрудник</td>\n",
       "      <td>0</td>\n",
       "      <td>142607</td>\n",
       "      <td>на проведение свадьбы</td>\n",
       "      <td>NaN</td>\n",
       "    </tr>\n",
       "    <tr>\n",
       "      <td>19184</td>\n",
       "      <td>0</td>\n",
       "      <td>2831</td>\n",
       "      <td>46</td>\n",
       "      <td>среднее</td>\n",
       "      <td>1</td>\n",
       "      <td>женат / замужем</td>\n",
       "      <td>0</td>\n",
       "      <td>F</td>\n",
       "      <td>сотрудник</td>\n",
       "      <td>0</td>\n",
       "      <td>142607</td>\n",
       "      <td>свой автомобиль</td>\n",
       "      <td>NaN</td>\n",
       "    </tr>\n",
       "    <tr>\n",
       "      <td>19321</td>\n",
       "      <td>0</td>\n",
       "      <td>660</td>\n",
       "      <td>23</td>\n",
       "      <td>среднее</td>\n",
       "      <td>1</td>\n",
       "      <td>Не женат / не замужем</td>\n",
       "      <td>4</td>\n",
       "      <td>F</td>\n",
       "      <td>сотрудник</td>\n",
       "      <td>0</td>\n",
       "      <td>142607</td>\n",
       "      <td>сделка с подержанным автомобилем</td>\n",
       "      <td>NaN</td>\n",
       "    </tr>\n",
       "    <tr>\n",
       "      <td>19387</td>\n",
       "      <td>0</td>\n",
       "      <td>2076</td>\n",
       "      <td>38</td>\n",
       "      <td>высшее</td>\n",
       "      <td>0</td>\n",
       "      <td>гражданский брак</td>\n",
       "      <td>1</td>\n",
       "      <td>F</td>\n",
       "      <td>компаньон</td>\n",
       "      <td>0</td>\n",
       "      <td>172396</td>\n",
       "      <td>на проведение свадьбы</td>\n",
       "      <td>NaN</td>\n",
       "    </tr>\n",
       "    <tr>\n",
       "      <td>19688</td>\n",
       "      <td>0</td>\n",
       "      <td>4247</td>\n",
       "      <td>61</td>\n",
       "      <td>среднее</td>\n",
       "      <td>1</td>\n",
       "      <td>женат / замужем</td>\n",
       "      <td>0</td>\n",
       "      <td>F</td>\n",
       "      <td>пенсионер</td>\n",
       "      <td>0</td>\n",
       "      <td>115413</td>\n",
       "      <td>операции с недвижимостью</td>\n",
       "      <td>NaN</td>\n",
       "    </tr>\n",
       "    <tr>\n",
       "      <td>19832</td>\n",
       "      <td>0</td>\n",
       "      <td>3020</td>\n",
       "      <td>48</td>\n",
       "      <td>среднее</td>\n",
       "      <td>1</td>\n",
       "      <td>женат / замужем</td>\n",
       "      <td>0</td>\n",
       "      <td>F</td>\n",
       "      <td>сотрудник</td>\n",
       "      <td>0</td>\n",
       "      <td>142607</td>\n",
       "      <td>ремонт жилью</td>\n",
       "      <td>NaN</td>\n",
       "    </tr>\n",
       "    <tr>\n",
       "      <td>19946</td>\n",
       "      <td>0</td>\n",
       "      <td>3870</td>\n",
       "      <td>57</td>\n",
       "      <td>среднее</td>\n",
       "      <td>1</td>\n",
       "      <td>женат / замужем</td>\n",
       "      <td>0</td>\n",
       "      <td>F</td>\n",
       "      <td>сотрудник</td>\n",
       "      <td>0</td>\n",
       "      <td>142607</td>\n",
       "      <td>сделка с подержанным автомобилем</td>\n",
       "      <td>NaN</td>\n",
       "    </tr>\n",
       "    <tr>\n",
       "      <td>20116</td>\n",
       "      <td>0</td>\n",
       "      <td>3870</td>\n",
       "      <td>57</td>\n",
       "      <td>среднее</td>\n",
       "      <td>1</td>\n",
       "      <td>гражданский брак</td>\n",
       "      <td>1</td>\n",
       "      <td>M</td>\n",
       "      <td>пенсионер</td>\n",
       "      <td>0</td>\n",
       "      <td>115413</td>\n",
       "      <td>свадьба</td>\n",
       "      <td>NaN</td>\n",
       "    </tr>\n",
       "    <tr>\n",
       "      <td>20165</td>\n",
       "      <td>0</td>\n",
       "      <td>2454</td>\n",
       "      <td>42</td>\n",
       "      <td>среднее</td>\n",
       "      <td>1</td>\n",
       "      <td>женат / замужем</td>\n",
       "      <td>0</td>\n",
       "      <td>F</td>\n",
       "      <td>сотрудник</td>\n",
       "      <td>0</td>\n",
       "      <td>142607</td>\n",
       "      <td>покупка жилья для семьи</td>\n",
       "      <td>NaN</td>\n",
       "    </tr>\n",
       "    <tr>\n",
       "      <td>20702</td>\n",
       "      <td>0</td>\n",
       "      <td>4530</td>\n",
       "      <td>64</td>\n",
       "      <td>среднее</td>\n",
       "      <td>1</td>\n",
       "      <td>женат / замужем</td>\n",
       "      <td>0</td>\n",
       "      <td>F</td>\n",
       "      <td>пенсионер</td>\n",
       "      <td>0</td>\n",
       "      <td>115413</td>\n",
       "      <td>дополнительное образование</td>\n",
       "      <td>NaN</td>\n",
       "    </tr>\n",
       "    <tr>\n",
       "      <td>21032</td>\n",
       "      <td>0</td>\n",
       "      <td>4153</td>\n",
       "      <td>60</td>\n",
       "      <td>среднее</td>\n",
       "      <td>1</td>\n",
       "      <td>женат / замужем</td>\n",
       "      <td>0</td>\n",
       "      <td>F</td>\n",
       "      <td>пенсионер</td>\n",
       "      <td>0</td>\n",
       "      <td>115413</td>\n",
       "      <td>заняться образованием</td>\n",
       "      <td>NaN</td>\n",
       "    </tr>\n",
       "    <tr>\n",
       "      <td>21132</td>\n",
       "      <td>0</td>\n",
       "      <td>2926</td>\n",
       "      <td>47</td>\n",
       "      <td>среднее</td>\n",
       "      <td>1</td>\n",
       "      <td>женат / замужем</td>\n",
       "      <td>0</td>\n",
       "      <td>F</td>\n",
       "      <td>сотрудник</td>\n",
       "      <td>0</td>\n",
       "      <td>142607</td>\n",
       "      <td>ремонт жилью</td>\n",
       "      <td>NaN</td>\n",
       "    </tr>\n",
       "    <tr>\n",
       "      <td>21281</td>\n",
       "      <td>1</td>\n",
       "      <td>1321</td>\n",
       "      <td>30</td>\n",
       "      <td>высшее</td>\n",
       "      <td>0</td>\n",
       "      <td>женат / замужем</td>\n",
       "      <td>0</td>\n",
       "      <td>F</td>\n",
       "      <td>сотрудник</td>\n",
       "      <td>0</td>\n",
       "      <td>142607</td>\n",
       "      <td>покупка коммерческой недвижимости</td>\n",
       "      <td>NaN</td>\n",
       "    </tr>\n",
       "    <tr>\n",
       "      <td>21415</td>\n",
       "      <td>0</td>\n",
       "      <td>3586</td>\n",
       "      <td>54</td>\n",
       "      <td>среднее</td>\n",
       "      <td>1</td>\n",
       "      <td>женат / замужем</td>\n",
       "      <td>0</td>\n",
       "      <td>F</td>\n",
       "      <td>пенсионер</td>\n",
       "      <td>0</td>\n",
       "      <td>115413</td>\n",
       "      <td>операции с жильем</td>\n",
       "      <td>NaN</td>\n",
       "    </tr>\n",
       "  </tbody>\n",
       "</table>\n",
       "</div>"
      ],
      "text/plain": [
       "       children  days_employed  dob_years education  education_id  \\\n",
       "2849          0           2359         41   среднее             1   \n",
       "4182          1           1699         34    ВЫСШЕЕ             0   \n",
       "4851          0           4153         60   среднее             1   \n",
       "5557          0           3964         58   среднее             1   \n",
       "7808          0           3870         57   среднее             1   \n",
       "8583          0           3964         58    высшее             0   \n",
       "9238          2           1699         34   среднее             1   \n",
       "9528          0           4719         66   среднее             1   \n",
       "9627          0           3775         56   среднее             1   \n",
       "10462         0           4341         62   среднее             1   \n",
       "10697         0           2265         40   среднее             1   \n",
       "10864         0           4341         62   среднее             1   \n",
       "10994         0           4341         62   среднее             1   \n",
       "11791         0           2926         47   среднее             1   \n",
       "12373         0           3964         58   среднее             1   \n",
       "12375         1           1982         37   среднее             1   \n",
       "12736         0           4058         59   среднее             1   \n",
       "13025         1           2642         44   среднее             1   \n",
       "13639         0           4530         64   среднее             1   \n",
       "13773         0           1793         35   среднее             1   \n",
       "13878         1           1415         31   среднее             1   \n",
       "13942         0           2642         44   среднее             1   \n",
       "14432         2           1887         36    высшее             0   \n",
       "14832         0           3209         50   среднее             1   \n",
       "15091         0           3964         58   среднее             1   \n",
       "15188         0           4153         60   среднее             1   \n",
       "15273         0           3870         57   среднее             1   \n",
       "16176         0           2926         47   среднее             1   \n",
       "16378         0           2831         46   среднее             1   \n",
       "16902         2           2170         39   среднее             1   \n",
       "16904         1           1510         32    высшее             0   \n",
       "17379         0           3586         54    высшее             0   \n",
       "17755         1           2548         43   среднее             1   \n",
       "17774         1           2265         40   среднее             1   \n",
       "18328         0           1227         29    высшее             0   \n",
       "18349         1           1321         30    высшее             0   \n",
       "18428         0           4530         64   среднее             1   \n",
       "18521         0           3775         56   среднее             1   \n",
       "18563         0           3586         54   среднее             1   \n",
       "18755         0           3964         58   среднее             1   \n",
       "19041         0           3775         56   среднее             1   \n",
       "19184         0           2831         46   среднее             1   \n",
       "19321         0            660         23   среднее             1   \n",
       "19387         0           2076         38    высшее             0   \n",
       "19688         0           4247         61   среднее             1   \n",
       "19832         0           3020         48   среднее             1   \n",
       "19946         0           3870         57   среднее             1   \n",
       "20116         0           3870         57   среднее             1   \n",
       "20165         0           2454         42   среднее             1   \n",
       "20702         0           4530         64   среднее             1   \n",
       "21032         0           4153         60   среднее             1   \n",
       "21132         0           2926         47   среднее             1   \n",
       "21281         1           1321         30    высшее             0   \n",
       "21415         0           3586         54   среднее             1   \n",
       "\n",
       "               family_status  family_status_id gender  income_type  debt  \\\n",
       "2849         женат / замужем                 0      F    сотрудник     0   \n",
       "4182        гражданский брак                 1      F    сотрудник     0   \n",
       "4851        гражданский брак                 1      F    пенсионер     0   \n",
       "5557        гражданский брак                 1      F    пенсионер     0   \n",
       "7808        гражданский брак                 1      F    пенсионер     0   \n",
       "8583   Не женат / не замужем                 4      F    пенсионер     0   \n",
       "9238         женат / замужем                 0      F    сотрудник     0   \n",
       "9528          вдовец / вдова                 2      F    пенсионер     0   \n",
       "9627         женат / замужем                 0      F    пенсионер     0   \n",
       "10462        женат / замужем                 0      F    пенсионер     0   \n",
       "10697       гражданский брак                 1      F    компаньон     0   \n",
       "10864        женат / замужем                 0      F    пенсионер     0   \n",
       "10994        женат / замужем                 0      F    пенсионер     0   \n",
       "11791        женат / замужем                 0      F    сотрудник     0   \n",
       "12373        женат / замужем                 0      M    сотрудник     0   \n",
       "12375        женат / замужем                 0      F    сотрудник     0   \n",
       "12736        женат / замужем                 0      F    пенсионер     0   \n",
       "13025        женат / замужем                 0      F    сотрудник     0   \n",
       "13639        женат / замужем                 0      F    пенсионер     0   \n",
       "13773       гражданский брак                 1      F    сотрудник     0   \n",
       "13878        женат / замужем                 0      F    компаньон     0   \n",
       "13942        женат / замужем                 0      F    сотрудник     0   \n",
       "14432        женат / замужем                 0      F  госслужащий     0   \n",
       "14832  Не женат / не замужем                 4      F    сотрудник     0   \n",
       "15091       гражданский брак                 1      M    сотрудник     0   \n",
       "15188        женат / замужем                 0      M    сотрудник     0   \n",
       "15273       гражданский брак                 1      F    пенсионер     0   \n",
       "16176        женат / замужем                 0      F    сотрудник     0   \n",
       "16378        женат / замужем                 0      F    сотрудник     0   \n",
       "16902       гражданский брак                 1      F    сотрудник     0   \n",
       "16904        женат / замужем                 0      F    сотрудник     0   \n",
       "17379        женат / замужем                 0      M    компаньон     0   \n",
       "17755        женат / замужем                 0      M    сотрудник     0   \n",
       "17774       гражданский брак                 1      F    компаньон     0   \n",
       "18328        женат / замужем                 0      M    сотрудник     0   \n",
       "18349        женат / замужем                 0      F  госслужащий     0   \n",
       "18428        женат / замужем                 0      F    пенсионер     0   \n",
       "18521       гражданский брак                 1      F    сотрудник     0   \n",
       "18563        женат / замужем                 0      F    сотрудник     0   \n",
       "18755        женат / замужем                 0      F    пенсионер     0   \n",
       "19041       гражданский брак                 1      F    сотрудник     0   \n",
       "19184        женат / замужем                 0      F    сотрудник     0   \n",
       "19321  Не женат / не замужем                 4      F    сотрудник     0   \n",
       "19387       гражданский брак                 1      F    компаньон     0   \n",
       "19688        женат / замужем                 0      F    пенсионер     0   \n",
       "19832        женат / замужем                 0      F    сотрудник     0   \n",
       "19946        женат / замужем                 0      F    сотрудник     0   \n",
       "20116       гражданский брак                 1      M    пенсионер     0   \n",
       "20165        женат / замужем                 0      F    сотрудник     0   \n",
       "20702        женат / замужем                 0      F    пенсионер     0   \n",
       "21032        женат / замужем                 0      F    пенсионер     0   \n",
       "21132        женат / замужем                 0      F    сотрудник     0   \n",
       "21281        женат / замужем                 0      F    сотрудник     0   \n",
       "21415        женат / замужем                 0      F    пенсионер     0   \n",
       "\n",
       "       total_income                                purpose  \\\n",
       "2849         142607                покупка жилья для семьи   \n",
       "4182         142607                                свадьба   \n",
       "4851         115413                                свадьба   \n",
       "5557         115413                        сыграть свадьбу   \n",
       "7808         115413                  на проведение свадьбы   \n",
       "8583         115413             дополнительное образование   \n",
       "9238         142607                покупка жилья для сдачи   \n",
       "9528         115413        операции со своей недвижимостью   \n",
       "9627         115413        операции со своей недвижимостью   \n",
       "10462        115413      покупка коммерческой недвижимости   \n",
       "10697        172396                        сыграть свадьбу   \n",
       "10864        115413                           ремонт жилью   \n",
       "10994        115413                           ремонт жилью   \n",
       "11791        142607             строительство недвижимости   \n",
       "12373        142607                   покупка недвижимости   \n",
       "12375        142607                   покупка недвижимости   \n",
       "12736        115413                  заняться образованием   \n",
       "13025        142607       сделка с подержанным автомобилем   \n",
       "13639        115413                             автомобиль   \n",
       "13773        142607                        сыграть свадьбу   \n",
       "13878        172396                          покупка жилья   \n",
       "13942        142607                приобретение автомобиля   \n",
       "14432        150521                  получение образования   \n",
       "14832        142607                           недвижимость   \n",
       "15091        142607                  на проведение свадьбы   \n",
       "15188        142607                   покупка недвижимости   \n",
       "15273        115413                                свадьба   \n",
       "16176        142607                           ремонт жилью   \n",
       "16378        142607                     высшее образование   \n",
       "16902        142607                        сыграть свадьбу   \n",
       "16904        142607     на покупку подержанного автомобиля   \n",
       "17379        172396  операции с коммерческой недвижимостью   \n",
       "17755        142607                  заняться образованием   \n",
       "17774        172396       строительство жилой недвижимости   \n",
       "18328        142607             покупка жилой недвижимости   \n",
       "18349        150521                покупка жилья для семьи   \n",
       "18428        115413                                  жилье   \n",
       "18521        142607                        сыграть свадьбу   \n",
       "18563        142607        операции со своей недвижимостью   \n",
       "18755        115413                  заняться образованием   \n",
       "19041        142607                  на проведение свадьбы   \n",
       "19184        142607                        свой автомобиль   \n",
       "19321        142607       сделка с подержанным автомобилем   \n",
       "19387        172396                  на проведение свадьбы   \n",
       "19688        115413               операции с недвижимостью   \n",
       "19832        142607                           ремонт жилью   \n",
       "19946        142607       сделка с подержанным автомобилем   \n",
       "20116        115413                                свадьба   \n",
       "20165        142607                покупка жилья для семьи   \n",
       "20702        115413             дополнительное образование   \n",
       "21032        115413                  заняться образованием   \n",
       "21132        142607                           ремонт жилью   \n",
       "21281        142607      покупка коммерческой недвижимости   \n",
       "21415        115413                      операции с жильем   \n",
       "\n",
       "       days_employed_per_year  \n",
       "2849                      NaN  \n",
       "4182                      NaN  \n",
       "4851                      NaN  \n",
       "5557                      NaN  \n",
       "7808                      NaN  \n",
       "8583                      NaN  \n",
       "9238                      NaN  \n",
       "9528                      NaN  \n",
       "9627                      NaN  \n",
       "10462                     NaN  \n",
       "10697                     NaN  \n",
       "10864                     NaN  \n",
       "10994                     NaN  \n",
       "11791                     NaN  \n",
       "12373                     NaN  \n",
       "12375                     NaN  \n",
       "12736                     NaN  \n",
       "13025                     NaN  \n",
       "13639                     NaN  \n",
       "13773                     NaN  \n",
       "13878                     NaN  \n",
       "13942                     NaN  \n",
       "14432                     NaN  \n",
       "14832                     NaN  \n",
       "15091                     NaN  \n",
       "15188                     NaN  \n",
       "15273                     NaN  \n",
       "16176                     NaN  \n",
       "16378                     NaN  \n",
       "16902                     NaN  \n",
       "16904                     NaN  \n",
       "17379                     NaN  \n",
       "17755                     NaN  \n",
       "17774                     NaN  \n",
       "18328                     NaN  \n",
       "18349                     NaN  \n",
       "18428                     NaN  \n",
       "18521                     NaN  \n",
       "18563                     NaN  \n",
       "18755                     NaN  \n",
       "19041                     NaN  \n",
       "19184                     NaN  \n",
       "19321                     NaN  \n",
       "19387                     NaN  \n",
       "19688                     NaN  \n",
       "19832                     NaN  \n",
       "19946                     NaN  \n",
       "20116                     NaN  \n",
       "20165                     NaN  \n",
       "20702                     NaN  \n",
       "21032                     NaN  \n",
       "21132                     NaN  \n",
       "21281                     NaN  \n",
       "21415                     NaN  "
      ]
     },
     "execution_count": 30,
     "metadata": {},
     "output_type": "execute_result"
    }
   ],
   "source": [
    "data[(data.duplicated() == True)]"
   ]
  },
  {
   "cell_type": "code",
   "execution_count": 31,
   "metadata": {},
   "outputs": [
    {
     "data": {
      "text/plain": [
       "142607    28\n",
       "115413    19\n",
       "172396     5\n",
       "150521     2\n",
       "Name: total_income, dtype: int64"
      ]
     },
     "execution_count": 31,
     "metadata": {},
     "output_type": "execute_result"
    }
   ],
   "source": [
    "data[(data.duplicated() == True)]['total_income'].value_counts()"
   ]
  },
  {
   "cell_type": "markdown",
   "metadata": {},
   "source": [
    "Как мы видим, все значения заработков являются теми медианами для разных типов занятости, которыми мы заполняли пропуски... Давайте разбираться дальше.\n",
    "\n",
    "Если не брать в учет совпадения значений в данном столбце, то какова вероятность того, что совпадут значения в других?\n",
    "\n",
    "P = Pchildren * Pdob_years * Peducation_id * Pfamily_status * Pgender * Pdebt * Ppurpose = (посчитаем грубо) 1/8 * 1/50 * 1/5 * 1/5 * 1/2 * 1/2 * 1/0 = 1/1600000 - вероятность появления 1 дубликата\n",
    "\n",
    "Но так как у нас около 20 тысяч клиентов, то вероятность того, что среди 20 тысяч найдутся 54 человека с абсолютно одинаковыми данными равна: \n",
    "\n",
    "1/1600000 * 20000 / 54 = 0.00023 - чуть больше, чем 0.02%\n",
    "\n",
    "Вероятность того, что в наших данных 54 клиента с абсолютно одинаковыми анкетами крайне мала. В совпадения и мистику мы не верим, поэтому со спокойной душой удалим грубые дубликаты"
   ]
  },
  {
   "cell_type": "code",
   "execution_count": 32,
   "metadata": {},
   "outputs": [],
   "source": [
    "data = data.drop_duplicates().reset_index(drop=True)"
   ]
  },
  {
   "cell_type": "markdown",
   "metadata": {},
   "source": [
    "И сразу сделаем проверку"
   ]
  },
  {
   "cell_type": "code",
   "execution_count": 33,
   "metadata": {},
   "outputs": [
    {
     "data": {
      "text/plain": [
       "0"
      ]
     },
     "execution_count": 33,
     "metadata": {},
     "output_type": "execute_result"
    }
   ],
   "source": [
    "data.duplicated().sum()"
   ]
  },
  {
   "cell_type": "markdown",
   "metadata": {},
   "source": [
    "Как видно, грубые дубликаты исчезли, дальше будем работать без них"
   ]
  },
  {
   "cell_type": "markdown",
   "metadata": {},
   "source": [
    "С помощью функции value_counts() посмотрим уникальные значения в строках с качественными переменными"
   ]
  },
  {
   "cell_type": "code",
   "execution_count": 34,
   "metadata": {},
   "outputs": [
    {
     "data": {
      "text/plain": [
       "среднее                12674\n",
       "высшее                  4486\n",
       "СРЕДНЕЕ                  715\n",
       "Среднее                  651\n",
       "неоконченное высшее      651\n",
       "ВЫСШЕЕ                   260\n",
       "Высшее                   254\n",
       "начальное                230\n",
       "Неоконченное высшее       45\n",
       "НЕОКОНЧЕННОЕ ВЫСШЕЕ       29\n",
       "НАЧАЛЬНОЕ                 15\n",
       "Начальное                 14\n",
       "ученая степень             4\n",
       "Ученая степень             1\n",
       "УЧЕНАЯ СТЕПЕНЬ             1\n",
       "Name: education, dtype: int64"
      ]
     },
     "execution_count": 34,
     "metadata": {},
     "output_type": "execute_result"
    }
   ],
   "source": [
    "data['education'].value_counts()"
   ]
  },
  {
   "cell_type": "markdown",
   "metadata": {},
   "source": [
    "В данном столбце видно, что встречаются дубликаты, различные лишь регистром написания ('СРЕДНЕЕ' и 'среднее').\n",
    "Переведем весь столбец в нижний регистр"
   ]
  },
  {
   "cell_type": "code",
   "execution_count": 35,
   "metadata": {},
   "outputs": [
    {
     "data": {
      "text/plain": [
       "среднее                14040\n",
       "высшее                  5000\n",
       "неоконченное высшее      725\n",
       "начальное                259\n",
       "ученая степень             6\n",
       "Name: education, dtype: int64"
      ]
     },
     "execution_count": 35,
     "metadata": {},
     "output_type": "execute_result"
    }
   ],
   "source": [
    "data['education'] = data['education'].str.lower()\n",
    "data['education'].value_counts() #проверка - дубликаты ушли"
   ]
  },
  {
   "cell_type": "markdown",
   "metadata": {},
   "source": [
    "Проделаем тоже самое для столбца 'family_status'"
   ]
  },
  {
   "cell_type": "code",
   "execution_count": 36,
   "metadata": {},
   "outputs": [
    {
     "data": {
      "text/plain": [
       "женат / замужем          11530\n",
       "гражданский брак          3903\n",
       "Не женат / не замужем     2669\n",
       "в разводе                 1105\n",
       "вдовец / вдова             823\n",
       "Name: family_status, dtype: int64"
      ]
     },
     "execution_count": 36,
     "metadata": {},
     "output_type": "execute_result"
    }
   ],
   "source": [
    "data['family_status'].value_counts()"
   ]
  },
  {
   "cell_type": "markdown",
   "metadata": {},
   "source": [
    " Дубликатов нет, но одно значение начинается на заглавную букву - заменим ее на строчную"
   ]
  },
  {
   "cell_type": "code",
   "execution_count": 37,
   "metadata": {},
   "outputs": [
    {
     "data": {
      "text/plain": [
       "женат / замужем          11530\n",
       "гражданский брак          3903\n",
       "не женат / не замужем     2669\n",
       "в разводе                 1105\n",
       "вдовец / вдова             823\n",
       "Name: family_status, dtype: int64"
      ]
     },
     "execution_count": 37,
     "metadata": {},
     "output_type": "execute_result"
    }
   ],
   "source": [
    "data['family_status'] = data['family_status'].str.lower()\n",
    "data['family_status'].value_counts() #проверка - теперь заглавной буквы нет"
   ]
  },
  {
   "cell_type": "markdown",
   "metadata": {},
   "source": [
    "...И тоже самое со столбцом 'gender'..."
   ]
  },
  {
   "cell_type": "code",
   "execution_count": 38,
   "metadata": {},
   "outputs": [
    {
     "data": {
      "text/plain": [
       "F      13021\n",
       "M       7008\n",
       "XNA        1\n",
       "Name: gender, dtype: int64"
      ]
     },
     "execution_count": 38,
     "metadata": {},
     "output_type": "execute_result"
    }
   ],
   "source": [
    "data['gender'].value_counts()"
   ]
  },
  {
   "cell_type": "markdown",
   "metadata": {},
   "source": [
    "Дубликатов нет, но есть одно некорректное значение 'XNA' - видимо, это обозначение 'не определено'. Удалим это значение"
   ]
  },
  {
   "cell_type": "code",
   "execution_count": 39,
   "metadata": {},
   "outputs": [
    {
     "data": {
      "text/plain": [
       "F    13021\n",
       "M     7008\n",
       "Name: gender, dtype: int64"
      ]
     },
     "execution_count": 39,
     "metadata": {},
     "output_type": "execute_result"
    }
   ],
   "source": [
    "data = data.drop(data.index[data['gender'] == 'XNA'])\n",
    "data['gender'].value_counts() #проверка"
   ]
  },
  {
   "cell_type": "markdown",
   "metadata": {},
   "source": [
    "Также рассмотрим столбец 'income_type'"
   ]
  },
  {
   "cell_type": "code",
   "execution_count": 40,
   "metadata": {},
   "outputs": [
    {
     "data": {
      "text/plain": [
       "сотрудник          10972\n",
       "компаньон           5046\n",
       "пенсионер           2568\n",
       "госслужащий         1439\n",
       "предприниматель        2\n",
       "студент                1\n",
       "в декрете              1\n",
       "Name: income_type, dtype: int64"
      ]
     },
     "execution_count": 40,
     "metadata": {},
     "output_type": "execute_result"
    }
   ],
   "source": [
    "data['income_type'].value_counts()"
   ]
  },
  {
   "cell_type": "markdown",
   "metadata": {},
   "source": [
    "Дубликаты не найдены, но найдены редкие значения 'предприниматель', 'в декрете' и 'студент' - что с ними делать - непонятно. Хочется присоединить к другим, но оставлю это на усмотрение коллег "
   ]
  },
  {
   "cell_type": "markdown",
   "metadata": {},
   "source": [
    "После обработки столбцов с категориальными переменными, проверим нашу таблицу на грубые дубликаты еще раз"
   ]
  },
  {
   "cell_type": "code",
   "execution_count": 41,
   "metadata": {},
   "outputs": [
    {
     "data": {
      "text/plain": [
       "17"
      ]
     },
     "execution_count": 41,
     "metadata": {},
     "output_type": "execute_result"
    }
   ],
   "source": [
    "data.duplicated().sum()"
   ]
  },
  {
   "cell_type": "markdown",
   "metadata": {},
   "source": [
    "В результате обработки категориальных переменных и уменьшению количества этих категорий в разных столбцах появилась новая порция грубых дубликатов - избавимся и от них"
   ]
  },
  {
   "cell_type": "code",
   "execution_count": 42,
   "metadata": {},
   "outputs": [
    {
     "data": {
      "text/plain": [
       "0"
      ]
     },
     "execution_count": 42,
     "metadata": {},
     "output_type": "execute_result"
    }
   ],
   "source": [
    "data = data.drop_duplicates().reset_index(drop=True)\n",
    "data.duplicated().sum()"
   ]
  },
  {
   "cell_type": "markdown",
   "metadata": {},
   "source": [
    "Ура! Все дубликаты успешно ушли, можно двигаться дальше!"
   ]
  },
  {
   "cell_type": "markdown",
   "metadata": {},
   "source": [
    "**Вывод**\n",
    "\n",
    "Дубликаты были обнаружены только в столбце 'education'. Все они были из-за написания в разном регистре. После приведения всех значения к одному (нижнему) регистру, количество ункальных значений в столбце сократилось, дубликаты исчезли.\n",
    "\n",
    "Также были обнаружены грубые дубликаты, которые возникли в результате заполнения столбца 'total_income' одинаковым характерным значением, а также совпадением значений в остальных столбцах. Такие дубликаты мы удалять не стали"
   ]
  },
  {
   "cell_type": "markdown",
   "metadata": {},
   "source": [
    "### Лемматизация"
   ]
  },
  {
   "cell_type": "markdown",
   "metadata": {},
   "source": [
    "Импортируем необходимые библиотеки и контейнеры"
   ]
  },
  {
   "cell_type": "code",
   "execution_count": 43,
   "metadata": {},
   "outputs": [],
   "source": [
    "from pymystem3 import Mystem\n",
    "m = Mystem()\n",
    "from collections import Counter"
   ]
  },
  {
   "cell_type": "markdown",
   "metadata": {},
   "source": [
    "Рассмотрим уникальные значения в столбце 'purpose' и их количество"
   ]
  },
  {
   "cell_type": "code",
   "execution_count": 44,
   "metadata": {},
   "outputs": [
    {
     "data": {
      "text/plain": [
       "свадьба                                   745\n",
       "сыграть свадьбу                           713\n",
       "на проведение свадьбы                     712\n",
       "покупка коммерческой недвижимости         624\n",
       "операции с недвижимостью                  623\n",
       "операции с коммерческой недвижимостью     604\n",
       "операции с жильем                         600\n",
       "покупка жилья для семьи                   600\n",
       "покупка жилья                             599\n",
       "жилье                                     597\n",
       "недвижимость                              597\n",
       "покупка жилья для сдачи                   596\n",
       "операции со своей недвижимостью           592\n",
       "строительство собственной недвижимости    592\n",
       "покупка своего жилья                      582\n",
       "строительство недвижимости                582\n",
       "строительство жилой недвижимости          578\n",
       "покупка жилой недвижимости                568\n",
       "покупка недвижимости                      566\n",
       "ремонт жилью                              566\n",
       "на покупку своего автомобиля              479\n",
       "заняться высшим образованием              457\n",
       "сделка с подержанным автомобилем          455\n",
       "свой автомобиль                           453\n",
       "автомобиль                                451\n",
       "на покупку подержанного автомобиля        450\n",
       "автомобили                                446\n",
       "сделка с автомобилем                      437\n",
       "на покупку автомобиля                     431\n",
       "дополнительное образование                429\n",
       "приобретение автомобиля                   428\n",
       "высшее образование                        424\n",
       "образование                               423\n",
       "профильное образование                    414\n",
       "получение дополнительного образования     413\n",
       "получение образования                     411\n",
       "получение высшего образования             390\n",
       "заняться образованием                     385\n",
       "Name: purpose, dtype: int64"
      ]
     },
     "execution_count": 44,
     "metadata": {},
     "output_type": "execute_result"
    }
   ],
   "source": [
    "data['purpose'].value_counts()"
   ]
  },
  {
   "cell_type": "markdown",
   "metadata": {},
   "source": [
    "Запишем в переменную 'purpose_unique' уникальные значения из столбца 'purpose'"
   ]
  },
  {
   "cell_type": "code",
   "execution_count": 45,
   "metadata": {},
   "outputs": [],
   "source": [
    "purpose_unique = data['purpose'].unique()"
   ]
  },
  {
   "cell_type": "markdown",
   "metadata": {},
   "source": [
    "Разобьем цели на отдельные слова"
   ]
  },
  {
   "cell_type": "code",
   "execution_count": 46,
   "metadata": {},
   "outputs": [
    {
     "name": "stdout",
     "output_type": "stream",
     "text": [
      "Counter({'покупка': 10, 'недвижимость': 10, 'автомобиль': 9, 'образование': 9, 'жилье': 7, 'с': 5, 'операция': 4, 'на': 4, 'свой': 4, 'свадьба': 3, 'строительство': 3, 'получение': 3, 'высокий': 3, 'дополнительный': 2, 'для': 2, 'коммерческий': 2, 'жилой': 2, 'заниматься': 2, 'сделка': 2, 'приобретение': 1, 'проведение': 1, 'семья': 1, 'сыграть': 1, 'собственный': 1, 'подержать': 1, 'со': 1, 'подержанный': 1, 'профильный': 1, 'сдача': 1, 'ремонт': 1})\n"
     ]
    }
   ],
   "source": [
    "lemmas = []\n",
    "for str in purpose_unique: \n",
    "    lemmas += [x for x in m.lemmatize(str) if x != '\\n' and x != ' ']\n",
    "    \n",
    "print(Counter(lemmas))"
   ]
  },
  {
   "cell_type": "markdown",
   "metadata": {},
   "source": [
    "Выберем из самых часто встречающихся терминов те, что еще и информативные: 'недвижимость', 'автомобиль', 'образование', 'жилье', 'свадьба' - и создадим функцию для лемматизации данных"
   ]
  },
  {
   "cell_type": "code",
   "execution_count": 47,
   "metadata": {},
   "outputs": [],
   "source": [
    "def what_is_purpose(purpose): #функция для распределения целей кредита на категории по ключевым словам\n",
    "    lemm = m.lemmatize(purpose)\n",
    "    if 'жилье' in lemm: \n",
    "        return 'недвижимость'\n",
    "    if 'недвижимость' in lemm:\n",
    "        return 'недвижимость'\n",
    "    if 'автомобиль' in lemm:\n",
    "        return 'автомобиль'\n",
    "    if 'свадьба' in lemm:\n",
    "        return 'свадьба'\n",
    "    if 'образование' in lemm:\n",
    "        return 'образование'"
   ]
  },
  {
   "cell_type": "markdown",
   "metadata": {},
   "source": [
    "Применим данную функцию к набору данных и проверим количество уникальных значений в столбце теперь"
   ]
  },
  {
   "cell_type": "code",
   "execution_count": 48,
   "metadata": {},
   "outputs": [
    {
     "data": {
      "text/plain": [
       "недвижимость    10066\n",
       "автомобиль       4030\n",
       "образование      3746\n",
       "свадьба          2170\n",
       "Name: purpose, dtype: int64"
      ]
     },
     "execution_count": 48,
     "metadata": {},
     "output_type": "execute_result"
    }
   ],
   "source": [
    "data['purpose'] = data['purpose'].apply(what_is_purpose)   \n",
    "data['purpose'].value_counts()"
   ]
  },
  {
   "cell_type": "markdown",
   "metadata": {},
   "source": [
    "Все круто!"
   ]
  },
  {
   "cell_type": "markdown",
   "metadata": {},
   "source": [
    "**Вывод**\n",
    "\n",
    "Мы рассмотрели всевозможные цели кредита и с помощью лемматизации выделили 4 общих категории: \"недвижимость\", \"автомобиль\", \"образование\" и \"свадьба\". Как мы видим: категория \"недвижимость\" с большим отрывом на первом месте - больше половины кредитов; меньше всего кредиты берут на свадьбу - всего 2 тысячи - десятая часть от всех кредитов"
   ]
  },
  {
   "cell_type": "markdown",
   "metadata": {},
   "source": [
    "### Категоризация данных"
   ]
  },
  {
   "cell_type": "markdown",
   "metadata": {},
   "source": [
    "Для начала посмотрим на табличку, которую мы получили к этому моменту, и оценим данные, которые у нас есть"
   ]
  },
  {
   "cell_type": "code",
   "execution_count": 49,
   "metadata": {},
   "outputs": [
    {
     "data": {
      "text/html": [
       "<div>\n",
       "<style scoped>\n",
       "    .dataframe tbody tr th:only-of-type {\n",
       "        vertical-align: middle;\n",
       "    }\n",
       "\n",
       "    .dataframe tbody tr th {\n",
       "        vertical-align: top;\n",
       "    }\n",
       "\n",
       "    .dataframe thead th {\n",
       "        text-align: right;\n",
       "    }\n",
       "</style>\n",
       "<table border=\"1\" class=\"dataframe\">\n",
       "  <thead>\n",
       "    <tr style=\"text-align: right;\">\n",
       "      <th></th>\n",
       "      <th>children</th>\n",
       "      <th>days_employed</th>\n",
       "      <th>dob_years</th>\n",
       "      <th>education</th>\n",
       "      <th>education_id</th>\n",
       "      <th>family_status</th>\n",
       "      <th>family_status_id</th>\n",
       "      <th>gender</th>\n",
       "      <th>income_type</th>\n",
       "      <th>debt</th>\n",
       "      <th>total_income</th>\n",
       "      <th>purpose</th>\n",
       "      <th>days_employed_per_year</th>\n",
       "    </tr>\n",
       "  </thead>\n",
       "  <tbody>\n",
       "    <tr>\n",
       "      <td>0</td>\n",
       "      <td>1</td>\n",
       "      <td>8437</td>\n",
       "      <td>42</td>\n",
       "      <td>высшее</td>\n",
       "      <td>0</td>\n",
       "      <td>женат / замужем</td>\n",
       "      <td>0</td>\n",
       "      <td>F</td>\n",
       "      <td>сотрудник</td>\n",
       "      <td>0</td>\n",
       "      <td>253875</td>\n",
       "      <td>недвижимость</td>\n",
       "      <td>324.525886</td>\n",
       "    </tr>\n",
       "    <tr>\n",
       "      <td>1</td>\n",
       "      <td>1</td>\n",
       "      <td>4024</td>\n",
       "      <td>36</td>\n",
       "      <td>среднее</td>\n",
       "      <td>1</td>\n",
       "      <td>женат / замужем</td>\n",
       "      <td>0</td>\n",
       "      <td>F</td>\n",
       "      <td>сотрудник</td>\n",
       "      <td>0</td>\n",
       "      <td>112080</td>\n",
       "      <td>автомобиль</td>\n",
       "      <td>201.240188</td>\n",
       "    </tr>\n",
       "    <tr>\n",
       "      <td>2</td>\n",
       "      <td>0</td>\n",
       "      <td>5623</td>\n",
       "      <td>33</td>\n",
       "      <td>среднее</td>\n",
       "      <td>1</td>\n",
       "      <td>женат / замужем</td>\n",
       "      <td>0</td>\n",
       "      <td>M</td>\n",
       "      <td>сотрудник</td>\n",
       "      <td>0</td>\n",
       "      <td>145885</td>\n",
       "      <td>недвижимость</td>\n",
       "      <td>330.789565</td>\n",
       "    </tr>\n",
       "    <tr>\n",
       "      <td>3</td>\n",
       "      <td>3</td>\n",
       "      <td>4124</td>\n",
       "      <td>32</td>\n",
       "      <td>среднее</td>\n",
       "      <td>1</td>\n",
       "      <td>женат / замужем</td>\n",
       "      <td>0</td>\n",
       "      <td>M</td>\n",
       "      <td>сотрудник</td>\n",
       "      <td>0</td>\n",
       "      <td>267628</td>\n",
       "      <td>образование</td>\n",
       "      <td>257.796700</td>\n",
       "    </tr>\n",
       "    <tr>\n",
       "      <td>4</td>\n",
       "      <td>0</td>\n",
       "      <td>926</td>\n",
       "      <td>27</td>\n",
       "      <td>высшее</td>\n",
       "      <td>0</td>\n",
       "      <td>гражданский брак</td>\n",
       "      <td>1</td>\n",
       "      <td>M</td>\n",
       "      <td>компаньон</td>\n",
       "      <td>0</td>\n",
       "      <td>255763</td>\n",
       "      <td>недвижимость</td>\n",
       "      <td>84.198712</td>\n",
       "    </tr>\n",
       "  </tbody>\n",
       "</table>\n",
       "</div>"
      ],
      "text/plain": [
       "   children  days_employed  dob_years education  education_id  \\\n",
       "0         1           8437         42    высшее             0   \n",
       "1         1           4024         36   среднее             1   \n",
       "2         0           5623         33   среднее             1   \n",
       "3         3           4124         32   среднее             1   \n",
       "4         0            926         27    высшее             0   \n",
       "\n",
       "      family_status  family_status_id gender income_type  debt  total_income  \\\n",
       "0   женат / замужем                 0      F   сотрудник     0        253875   \n",
       "1   женат / замужем                 0      F   сотрудник     0        112080   \n",
       "2   женат / замужем                 0      M   сотрудник     0        145885   \n",
       "3   женат / замужем                 0      M   сотрудник     0        267628   \n",
       "4  гражданский брак                 1      M   компаньон     0        255763   \n",
       "\n",
       "        purpose  days_employed_per_year  \n",
       "0  недвижимость              324.525886  \n",
       "1    автомобиль              201.240188  \n",
       "2  недвижимость              330.789565  \n",
       "3   образование              257.796700  \n",
       "4  недвижимость               84.198712  "
      ]
     },
     "execution_count": 49,
     "metadata": {},
     "output_type": "execute_result"
    }
   ],
   "source": [
    "data.head()"
   ]
  },
  {
   "cell_type": "markdown",
   "metadata": {},
   "source": [
    "Категоризация данных нам необходима для тех случаев, когда данные количественные и, соответственно, могут принимать случайные\n",
    "значения. В нашей таблице есть три столбца, которые так и хочется категоризировать (потому что в данных столбцах разнообразие\n",
    "значений больше, чем в остальных столбцах) - это 'days_employed', 'dob_years' и 'total_income'. Напишем функции, которые\n",
    "на основании данных будут выделять 2-4 категории заемщиков. Применим для нашей таблицы"
   ]
  },
  {
   "cell_type": "code",
   "execution_count": 50,
   "metadata": {},
   "outputs": [],
   "source": [
    "def days_employed_category(days): #функция категоризации по стажу\n",
    "    if days < 365:\n",
    "        return 'меньше года'\n",
    "    if 365 <= days < 730 :\n",
    "        return 'от 1 до 2 лет'\n",
    "    if 730 <= days < 1825 :\n",
    "        return 'от 2 до 5 лет'\n",
    "    if days >= 1825:\n",
    "        return 'больше 5 лет'"
   ]
  },
  {
   "cell_type": "code",
   "execution_count": 51,
   "metadata": {},
   "outputs": [],
   "source": [
    "def dob_years_category(years): #функция категоризации по возрасту\n",
    "    if years < 20:\n",
    "        return '<20'\n",
    "    if 20 <= years < 30:\n",
    "        return '20-30'\n",
    "    if 30 <= years < 40:\n",
    "        return '30-40'\n",
    "    if 40 <= years < 50:\n",
    "        return '40-50'\n",
    "    if 50 <= years < 60:\n",
    "        return '50-60'\n",
    "    if years >= 60:\n",
    "        return '60+'"
   ]
  },
  {
   "cell_type": "code",
   "execution_count": 52,
   "metadata": {},
   "outputs": [],
   "source": [
    "def total_income_category(salary): #функция категоризации по доходу\n",
    "    if salary < 100000:\n",
    "        return '< 100 т.р.'\n",
    "    if 100000 <= salary < 200000 :\n",
    "        return '100 - 200 т.р.'\n",
    "    if salary >= 200000:\n",
    "        return '> 200 т.р.'"
   ]
  },
  {
   "cell_type": "markdown",
   "metadata": {},
   "source": [
    "Применим данные функции на наш набор данных и посмотрим на результат их работы"
   ]
  },
  {
   "cell_type": "code",
   "execution_count": 53,
   "metadata": {},
   "outputs": [
    {
     "data": {
      "text/html": [
       "<div>\n",
       "<style scoped>\n",
       "    .dataframe tbody tr th:only-of-type {\n",
       "        vertical-align: middle;\n",
       "    }\n",
       "\n",
       "    .dataframe tbody tr th {\n",
       "        vertical-align: top;\n",
       "    }\n",
       "\n",
       "    .dataframe thead th {\n",
       "        text-align: right;\n",
       "    }\n",
       "</style>\n",
       "<table border=\"1\" class=\"dataframe\">\n",
       "  <thead>\n",
       "    <tr style=\"text-align: right;\">\n",
       "      <th></th>\n",
       "      <th>children</th>\n",
       "      <th>days_employed</th>\n",
       "      <th>dob_years</th>\n",
       "      <th>education</th>\n",
       "      <th>education_id</th>\n",
       "      <th>family_status</th>\n",
       "      <th>family_status_id</th>\n",
       "      <th>gender</th>\n",
       "      <th>income_type</th>\n",
       "      <th>debt</th>\n",
       "      <th>total_income</th>\n",
       "      <th>purpose</th>\n",
       "      <th>days_employed_per_year</th>\n",
       "      <th>days_employed_category</th>\n",
       "      <th>dob_years_category</th>\n",
       "      <th>total_income_category</th>\n",
       "    </tr>\n",
       "  </thead>\n",
       "  <tbody>\n",
       "    <tr>\n",
       "      <td>0</td>\n",
       "      <td>1</td>\n",
       "      <td>8437</td>\n",
       "      <td>42</td>\n",
       "      <td>высшее</td>\n",
       "      <td>0</td>\n",
       "      <td>женат / замужем</td>\n",
       "      <td>0</td>\n",
       "      <td>F</td>\n",
       "      <td>сотрудник</td>\n",
       "      <td>0</td>\n",
       "      <td>253875</td>\n",
       "      <td>недвижимость</td>\n",
       "      <td>324.525886</td>\n",
       "      <td>больше 5 лет</td>\n",
       "      <td>40-50</td>\n",
       "      <td>&gt; 200 т.р.</td>\n",
       "    </tr>\n",
       "    <tr>\n",
       "      <td>1</td>\n",
       "      <td>1</td>\n",
       "      <td>4024</td>\n",
       "      <td>36</td>\n",
       "      <td>среднее</td>\n",
       "      <td>1</td>\n",
       "      <td>женат / замужем</td>\n",
       "      <td>0</td>\n",
       "      <td>F</td>\n",
       "      <td>сотрудник</td>\n",
       "      <td>0</td>\n",
       "      <td>112080</td>\n",
       "      <td>автомобиль</td>\n",
       "      <td>201.240188</td>\n",
       "      <td>больше 5 лет</td>\n",
       "      <td>30-40</td>\n",
       "      <td>100 - 200 т.р.</td>\n",
       "    </tr>\n",
       "    <tr>\n",
       "      <td>2</td>\n",
       "      <td>0</td>\n",
       "      <td>5623</td>\n",
       "      <td>33</td>\n",
       "      <td>среднее</td>\n",
       "      <td>1</td>\n",
       "      <td>женат / замужем</td>\n",
       "      <td>0</td>\n",
       "      <td>M</td>\n",
       "      <td>сотрудник</td>\n",
       "      <td>0</td>\n",
       "      <td>145885</td>\n",
       "      <td>недвижимость</td>\n",
       "      <td>330.789565</td>\n",
       "      <td>больше 5 лет</td>\n",
       "      <td>30-40</td>\n",
       "      <td>100 - 200 т.р.</td>\n",
       "    </tr>\n",
       "    <tr>\n",
       "      <td>3</td>\n",
       "      <td>3</td>\n",
       "      <td>4124</td>\n",
       "      <td>32</td>\n",
       "      <td>среднее</td>\n",
       "      <td>1</td>\n",
       "      <td>женат / замужем</td>\n",
       "      <td>0</td>\n",
       "      <td>M</td>\n",
       "      <td>сотрудник</td>\n",
       "      <td>0</td>\n",
       "      <td>267628</td>\n",
       "      <td>образование</td>\n",
       "      <td>257.796700</td>\n",
       "      <td>больше 5 лет</td>\n",
       "      <td>30-40</td>\n",
       "      <td>&gt; 200 т.р.</td>\n",
       "    </tr>\n",
       "    <tr>\n",
       "      <td>4</td>\n",
       "      <td>0</td>\n",
       "      <td>926</td>\n",
       "      <td>27</td>\n",
       "      <td>высшее</td>\n",
       "      <td>0</td>\n",
       "      <td>гражданский брак</td>\n",
       "      <td>1</td>\n",
       "      <td>M</td>\n",
       "      <td>компаньон</td>\n",
       "      <td>0</td>\n",
       "      <td>255763</td>\n",
       "      <td>недвижимость</td>\n",
       "      <td>84.198712</td>\n",
       "      <td>от 2 до 5 лет</td>\n",
       "      <td>20-30</td>\n",
       "      <td>&gt; 200 т.р.</td>\n",
       "    </tr>\n",
       "    <tr>\n",
       "      <td>...</td>\n",
       "      <td>...</td>\n",
       "      <td>...</td>\n",
       "      <td>...</td>\n",
       "      <td>...</td>\n",
       "      <td>...</td>\n",
       "      <td>...</td>\n",
       "      <td>...</td>\n",
       "      <td>...</td>\n",
       "      <td>...</td>\n",
       "      <td>...</td>\n",
       "      <td>...</td>\n",
       "      <td>...</td>\n",
       "      <td>...</td>\n",
       "      <td>...</td>\n",
       "      <td>...</td>\n",
       "      <td>...</td>\n",
       "    </tr>\n",
       "    <tr>\n",
       "      <td>20007</td>\n",
       "      <td>1</td>\n",
       "      <td>4529</td>\n",
       "      <td>43</td>\n",
       "      <td>среднее</td>\n",
       "      <td>1</td>\n",
       "      <td>гражданский брак</td>\n",
       "      <td>1</td>\n",
       "      <td>F</td>\n",
       "      <td>компаньон</td>\n",
       "      <td>0</td>\n",
       "      <td>224791</td>\n",
       "      <td>недвижимость</td>\n",
       "      <td>167.752469</td>\n",
       "      <td>больше 5 лет</td>\n",
       "      <td>40-50</td>\n",
       "      <td>&gt; 200 т.р.</td>\n",
       "    </tr>\n",
       "    <tr>\n",
       "      <td>20008</td>\n",
       "      <td>0</td>\n",
       "      <td>14330</td>\n",
       "      <td>67</td>\n",
       "      <td>среднее</td>\n",
       "      <td>1</td>\n",
       "      <td>женат / замужем</td>\n",
       "      <td>0</td>\n",
       "      <td>F</td>\n",
       "      <td>пенсионер</td>\n",
       "      <td>0</td>\n",
       "      <td>155999</td>\n",
       "      <td>автомобиль</td>\n",
       "      <td>280.994611</td>\n",
       "      <td>больше 5 лет</td>\n",
       "      <td>60+</td>\n",
       "      <td>100 - 200 т.р.</td>\n",
       "    </tr>\n",
       "    <tr>\n",
       "      <td>20009</td>\n",
       "      <td>1</td>\n",
       "      <td>2113</td>\n",
       "      <td>38</td>\n",
       "      <td>среднее</td>\n",
       "      <td>1</td>\n",
       "      <td>гражданский брак</td>\n",
       "      <td>1</td>\n",
       "      <td>M</td>\n",
       "      <td>сотрудник</td>\n",
       "      <td>1</td>\n",
       "      <td>89672</td>\n",
       "      <td>недвижимость</td>\n",
       "      <td>96.061222</td>\n",
       "      <td>больше 5 лет</td>\n",
       "      <td>30-40</td>\n",
       "      <td>&lt; 100 т.р.</td>\n",
       "    </tr>\n",
       "    <tr>\n",
       "      <td>20010</td>\n",
       "      <td>3</td>\n",
       "      <td>3112</td>\n",
       "      <td>38</td>\n",
       "      <td>среднее</td>\n",
       "      <td>1</td>\n",
       "      <td>женат / замужем</td>\n",
       "      <td>0</td>\n",
       "      <td>M</td>\n",
       "      <td>сотрудник</td>\n",
       "      <td>1</td>\n",
       "      <td>244093</td>\n",
       "      <td>автомобиль</td>\n",
       "      <td>141.476441</td>\n",
       "      <td>больше 5 лет</td>\n",
       "      <td>30-40</td>\n",
       "      <td>&gt; 200 т.р.</td>\n",
       "    </tr>\n",
       "    <tr>\n",
       "      <td>20011</td>\n",
       "      <td>2</td>\n",
       "      <td>1984</td>\n",
       "      <td>40</td>\n",
       "      <td>среднее</td>\n",
       "      <td>1</td>\n",
       "      <td>женат / замужем</td>\n",
       "      <td>0</td>\n",
       "      <td>F</td>\n",
       "      <td>сотрудник</td>\n",
       "      <td>0</td>\n",
       "      <td>82047</td>\n",
       "      <td>автомобиль</td>\n",
       "      <td>82.687816</td>\n",
       "      <td>больше 5 лет</td>\n",
       "      <td>40-50</td>\n",
       "      <td>&lt; 100 т.р.</td>\n",
       "    </tr>\n",
       "  </tbody>\n",
       "</table>\n",
       "<p>20012 rows × 16 columns</p>\n",
       "</div>"
      ],
      "text/plain": [
       "       children  days_employed  dob_years education  education_id  \\\n",
       "0             1           8437         42    высшее             0   \n",
       "1             1           4024         36   среднее             1   \n",
       "2             0           5623         33   среднее             1   \n",
       "3             3           4124         32   среднее             1   \n",
       "4             0            926         27    высшее             0   \n",
       "...         ...            ...        ...       ...           ...   \n",
       "20007         1           4529         43   среднее             1   \n",
       "20008         0          14330         67   среднее             1   \n",
       "20009         1           2113         38   среднее             1   \n",
       "20010         3           3112         38   среднее             1   \n",
       "20011         2           1984         40   среднее             1   \n",
       "\n",
       "          family_status  family_status_id gender income_type  debt  \\\n",
       "0       женат / замужем                 0      F   сотрудник     0   \n",
       "1       женат / замужем                 0      F   сотрудник     0   \n",
       "2       женат / замужем                 0      M   сотрудник     0   \n",
       "3       женат / замужем                 0      M   сотрудник     0   \n",
       "4      гражданский брак                 1      M   компаньон     0   \n",
       "...                 ...               ...    ...         ...   ...   \n",
       "20007  гражданский брак                 1      F   компаньон     0   \n",
       "20008   женат / замужем                 0      F   пенсионер     0   \n",
       "20009  гражданский брак                 1      M   сотрудник     1   \n",
       "20010   женат / замужем                 0      M   сотрудник     1   \n",
       "20011   женат / замужем                 0      F   сотрудник     0   \n",
       "\n",
       "       total_income       purpose  days_employed_per_year  \\\n",
       "0            253875  недвижимость              324.525886   \n",
       "1            112080    автомобиль              201.240188   \n",
       "2            145885  недвижимость              330.789565   \n",
       "3            267628   образование              257.796700   \n",
       "4            255763  недвижимость               84.198712   \n",
       "...             ...           ...                     ...   \n",
       "20007        224791  недвижимость              167.752469   \n",
       "20008        155999    автомобиль              280.994611   \n",
       "20009         89672  недвижимость               96.061222   \n",
       "20010        244093    автомобиль              141.476441   \n",
       "20011         82047    автомобиль               82.687816   \n",
       "\n",
       "      days_employed_category dob_years_category total_income_category  \n",
       "0               больше 5 лет              40-50            > 200 т.р.  \n",
       "1               больше 5 лет              30-40        100 - 200 т.р.  \n",
       "2               больше 5 лет              30-40        100 - 200 т.р.  \n",
       "3               больше 5 лет              30-40            > 200 т.р.  \n",
       "4              от 2 до 5 лет              20-30            > 200 т.р.  \n",
       "...                      ...                ...                   ...  \n",
       "20007           больше 5 лет              40-50            > 200 т.р.  \n",
       "20008           больше 5 лет                60+        100 - 200 т.р.  \n",
       "20009           больше 5 лет              30-40            < 100 т.р.  \n",
       "20010           больше 5 лет              30-40            > 200 т.р.  \n",
       "20011           больше 5 лет              40-50            < 100 т.р.  \n",
       "\n",
       "[20012 rows x 16 columns]"
      ]
     },
     "execution_count": 53,
     "metadata": {},
     "output_type": "execute_result"
    }
   ],
   "source": [
    "data['days_employed_category'] = data['days_employed'].apply(days_employed_category)\n",
    "data['dob_years_category'] = data['dob_years'].apply(dob_years_category)\n",
    "data['total_income_category'] = data['total_income'].apply(total_income_category)\n",
    "data"
   ]
  },
  {
   "cell_type": "markdown",
   "metadata": {},
   "source": [
    "Совсем другое дело!\n",
    "\n",
    "Теперь посмотрим, как распределяются клиенты, имевшие задолжность, для некоторых категорий"
   ]
  },
  {
   "cell_type": "code",
   "execution_count": 54,
   "metadata": {},
   "outputs": [],
   "source": [
    "#Категория \"количество детей\"\n",
    "children_0_total = data[(data['children'] == 0)]['debt'].count() #общее количество заемщиков с 0 детей\n",
    "children_0_debtors = data[(data['children'] == 0) & (data['debt'] == 1)]['debt'].count() #количество заемщиков с 0 детьми, просрочивших кредит\n",
    "children_0_debtors_share = children_0_debtors / children_0_total #доля заемщиков с 0 детьми, просрочившими кредит, от общего числа заемщиков с 0 детьми\n",
    "\n",
    "children_1_total = data[(data['children'] == 1)]['debt'].count() #здесь и далее аналогично с предыдущим пунктом\n",
    "children_1_debtors = data[(data['children'] == 1) & (data['debt'] == 1)]['debt'].count()\n",
    "children_1_debtors_share = children_1_debtors / children_1_total\n",
    "\n",
    "children_2_total = data[(data['children'] == 2)]['debt'].count()\n",
    "children_2_debtors = data[(data['children'] == 2) & (data['debt'] == 1)]['debt'].count()\n",
    "children_2_debtors_share = children_2_debtors / children_2_total\n",
    "\n",
    "children_3_total = data[(data['children'] >= 3)]['debt'].count()\n",
    "children_3_debtors = data[(data['children'] >= 3) & (data['debt'] == 1)]['debt'].count()\n",
    "children_3_debtors_share = children_3_debtors / children_3_total"
   ]
  },
  {
   "cell_type": "markdown",
   "metadata": {},
   "source": [
    "На основе нашего анализа создадим новую таблицу с данными, отражающую надежность клиента в зависимости от количества детей"
   ]
  },
  {
   "cell_type": "code",
   "execution_count": 55,
   "metadata": {},
   "outputs": [
    {
     "data": {
      "text/html": [
       "<div>\n",
       "<style scoped>\n",
       "    .dataframe tbody tr th:only-of-type {\n",
       "        vertical-align: middle;\n",
       "    }\n",
       "\n",
       "    .dataframe tbody tr th {\n",
       "        vertical-align: top;\n",
       "    }\n",
       "\n",
       "    .dataframe thead th {\n",
       "        text-align: right;\n",
       "    }\n",
       "</style>\n",
       "<table border=\"1\" class=\"dataframe\">\n",
       "  <thead>\n",
       "    <tr style=\"text-align: right;\">\n",
       "      <th></th>\n",
       "      <th>number_of_children</th>\n",
       "      <th>number_of_debtors</th>\n",
       "      <th>total</th>\n",
       "      <th>share_of_debtors</th>\n",
       "    </tr>\n",
       "  </thead>\n",
       "  <tbody>\n",
       "    <tr>\n",
       "      <td>0</td>\n",
       "      <td>0</td>\n",
       "      <td>1001</td>\n",
       "      <td>12849</td>\n",
       "      <td>0.077905</td>\n",
       "    </tr>\n",
       "    <tr>\n",
       "      <td>1</td>\n",
       "      <td>1</td>\n",
       "      <td>433</td>\n",
       "      <td>4699</td>\n",
       "      <td>0.092147</td>\n",
       "    </tr>\n",
       "    <tr>\n",
       "      <td>2</td>\n",
       "      <td>2</td>\n",
       "      <td>199</td>\n",
       "      <td>2093</td>\n",
       "      <td>0.095079</td>\n",
       "    </tr>\n",
       "    <tr>\n",
       "      <td>3</td>\n",
       "      <td>3+</td>\n",
       "      <td>30</td>\n",
       "      <td>371</td>\n",
       "      <td>0.080863</td>\n",
       "    </tr>\n",
       "  </tbody>\n",
       "</table>\n",
       "</div>"
      ],
      "text/plain": [
       "  number_of_children  number_of_debtors  total  share_of_debtors\n",
       "0                  0               1001  12849          0.077905\n",
       "1                  1                433   4699          0.092147\n",
       "2                  2                199   2093          0.095079\n",
       "3                 3+                 30    371          0.080863"
      ]
     },
     "execution_count": 55,
     "metadata": {},
     "output_type": "execute_result"
    }
   ],
   "source": [
    "debtors_by_children_data = [['0', children_0_debtors, children_0_total, children_0_debtors_share],\n",
    "                            ['1', children_1_debtors, children_1_total, children_1_debtors_share],\n",
    "                            ['2', children_2_debtors, children_2_total, children_2_debtors_share],\n",
    "                            ['3+', children_3_debtors, children_3_total, children_3_debtors_share]]\n",
    "debtors_by_children_columns = ['number_of_children', 'number_of_debtors', 'total', 'share_of_debtors']\n",
    "debtors_by_children = pd.DataFrame(debtors_by_children_data, columns = debtors_by_children_columns)\n",
    "debtors_by_children"
   ]
  },
  {
   "cell_type": "markdown",
   "metadata": {},
   "source": [
    "Как мы видим, доля должников относительно количества детей пропорционально возрастает. Доля \"должников\" при количестве детей более трех может быть не совсем корректна, так как выборка клиентов небольшая"
   ]
  },
  {
   "cell_type": "code",
   "execution_count": 56,
   "metadata": {},
   "outputs": [],
   "source": [
    "#Категория \"семейное положение\"\n",
    "family_status_0_total = data[(data['family_status_id'] == 0)]['debt'].count() #аналогично с предыдущим пунктом\n",
    "family_status_0_debtors = data[(data['family_status_id'] == 0) & (data['debt'] == 1)]['debt'].count()\n",
    "family_status_0_debtors_share = family_status_0_debtors / family_status_0_total\n",
    "\n",
    "family_status_1_total = data[(data['family_status_id'] == 1)]['debt'].count()\n",
    "family_status_1_debtors = data[(data['family_status_id'] == 1) & (data['debt'] == 1)]['debt'].count()\n",
    "family_status_1_debtors_share = family_status_1_debtors / family_status_1_total\n",
    "\n",
    "family_status_2_total = data[(data['family_status_id'] == 2)]['debt'].count()\n",
    "family_status_2_debtors = data[(data['family_status_id'] == 2) & (data['debt'] == 1)]['debt'].count()\n",
    "family_status_2_debtors_share = family_status_2_debtors / family_status_2_total\n",
    "\n",
    "family_status_3_total = data[(data['family_status_id'] == 3)]['debt'].count()\n",
    "family_status_3_debtors = data[(data['family_status_id'] == 3) & (data['debt'] == 1)]['debt'].count()\n",
    "family_status_3_debtors_share = family_status_3_debtors / family_status_3_total\n",
    "\n",
    "family_status_4_total = data[(data['family_status_id'] == 4)]['debt'].count()\n",
    "family_status_4_debtors = data[(data['family_status_id'] == 4) & (data['debt'] == 1)]['debt'].count()\n",
    "family_status_4_debtors_share = family_status_4_debtors / family_status_4_total"
   ]
  },
  {
   "cell_type": "markdown",
   "metadata": {},
   "source": [
    "Создадим новую таблицу с данными, показывающую надежность клиента в зависимости от его семейного положения"
   ]
  },
  {
   "cell_type": "code",
   "execution_count": 57,
   "metadata": {},
   "outputs": [
    {
     "data": {
      "text/html": [
       "<div>\n",
       "<style scoped>\n",
       "    .dataframe tbody tr th:only-of-type {\n",
       "        vertical-align: middle;\n",
       "    }\n",
       "\n",
       "    .dataframe tbody tr th {\n",
       "        vertical-align: top;\n",
       "    }\n",
       "\n",
       "    .dataframe thead th {\n",
       "        text-align: right;\n",
       "    }\n",
       "</style>\n",
       "<table border=\"1\" class=\"dataframe\">\n",
       "  <thead>\n",
       "    <tr style=\"text-align: right;\">\n",
       "      <th></th>\n",
       "      <th>family_status</th>\n",
       "      <th>number_of_debtors</th>\n",
       "      <th>total</th>\n",
       "      <th>share_of_debtors</th>\n",
       "    </tr>\n",
       "  </thead>\n",
       "  <tbody>\n",
       "    <tr>\n",
       "      <td>2</td>\n",
       "      <td>вдовец / вдова</td>\n",
       "      <td>55</td>\n",
       "      <td>823</td>\n",
       "      <td>0.066829</td>\n",
       "    </tr>\n",
       "    <tr>\n",
       "      <td>3</td>\n",
       "      <td>в разводе</td>\n",
       "      <td>79</td>\n",
       "      <td>1105</td>\n",
       "      <td>0.071493</td>\n",
       "    </tr>\n",
       "    <tr>\n",
       "      <td>0</td>\n",
       "      <td>женат / замужем</td>\n",
       "      <td>889</td>\n",
       "      <td>11525</td>\n",
       "      <td>0.077137</td>\n",
       "    </tr>\n",
       "    <tr>\n",
       "      <td>1</td>\n",
       "      <td>гражданский брак</td>\n",
       "      <td>370</td>\n",
       "      <td>3890</td>\n",
       "      <td>0.095116</td>\n",
       "    </tr>\n",
       "    <tr>\n",
       "      <td>4</td>\n",
       "      <td>не женат / не замужем</td>\n",
       "      <td>270</td>\n",
       "      <td>2669</td>\n",
       "      <td>0.101161</td>\n",
       "    </tr>\n",
       "  </tbody>\n",
       "</table>\n",
       "</div>"
      ],
      "text/plain": [
       "           family_status  number_of_debtors  total  share_of_debtors\n",
       "2         вдовец / вдова                 55    823          0.066829\n",
       "3              в разводе                 79   1105          0.071493\n",
       "0        женат / замужем                889  11525          0.077137\n",
       "1       гражданский брак                370   3890          0.095116\n",
       "4  не женат / не замужем                270   2669          0.101161"
      ]
     },
     "execution_count": 57,
     "metadata": {},
     "output_type": "execute_result"
    }
   ],
   "source": [
    "debtors_by_family_status_data = [['женат / замужем', family_status_0_debtors, family_status_0_total, family_status_0_debtors_share],\n",
    "                                ['гражданский брак', family_status_1_debtors, family_status_1_total, family_status_1_debtors_share],\n",
    "                                ['вдовец / вдова', family_status_2_debtors, family_status_2_total, family_status_2_debtors_share],\n",
    "                                ['в разводе', family_status_3_debtors, family_status_3_total, family_status_3_debtors_share],\n",
    "                                ['не женат / не замужем', family_status_4_debtors, family_status_4_total, family_status_4_debtors_share]]\n",
    "debtors_by_family_status_columns = ['family_status', 'number_of_debtors', 'total', 'share_of_debtors']\n",
    "debtors_by_family_status = pd.DataFrame(debtors_by_family_status_data, columns = debtors_by_family_status_columns)\n",
    "debtors_by_family_status.sort_values('share_of_debtors')"
   ]
  },
  {
   "cell_type": "markdown",
   "metadata": {},
   "source": [
    "Клиенты в браке должны вызывать больше доверия, чем клиенты, состоящие в гражданском браке и не состоящие в браке вообще. Удивительны доли вдовцов и разведенных людей, не погасивших кредит в срок, - у них они самые низкие"
   ]
  },
  {
   "cell_type": "code",
   "execution_count": 58,
   "metadata": {},
   "outputs": [],
   "source": [
    "#Категория \"уровень дохода\"\n",
    "salary_0_total = data[(data['total_income_category'] == '< 100 т.р.')]['debt'].count() #рутина-рутина-рутина\n",
    "salary_0_debtors = data[(data['total_income_category'] == '< 100 т.р.') & (data['debt'] == 1)]['debt'].count()\n",
    "salary_0_debtors_share = salary_0_debtors / salary_0_total\n",
    "\n",
    "salary_1_total = data[(data['total_income_category'] == '100 - 200 т.р.')]['debt'].count()\n",
    "salary_1_debtors = data[(data['total_income_category'] == '100 - 200 т.р.') & (data['debt'] == 1)]['debt'].count()\n",
    "salary_1_debtors_share = salary_1_debtors / salary_1_total\n",
    "\n",
    "salary_2_total = data[(data['total_income_category'] == '> 200 т.р.')]['debt'].count()\n",
    "salary_2_debtors = data[(data['total_income_category'] == '> 200 т.р.') & (data['debt'] == 1)]['debt'].count()\n",
    "salary_2_debtors_share = salary_2_debtors / salary_2_total"
   ]
  },
  {
   "cell_type": "markdown",
   "metadata": {},
   "source": [
    "Создадим еще одну таблицу, демонстрирующую надежность клиента относительно его ежемесячного дохода"
   ]
  },
  {
   "cell_type": "code",
   "execution_count": 59,
   "metadata": {},
   "outputs": [
    {
     "data": {
      "text/html": [
       "<div>\n",
       "<style scoped>\n",
       "    .dataframe tbody tr th:only-of-type {\n",
       "        vertical-align: middle;\n",
       "    }\n",
       "\n",
       "    .dataframe tbody tr th {\n",
       "        vertical-align: top;\n",
       "    }\n",
       "\n",
       "    .dataframe thead th {\n",
       "        text-align: right;\n",
       "    }\n",
       "</style>\n",
       "<table border=\"1\" class=\"dataframe\">\n",
       "  <thead>\n",
       "    <tr style=\"text-align: right;\">\n",
       "      <th></th>\n",
       "      <th>salary</th>\n",
       "      <th>number_of_debtors</th>\n",
       "      <th>total</th>\n",
       "      <th>share_of_debtors</th>\n",
       "    </tr>\n",
       "  </thead>\n",
       "  <tbody>\n",
       "    <tr>\n",
       "      <td>0</td>\n",
       "      <td>&lt; 100 т.р.</td>\n",
       "      <td>336</td>\n",
       "      <td>3988</td>\n",
       "      <td>0.084253</td>\n",
       "    </tr>\n",
       "    <tr>\n",
       "      <td>1</td>\n",
       "      <td>100 - 200 т.р.</td>\n",
       "      <td>982</td>\n",
       "      <td>11230</td>\n",
       "      <td>0.087444</td>\n",
       "    </tr>\n",
       "    <tr>\n",
       "      <td>2</td>\n",
       "      <td>&gt; 200 т.р.</td>\n",
       "      <td>345</td>\n",
       "      <td>4794</td>\n",
       "      <td>0.071965</td>\n",
       "    </tr>\n",
       "  </tbody>\n",
       "</table>\n",
       "</div>"
      ],
      "text/plain": [
       "           salary  number_of_debtors  total  share_of_debtors\n",
       "0      < 100 т.р.                336   3988          0.084253\n",
       "1  100 - 200 т.р.                982  11230          0.087444\n",
       "2      > 200 т.р.                345   4794          0.071965"
      ]
     },
     "execution_count": 59,
     "metadata": {},
     "output_type": "execute_result"
    }
   ],
   "source": [
    "debtors_by_salary_data = [['< 100 т.р.', salary_0_debtors, salary_0_total, salary_0_debtors_share],\n",
    "                          ['100 - 200 т.р.', salary_1_debtors, salary_1_total, salary_1_debtors_share],\n",
    "                          ['> 200 т.р.', salary_2_debtors, salary_2_total, salary_2_debtors_share]]\n",
    "debtors_by_salary_columns = ['salary', 'number_of_debtors', 'total', 'share_of_debtors']\n",
    "debtors_by_salary = pd.DataFrame(debtors_by_salary_data, columns = debtors_by_salary_columns)\n",
    "debtors_by_salary"
   ]
  },
  {
   "cell_type": "code",
   "execution_count": 60,
   "metadata": {},
   "outputs": [
    {
     "data": {
      "text/html": [
       "<div>\n",
       "<style scoped>\n",
       "    .dataframe tbody tr th:only-of-type {\n",
       "        vertical-align: middle;\n",
       "    }\n",
       "\n",
       "    .dataframe tbody tr th {\n",
       "        vertical-align: top;\n",
       "    }\n",
       "\n",
       "    .dataframe thead th {\n",
       "        text-align: right;\n",
       "    }\n",
       "</style>\n",
       "<table border=\"1\" class=\"dataframe\">\n",
       "  <thead>\n",
       "    <tr style=\"text-align: right;\">\n",
       "      <th></th>\n",
       "      <th>number_of_debtors</th>\n",
       "      <th>total</th>\n",
       "      <th>share_of_debtors</th>\n",
       "    </tr>\n",
       "    <tr>\n",
       "      <th>total_income_category</th>\n",
       "      <th></th>\n",
       "      <th></th>\n",
       "      <th></th>\n",
       "    </tr>\n",
       "  </thead>\n",
       "  <tbody>\n",
       "    <tr>\n",
       "      <td>100 - 200 т.р.</td>\n",
       "      <td>982</td>\n",
       "      <td>11230</td>\n",
       "      <td>0.087444</td>\n",
       "    </tr>\n",
       "    <tr>\n",
       "      <td>&lt; 100 т.р.</td>\n",
       "      <td>336</td>\n",
       "      <td>3988</td>\n",
       "      <td>0.084253</td>\n",
       "    </tr>\n",
       "    <tr>\n",
       "      <td>&gt; 200 т.р.</td>\n",
       "      <td>345</td>\n",
       "      <td>4794</td>\n",
       "      <td>0.071965</td>\n",
       "    </tr>\n",
       "  </tbody>\n",
       "</table>\n",
       "</div>"
      ],
      "text/plain": [
       "                       number_of_debtors  total  share_of_debtors\n",
       "total_income_category                                            \n",
       "100 - 200 т.р.                       982  11230          0.087444\n",
       "< 100 т.р.                           336   3988          0.084253\n",
       "> 200 т.р.                           345   4794          0.071965"
      ]
     },
     "execution_count": 60,
     "metadata": {},
     "output_type": "execute_result"
    }
   ],
   "source": [
    "#Категория \"уровень дохода\" через pivot_table() и join()\n",
    "number_of_debtors_by_total_income = data[data['debt'] == 1].pivot_table(\n",
    "    index='total_income_category',\n",
    "    values='debt',\n",
    "    aggfunc='count'\n",
    ")\n",
    "number_of_debtors_by_total_income.columns = ['number_of_debtors']\n",
    "\n",
    "total_clients_by_total_income = data.pivot_table(\n",
    "    index='total_income_category',\n",
    "    values='total_income',\n",
    "    aggfunc='count'\n",
    ")\n",
    "total_clients_by_total_income.columns = ['total']\n",
    "\n",
    "share_of_debtors_by_total_income = data.pivot_table(\n",
    "    index='total_income_category',\n",
    "    values='debt',\n",
    "    aggfunc='mean'\n",
    ")\n",
    "share_of_debtors_by_total_income.columns = ['share_of_debtors']\n",
    "\n",
    "#display(number_of_debtors_by_total_income, total_clients_by_total_income, share_of_debtors_by_total_income)\n",
    "final_share_of_debtors_by_total_income = number_of_debtors_by_total_income.join([total_clients_by_total_income,share_of_debtors_by_total_income])\n",
    "final_share_of_debtors_by_total_income"
   ]
  },
  {
   "cell_type": "markdown",
   "metadata": {},
   "source": [
    "Доля клиентов, не погасивших кредит в срок начинает уменьшаться только с определенной суммы дохода в месяц (в районе 200 т.р. в месяц). Видимо, те клиенты, которые получают такую сумму денег имеют бОльшую финансовую подушку на случай непредвиденых обстоятельств и реже не имеют возможность внести оплату по кредиту"
   ]
  },
  {
   "cell_type": "code",
   "execution_count": 61,
   "metadata": {},
   "outputs": [],
   "source": [
    "#Категория \"цель кредита\"\n",
    "purpose_0_total = data[(data['purpose'] == 'недвижимость')]['debt'].count() #основано на реальных событиях... из предыдущего пункта\n",
    "purpose_0_debtors = data[(data['purpose'] == 'недвижимость') & (data['debt'] == 1)]['debt'].count()\n",
    "purpose_0_debtors_share = purpose_0_debtors / purpose_0_total\n",
    "\n",
    "purpose_1_total = data[(data['purpose'] == 'автомобиль')]['debt'].count()\n",
    "purpose_1_debtors = data[(data['purpose'] == 'автомобиль') & (data['debt'] == 1)]['debt'].count()\n",
    "purpose_1_debtors_share = purpose_1_debtors / purpose_1_total\n",
    "\n",
    "purpose_2_total = data[(data['purpose'] == 'образование')]['debt'].count()\n",
    "purpose_2_debtors = data[(data['purpose'] == 'образование') & (data['debt'] == 1)]['debt'].count()\n",
    "purpose_2_debtors_share = purpose_2_debtors / purpose_2_total\n",
    "\n",
    "purpose_3_total = data[(data['purpose'] == 'свадьба')]['debt'].count()\n",
    "purpose_3_debtors = data[(data['purpose'] == 'свадьба') & (data['debt'] == 1)]['debt'].count()\n",
    "purpose_3_debtors_share = purpose_3_debtors / purpose_3_total"
   ]
  },
  {
   "cell_type": "markdown",
   "metadata": {},
   "source": [
    "Создадим последную таблицу, в которой можно увидеть надежность клиента относительно целей его кредита"
   ]
  },
  {
   "cell_type": "code",
   "execution_count": 62,
   "metadata": {},
   "outputs": [
    {
     "name": "stdout",
     "output_type": "stream",
     "text": [
      "        purpose  number_of_debtors  total  share_of_debtors\n",
      "0  недвижимость                749  10066          0.074409\n",
      "3       свадьба                174   2170          0.080184\n",
      "1    автомобиль                383   4030          0.095037\n",
      "2   образование                357   3746          0.095302\n"
     ]
    }
   ],
   "source": [
    "debtors_by_purpose_data = [['недвижимость', purpose_0_debtors, purpose_0_total, purpose_0_debtors_share],\n",
    "                           ['автомобиль', purpose_1_debtors, purpose_1_total, purpose_1_debtors_share],\n",
    "                           ['образование', purpose_2_debtors, purpose_2_total, purpose_2_debtors_share],\n",
    "                           ['свадьба', purpose_3_debtors, purpose_3_total, purpose_3_debtors_share]]\n",
    "debtors_by_purpose_columns = ['purpose', 'number_of_debtors', 'total', 'share_of_debtors']\n",
    "debtors_by_purpose = pd.DataFrame(debtors_by_purpose_data, columns = debtors_by_purpose_columns)\n",
    "print(debtors_by_purpose.sort_values('share_of_debtors'))"
   ]
  },
  {
   "cell_type": "markdown",
   "metadata": {},
   "source": [
    "Как мы видим, те заемщики, которые берут кредит на недвижимость и свадьбу, не погашают кредит в срок чуть реже, чем те, кто берет кредит на автомобиль и образование"
   ]
  },
  {
   "cell_type": "markdown",
   "metadata": {},
   "source": [
    "**Вывод**\n",
    "\n",
    "Мы категоризировали столбцы с количественными значениями, создав дополнительные столбцы с категориями.\n",
    "По 4 категориям рассчитаны доли заемщиков, не погасивших кредит вовремя, приведены таблицы с показателями общего числа просрочивших кредит, общего числа клиентов, а также относительного числа клиентов, просрочивших кредит, ко всем клиентам по разным категориям. На основании проделанной работы можно делать следующие выводы..."
   ]
  },
  {
   "cell_type": "markdown",
   "metadata": {},
   "source": [
    "## Шаг 3. Изучение зависимости задолженности от различных факторов"
   ]
  },
  {
   "cell_type": "markdown",
   "metadata": {},
   "source": [
    "- Есть ли зависимость между наличием детей и возвратом кредита в срок?"
   ]
  },
  {
   "cell_type": "code",
   "execution_count": 63,
   "metadata": {},
   "outputs": [
    {
     "data": {
      "text/html": [
       "<div>\n",
       "<style scoped>\n",
       "    .dataframe tbody tr th:only-of-type {\n",
       "        vertical-align: middle;\n",
       "    }\n",
       "\n",
       "    .dataframe tbody tr th {\n",
       "        vertical-align: top;\n",
       "    }\n",
       "\n",
       "    .dataframe thead th {\n",
       "        text-align: right;\n",
       "    }\n",
       "</style>\n",
       "<table border=\"1\" class=\"dataframe\">\n",
       "  <thead>\n",
       "    <tr style=\"text-align: right;\">\n",
       "      <th></th>\n",
       "      <th>number_of_children</th>\n",
       "      <th>number_of_debtors</th>\n",
       "      <th>total</th>\n",
       "      <th>share_of_debtors</th>\n",
       "    </tr>\n",
       "  </thead>\n",
       "  <tbody>\n",
       "    <tr>\n",
       "      <td>0</td>\n",
       "      <td>0</td>\n",
       "      <td>1001</td>\n",
       "      <td>12849</td>\n",
       "      <td>0.077905</td>\n",
       "    </tr>\n",
       "    <tr>\n",
       "      <td>1</td>\n",
       "      <td>1</td>\n",
       "      <td>433</td>\n",
       "      <td>4699</td>\n",
       "      <td>0.092147</td>\n",
       "    </tr>\n",
       "    <tr>\n",
       "      <td>2</td>\n",
       "      <td>2</td>\n",
       "      <td>199</td>\n",
       "      <td>2093</td>\n",
       "      <td>0.095079</td>\n",
       "    </tr>\n",
       "    <tr>\n",
       "      <td>3</td>\n",
       "      <td>3+</td>\n",
       "      <td>30</td>\n",
       "      <td>371</td>\n",
       "      <td>0.080863</td>\n",
       "    </tr>\n",
       "  </tbody>\n",
       "</table>\n",
       "</div>"
      ],
      "text/plain": [
       "  number_of_children  number_of_debtors  total  share_of_debtors\n",
       "0                  0               1001  12849          0.077905\n",
       "1                  1                433   4699          0.092147\n",
       "2                  2                199   2093          0.095079\n",
       "3                 3+                 30    371          0.080863"
      ]
     },
     "execution_count": 63,
     "metadata": {},
     "output_type": "execute_result"
    }
   ],
   "source": [
    "debtors_by_children"
   ]
  },
  {
   "cell_type": "markdown",
   "metadata": {},
   "source": [
    "**Вывод**\n",
    "\n",
    "Да, зависимость есть: чем меньше детей, тем выше вероятность того, что за кредит будет заплачено в срок (7.8% клиентов не оплачивают кредит в срок без детей, 9.2% - с одним ребенком и 9.5% - с двумя). Низкая доля клиентов, не оплативших кредит в срок с 3 и более количеством детей скорее говорит о том, что данных по многодетным семьям, недостаточно, чтобы делать точные выводы, нежели о тенденции к тому, что после второго ребенка клиенты становятся более аккуратны к выплатам по своим кредитам. "
   ]
  },
  {
   "cell_type": "markdown",
   "metadata": {},
   "source": [
    "- Есть ли зависимость между семейным положением и возвратом кредита в срок?"
   ]
  },
  {
   "cell_type": "code",
   "execution_count": 64,
   "metadata": {},
   "outputs": [
    {
     "data": {
      "text/html": [
       "<div>\n",
       "<style scoped>\n",
       "    .dataframe tbody tr th:only-of-type {\n",
       "        vertical-align: middle;\n",
       "    }\n",
       "\n",
       "    .dataframe tbody tr th {\n",
       "        vertical-align: top;\n",
       "    }\n",
       "\n",
       "    .dataframe thead th {\n",
       "        text-align: right;\n",
       "    }\n",
       "</style>\n",
       "<table border=\"1\" class=\"dataframe\">\n",
       "  <thead>\n",
       "    <tr style=\"text-align: right;\">\n",
       "      <th></th>\n",
       "      <th>family_status</th>\n",
       "      <th>number_of_debtors</th>\n",
       "      <th>total</th>\n",
       "      <th>share_of_debtors</th>\n",
       "    </tr>\n",
       "  </thead>\n",
       "  <tbody>\n",
       "    <tr>\n",
       "      <td>2</td>\n",
       "      <td>вдовец / вдова</td>\n",
       "      <td>55</td>\n",
       "      <td>823</td>\n",
       "      <td>0.066829</td>\n",
       "    </tr>\n",
       "    <tr>\n",
       "      <td>3</td>\n",
       "      <td>в разводе</td>\n",
       "      <td>79</td>\n",
       "      <td>1105</td>\n",
       "      <td>0.071493</td>\n",
       "    </tr>\n",
       "    <tr>\n",
       "      <td>0</td>\n",
       "      <td>женат / замужем</td>\n",
       "      <td>889</td>\n",
       "      <td>11525</td>\n",
       "      <td>0.077137</td>\n",
       "    </tr>\n",
       "    <tr>\n",
       "      <td>1</td>\n",
       "      <td>гражданский брак</td>\n",
       "      <td>370</td>\n",
       "      <td>3890</td>\n",
       "      <td>0.095116</td>\n",
       "    </tr>\n",
       "    <tr>\n",
       "      <td>4</td>\n",
       "      <td>не женат / не замужем</td>\n",
       "      <td>270</td>\n",
       "      <td>2669</td>\n",
       "      <td>0.101161</td>\n",
       "    </tr>\n",
       "  </tbody>\n",
       "</table>\n",
       "</div>"
      ],
      "text/plain": [
       "           family_status  number_of_debtors  total  share_of_debtors\n",
       "2         вдовец / вдова                 55    823          0.066829\n",
       "3              в разводе                 79   1105          0.071493\n",
       "0        женат / замужем                889  11525          0.077137\n",
       "1       гражданский брак                370   3890          0.095116\n",
       "4  не женат / не замужем                270   2669          0.101161"
      ]
     },
     "execution_count": 64,
     "metadata": {},
     "output_type": "execute_result"
    }
   ],
   "source": [
    "debtors_by_family_status.sort_values('share_of_debtors')"
   ]
  },
  {
   "cell_type": "markdown",
   "metadata": {},
   "source": [
    "**Вывод**\n",
    "\n",
    "Зависимость есть: клиенты, находящиеся в браке, значительно чаще возвращают кредит в срок (7.7%), нежели те, кто находится в гражданском браке (9.4%) или не женат/не замужем (10%). Удивительно, но те клиенты, что пережили развод или смерть супруга выплачивают кредит еще лучше - 7.1% и 6.6%, соответственно. "
   ]
  },
  {
   "cell_type": "markdown",
   "metadata": {},
   "source": [
    "- Есть ли зависимость между уровнем дохода и возвратом кредита в срок?"
   ]
  },
  {
   "cell_type": "code",
   "execution_count": 65,
   "metadata": {},
   "outputs": [
    {
     "data": {
      "text/html": [
       "<div>\n",
       "<style scoped>\n",
       "    .dataframe tbody tr th:only-of-type {\n",
       "        vertical-align: middle;\n",
       "    }\n",
       "\n",
       "    .dataframe tbody tr th {\n",
       "        vertical-align: top;\n",
       "    }\n",
       "\n",
       "    .dataframe thead th {\n",
       "        text-align: right;\n",
       "    }\n",
       "</style>\n",
       "<table border=\"1\" class=\"dataframe\">\n",
       "  <thead>\n",
       "    <tr style=\"text-align: right;\">\n",
       "      <th></th>\n",
       "      <th>salary</th>\n",
       "      <th>number_of_debtors</th>\n",
       "      <th>total</th>\n",
       "      <th>share_of_debtors</th>\n",
       "    </tr>\n",
       "  </thead>\n",
       "  <tbody>\n",
       "    <tr>\n",
       "      <td>0</td>\n",
       "      <td>&lt; 100 т.р.</td>\n",
       "      <td>336</td>\n",
       "      <td>3988</td>\n",
       "      <td>0.084253</td>\n",
       "    </tr>\n",
       "    <tr>\n",
       "      <td>1</td>\n",
       "      <td>100 - 200 т.р.</td>\n",
       "      <td>982</td>\n",
       "      <td>11230</td>\n",
       "      <td>0.087444</td>\n",
       "    </tr>\n",
       "    <tr>\n",
       "      <td>2</td>\n",
       "      <td>&gt; 200 т.р.</td>\n",
       "      <td>345</td>\n",
       "      <td>4794</td>\n",
       "      <td>0.071965</td>\n",
       "    </tr>\n",
       "  </tbody>\n",
       "</table>\n",
       "</div>"
      ],
      "text/plain": [
       "           salary  number_of_debtors  total  share_of_debtors\n",
       "0      < 100 т.р.                336   3988          0.084253\n",
       "1  100 - 200 т.р.                982  11230          0.087444\n",
       "2      > 200 т.р.                345   4794          0.071965"
      ]
     },
     "execution_count": 65,
     "metadata": {},
     "output_type": "execute_result"
    }
   ],
   "source": [
    "debtors_by_salary"
   ]
  },
  {
   "cell_type": "markdown",
   "metadata": {},
   "source": [
    "**Вывод**\n",
    "\n",
    "Самыми надежными заемщиками по уровню дохода, очевидно, стали клиенты, чьи зарплаты выше, чем у большинства (более 200 тысяч рублей в месяц). Среди таких заемщиков лиш 7.2% не оплачивают кредит в срок. Среди тех, кто получает менее 200 тысяч рублей, - данная доля примерно равна 8.5%."
   ]
  },
  {
   "cell_type": "markdown",
   "metadata": {},
   "source": [
    "- Как разные цели кредита влияют на его возврат в срок?"
   ]
  },
  {
   "cell_type": "code",
   "execution_count": 66,
   "metadata": {},
   "outputs": [
    {
     "data": {
      "text/html": [
       "<div>\n",
       "<style scoped>\n",
       "    .dataframe tbody tr th:only-of-type {\n",
       "        vertical-align: middle;\n",
       "    }\n",
       "\n",
       "    .dataframe tbody tr th {\n",
       "        vertical-align: top;\n",
       "    }\n",
       "\n",
       "    .dataframe thead th {\n",
       "        text-align: right;\n",
       "    }\n",
       "</style>\n",
       "<table border=\"1\" class=\"dataframe\">\n",
       "  <thead>\n",
       "    <tr style=\"text-align: right;\">\n",
       "      <th></th>\n",
       "      <th>purpose</th>\n",
       "      <th>number_of_debtors</th>\n",
       "      <th>total</th>\n",
       "      <th>share_of_debtors</th>\n",
       "    </tr>\n",
       "  </thead>\n",
       "  <tbody>\n",
       "    <tr>\n",
       "      <td>0</td>\n",
       "      <td>недвижимость</td>\n",
       "      <td>749</td>\n",
       "      <td>10066</td>\n",
       "      <td>0.074409</td>\n",
       "    </tr>\n",
       "    <tr>\n",
       "      <td>3</td>\n",
       "      <td>свадьба</td>\n",
       "      <td>174</td>\n",
       "      <td>2170</td>\n",
       "      <td>0.080184</td>\n",
       "    </tr>\n",
       "    <tr>\n",
       "      <td>1</td>\n",
       "      <td>автомобиль</td>\n",
       "      <td>383</td>\n",
       "      <td>4030</td>\n",
       "      <td>0.095037</td>\n",
       "    </tr>\n",
       "    <tr>\n",
       "      <td>2</td>\n",
       "      <td>образование</td>\n",
       "      <td>357</td>\n",
       "      <td>3746</td>\n",
       "      <td>0.095302</td>\n",
       "    </tr>\n",
       "  </tbody>\n",
       "</table>\n",
       "</div>"
      ],
      "text/plain": [
       "        purpose  number_of_debtors  total  share_of_debtors\n",
       "0  недвижимость                749  10066          0.074409\n",
       "3       свадьба                174   2170          0.080184\n",
       "1    автомобиль                383   4030          0.095037\n",
       "2   образование                357   3746          0.095302"
      ]
     },
     "execution_count": 66,
     "metadata": {},
     "output_type": "execute_result"
    }
   ],
   "source": [
    "debtors_by_purpose.sort_values('share_of_debtors')"
   ]
  },
  {
   "cell_type": "markdown",
   "metadata": {},
   "source": [
    "**Вывод**\n",
    "\n",
    "Заемщики \"на недвижимость\" являются самыми надежными в категории \"цель кредита\" - они не выплачивают кредит только в 7.4% случаев, недалеко от них остались и те, кто оформляют кредит на свадьбу - 7.9%. Скорее всего, низкий процент в данных случаях говорит нам о том, что так или иначе вложения себя окупают (квартиру можно сдать, свадебные подарки зачастую носят материальный характер). В аутсайдерах по надежности в данной категории выступают те, кто берет кредит на автомобиль или образование - около 9.5% заемщиков не выплачивают кредит в срок."
   ]
  },
  {
   "cell_type": "markdown",
   "metadata": {},
   "source": [
    "## Шаг 4. Общий вывод"
   ]
  },
  {
   "cell_type": "markdown",
   "metadata": {},
   "source": [
    "Идеальными для кредитного отдела банка клиентами будут являтся бездетные вдовцы с доходом свыше 200 тысяч рублей в месяц, берущие кредит на недвижимость. Давайте оценим, каковы вероятности, что в дверь зайдет именно такой клиент, а также что именно он не сможет в срок заплатить по кредиту:"
   ]
  },
  {
   "cell_type": "code",
   "execution_count": 67,
   "metadata": {},
   "outputs": [
    {
     "name": "stdout",
     "output_type": "stream",
     "text": [
      "Всего \"идеальных\" клиентов: 0.3%\n",
      "Они не выплачивают кредит с вероятностью: 4.6%\n"
     ]
    }
   ],
   "source": [
    "perfect_clients_total = data[(data['children'] == 0) & (data['family_status_id'] == 2) & (data['total_income_category'] == '> 200 т.р.') & (data['purpose'] == 'недвижимость')]['debt'].count()\n",
    "perfect_clients_debtors = data[(data['children'] == 0) & (data['family_status_id'] == 2) & (data['total_income_category'] == '> 200 т.р.') & (data['purpose'] == 'недвижимость') & (data['debt'] == 1)]['debt'].count()\n",
    "clients_total = len(data)\n",
    "perfect_clients_share = perfect_clients_total / clients_total\n",
    "perfect_clients_debtors_share = perfect_clients_debtors / perfect_clients_total\n",
    "print('Всего \"идеальных\" клиентов: {:.1%}\\nОни не выплачивают кредит с вероятностью: {:.1%}'.format(perfect_clients_share, perfect_clients_debtors_share))"
   ]
  },
  {
   "cell_type": "markdown",
   "metadata": {},
   "source": [
    "Как мы видим, вероятность первого события крайне мала, поэтому фокусироваться именно на данной группе клиентов будет неправильно. Нужно работать со всеми, но иметь в виду те риски, которые подсчитаны выше.\n",
    "\n",
    "По итогам исследования мы выяснили, что чем вероятность выплаты кредита в срок:\n",
    "- монотонно убывает относительно количества детей у клиента(по крайней мере, при количестве детей от 0 до 2);\n",
    "- выше у людей, находящихся в законном браке(92.3%), либо имевших брак ранее - разведенных(92.9%) или овдовевших(93.3%) - по сравнению с теми, кто находится в гражданском браке(90.5%) или холост(90%);\n",
    "- значительно повышается у категории людей, зарабатывающих более 200 тысяч рублей в месяц(92.8% против 91.6% и меньше при доходе менее 200 тысяч рублей);\n",
    "- в среднем выше, если заемщик оформляет кредит на недвижимость(на первом месте, 92.6%) или на свадьбу(на втором месте, 92%), нежели чем кредит связанный с автомобилем или образованием(последнее место, 90.5%)\n",
    "\n",
    "Также нужно обратить внимание на заполнение следующих столбцов с данными: прежде всего, это стаж клиента (в каких единицах измерения считается и с каким знаком) и его доход, а также более аккуратно заполнять ячейки с возрастом (0 лет), количеством детей(-1 и 20) и полом(XNA)"
   ]
  }
 ],
 "metadata": {
  "ExecuteTimeLog": [
   {
    "duration": 814,
    "start_time": "2021-06-10T11:59:49.502Z"
   },
   {
    "duration": 33,
    "start_time": "2021-06-10T11:59:53.285Z"
   },
   {
    "duration": 32,
    "start_time": "2021-06-10T11:59:57.830Z"
   },
   {
    "duration": 64,
    "start_time": "2021-06-10T12:03:29.907Z"
   },
   {
    "duration": 36,
    "start_time": "2021-06-10T12:03:44.573Z"
   },
   {
    "duration": 39,
    "start_time": "2021-06-10T13:04:05.848Z"
   },
   {
    "duration": 65,
    "start_time": "2021-06-10T13:04:26.553Z"
   },
   {
    "duration": 578,
    "start_time": "2021-06-10T13:13:52.271Z"
   },
   {
    "duration": 338,
    "start_time": "2021-06-10T13:15:44.751Z"
   },
   {
    "duration": 5824,
    "start_time": "2021-06-10T13:16:32.455Z"
   },
   {
    "duration": 35,
    "start_time": "2021-06-10T13:18:47.542Z"
   },
   {
    "duration": 39,
    "start_time": "2021-06-10T13:19:01.847Z"
   },
   {
    "duration": 6059,
    "start_time": "2021-06-10T13:21:23.582Z"
   },
   {
    "duration": 6109,
    "start_time": "2021-06-10T13:31:38.701Z"
   },
   {
    "duration": 6535,
    "start_time": "2021-06-10T13:31:50.420Z"
   },
   {
    "duration": 5753,
    "start_time": "2021-06-10T13:32:44.228Z"
   },
   {
    "duration": 61,
    "start_time": "2021-06-10T13:35:47.636Z"
   },
   {
    "duration": 8697,
    "start_time": "2021-06-10T13:36:15.987Z"
   },
   {
    "duration": 2034,
    "start_time": "2021-06-10T13:37:07.572Z"
   },
   {
    "duration": 2143,
    "start_time": "2021-06-10T13:37:57.354Z"
   },
   {
    "duration": 76,
    "start_time": "2021-06-10T13:51:32.974Z"
   },
   {
    "duration": 2063,
    "start_time": "2021-06-10T13:55:42.521Z"
   },
   {
    "duration": 64,
    "start_time": "2021-06-10T13:57:38.640Z"
   },
   {
    "duration": 71,
    "start_time": "2021-06-10T13:58:26.144Z"
   },
   {
    "duration": 73,
    "start_time": "2021-06-10T13:58:36.767Z"
   },
   {
    "duration": 69,
    "start_time": "2021-06-10T13:58:42.248Z"
   },
   {
    "duration": 69,
    "start_time": "2021-06-10T13:59:05.112Z"
   },
   {
    "duration": 72,
    "start_time": "2021-06-10T13:59:26.472Z"
   },
   {
    "duration": 71,
    "start_time": "2021-06-10T13:59:38.848Z"
   },
   {
    "duration": 126,
    "start_time": "2021-06-10T14:00:36.751Z"
   },
   {
    "duration": 38,
    "start_time": "2021-06-10T14:01:56.478Z"
   },
   {
    "duration": 308,
    "start_time": "2021-06-10T14:02:11.990Z"
   },
   {
    "duration": 39,
    "start_time": "2021-06-10T14:02:16.397Z"
   },
   {
    "duration": 39,
    "start_time": "2021-06-10T14:07:52.429Z"
   },
   {
    "duration": 106,
    "start_time": "2021-06-10T14:09:16.334Z"
   },
   {
    "duration": 100,
    "start_time": "2021-06-10T14:09:35.405Z"
   },
   {
    "duration": 101,
    "start_time": "2021-06-10T14:10:00.373Z"
   },
   {
    "duration": 7251,
    "start_time": "2021-06-10T19:27:26.644Z"
   },
   {
    "duration": 7764,
    "start_time": "2021-06-10T19:27:38.694Z"
   },
   {
    "duration": 8531,
    "start_time": "2021-06-10T19:27:49.038Z"
   },
   {
    "duration": 7255,
    "start_time": "2021-06-10T19:28:24.990Z"
   },
   {
    "duration": 8278,
    "start_time": "2021-06-10T19:29:14.830Z"
   },
   {
    "duration": 7425,
    "start_time": "2021-06-10T19:29:30.630Z"
   },
   {
    "duration": 8434,
    "start_time": "2021-06-10T19:30:16.230Z"
   },
   {
    "duration": 98,
    "start_time": "2021-06-10T19:30:33.149Z"
   },
   {
    "duration": 121,
    "start_time": "2021-06-10T19:30:46.941Z"
   },
   {
    "duration": 98,
    "start_time": "2021-06-10T19:31:06.837Z"
   },
   {
    "duration": 147,
    "start_time": "2021-06-10T19:32:15.437Z"
   },
   {
    "duration": 100,
    "start_time": "2021-06-10T19:32:20.820Z"
   },
   {
    "duration": 151,
    "start_time": "2021-06-10T19:33:30.348Z"
   },
   {
    "duration": 118,
    "start_time": "2021-06-10T19:33:36.333Z"
   },
   {
    "duration": 103,
    "start_time": "2021-06-10T19:33:55.708Z"
   },
   {
    "duration": 101,
    "start_time": "2021-06-10T19:34:00.171Z"
   },
   {
    "duration": 147,
    "start_time": "2021-06-10T19:34:26.357Z"
   },
   {
    "duration": 78,
    "start_time": "2021-06-10T19:35:21.468Z"
   },
   {
    "duration": 79,
    "start_time": "2021-06-10T19:35:56.251Z"
   },
   {
    "duration": 81,
    "start_time": "2021-06-10T19:36:02.427Z"
   },
   {
    "duration": 82,
    "start_time": "2021-06-10T19:36:05.666Z"
   },
   {
    "duration": 117,
    "start_time": "2021-06-10T20:00:04.989Z"
   },
   {
    "duration": 117,
    "start_time": "2021-06-10T20:01:03.054Z"
   },
   {
    "duration": 122,
    "start_time": "2021-06-10T20:01:24.607Z"
   },
   {
    "duration": 112,
    "start_time": "2021-06-10T20:01:34.567Z"
   },
   {
    "duration": 164,
    "start_time": "2021-06-10T20:02:17.359Z"
   },
   {
    "duration": 162,
    "start_time": "2021-06-10T20:02:35.854Z"
   },
   {
    "duration": 169,
    "start_time": "2021-06-10T20:03:46.935Z"
   },
   {
    "duration": 165,
    "start_time": "2021-06-10T20:04:24.086Z"
   },
   {
    "duration": 164,
    "start_time": "2021-06-10T20:06:15.839Z"
   },
   {
    "duration": 116,
    "start_time": "2021-06-10T20:10:09.244Z"
   },
   {
    "duration": 118,
    "start_time": "2021-06-10T20:10:28.044Z"
   },
   {
    "duration": 117,
    "start_time": "2021-06-10T20:12:20.932Z"
   },
   {
    "duration": 115,
    "start_time": "2021-06-10T20:13:24.501Z"
   },
   {
    "duration": 113,
    "start_time": "2021-06-10T20:29:23.994Z"
   },
   {
    "duration": 173,
    "start_time": "2021-06-10T20:29:45.209Z"
   },
   {
    "duration": 114,
    "start_time": "2021-06-10T20:36:28.767Z"
   },
   {
    "duration": 172,
    "start_time": "2021-06-10T20:36:34.928Z"
   },
   {
    "duration": 116,
    "start_time": "2021-06-10T20:36:50.080Z"
   },
   {
    "duration": 87,
    "start_time": "2021-06-10T20:37:49.487Z"
   },
   {
    "duration": 86,
    "start_time": "2021-06-10T20:37:57.822Z"
   },
   {
    "duration": 7509,
    "start_time": "2021-06-10T20:38:39.038Z"
   },
   {
    "duration": 93,
    "start_time": "2021-06-10T20:39:14.462Z"
   },
   {
    "duration": 116,
    "start_time": "2021-06-10T20:39:28.695Z"
   },
   {
    "duration": 126,
    "start_time": "2021-06-10T20:39:42.366Z"
   },
   {
    "duration": 97,
    "start_time": "2021-06-10T20:42:55.237Z"
   },
   {
    "duration": 7853,
    "start_time": "2021-06-10T20:45:00.550Z"
   },
   {
    "duration": 8167,
    "start_time": "2021-06-10T20:46:15.151Z"
   },
   {
    "duration": -32,
    "start_time": "2021-06-10T20:47:49.851Z"
   },
   {
    "duration": 122,
    "start_time": "2021-06-10T20:48:01.717Z"
   },
   {
    "duration": 96,
    "start_time": "2021-06-10T20:48:18.982Z"
   },
   {
    "duration": 813,
    "start_time": "2021-06-10T20:51:06.653Z"
   },
   {
    "duration": 400,
    "start_time": "2021-06-10T20:51:40.460Z"
   },
   {
    "duration": 98,
    "start_time": "2021-06-10T20:52:24.470Z"
   },
   {
    "duration": 94,
    "start_time": "2021-06-10T20:53:03.292Z"
   },
   {
    "duration": 96,
    "start_time": "2021-06-10T20:53:29.213Z"
   },
   {
    "duration": 103,
    "start_time": "2021-06-10T20:54:02.659Z"
   },
   {
    "duration": 106,
    "start_time": "2021-06-10T20:54:09.516Z"
   },
   {
    "duration": 97,
    "start_time": "2021-06-10T21:00:12.955Z"
   },
   {
    "duration": 145,
    "start_time": "2021-06-10T21:00:20.963Z"
   },
   {
    "duration": 113,
    "start_time": "2021-06-10T21:12:49.808Z"
   },
   {
    "duration": 96,
    "start_time": "2021-06-10T21:13:53.785Z"
   },
   {
    "duration": 96,
    "start_time": "2021-06-10T21:14:05.135Z"
   },
   {
    "duration": 90,
    "start_time": "2021-06-10T21:16:47.911Z"
   },
   {
    "duration": 92,
    "start_time": "2021-06-10T21:16:58.241Z"
   },
   {
    "duration": 99,
    "start_time": "2021-06-10T21:17:42.383Z"
   },
   {
    "duration": 96,
    "start_time": "2021-06-10T21:22:34.678Z"
   },
   {
    "duration": 99,
    "start_time": "2021-06-10T21:23:02.909Z"
   },
   {
    "duration": 115,
    "start_time": "2021-06-10T21:30:25.467Z"
   },
   {
    "duration": 2231,
    "start_time": "2021-06-10T21:30:38.214Z"
   },
   {
    "duration": 2275,
    "start_time": "2021-06-10T21:31:04.838Z"
   },
   {
    "duration": 397,
    "start_time": "2021-06-10T21:31:55.173Z"
   },
   {
    "duration": 548,
    "start_time": "2021-06-10T21:33:49.788Z"
   },
   {
    "duration": 412,
    "start_time": "2021-06-10T21:36:52.771Z"
   },
   {
    "duration": 424,
    "start_time": "2021-06-10T21:37:33.331Z"
   },
   {
    "duration": 433,
    "start_time": "2021-06-10T21:38:24.132Z"
   },
   {
    "duration": 2240,
    "start_time": "2021-06-10T21:41:30.267Z"
   },
   {
    "duration": 123,
    "start_time": "2021-06-10T22:22:56.403Z"
   },
   {
    "duration": 117,
    "start_time": "2021-06-10T22:23:33.947Z"
   },
   {
    "duration": 144,
    "start_time": "2021-06-10T22:23:40.538Z"
   },
   {
    "duration": 136,
    "start_time": "2021-06-10T22:24:18.914Z"
   },
   {
    "duration": 119,
    "start_time": "2021-06-10T22:25:17.362Z"
   },
   {
    "duration": 120,
    "start_time": "2021-06-10T22:25:23.154Z"
   },
   {
    "duration": 120,
    "start_time": "2021-06-10T22:25:29.258Z"
   },
   {
    "duration": 396,
    "start_time": "2021-06-10T22:26:54.129Z"
   },
   {
    "duration": 492,
    "start_time": "2021-06-10T22:27:33.521Z"
   },
   {
    "duration": 506,
    "start_time": "2021-06-10T22:27:55.121Z"
   },
   {
    "duration": 2608,
    "start_time": "2021-06-10T22:28:07.777Z"
   },
   {
    "duration": 124,
    "start_time": "2021-06-10T22:28:17.449Z"
   },
   {
    "duration": 133,
    "start_time": "2021-06-10T22:28:23.946Z"
   },
   {
    "duration": 121,
    "start_time": "2021-06-10T22:28:51.585Z"
   },
   {
    "duration": 130,
    "start_time": "2021-06-10T22:32:28.657Z"
   },
   {
    "duration": 127,
    "start_time": "2021-06-10T22:33:02.000Z"
   },
   {
    "duration": 127,
    "start_time": "2021-06-10T22:33:40.688Z"
   },
   {
    "duration": 463,
    "start_time": "2021-06-10T22:33:56.056Z"
   },
   {
    "duration": 479,
    "start_time": "2021-06-10T22:34:57.240Z"
   },
   {
    "duration": 644,
    "start_time": "2021-06-10T22:35:16.641Z"
   },
   {
    "duration": 554,
    "start_time": "2021-06-10T22:35:47.728Z"
   },
   {
    "duration": 449,
    "start_time": "2021-06-10T22:36:50.072Z"
   },
   {
    "duration": 466,
    "start_time": "2021-06-10T22:37:00.968Z"
   },
   {
    "duration": 487,
    "start_time": "2021-06-10T22:37:31.400Z"
   },
   {
    "duration": 435,
    "start_time": "2021-06-10T22:41:01.135Z"
   },
   {
    "duration": 122,
    "start_time": "2021-06-10T22:44:58.502Z"
   },
   {
    "duration": 137,
    "start_time": "2021-06-10T22:45:21.815Z"
   },
   {
    "duration": 91,
    "start_time": "2021-06-10T22:52:05.372Z"
   },
   {
    "duration": 83,
    "start_time": "2021-06-10T22:52:12.548Z"
   },
   {
    "duration": 81,
    "start_time": "2021-06-10T22:53:43.436Z"
   },
   {
    "duration": 126,
    "start_time": "2021-06-10T22:59:22.091Z"
   },
   {
    "duration": 128,
    "start_time": "2021-06-10T22:59:46.323Z"
   },
   {
    "duration": 128,
    "start_time": "2021-06-10T23:01:45.706Z"
   },
   {
    "duration": 139,
    "start_time": "2021-06-10T23:02:01.987Z"
   },
   {
    "duration": 135,
    "start_time": "2021-06-10T23:02:15.731Z"
   },
   {
    "duration": 147,
    "start_time": "2021-06-10T23:02:54.306Z"
   },
   {
    "duration": 150,
    "start_time": "2021-06-10T23:03:51.778Z"
   },
   {
    "duration": 1418,
    "start_time": "2021-06-10T23:06:03.371Z"
   },
   {
    "duration": 151,
    "start_time": "2021-06-10T23:06:39.570Z"
   },
   {
    "duration": 138,
    "start_time": "2021-06-10T23:07:55.993Z"
   },
   {
    "duration": 88,
    "start_time": "2021-06-10T23:09:13.155Z"
   },
   {
    "duration": 87,
    "start_time": "2021-06-10T23:09:41.553Z"
   },
   {
    "duration": 88,
    "start_time": "2021-06-10T23:09:53.657Z"
   },
   {
    "duration": 89,
    "start_time": "2021-06-10T23:10:15.977Z"
   },
   {
    "duration": 110,
    "start_time": "2021-06-10T23:10:21.065Z"
   },
   {
    "duration": 115,
    "start_time": "2021-06-10T23:10:53.465Z"
   },
   {
    "duration": 111,
    "start_time": "2021-06-10T23:11:18.177Z"
   },
   {
    "duration": 93,
    "start_time": "2021-06-10T23:12:39.025Z"
   },
   {
    "duration": 98,
    "start_time": "2021-06-10T23:13:03.704Z"
   },
   {
    "duration": 146,
    "start_time": "2021-06-10T23:17:18.159Z"
   },
   {
    "duration": 126,
    "start_time": "2021-06-10T23:18:24.023Z"
   },
   {
    "duration": 116,
    "start_time": "2021-06-10T23:19:17.687Z"
   },
   {
    "duration": 126,
    "start_time": "2021-06-10T23:20:11.159Z"
   },
   {
    "duration": 102,
    "start_time": "2021-06-10T23:20:14.936Z"
   },
   {
    "duration": 131,
    "start_time": "2021-06-10T23:20:49.967Z"
   },
   {
    "duration": 100,
    "start_time": "2021-06-10T23:21:49.775Z"
   },
   {
    "duration": 114,
    "start_time": "2021-06-10T23:22:32.175Z"
   },
   {
    "duration": 112,
    "start_time": "2021-06-10T23:22:37.222Z"
   },
   {
    "duration": 122,
    "start_time": "2021-06-10T23:22:52.894Z"
   },
   {
    "duration": 103,
    "start_time": "2021-06-10T23:23:57.679Z"
   },
   {
    "duration": 108,
    "start_time": "2021-06-10T23:24:31.606Z"
   },
   {
    "duration": 125,
    "start_time": "2021-06-10T23:24:58.966Z"
   },
   {
    "duration": 114,
    "start_time": "2021-06-10T23:25:06.206Z"
   },
   {
    "duration": 124,
    "start_time": "2021-06-10T23:25:31.590Z"
   },
   {
    "duration": 115,
    "start_time": "2021-06-10T23:25:55.029Z"
   },
   {
    "duration": 124,
    "start_time": "2021-06-10T23:26:22.663Z"
   },
   {
    "duration": 120,
    "start_time": "2021-06-10T23:26:28.271Z"
   },
   {
    "duration": 114,
    "start_time": "2021-06-10T23:26:39.557Z"
   },
   {
    "duration": 121,
    "start_time": "2021-06-10T23:26:48.518Z"
   },
   {
    "duration": 125,
    "start_time": "2021-06-10T23:27:50.421Z"
   },
   {
    "duration": 123,
    "start_time": "2021-06-10T23:28:10.909Z"
   },
   {
    "duration": 387,
    "start_time": "2021-06-10T23:33:54.723Z"
   },
   {
    "duration": 389,
    "start_time": "2021-06-10T23:34:51.789Z"
   },
   {
    "duration": 429,
    "start_time": "2021-06-10T23:35:00.869Z"
   },
   {
    "duration": 8339,
    "start_time": "2021-06-10T23:35:16.252Z"
   },
   {
    "duration": 7922,
    "start_time": "2021-06-10T23:35:25.476Z"
   },
   {
    "duration": 7747,
    "start_time": "2021-06-10T23:35:34.940Z"
   },
   {
    "duration": 7366,
    "start_time": "2021-06-10T23:37:27.019Z"
   },
   {
    "duration": 126,
    "start_time": "2021-06-10T23:38:05.708Z"
   },
   {
    "duration": 115,
    "start_time": "2021-06-10T23:38:19.051Z"
   },
   {
    "duration": 124,
    "start_time": "2021-06-10T23:38:23.707Z"
   },
   {
    "duration": 96,
    "start_time": "2021-06-10T23:39:12.050Z"
   },
   {
    "duration": 86,
    "start_time": "2021-06-10T23:39:20.691Z"
   },
   {
    "duration": 82,
    "start_time": "2021-06-10T23:39:46.171Z"
   },
   {
    "duration": 78,
    "start_time": "2021-06-10T23:39:57.099Z"
   },
   {
    "duration": 122,
    "start_time": "2021-06-10T23:41:16.915Z"
   },
   {
    "duration": 130,
    "start_time": "2021-06-10T23:41:25.099Z"
   },
   {
    "duration": 34,
    "start_time": "2021-06-10T23:41:59.753Z"
   },
   {
    "duration": 15,
    "start_time": "2021-06-10T23:47:01.649Z"
   },
   {
    "duration": 15,
    "start_time": "2021-06-10T23:47:11.617Z"
   },
   {
    "duration": 309,
    "start_time": "2021-06-10T23:47:16.841Z"
   },
   {
    "duration": 307,
    "start_time": "2021-06-10T23:47:21.744Z"
   },
   {
    "duration": 15,
    "start_time": "2021-06-10T23:47:25.537Z"
   },
   {
    "duration": 20,
    "start_time": "2021-06-10T23:50:04.017Z"
   },
   {
    "duration": 18,
    "start_time": "2021-06-10T23:50:11.576Z"
   },
   {
    "duration": 16,
    "start_time": "2021-06-10T23:50:17.425Z"
   },
   {
    "duration": 150,
    "start_time": "2021-06-11T00:05:07.060Z"
   },
   {
    "duration": 144,
    "start_time": "2021-06-11T00:05:39.350Z"
   },
   {
    "duration": 193,
    "start_time": "2021-06-11T00:19:06.978Z"
   },
   {
    "duration": 78,
    "start_time": "2021-06-11T00:19:12.867Z"
   },
   {
    "duration": 132,
    "start_time": "2021-06-11T00:19:17.339Z"
   },
   {
    "duration": 17,
    "start_time": "2021-06-11T00:19:19.867Z"
   },
   {
    "duration": 120,
    "start_time": "2021-06-11T00:20:53.354Z"
   },
   {
    "duration": 117,
    "start_time": "2021-06-11T00:22:29.355Z"
   },
   {
    "duration": 127,
    "start_time": "2021-06-11T00:22:46.058Z"
   },
   {
    "duration": 117,
    "start_time": "2021-06-11T00:23:15.482Z"
   },
   {
    "duration": 126,
    "start_time": "2021-06-11T00:23:28.330Z"
   },
   {
    "duration": 159,
    "start_time": "2021-06-11T00:29:37.184Z"
   },
   {
    "duration": 123,
    "start_time": "2021-06-11T00:29:51.129Z"
   },
   {
    "duration": 131,
    "start_time": "2021-06-11T00:32:35.442Z"
   },
   {
    "duration": 130,
    "start_time": "2021-06-11T00:34:01.312Z"
   },
   {
    "duration": 129,
    "start_time": "2021-06-11T00:34:29.432Z"
   },
   {
    "duration": 122,
    "start_time": "2021-06-11T00:34:47.153Z"
   },
   {
    "duration": 127,
    "start_time": "2021-06-11T00:35:49.321Z"
   },
   {
    "duration": 126,
    "start_time": "2021-06-11T00:35:59.808Z"
   },
   {
    "duration": 130,
    "start_time": "2021-06-11T00:36:30.472Z"
   },
   {
    "duration": 146,
    "start_time": "2021-06-11T00:36:56.664Z"
   },
   {
    "duration": -78,
    "start_time": "2021-06-11T00:38:18.923Z"
   },
   {
    "duration": 143,
    "start_time": "2021-06-11T00:38:24.959Z"
   },
   {
    "duration": 140,
    "start_time": "2021-06-11T00:40:44.943Z"
   },
   {
    "duration": 146,
    "start_time": "2021-06-11T00:43:01.790Z"
   },
   {
    "duration": 134,
    "start_time": "2021-06-11T00:45:23.725Z"
   },
   {
    "duration": 140,
    "start_time": "2021-06-11T00:56:18.674Z"
   },
   {
    "duration": 141,
    "start_time": "2021-06-11T00:57:27.219Z"
   },
   {
    "duration": 18,
    "start_time": "2021-06-11T00:57:50.099Z"
   },
   {
    "duration": 136,
    "start_time": "2021-06-11T01:04:08.051Z"
   },
   {
    "duration": 139,
    "start_time": "2021-06-11T01:04:16.827Z"
   },
   {
    "duration": 138,
    "start_time": "2021-06-11T01:04:21.834Z"
   },
   {
    "duration": 11,
    "start_time": "2021-06-11T02:24:44.992Z"
   },
   {
    "duration": 23,
    "start_time": "2021-06-11T02:26:42.219Z"
   },
   {
    "duration": 25,
    "start_time": "2021-06-11T02:27:01.386Z"
   },
   {
    "duration": 29,
    "start_time": "2021-06-11T02:36:07.744Z"
   },
   {
    "duration": 52,
    "start_time": "2021-06-11T02:36:52.720Z"
   },
   {
    "duration": 54,
    "start_time": "2021-06-11T02:37:14.943Z"
   },
   {
    "duration": 53,
    "start_time": "2021-06-11T02:37:18.592Z"
   },
   {
    "duration": 52,
    "start_time": "2021-06-11T02:37:21.839Z"
   },
   {
    "duration": 41,
    "start_time": "2021-06-11T02:37:25.704Z"
   },
   {
    "duration": 30,
    "start_time": "2021-06-11T02:38:47.927Z"
   },
   {
    "duration": 47,
    "start_time": "2021-06-11T02:39:20.455Z"
   },
   {
    "duration": 54,
    "start_time": "2021-06-11T02:50:35.556Z"
   },
   {
    "duration": 60,
    "start_time": "2021-06-11T02:51:20.965Z"
   },
   {
    "duration": 74,
    "start_time": "2021-06-11T02:52:42.902Z"
   },
   {
    "duration": 71,
    "start_time": "2021-06-11T02:53:08.701Z"
   },
   {
    "duration": 77,
    "start_time": "2021-06-11T03:06:42.395Z"
   },
   {
    "duration": 1229,
    "start_time": "2021-06-11T03:07:57.290Z"
   },
   {
    "duration": 1221,
    "start_time": "2021-06-11T03:08:02.242Z"
   },
   {
    "duration": 87,
    "start_time": "2021-06-11T03:08:32.346Z"
   },
   {
    "duration": 80,
    "start_time": "2021-06-11T03:18:32.351Z"
   },
   {
    "duration": 78,
    "start_time": "2021-06-11T03:20:32.007Z"
   },
   {
    "duration": 83,
    "start_time": "2021-06-11T03:21:12.287Z"
   },
   {
    "duration": 100,
    "start_time": "2021-06-11T03:22:01.543Z"
   },
   {
    "duration": 91,
    "start_time": "2021-06-11T03:23:03.111Z"
   },
   {
    "duration": 93,
    "start_time": "2021-06-11T03:23:21.783Z"
   },
   {
    "duration": 83,
    "start_time": "2021-06-11T03:23:35.654Z"
   },
   {
    "duration": 151,
    "start_time": "2021-06-11T03:23:44.150Z"
   },
   {
    "duration": 77,
    "start_time": "2021-06-11T03:31:47.118Z"
   },
   {
    "duration": 78,
    "start_time": "2021-06-11T03:32:12.261Z"
   },
   {
    "duration": 77,
    "start_time": "2021-06-11T03:32:32.557Z"
   },
   {
    "duration": 97,
    "start_time": "2021-06-11T03:32:34.958Z"
   },
   {
    "duration": 110,
    "start_time": "2021-06-11T04:06:26.023Z"
   },
   {
    "duration": 100,
    "start_time": "2021-06-11T04:06:58.590Z"
   },
   {
    "duration": 94,
    "start_time": "2021-06-11T04:07:19.359Z"
   },
   {
    "duration": 148,
    "start_time": "2021-06-11T04:08:23.446Z"
   },
   {
    "duration": 18,
    "start_time": "2021-06-11T04:08:34.686Z"
   },
   {
    "duration": 88,
    "start_time": "2021-06-11T04:08:37.550Z"
   },
   {
    "duration": 88,
    "start_time": "2021-06-11T04:23:29.666Z"
   },
   {
    "duration": 53,
    "start_time": "2021-06-11T04:42:39.535Z"
   },
   {
    "duration": 10,
    "start_time": "2021-06-11T04:42:58.279Z"
   },
   {
    "duration": 395,
    "start_time": "2021-06-11T06:19:02.116Z"
   },
   {
    "duration": 108,
    "start_time": "2021-06-11T06:19:14.124Z"
   },
   {
    "duration": 101,
    "start_time": "2021-06-11T06:19:46.268Z"
   },
   {
    "duration": 104,
    "start_time": "2021-06-11T06:20:01.308Z"
   },
   {
    "duration": 127,
    "start_time": "2021-06-11T06:20:13.244Z"
   },
   {
    "duration": 115,
    "start_time": "2021-06-11T06:21:26.092Z"
   },
   {
    "duration": 90,
    "start_time": "2021-06-11T06:21:34.595Z"
   },
   {
    "duration": 4762,
    "start_time": "2021-06-11T06:24:26.795Z"
   },
   {
    "duration": 16,
    "start_time": "2021-06-11T06:25:22.732Z"
   },
   {
    "duration": 41,
    "start_time": "2021-06-11T06:25:31.979Z"
   },
   {
    "duration": 17,
    "start_time": "2021-06-11T06:25:43.179Z"
   },
   {
    "duration": 131,
    "start_time": "2021-06-11T06:32:52.224Z"
   },
   {
    "duration": 11348,
    "start_time": "2021-06-11T06:33:56.736Z"
   },
   {
    "duration": 11502,
    "start_time": "2021-06-11T06:35:58.480Z"
   },
   {
    "duration": 10116,
    "start_time": "2021-06-11T06:41:57.344Z"
   },
   {
    "duration": 12457,
    "start_time": "2021-06-11T06:42:09.455Z"
   },
   {
    "duration": 7330,
    "start_time": "2021-06-11T06:43:37.615Z"
   },
   {
    "duration": 2118,
    "start_time": "2021-06-11T06:45:35.431Z"
   },
   {
    "duration": 313,
    "start_time": "2021-06-11T06:45:55.311Z"
   },
   {
    "duration": 298,
    "start_time": "2021-06-11T06:46:27.894Z"
   },
   {
    "duration": 7501,
    "start_time": "2021-06-11T06:46:38.110Z"
   },
   {
    "duration": 1834,
    "start_time": "2021-06-11T06:47:03.949Z"
   },
   {
    "duration": 8635,
    "start_time": "2021-06-11T06:47:33.054Z"
   },
   {
    "duration": 42,
    "start_time": "2021-06-11T07:05:21.825Z"
   },
   {
    "duration": 1241,
    "start_time": "2021-06-11T07:08:31.634Z"
   },
   {
    "duration": 353,
    "start_time": "2021-06-11T07:09:34.010Z"
   },
   {
    "duration": 308,
    "start_time": "2021-06-11T07:09:43.329Z"
   },
   {
    "duration": 333,
    "start_time": "2021-06-11T07:09:53.586Z"
   },
   {
    "duration": 1438,
    "start_time": "2021-06-11T07:10:13.137Z"
   },
   {
    "duration": 42,
    "start_time": "2021-06-11T07:17:10.047Z"
   },
   {
    "duration": 21,
    "start_time": "2021-06-11T07:17:21.960Z"
   },
   {
    "duration": 339,
    "start_time": "2021-06-11T07:17:53.049Z"
   },
   {
    "duration": 355,
    "start_time": "2021-06-11T07:20:01.032Z"
   },
   {
    "duration": 929,
    "start_time": "2021-06-11T07:20:22.312Z"
   },
   {
    "duration": 118,
    "start_time": "2021-06-11T07:20:58.047Z"
   },
   {
    "duration": 984,
    "start_time": "2021-06-11T07:21:02.520Z"
   },
   {
    "duration": 118,
    "start_time": "2021-06-11T07:41:50.243Z"
   },
   {
    "duration": 949,
    "start_time": "2021-06-11T07:42:07.907Z"
   },
   {
    "duration": 6800,
    "start_time": "2021-06-11T08:16:23.005Z"
   },
   {
    "duration": 892,
    "start_time": "2021-06-12T21:25:10.367Z"
   },
   {
    "duration": 144,
    "start_time": "2021-06-12T21:25:14.253Z"
   },
   {
    "duration": 17,
    "start_time": "2021-06-12T21:25:20.275Z"
   },
   {
    "duration": 102,
    "start_time": "2021-06-12T21:25:22.499Z"
   },
   {
    "duration": 5487,
    "start_time": "2021-06-12T21:25:26.949Z"
   },
   {
    "duration": 107,
    "start_time": "2021-06-12T21:54:17.070Z"
   },
   {
    "duration": 119,
    "start_time": "2021-06-12T21:54:45.814Z"
   },
   {
    "duration": 131,
    "start_time": "2021-06-12T21:55:01.358Z"
   },
   {
    "duration": 117,
    "start_time": "2021-06-12T21:58:38.367Z"
   },
   {
    "duration": 109,
    "start_time": "2021-06-12T21:59:11.582Z"
   },
   {
    "duration": 214,
    "start_time": "2021-06-12T21:59:37.183Z"
   },
   {
    "duration": 102,
    "start_time": "2021-06-12T22:03:28.868Z"
   },
   {
    "duration": 107,
    "start_time": "2021-06-12T22:03:34.140Z"
   },
   {
    "duration": 133,
    "start_time": "2021-06-12T22:03:44.892Z"
   },
   {
    "duration": 107,
    "start_time": "2021-06-12T22:04:07.037Z"
   },
   {
    "duration": 8528,
    "start_time": "2021-06-12T22:04:28.861Z"
   },
   {
    "duration": 135,
    "start_time": "2021-06-12T22:04:37.899Z"
   },
   {
    "duration": 127,
    "start_time": "2021-06-12T22:05:05.059Z"
   },
   {
    "duration": 107,
    "start_time": "2021-06-12T22:06:36.388Z"
   },
   {
    "duration": 98,
    "start_time": "2021-06-12T22:08:34.979Z"
   },
   {
    "duration": 116,
    "start_time": "2021-06-12T22:09:31.786Z"
   },
   {
    "duration": 103,
    "start_time": "2021-06-12T22:09:37.594Z"
   },
   {
    "duration": 145,
    "start_time": "2021-06-12T22:09:43.466Z"
   },
   {
    "duration": 121,
    "start_time": "2021-06-12T22:10:44.658Z"
   },
   {
    "duration": 144,
    "start_time": "2021-06-12T22:10:55.850Z"
   },
   {
    "duration": 139,
    "start_time": "2021-06-12T22:11:49.147Z"
   },
   {
    "duration": 143,
    "start_time": "2021-06-12T22:12:15.434Z"
   },
   {
    "duration": 107,
    "start_time": "2021-06-12T22:12:22.857Z"
   },
   {
    "duration": 140,
    "start_time": "2021-06-12T22:13:17.562Z"
   },
   {
    "duration": 143,
    "start_time": "2021-06-12T22:19:23.543Z"
   },
   {
    "duration": 17,
    "start_time": "2021-06-12T22:19:27.095Z"
   },
   {
    "duration": 132,
    "start_time": "2021-06-12T22:19:30.488Z"
   },
   {
    "duration": 143,
    "start_time": "2021-06-12T22:19:55.009Z"
   },
   {
    "duration": 18,
    "start_time": "2021-06-12T22:19:58.041Z"
   },
   {
    "duration": 67,
    "start_time": "2021-06-12T22:20:10.889Z"
   },
   {
    "duration": 48,
    "start_time": "2021-06-12T22:20:19.418Z"
   },
   {
    "duration": 138,
    "start_time": "2021-06-12T22:21:16.544Z"
   },
   {
    "duration": 5297,
    "start_time": "2021-06-12T22:21:19.015Z"
   },
   {
    "duration": 117,
    "start_time": "2021-06-12T22:24:56.470Z"
   },
   {
    "duration": 40,
    "start_time": "2021-06-12T22:25:20.423Z"
   },
   {
    "duration": 159,
    "start_time": "2021-06-12T22:26:33.768Z"
   },
   {
    "duration": 150,
    "start_time": "2021-06-12T22:30:42.287Z"
   },
   {
    "duration": 17,
    "start_time": "2021-06-12T22:30:45.389Z"
   },
   {
    "duration": 135,
    "start_time": "2021-06-12T22:30:47.973Z"
   },
   {
    "duration": 161,
    "start_time": "2021-06-12T22:30:55.454Z"
   },
   {
    "duration": 5376,
    "start_time": "2021-06-12T22:31:05.174Z"
   },
   {
    "duration": 3602,
    "start_time": "2021-06-12T22:46:12.306Z"
   },
   {
    "duration": 29,
    "start_time": "2021-06-12T22:46:37.882Z"
   },
   {
    "duration": 12,
    "start_time": "2021-06-12T22:48:06.002Z"
   },
   {
    "duration": 31,
    "start_time": "2021-06-12T22:48:09.682Z"
   },
   {
    "duration": 10,
    "start_time": "2021-06-12T22:48:38.235Z"
   },
   {
    "duration": 21,
    "start_time": "2021-06-12T22:48:45.514Z"
   },
   {
    "duration": 37,
    "start_time": "2021-06-12T22:49:51.449Z"
   },
   {
    "duration": 21,
    "start_time": "2021-06-12T22:50:15.706Z"
   },
   {
    "duration": 28,
    "start_time": "2021-06-12T22:50:43.723Z"
   },
   {
    "duration": 3539,
    "start_time": "2021-06-12T23:14:46.304Z"
   },
   {
    "duration": 1310,
    "start_time": "2021-06-12T23:31:52.674Z"
   },
   {
    "duration": 2670,
    "start_time": "2021-06-12T23:34:10.902Z"
   },
   {
    "duration": 65,
    "start_time": "2021-06-12T23:35:57.080Z"
   },
   {
    "duration": 61,
    "start_time": "2021-06-12T23:36:31.803Z"
   },
   {
    "duration": 66,
    "start_time": "2021-06-12T23:40:01.096Z"
   },
   {
    "duration": 372,
    "start_time": "2021-06-12T23:41:12.784Z"
   },
   {
    "duration": 50,
    "start_time": "2021-06-12T23:41:15.865Z"
   },
   {
    "duration": 38,
    "start_time": "2021-06-12T23:41:37.487Z"
   },
   {
    "duration": 38,
    "start_time": "2021-06-12T23:41:44.015Z"
   },
   {
    "duration": 370,
    "start_time": "2021-06-12T23:42:19.847Z"
   },
   {
    "duration": 39,
    "start_time": "2021-06-12T23:42:59.152Z"
   },
   {
    "duration": 36,
    "start_time": "2021-06-12T23:43:21.888Z"
   },
   {
    "duration": 41,
    "start_time": "2021-06-12T23:43:35.823Z"
   },
   {
    "duration": 41,
    "start_time": "2021-06-12T23:43:48.567Z"
   },
   {
    "duration": 40,
    "start_time": "2021-06-12T23:44:49.750Z"
   },
   {
    "duration": 44,
    "start_time": "2021-06-12T23:46:24.765Z"
   },
   {
    "duration": 43,
    "start_time": "2021-06-12T23:46:58.926Z"
   },
   {
    "duration": 45,
    "start_time": "2021-06-12T23:47:11.743Z"
   },
   {
    "duration": 47,
    "start_time": "2021-06-12T23:47:43.150Z"
   },
   {
    "duration": 52,
    "start_time": "2021-06-12T23:48:29.198Z"
   },
   {
    "duration": 45,
    "start_time": "2021-06-12T23:51:33.918Z"
   },
   {
    "duration": 8704,
    "start_time": "2021-06-12T23:54:23.806Z"
   },
   {
    "duration": 9126,
    "start_time": "2021-06-12T23:54:33.366Z"
   },
   {
    "duration": 1366,
    "start_time": "2021-06-12T23:54:46.661Z"
   },
   {
    "duration": 70,
    "start_time": "2021-06-12T23:55:03.710Z"
   },
   {
    "duration": 47,
    "start_time": "2021-06-12T23:55:09.221Z"
   },
   {
    "duration": 45,
    "start_time": "2021-06-12T23:55:28.484Z"
   },
   {
    "duration": 405,
    "start_time": "2021-06-13T00:14:34.592Z"
   },
   {
    "duration": 460,
    "start_time": "2021-06-13T00:15:47.394Z"
   },
   {
    "duration": 85,
    "start_time": "2021-06-13T00:17:09.306Z"
   },
   {
    "duration": 77,
    "start_time": "2021-06-13T00:18:14.216Z"
   },
   {
    "duration": 155,
    "start_time": "2021-06-13T00:29:52.310Z"
   },
   {
    "duration": 148,
    "start_time": "2021-06-13T00:30:44.006Z"
   },
   {
    "duration": 422,
    "start_time": "2021-06-13T00:43:24.124Z"
   },
   {
    "duration": 152,
    "start_time": "2021-06-13T00:44:17.573Z"
   },
   {
    "duration": 130,
    "start_time": "2021-06-13T00:45:47.964Z"
   },
   {
    "duration": 136,
    "start_time": "2021-06-13T00:46:04.397Z"
   },
   {
    "duration": 132,
    "start_time": "2021-06-13T00:50:11.923Z"
   },
   {
    "duration": 102,
    "start_time": "2021-06-13T01:13:51.391Z"
   },
   {
    "duration": 102,
    "start_time": "2021-06-13T01:14:03.687Z"
   },
   {
    "duration": 160,
    "start_time": "2021-06-13T01:14:21.143Z"
   },
   {
    "duration": 114,
    "start_time": "2021-06-13T01:23:44.893Z"
   },
   {
    "duration": 197,
    "start_time": "2021-06-13T01:23:56.030Z"
   },
   {
    "duration": 113,
    "start_time": "2021-06-13T01:24:43.078Z"
   },
   {
    "duration": 123,
    "start_time": "2021-06-13T01:25:29.109Z"
   },
   {
    "duration": 125,
    "start_time": "2021-06-13T01:25:41.021Z"
   },
   {
    "duration": 140,
    "start_time": "2021-06-13T01:25:48.637Z"
   },
   {
    "duration": 123,
    "start_time": "2021-06-13T01:26:33.830Z"
   },
   {
    "duration": 141,
    "start_time": "2021-06-13T01:26:39.926Z"
   },
   {
    "duration": 137,
    "start_time": "2021-06-13T01:26:42.870Z"
   },
   {
    "duration": 146,
    "start_time": "2021-06-13T01:26:45.918Z"
   },
   {
    "duration": 135,
    "start_time": "2021-06-13T01:27:02.214Z"
   },
   {
    "duration": 138,
    "start_time": "2021-06-13T01:27:17.862Z"
   },
   {
    "duration": 122,
    "start_time": "2021-06-13T01:27:33.415Z"
   },
   {
    "duration": 116,
    "start_time": "2021-06-13T01:37:22.587Z"
   },
   {
    "duration": 112,
    "start_time": "2021-06-13T01:37:33.268Z"
   },
   {
    "duration": 115,
    "start_time": "2021-06-13T01:37:39.962Z"
   },
   {
    "duration": 223,
    "start_time": "2021-06-13T01:56:48.750Z"
   },
   {
    "duration": 149,
    "start_time": "2021-06-13T01:57:06.039Z"
   },
   {
    "duration": 466,
    "start_time": "2021-06-13T01:58:17.791Z"
   },
   {
    "duration": 143,
    "start_time": "2021-06-13T01:58:26.919Z"
   },
   {
    "duration": 147,
    "start_time": "2021-06-13T01:58:48.670Z"
   },
   {
    "duration": 161,
    "start_time": "2021-06-13T02:00:43.095Z"
   },
   {
    "duration": 559,
    "start_time": "2021-06-13T02:15:53.552Z"
   },
   {
    "duration": 187,
    "start_time": "2021-06-13T02:16:04.771Z"
   },
   {
    "duration": 184,
    "start_time": "2021-06-13T02:53:48.235Z"
   },
   {
    "duration": 199,
    "start_time": "2021-06-13T02:54:28.604Z"
   },
   {
    "duration": 192,
    "start_time": "2021-06-13T03:16:08.472Z"
   },
   {
    "duration": 190,
    "start_time": "2021-06-13T03:24:10.909Z"
   },
   {
    "duration": 175,
    "start_time": "2021-06-13T03:24:30.141Z"
   },
   {
    "duration": 123,
    "start_time": "2021-06-13T03:33:06.341Z"
   },
   {
    "duration": 126,
    "start_time": "2021-06-13T03:33:17.972Z"
   },
   {
    "duration": 8,
    "start_time": "2021-06-13T03:35:07.803Z"
   },
   {
    "duration": 10,
    "start_time": "2021-06-13T03:35:12.187Z"
   },
   {
    "duration": 541,
    "start_time": "2021-06-13T03:36:02.721Z"
   },
   {
    "duration": 184,
    "start_time": "2021-06-13T03:36:19.053Z"
   },
   {
    "duration": 11,
    "start_time": "2021-06-13T03:36:27.450Z"
   },
   {
    "duration": 11,
    "start_time": "2021-06-13T03:36:54.027Z"
   },
   {
    "duration": 11,
    "start_time": "2021-06-13T03:37:12.090Z"
   },
   {
    "duration": 12,
    "start_time": "2021-06-13T03:37:29.123Z"
   },
   {
    "duration": 12,
    "start_time": "2021-06-13T03:37:49.266Z"
   },
   {
    "duration": 40,
    "start_time": "2021-06-13T04:06:22.693Z"
   },
   {
    "duration": 25,
    "start_time": "2021-06-13T04:08:53.092Z"
   },
   {
    "duration": 142,
    "start_time": "2021-06-13T04:09:31.493Z"
   },
   {
    "duration": 24,
    "start_time": "2021-06-13T04:09:58.260Z"
   },
   {
    "duration": 401,
    "start_time": "2021-06-13T04:11:24.365Z"
   },
   {
    "duration": 343,
    "start_time": "2021-06-13T04:11:43.612Z"
   },
   {
    "duration": 31,
    "start_time": "2021-06-13T04:11:56.589Z"
   },
   {
    "duration": 31,
    "start_time": "2021-06-13T04:12:53.436Z"
   },
   {
    "duration": 30,
    "start_time": "2021-06-13T04:13:00.459Z"
   },
   {
    "duration": 32,
    "start_time": "2021-06-13T04:13:04.595Z"
   },
   {
    "duration": 1378,
    "start_time": "2021-06-13T04:21:22.547Z"
   },
   {
    "duration": 4,
    "start_time": "2021-06-13T04:21:47.851Z"
   },
   {
    "duration": 374,
    "start_time": "2021-06-13T04:31:29.024Z"
   },
   {
    "duration": 23,
    "start_time": "2021-06-13T04:31:50.169Z"
   },
   {
    "duration": 24,
    "start_time": "2021-06-13T04:32:05.941Z"
   },
   {
    "duration": 23,
    "start_time": "2021-06-13T04:32:11.827Z"
   },
   {
    "duration": 814,
    "start_time": "2021-06-13T05:03:25.152Z"
   },
   {
    "duration": 140,
    "start_time": "2021-06-13T05:03:25.969Z"
   },
   {
    "duration": 18,
    "start_time": "2021-06-13T05:03:26.112Z"
   },
   {
    "duration": 153,
    "start_time": "2021-06-13T05:03:26.133Z"
   },
   {
    "duration": 4053,
    "start_time": "2021-06-13T05:03:26.288Z"
   },
   {
    "duration": 423,
    "start_time": "2021-06-13T05:03:30.344Z"
   },
   {
    "duration": -88,
    "start_time": "2021-06-13T05:03:30.858Z"
   },
   {
    "duration": -91,
    "start_time": "2021-06-13T05:03:30.862Z"
   },
   {
    "duration": -93,
    "start_time": "2021-06-13T05:03:30.866Z"
   },
   {
    "duration": -95,
    "start_time": "2021-06-13T05:03:30.869Z"
   },
   {
    "duration": -98,
    "start_time": "2021-06-13T05:03:30.873Z"
   },
   {
    "duration": 84,
    "start_time": "2021-06-13T05:26:56.750Z"
   },
   {
    "duration": 146,
    "start_time": "2021-06-13T05:26:59.686Z"
   },
   {
    "duration": 17,
    "start_time": "2021-06-13T05:27:02.774Z"
   },
   {
    "duration": 135,
    "start_time": "2021-06-13T05:27:05.766Z"
   },
   {
    "duration": 4302,
    "start_time": "2021-06-13T05:27:09.559Z"
   },
   {
    "duration": 193,
    "start_time": "2021-06-13T05:27:13.920Z"
   },
   {
    "duration": 11,
    "start_time": "2021-06-13T05:27:18.166Z"
   },
   {
    "duration": 13,
    "start_time": "2021-06-13T05:27:20.549Z"
   },
   {
    "duration": 10,
    "start_time": "2021-06-13T05:27:23.079Z"
   },
   {
    "duration": 12,
    "start_time": "2021-06-13T05:27:25.645Z"
   },
   {
    "duration": 23,
    "start_time": "2021-06-13T05:27:28.414Z"
   },
   {
    "duration": 864,
    "start_time": "2021-06-13T05:28:16.614Z"
   },
   {
    "duration": 147,
    "start_time": "2021-06-13T05:28:17.481Z"
   },
   {
    "duration": 16,
    "start_time": "2021-06-13T05:28:17.631Z"
   },
   {
    "duration": 170,
    "start_time": "2021-06-13T05:28:17.650Z"
   },
   {
    "duration": 4358,
    "start_time": "2021-06-13T05:28:17.825Z"
   },
   {
    "duration": 561,
    "start_time": "2021-06-13T05:28:22.186Z"
   },
   {
    "duration": -592,
    "start_time": "2021-06-13T05:28:23.342Z"
   },
   {
    "duration": -596,
    "start_time": "2021-06-13T05:28:23.347Z"
   },
   {
    "duration": -601,
    "start_time": "2021-06-13T05:28:23.354Z"
   },
   {
    "duration": -603,
    "start_time": "2021-06-13T05:28:23.357Z"
   },
   {
    "duration": -603,
    "start_time": "2021-06-13T05:28:23.359Z"
   },
   {
    "duration": 230,
    "start_time": "2021-06-13T05:29:39.480Z"
   },
   {
    "duration": 10,
    "start_time": "2021-06-13T05:29:43.118Z"
   },
   {
    "duration": 13,
    "start_time": "2021-06-13T05:29:47.056Z"
   },
   {
    "duration": 10,
    "start_time": "2021-06-13T05:29:49.133Z"
   },
   {
    "duration": 12,
    "start_time": "2021-06-13T05:29:51.941Z"
   },
   {
    "duration": 23,
    "start_time": "2021-06-13T05:29:54.726Z"
   },
   {
    "duration": 853,
    "start_time": "2021-06-13T05:30:29.720Z"
   },
   {
    "duration": 152,
    "start_time": "2021-06-13T05:30:30.577Z"
   },
   {
    "duration": 18,
    "start_time": "2021-06-13T05:30:30.732Z"
   },
   {
    "duration": 177,
    "start_time": "2021-06-13T05:30:30.754Z"
   },
   {
    "duration": 4228,
    "start_time": "2021-06-13T05:30:30.934Z"
   },
   {
    "duration": 201,
    "start_time": "2021-06-13T05:30:35.165Z"
   },
   {
    "duration": 11,
    "start_time": "2021-06-13T05:30:35.368Z"
   },
   {
    "duration": 11,
    "start_time": "2021-06-13T05:30:35.385Z"
   },
   {
    "duration": 11,
    "start_time": "2021-06-13T05:30:35.426Z"
   },
   {
    "duration": 13,
    "start_time": "2021-06-13T05:30:35.439Z"
   },
   {
    "duration": 23,
    "start_time": "2021-06-13T05:30:35.454Z"
   },
   {
    "duration": 17,
    "start_time": "2021-06-13T05:34:36.842Z"
   },
   {
    "duration": 25,
    "start_time": "2021-06-13T05:35:04.187Z"
   },
   {
    "duration": 63,
    "start_time": "2021-06-13T05:35:38.163Z"
   },
   {
    "duration": 8432,
    "start_time": "2021-06-13T05:39:00.099Z"
   },
   {
    "duration": 25,
    "start_time": "2021-06-13T05:39:31.346Z"
   },
   {
    "duration": 9,
    "start_time": "2021-06-13T05:39:33.779Z"
   },
   {
    "duration": 8,
    "start_time": "2021-06-13T05:39:38.403Z"
   },
   {
    "duration": 39,
    "start_time": "2021-06-13T05:39:39.499Z"
   },
   {
    "duration": 11,
    "start_time": "2021-06-13T05:39:42.251Z"
   },
   {
    "duration": 10,
    "start_time": "2021-06-13T05:40:51.898Z"
   },
   {
    "duration": 12,
    "start_time": "2021-06-13T05:42:24.257Z"
   },
   {
    "duration": 18,
    "start_time": "2021-06-13T05:42:25.730Z"
   },
   {
    "duration": 12,
    "start_time": "2021-06-13T05:42:40.251Z"
   },
   {
    "duration": 84,
    "start_time": "2021-06-13T05:43:14.489Z"
   },
   {
    "duration": 23,
    "start_time": "2021-06-13T05:43:26.530Z"
   },
   {
    "duration": 863,
    "start_time": "2021-06-13T05:43:35.839Z"
   },
   {
    "duration": 40,
    "start_time": "2021-06-13T05:43:36.705Z"
   },
   {
    "duration": 10,
    "start_time": "2021-06-13T05:43:36.747Z"
   },
   {
    "duration": 20,
    "start_time": "2021-06-13T05:43:36.760Z"
   },
   {
    "duration": 57,
    "start_time": "2021-06-13T05:43:36.783Z"
   },
   {
    "duration": 10,
    "start_time": "2021-06-13T05:43:36.843Z"
   },
   {
    "duration": 8,
    "start_time": "2021-06-13T05:43:36.856Z"
   },
   {
    "duration": 14,
    "start_time": "2021-06-13T05:43:36.868Z"
   },
   {
    "duration": 50,
    "start_time": "2021-06-13T05:43:36.885Z"
   },
   {
    "duration": 13,
    "start_time": "2021-06-13T05:43:36.937Z"
   },
   {
    "duration": 24,
    "start_time": "2021-06-13T05:43:36.952Z"
   },
   {
    "duration": 55,
    "start_time": "2021-06-13T05:43:36.978Z"
   },
   {
    "duration": 150,
    "start_time": "2021-06-13T05:43:37.035Z"
   },
   {
    "duration": 4296,
    "start_time": "2021-06-13T05:43:37.187Z"
   },
   {
    "duration": 213,
    "start_time": "2021-06-13T05:43:41.486Z"
   },
   {
    "duration": 10,
    "start_time": "2021-06-13T05:43:41.701Z"
   },
   {
    "duration": 12,
    "start_time": "2021-06-13T05:43:41.725Z"
   },
   {
    "duration": 12,
    "start_time": "2021-06-13T05:43:41.739Z"
   },
   {
    "duration": 15,
    "start_time": "2021-06-13T05:43:41.754Z"
   },
   {
    "duration": 54,
    "start_time": "2021-06-13T05:43:41.771Z"
   },
   {
    "duration": 12,
    "start_time": "2021-06-13T05:46:16.631Z"
   },
   {
    "duration": 846,
    "start_time": "2021-06-13T05:46:27.149Z"
   },
   {
    "duration": 9,
    "start_time": "2021-06-13T05:46:27.997Z"
   },
   {
    "duration": 32,
    "start_time": "2021-06-13T05:46:28.009Z"
   },
   {
    "duration": 15,
    "start_time": "2021-06-13T05:46:28.044Z"
   },
   {
    "duration": 10,
    "start_time": "2021-06-13T05:46:28.061Z"
   },
   {
    "duration": 10,
    "start_time": "2021-06-13T05:46:28.073Z"
   },
   {
    "duration": 74,
    "start_time": "2021-06-13T05:46:28.086Z"
   },
   {
    "duration": 9,
    "start_time": "2021-06-13T05:46:28.164Z"
   },
   {
    "duration": 9,
    "start_time": "2021-06-13T05:46:28.176Z"
   },
   {
    "duration": 47,
    "start_time": "2021-06-13T05:46:28.187Z"
   },
   {
    "duration": 18,
    "start_time": "2021-06-13T05:46:28.237Z"
   },
   {
    "duration": 13,
    "start_time": "2021-06-13T05:46:28.257Z"
   },
   {
    "duration": 55,
    "start_time": "2021-06-13T05:46:28.272Z"
   },
   {
    "duration": 17,
    "start_time": "2021-06-13T05:46:28.329Z"
   },
   {
    "duration": 158,
    "start_time": "2021-06-13T05:46:28.348Z"
   },
   {
    "duration": 4337,
    "start_time": "2021-06-13T05:46:28.508Z"
   },
   {
    "duration": 198,
    "start_time": "2021-06-13T05:46:32.848Z"
   },
   {
    "duration": 10,
    "start_time": "2021-06-13T05:46:33.048Z"
   },
   {
    "duration": 17,
    "start_time": "2021-06-13T05:46:33.060Z"
   },
   {
    "duration": 25,
    "start_time": "2021-06-13T05:46:33.079Z"
   },
   {
    "duration": 26,
    "start_time": "2021-06-13T05:46:33.106Z"
   },
   {
    "duration": 23,
    "start_time": "2021-06-13T05:46:33.134Z"
   },
   {
    "duration": 13,
    "start_time": "2021-06-13T05:50:18.361Z"
   },
   {
    "duration": 129,
    "start_time": "2021-06-13T05:50:46.195Z"
   },
   {
    "duration": 7,
    "start_time": "2021-06-13T05:51:05.785Z"
   },
   {
    "duration": 7,
    "start_time": "2021-06-13T05:51:08.707Z"
   },
   {
    "duration": 9,
    "start_time": "2021-06-13T05:52:27.289Z"
   },
   {
    "duration": 113,
    "start_time": "2021-06-13T05:53:24.050Z"
   },
   {
    "duration": 7,
    "start_time": "2021-06-13T05:53:32.904Z"
   },
   {
    "duration": 7,
    "start_time": "2021-06-13T05:53:47.161Z"
   },
   {
    "duration": 204,
    "start_time": "2021-06-13T05:55:15.427Z"
   },
   {
    "duration": 6,
    "start_time": "2021-06-13T05:57:48.153Z"
   },
   {
    "duration": 463,
    "start_time": "2021-06-13T05:59:04.089Z"
   },
   {
    "duration": 327,
    "start_time": "2021-06-13T05:59:08.009Z"
   },
   {
    "duration": 5,
    "start_time": "2021-06-13T05:59:13.170Z"
   },
   {
    "duration": 6,
    "start_time": "2021-06-13T05:59:32.040Z"
   },
   {
    "duration": 6,
    "start_time": "2021-06-13T05:59:37.104Z"
   },
   {
    "duration": 1038,
    "start_time": "2021-06-13T06:00:00.316Z"
   },
   {
    "duration": 8,
    "start_time": "2021-06-13T06:00:01.357Z"
   },
   {
    "duration": 38,
    "start_time": "2021-06-13T06:00:01.368Z"
   },
   {
    "duration": 9,
    "start_time": "2021-06-13T06:00:01.408Z"
   },
   {
    "duration": 19,
    "start_time": "2021-06-13T06:00:01.419Z"
   },
   {
    "duration": 20,
    "start_time": "2021-06-13T06:00:01.441Z"
   },
   {
    "duration": 34,
    "start_time": "2021-06-13T06:00:01.464Z"
   },
   {
    "duration": 25,
    "start_time": "2021-06-13T06:00:01.501Z"
   },
   {
    "duration": 47,
    "start_time": "2021-06-13T06:00:01.530Z"
   },
   {
    "duration": 21,
    "start_time": "2021-06-13T06:00:01.579Z"
   },
   {
    "duration": 37,
    "start_time": "2021-06-13T06:00:01.603Z"
   },
   {
    "duration": 75,
    "start_time": "2021-06-13T06:00:01.642Z"
   },
   {
    "duration": 26,
    "start_time": "2021-06-13T06:00:01.719Z"
   },
   {
    "duration": 13,
    "start_time": "2021-06-13T06:00:01.748Z"
   },
   {
    "duration": 51,
    "start_time": "2021-06-13T06:00:01.764Z"
   },
   {
    "duration": 28,
    "start_time": "2021-06-13T06:00:01.817Z"
   },
   {
    "duration": 192,
    "start_time": "2021-06-13T06:00:01.847Z"
   },
   {
    "duration": 4516,
    "start_time": "2021-06-13T06:00:02.042Z"
   },
   {
    "duration": 209,
    "start_time": "2021-06-13T06:00:06.562Z"
   },
   {
    "duration": 12,
    "start_time": "2021-06-13T06:00:06.774Z"
   },
   {
    "duration": 38,
    "start_time": "2021-06-13T06:00:06.789Z"
   },
   {
    "duration": 11,
    "start_time": "2021-06-13T06:00:06.830Z"
   },
   {
    "duration": 20,
    "start_time": "2021-06-13T06:00:06.847Z"
   },
   {
    "duration": 34,
    "start_time": "2021-06-13T06:00:06.870Z"
   },
   {
    "duration": 19,
    "start_time": "2021-06-13T06:04:17.127Z"
   },
   {
    "duration": 31,
    "start_time": "2021-06-13T06:08:14.430Z"
   },
   {
    "duration": 907,
    "start_time": "2021-06-13T06:08:27.494Z"
   },
   {
    "duration": 22,
    "start_time": "2021-06-13T06:08:28.405Z"
   },
   {
    "duration": 27,
    "start_time": "2021-06-13T06:08:28.431Z"
   },
   {
    "duration": 8,
    "start_time": "2021-06-13T06:08:28.461Z"
   },
   {
    "duration": 9,
    "start_time": "2021-06-13T06:08:28.471Z"
   },
   {
    "duration": 7,
    "start_time": "2021-06-13T06:08:28.482Z"
   },
   {
    "duration": 41,
    "start_time": "2021-06-13T06:08:28.491Z"
   },
   {
    "duration": 12,
    "start_time": "2021-06-13T06:08:28.535Z"
   },
   {
    "duration": 42,
    "start_time": "2021-06-13T06:08:28.550Z"
   },
   {
    "duration": 34,
    "start_time": "2021-06-13T06:08:28.595Z"
   },
   {
    "duration": 8,
    "start_time": "2021-06-13T06:08:28.631Z"
   },
   {
    "duration": 12,
    "start_time": "2021-06-13T06:08:28.642Z"
   },
   {
    "duration": 17,
    "start_time": "2021-06-13T06:08:28.657Z"
   },
   {
    "duration": 54,
    "start_time": "2021-06-13T06:08:28.677Z"
   },
   {
    "duration": 25,
    "start_time": "2021-06-13T06:08:28.734Z"
   },
   {
    "duration": 19,
    "start_time": "2021-06-13T06:08:28.762Z"
   },
   {
    "duration": 61,
    "start_time": "2021-06-13T06:08:28.783Z"
   },
   {
    "duration": 144,
    "start_time": "2021-06-13T06:08:28.847Z"
   },
   {
    "duration": 4465,
    "start_time": "2021-06-13T06:08:28.994Z"
   },
   {
    "duration": 199,
    "start_time": "2021-06-13T06:08:33.461Z"
   },
   {
    "duration": 10,
    "start_time": "2021-06-13T06:08:33.663Z"
   },
   {
    "duration": 12,
    "start_time": "2021-06-13T06:08:33.675Z"
   },
   {
    "duration": 39,
    "start_time": "2021-06-13T06:08:33.691Z"
   },
   {
    "duration": 13,
    "start_time": "2021-06-13T06:08:33.732Z"
   },
   {
    "duration": 21,
    "start_time": "2021-06-13T06:08:33.748Z"
   },
   {
    "duration": 57,
    "start_time": "2021-06-13T06:09:06.016Z"
   },
   {
    "duration": 118,
    "start_time": "2021-06-13T06:10:13.735Z"
   },
   {
    "duration": 33,
    "start_time": "2021-06-13T06:10:30.263Z"
   },
   {
    "duration": 32,
    "start_time": "2021-06-13T06:10:39.416Z"
   },
   {
    "duration": 10,
    "start_time": "2021-06-13T06:11:34.377Z"
   },
   {
    "duration": 130,
    "start_time": "2021-06-13T06:11:54.088Z"
   },
   {
    "duration": 24,
    "start_time": "2021-06-13T06:12:12.048Z"
   },
   {
    "duration": 24,
    "start_time": "2021-06-13T06:12:35.808Z"
   },
   {
    "duration": 26,
    "start_time": "2021-06-13T06:14:24.087Z"
   },
   {
    "duration": 24,
    "start_time": "2021-06-13T06:14:47.128Z"
   },
   {
    "duration": 11,
    "start_time": "2021-06-13T06:14:50.176Z"
   },
   {
    "duration": 25,
    "start_time": "2021-06-13T06:14:52.543Z"
   },
   {
    "duration": 125,
    "start_time": "2021-06-13T06:15:26.456Z"
   },
   {
    "duration": 10,
    "start_time": "2021-06-13T06:15:59.671Z"
   },
   {
    "duration": 11,
    "start_time": "2021-06-13T06:16:11.127Z"
   },
   {
    "duration": 118,
    "start_time": "2021-06-13T06:16:34.495Z"
   },
   {
    "duration": 21,
    "start_time": "2021-06-13T06:17:34.125Z"
   },
   {
    "duration": 10,
    "start_time": "2021-06-13T06:18:08.583Z"
   },
   {
    "duration": 171,
    "start_time": "2021-06-13T06:23:44.540Z"
   },
   {
    "duration": 32,
    "start_time": "2021-06-13T06:24:05.887Z"
   },
   {
    "duration": 10,
    "start_time": "2021-06-13T06:24:50.828Z"
   },
   {
    "duration": 5,
    "start_time": "2021-06-13T06:25:27.087Z"
   },
   {
    "duration": 4,
    "start_time": "2021-06-13T06:25:30.260Z"
   },
   {
    "duration": 920,
    "start_time": "2021-06-13T06:26:27.166Z"
   },
   {
    "duration": 5,
    "start_time": "2021-06-13T06:27:10.566Z"
   },
   {
    "duration": 1747,
    "start_time": "2021-06-13T06:27:58.357Z"
   },
   {
    "duration": 34,
    "start_time": "2021-06-13T06:29:19.420Z"
   },
   {
    "duration": 4,
    "start_time": "2021-06-13T06:30:31.861Z"
   },
   {
    "duration": 5,
    "start_time": "2021-06-13T06:30:50.309Z"
   },
   {
    "duration": 4,
    "start_time": "2021-06-13T06:31:15.967Z"
   },
   {
    "duration": 38,
    "start_time": "2021-06-13T06:33:03.294Z"
   },
   {
    "duration": 39,
    "start_time": "2021-06-13T06:33:14.501Z"
   },
   {
    "duration": 14,
    "start_time": "2021-06-13T06:37:53.875Z"
   },
   {
    "duration": 30,
    "start_time": "2021-06-13T06:37:57.325Z"
   },
   {
    "duration": 33,
    "start_time": "2021-06-13T06:39:09.621Z"
   },
   {
    "duration": 16,
    "start_time": "2021-06-13T06:39:50.260Z"
   },
   {
    "duration": 32,
    "start_time": "2021-06-13T06:40:46.837Z"
   },
   {
    "duration": 14,
    "start_time": "2021-06-13T06:41:59.675Z"
   },
   {
    "duration": 12,
    "start_time": "2021-06-13T06:45:17.090Z"
   },
   {
    "duration": 805,
    "start_time": "2021-06-13T13:52:41.215Z"
   },
   {
    "duration": 8,
    "start_time": "2021-06-13T13:52:42.023Z"
   },
   {
    "duration": 15,
    "start_time": "2021-06-13T13:52:42.034Z"
   },
   {
    "duration": 34,
    "start_time": "2021-06-13T13:52:42.052Z"
   },
   {
    "duration": 9,
    "start_time": "2021-06-13T13:52:42.088Z"
   },
   {
    "duration": 7,
    "start_time": "2021-06-13T13:52:42.099Z"
   },
   {
    "duration": 8,
    "start_time": "2021-06-13T13:52:42.109Z"
   },
   {
    "duration": 10,
    "start_time": "2021-06-13T13:52:42.121Z"
   },
   {
    "duration": 82,
    "start_time": "2021-06-13T13:52:42.135Z"
   },
   {
    "duration": 8,
    "start_time": "2021-06-13T13:52:42.220Z"
   },
   {
    "duration": 8,
    "start_time": "2021-06-13T13:52:42.231Z"
   },
   {
    "duration": 42,
    "start_time": "2021-06-13T13:52:42.242Z"
   },
   {
    "duration": 17,
    "start_time": "2021-06-13T13:52:42.286Z"
   },
   {
    "duration": 13,
    "start_time": "2021-06-13T13:52:42.305Z"
   },
   {
    "duration": 20,
    "start_time": "2021-06-13T13:52:42.320Z"
   },
   {
    "duration": 49,
    "start_time": "2021-06-13T13:52:42.342Z"
   },
   {
    "duration": 19,
    "start_time": "2021-06-13T13:52:42.393Z"
   },
   {
    "duration": 68,
    "start_time": "2021-06-13T13:52:42.415Z"
   },
   {
    "duration": 26,
    "start_time": "2021-06-13T13:52:42.485Z"
   },
   {
    "duration": 10,
    "start_time": "2021-06-13T13:52:42.513Z"
   },
   {
    "duration": 24,
    "start_time": "2021-06-13T13:52:42.526Z"
   },
   {
    "duration": 10,
    "start_time": "2021-06-13T13:52:42.583Z"
   },
   {
    "duration": 23,
    "start_time": "2021-06-13T13:52:42.598Z"
   },
   {
    "duration": 12,
    "start_time": "2021-06-13T13:52:42.624Z"
   },
   {
    "duration": 49,
    "start_time": "2021-06-13T13:52:42.638Z"
   },
   {
    "duration": 9,
    "start_time": "2021-06-13T13:52:42.690Z"
   },
   {
    "duration": 8,
    "start_time": "2021-06-13T13:52:42.701Z"
   },
   {
    "duration": 9,
    "start_time": "2021-06-13T13:52:42.712Z"
   },
   {
    "duration": 7,
    "start_time": "2021-06-13T13:52:42.724Z"
   },
   {
    "duration": 928,
    "start_time": "2021-06-13T13:52:42.733Z"
   },
   {
    "duration": 4,
    "start_time": "2021-06-13T13:52:43.664Z"
   },
   {
    "duration": 3268,
    "start_time": "2021-06-13T13:52:43.671Z"
   },
   {
    "duration": 42,
    "start_time": "2021-06-13T13:52:46.941Z"
   },
   {
    "duration": 4,
    "start_time": "2021-06-13T13:52:46.986Z"
   },
   {
    "duration": 6,
    "start_time": "2021-06-13T13:52:46.992Z"
   },
   {
    "duration": 20,
    "start_time": "2021-06-13T13:52:47.000Z"
   },
   {
    "duration": 77,
    "start_time": "2021-06-13T13:52:47.023Z"
   },
   {
    "duration": 34,
    "start_time": "2021-06-13T13:52:47.103Z"
   },
   {
    "duration": 14,
    "start_time": "2021-06-13T13:52:47.139Z"
   },
   {
    "duration": 56,
    "start_time": "2021-06-13T13:52:47.155Z"
   },
   {
    "duration": 15,
    "start_time": "2021-06-13T13:52:47.213Z"
   },
   {
    "duration": 60,
    "start_time": "2021-06-13T13:52:47.231Z"
   },
   {
    "duration": 13,
    "start_time": "2021-06-13T13:52:47.293Z"
   },
   {
    "duration": 35,
    "start_time": "2021-06-13T13:52:47.308Z"
   },
   {
    "duration": 10,
    "start_time": "2021-06-13T13:52:47.345Z"
   },
   {
    "duration": 33,
    "start_time": "2021-06-13T13:52:47.358Z"
   },
   {
    "duration": 13,
    "start_time": "2021-06-13T13:52:47.393Z"
   },
   {
    "duration": 13,
    "start_time": "2021-06-13T13:52:47.409Z"
   },
   {
    "duration": 13,
    "start_time": "2021-06-13T13:52:47.424Z"
   },
   {
    "duration": 64,
    "start_time": "2021-06-13T13:52:47.440Z"
   },
   {
    "duration": 631,
    "start_time": "2021-06-25T23:55:05.876Z"
   },
   {
    "duration": 6,
    "start_time": "2021-06-25T23:55:11.819Z"
   },
   {
    "duration": 8,
    "start_time": "2021-06-25T23:55:13.012Z"
   },
   {
    "duration": 7,
    "start_time": "2021-06-25T23:55:15.123Z"
   },
   {
    "duration": 7,
    "start_time": "2021-06-25T23:55:16.148Z"
   },
   {
    "duration": 5,
    "start_time": "2021-06-25T23:55:17.867Z"
   },
   {
    "duration": 6,
    "start_time": "2021-06-25T23:55:19.196Z"
   },
   {
    "duration": 21,
    "start_time": "2021-06-25T23:58:40.961Z"
   },
   {
    "duration": 6,
    "start_time": "2021-06-26T00:00:46.347Z"
   },
   {
    "duration": 25,
    "start_time": "2021-06-26T00:06:14.913Z"
   },
   {
    "duration": 66,
    "start_time": "2021-06-26T00:10:40.969Z"
   },
   {
    "duration": 22,
    "start_time": "2021-06-26T00:12:46.322Z"
   },
   {
    "duration": 7,
    "start_time": "2021-06-26T00:18:25.343Z"
   },
   {
    "duration": 7,
    "start_time": "2021-06-26T00:18:30.656Z"
   },
   {
    "duration": 8,
    "start_time": "2021-06-26T00:18:32.544Z"
   },
   {
    "duration": 12,
    "start_time": "2021-06-26T00:23:40.190Z"
   },
   {
    "duration": 14,
    "start_time": "2021-06-26T00:25:05.151Z"
   },
   {
    "duration": 12,
    "start_time": "2021-06-26T00:25:40.039Z"
   },
   {
    "duration": 13,
    "start_time": "2021-06-26T00:26:04.455Z"
   },
   {
    "duration": 13,
    "start_time": "2021-06-26T00:26:35.342Z"
   },
   {
    "duration": 13,
    "start_time": "2021-06-26T00:27:18.143Z"
   },
   {
    "duration": 13,
    "start_time": "2021-06-26T00:27:31.726Z"
   },
   {
    "duration": 13,
    "start_time": "2021-06-26T00:27:33.910Z"
   },
   {
    "duration": 5026,
    "start_time": "2021-06-26T00:45:01.107Z"
   },
   {
    "duration": 5530,
    "start_time": "2021-06-26T00:45:43.180Z"
   },
   {
    "duration": 4702,
    "start_time": "2021-06-26T00:47:59.324Z"
   },
   {
    "duration": 8,
    "start_time": "2021-06-26T00:49:03.059Z"
   },
   {
    "duration": 42,
    "start_time": "2021-06-26T00:52:57.849Z"
   },
   {
    "duration": 4,
    "start_time": "2021-06-26T00:53:52.010Z"
   },
   {
    "duration": 63,
    "start_time": "2021-06-26T00:54:56.524Z"
   },
   {
    "duration": 6,
    "start_time": "2021-06-26T00:58:52.535Z"
   },
   {
    "duration": 22,
    "start_time": "2021-06-26T00:59:36.626Z"
   },
   {
    "duration": 23,
    "start_time": "2021-06-26T01:00:28.601Z"
   },
   {
    "duration": 4,
    "start_time": "2021-06-26T01:10:36.757Z"
   },
   {
    "duration": 6,
    "start_time": "2021-06-26T01:10:53.007Z"
   },
   {
    "duration": 17,
    "start_time": "2021-06-26T01:12:08.902Z"
   },
   {
    "duration": 15,
    "start_time": "2021-06-26T01:24:23.628Z"
   },
   {
    "duration": 15,
    "start_time": "2021-06-26T01:24:39.948Z"
   },
   {
    "duration": 33,
    "start_time": "2021-06-26T01:24:41.583Z"
   },
   {
    "duration": 32,
    "start_time": "2021-06-26T01:25:42.246Z"
   },
   {
    "duration": 15,
    "start_time": "2021-06-26T01:25:49.683Z"
   },
   {
    "duration": 32,
    "start_time": "2021-06-26T01:25:51.296Z"
   },
   {
    "duration": 63,
    "start_time": "2021-06-26T01:26:30.741Z"
   },
   {
    "duration": 32,
    "start_time": "2021-06-26T01:26:43.148Z"
   },
   {
    "duration": 14,
    "start_time": "2021-06-26T01:27:19.640Z"
   },
   {
    "duration": 573,
    "start_time": "2021-06-26T01:27:58.629Z"
   },
   {
    "duration": 7,
    "start_time": "2021-06-26T01:28:01.636Z"
   },
   {
    "duration": 10,
    "start_time": "2021-06-26T01:28:02.693Z"
   },
   {
    "duration": 7,
    "start_time": "2021-06-26T01:28:04.404Z"
   },
   {
    "duration": 7,
    "start_time": "2021-06-26T01:28:05.756Z"
   },
   {
    "duration": 4,
    "start_time": "2021-06-26T01:28:07.157Z"
   },
   {
    "duration": 6,
    "start_time": "2021-06-26T01:28:08.421Z"
   },
   {
    "duration": 24,
    "start_time": "2021-06-26T01:28:11.702Z"
   },
   {
    "duration": 7,
    "start_time": "2021-06-26T01:28:13.684Z"
   },
   {
    "duration": 26,
    "start_time": "2021-06-26T01:28:16.716Z"
   },
   {
    "duration": 22,
    "start_time": "2021-06-26T01:28:19.027Z"
   },
   {
    "duration": 6,
    "start_time": "2021-06-26T01:28:26.037Z"
   },
   {
    "duration": 6,
    "start_time": "2021-06-26T01:28:27.996Z"
   },
   {
    "duration": 8,
    "start_time": "2021-06-26T01:28:29.044Z"
   },
   {
    "duration": 13,
    "start_time": "2021-06-26T01:28:37.733Z"
   },
   {
    "duration": 12,
    "start_time": "2021-06-26T01:28:39.588Z"
   },
   {
    "duration": 12,
    "start_time": "2021-06-26T01:28:40.757Z"
   },
   {
    "duration": 13,
    "start_time": "2021-06-26T01:28:42.109Z"
   },
   {
    "duration": 14,
    "start_time": "2021-06-26T01:28:43.196Z"
   },
   {
    "duration": 43,
    "start_time": "2021-06-26T01:28:48.172Z"
   },
   {
    "duration": 5,
    "start_time": "2021-06-26T01:28:51.652Z"
   },
   {
    "duration": 6,
    "start_time": "2021-06-26T01:28:53.774Z"
   },
   {
    "duration": 22,
    "start_time": "2021-06-26T01:28:55.196Z"
   },
   {
    "duration": 22,
    "start_time": "2021-06-26T01:28:56.941Z"
   },
   {
    "duration": 5,
    "start_time": "2021-06-26T01:28:59.052Z"
   },
   {
    "duration": 6,
    "start_time": "2021-06-26T01:29:00.892Z"
   },
   {
    "duration": 19,
    "start_time": "2021-06-26T01:29:09.092Z"
   },
   {
    "duration": 14,
    "start_time": "2021-06-26T01:29:15.844Z"
   },
   {
    "duration": 16,
    "start_time": "2021-06-26T01:29:20.557Z"
   },
   {
    "duration": 33,
    "start_time": "2021-06-26T01:29:27.827Z"
   },
   {
    "duration": 7,
    "start_time": "2021-06-26T01:38:53.171Z"
   },
   {
    "duration": 18,
    "start_time": "2021-06-26T01:40:08.962Z"
   },
   {
    "duration": 23,
    "start_time": "2021-06-26T01:51:43.151Z"
   },
   {
    "duration": 8,
    "start_time": "2021-06-26T01:52:05.465Z"
   },
   {
    "duration": 31,
    "start_time": "2021-06-26T02:12:25.603Z"
   },
   {
    "duration": 16,
    "start_time": "2021-06-26T02:13:46.820Z"
   },
   {
    "duration": 19,
    "start_time": "2021-06-26T02:13:53.827Z"
   },
   {
    "duration": 16,
    "start_time": "2021-06-26T02:13:57.780Z"
   },
   {
    "duration": 15,
    "start_time": "2021-06-26T02:16:18.011Z"
   },
   {
    "duration": 7,
    "start_time": "2021-06-26T02:18:46.956Z"
   },
   {
    "duration": 16,
    "start_time": "2021-06-26T02:18:48.498Z"
   },
   {
    "duration": 7,
    "start_time": "2021-06-26T02:18:50.243Z"
   },
   {
    "duration": 17,
    "start_time": "2021-06-26T02:18:51.179Z"
   },
   {
    "duration": 7,
    "start_time": "2021-06-26T02:18:52.796Z"
   },
   {
    "duration": 11,
    "start_time": "2021-06-26T02:18:53.802Z"
   },
   {
    "duration": 7,
    "start_time": "2021-06-26T02:18:55.219Z"
   },
   {
    "duration": 20,
    "start_time": "2021-06-26T02:18:58.185Z"
   },
   {
    "duration": 30,
    "start_time": "2021-06-26T02:22:31.745Z"
   },
   {
    "duration": 5,
    "start_time": "2021-06-26T02:24:08.650Z"
   },
   {
    "duration": 7,
    "start_time": "2021-06-26T02:24:09.923Z"
   },
   {
    "duration": 5,
    "start_time": "2021-06-26T02:24:16.666Z"
   },
   {
    "duration": 642,
    "start_time": "2021-06-26T02:24:18.098Z"
   },
   {
    "duration": 4,
    "start_time": "2021-06-26T02:24:21.467Z"
   },
   {
    "duration": 2756,
    "start_time": "2021-06-26T02:24:22.691Z"
   },
   {
    "duration": 292,
    "start_time": "2021-06-26T02:26:14.618Z"
   },
   {
    "duration": 81,
    "start_time": "2021-06-26T02:26:26.778Z"
   },
   {
    "duration": 6,
    "start_time": "2021-06-26T02:26:45.739Z"
   },
   {
    "duration": 668,
    "start_time": "2021-06-26T02:26:51.962Z"
   },
   {
    "duration": 5,
    "start_time": "2021-06-26T02:26:52.632Z"
   },
   {
    "duration": 10,
    "start_time": "2021-06-26T02:26:52.639Z"
   },
   {
    "duration": 6,
    "start_time": "2021-06-26T02:26:52.651Z"
   },
   {
    "duration": 27,
    "start_time": "2021-06-26T02:26:52.658Z"
   },
   {
    "duration": 6,
    "start_time": "2021-06-26T02:26:52.686Z"
   },
   {
    "duration": 8,
    "start_time": "2021-06-26T02:26:52.693Z"
   },
   {
    "duration": 20,
    "start_time": "2021-06-26T02:26:52.703Z"
   },
   {
    "duration": 6,
    "start_time": "2021-06-26T02:26:52.724Z"
   },
   {
    "duration": 54,
    "start_time": "2021-06-26T02:26:52.731Z"
   },
   {
    "duration": 23,
    "start_time": "2021-06-26T02:26:52.786Z"
   },
   {
    "duration": 8,
    "start_time": "2021-06-26T02:26:52.811Z"
   },
   {
    "duration": 6,
    "start_time": "2021-06-26T02:26:52.821Z"
   },
   {
    "duration": 9,
    "start_time": "2021-06-26T02:26:52.829Z"
   },
   {
    "duration": 49,
    "start_time": "2021-06-26T02:26:52.840Z"
   },
   {
    "duration": 13,
    "start_time": "2021-06-26T02:26:52.891Z"
   },
   {
    "duration": 12,
    "start_time": "2021-06-26T02:26:52.906Z"
   },
   {
    "duration": 13,
    "start_time": "2021-06-26T02:26:52.920Z"
   },
   {
    "duration": 14,
    "start_time": "2021-06-26T02:26:52.934Z"
   },
   {
    "duration": 72,
    "start_time": "2021-06-26T02:26:52.950Z"
   },
   {
    "duration": 3,
    "start_time": "2021-06-26T02:26:53.024Z"
   },
   {
    "duration": 7,
    "start_time": "2021-06-26T02:26:53.029Z"
   },
   {
    "duration": 21,
    "start_time": "2021-06-26T02:26:53.039Z"
   },
   {
    "duration": 42,
    "start_time": "2021-06-26T02:26:53.062Z"
   },
   {
    "duration": 4,
    "start_time": "2021-06-26T02:26:53.106Z"
   },
   {
    "duration": 6,
    "start_time": "2021-06-26T02:26:53.111Z"
   },
   {
    "duration": 16,
    "start_time": "2021-06-26T02:26:53.118Z"
   },
   {
    "duration": 13,
    "start_time": "2021-06-26T02:26:53.135Z"
   },
   {
    "duration": 15,
    "start_time": "2021-06-26T02:26:53.184Z"
   },
   {
    "duration": 38,
    "start_time": "2021-06-26T02:26:53.201Z"
   },
   {
    "duration": 20,
    "start_time": "2021-06-26T02:26:53.241Z"
   },
   {
    "duration": 26,
    "start_time": "2021-06-26T02:26:53.285Z"
   },
   {
    "duration": 21,
    "start_time": "2021-06-26T02:26:53.313Z"
   },
   {
    "duration": 8,
    "start_time": "2021-06-26T02:26:53.335Z"
   },
   {
    "duration": 42,
    "start_time": "2021-06-26T02:26:53.345Z"
   },
   {
    "duration": 7,
    "start_time": "2021-06-26T02:26:53.388Z"
   },
   {
    "duration": 19,
    "start_time": "2021-06-26T02:26:53.396Z"
   },
   {
    "duration": 7,
    "start_time": "2021-06-26T02:26:53.417Z"
   },
   {
    "duration": 12,
    "start_time": "2021-06-26T02:26:53.425Z"
   },
   {
    "duration": 6,
    "start_time": "2021-06-26T02:26:53.438Z"
   },
   {
    "duration": 51,
    "start_time": "2021-06-26T02:26:53.446Z"
   },
   {
    "duration": 32,
    "start_time": "2021-06-26T02:26:53.499Z"
   },
   {
    "duration": 4,
    "start_time": "2021-06-26T02:26:53.533Z"
   },
   {
    "duration": 8,
    "start_time": "2021-06-26T02:26:53.538Z"
   },
   {
    "duration": 8,
    "start_time": "2021-06-26T02:26:53.547Z"
   },
   {
    "duration": 673,
    "start_time": "2021-06-26T02:26:53.556Z"
   },
   {
    "duration": 4,
    "start_time": "2021-06-26T02:26:54.230Z"
   },
   {
    "duration": 2386,
    "start_time": "2021-06-26T02:26:54.235Z"
   },
   {
    "duration": 17,
    "start_time": "2021-06-26T02:26:56.623Z"
   },
   {
    "duration": 4,
    "start_time": "2021-06-26T02:26:56.642Z"
   },
   {
    "duration": 5,
    "start_time": "2021-06-26T02:26:56.647Z"
   },
   {
    "duration": 5,
    "start_time": "2021-06-26T02:26:56.653Z"
   },
   {
    "duration": 59,
    "start_time": "2021-06-26T02:26:56.659Z"
   },
   {
    "duration": 23,
    "start_time": "2021-06-26T02:26:56.720Z"
   },
   {
    "duration": 9,
    "start_time": "2021-06-26T02:26:56.744Z"
   },
   {
    "duration": 42,
    "start_time": "2021-06-26T02:26:56.755Z"
   },
   {
    "duration": 10,
    "start_time": "2021-06-26T02:26:56.798Z"
   },
   {
    "duration": 22,
    "start_time": "2021-06-26T02:26:56.810Z"
   },
   {
    "duration": 9,
    "start_time": "2021-06-26T02:26:56.834Z"
   },
   {
    "duration": 48,
    "start_time": "2021-06-26T02:26:56.844Z"
   },
   {
    "duration": 7,
    "start_time": "2021-06-26T02:26:56.894Z"
   },
   {
    "duration": 14,
    "start_time": "2021-06-26T02:26:56.902Z"
   },
   {
    "duration": 8,
    "start_time": "2021-06-26T02:26:56.918Z"
   },
   {
    "duration": 7,
    "start_time": "2021-06-26T02:26:56.927Z"
   },
   {
    "duration": 11,
    "start_time": "2021-06-26T02:26:56.936Z"
   },
   {
    "duration": 15,
    "start_time": "2021-06-26T02:26:56.948Z"
   },
   {
    "duration": 13,
    "start_time": "2021-06-26T02:27:26.934Z"
   },
   {
    "duration": 24,
    "start_time": "2021-06-26T02:34:57.838Z"
   },
   {
    "duration": 13,
    "start_time": "2021-06-26T02:35:28.379Z"
   },
   {
    "duration": 10,
    "start_time": "2021-06-26T02:44:38.963Z"
   },
   {
    "duration": 11,
    "start_time": "2021-06-26T02:44:46.065Z"
   },
   {
    "duration": 12,
    "start_time": "2021-06-26T02:45:04.050Z"
   },
   {
    "duration": 15,
    "start_time": "2021-06-26T02:45:45.613Z"
   },
   {
    "duration": 23,
    "start_time": "2021-06-26T02:49:01.738Z"
   },
   {
    "duration": 29,
    "start_time": "2021-06-26T02:49:32.737Z"
   },
   {
    "duration": 295,
    "start_time": "2021-06-26T02:50:09.664Z"
   },
   {
    "duration": 212,
    "start_time": "2021-06-26T02:50:32.026Z"
   },
   {
    "duration": 31,
    "start_time": "2021-06-26T02:51:03.777Z"
   },
   {
    "duration": 31,
    "start_time": "2021-06-26T02:53:46.401Z"
   },
   {
    "duration": 206,
    "start_time": "2021-06-26T02:54:18.441Z"
   },
   {
    "duration": 27,
    "start_time": "2021-06-26T02:54:28.176Z"
   },
   {
    "duration": 26,
    "start_time": "2021-06-26T02:57:58.885Z"
   },
   {
    "duration": 28,
    "start_time": "2021-06-26T02:58:31.265Z"
   },
   {
    "duration": 28,
    "start_time": "2021-06-26T02:59:02.207Z"
   },
   {
    "duration": 628,
    "start_time": "2021-06-26T03:47:35.250Z"
   },
   {
    "duration": 5,
    "start_time": "2021-06-26T03:47:35.880Z"
   },
   {
    "duration": 9,
    "start_time": "2021-06-26T03:47:35.887Z"
   },
   {
    "duration": 5,
    "start_time": "2021-06-26T03:47:35.898Z"
   },
   {
    "duration": 6,
    "start_time": "2021-06-26T03:47:35.905Z"
   },
   {
    "duration": 4,
    "start_time": "2021-06-26T03:47:35.912Z"
   },
   {
    "duration": 7,
    "start_time": "2021-06-26T03:47:35.918Z"
   },
   {
    "duration": 58,
    "start_time": "2021-06-26T03:47:35.927Z"
   },
   {
    "duration": 7,
    "start_time": "2021-06-26T03:47:35.987Z"
   },
   {
    "duration": 24,
    "start_time": "2021-06-26T03:47:35.995Z"
   },
   {
    "duration": 21,
    "start_time": "2021-06-26T03:47:36.021Z"
   },
   {
    "duration": 6,
    "start_time": "2021-06-26T03:47:36.044Z"
   },
   {
    "duration": 35,
    "start_time": "2021-06-26T03:47:36.051Z"
   },
   {
    "duration": 9,
    "start_time": "2021-06-26T03:47:36.088Z"
   },
   {
    "duration": 12,
    "start_time": "2021-06-26T03:47:36.099Z"
   },
   {
    "duration": 11,
    "start_time": "2021-06-26T03:47:36.112Z"
   },
   {
    "duration": 10,
    "start_time": "2021-06-26T03:47:36.125Z"
   },
   {
    "duration": 48,
    "start_time": "2021-06-26T03:47:36.137Z"
   },
   {
    "duration": 13,
    "start_time": "2021-06-26T03:47:36.187Z"
   },
   {
    "duration": 41,
    "start_time": "2021-06-26T03:47:36.202Z"
   },
   {
    "duration": 5,
    "start_time": "2021-06-26T03:47:36.244Z"
   },
   {
    "duration": 9,
    "start_time": "2021-06-26T03:47:36.250Z"
   },
   {
    "duration": 23,
    "start_time": "2021-06-26T03:47:36.284Z"
   },
   {
    "duration": 24,
    "start_time": "2021-06-26T03:47:36.309Z"
   },
   {
    "duration": 6,
    "start_time": "2021-06-26T03:47:36.335Z"
   },
   {
    "duration": 9,
    "start_time": "2021-06-26T03:47:36.342Z"
   },
   {
    "duration": 45,
    "start_time": "2021-06-26T03:47:36.353Z"
   },
   {
    "duration": 13,
    "start_time": "2021-06-26T03:47:36.399Z"
   },
   {
    "duration": 15,
    "start_time": "2021-06-26T03:47:36.413Z"
   },
   {
    "duration": 30,
    "start_time": "2021-06-26T03:47:36.429Z"
   },
   {
    "duration": 17,
    "start_time": "2021-06-26T03:47:36.484Z"
   },
   {
    "duration": 17,
    "start_time": "2021-06-26T03:47:36.502Z"
   },
   {
    "duration": 15,
    "start_time": "2021-06-26T03:47:36.521Z"
   },
   {
    "duration": 6,
    "start_time": "2021-06-26T03:47:36.537Z"
   },
   {
    "duration": 45,
    "start_time": "2021-06-26T03:47:36.545Z"
   },
   {
    "duration": 6,
    "start_time": "2021-06-26T03:47:36.592Z"
   },
   {
    "duration": 18,
    "start_time": "2021-06-26T03:47:36.600Z"
   },
   {
    "duration": 9,
    "start_time": "2021-06-26T03:47:36.619Z"
   },
   {
    "duration": 11,
    "start_time": "2021-06-26T03:47:36.629Z"
   },
   {
    "duration": 7,
    "start_time": "2021-06-26T03:47:36.641Z"
   },
   {
    "duration": 51,
    "start_time": "2021-06-26T03:47:36.649Z"
   },
   {
    "duration": 30,
    "start_time": "2021-06-26T03:47:36.702Z"
   },
   {
    "duration": 4,
    "start_time": "2021-06-26T03:47:36.733Z"
   },
   {
    "duration": 10,
    "start_time": "2021-06-26T03:47:36.739Z"
   },
   {
    "duration": 6,
    "start_time": "2021-06-26T03:47:36.751Z"
   },
   {
    "duration": 665,
    "start_time": "2021-06-26T03:47:36.758Z"
   },
   {
    "duration": 4,
    "start_time": "2021-06-26T03:47:37.425Z"
   },
   {
    "duration": 2476,
    "start_time": "2021-06-26T03:47:37.431Z"
   },
   {
    "duration": 11,
    "start_time": "2021-06-26T03:47:39.909Z"
   },
   {
    "duration": 3,
    "start_time": "2021-06-26T03:47:39.922Z"
   },
   {
    "duration": 8,
    "start_time": "2021-06-26T03:47:39.927Z"
   },
   {
    "duration": 7,
    "start_time": "2021-06-26T03:47:39.936Z"
   },
   {
    "duration": 54,
    "start_time": "2021-06-26T03:47:39.945Z"
   },
   {
    "duration": 25,
    "start_time": "2021-06-26T03:47:40.001Z"
   },
   {
    "duration": 9,
    "start_time": "2021-06-26T03:47:40.028Z"
   },
   {
    "duration": 46,
    "start_time": "2021-06-26T03:47:40.039Z"
   },
   {
    "duration": 9,
    "start_time": "2021-06-26T03:47:40.086Z"
   },
   {
    "duration": 21,
    "start_time": "2021-06-26T03:47:40.097Z"
   },
   {
    "duration": 8,
    "start_time": "2021-06-26T03:47:40.120Z"
   },
   {
    "duration": 29,
    "start_time": "2021-06-26T03:47:40.130Z"
   },
   {
    "duration": 43,
    "start_time": "2021-06-26T03:47:40.161Z"
   },
   {
    "duration": 7,
    "start_time": "2021-06-26T03:47:40.206Z"
   },
   {
    "duration": 8,
    "start_time": "2021-06-26T03:47:40.214Z"
   },
   {
    "duration": 7,
    "start_time": "2021-06-26T03:47:40.224Z"
   },
   {
    "duration": 7,
    "start_time": "2021-06-26T03:47:40.233Z"
   },
   {
    "duration": 8,
    "start_time": "2021-06-26T03:47:40.242Z"
   },
   {
    "duration": 41,
    "start_time": "2021-06-26T03:47:40.252Z"
   },
   {
    "duration": 931,
    "start_time": "2021-06-26T16:09:34.953Z"
   },
   {
    "duration": 8,
    "start_time": "2021-06-26T16:09:35.887Z"
   },
   {
    "duration": 14,
    "start_time": "2021-06-26T16:09:35.898Z"
   },
   {
    "duration": 10,
    "start_time": "2021-06-26T16:09:35.915Z"
   },
   {
    "duration": 9,
    "start_time": "2021-06-26T16:09:35.962Z"
   },
   {
    "duration": 7,
    "start_time": "2021-06-26T16:09:35.974Z"
   },
   {
    "duration": 8,
    "start_time": "2021-06-26T16:09:35.984Z"
   },
   {
    "duration": 74,
    "start_time": "2021-06-26T16:09:35.997Z"
   },
   {
    "duration": 9,
    "start_time": "2021-06-26T16:09:36.075Z"
   },
   {
    "duration": 44,
    "start_time": "2021-06-26T16:09:36.086Z"
   },
   {
    "duration": 38,
    "start_time": "2021-06-26T16:09:36.163Z"
   },
   {
    "duration": 14,
    "start_time": "2021-06-26T16:09:36.203Z"
   },
   {
    "duration": 42,
    "start_time": "2021-06-26T16:09:36.220Z"
   },
   {
    "duration": 13,
    "start_time": "2021-06-26T16:09:36.264Z"
   },
   {
    "duration": 18,
    "start_time": "2021-06-26T16:09:36.280Z"
   },
   {
    "duration": 18,
    "start_time": "2021-06-26T16:09:36.300Z"
   },
   {
    "duration": 17,
    "start_time": "2021-06-26T16:09:36.363Z"
   },
   {
    "duration": 18,
    "start_time": "2021-06-26T16:09:36.383Z"
   },
   {
    "duration": 57,
    "start_time": "2021-06-26T16:09:36.404Z"
   },
   {
    "duration": 67,
    "start_time": "2021-06-26T16:09:36.463Z"
   },
   {
    "duration": 6,
    "start_time": "2021-06-26T16:09:36.532Z"
   },
   {
    "duration": 29,
    "start_time": "2021-06-26T16:09:36.540Z"
   },
   {
    "duration": 35,
    "start_time": "2021-06-26T16:09:36.578Z"
   },
   {
    "duration": 66,
    "start_time": "2021-06-26T16:09:36.617Z"
   },
   {
    "duration": 9,
    "start_time": "2021-06-26T16:09:36.686Z"
   },
   {
    "duration": 8,
    "start_time": "2021-06-26T16:09:36.698Z"
   },
   {
    "duration": 58,
    "start_time": "2021-06-26T16:09:36.710Z"
   },
   {
    "duration": 19,
    "start_time": "2021-06-26T16:09:36.770Z"
   },
   {
    "duration": 24,
    "start_time": "2021-06-26T16:09:36.791Z"
   },
   {
    "duration": 87,
    "start_time": "2021-06-26T16:09:36.818Z"
   },
   {
    "duration": 27,
    "start_time": "2021-06-26T16:09:36.907Z"
   },
   {
    "duration": 48,
    "start_time": "2021-06-26T16:09:36.936Z"
   },
   {
    "duration": 24,
    "start_time": "2021-06-26T16:09:36.986Z"
   },
   {
    "duration": 9,
    "start_time": "2021-06-26T16:09:37.012Z"
   },
   {
    "duration": 50,
    "start_time": "2021-06-26T16:09:37.025Z"
   },
   {
    "duration": 14,
    "start_time": "2021-06-26T16:09:37.078Z"
   },
   {
    "duration": 24,
    "start_time": "2021-06-26T16:09:37.095Z"
   },
   {
    "duration": 42,
    "start_time": "2021-06-26T16:09:37.122Z"
   },
   {
    "duration": 28,
    "start_time": "2021-06-26T16:09:37.167Z"
   },
   {
    "duration": 9,
    "start_time": "2021-06-26T16:09:37.197Z"
   },
   {
    "duration": 55,
    "start_time": "2021-06-26T16:09:37.209Z"
   },
   {
    "duration": 47,
    "start_time": "2021-06-26T16:09:37.266Z"
   },
   {
    "duration": 9,
    "start_time": "2021-06-26T16:09:37.315Z"
   },
   {
    "duration": 9,
    "start_time": "2021-06-26T16:09:37.327Z"
   },
   {
    "duration": 5,
    "start_time": "2021-06-26T16:09:37.363Z"
   },
   {
    "duration": 932,
    "start_time": "2021-06-26T16:09:37.370Z"
   },
   {
    "duration": 4,
    "start_time": "2021-06-26T16:09:38.305Z"
   },
   {
    "duration": 3396,
    "start_time": "2021-06-26T16:09:38.312Z"
   },
   {
    "duration": 18,
    "start_time": "2021-06-26T16:09:41.710Z"
   },
   {
    "duration": 31,
    "start_time": "2021-06-26T16:09:41.731Z"
   },
   {
    "duration": 28,
    "start_time": "2021-06-26T16:09:41.764Z"
   },
   {
    "duration": 15,
    "start_time": "2021-06-26T16:09:41.794Z"
   },
   {
    "duration": 111,
    "start_time": "2021-06-26T16:09:41.813Z"
   },
   {
    "duration": 63,
    "start_time": "2021-06-26T16:09:41.927Z"
   },
   {
    "duration": 19,
    "start_time": "2021-06-26T16:09:41.994Z"
   },
   {
    "duration": 83,
    "start_time": "2021-06-26T16:09:42.016Z"
   },
   {
    "duration": 22,
    "start_time": "2021-06-26T16:09:42.103Z"
   },
   {
    "duration": 73,
    "start_time": "2021-06-26T16:09:42.128Z"
   },
   {
    "duration": 19,
    "start_time": "2021-06-26T16:09:42.204Z"
   },
   {
    "duration": 81,
    "start_time": "2021-06-26T16:09:42.226Z"
   },
   {
    "duration": 72,
    "start_time": "2021-06-26T16:09:42.310Z"
   },
   {
    "duration": 15,
    "start_time": "2021-06-26T16:09:42.385Z"
   },
   {
    "duration": 18,
    "start_time": "2021-06-26T16:09:42.404Z"
   },
   {
    "duration": 41,
    "start_time": "2021-06-26T16:09:42.425Z"
   },
   {
    "duration": 17,
    "start_time": "2021-06-26T16:09:42.469Z"
   },
   {
    "duration": 12,
    "start_time": "2021-06-26T16:09:42.489Z"
   },
   {
    "duration": 58,
    "start_time": "2021-06-26T16:09:42.504Z"
   },
   {
    "duration": 32,
    "start_time": "2021-06-26T16:10:31.299Z"
   },
   {
    "duration": 34,
    "start_time": "2021-06-26T16:10:47.413Z"
   }
  ],
  "kernelspec": {
   "display_name": "Python 3 (ipykernel)",
   "language": "python",
   "name": "python3"
  },
  "language_info": {
   "codemirror_mode": {
    "name": "ipython",
    "version": 3
   },
   "file_extension": ".py",
   "mimetype": "text/x-python",
   "name": "python",
   "nbconvert_exporter": "python",
   "pygments_lexer": "ipython3",
   "version": "3.10.0"
  },
  "toc": {
   "base_numbering": 1,
   "nav_menu": {},
   "number_sections": true,
   "sideBar": true,
   "skip_h1_title": true,
   "title_cell": "Table of Contents",
   "title_sidebar": "Contents",
   "toc_cell": false,
   "toc_position": {},
   "toc_section_display": true,
   "toc_window_display": false
  }
 },
 "nbformat": 4,
 "nbformat_minor": 2
}
