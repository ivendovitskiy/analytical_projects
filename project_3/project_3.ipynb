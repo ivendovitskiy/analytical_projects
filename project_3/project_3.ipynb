{
 "cells": [
  {
   "cell_type": "markdown",
   "metadata": {},
   "source": [
    "# Описание проекта"
   ]
  },
  {
   "cell_type": "markdown",
   "metadata": {},
   "source": [
    "Вы аналитик компании «Мегалайн» — федерального оператора сотовой связи. Клиентам предлагают два тарифных плана: «Смарт» и «Ультра». Чтобы скорректировать рекламный бюджет, коммерческий департамент хочет понять, какой тариф приносит больше денег.\n",
    "\n",
    "Вам предстоит сделать предварительный анализ тарифов на небольшой выборке клиентов. В вашем распоряжении данные 500 пользователей «Мегалайна»: кто они, откуда, каким тарифом пользуются, сколько звонков и сообщений каждый отправил за 2018 год. Нужно проанализировать поведение клиентов и сделать вывод — какой тариф лучше."
   ]
  },
  {
   "cell_type": "markdown",
   "metadata": {},
   "source": [
    "# Описание тарифов"
   ]
  },
  {
   "cell_type": "markdown",
   "metadata": {},
   "source": [
    "**Тариф «Смарт»**\n",
    "\n",
    "1. Ежемесячная плата: 550 рублей\n",
    "2. Включено 500 минут разговора, 50 сообщений и 15 Гб интернет-трафика\n",
    "3. Стоимость услуг сверх тарифного пакета:\n",
    "    * минута разговора: 3 рубля («Мегалайн» всегда округляет вверх значения минут и мегабайтов. Если пользователь проговорил всего 1 секунду, в тарифе засчитывается целая минута); \n",
    "    * сообщение: 3 рубля;\n",
    "    * 1 Гб интернет-трафика: 200 рублей.\n",
    "\n",
    "**Тариф «Ультра»**\n",
    "\n",
    "1. Ежемесячная плата: 1950 рублей\n",
    "2. Включено 3000 минут разговора, 1000 сообщений и 30 Гб интернет-трафика\n",
    "3. Стоимость услуг сверх тарифного пакета: \n",
    "    * минута разговора: 1 рубль;\n",
    "    * сообщение: 1 рубль;\n",
    "    * 1 Гб интернет-трафика: 150 рублей."
   ]
  },
  {
   "cell_type": "markdown",
   "metadata": {},
   "source": [
    "## Изучение общей информации о данных"
   ]
  },
  {
   "cell_type": "markdown",
   "metadata": {},
   "source": [
    "Подключим библиотеки, необходимые в данном проекте"
   ]
  },
  {
   "cell_type": "code",
   "execution_count": 1,
   "metadata": {},
   "outputs": [],
   "source": [
    "import pandas as pd #библиотека для работы с табличными типами данных\n",
    "import math #библиотека для использования более продвинутых математических функций\n",
    "import datetime as dt #библиотека для работы с типом данных datetime\n",
    "import numpy as np #библиотека для использования формул из математической статистики\n",
    "import matplotlib.pyplot as plt #библиотека для построения графиков"
   ]
  },
  {
   "cell_type": "markdown",
   "metadata": {},
   "source": [
    "Создадим новые переменные: *calls, messages, internet, tariffs, users* и загрузим в них значения соответствующих файлов"
   ]
  },
  {
   "cell_type": "code",
   "execution_count": 2,
   "metadata": {},
   "outputs": [],
   "source": [
    "calls = pd.read_csv('/datasets/calls.csv')\n",
    "messages = pd.read_csv('/datasets/messages.csv')\n",
    "internet = pd.read_csv('/datasets/internet.csv')\n",
    "tariffs = pd.read_csv('/datasets/tariffs.csv')\n",
    "users = pd.read_csv('/datasets/users.csv')\n",
    "\n",
    "data = [calls, messages, internet, tariffs, users]"
   ]
  },
  {
   "cell_type": "markdown",
   "metadata": {},
   "source": [
    "Проверим, насколько корректно выгрузились данные"
   ]
  },
  {
   "cell_type": "code",
   "execution_count": 3,
   "metadata": {},
   "outputs": [
    {
     "data": {
      "text/html": [
       "<div>\n",
       "<style scoped>\n",
       "    .dataframe tbody tr th:only-of-type {\n",
       "        vertical-align: middle;\n",
       "    }\n",
       "\n",
       "    .dataframe tbody tr th {\n",
       "        vertical-align: top;\n",
       "    }\n",
       "\n",
       "    .dataframe thead th {\n",
       "        text-align: right;\n",
       "    }\n",
       "</style>\n",
       "<table border=\"1\" class=\"dataframe\">\n",
       "  <thead>\n",
       "    <tr style=\"text-align: right;\">\n",
       "      <th></th>\n",
       "      <th>id</th>\n",
       "      <th>call_date</th>\n",
       "      <th>duration</th>\n",
       "      <th>user_id</th>\n",
       "    </tr>\n",
       "  </thead>\n",
       "  <tbody>\n",
       "    <tr>\n",
       "      <td>0</td>\n",
       "      <td>1000_0</td>\n",
       "      <td>2018-07-25</td>\n",
       "      <td>0.00</td>\n",
       "      <td>1000</td>\n",
       "    </tr>\n",
       "    <tr>\n",
       "      <td>1</td>\n",
       "      <td>1000_1</td>\n",
       "      <td>2018-08-17</td>\n",
       "      <td>0.00</td>\n",
       "      <td>1000</td>\n",
       "    </tr>\n",
       "    <tr>\n",
       "      <td>2</td>\n",
       "      <td>1000_2</td>\n",
       "      <td>2018-06-11</td>\n",
       "      <td>2.85</td>\n",
       "      <td>1000</td>\n",
       "    </tr>\n",
       "    <tr>\n",
       "      <td>3</td>\n",
       "      <td>1000_3</td>\n",
       "      <td>2018-09-21</td>\n",
       "      <td>13.80</td>\n",
       "      <td>1000</td>\n",
       "    </tr>\n",
       "    <tr>\n",
       "      <td>4</td>\n",
       "      <td>1000_4</td>\n",
       "      <td>2018-12-15</td>\n",
       "      <td>5.18</td>\n",
       "      <td>1000</td>\n",
       "    </tr>\n",
       "  </tbody>\n",
       "</table>\n",
       "</div>"
      ],
      "text/plain": [
       "       id   call_date  duration  user_id\n",
       "0  1000_0  2018-07-25      0.00     1000\n",
       "1  1000_1  2018-08-17      0.00     1000\n",
       "2  1000_2  2018-06-11      2.85     1000\n",
       "3  1000_3  2018-09-21     13.80     1000\n",
       "4  1000_4  2018-12-15      5.18     1000"
      ]
     },
     "metadata": {},
     "output_type": "display_data"
    },
    {
     "data": {
      "text/html": [
       "<div>\n",
       "<style scoped>\n",
       "    .dataframe tbody tr th:only-of-type {\n",
       "        vertical-align: middle;\n",
       "    }\n",
       "\n",
       "    .dataframe tbody tr th {\n",
       "        vertical-align: top;\n",
       "    }\n",
       "\n",
       "    .dataframe thead th {\n",
       "        text-align: right;\n",
       "    }\n",
       "</style>\n",
       "<table border=\"1\" class=\"dataframe\">\n",
       "  <thead>\n",
       "    <tr style=\"text-align: right;\">\n",
       "      <th></th>\n",
       "      <th>id</th>\n",
       "      <th>message_date</th>\n",
       "      <th>user_id</th>\n",
       "    </tr>\n",
       "  </thead>\n",
       "  <tbody>\n",
       "    <tr>\n",
       "      <td>0</td>\n",
       "      <td>1000_0</td>\n",
       "      <td>2018-06-27</td>\n",
       "      <td>1000</td>\n",
       "    </tr>\n",
       "    <tr>\n",
       "      <td>1</td>\n",
       "      <td>1000_1</td>\n",
       "      <td>2018-10-08</td>\n",
       "      <td>1000</td>\n",
       "    </tr>\n",
       "    <tr>\n",
       "      <td>2</td>\n",
       "      <td>1000_2</td>\n",
       "      <td>2018-08-04</td>\n",
       "      <td>1000</td>\n",
       "    </tr>\n",
       "    <tr>\n",
       "      <td>3</td>\n",
       "      <td>1000_3</td>\n",
       "      <td>2018-06-16</td>\n",
       "      <td>1000</td>\n",
       "    </tr>\n",
       "    <tr>\n",
       "      <td>4</td>\n",
       "      <td>1000_4</td>\n",
       "      <td>2018-12-05</td>\n",
       "      <td>1000</td>\n",
       "    </tr>\n",
       "  </tbody>\n",
       "</table>\n",
       "</div>"
      ],
      "text/plain": [
       "       id message_date  user_id\n",
       "0  1000_0   2018-06-27     1000\n",
       "1  1000_1   2018-10-08     1000\n",
       "2  1000_2   2018-08-04     1000\n",
       "3  1000_3   2018-06-16     1000\n",
       "4  1000_4   2018-12-05     1000"
      ]
     },
     "metadata": {},
     "output_type": "display_data"
    },
    {
     "data": {
      "text/html": [
       "<div>\n",
       "<style scoped>\n",
       "    .dataframe tbody tr th:only-of-type {\n",
       "        vertical-align: middle;\n",
       "    }\n",
       "\n",
       "    .dataframe tbody tr th {\n",
       "        vertical-align: top;\n",
       "    }\n",
       "\n",
       "    .dataframe thead th {\n",
       "        text-align: right;\n",
       "    }\n",
       "</style>\n",
       "<table border=\"1\" class=\"dataframe\">\n",
       "  <thead>\n",
       "    <tr style=\"text-align: right;\">\n",
       "      <th></th>\n",
       "      <th>Unnamed: 0</th>\n",
       "      <th>id</th>\n",
       "      <th>mb_used</th>\n",
       "      <th>session_date</th>\n",
       "      <th>user_id</th>\n",
       "    </tr>\n",
       "  </thead>\n",
       "  <tbody>\n",
       "    <tr>\n",
       "      <td>0</td>\n",
       "      <td>0</td>\n",
       "      <td>1000_0</td>\n",
       "      <td>112.95</td>\n",
       "      <td>2018-11-25</td>\n",
       "      <td>1000</td>\n",
       "    </tr>\n",
       "    <tr>\n",
       "      <td>1</td>\n",
       "      <td>1</td>\n",
       "      <td>1000_1</td>\n",
       "      <td>1052.81</td>\n",
       "      <td>2018-09-07</td>\n",
       "      <td>1000</td>\n",
       "    </tr>\n",
       "    <tr>\n",
       "      <td>2</td>\n",
       "      <td>2</td>\n",
       "      <td>1000_2</td>\n",
       "      <td>1197.26</td>\n",
       "      <td>2018-06-25</td>\n",
       "      <td>1000</td>\n",
       "    </tr>\n",
       "    <tr>\n",
       "      <td>3</td>\n",
       "      <td>3</td>\n",
       "      <td>1000_3</td>\n",
       "      <td>550.27</td>\n",
       "      <td>2018-08-22</td>\n",
       "      <td>1000</td>\n",
       "    </tr>\n",
       "    <tr>\n",
       "      <td>4</td>\n",
       "      <td>4</td>\n",
       "      <td>1000_4</td>\n",
       "      <td>302.56</td>\n",
       "      <td>2018-09-24</td>\n",
       "      <td>1000</td>\n",
       "    </tr>\n",
       "  </tbody>\n",
       "</table>\n",
       "</div>"
      ],
      "text/plain": [
       "   Unnamed: 0      id  mb_used session_date  user_id\n",
       "0           0  1000_0   112.95   2018-11-25     1000\n",
       "1           1  1000_1  1052.81   2018-09-07     1000\n",
       "2           2  1000_2  1197.26   2018-06-25     1000\n",
       "3           3  1000_3   550.27   2018-08-22     1000\n",
       "4           4  1000_4   302.56   2018-09-24     1000"
      ]
     },
     "metadata": {},
     "output_type": "display_data"
    },
    {
     "data": {
      "text/html": [
       "<div>\n",
       "<style scoped>\n",
       "    .dataframe tbody tr th:only-of-type {\n",
       "        vertical-align: middle;\n",
       "    }\n",
       "\n",
       "    .dataframe tbody tr th {\n",
       "        vertical-align: top;\n",
       "    }\n",
       "\n",
       "    .dataframe thead th {\n",
       "        text-align: right;\n",
       "    }\n",
       "</style>\n",
       "<table border=\"1\" class=\"dataframe\">\n",
       "  <thead>\n",
       "    <tr style=\"text-align: right;\">\n",
       "      <th></th>\n",
       "      <th>messages_included</th>\n",
       "      <th>mb_per_month_included</th>\n",
       "      <th>minutes_included</th>\n",
       "      <th>rub_monthly_fee</th>\n",
       "      <th>rub_per_gb</th>\n",
       "      <th>rub_per_message</th>\n",
       "      <th>rub_per_minute</th>\n",
       "      <th>tariff_name</th>\n",
       "    </tr>\n",
       "  </thead>\n",
       "  <tbody>\n",
       "    <tr>\n",
       "      <td>0</td>\n",
       "      <td>50</td>\n",
       "      <td>15360</td>\n",
       "      <td>500</td>\n",
       "      <td>550</td>\n",
       "      <td>200</td>\n",
       "      <td>3</td>\n",
       "      <td>3</td>\n",
       "      <td>smart</td>\n",
       "    </tr>\n",
       "    <tr>\n",
       "      <td>1</td>\n",
       "      <td>1000</td>\n",
       "      <td>30720</td>\n",
       "      <td>3000</td>\n",
       "      <td>1950</td>\n",
       "      <td>150</td>\n",
       "      <td>1</td>\n",
       "      <td>1</td>\n",
       "      <td>ultra</td>\n",
       "    </tr>\n",
       "  </tbody>\n",
       "</table>\n",
       "</div>"
      ],
      "text/plain": [
       "   messages_included  mb_per_month_included  minutes_included  \\\n",
       "0                 50                  15360               500   \n",
       "1               1000                  30720              3000   \n",
       "\n",
       "   rub_monthly_fee  rub_per_gb  rub_per_message  rub_per_minute tariff_name  \n",
       "0              550         200                3               3       smart  \n",
       "1             1950         150                1               1       ultra  "
      ]
     },
     "metadata": {},
     "output_type": "display_data"
    },
    {
     "data": {
      "text/html": [
       "<div>\n",
       "<style scoped>\n",
       "    .dataframe tbody tr th:only-of-type {\n",
       "        vertical-align: middle;\n",
       "    }\n",
       "\n",
       "    .dataframe tbody tr th {\n",
       "        vertical-align: top;\n",
       "    }\n",
       "\n",
       "    .dataframe thead th {\n",
       "        text-align: right;\n",
       "    }\n",
       "</style>\n",
       "<table border=\"1\" class=\"dataframe\">\n",
       "  <thead>\n",
       "    <tr style=\"text-align: right;\">\n",
       "      <th></th>\n",
       "      <th>user_id</th>\n",
       "      <th>age</th>\n",
       "      <th>churn_date</th>\n",
       "      <th>city</th>\n",
       "      <th>first_name</th>\n",
       "      <th>last_name</th>\n",
       "      <th>reg_date</th>\n",
       "      <th>tariff</th>\n",
       "    </tr>\n",
       "  </thead>\n",
       "  <tbody>\n",
       "    <tr>\n",
       "      <td>0</td>\n",
       "      <td>1000</td>\n",
       "      <td>52</td>\n",
       "      <td>NaN</td>\n",
       "      <td>Краснодар</td>\n",
       "      <td>Рафаил</td>\n",
       "      <td>Верещагин</td>\n",
       "      <td>2018-05-25</td>\n",
       "      <td>ultra</td>\n",
       "    </tr>\n",
       "    <tr>\n",
       "      <td>1</td>\n",
       "      <td>1001</td>\n",
       "      <td>41</td>\n",
       "      <td>NaN</td>\n",
       "      <td>Москва</td>\n",
       "      <td>Иван</td>\n",
       "      <td>Ежов</td>\n",
       "      <td>2018-11-01</td>\n",
       "      <td>smart</td>\n",
       "    </tr>\n",
       "    <tr>\n",
       "      <td>2</td>\n",
       "      <td>1002</td>\n",
       "      <td>59</td>\n",
       "      <td>NaN</td>\n",
       "      <td>Стерлитамак</td>\n",
       "      <td>Евгений</td>\n",
       "      <td>Абрамович</td>\n",
       "      <td>2018-06-17</td>\n",
       "      <td>smart</td>\n",
       "    </tr>\n",
       "    <tr>\n",
       "      <td>3</td>\n",
       "      <td>1003</td>\n",
       "      <td>23</td>\n",
       "      <td>NaN</td>\n",
       "      <td>Москва</td>\n",
       "      <td>Белла</td>\n",
       "      <td>Белякова</td>\n",
       "      <td>2018-08-17</td>\n",
       "      <td>ultra</td>\n",
       "    </tr>\n",
       "    <tr>\n",
       "      <td>4</td>\n",
       "      <td>1004</td>\n",
       "      <td>68</td>\n",
       "      <td>NaN</td>\n",
       "      <td>Новокузнецк</td>\n",
       "      <td>Татьяна</td>\n",
       "      <td>Авдеенко</td>\n",
       "      <td>2018-05-14</td>\n",
       "      <td>ultra</td>\n",
       "    </tr>\n",
       "  </tbody>\n",
       "</table>\n",
       "</div>"
      ],
      "text/plain": [
       "   user_id  age churn_date         city first_name  last_name    reg_date  \\\n",
       "0     1000   52        NaN    Краснодар     Рафаил  Верещагин  2018-05-25   \n",
       "1     1001   41        NaN       Москва       Иван       Ежов  2018-11-01   \n",
       "2     1002   59        NaN  Стерлитамак    Евгений  Абрамович  2018-06-17   \n",
       "3     1003   23        NaN       Москва      Белла   Белякова  2018-08-17   \n",
       "4     1004   68        NaN  Новокузнецк    Татьяна   Авдеенко  2018-05-14   \n",
       "\n",
       "  tariff  \n",
       "0  ultra  \n",
       "1  smart  \n",
       "2  smart  \n",
       "3  ultra  \n",
       "4  ultra  "
      ]
     },
     "metadata": {},
     "output_type": "display_data"
    }
   ],
   "source": [
    "for table in data:\n",
    "    display(table.head())"
   ]
  },
  {
   "cell_type": "markdown",
   "metadata": {},
   "source": [
    "Таблицы выглядят корректно, однако в таблице *internet* замечен столбец, который не был описан, - *Unnamed: 0*. Его значения очень похожи на id, давайте рассмотрим поближе"
   ]
  },
  {
   "cell_type": "code",
   "execution_count": 4,
   "metadata": {},
   "outputs": [
    {
     "data": {
      "text/plain": [
       "0    0\n",
       "1    1\n",
       "2    2\n",
       "3    3\n",
       "4    4\n",
       "Name: Unnamed: 0, dtype: int64"
      ]
     },
     "metadata": {},
     "output_type": "display_data"
    },
    {
     "data": {
      "text/plain": [
       "149391    149391\n",
       "149392    149392\n",
       "149393    149393\n",
       "149394    149394\n",
       "149395    149395\n",
       "Name: Unnamed: 0, dtype: int64"
      ]
     },
     "metadata": {},
     "output_type": "display_data"
    },
    {
     "data": {
      "text/plain": [
       "'Максимальное количество уникальных значений:'"
      ]
     },
     "metadata": {},
     "output_type": "display_data"
    },
    {
     "data": {
      "text/plain": [
       "1"
      ]
     },
     "metadata": {},
     "output_type": "display_data"
    }
   ],
   "source": [
    "display(internet['Unnamed: 0'].head(5), internet['Unnamed: 0'].tail(5),\\\n",
    "        'Максимальное количество уникальных значений:', internet['Unnamed: 0'].value_counts().max())"
   ]
  },
  {
   "cell_type": "markdown",
   "metadata": {},
   "source": [
    "Очень похоже на это. Скорее всего, id задвоился. Удалим данный столбец"
   ]
  },
  {
   "cell_type": "code",
   "execution_count": 5,
   "metadata": {},
   "outputs": [
    {
     "data": {
      "text/plain": [
       "Index(['id', 'mb_used', 'session_date', 'user_id'], dtype='object')"
      ]
     },
     "execution_count": 5,
     "metadata": {},
     "output_type": "execute_result"
    }
   ],
   "source": [
    "internet = internet.drop('Unnamed: 0', 1)\n",
    "internet.columns #проверка"
   ]
  },
  {
   "cell_type": "markdown",
   "metadata": {},
   "source": [
    "Также исправим название столбца *mb_per_month_included* на *mb_included*"
   ]
  },
  {
   "cell_type": "code",
   "execution_count": 6,
   "metadata": {},
   "outputs": [
    {
     "data": {
      "text/plain": [
       "Index(['messages_included', 'mb_included', 'minutes_included',\n",
       "       'rub_monthly_fee', 'rub_per_gb', 'rub_per_message', 'rub_per_minute',\n",
       "       'tariff_name'],\n",
       "      dtype='object')"
      ]
     },
     "execution_count": 6,
     "metadata": {},
     "output_type": "execute_result"
    }
   ],
   "source": [
    "tariffs = tariffs.rename(columns={'mb_per_month_included':'mb_included'})\n",
    "tariffs.columns"
   ]
  },
  {
   "cell_type": "markdown",
   "metadata": {},
   "source": [
    "Теперь выведем общую информацию о каждой таблице"
   ]
  },
  {
   "cell_type": "code",
   "execution_count": 7,
   "metadata": {},
   "outputs": [
    {
     "name": "stdout",
     "output_type": "stream",
     "text": [
      "<class 'pandas.core.frame.DataFrame'>\n",
      "RangeIndex: 202607 entries, 0 to 202606\n",
      "Data columns (total 4 columns):\n",
      "id           202607 non-null object\n",
      "call_date    202607 non-null object\n",
      "duration     202607 non-null float64\n",
      "user_id      202607 non-null int64\n",
      "dtypes: float64(1), int64(1), object(2)\n",
      "memory usage: 6.2+ MB\n"
     ]
    },
    {
     "data": {
      "text/plain": [
       "None"
      ]
     },
     "metadata": {},
     "output_type": "display_data"
    },
    {
     "name": "stdout",
     "output_type": "stream",
     "text": [
      "<class 'pandas.core.frame.DataFrame'>\n",
      "RangeIndex: 123036 entries, 0 to 123035\n",
      "Data columns (total 3 columns):\n",
      "id              123036 non-null object\n",
      "message_date    123036 non-null object\n",
      "user_id         123036 non-null int64\n",
      "dtypes: int64(1), object(2)\n",
      "memory usage: 2.8+ MB\n"
     ]
    },
    {
     "data": {
      "text/plain": [
       "None"
      ]
     },
     "metadata": {},
     "output_type": "display_data"
    },
    {
     "name": "stdout",
     "output_type": "stream",
     "text": [
      "<class 'pandas.core.frame.DataFrame'>\n",
      "RangeIndex: 149396 entries, 0 to 149395\n",
      "Data columns (total 5 columns):\n",
      "Unnamed: 0      149396 non-null int64\n",
      "id              149396 non-null object\n",
      "mb_used         149396 non-null float64\n",
      "session_date    149396 non-null object\n",
      "user_id         149396 non-null int64\n",
      "dtypes: float64(1), int64(2), object(2)\n",
      "memory usage: 5.7+ MB\n"
     ]
    },
    {
     "data": {
      "text/plain": [
       "None"
      ]
     },
     "metadata": {},
     "output_type": "display_data"
    },
    {
     "name": "stdout",
     "output_type": "stream",
     "text": [
      "<class 'pandas.core.frame.DataFrame'>\n",
      "RangeIndex: 2 entries, 0 to 1\n",
      "Data columns (total 8 columns):\n",
      "messages_included        2 non-null int64\n",
      "mb_per_month_included    2 non-null int64\n",
      "minutes_included         2 non-null int64\n",
      "rub_monthly_fee          2 non-null int64\n",
      "rub_per_gb               2 non-null int64\n",
      "rub_per_message          2 non-null int64\n",
      "rub_per_minute           2 non-null int64\n",
      "tariff_name              2 non-null object\n",
      "dtypes: int64(7), object(1)\n",
      "memory usage: 256.0+ bytes\n"
     ]
    },
    {
     "data": {
      "text/plain": [
       "None"
      ]
     },
     "metadata": {},
     "output_type": "display_data"
    },
    {
     "name": "stdout",
     "output_type": "stream",
     "text": [
      "<class 'pandas.core.frame.DataFrame'>\n",
      "RangeIndex: 500 entries, 0 to 499\n",
      "Data columns (total 8 columns):\n",
      "user_id       500 non-null int64\n",
      "age           500 non-null int64\n",
      "churn_date    38 non-null object\n",
      "city          500 non-null object\n",
      "first_name    500 non-null object\n",
      "last_name     500 non-null object\n",
      "reg_date      500 non-null object\n",
      "tariff        500 non-null object\n",
      "dtypes: int64(2), object(6)\n",
      "memory usage: 31.4+ KB\n"
     ]
    },
    {
     "data": {
      "text/plain": [
       "None"
      ]
     },
     "metadata": {},
     "output_type": "display_data"
    }
   ],
   "source": [
    "for table in data:\n",
    "    display(table.info())"
   ]
  },
  {
   "cell_type": "code",
   "execution_count": 8,
   "metadata": {},
   "outputs": [
    {
     "data": {
      "text/plain": [
       "user_id         0\n",
       "age             0\n",
       "churn_date    462\n",
       "city            0\n",
       "first_name      0\n",
       "last_name       0\n",
       "reg_date        0\n",
       "tariff          0\n",
       "dtype: int64"
      ]
     },
     "execution_count": 8,
     "metadata": {},
     "output_type": "execute_result"
    }
   ],
   "source": [
    "users.isna().sum()"
   ]
  },
  {
   "cell_type": "markdown",
   "metadata": {},
   "source": [
    "Как мы видим, пропуски в данных есть только в одной таблице в одном столбце *churn_date* (дата прекращения пользования тарифом). Если мы обратимся к описанию этого столбца, то узнаем следующее: \"если значение пропущено, то тариф ещё действовал на момент выгрузки данных\""
   ]
  },
  {
   "cell_type": "markdown",
   "metadata": {},
   "source": [
    "Вывод: мы получили первый взгляд на данные, по которому можно сказать следующее: случайных пропусков в данных не замечено; в некоторых местах данные необходимо привести к другим типам; обнаружен и удален столбец *Unnamed: 0* в таблице *internet* (скорее всего, столбец, в котором повторялись id)"
   ]
  },
  {
   "cell_type": "markdown",
   "metadata": {},
   "source": [
    "## Подготовка данных"
   ]
  },
  {
   "cell_type": "markdown",
   "metadata": {},
   "source": [
    "### Приведение к корректным типам данных"
   ]
  },
  {
   "cell_type": "markdown",
   "metadata": {},
   "source": [
    "Первым делом приведем даты во всех таблицах к типу данных *datetime*"
   ]
  },
  {
   "cell_type": "code",
   "execution_count": 9,
   "metadata": {},
   "outputs": [
    {
     "name": "stdout",
     "output_type": "stream",
     "text": [
      "<class 'pandas.core.frame.DataFrame'>\n",
      "RangeIndex: 500 entries, 0 to 499\n",
      "Data columns (total 8 columns):\n",
      "user_id       500 non-null int64\n",
      "age           500 non-null int64\n",
      "churn_date    38 non-null datetime64[ns]\n",
      "city          500 non-null object\n",
      "first_name    500 non-null object\n",
      "last_name     500 non-null object\n",
      "reg_date      500 non-null datetime64[ns]\n",
      "tariff        500 non-null object\n",
      "dtypes: datetime64[ns](2), int64(2), object(4)\n",
      "memory usage: 31.4+ KB\n"
     ]
    }
   ],
   "source": [
    "calls['call_date'] = pd.to_datetime(calls['call_date'], format='%Y-%m-%d')\n",
    "messages['message_date'] = pd.to_datetime(messages['message_date'], format='%Y-%m-%d')\n",
    "internet['session_date'] = pd.to_datetime(internet['session_date'], format='%Y-%m-%d')\n",
    "users['reg_date'] = pd.to_datetime(users['reg_date'], format='%Y-%m-%d')\n",
    "users['churn_date'] = pd.to_datetime(users['churn_date'], format='%Y-%m-%d')\n",
    "\n",
    "#проверка\n",
    "users.info()"
   ]
  },
  {
   "cell_type": "markdown",
   "metadata": {},
   "source": [
    "Также поменяем тип данных в некоторых других столбцах"
   ]
  },
  {
   "cell_type": "code",
   "execution_count": 10,
   "metadata": {},
   "outputs": [
    {
     "name": "stdout",
     "output_type": "stream",
     "text": [
      "<class 'pandas.core.frame.DataFrame'>\n",
      "RangeIndex: 202607 entries, 0 to 202606\n",
      "Data columns (total 4 columns):\n",
      "id           202607 non-null object\n",
      "call_date    202607 non-null datetime64[ns]\n",
      "duration     202607 non-null uint16\n",
      "user_id      202607 non-null int64\n",
      "dtypes: datetime64[ns](1), int64(1), object(1), uint16(1)\n",
      "memory usage: 5.0+ MB\n",
      "<class 'pandas.core.frame.DataFrame'>\n",
      "RangeIndex: 500 entries, 0 to 499\n",
      "Data columns (total 8 columns):\n",
      "user_id       500 non-null int64\n",
      "age           500 non-null uint8\n",
      "churn_date    38 non-null datetime64[ns]\n",
      "city          500 non-null object\n",
      "first_name    500 non-null object\n",
      "last_name     500 non-null object\n",
      "reg_date      500 non-null datetime64[ns]\n",
      "tariff        500 non-null object\n",
      "dtypes: datetime64[ns](2), int64(1), object(4), uint8(1)\n",
      "memory usage: 28.0+ KB\n"
     ]
    }
   ],
   "source": [
    "calls['duration'] = calls['duration'].apply(math.ceil).astype('uint16')\n",
    "#округлили длительность звонков в большую сторону и привели к типу uint16 (максимальное значение - 65535)\n",
    "users['age'] = users['age'].astype('uint8')\n",
    "#привели возраст к типу данных uint8 (максимальное значение - 255)\n",
    "\n",
    "#проверка\n",
    "calls.info()\n",
    "users.info()"
   ]
  },
  {
   "cell_type": "markdown",
   "metadata": {},
   "source": [
    "Мы изменили типы данных на более подходящие. Хотелось бы еще изменить тип данных у *user_id* во всех таблицах, но так как точной информации о максимальном количестве символом в данном столбце у нас нет, то и не будем там что-то менять"
   ]
  },
  {
   "cell_type": "markdown",
   "metadata": {},
   "source": [
    "### Поиск дубликатов"
   ]
  },
  {
   "cell_type": "markdown",
   "metadata": {},
   "source": [
    "Найдем дубликаты в каждой таблице"
   ]
  },
  {
   "cell_type": "code",
   "execution_count": 11,
   "metadata": {},
   "outputs": [
    {
     "data": {
      "text/plain": [
       "0"
      ]
     },
     "metadata": {},
     "output_type": "display_data"
    },
    {
     "data": {
      "text/plain": [
       "0"
      ]
     },
     "metadata": {},
     "output_type": "display_data"
    },
    {
     "data": {
      "text/plain": [
       "0"
      ]
     },
     "metadata": {},
     "output_type": "display_data"
    },
    {
     "data": {
      "text/plain": [
       "0"
      ]
     },
     "metadata": {},
     "output_type": "display_data"
    },
    {
     "data": {
      "text/plain": [
       "0"
      ]
     },
     "metadata": {},
     "output_type": "display_data"
    }
   ],
   "source": [
    "for table in data:\n",
    "    display(table.duplicated().sum())"
   ]
  },
  {
   "cell_type": "markdown",
   "metadata": {},
   "source": [
    "Дублирующиеся строчки не найдены"
   ]
  },
  {
   "cell_type": "markdown",
   "metadata": {},
   "source": [
    "### Расчет дополнительных показателей"
   ]
  },
  {
   "cell_type": "markdown",
   "metadata": {},
   "source": [
    "Найдем для каждого пользователя следующие значения:\n",
    "* количество сделанных звонков и израсходованных минут разговора по месяцам;\n",
    "* количество отправленных сообщений по месяцам;\n",
    "* объем израсходованного интернет-трафика по месяцам;\n",
    "* помесячную выручку с каждого пользователя"
   ]
  },
  {
   "cell_type": "markdown",
   "metadata": {},
   "source": [
    "Для того, чтобы искать информацию для каждого месяца, нам нужно извлечь информацию о месяце из данных с датой. Добавим таблицам *calls, messages* и *internet* колонки, в которых запишем месяц"
   ]
  },
  {
   "cell_type": "code",
   "execution_count": 12,
   "metadata": {},
   "outputs": [
    {
     "data": {
      "text/html": [
       "<div>\n",
       "<style scoped>\n",
       "    .dataframe tbody tr th:only-of-type {\n",
       "        vertical-align: middle;\n",
       "    }\n",
       "\n",
       "    .dataframe tbody tr th {\n",
       "        vertical-align: top;\n",
       "    }\n",
       "\n",
       "    .dataframe thead th {\n",
       "        text-align: right;\n",
       "    }\n",
       "</style>\n",
       "<table border=\"1\" class=\"dataframe\">\n",
       "  <thead>\n",
       "    <tr style=\"text-align: right;\">\n",
       "      <th></th>\n",
       "      <th>id</th>\n",
       "      <th>call_date</th>\n",
       "      <th>duration</th>\n",
       "      <th>user_id</th>\n",
       "      <th>month</th>\n",
       "    </tr>\n",
       "  </thead>\n",
       "  <tbody>\n",
       "    <tr>\n",
       "      <td>0</td>\n",
       "      <td>1000_0</td>\n",
       "      <td>2018-07-25</td>\n",
       "      <td>0</td>\n",
       "      <td>1000</td>\n",
       "      <td>7</td>\n",
       "    </tr>\n",
       "    <tr>\n",
       "      <td>1</td>\n",
       "      <td>1000_1</td>\n",
       "      <td>2018-08-17</td>\n",
       "      <td>0</td>\n",
       "      <td>1000</td>\n",
       "      <td>8</td>\n",
       "    </tr>\n",
       "    <tr>\n",
       "      <td>2</td>\n",
       "      <td>1000_2</td>\n",
       "      <td>2018-06-11</td>\n",
       "      <td>3</td>\n",
       "      <td>1000</td>\n",
       "      <td>6</td>\n",
       "    </tr>\n",
       "    <tr>\n",
       "      <td>3</td>\n",
       "      <td>1000_3</td>\n",
       "      <td>2018-09-21</td>\n",
       "      <td>14</td>\n",
       "      <td>1000</td>\n",
       "      <td>9</td>\n",
       "    </tr>\n",
       "    <tr>\n",
       "      <td>4</td>\n",
       "      <td>1000_4</td>\n",
       "      <td>2018-12-15</td>\n",
       "      <td>6</td>\n",
       "      <td>1000</td>\n",
       "      <td>12</td>\n",
       "    </tr>\n",
       "  </tbody>\n",
       "</table>\n",
       "</div>"
      ],
      "text/plain": [
       "       id  call_date  duration  user_id  month\n",
       "0  1000_0 2018-07-25         0     1000      7\n",
       "1  1000_1 2018-08-17         0     1000      8\n",
       "2  1000_2 2018-06-11         3     1000      6\n",
       "3  1000_3 2018-09-21        14     1000      9\n",
       "4  1000_4 2018-12-15         6     1000     12"
      ]
     },
     "metadata": {},
     "output_type": "display_data"
    },
    {
     "data": {
      "text/html": [
       "<div>\n",
       "<style scoped>\n",
       "    .dataframe tbody tr th:only-of-type {\n",
       "        vertical-align: middle;\n",
       "    }\n",
       "\n",
       "    .dataframe tbody tr th {\n",
       "        vertical-align: top;\n",
       "    }\n",
       "\n",
       "    .dataframe thead th {\n",
       "        text-align: right;\n",
       "    }\n",
       "</style>\n",
       "<table border=\"1\" class=\"dataframe\">\n",
       "  <thead>\n",
       "    <tr style=\"text-align: right;\">\n",
       "      <th></th>\n",
       "      <th>id</th>\n",
       "      <th>message_date</th>\n",
       "      <th>user_id</th>\n",
       "      <th>month</th>\n",
       "    </tr>\n",
       "  </thead>\n",
       "  <tbody>\n",
       "    <tr>\n",
       "      <td>0</td>\n",
       "      <td>1000_0</td>\n",
       "      <td>2018-06-27</td>\n",
       "      <td>1000</td>\n",
       "      <td>6</td>\n",
       "    </tr>\n",
       "    <tr>\n",
       "      <td>1</td>\n",
       "      <td>1000_1</td>\n",
       "      <td>2018-10-08</td>\n",
       "      <td>1000</td>\n",
       "      <td>10</td>\n",
       "    </tr>\n",
       "    <tr>\n",
       "      <td>2</td>\n",
       "      <td>1000_2</td>\n",
       "      <td>2018-08-04</td>\n",
       "      <td>1000</td>\n",
       "      <td>8</td>\n",
       "    </tr>\n",
       "    <tr>\n",
       "      <td>3</td>\n",
       "      <td>1000_3</td>\n",
       "      <td>2018-06-16</td>\n",
       "      <td>1000</td>\n",
       "      <td>6</td>\n",
       "    </tr>\n",
       "    <tr>\n",
       "      <td>4</td>\n",
       "      <td>1000_4</td>\n",
       "      <td>2018-12-05</td>\n",
       "      <td>1000</td>\n",
       "      <td>12</td>\n",
       "    </tr>\n",
       "  </tbody>\n",
       "</table>\n",
       "</div>"
      ],
      "text/plain": [
       "       id message_date  user_id  month\n",
       "0  1000_0   2018-06-27     1000      6\n",
       "1  1000_1   2018-10-08     1000     10\n",
       "2  1000_2   2018-08-04     1000      8\n",
       "3  1000_3   2018-06-16     1000      6\n",
       "4  1000_4   2018-12-05     1000     12"
      ]
     },
     "metadata": {},
     "output_type": "display_data"
    },
    {
     "data": {
      "text/html": [
       "<div>\n",
       "<style scoped>\n",
       "    .dataframe tbody tr th:only-of-type {\n",
       "        vertical-align: middle;\n",
       "    }\n",
       "\n",
       "    .dataframe tbody tr th {\n",
       "        vertical-align: top;\n",
       "    }\n",
       "\n",
       "    .dataframe thead th {\n",
       "        text-align: right;\n",
       "    }\n",
       "</style>\n",
       "<table border=\"1\" class=\"dataframe\">\n",
       "  <thead>\n",
       "    <tr style=\"text-align: right;\">\n",
       "      <th></th>\n",
       "      <th>id</th>\n",
       "      <th>mb_used</th>\n",
       "      <th>session_date</th>\n",
       "      <th>user_id</th>\n",
       "      <th>month</th>\n",
       "    </tr>\n",
       "  </thead>\n",
       "  <tbody>\n",
       "    <tr>\n",
       "      <td>0</td>\n",
       "      <td>1000_0</td>\n",
       "      <td>112.95</td>\n",
       "      <td>2018-11-25</td>\n",
       "      <td>1000</td>\n",
       "      <td>11</td>\n",
       "    </tr>\n",
       "    <tr>\n",
       "      <td>1</td>\n",
       "      <td>1000_1</td>\n",
       "      <td>1052.81</td>\n",
       "      <td>2018-09-07</td>\n",
       "      <td>1000</td>\n",
       "      <td>9</td>\n",
       "    </tr>\n",
       "    <tr>\n",
       "      <td>2</td>\n",
       "      <td>1000_2</td>\n",
       "      <td>1197.26</td>\n",
       "      <td>2018-06-25</td>\n",
       "      <td>1000</td>\n",
       "      <td>6</td>\n",
       "    </tr>\n",
       "    <tr>\n",
       "      <td>3</td>\n",
       "      <td>1000_3</td>\n",
       "      <td>550.27</td>\n",
       "      <td>2018-08-22</td>\n",
       "      <td>1000</td>\n",
       "      <td>8</td>\n",
       "    </tr>\n",
       "    <tr>\n",
       "      <td>4</td>\n",
       "      <td>1000_4</td>\n",
       "      <td>302.56</td>\n",
       "      <td>2018-09-24</td>\n",
       "      <td>1000</td>\n",
       "      <td>9</td>\n",
       "    </tr>\n",
       "  </tbody>\n",
       "</table>\n",
       "</div>"
      ],
      "text/plain": [
       "       id  mb_used session_date  user_id  month\n",
       "0  1000_0   112.95   2018-11-25     1000     11\n",
       "1  1000_1  1052.81   2018-09-07     1000      9\n",
       "2  1000_2  1197.26   2018-06-25     1000      6\n",
       "3  1000_3   550.27   2018-08-22     1000      8\n",
       "4  1000_4   302.56   2018-09-24     1000      9"
      ]
     },
     "metadata": {},
     "output_type": "display_data"
    }
   ],
   "source": [
    "calls['month'] = pd.DatetimeIndex(calls['call_date']).month\n",
    "messages['month'] = pd.DatetimeIndex(messages['message_date']).month\n",
    "internet['month'] = pd.DatetimeIndex(internet['session_date']).month\n",
    "\n",
    "display(calls.head(), messages.head(), internet.head())"
   ]
  },
  {
   "cell_type": "markdown",
   "metadata": {},
   "source": [
    "Найдем количество сделанных звонков, потраченных минут, количество сообщений и объем использованного трафика по месяцам для каждого абонента"
   ]
  },
  {
   "cell_type": "code",
   "execution_count": 13,
   "metadata": {},
   "outputs": [
    {
     "data": {
      "text/html": [
       "<div>\n",
       "<style scoped>\n",
       "    .dataframe tbody tr th:only-of-type {\n",
       "        vertical-align: middle;\n",
       "    }\n",
       "\n",
       "    .dataframe tbody tr th {\n",
       "        vertical-align: top;\n",
       "    }\n",
       "\n",
       "    .dataframe thead th {\n",
       "        text-align: right;\n",
       "    }\n",
       "</style>\n",
       "<table border=\"1\" class=\"dataframe\">\n",
       "  <thead>\n",
       "    <tr style=\"text-align: right;\">\n",
       "      <th></th>\n",
       "      <th></th>\n",
       "      <th>total_calls</th>\n",
       "      <th>minutes_used</th>\n",
       "    </tr>\n",
       "    <tr>\n",
       "      <th>user_id</th>\n",
       "      <th>month</th>\n",
       "      <th></th>\n",
       "      <th></th>\n",
       "    </tr>\n",
       "  </thead>\n",
       "  <tbody>\n",
       "    <tr>\n",
       "      <td rowspan=\"5\" valign=\"top\">1000</td>\n",
       "      <td>5</td>\n",
       "      <td>22</td>\n",
       "      <td>159</td>\n",
       "    </tr>\n",
       "    <tr>\n",
       "      <td>6</td>\n",
       "      <td>43</td>\n",
       "      <td>172</td>\n",
       "    </tr>\n",
       "    <tr>\n",
       "      <td>7</td>\n",
       "      <td>47</td>\n",
       "      <td>340</td>\n",
       "    </tr>\n",
       "    <tr>\n",
       "      <td>8</td>\n",
       "      <td>52</td>\n",
       "      <td>408</td>\n",
       "    </tr>\n",
       "    <tr>\n",
       "      <td>9</td>\n",
       "      <td>58</td>\n",
       "      <td>466</td>\n",
       "    </tr>\n",
       "  </tbody>\n",
       "</table>\n",
       "</div>"
      ],
      "text/plain": [
       "               total_calls  minutes_used\n",
       "user_id month                           \n",
       "1000    5               22           159\n",
       "        6               43           172\n",
       "        7               47           340\n",
       "        8               52           408\n",
       "        9               58           466"
      ]
     },
     "execution_count": 13,
     "metadata": {},
     "output_type": "execute_result"
    }
   ],
   "source": [
    "calls_by_months_by_users = calls.pivot_table(index=['user_id', 'month'], values='duration', aggfunc=['count', 'sum'])\\\n",
    ".rename(columns={'count':'total_calls', 'sum':'minutes_used'})\n",
    "calls_by_months_by_users.columns = calls_by_months_by_users.columns.droplevel(1)\n",
    "calls_by_months_by_users.head()"
   ]
  },
  {
   "cell_type": "code",
   "execution_count": 14,
   "metadata": {},
   "outputs": [
    {
     "data": {
      "text/html": [
       "<div>\n",
       "<style scoped>\n",
       "    .dataframe tbody tr th:only-of-type {\n",
       "        vertical-align: middle;\n",
       "    }\n",
       "\n",
       "    .dataframe tbody tr th {\n",
       "        vertical-align: top;\n",
       "    }\n",
       "\n",
       "    .dataframe thead th {\n",
       "        text-align: right;\n",
       "    }\n",
       "</style>\n",
       "<table border=\"1\" class=\"dataframe\">\n",
       "  <thead>\n",
       "    <tr style=\"text-align: right;\">\n",
       "      <th></th>\n",
       "      <th></th>\n",
       "      <th>messages_used</th>\n",
       "    </tr>\n",
       "    <tr>\n",
       "      <th>user_id</th>\n",
       "      <th>month</th>\n",
       "      <th></th>\n",
       "    </tr>\n",
       "  </thead>\n",
       "  <tbody>\n",
       "    <tr>\n",
       "      <td rowspan=\"5\" valign=\"top\">1000</td>\n",
       "      <td>5</td>\n",
       "      <td>22</td>\n",
       "    </tr>\n",
       "    <tr>\n",
       "      <td>6</td>\n",
       "      <td>60</td>\n",
       "    </tr>\n",
       "    <tr>\n",
       "      <td>7</td>\n",
       "      <td>75</td>\n",
       "    </tr>\n",
       "    <tr>\n",
       "      <td>8</td>\n",
       "      <td>81</td>\n",
       "    </tr>\n",
       "    <tr>\n",
       "      <td>9</td>\n",
       "      <td>57</td>\n",
       "    </tr>\n",
       "  </tbody>\n",
       "</table>\n",
       "</div>"
      ],
      "text/plain": [
       "               messages_used\n",
       "user_id month               \n",
       "1000    5                 22\n",
       "        6                 60\n",
       "        7                 75\n",
       "        8                 81\n",
       "        9                 57"
      ]
     },
     "execution_count": 14,
     "metadata": {},
     "output_type": "execute_result"
    }
   ],
   "source": [
    "messages_by_months_by_users = messages.pivot_table(index=['user_id', 'month'], values='id', aggfunc='count')\\\n",
    ".rename(columns={'id':'messages_used'})\n",
    "messages_by_months_by_users.head()"
   ]
  },
  {
   "cell_type": "code",
   "execution_count": 15,
   "metadata": {},
   "outputs": [
    {
     "data": {
      "text/html": [
       "<div>\n",
       "<style scoped>\n",
       "    .dataframe tbody tr th:only-of-type {\n",
       "        vertical-align: middle;\n",
       "    }\n",
       "\n",
       "    .dataframe tbody tr th {\n",
       "        vertical-align: top;\n",
       "    }\n",
       "\n",
       "    .dataframe thead th {\n",
       "        text-align: right;\n",
       "    }\n",
       "</style>\n",
       "<table border=\"1\" class=\"dataframe\">\n",
       "  <thead>\n",
       "    <tr style=\"text-align: right;\">\n",
       "      <th></th>\n",
       "      <th></th>\n",
       "      <th>mb_used</th>\n",
       "    </tr>\n",
       "    <tr>\n",
       "      <th>user_id</th>\n",
       "      <th>month</th>\n",
       "      <th></th>\n",
       "    </tr>\n",
       "  </thead>\n",
       "  <tbody>\n",
       "    <tr>\n",
       "      <td rowspan=\"5\" valign=\"top\">1000</td>\n",
       "      <td>5</td>\n",
       "      <td>2253.49</td>\n",
       "    </tr>\n",
       "    <tr>\n",
       "      <td>6</td>\n",
       "      <td>23233.77</td>\n",
       "    </tr>\n",
       "    <tr>\n",
       "      <td>7</td>\n",
       "      <td>14003.64</td>\n",
       "    </tr>\n",
       "    <tr>\n",
       "      <td>8</td>\n",
       "      <td>14055.93</td>\n",
       "    </tr>\n",
       "    <tr>\n",
       "      <td>9</td>\n",
       "      <td>14568.91</td>\n",
       "    </tr>\n",
       "  </tbody>\n",
       "</table>\n",
       "</div>"
      ],
      "text/plain": [
       "                mb_used\n",
       "user_id month          \n",
       "1000    5       2253.49\n",
       "        6      23233.77\n",
       "        7      14003.64\n",
       "        8      14055.93\n",
       "        9      14568.91"
      ]
     },
     "execution_count": 15,
     "metadata": {},
     "output_type": "execute_result"
    }
   ],
   "source": [
    "internet_by_months_by_users = internet.pivot_table(index=['user_id', 'month'], values='mb_used', aggfunc='sum')\n",
    "internet_by_months_by_users.head()"
   ]
  },
  {
   "cell_type": "markdown",
   "metadata": {},
   "source": [
    "В таблицу с информацией об израсходованном трафике добавим еще один столбец *количество использованных гигабайт* (округлим по принципу округления компании)"
   ]
  },
  {
   "cell_type": "code",
   "execution_count": 16,
   "metadata": {},
   "outputs": [],
   "source": [
    "#функция перевода количества использованных мегабайт в гигабайты с учетом округления в большую сторону\n",
    "#1 гигабайт = 1024 мегабайта\n",
    "def roundTraffic(traffic_mb):\n",
    "    return math.ceil(traffic_mb / 1024)"
   ]
  },
  {
   "cell_type": "code",
   "execution_count": 17,
   "metadata": {},
   "outputs": [
    {
     "data": {
      "text/html": [
       "<div>\n",
       "<style scoped>\n",
       "    .dataframe tbody tr th:only-of-type {\n",
       "        vertical-align: middle;\n",
       "    }\n",
       "\n",
       "    .dataframe tbody tr th {\n",
       "        vertical-align: top;\n",
       "    }\n",
       "\n",
       "    .dataframe thead th {\n",
       "        text-align: right;\n",
       "    }\n",
       "</style>\n",
       "<table border=\"1\" class=\"dataframe\">\n",
       "  <thead>\n",
       "    <tr style=\"text-align: right;\">\n",
       "      <th></th>\n",
       "      <th></th>\n",
       "      <th>mb_used</th>\n",
       "      <th>gb_used</th>\n",
       "    </tr>\n",
       "    <tr>\n",
       "      <th>user_id</th>\n",
       "      <th>month</th>\n",
       "      <th></th>\n",
       "      <th></th>\n",
       "    </tr>\n",
       "  </thead>\n",
       "  <tbody>\n",
       "    <tr>\n",
       "      <td rowspan=\"5\" valign=\"top\">1000</td>\n",
       "      <td>5</td>\n",
       "      <td>2253.49</td>\n",
       "      <td>3</td>\n",
       "    </tr>\n",
       "    <tr>\n",
       "      <td>6</td>\n",
       "      <td>23233.77</td>\n",
       "      <td>23</td>\n",
       "    </tr>\n",
       "    <tr>\n",
       "      <td>7</td>\n",
       "      <td>14003.64</td>\n",
       "      <td>14</td>\n",
       "    </tr>\n",
       "    <tr>\n",
       "      <td>8</td>\n",
       "      <td>14055.93</td>\n",
       "      <td>14</td>\n",
       "    </tr>\n",
       "    <tr>\n",
       "      <td>9</td>\n",
       "      <td>14568.91</td>\n",
       "      <td>15</td>\n",
       "    </tr>\n",
       "  </tbody>\n",
       "</table>\n",
       "</div>"
      ],
      "text/plain": [
       "                mb_used  gb_used\n",
       "user_id month                   \n",
       "1000    5       2253.49        3\n",
       "        6      23233.77       23\n",
       "        7      14003.64       14\n",
       "        8      14055.93       14\n",
       "        9      14568.91       15"
      ]
     },
     "execution_count": 17,
     "metadata": {},
     "output_type": "execute_result"
    }
   ],
   "source": [
    "internet_by_months_by_users['gb_used'] = internet_by_months_by_users['mb_used'].apply(roundTraffic).astype('int16')\n",
    "internet_by_months_by_users.head()"
   ]
  },
  {
   "cell_type": "code",
   "execution_count": 18,
   "metadata": {},
   "outputs": [
    {
     "name": "stdout",
     "output_type": "stream",
     "text": [
      "<class 'pandas.core.frame.DataFrame'>\n",
      "MultiIndex: 3174 entries, (1000, 5) to (1499, 12)\n",
      "Data columns (total 2 columns):\n",
      "total_calls     3174 non-null int64\n",
      "minutes_used    3174 non-null uint16\n",
      "dtypes: int64(1), uint16(1)\n",
      "memory usage: 44.3 KB\n"
     ]
    },
    {
     "data": {
      "text/plain": [
       "None"
      ]
     },
     "metadata": {},
     "output_type": "display_data"
    },
    {
     "name": "stdout",
     "output_type": "stream",
     "text": [
      "<class 'pandas.core.frame.DataFrame'>\n",
      "MultiIndex: 2717 entries, (1000, 5) to (1499, 12)\n",
      "Data columns (total 1 columns):\n",
      "messages_used    2717 non-null int64\n",
      "dtypes: int64(1)\n",
      "memory usage: 32.7 KB\n"
     ]
    },
    {
     "data": {
      "text/plain": [
       "None"
      ]
     },
     "metadata": {},
     "output_type": "display_data"
    },
    {
     "name": "stdout",
     "output_type": "stream",
     "text": [
      "<class 'pandas.core.frame.DataFrame'>\n",
      "MultiIndex: 3203 entries, (1000, 5) to (1499, 12)\n",
      "Data columns (total 2 columns):\n",
      "mb_used    3203 non-null float64\n",
      "gb_used    3203 non-null int16\n",
      "dtypes: float64(1), int16(1)\n",
      "memory usage: 44.7 KB\n"
     ]
    },
    {
     "data": {
      "text/plain": [
       "None"
      ]
     },
     "metadata": {},
     "output_type": "display_data"
    }
   ],
   "source": [
    "add_tables = [calls_by_months_by_users, messages_by_months_by_users, internet_by_months_by_users]\n",
    "for table in add_tables:\n",
    "    display(table.info())"
   ]
  },
  {
   "cell_type": "markdown",
   "metadata": {},
   "source": [
    "Остается объединить расчитанные данные и найти выручку с каждого пользователя за каждый месяц"
   ]
  },
  {
   "cell_type": "code",
   "execution_count": 19,
   "metadata": {},
   "outputs": [
    {
     "name": "stdout",
     "output_type": "stream",
     "text": [
      "<class 'pandas.core.frame.DataFrame'>\n",
      "RangeIndex: 3214 entries, 0 to 3213\n",
      "Data columns (total 7 columns):\n",
      "user_id          3214 non-null int64\n",
      "month            3214 non-null int64\n",
      "total_calls      3174 non-null float64\n",
      "minutes_used     3174 non-null float64\n",
      "messages_used    2717 non-null float64\n",
      "mb_used          3203 non-null float64\n",
      "gb_used          3203 non-null float64\n",
      "dtypes: float64(5), int64(2)\n",
      "memory usage: 175.9 KB\n"
     ]
    },
    {
     "data": {
      "text/html": [
       "<div>\n",
       "<style scoped>\n",
       "    .dataframe tbody tr th:only-of-type {\n",
       "        vertical-align: middle;\n",
       "    }\n",
       "\n",
       "    .dataframe tbody tr th {\n",
       "        vertical-align: top;\n",
       "    }\n",
       "\n",
       "    .dataframe thead th {\n",
       "        text-align: right;\n",
       "    }\n",
       "</style>\n",
       "<table border=\"1\" class=\"dataframe\">\n",
       "  <thead>\n",
       "    <tr style=\"text-align: right;\">\n",
       "      <th></th>\n",
       "      <th>user_id</th>\n",
       "      <th>month</th>\n",
       "      <th>total_calls</th>\n",
       "      <th>minutes_used</th>\n",
       "      <th>messages_used</th>\n",
       "      <th>mb_used</th>\n",
       "      <th>gb_used</th>\n",
       "    </tr>\n",
       "  </thead>\n",
       "  <tbody>\n",
       "    <tr>\n",
       "      <td>0</td>\n",
       "      <td>1000</td>\n",
       "      <td>5</td>\n",
       "      <td>22.0</td>\n",
       "      <td>159.0</td>\n",
       "      <td>22.0</td>\n",
       "      <td>2253.49</td>\n",
       "      <td>3.0</td>\n",
       "    </tr>\n",
       "    <tr>\n",
       "      <td>1</td>\n",
       "      <td>1000</td>\n",
       "      <td>6</td>\n",
       "      <td>43.0</td>\n",
       "      <td>172.0</td>\n",
       "      <td>60.0</td>\n",
       "      <td>23233.77</td>\n",
       "      <td>23.0</td>\n",
       "    </tr>\n",
       "    <tr>\n",
       "      <td>2</td>\n",
       "      <td>1000</td>\n",
       "      <td>7</td>\n",
       "      <td>47.0</td>\n",
       "      <td>340.0</td>\n",
       "      <td>75.0</td>\n",
       "      <td>14003.64</td>\n",
       "      <td>14.0</td>\n",
       "    </tr>\n",
       "    <tr>\n",
       "      <td>3</td>\n",
       "      <td>1000</td>\n",
       "      <td>8</td>\n",
       "      <td>52.0</td>\n",
       "      <td>408.0</td>\n",
       "      <td>81.0</td>\n",
       "      <td>14055.93</td>\n",
       "      <td>14.0</td>\n",
       "    </tr>\n",
       "    <tr>\n",
       "      <td>4</td>\n",
       "      <td>1000</td>\n",
       "      <td>9</td>\n",
       "      <td>58.0</td>\n",
       "      <td>466.0</td>\n",
       "      <td>57.0</td>\n",
       "      <td>14568.91</td>\n",
       "      <td>15.0</td>\n",
       "    </tr>\n",
       "  </tbody>\n",
       "</table>\n",
       "</div>"
      ],
      "text/plain": [
       "   user_id  month  total_calls  minutes_used  messages_used   mb_used  gb_used\n",
       "0     1000      5         22.0         159.0           22.0   2253.49      3.0\n",
       "1     1000      6         43.0         172.0           60.0  23233.77     23.0\n",
       "2     1000      7         47.0         340.0           75.0  14003.64     14.0\n",
       "3     1000      8         52.0         408.0           81.0  14055.93     14.0\n",
       "4     1000      9         58.0         466.0           57.0  14568.91     15.0"
      ]
     },
     "metadata": {},
     "output_type": "display_data"
    },
    {
     "data": {
      "text/plain": [
       "None"
      ]
     },
     "metadata": {},
     "output_type": "display_data"
    }
   ],
   "source": [
    "proceeds_by_months_by_users = calls_by_months_by_users.join([messages_by_months_by_users, internet_by_months_by_users],\\\n",
    "                                                            how='outer').reset_index() #убираем мультииндекс\n",
    "display(proceeds_by_months_by_users.head(), proceeds_by_months_by_users.info())\n",
    "#проверяем, не потерялись ли данныесравниваем с результатами .info() выше"
   ]
  },
  {
   "cell_type": "markdown",
   "metadata": {},
   "source": [
    "В сводной таблице появились значения *NaN*. Это произошло из-за того, что за некоторые месяца у нас не было данных по тому или иному показателю (пример: абонент не отправлял смс-ки или не пользовался интернет-трафиком). Заменим все такие значения на нули"
   ]
  },
  {
   "cell_type": "code",
   "execution_count": 20,
   "metadata": {},
   "outputs": [
    {
     "name": "stdout",
     "output_type": "stream",
     "text": [
      "<class 'pandas.core.frame.DataFrame'>\n",
      "RangeIndex: 3214 entries, 0 to 3213\n",
      "Data columns (total 7 columns):\n",
      "user_id          3214 non-null int64\n",
      "month            3214 non-null int64\n",
      "total_calls      3214 non-null float64\n",
      "minutes_used     3214 non-null float64\n",
      "messages_used    3214 non-null float64\n",
      "mb_used          3214 non-null float64\n",
      "gb_used          3214 non-null float64\n",
      "dtypes: float64(5), int64(2)\n",
      "memory usage: 175.9 KB\n"
     ]
    }
   ],
   "source": [
    "proceeds_by_months_by_users = proceeds_by_months_by_users.fillna(0)\n",
    "proceeds_by_months_by_users.info()"
   ]
  },
  {
   "cell_type": "markdown",
   "metadata": {},
   "source": [
    "Все *NaN* ушли. Теперь нужно узнать, какие у пользователей тарифы. Вытянем эту информацию из таблицы *users* и добавим к сводной таблице"
   ]
  },
  {
   "cell_type": "code",
   "execution_count": 21,
   "metadata": {},
   "outputs": [],
   "source": [
    "proceeds_by_months_by_users = proceeds_by_months_by_users.merge(users[['user_id', 'tariff']], on='user_id')\\\n",
    ".rename(columns={'tariff':'tariff_name'})"
   ]
  },
  {
   "cell_type": "code",
   "execution_count": 22,
   "metadata": {},
   "outputs": [
    {
     "name": "stdout",
     "output_type": "stream",
     "text": [
      "<class 'pandas.core.frame.DataFrame'>\n",
      "Int64Index: 3214 entries, 0 to 3213\n",
      "Data columns (total 8 columns):\n",
      "user_id          3214 non-null int64\n",
      "month            3214 non-null int64\n",
      "total_calls      3214 non-null float64\n",
      "minutes_used     3214 non-null float64\n",
      "messages_used    3214 non-null float64\n",
      "mb_used          3214 non-null float64\n",
      "gb_used          3214 non-null float64\n",
      "tariff_name      3214 non-null object\n",
      "dtypes: float64(5), int64(2), object(1)\n",
      "memory usage: 226.0+ KB\n"
     ]
    },
    {
     "data": {
      "text/plain": [
       "None"
      ]
     },
     "metadata": {},
     "output_type": "display_data"
    },
    {
     "data": {
      "text/html": [
       "<div>\n",
       "<style scoped>\n",
       "    .dataframe tbody tr th:only-of-type {\n",
       "        vertical-align: middle;\n",
       "    }\n",
       "\n",
       "    .dataframe tbody tr th {\n",
       "        vertical-align: top;\n",
       "    }\n",
       "\n",
       "    .dataframe thead th {\n",
       "        text-align: right;\n",
       "    }\n",
       "</style>\n",
       "<table border=\"1\" class=\"dataframe\">\n",
       "  <thead>\n",
       "    <tr style=\"text-align: right;\">\n",
       "      <th></th>\n",
       "      <th>user_id</th>\n",
       "      <th>month</th>\n",
       "      <th>total_calls</th>\n",
       "      <th>minutes_used</th>\n",
       "      <th>messages_used</th>\n",
       "      <th>mb_used</th>\n",
       "      <th>gb_used</th>\n",
       "      <th>tariff_name</th>\n",
       "    </tr>\n",
       "  </thead>\n",
       "  <tbody>\n",
       "    <tr>\n",
       "      <td>0</td>\n",
       "      <td>1000</td>\n",
       "      <td>5</td>\n",
       "      <td>22.0</td>\n",
       "      <td>159.0</td>\n",
       "      <td>22.0</td>\n",
       "      <td>2253.49</td>\n",
       "      <td>3.0</td>\n",
       "      <td>ultra</td>\n",
       "    </tr>\n",
       "    <tr>\n",
       "      <td>1</td>\n",
       "      <td>1000</td>\n",
       "      <td>6</td>\n",
       "      <td>43.0</td>\n",
       "      <td>172.0</td>\n",
       "      <td>60.0</td>\n",
       "      <td>23233.77</td>\n",
       "      <td>23.0</td>\n",
       "      <td>ultra</td>\n",
       "    </tr>\n",
       "    <tr>\n",
       "      <td>2</td>\n",
       "      <td>1000</td>\n",
       "      <td>7</td>\n",
       "      <td>47.0</td>\n",
       "      <td>340.0</td>\n",
       "      <td>75.0</td>\n",
       "      <td>14003.64</td>\n",
       "      <td>14.0</td>\n",
       "      <td>ultra</td>\n",
       "    </tr>\n",
       "    <tr>\n",
       "      <td>3</td>\n",
       "      <td>1000</td>\n",
       "      <td>8</td>\n",
       "      <td>52.0</td>\n",
       "      <td>408.0</td>\n",
       "      <td>81.0</td>\n",
       "      <td>14055.93</td>\n",
       "      <td>14.0</td>\n",
       "      <td>ultra</td>\n",
       "    </tr>\n",
       "    <tr>\n",
       "      <td>4</td>\n",
       "      <td>1000</td>\n",
       "      <td>9</td>\n",
       "      <td>58.0</td>\n",
       "      <td>466.0</td>\n",
       "      <td>57.0</td>\n",
       "      <td>14568.91</td>\n",
       "      <td>15.0</td>\n",
       "      <td>ultra</td>\n",
       "    </tr>\n",
       "  </tbody>\n",
       "</table>\n",
       "</div>"
      ],
      "text/plain": [
       "   user_id  month  total_calls  minutes_used  messages_used   mb_used  \\\n",
       "0     1000      5         22.0         159.0           22.0   2253.49   \n",
       "1     1000      6         43.0         172.0           60.0  23233.77   \n",
       "2     1000      7         47.0         340.0           75.0  14003.64   \n",
       "3     1000      8         52.0         408.0           81.0  14055.93   \n",
       "4     1000      9         58.0         466.0           57.0  14568.91   \n",
       "\n",
       "   gb_used tariff_name  \n",
       "0      3.0       ultra  \n",
       "1     23.0       ultra  \n",
       "2     14.0       ultra  \n",
       "3     14.0       ultra  \n",
       "4     15.0       ultra  "
      ]
     },
     "metadata": {},
     "output_type": "display_data"
    }
   ],
   "source": [
    "display(proceeds_by_months_by_users.info(), proceeds_by_months_by_users.head())"
   ]
  },
  {
   "cell_type": "code",
   "execution_count": 23,
   "metadata": {},
   "outputs": [],
   "source": [
    "proceeds_by_months_by_users = proceeds_by_months_by_users.merge(tariffs, on='tariff_name').sort_values(['user_id', 'month'])"
   ]
  },
  {
   "cell_type": "code",
   "execution_count": 24,
   "metadata": {},
   "outputs": [
    {
     "data": {
      "text/html": [
       "<div>\n",
       "<style scoped>\n",
       "    .dataframe tbody tr th:only-of-type {\n",
       "        vertical-align: middle;\n",
       "    }\n",
       "\n",
       "    .dataframe tbody tr th {\n",
       "        vertical-align: top;\n",
       "    }\n",
       "\n",
       "    .dataframe thead th {\n",
       "        text-align: right;\n",
       "    }\n",
       "</style>\n",
       "<table border=\"1\" class=\"dataframe\">\n",
       "  <thead>\n",
       "    <tr style=\"text-align: right;\">\n",
       "      <th></th>\n",
       "      <th>user_id</th>\n",
       "      <th>month</th>\n",
       "      <th>total_calls</th>\n",
       "      <th>minutes_used</th>\n",
       "      <th>messages_used</th>\n",
       "      <th>mb_used</th>\n",
       "      <th>gb_used</th>\n",
       "      <th>tariff_name</th>\n",
       "      <th>messages_included</th>\n",
       "      <th>mb_included</th>\n",
       "      <th>minutes_included</th>\n",
       "      <th>rub_monthly_fee</th>\n",
       "      <th>rub_per_gb</th>\n",
       "      <th>rub_per_message</th>\n",
       "      <th>rub_per_minute</th>\n",
       "    </tr>\n",
       "  </thead>\n",
       "  <tbody>\n",
       "    <tr>\n",
       "      <td>0</td>\n",
       "      <td>1000</td>\n",
       "      <td>5</td>\n",
       "      <td>22.0</td>\n",
       "      <td>159.0</td>\n",
       "      <td>22.0</td>\n",
       "      <td>2253.49</td>\n",
       "      <td>3.0</td>\n",
       "      <td>ultra</td>\n",
       "      <td>1000</td>\n",
       "      <td>30720</td>\n",
       "      <td>3000</td>\n",
       "      <td>1950</td>\n",
       "      <td>150</td>\n",
       "      <td>1</td>\n",
       "      <td>1</td>\n",
       "    </tr>\n",
       "    <tr>\n",
       "      <td>1</td>\n",
       "      <td>1000</td>\n",
       "      <td>6</td>\n",
       "      <td>43.0</td>\n",
       "      <td>172.0</td>\n",
       "      <td>60.0</td>\n",
       "      <td>23233.77</td>\n",
       "      <td>23.0</td>\n",
       "      <td>ultra</td>\n",
       "      <td>1000</td>\n",
       "      <td>30720</td>\n",
       "      <td>3000</td>\n",
       "      <td>1950</td>\n",
       "      <td>150</td>\n",
       "      <td>1</td>\n",
       "      <td>1</td>\n",
       "    </tr>\n",
       "    <tr>\n",
       "      <td>2</td>\n",
       "      <td>1000</td>\n",
       "      <td>7</td>\n",
       "      <td>47.0</td>\n",
       "      <td>340.0</td>\n",
       "      <td>75.0</td>\n",
       "      <td>14003.64</td>\n",
       "      <td>14.0</td>\n",
       "      <td>ultra</td>\n",
       "      <td>1000</td>\n",
       "      <td>30720</td>\n",
       "      <td>3000</td>\n",
       "      <td>1950</td>\n",
       "      <td>150</td>\n",
       "      <td>1</td>\n",
       "      <td>1</td>\n",
       "    </tr>\n",
       "    <tr>\n",
       "      <td>3</td>\n",
       "      <td>1000</td>\n",
       "      <td>8</td>\n",
       "      <td>52.0</td>\n",
       "      <td>408.0</td>\n",
       "      <td>81.0</td>\n",
       "      <td>14055.93</td>\n",
       "      <td>14.0</td>\n",
       "      <td>ultra</td>\n",
       "      <td>1000</td>\n",
       "      <td>30720</td>\n",
       "      <td>3000</td>\n",
       "      <td>1950</td>\n",
       "      <td>150</td>\n",
       "      <td>1</td>\n",
       "      <td>1</td>\n",
       "    </tr>\n",
       "    <tr>\n",
       "      <td>4</td>\n",
       "      <td>1000</td>\n",
       "      <td>9</td>\n",
       "      <td>58.0</td>\n",
       "      <td>466.0</td>\n",
       "      <td>57.0</td>\n",
       "      <td>14568.91</td>\n",
       "      <td>15.0</td>\n",
       "      <td>ultra</td>\n",
       "      <td>1000</td>\n",
       "      <td>30720</td>\n",
       "      <td>3000</td>\n",
       "      <td>1950</td>\n",
       "      <td>150</td>\n",
       "      <td>1</td>\n",
       "      <td>1</td>\n",
       "    </tr>\n",
       "  </tbody>\n",
       "</table>\n",
       "</div>"
      ],
      "text/plain": [
       "   user_id  month  total_calls  minutes_used  messages_used   mb_used  \\\n",
       "0     1000      5         22.0         159.0           22.0   2253.49   \n",
       "1     1000      6         43.0         172.0           60.0  23233.77   \n",
       "2     1000      7         47.0         340.0           75.0  14003.64   \n",
       "3     1000      8         52.0         408.0           81.0  14055.93   \n",
       "4     1000      9         58.0         466.0           57.0  14568.91   \n",
       "\n",
       "   gb_used tariff_name  messages_included  mb_included  minutes_included  \\\n",
       "0      3.0       ultra               1000        30720              3000   \n",
       "1     23.0       ultra               1000        30720              3000   \n",
       "2     14.0       ultra               1000        30720              3000   \n",
       "3     14.0       ultra               1000        30720              3000   \n",
       "4     15.0       ultra               1000        30720              3000   \n",
       "\n",
       "   rub_monthly_fee  rub_per_gb  rub_per_message  rub_per_minute  \n",
       "0             1950         150                1               1  \n",
       "1             1950         150                1               1  \n",
       "2             1950         150                1               1  \n",
       "3             1950         150                1               1  \n",
       "4             1950         150                1               1  "
      ]
     },
     "execution_count": 24,
     "metadata": {},
     "output_type": "execute_result"
    }
   ],
   "source": [
    "proceeds_by_months_by_users.head()"
   ]
  },
  {
   "cell_type": "markdown",
   "metadata": {},
   "source": [
    "Подсчитаем выручку с каждого клиента на основании потраченных ресурсов и подключенного тарифа.\n",
    "\n",
    "Для начала добавим дополнительные столбцы с информацией о минутах, числе сообщений и гигабайт Интернета, использованных сверх предусмотренных тарифным планом"
   ]
  },
  {
   "cell_type": "code",
   "execution_count": 25,
   "metadata": {},
   "outputs": [],
   "source": [
    "def extraMinutes(row):\n",
    "    return row['minutes_used'] - row['minutes_included'] if row['minutes_used'] >= row['minutes_included'] else 0\n",
    "\n",
    "def extraMessages(row):\n",
    "    return row['messages_used'] - row['messages_included'] if row['messages_used'] >= row['messages_included'] else 0\n",
    "\n",
    "def extraGb(row):\n",
    "    return row['gb_used'] - row['mb_included'] / 1024 if row['gb_used'] >= row['mb_included'] / 1024 else 0"
   ]
  },
  {
   "cell_type": "code",
   "execution_count": 26,
   "metadata": {},
   "outputs": [
    {
     "data": {
      "text/html": [
       "<div>\n",
       "<style scoped>\n",
       "    .dataframe tbody tr th:only-of-type {\n",
       "        vertical-align: middle;\n",
       "    }\n",
       "\n",
       "    .dataframe tbody tr th {\n",
       "        vertical-align: top;\n",
       "    }\n",
       "\n",
       "    .dataframe thead th {\n",
       "        text-align: right;\n",
       "    }\n",
       "</style>\n",
       "<table border=\"1\" class=\"dataframe\">\n",
       "  <thead>\n",
       "    <tr style=\"text-align: right;\">\n",
       "      <th></th>\n",
       "      <th>user_id</th>\n",
       "      <th>month</th>\n",
       "      <th>total_calls</th>\n",
       "      <th>minutes_used</th>\n",
       "      <th>messages_used</th>\n",
       "      <th>mb_used</th>\n",
       "      <th>gb_used</th>\n",
       "      <th>tariff_name</th>\n",
       "      <th>messages_included</th>\n",
       "      <th>mb_included</th>\n",
       "      <th>minutes_included</th>\n",
       "      <th>rub_monthly_fee</th>\n",
       "      <th>rub_per_gb</th>\n",
       "      <th>rub_per_message</th>\n",
       "      <th>rub_per_minute</th>\n",
       "      <th>extra_minutes</th>\n",
       "      <th>extra_messages</th>\n",
       "      <th>extra_gb</th>\n",
       "    </tr>\n",
       "  </thead>\n",
       "  <tbody>\n",
       "    <tr>\n",
       "      <td>1988</td>\n",
       "      <td>1216</td>\n",
       "      <td>12</td>\n",
       "      <td>198.0</td>\n",
       "      <td>1435.0</td>\n",
       "      <td>64.0</td>\n",
       "      <td>20066.05</td>\n",
       "      <td>20.0</td>\n",
       "      <td>smart</td>\n",
       "      <td>50</td>\n",
       "      <td>15360</td>\n",
       "      <td>500</td>\n",
       "      <td>550</td>\n",
       "      <td>200</td>\n",
       "      <td>3</td>\n",
       "      <td>3</td>\n",
       "      <td>935.0</td>\n",
       "      <td>14.0</td>\n",
       "      <td>5.0</td>\n",
       "    </tr>\n",
       "    <tr>\n",
       "      <td>2991</td>\n",
       "      <td>1451</td>\n",
       "      <td>12</td>\n",
       "      <td>141.0</td>\n",
       "      <td>1144.0</td>\n",
       "      <td>50.0</td>\n",
       "      <td>16951.64</td>\n",
       "      <td>17.0</td>\n",
       "      <td>smart</td>\n",
       "      <td>50</td>\n",
       "      <td>15360</td>\n",
       "      <td>500</td>\n",
       "      <td>550</td>\n",
       "      <td>200</td>\n",
       "      <td>3</td>\n",
       "      <td>3</td>\n",
       "      <td>644.0</td>\n",
       "      <td>0.0</td>\n",
       "      <td>2.0</td>\n",
       "    </tr>\n",
       "    <tr>\n",
       "      <td>2177</td>\n",
       "      <td>1261</td>\n",
       "      <td>12</td>\n",
       "      <td>141.0</td>\n",
       "      <td>1074.0</td>\n",
       "      <td>22.0</td>\n",
       "      <td>32650.91</td>\n",
       "      <td>32.0</td>\n",
       "      <td>smart</td>\n",
       "      <td>50</td>\n",
       "      <td>15360</td>\n",
       "      <td>500</td>\n",
       "      <td>550</td>\n",
       "      <td>200</td>\n",
       "      <td>3</td>\n",
       "      <td>3</td>\n",
       "      <td>574.0</td>\n",
       "      <td>0.0</td>\n",
       "      <td>17.0</td>\n",
       "    </tr>\n",
       "    <tr>\n",
       "      <td>2060</td>\n",
       "      <td>1229</td>\n",
       "      <td>12</td>\n",
       "      <td>128.0</td>\n",
       "      <td>1022.0</td>\n",
       "      <td>6.0</td>\n",
       "      <td>24999.56</td>\n",
       "      <td>25.0</td>\n",
       "      <td>smart</td>\n",
       "      <td>50</td>\n",
       "      <td>15360</td>\n",
       "      <td>500</td>\n",
       "      <td>550</td>\n",
       "      <td>200</td>\n",
       "      <td>3</td>\n",
       "      <td>3</td>\n",
       "      <td>522.0</td>\n",
       "      <td>0.0</td>\n",
       "      <td>10.0</td>\n",
       "    </tr>\n",
       "    <tr>\n",
       "      <td>3157</td>\n",
       "      <td>1486</td>\n",
       "      <td>12</td>\n",
       "      <td>133.0</td>\n",
       "      <td>1007.0</td>\n",
       "      <td>83.0</td>\n",
       "      <td>38552.45</td>\n",
       "      <td>38.0</td>\n",
       "      <td>smart</td>\n",
       "      <td>50</td>\n",
       "      <td>15360</td>\n",
       "      <td>500</td>\n",
       "      <td>550</td>\n",
       "      <td>200</td>\n",
       "      <td>3</td>\n",
       "      <td>3</td>\n",
       "      <td>507.0</td>\n",
       "      <td>33.0</td>\n",
       "      <td>23.0</td>\n",
       "    </tr>\n",
       "  </tbody>\n",
       "</table>\n",
       "</div>"
      ],
      "text/plain": [
       "      user_id  month  total_calls  minutes_used  messages_used   mb_used  \\\n",
       "1988     1216     12        198.0        1435.0           64.0  20066.05   \n",
       "2991     1451     12        141.0        1144.0           50.0  16951.64   \n",
       "2177     1261     12        141.0        1074.0           22.0  32650.91   \n",
       "2060     1229     12        128.0        1022.0            6.0  24999.56   \n",
       "3157     1486     12        133.0        1007.0           83.0  38552.45   \n",
       "\n",
       "      gb_used tariff_name  messages_included  mb_included  minutes_included  \\\n",
       "1988     20.0       smart                 50        15360               500   \n",
       "2991     17.0       smart                 50        15360               500   \n",
       "2177     32.0       smart                 50        15360               500   \n",
       "2060     25.0       smart                 50        15360               500   \n",
       "3157     38.0       smart                 50        15360               500   \n",
       "\n",
       "      rub_monthly_fee  rub_per_gb  rub_per_message  rub_per_minute  \\\n",
       "1988              550         200                3               3   \n",
       "2991              550         200                3               3   \n",
       "2177              550         200                3               3   \n",
       "2060              550         200                3               3   \n",
       "3157              550         200                3               3   \n",
       "\n",
       "      extra_minutes  extra_messages  extra_gb  \n",
       "1988          935.0            14.0       5.0  \n",
       "2991          644.0             0.0       2.0  \n",
       "2177          574.0             0.0      17.0  \n",
       "2060          522.0             0.0      10.0  \n",
       "3157          507.0            33.0      23.0  "
      ]
     },
     "execution_count": 26,
     "metadata": {},
     "output_type": "execute_result"
    }
   ],
   "source": [
    "proceeds_by_months_by_users['extra_minutes'] = proceeds_by_months_by_users.apply(extraMinutes, axis=1)\n",
    "proceeds_by_months_by_users['extra_messages'] = proceeds_by_months_by_users.apply(extraMessages, axis=1)\n",
    "proceeds_by_months_by_users['extra_gb'] = proceeds_by_months_by_users.apply(extraGb, axis=1)\n",
    "proceeds_by_months_by_users.sort_values('extra_minutes', ascending=False).head() #проверка"
   ]
  },
  {
   "cell_type": "markdown",
   "metadata": {},
   "source": [
    "А теперь найдем, сколько заработал \"Мегалайн\" на каждом клиенте в тот или иной месяц"
   ]
  },
  {
   "cell_type": "code",
   "execution_count": 27,
   "metadata": {},
   "outputs": [
    {
     "data": {
      "text/html": [
       "<div>\n",
       "<style scoped>\n",
       "    .dataframe tbody tr th:only-of-type {\n",
       "        vertical-align: middle;\n",
       "    }\n",
       "\n",
       "    .dataframe tbody tr th {\n",
       "        vertical-align: top;\n",
       "    }\n",
       "\n",
       "    .dataframe thead th {\n",
       "        text-align: right;\n",
       "    }\n",
       "</style>\n",
       "<table border=\"1\" class=\"dataframe\">\n",
       "  <thead>\n",
       "    <tr style=\"text-align: right;\">\n",
       "      <th></th>\n",
       "      <th>user_id</th>\n",
       "      <th>month</th>\n",
       "      <th>total_calls</th>\n",
       "      <th>minutes_used</th>\n",
       "      <th>messages_used</th>\n",
       "      <th>mb_used</th>\n",
       "      <th>gb_used</th>\n",
       "      <th>tariff_name</th>\n",
       "      <th>messages_included</th>\n",
       "      <th>mb_included</th>\n",
       "      <th>minutes_included</th>\n",
       "      <th>rub_monthly_fee</th>\n",
       "      <th>rub_per_gb</th>\n",
       "      <th>rub_per_message</th>\n",
       "      <th>rub_per_minute</th>\n",
       "      <th>extra_minutes</th>\n",
       "      <th>extra_messages</th>\n",
       "      <th>extra_gb</th>\n",
       "      <th>extra_fee</th>\n",
       "      <th>total_fee</th>\n",
       "    </tr>\n",
       "  </thead>\n",
       "  <tbody>\n",
       "    <tr>\n",
       "      <td>3157</td>\n",
       "      <td>1486</td>\n",
       "      <td>12</td>\n",
       "      <td>133.0</td>\n",
       "      <td>1007.0</td>\n",
       "      <td>83.0</td>\n",
       "      <td>38552.45</td>\n",
       "      <td>38.0</td>\n",
       "      <td>smart</td>\n",
       "      <td>50</td>\n",
       "      <td>15360</td>\n",
       "      <td>500</td>\n",
       "      <td>550</td>\n",
       "      <td>200</td>\n",
       "      <td>3</td>\n",
       "      <td>3</td>\n",
       "      <td>507.0</td>\n",
       "      <td>33.0</td>\n",
       "      <td>23.0</td>\n",
       "      <td>6220.0</td>\n",
       "      <td>6770.0</td>\n",
       "    </tr>\n",
       "    <tr>\n",
       "      <td>1183</td>\n",
       "      <td>1042</td>\n",
       "      <td>12</td>\n",
       "      <td>121.0</td>\n",
       "      <td>728.0</td>\n",
       "      <td>75.0</td>\n",
       "      <td>37165.69</td>\n",
       "      <td>37.0</td>\n",
       "      <td>smart</td>\n",
       "      <td>50</td>\n",
       "      <td>15360</td>\n",
       "      <td>500</td>\n",
       "      <td>550</td>\n",
       "      <td>200</td>\n",
       "      <td>3</td>\n",
       "      <td>3</td>\n",
       "      <td>228.0</td>\n",
       "      <td>25.0</td>\n",
       "      <td>22.0</td>\n",
       "      <td>5159.0</td>\n",
       "      <td>5709.0</td>\n",
       "    </tr>\n",
       "    <tr>\n",
       "      <td>3156</td>\n",
       "      <td>1486</td>\n",
       "      <td>11</td>\n",
       "      <td>108.0</td>\n",
       "      <td>764.0</td>\n",
       "      <td>96.0</td>\n",
       "      <td>36266.11</td>\n",
       "      <td>36.0</td>\n",
       "      <td>smart</td>\n",
       "      <td>50</td>\n",
       "      <td>15360</td>\n",
       "      <td>500</td>\n",
       "      <td>550</td>\n",
       "      <td>200</td>\n",
       "      <td>3</td>\n",
       "      <td>3</td>\n",
       "      <td>264.0</td>\n",
       "      <td>46.0</td>\n",
       "      <td>21.0</td>\n",
       "      <td>5130.0</td>\n",
       "      <td>5680.0</td>\n",
       "    </tr>\n",
       "    <tr>\n",
       "      <td>2177</td>\n",
       "      <td>1261</td>\n",
       "      <td>12</td>\n",
       "      <td>141.0</td>\n",
       "      <td>1074.0</td>\n",
       "      <td>22.0</td>\n",
       "      <td>32650.91</td>\n",
       "      <td>32.0</td>\n",
       "      <td>smart</td>\n",
       "      <td>50</td>\n",
       "      <td>15360</td>\n",
       "      <td>500</td>\n",
       "      <td>550</td>\n",
       "      <td>200</td>\n",
       "      <td>3</td>\n",
       "      <td>3</td>\n",
       "      <td>574.0</td>\n",
       "      <td>0.0</td>\n",
       "      <td>17.0</td>\n",
       "      <td>5122.0</td>\n",
       "      <td>5672.0</td>\n",
       "    </tr>\n",
       "    <tr>\n",
       "      <td>2298</td>\n",
       "      <td>1286</td>\n",
       "      <td>12</td>\n",
       "      <td>95.0</td>\n",
       "      <td>739.0</td>\n",
       "      <td>68.0</td>\n",
       "      <td>35108.07</td>\n",
       "      <td>35.0</td>\n",
       "      <td>smart</td>\n",
       "      <td>50</td>\n",
       "      <td>15360</td>\n",
       "      <td>500</td>\n",
       "      <td>550</td>\n",
       "      <td>200</td>\n",
       "      <td>3</td>\n",
       "      <td>3</td>\n",
       "      <td>239.0</td>\n",
       "      <td>18.0</td>\n",
       "      <td>20.0</td>\n",
       "      <td>4771.0</td>\n",
       "      <td>5321.0</td>\n",
       "    </tr>\n",
       "  </tbody>\n",
       "</table>\n",
       "</div>"
      ],
      "text/plain": [
       "      user_id  month  total_calls  minutes_used  messages_used   mb_used  \\\n",
       "3157     1486     12        133.0        1007.0           83.0  38552.45   \n",
       "1183     1042     12        121.0         728.0           75.0  37165.69   \n",
       "3156     1486     11        108.0         764.0           96.0  36266.11   \n",
       "2177     1261     12        141.0        1074.0           22.0  32650.91   \n",
       "2298     1286     12         95.0         739.0           68.0  35108.07   \n",
       "\n",
       "      gb_used tariff_name  messages_included  mb_included  minutes_included  \\\n",
       "3157     38.0       smart                 50        15360               500   \n",
       "1183     37.0       smart                 50        15360               500   \n",
       "3156     36.0       smart                 50        15360               500   \n",
       "2177     32.0       smart                 50        15360               500   \n",
       "2298     35.0       smart                 50        15360               500   \n",
       "\n",
       "      rub_monthly_fee  rub_per_gb  rub_per_message  rub_per_minute  \\\n",
       "3157              550         200                3               3   \n",
       "1183              550         200                3               3   \n",
       "3156              550         200                3               3   \n",
       "2177              550         200                3               3   \n",
       "2298              550         200                3               3   \n",
       "\n",
       "      extra_minutes  extra_messages  extra_gb  extra_fee  total_fee  \n",
       "3157          507.0            33.0      23.0     6220.0     6770.0  \n",
       "1183          228.0            25.0      22.0     5159.0     5709.0  \n",
       "3156          264.0            46.0      21.0     5130.0     5680.0  \n",
       "2177          574.0             0.0      17.0     5122.0     5672.0  \n",
       "2298          239.0            18.0      20.0     4771.0     5321.0  "
      ]
     },
     "execution_count": 27,
     "metadata": {},
     "output_type": "execute_result"
    }
   ],
   "source": [
    "proceeds_by_months_by_users['extra_fee'] = \\\n",
    "proceeds_by_months_by_users['extra_minutes'] * proceeds_by_months_by_users['rub_per_minute'] \\\n",
    "+ proceeds_by_months_by_users['extra_messages'] * proceeds_by_months_by_users['rub_per_message'] \\\n",
    "+ proceeds_by_months_by_users['extra_gb'] * proceeds_by_months_by_users['rub_per_gb']\n",
    "proceeds_by_months_by_users['total_fee'] = \\\n",
    "proceeds_by_months_by_users['rub_monthly_fee'] + proceeds_by_months_by_users['extra_fee']\n",
    "\n",
    "proceeds_by_months_by_users.sort_values('extra_fee', ascending=False).head() #проверка"
   ]
  },
  {
   "cell_type": "markdown",
   "metadata": {},
   "source": [
    "Вывод: мы проделали неплохую работу по сбору информации о пользователях, результатом которой стала сводная таблица, отражающая сколько пользователи используют ресурсы сверх тарифного плана и во сколько им это обходится. В самом затратном случае клиент потратил на экстра-минуты, -гигабайты и -смс более чем в 10 раз больше, чем на абонентскую плату. Такому абоненту стоит предложить перейти на более подходящий ему тариф *ultra*"
   ]
  },
  {
   "cell_type": "markdown",
   "metadata": {},
   "source": [
    "## Анализ данных"
   ]
  },
  {
   "cell_type": "markdown",
   "metadata": {},
   "source": [
    "Чтобы анализировать пользователей разных тарифов по отдельности, создадим две таблицы: с пользователями тарифа *smart* и *ultra*"
   ]
  },
  {
   "cell_type": "code",
   "execution_count": 28,
   "metadata": {},
   "outputs": [
    {
     "data": {
      "text/html": [
       "<div>\n",
       "<style scoped>\n",
       "    .dataframe tbody tr th:only-of-type {\n",
       "        vertical-align: middle;\n",
       "    }\n",
       "\n",
       "    .dataframe tbody tr th {\n",
       "        vertical-align: top;\n",
       "    }\n",
       "\n",
       "    .dataframe thead th {\n",
       "        text-align: right;\n",
       "    }\n",
       "</style>\n",
       "<table border=\"1\" class=\"dataframe\">\n",
       "  <thead>\n",
       "    <tr style=\"text-align: right;\">\n",
       "      <th></th>\n",
       "      <th>user_id</th>\n",
       "      <th>month</th>\n",
       "      <th>total_calls</th>\n",
       "      <th>minutes_used</th>\n",
       "      <th>messages_used</th>\n",
       "      <th>mb_used</th>\n",
       "      <th>gb_used</th>\n",
       "      <th>tariff_name</th>\n",
       "      <th>messages_included</th>\n",
       "      <th>mb_included</th>\n",
       "      <th>minutes_included</th>\n",
       "      <th>rub_monthly_fee</th>\n",
       "      <th>rub_per_gb</th>\n",
       "      <th>rub_per_message</th>\n",
       "      <th>rub_per_minute</th>\n",
       "      <th>extra_minutes</th>\n",
       "      <th>extra_messages</th>\n",
       "      <th>extra_gb</th>\n",
       "      <th>extra_fee</th>\n",
       "      <th>total_fee</th>\n",
       "    </tr>\n",
       "  </thead>\n",
       "  <tbody>\n",
       "    <tr>\n",
       "      <td>985</td>\n",
       "      <td>1001</td>\n",
       "      <td>11</td>\n",
       "      <td>59.0</td>\n",
       "      <td>430.0</td>\n",
       "      <td>0.0</td>\n",
       "      <td>18429.34</td>\n",
       "      <td>18.0</td>\n",
       "      <td>smart</td>\n",
       "      <td>50</td>\n",
       "      <td>15360</td>\n",
       "      <td>500</td>\n",
       "      <td>550</td>\n",
       "      <td>200</td>\n",
       "      <td>3</td>\n",
       "      <td>3</td>\n",
       "      <td>0.0</td>\n",
       "      <td>0.0</td>\n",
       "      <td>3.0</td>\n",
       "      <td>600.0</td>\n",
       "      <td>1150.0</td>\n",
       "    </tr>\n",
       "    <tr>\n",
       "      <td>986</td>\n",
       "      <td>1001</td>\n",
       "      <td>12</td>\n",
       "      <td>63.0</td>\n",
       "      <td>414.0</td>\n",
       "      <td>0.0</td>\n",
       "      <td>14036.66</td>\n",
       "      <td>14.0</td>\n",
       "      <td>smart</td>\n",
       "      <td>50</td>\n",
       "      <td>15360</td>\n",
       "      <td>500</td>\n",
       "      <td>550</td>\n",
       "      <td>200</td>\n",
       "      <td>3</td>\n",
       "      <td>3</td>\n",
       "      <td>0.0</td>\n",
       "      <td>0.0</td>\n",
       "      <td>0.0</td>\n",
       "      <td>0.0</td>\n",
       "      <td>550.0</td>\n",
       "    </tr>\n",
       "    <tr>\n",
       "      <td>987</td>\n",
       "      <td>1002</td>\n",
       "      <td>6</td>\n",
       "      <td>15.0</td>\n",
       "      <td>117.0</td>\n",
       "      <td>4.0</td>\n",
       "      <td>10856.82</td>\n",
       "      <td>11.0</td>\n",
       "      <td>smart</td>\n",
       "      <td>50</td>\n",
       "      <td>15360</td>\n",
       "      <td>500</td>\n",
       "      <td>550</td>\n",
       "      <td>200</td>\n",
       "      <td>3</td>\n",
       "      <td>3</td>\n",
       "      <td>0.0</td>\n",
       "      <td>0.0</td>\n",
       "      <td>0.0</td>\n",
       "      <td>0.0</td>\n",
       "      <td>550.0</td>\n",
       "    </tr>\n",
       "    <tr>\n",
       "      <td>988</td>\n",
       "      <td>1002</td>\n",
       "      <td>7</td>\n",
       "      <td>26.0</td>\n",
       "      <td>214.0</td>\n",
       "      <td>11.0</td>\n",
       "      <td>17580.10</td>\n",
       "      <td>18.0</td>\n",
       "      <td>smart</td>\n",
       "      <td>50</td>\n",
       "      <td>15360</td>\n",
       "      <td>500</td>\n",
       "      <td>550</td>\n",
       "      <td>200</td>\n",
       "      <td>3</td>\n",
       "      <td>3</td>\n",
       "      <td>0.0</td>\n",
       "      <td>0.0</td>\n",
       "      <td>3.0</td>\n",
       "      <td>600.0</td>\n",
       "      <td>1150.0</td>\n",
       "    </tr>\n",
       "    <tr>\n",
       "      <td>989</td>\n",
       "      <td>1002</td>\n",
       "      <td>8</td>\n",
       "      <td>42.0</td>\n",
       "      <td>289.0</td>\n",
       "      <td>13.0</td>\n",
       "      <td>20319.26</td>\n",
       "      <td>20.0</td>\n",
       "      <td>smart</td>\n",
       "      <td>50</td>\n",
       "      <td>15360</td>\n",
       "      <td>500</td>\n",
       "      <td>550</td>\n",
       "      <td>200</td>\n",
       "      <td>3</td>\n",
       "      <td>3</td>\n",
       "      <td>0.0</td>\n",
       "      <td>0.0</td>\n",
       "      <td>5.0</td>\n",
       "      <td>1000.0</td>\n",
       "      <td>1550.0</td>\n",
       "    </tr>\n",
       "  </tbody>\n",
       "</table>\n",
       "</div>"
      ],
      "text/plain": [
       "     user_id  month  total_calls  minutes_used  messages_used   mb_used  \\\n",
       "985     1001     11         59.0         430.0            0.0  18429.34   \n",
       "986     1001     12         63.0         414.0            0.0  14036.66   \n",
       "987     1002      6         15.0         117.0            4.0  10856.82   \n",
       "988     1002      7         26.0         214.0           11.0  17580.10   \n",
       "989     1002      8         42.0         289.0           13.0  20319.26   \n",
       "\n",
       "     gb_used tariff_name  messages_included  mb_included  minutes_included  \\\n",
       "985     18.0       smart                 50        15360               500   \n",
       "986     14.0       smart                 50        15360               500   \n",
       "987     11.0       smart                 50        15360               500   \n",
       "988     18.0       smart                 50        15360               500   \n",
       "989     20.0       smart                 50        15360               500   \n",
       "\n",
       "     rub_monthly_fee  rub_per_gb  rub_per_message  rub_per_minute  \\\n",
       "985              550         200                3               3   \n",
       "986              550         200                3               3   \n",
       "987              550         200                3               3   \n",
       "988              550         200                3               3   \n",
       "989              550         200                3               3   \n",
       "\n",
       "     extra_minutes  extra_messages  extra_gb  extra_fee  total_fee  \n",
       "985            0.0             0.0       3.0      600.0     1150.0  \n",
       "986            0.0             0.0       0.0        0.0      550.0  \n",
       "987            0.0             0.0       0.0        0.0      550.0  \n",
       "988            0.0             0.0       3.0      600.0     1150.0  \n",
       "989            0.0             0.0       5.0     1000.0     1550.0  "
      ]
     },
     "metadata": {},
     "output_type": "display_data"
    },
    {
     "data": {
      "text/html": [
       "<div>\n",
       "<style scoped>\n",
       "    .dataframe tbody tr th:only-of-type {\n",
       "        vertical-align: middle;\n",
       "    }\n",
       "\n",
       "    .dataframe tbody tr th {\n",
       "        vertical-align: top;\n",
       "    }\n",
       "\n",
       "    .dataframe thead th {\n",
       "        text-align: right;\n",
       "    }\n",
       "</style>\n",
       "<table border=\"1\" class=\"dataframe\">\n",
       "  <thead>\n",
       "    <tr style=\"text-align: right;\">\n",
       "      <th></th>\n",
       "      <th>user_id</th>\n",
       "      <th>month</th>\n",
       "      <th>total_calls</th>\n",
       "      <th>minutes_used</th>\n",
       "      <th>messages_used</th>\n",
       "      <th>mb_used</th>\n",
       "      <th>gb_used</th>\n",
       "      <th>tariff_name</th>\n",
       "      <th>messages_included</th>\n",
       "      <th>mb_included</th>\n",
       "      <th>minutes_included</th>\n",
       "      <th>rub_monthly_fee</th>\n",
       "      <th>rub_per_gb</th>\n",
       "      <th>rub_per_message</th>\n",
       "      <th>rub_per_minute</th>\n",
       "      <th>extra_minutes</th>\n",
       "      <th>extra_messages</th>\n",
       "      <th>extra_gb</th>\n",
       "      <th>extra_fee</th>\n",
       "      <th>total_fee</th>\n",
       "    </tr>\n",
       "  </thead>\n",
       "  <tbody>\n",
       "    <tr>\n",
       "      <td>0</td>\n",
       "      <td>1000</td>\n",
       "      <td>5</td>\n",
       "      <td>22.0</td>\n",
       "      <td>159.0</td>\n",
       "      <td>22.0</td>\n",
       "      <td>2253.49</td>\n",
       "      <td>3.0</td>\n",
       "      <td>ultra</td>\n",
       "      <td>1000</td>\n",
       "      <td>30720</td>\n",
       "      <td>3000</td>\n",
       "      <td>1950</td>\n",
       "      <td>150</td>\n",
       "      <td>1</td>\n",
       "      <td>1</td>\n",
       "      <td>0.0</td>\n",
       "      <td>0.0</td>\n",
       "      <td>0.0</td>\n",
       "      <td>0.0</td>\n",
       "      <td>1950.0</td>\n",
       "    </tr>\n",
       "    <tr>\n",
       "      <td>1</td>\n",
       "      <td>1000</td>\n",
       "      <td>6</td>\n",
       "      <td>43.0</td>\n",
       "      <td>172.0</td>\n",
       "      <td>60.0</td>\n",
       "      <td>23233.77</td>\n",
       "      <td>23.0</td>\n",
       "      <td>ultra</td>\n",
       "      <td>1000</td>\n",
       "      <td>30720</td>\n",
       "      <td>3000</td>\n",
       "      <td>1950</td>\n",
       "      <td>150</td>\n",
       "      <td>1</td>\n",
       "      <td>1</td>\n",
       "      <td>0.0</td>\n",
       "      <td>0.0</td>\n",
       "      <td>0.0</td>\n",
       "      <td>0.0</td>\n",
       "      <td>1950.0</td>\n",
       "    </tr>\n",
       "    <tr>\n",
       "      <td>2</td>\n",
       "      <td>1000</td>\n",
       "      <td>7</td>\n",
       "      <td>47.0</td>\n",
       "      <td>340.0</td>\n",
       "      <td>75.0</td>\n",
       "      <td>14003.64</td>\n",
       "      <td>14.0</td>\n",
       "      <td>ultra</td>\n",
       "      <td>1000</td>\n",
       "      <td>30720</td>\n",
       "      <td>3000</td>\n",
       "      <td>1950</td>\n",
       "      <td>150</td>\n",
       "      <td>1</td>\n",
       "      <td>1</td>\n",
       "      <td>0.0</td>\n",
       "      <td>0.0</td>\n",
       "      <td>0.0</td>\n",
       "      <td>0.0</td>\n",
       "      <td>1950.0</td>\n",
       "    </tr>\n",
       "    <tr>\n",
       "      <td>3</td>\n",
       "      <td>1000</td>\n",
       "      <td>8</td>\n",
       "      <td>52.0</td>\n",
       "      <td>408.0</td>\n",
       "      <td>81.0</td>\n",
       "      <td>14055.93</td>\n",
       "      <td>14.0</td>\n",
       "      <td>ultra</td>\n",
       "      <td>1000</td>\n",
       "      <td>30720</td>\n",
       "      <td>3000</td>\n",
       "      <td>1950</td>\n",
       "      <td>150</td>\n",
       "      <td>1</td>\n",
       "      <td>1</td>\n",
       "      <td>0.0</td>\n",
       "      <td>0.0</td>\n",
       "      <td>0.0</td>\n",
       "      <td>0.0</td>\n",
       "      <td>1950.0</td>\n",
       "    </tr>\n",
       "    <tr>\n",
       "      <td>4</td>\n",
       "      <td>1000</td>\n",
       "      <td>9</td>\n",
       "      <td>58.0</td>\n",
       "      <td>466.0</td>\n",
       "      <td>57.0</td>\n",
       "      <td>14568.91</td>\n",
       "      <td>15.0</td>\n",
       "      <td>ultra</td>\n",
       "      <td>1000</td>\n",
       "      <td>30720</td>\n",
       "      <td>3000</td>\n",
       "      <td>1950</td>\n",
       "      <td>150</td>\n",
       "      <td>1</td>\n",
       "      <td>1</td>\n",
       "      <td>0.0</td>\n",
       "      <td>0.0</td>\n",
       "      <td>0.0</td>\n",
       "      <td>0.0</td>\n",
       "      <td>1950.0</td>\n",
       "    </tr>\n",
       "  </tbody>\n",
       "</table>\n",
       "</div>"
      ],
      "text/plain": [
       "   user_id  month  total_calls  minutes_used  messages_used   mb_used  \\\n",
       "0     1000      5         22.0         159.0           22.0   2253.49   \n",
       "1     1000      6         43.0         172.0           60.0  23233.77   \n",
       "2     1000      7         47.0         340.0           75.0  14003.64   \n",
       "3     1000      8         52.0         408.0           81.0  14055.93   \n",
       "4     1000      9         58.0         466.0           57.0  14568.91   \n",
       "\n",
       "   gb_used tariff_name  messages_included  mb_included  minutes_included  \\\n",
       "0      3.0       ultra               1000        30720              3000   \n",
       "1     23.0       ultra               1000        30720              3000   \n",
       "2     14.0       ultra               1000        30720              3000   \n",
       "3     14.0       ultra               1000        30720              3000   \n",
       "4     15.0       ultra               1000        30720              3000   \n",
       "\n",
       "   rub_monthly_fee  rub_per_gb  rub_per_message  rub_per_minute  \\\n",
       "0             1950         150                1               1   \n",
       "1             1950         150                1               1   \n",
       "2             1950         150                1               1   \n",
       "3             1950         150                1               1   \n",
       "4             1950         150                1               1   \n",
       "\n",
       "   extra_minutes  extra_messages  extra_gb  extra_fee  total_fee  \n",
       "0            0.0             0.0       0.0        0.0     1950.0  \n",
       "1            0.0             0.0       0.0        0.0     1950.0  \n",
       "2            0.0             0.0       0.0        0.0     1950.0  \n",
       "3            0.0             0.0       0.0        0.0     1950.0  \n",
       "4            0.0             0.0       0.0        0.0     1950.0  "
      ]
     },
     "metadata": {},
     "output_type": "display_data"
    }
   ],
   "source": [
    "smart_users_by_month = proceeds_by_months_by_users.query('tariff_name == \"smart\"')\n",
    "ultra_users_by_month = proceeds_by_months_by_users.query('tariff_name == \"ultra\"')\n",
    "display(smart_users_by_month.head(), ultra_users_by_month.head())"
   ]
  },
  {
   "cell_type": "markdown",
   "metadata": {},
   "source": [
    "Рассмотрим, сколько в среднем за месяц расходуют минут, гигабайт и сообщений абоненты разных тарифных программ"
   ]
  },
  {
   "cell_type": "code",
   "execution_count": 29,
   "metadata": {},
   "outputs": [
    {
     "data": {
      "text/html": [
       "<div>\n",
       "<style scoped>\n",
       "    .dataframe tbody tr th:only-of-type {\n",
       "        vertical-align: middle;\n",
       "    }\n",
       "\n",
       "    .dataframe tbody tr th {\n",
       "        vertical-align: top;\n",
       "    }\n",
       "\n",
       "    .dataframe thead th {\n",
       "        text-align: right;\n",
       "    }\n",
       "</style>\n",
       "<table border=\"1\" class=\"dataframe\">\n",
       "  <thead>\n",
       "    <tr style=\"text-align: right;\">\n",
       "      <th></th>\n",
       "      <th>minutes_used</th>\n",
       "      <th>messages_used</th>\n",
       "      <th>gb_used</th>\n",
       "    </tr>\n",
       "  </thead>\n",
       "  <tbody>\n",
       "    <tr>\n",
       "      <td>count</td>\n",
       "      <td>2229.000000</td>\n",
       "      <td>2229.000000</td>\n",
       "      <td>2229.000000</td>\n",
       "    </tr>\n",
       "    <tr>\n",
       "      <td>mean</td>\n",
       "      <td>417.934948</td>\n",
       "      <td>33.384029</td>\n",
       "      <td>16.328847</td>\n",
       "    </tr>\n",
       "    <tr>\n",
       "      <td>std</td>\n",
       "      <td>190.313730</td>\n",
       "      <td>28.227876</td>\n",
       "      <td>5.747061</td>\n",
       "    </tr>\n",
       "    <tr>\n",
       "      <td>min</td>\n",
       "      <td>0.000000</td>\n",
       "      <td>0.000000</td>\n",
       "      <td>0.000000</td>\n",
       "    </tr>\n",
       "    <tr>\n",
       "      <td>25%</td>\n",
       "      <td>282.000000</td>\n",
       "      <td>10.000000</td>\n",
       "      <td>13.000000</td>\n",
       "    </tr>\n",
       "    <tr>\n",
       "      <td>50%</td>\n",
       "      <td>422.000000</td>\n",
       "      <td>28.000000</td>\n",
       "      <td>17.000000</td>\n",
       "    </tr>\n",
       "    <tr>\n",
       "      <td>75%</td>\n",
       "      <td>545.000000</td>\n",
       "      <td>51.000000</td>\n",
       "      <td>20.000000</td>\n",
       "    </tr>\n",
       "    <tr>\n",
       "      <td>max</td>\n",
       "      <td>1435.000000</td>\n",
       "      <td>143.000000</td>\n",
       "      <td>38.000000</td>\n",
       "    </tr>\n",
       "  </tbody>\n",
       "</table>\n",
       "</div>"
      ],
      "text/plain": [
       "       minutes_used  messages_used      gb_used\n",
       "count   2229.000000    2229.000000  2229.000000\n",
       "mean     417.934948      33.384029    16.328847\n",
       "std      190.313730      28.227876     5.747061\n",
       "min        0.000000       0.000000     0.000000\n",
       "25%      282.000000      10.000000    13.000000\n",
       "50%      422.000000      28.000000    17.000000\n",
       "75%      545.000000      51.000000    20.000000\n",
       "max     1435.000000     143.000000    38.000000"
      ]
     },
     "metadata": {},
     "output_type": "display_data"
    },
    {
     "name": "stdout",
     "output_type": "stream",
     "text": [
      "var(minutes_used) = 796.81\n",
      "var(messages_used) = 36219.32\n",
      "var(gb_used) = 33.03\n"
     ]
    }
   ],
   "source": [
    "display(smart_users_by_month[['minutes_used', 'messages_used', 'gb_used']].describe())\n",
    "print('var(minutes_used) = {0:.2f}\\nvar(messages_used) = {1:.2f}\\nvar(gb_used) = {2:.2f}'.\\\n",
    "      format(np.var(smart_users_by_month['messages_used'], ddof=1), np.var(smart_users_by_month['minutes_used'], ddof=1),\\\n",
    "      np.var(smart_users_by_month['gb_used'], ddof=1)))"
   ]
  },
  {
   "cell_type": "code",
   "execution_count": 30,
   "metadata": {},
   "outputs": [
    {
     "data": {
      "text/html": [
       "<div>\n",
       "<style scoped>\n",
       "    .dataframe tbody tr th:only-of-type {\n",
       "        vertical-align: middle;\n",
       "    }\n",
       "\n",
       "    .dataframe tbody tr th {\n",
       "        vertical-align: top;\n",
       "    }\n",
       "\n",
       "    .dataframe thead th {\n",
       "        text-align: right;\n",
       "    }\n",
       "</style>\n",
       "<table border=\"1\" class=\"dataframe\">\n",
       "  <thead>\n",
       "    <tr style=\"text-align: right;\">\n",
       "      <th></th>\n",
       "      <th>minutes_used</th>\n",
       "      <th>messages_used</th>\n",
       "      <th>gb_used</th>\n",
       "    </tr>\n",
       "  </thead>\n",
       "  <tbody>\n",
       "    <tr>\n",
       "      <td>count</td>\n",
       "      <td>985.000000</td>\n",
       "      <td>985.000000</td>\n",
       "      <td>985.000000</td>\n",
       "    </tr>\n",
       "    <tr>\n",
       "      <td>mean</td>\n",
       "      <td>526.623350</td>\n",
       "      <td>49.363452</td>\n",
       "      <td>19.494416</td>\n",
       "    </tr>\n",
       "    <tr>\n",
       "      <td>std</td>\n",
       "      <td>317.606098</td>\n",
       "      <td>47.804457</td>\n",
       "      <td>9.853511</td>\n",
       "    </tr>\n",
       "    <tr>\n",
       "      <td>min</td>\n",
       "      <td>0.000000</td>\n",
       "      <td>0.000000</td>\n",
       "      <td>0.000000</td>\n",
       "    </tr>\n",
       "    <tr>\n",
       "      <td>25%</td>\n",
       "      <td>284.000000</td>\n",
       "      <td>6.000000</td>\n",
       "      <td>12.000000</td>\n",
       "    </tr>\n",
       "    <tr>\n",
       "      <td>50%</td>\n",
       "      <td>518.000000</td>\n",
       "      <td>38.000000</td>\n",
       "      <td>19.000000</td>\n",
       "    </tr>\n",
       "    <tr>\n",
       "      <td>75%</td>\n",
       "      <td>752.000000</td>\n",
       "      <td>79.000000</td>\n",
       "      <td>27.000000</td>\n",
       "    </tr>\n",
       "    <tr>\n",
       "      <td>max</td>\n",
       "      <td>1673.000000</td>\n",
       "      <td>224.000000</td>\n",
       "      <td>49.000000</td>\n",
       "    </tr>\n",
       "  </tbody>\n",
       "</table>\n",
       "</div>"
      ],
      "text/plain": [
       "       minutes_used  messages_used     gb_used\n",
       "count    985.000000     985.000000  985.000000\n",
       "mean     526.623350      49.363452   19.494416\n",
       "std      317.606098      47.804457    9.853511\n",
       "min        0.000000       0.000000    0.000000\n",
       "25%      284.000000       6.000000   12.000000\n",
       "50%      518.000000      38.000000   19.000000\n",
       "75%      752.000000      79.000000   27.000000\n",
       "max     1673.000000     224.000000   49.000000"
      ]
     },
     "metadata": {},
     "output_type": "display_data"
    },
    {
     "name": "stdout",
     "output_type": "stream",
     "text": [
      "var(minutes_used) = 2285.27\n",
      "var(messages_used) = 100873.63\n",
      "var(gb_used) = 97.09\n"
     ]
    }
   ],
   "source": [
    "display(ultra_users_by_month[['minutes_used', 'messages_used', 'gb_used']].describe())\n",
    "print('var(minutes_used) = {0:.2f}\\nvar(messages_used) = {1:.2f}\\nvar(gb_used) = {2:.2f}'.\\\n",
    "      format(np.var(ultra_users_by_month['messages_used'], ddof=1), np.var(ultra_users_by_month['minutes_used'], ddof=1),\\\n",
    "      np.var(ultra_users_by_month['gb_used'], ddof=1)))"
   ]
  },
  {
   "cell_type": "markdown",
   "metadata": {},
   "source": [
    "Для наглядности выведем таблицу со средними значениями использованных минут, смс и Интернет-трафика в месяц для обоих тарифов и таблицу с предоставляемыми условиями тарифов"
   ]
  },
  {
   "cell_type": "code",
   "execution_count": 31,
   "metadata": {},
   "outputs": [
    {
     "data": {
      "text/plain": [
       "'Условия по тарифам'"
      ]
     },
     "metadata": {},
     "output_type": "display_data"
    },
    {
     "data": {
      "text/html": [
       "<div>\n",
       "<style scoped>\n",
       "    .dataframe tbody tr th:only-of-type {\n",
       "        vertical-align: middle;\n",
       "    }\n",
       "\n",
       "    .dataframe tbody tr th {\n",
       "        vertical-align: top;\n",
       "    }\n",
       "\n",
       "    .dataframe thead th {\n",
       "        text-align: right;\n",
       "    }\n",
       "</style>\n",
       "<table border=\"1\" class=\"dataframe\">\n",
       "  <thead>\n",
       "    <tr style=\"text-align: right;\">\n",
       "      <th></th>\n",
       "      <th>minutes_included</th>\n",
       "      <th>messages_included</th>\n",
       "      <th>gb_included</th>\n",
       "      <th>tariff_name</th>\n",
       "    </tr>\n",
       "  </thead>\n",
       "  <tbody>\n",
       "    <tr>\n",
       "      <td>0</td>\n",
       "      <td>500</td>\n",
       "      <td>50</td>\n",
       "      <td>15</td>\n",
       "      <td>smart</td>\n",
       "    </tr>\n",
       "    <tr>\n",
       "      <td>1</td>\n",
       "      <td>3000</td>\n",
       "      <td>1000</td>\n",
       "      <td>30</td>\n",
       "      <td>ultra</td>\n",
       "    </tr>\n",
       "  </tbody>\n",
       "</table>\n",
       "</div>"
      ],
      "text/plain": [
       "   minutes_included  messages_included  gb_included tariff_name\n",
       "0               500                 50           15       smart\n",
       "1              3000               1000           30       ultra"
      ]
     },
     "metadata": {},
     "output_type": "display_data"
    },
    {
     "data": {
      "text/plain": [
       "'Реальное использование'"
      ]
     },
     "metadata": {},
     "output_type": "display_data"
    },
    {
     "data": {
      "text/html": [
       "<div>\n",
       "<style scoped>\n",
       "    .dataframe tbody tr th:only-of-type {\n",
       "        vertical-align: middle;\n",
       "    }\n",
       "\n",
       "    .dataframe tbody tr th {\n",
       "        vertical-align: top;\n",
       "    }\n",
       "\n",
       "    .dataframe thead th {\n",
       "        text-align: right;\n",
       "    }\n",
       "</style>\n",
       "<table border=\"1\" class=\"dataframe\">\n",
       "  <thead>\n",
       "    <tr style=\"text-align: right;\">\n",
       "      <th></th>\n",
       "      <th>minutes_used</th>\n",
       "      <th>messages_used</th>\n",
       "      <th>gb_used</th>\n",
       "      <th>tariff_name</th>\n",
       "    </tr>\n",
       "  </thead>\n",
       "  <tbody>\n",
       "    <tr>\n",
       "      <td>0</td>\n",
       "      <td>418</td>\n",
       "      <td>33</td>\n",
       "      <td>16</td>\n",
       "      <td>smart</td>\n",
       "    </tr>\n",
       "    <tr>\n",
       "      <td>1</td>\n",
       "      <td>527</td>\n",
       "      <td>49</td>\n",
       "      <td>19</td>\n",
       "      <td>ultra</td>\n",
       "    </tr>\n",
       "  </tbody>\n",
       "</table>\n",
       "</div>"
      ],
      "text/plain": [
       "   minutes_used  messages_used  gb_used tariff_name\n",
       "0           418             33       16       smart\n",
       "1           527             49       19       ultra"
      ]
     },
     "metadata": {},
     "output_type": "display_data"
    }
   ],
   "source": [
    "tariffs['gb_included'] = (tariffs['mb_included'] / 1024).astype('int8')\n",
    "display('Условия по тарифам', tariffs[['minutes_included', 'messages_included', 'gb_included', 'tariff_name']])\n",
    "min_mes_gb_mean_per_month_by_tariffs = pd.DataFrame({\n",
    "    'minutes_used':[round(smart_users_by_month['minutes_used'].mean()), round(ultra_users_by_month['minutes_used'].mean())],\n",
    "    'messages_used':[round(smart_users_by_month['messages_used'].mean()), round(ultra_users_by_month['messages_used'].mean())],\n",
    "    'gb_used':[round(smart_users_by_month['gb_used'].mean()), round(ultra_users_by_month['gb_used'].mean())],\n",
    "    'tariff_name':['smart', 'ultra']\n",
    "})\n",
    "display('Реальное использование', min_mes_gb_mean_per_month_by_tariffs)"
   ]
  },
  {
   "cell_type": "markdown",
   "metadata": {},
   "source": [
    "Как мы видим, пользователи тарифа *smart* в среднем в месяц доплачивают за 1 гигабайт Интернета; остальных ресурсов им хватает.\n",
    "Обладатели тарифного плана *ultra*, в основном, не доплачивают сверх абонентской платы, но зато используют ресурсы своего тарифа менее эффективно"
   ]
  },
  {
   "cell_type": "markdown",
   "metadata": {},
   "source": [
    "Перейдем от цифр к графикам. Построим гистограммы по каждой из рассмотренных ранее величин для пользователей разных тарифов. Найдем закономерности"
   ]
  },
  {
   "cell_type": "code",
   "execution_count": 40,
   "metadata": {},
   "outputs": [
    {
     "data": {
      "image/png": "[encoded data removed]",
      "text/plain": [
       "<Figure size 432x288 with 1 Axes>"
      ]
     },
     "metadata": {
      "needs_background": "light"
     },
     "output_type": "display_data"
    }
   ],
   "source": [
    "plt.hist(smart_users_by_month['minutes_used'], label='Смарт', alpha = 0.7)\n",
    "plt.hist(ultra_users_by_month['minutes_used'], label='Ультра', alpha = 0.7)\n",
    "plt.xlabel('минуты')\n",
    "plt.ylabel('количество абонентов')\n",
    "plt.title('Среднее количество потраченных минут в месяц')\n",
    "plt.legend()\n",
    "plt.grid()\n",
    "plt.show()"
   ]
  },
  {
   "cell_type": "markdown",
   "metadata": {},
   "source": [
    "Оба набора данных скошены влево. Это говорит нам о том, что большинству пользователей хватает 500-600 минут звонков в месяц. Но бывают и выбросы (более 1000 минут)"
   ]
  },
  {
   "cell_type": "code",
   "execution_count": 33,
   "metadata": {},
   "outputs": [
    {
     "data": {
      "image/png": "[encoded data removed]",
      "text/plain": [
       "<Figure size 432x288 with 1 Axes>"
      ]
     },
     "metadata": {
      "needs_background": "light"
     },
     "output_type": "display_data"
    }
   ],
   "source": [
    "plt.hist(smart_users_by_month['messages_used'], label='Смарт', alpha = 0.7)\n",
    "plt.hist(ultra_users_by_month['messages_used'], label='Ультра', alpha = 0.7)\n",
    "plt.xlabel('количество сообщений')\n",
    "plt.ylabel('количество абонентов')\n",
    "plt.title('Среднее количество отправленных сообщений в месяц')\n",
    "plt.legend()\n",
    "plt.grid()\n",
    "plt.show()"
   ]
  },
  {
   "cell_type": "markdown",
   "metadata": {},
   "source": [
    "Наборы данных о сообщениях скошены вправо, причем очень серьезно. По гистограммам видно, что сообщения изживают себя и уходят в прошлое. Большинству пользователей хватает и 50 сообщений в месяц; самым требовательным необходимо до 80; больше 80 - единицам"
   ]
  },
  {
   "cell_type": "code",
   "execution_count": 34,
   "metadata": {},
   "outputs": [
    {
     "data": {
      "image/png": "[encoded data removed]",
      "text/plain": [
       "<Figure size 432x288 with 1 Axes>"
      ]
     },
     "metadata": {
      "needs_background": "light"
     },
     "output_type": "display_data"
    }
   ],
   "source": [
    "plt.hist(smart_users_by_month['gb_used'], label='Смарт', alpha = 0.7)\n",
    "plt.hist(ultra_users_by_month['gb_used'], label='Ультра', alpha = 0.7)\n",
    "plt.xlabel('количество гигабайт')\n",
    "plt.ylabel('количество абонентов')\n",
    "plt.title('Среднее количество потраченных гигабайт в месяц')\n",
    "plt.legend()\n",
    "plt.grid()\n",
    "plt.show()"
   ]
  },
  {
   "cell_type": "markdown",
   "metadata": {},
   "source": [
    "Самые симметричные графики получились у наборов распределения Интернет-трафика. Глядя на них, можно сказать, что с предлагаемым количеством мобильного Интернета компания в своих тарифах угадала больше всего (точнее всего попала в потребность пользователей)"
   ]
  },
  {
   "cell_type": "markdown",
   "metadata": {},
   "source": [
    "Вывод: проанализировав средние значения по потраченным минутам, гигабайтам и сообщениям, мы пришли к выводу о том, что пользователи зачастую расходуют меньше, чем предусмотрено тарифным планом. Единственным моментом, где абоненты чаще тратятся на приобретение пакетов доп. услуг, является недостаток количества Интернет-трафика в тарифе *Smart*. В среднем пользователи данного тарифа докупают 1 гигабайт мобильного Интернета в месяц"
   ]
  },
  {
   "cell_type": "markdown",
   "metadata": {},
   "source": [
    "## Проверка гипотез"
   ]
  },
  {
   "cell_type": "markdown",
   "metadata": {},
   "source": [
    "Проверим на наших данных некоторые гипотезы:\n",
    "* средняя выручка на одного пользователя тарифов «Ультра» и «Смарт» различаются;\n",
    "* средняя выручка на одного пользователя из Москвы отличается от выручки пользователей из других регионов.\n",
    "\n",
    "Для проверки гипотез будем использовать Т-критерий Стьюдента для независимых выборок"
   ]
  },
  {
   "cell_type": "markdown",
   "metadata": {},
   "source": [
    "Пойдем по порядку, начнем с первой гипотезы. Для начала найдем средние значения и дисперсии данных выборок, сравним \"на глазок\""
   ]
  },
  {
   "cell_type": "code",
   "execution_count": 35,
   "metadata": {},
   "outputs": [
    {
     "name": "stdout",
     "output_type": "stream",
     "text": [
      "Средняя выручка на одного пользователя тарифа smart: 1289.97\n",
      "Дисперсия: 669785.71\n",
      "\n",
      "Средняя выручка на одного пользователя тарифа ultra: 2070.15\n",
      "Дисперсия: 141516.75\n"
     ]
    }
   ],
   "source": [
    "print('Средняя выручка на одного пользователя тарифа smart: {0:.2f}\\nДисперсия: {1:.2f}'.\\\n",
    "        format(smart_users_by_month['total_fee'].mean(), np.var(smart_users_by_month['total_fee'], ddof=1)))\n",
    "print('\\nСредняя выручка на одного пользователя тарифа ultra: {0:.2f}\\nДисперсия: {1:.2f}'.\\\n",
    "        format(ultra_users_by_month['total_fee'].mean(), np.var(ultra_users_by_month['total_fee'], ddof=1)))"
   ]
  },
  {
   "cell_type": "markdown",
   "metadata": {},
   "source": [
    "Как мы видим, выборки не очень похожи друг на друга: пользователи тарифа *Smart* в среднем тратят меньше, но разброс в выручке по таким пользователям сильно выше, чем по пользователям тарифа *Ultra*. Для большей наглядности построим гистограммы распределений"
   ]
  },
  {
   "cell_type": "code",
   "execution_count": 41,
   "metadata": {},
   "outputs": [
    {
     "data": {
      "image/png": "[encoded data removed]",
      "text/plain": [
       "<Figure size 432x288 with 1 Axes>"
      ]
     },
     "metadata": {
      "needs_background": "light"
     },
     "output_type": "display_data"
    }
   ],
   "source": [
    "plt.hist(smart_users_by_month['total_fee'], label='Смарт', alpha = 0.7, range=(500, 3000))\n",
    "plt.hist(ultra_users_by_month['total_fee'], label='Ультра', alpha = 0.7, range=(500, 3000))\n",
    "plt.xlabel('месячная выручка с абонента (руб)')\n",
    "plt.ylabel('количество абонентов')\n",
    "plt.title('Средняя выручка на одного пользователя')\n",
    "plt.legend()\n",
    "plt.grid()\n",
    "plt.show()"
   ]
  },
  {
   "cell_type": "markdown",
   "metadata": {},
   "source": [
    "Пользователи тарифа *Смарт* тратят в среднем меньше, но гораздо чаще приобретают пакеты допольнительных услуг. Но пока все наши выводы были сделаны на основе нашего первого взгляда на данные выборки. Теперь же обратимся к инструментам статистического анализа, чтобы узнать вероятность равенства средних значений при подобных выборках"
   ]
  },
  {
   "cell_type": "markdown",
   "metadata": {},
   "source": [
    "Сформируем нулевую гипотезу: средняя выручка на одного пользователя тарифа *Смарт* равна средней выручке на одного пользователя тарифа *Ультра* - и проверим ее с помощью Т-теста для двух независимых совокупностей. Критический уровень статистической значимости установим 0.05, так как большая точность нам неважна"
   ]
  },
  {
   "cell_type": "code",
   "execution_count": 37,
   "metadata": {},
   "outputs": [
    {
     "name": "stdout",
     "output_type": "stream",
     "text": [
      "p-value = 4.26e-250\n",
      "Отвергаем нулевую гипотезу\n"
     ]
    }
   ],
   "source": [
    "from scipy import stats as st #библиотека для использования статистических методов\n",
    "\n",
    "results = st.ttest_ind(smart_users_by_month['total_fee'], ultra_users_by_month['total_fee'], equal_var=False)\n",
    "alpha = 0.05\n",
    "\n",
    "print('p-value = {0:.2e}'.format(results.pvalue))\n",
    "if results.pvalue < alpha:\n",
    "    print('Отвергаем нулевую гипотезу')\n",
    "else:\n",
    "    print('Не получилось отвергнуть нулевую гипотезу')"
   ]
  },
  {
   "cell_type": "markdown",
   "metadata": {},
   "source": [
    "Результаты данного теста говорят нам о том, что вероятность получить одинаковые средние значения между данными совокупностями крайне мала (4.26е-250)"
   ]
  },
  {
   "cell_type": "markdown",
   "metadata": {},
   "source": [
    "Проделаем такую же проверку с помощью Т-теста для независимых совокупностей для гипотезы о равенстве средних выручек из Москвы и регионов.\n",
    "\n",
    "Сформулируем нулевую гипотезу: средняя выручка на одного пользователя из Москвы равна средней выручке на одного пользователя не из Москвы.\n",
    "\n",
    "Критический уровень значимости возьмем такой же"
   ]
  },
  {
   "cell_type": "code",
   "execution_count": 38,
   "metadata": {},
   "outputs": [],
   "source": [
    "proceeds_by_months_by_users = proceeds_by_months_by_users.merge(users[['user_id', 'city']], on='user_id')"
   ]
  },
  {
   "cell_type": "code",
   "execution_count": 39,
   "metadata": {
    "scrolled": true
   },
   "outputs": [
    {
     "name": "stdout",
     "output_type": "stream",
     "text": [
      "p-value = 0.53\n",
      "Не получилось отвергнуть нулевую гипотезу\n"
     ]
    }
   ],
   "source": [
    "results = st.ttest_ind(proceeds_by_months_by_users.query('city == \"Москва\"')['total_fee'],\\\n",
    "                       proceeds_by_months_by_users.query('city != \"Москва\"')['total_fee'], equal_var=False)\n",
    "\n",
    "print('p-value = {0:.2f}'.format(results.pvalue))\n",
    "if results.pvalue < alpha:\n",
    "    print('Отвергаем нулевую гипотезу')\n",
    "else:\n",
    "    print('Не получилось отвергнуть нулевую гипотезу')"
   ]
  },
  {
   "cell_type": "markdown",
   "metadata": {},
   "source": [
    "Вероятность того, что другие случайные выборки из совокупности пользователей из Москвы и не из Москвы в среднем будут равны, составляет 53%, что существенно выше, чем выбранный критический уровень значимости (5%). Соответственно, данную гипотезу мы отвергнуть не можем"
   ]
  },
  {
   "cell_type": "markdown",
   "metadata": {},
   "source": [
    "Вывод: мы проверили две гипотезы по выборкам данных. Вероятность того, что пользователи разных тарифов тратят в месяц одинаковую сумму денег крайне оказалась крайне низкой, поэтому гипотезу о равной выручке на пользователей разных тарифных планов пришлось отвергнуть. Гипотезу о том, что пользователи из Москвы и регионов тратят одинаковое количество денег на услуги мобильной связи, отвергнуть не удалось, так как вероятность такого исхода 0.53, что выше выбранного нами критического уровня значимости"
   ]
  },
  {
   "cell_type": "markdown",
   "metadata": {},
   "source": [
    "## Вывод"
   ]
  },
  {
   "cell_type": "markdown",
   "metadata": {},
   "source": [
    "Мы провели косметическую предобработку данных: удалили лишний столбец, дублирующий *id* в таблице *internet*, также сделали преобразование типов данных в некоторых местах.\n",
    "\n",
    "После анализа используемых ресурсов мы пришли к тому, что количество сообщений, включенных в тарифные планы и звонков, в основном, пользователям хватает, тогда как Интернет абоненты тарифа *Смарт* зачастую докупают в течение месяца, таким пользователям стоит предложить перейти на тариф *Ультра*, либо ввести дополнительный (промежуточный) вариант тарифа, который удовлетворил бы их потребности\n",
    "\n",
    "Также для данной выборки пользователей мы проверили ряд гипотез:\n",
    "* средняя выручка для абонентов тарифа *Смарт* равна средней выручке для абонента тарифа *Ультра* - нулевая гипотеза отвергнута; p-value = 4.26e-250\n",
    "* средняя выручка для пользователей из Москвы равна средней выручке для пользователей из регионов - нулевая гипотеза не отвергнута; p-value = 0.53"
   ]
  }
 ],
 "metadata": {
  "ExecuteTimeLog": [
   {
    "duration": 715,
    "start_time": "2021-09-27T06:48:39.049Z"
   },
   {
    "duration": 4,
    "start_time": "2021-09-27T17:24:07.613Z"
   },
   {
    "duration": 212,
    "start_time": "2021-09-27T17:24:09.359Z"
   },
   {
    "duration": 21,
    "start_time": "2021-09-27T17:24:11.160Z"
   },
   {
    "duration": 2829,
    "start_time": "2021-09-27T17:26:41.929Z"
   },
   {
    "duration": 554,
    "start_time": "2021-09-27T17:27:08.339Z"
   },
   {
    "duration": 11,
    "start_time": "2021-09-27T17:27:23.308Z"
   },
   {
    "duration": 12,
    "start_time": "2021-09-27T17:27:31.849Z"
   },
   {
    "duration": 12,
    "start_time": "2021-09-27T17:27:52.654Z"
   },
   {
    "duration": 17,
    "start_time": "2021-09-27T17:28:07.144Z"
   },
   {
    "duration": 323,
    "start_time": "2021-09-27T17:28:35.346Z"
   },
   {
    "duration": 44,
    "start_time": "2021-09-27T17:28:40.782Z"
   },
   {
    "duration": 30,
    "start_time": "2021-09-27T17:33:11.324Z"
   },
   {
    "duration": 20,
    "start_time": "2021-09-27T17:33:32.902Z"
   },
   {
    "duration": 21,
    "start_time": "2021-09-27T17:33:50.673Z"
   },
   {
    "duration": 10,
    "start_time": "2021-09-27T17:34:10.129Z"
   },
   {
    "duration": 8,
    "start_time": "2021-09-27T17:34:21.745Z"
   },
   {
    "duration": 374,
    "start_time": "2021-09-28T02:01:16.660Z"
   },
   {
    "duration": 618,
    "start_time": "2021-09-28T02:01:27.204Z"
   },
   {
    "duration": 400,
    "start_time": "2021-09-28T02:01:27.824Z"
   },
   {
    "duration": 36,
    "start_time": "2021-09-28T02:01:28.226Z"
   },
   {
    "duration": 81,
    "start_time": "2021-09-28T02:01:28.265Z"
   },
   {
    "duration": 20,
    "start_time": "2021-09-28T02:01:28.348Z"
   },
   {
    "duration": 14,
    "start_time": "2021-09-28T02:01:28.370Z"
   },
   {
    "duration": 19,
    "start_time": "2021-09-28T02:01:28.386Z"
   },
   {
    "duration": 6,
    "start_time": "2021-09-28T02:01:28.407Z"
   },
   {
    "duration": 8,
    "start_time": "2021-09-28T02:01:28.443Z"
   },
   {
    "duration": 21,
    "start_time": "2021-09-28T02:02:20.677Z"
   },
   {
    "duration": 19,
    "start_time": "2021-09-28T02:02:28.739Z"
   },
   {
    "duration": 15,
    "start_time": "2021-09-28T02:03:02.711Z"
   },
   {
    "duration": 16,
    "start_time": "2021-09-28T02:03:03.616Z"
   },
   {
    "duration": 6,
    "start_time": "2021-09-28T02:03:04.155Z"
   },
   {
    "duration": 6,
    "start_time": "2021-09-28T02:03:04.853Z"
   },
   {
    "duration": 4,
    "start_time": "2021-09-28T03:07:08.454Z"
   },
   {
    "duration": 601,
    "start_time": "2021-09-28T04:06:04.880Z"
   },
   {
    "duration": 6745,
    "start_time": "2021-09-28T04:06:11.880Z"
   },
   {
    "duration": 1835,
    "start_time": "2021-09-28T04:06:23.208Z"
   },
   {
    "duration": 19,
    "start_time": "2021-09-28T04:08:53.196Z"
   },
   {
    "duration": 2379,
    "start_time": "2021-09-28T04:09:22.463Z"
   },
   {
    "duration": 30,
    "start_time": "2021-09-28T04:11:26.819Z"
   },
   {
    "duration": 16,
    "start_time": "2021-09-28T04:11:41.037Z"
   },
   {
    "duration": 50,
    "start_time": "2021-09-28T04:14:46.715Z"
   },
   {
    "duration": 280,
    "start_time": "2021-09-28T04:15:17.151Z"
   },
   {
    "duration": 4,
    "start_time": "2021-09-28T04:15:24.116Z"
   },
   {
    "duration": 17,
    "start_time": "2021-09-28T04:16:05.397Z"
   },
   {
    "duration": 263,
    "start_time": "2021-09-28T04:16:13.404Z"
   },
   {
    "duration": 327,
    "start_time": "2021-09-28T04:16:18.166Z"
   },
   {
    "duration": 15,
    "start_time": "2021-09-28T04:16:30.464Z"
   },
   {
    "duration": 10,
    "start_time": "2021-09-28T04:17:09.832Z"
   },
   {
    "duration": 7,
    "start_time": "2021-09-28T04:17:25.914Z"
   },
   {
    "duration": 309,
    "start_time": "2021-09-29T20:01:28.461Z"
   },
   {
    "duration": 3,
    "start_time": "2021-09-29T20:02:06.945Z"
   },
   {
    "duration": 3,
    "start_time": "2021-09-29T20:02:14.205Z"
   },
   {
    "duration": 3,
    "start_time": "2021-09-29T20:02:18.305Z"
   },
   {
    "duration": 280,
    "start_time": "2021-09-29T20:02:39.800Z"
   },
   {
    "duration": 318,
    "start_time": "2021-09-29T20:07:02.592Z"
   },
   {
    "duration": 592,
    "start_time": "2021-09-29T20:07:19.905Z"
   },
   {
    "duration": 428,
    "start_time": "2021-09-29T20:07:20.499Z"
   },
   {
    "duration": 35,
    "start_time": "2021-09-29T20:07:20.929Z"
   },
   {
    "duration": 21,
    "start_time": "2021-09-29T20:07:20.966Z"
   },
   {
    "duration": 15,
    "start_time": "2021-09-29T20:07:20.988Z"
   },
   {
    "duration": 21,
    "start_time": "2021-09-29T20:07:21.005Z"
   },
   {
    "duration": 6,
    "start_time": "2021-09-29T20:07:21.028Z"
   },
   {
    "duration": 11,
    "start_time": "2021-09-29T20:07:21.035Z"
   },
   {
    "duration": 29,
    "start_time": "2021-09-29T20:07:21.049Z"
   },
   {
    "duration": 75,
    "start_time": "2021-09-29T20:07:21.080Z"
   },
   {
    "duration": 361,
    "start_time": "2021-09-29T20:07:21.156Z"
   },
   {
    "duration": 377,
    "start_time": "2021-09-29T20:14:41.109Z"
   },
   {
    "duration": 919,
    "start_time": "2021-09-29T20:15:00.880Z"
   },
   {
    "duration": 99,
    "start_time": "2021-09-29T20:27:05.261Z"
   },
   {
    "duration": 19,
    "start_time": "2021-09-29T20:27:29.909Z"
   },
   {
    "duration": 6,
    "start_time": "2021-09-29T20:27:54.153Z"
   },
   {
    "duration": 75,
    "start_time": "2021-09-29T20:32:10.545Z"
   },
   {
    "duration": 16,
    "start_time": "2021-09-29T20:32:20.774Z"
   },
   {
    "duration": 125,
    "start_time": "2021-09-29T20:32:36.156Z"
   },
   {
    "duration": 19,
    "start_time": "2021-09-29T20:32:39.679Z"
   },
   {
    "duration": 22,
    "start_time": "2021-09-29T20:34:05.876Z"
   },
   {
    "duration": 3,
    "start_time": "2021-09-29T20:39:08.400Z"
   },
   {
    "duration": 3,
    "start_time": "2021-09-29T20:39:24.703Z"
   },
   {
    "duration": 121,
    "start_time": "2021-09-29T20:41:20.758Z"
   },
   {
    "duration": 131,
    "start_time": "2021-09-29T20:42:10.894Z"
   },
   {
    "duration": 545,
    "start_time": "2021-09-29T20:42:46.223Z"
   },
   {
    "duration": 401,
    "start_time": "2021-09-29T20:42:46.770Z"
   },
   {
    "duration": 34,
    "start_time": "2021-09-29T20:42:47.174Z"
   },
   {
    "duration": 20,
    "start_time": "2021-09-29T20:42:47.210Z"
   },
   {
    "duration": 14,
    "start_time": "2021-09-29T20:42:47.232Z"
   },
   {
    "duration": 43,
    "start_time": "2021-09-29T20:42:47.248Z"
   },
   {
    "duration": 6,
    "start_time": "2021-09-29T20:42:47.292Z"
   },
   {
    "duration": 11,
    "start_time": "2021-09-29T20:42:47.300Z"
   },
   {
    "duration": 10,
    "start_time": "2021-09-29T20:42:47.313Z"
   },
   {
    "duration": 97,
    "start_time": "2021-09-29T20:42:47.325Z"
   },
   {
    "duration": 176,
    "start_time": "2021-09-29T20:42:47.424Z"
   },
   {
    "duration": 110,
    "start_time": "2021-09-29T20:42:47.601Z"
   },
   {
    "duration": 63,
    "start_time": "2021-09-29T20:43:50.393Z"
   },
   {
    "duration": 336,
    "start_time": "2021-09-29T20:50:11.361Z"
   },
   {
    "duration": 81,
    "start_time": "2021-09-29T20:50:23.142Z"
   },
   {
    "duration": 37,
    "start_time": "2021-09-29T20:51:18.229Z"
   },
   {
    "duration": 53,
    "start_time": "2021-09-29T20:51:19.698Z"
   },
   {
    "duration": 8,
    "start_time": "2021-09-29T20:51:21.193Z"
   },
   {
    "duration": 6,
    "start_time": "2021-09-29T20:57:27.349Z"
   },
   {
    "duration": 18,
    "start_time": "2021-09-29T20:57:44.982Z"
   },
   {
    "duration": 295,
    "start_time": "2021-09-29T20:58:09.652Z"
   },
   {
    "duration": 11,
    "start_time": "2021-09-29T20:58:14.954Z"
   },
   {
    "duration": 6,
    "start_time": "2021-09-29T20:58:43.731Z"
   },
   {
    "duration": 7,
    "start_time": "2021-09-29T20:59:23.789Z"
   },
   {
    "duration": 86,
    "start_time": "2021-09-29T21:00:54.275Z"
   },
   {
    "duration": 21,
    "start_time": "2021-09-29T21:01:01.269Z"
   },
   {
    "duration": 271,
    "start_time": "2021-09-29T21:01:28.609Z"
   },
   {
    "duration": 19,
    "start_time": "2021-09-29T21:01:39.818Z"
   },
   {
    "duration": 20,
    "start_time": "2021-09-29T21:02:04.264Z"
   },
   {
    "duration": 18,
    "start_time": "2021-09-29T21:08:34.796Z"
   },
   {
    "duration": 565,
    "start_time": "2021-09-29T21:08:59.605Z"
   },
   {
    "duration": 406,
    "start_time": "2021-09-29T21:09:00.172Z"
   },
   {
    "duration": 33,
    "start_time": "2021-09-29T21:09:00.580Z"
   },
   {
    "duration": 20,
    "start_time": "2021-09-29T21:09:00.615Z"
   },
   {
    "duration": 11,
    "start_time": "2021-09-29T21:09:00.636Z"
   },
   {
    "duration": 45,
    "start_time": "2021-09-29T21:09:00.649Z"
   },
   {
    "duration": 16,
    "start_time": "2021-09-29T21:09:00.696Z"
   },
   {
    "duration": 17,
    "start_time": "2021-09-29T21:09:00.716Z"
   },
   {
    "duration": 7,
    "start_time": "2021-09-29T21:09:00.735Z"
   },
   {
    "duration": 7,
    "start_time": "2021-09-29T21:09:00.776Z"
   },
   {
    "duration": 20,
    "start_time": "2021-09-29T21:09:00.785Z"
   },
   {
    "duration": 82,
    "start_time": "2021-09-29T21:09:00.807Z"
   },
   {
    "duration": 90,
    "start_time": "2021-09-29T21:09:00.891Z"
   },
   {
    "duration": 105,
    "start_time": "2021-09-29T21:09:00.983Z"
   },
   {
    "duration": 40,
    "start_time": "2021-09-29T21:09:01.090Z"
   },
   {
    "duration": 60,
    "start_time": "2021-09-29T21:09:01.132Z"
   },
   {
    "duration": 8,
    "start_time": "2021-09-29T21:09:01.194Z"
   },
   {
    "duration": 34,
    "start_time": "2021-09-29T21:20:44.635Z"
   },
   {
    "duration": 35,
    "start_time": "2021-09-29T21:22:11.809Z"
   },
   {
    "duration": 35,
    "start_time": "2021-09-29T21:22:27.400Z"
   },
   {
    "duration": 31,
    "start_time": "2021-09-29T21:23:23.717Z"
   },
   {
    "duration": 43,
    "start_time": "2021-09-29T21:24:32.422Z"
   },
   {
    "duration": 107,
    "start_time": "2021-09-29T21:26:40.466Z"
   },
   {
    "duration": 23,
    "start_time": "2021-09-29T21:26:59.269Z"
   },
   {
    "duration": 28,
    "start_time": "2021-09-29T21:27:45.026Z"
   },
   {
    "duration": 35,
    "start_time": "2021-09-29T22:29:25.394Z"
   },
   {
    "duration": 21,
    "start_time": "2021-09-29T22:29:28.962Z"
   },
   {
    "duration": 4,
    "start_time": "2021-09-29T22:35:40.660Z"
   },
   {
    "duration": 4,
    "start_time": "2021-09-29T22:35:45.016Z"
   },
   {
    "duration": 4,
    "start_time": "2021-09-29T22:35:51.284Z"
   },
   {
    "duration": 3,
    "start_time": "2021-09-29T22:36:03.402Z"
   },
   {
    "duration": 3,
    "start_time": "2021-09-29T22:36:13.809Z"
   },
   {
    "duration": 301,
    "start_time": "2021-09-29T22:37:29.230Z"
   },
   {
    "duration": 4,
    "start_time": "2021-09-29T22:37:40.612Z"
   },
   {
    "duration": 16,
    "start_time": "2021-09-29T22:38:07.996Z"
   },
   {
    "duration": 24,
    "start_time": "2021-09-29T22:38:13.614Z"
   },
   {
    "duration": 40,
    "start_time": "2021-09-29T22:41:12.762Z"
   },
   {
    "duration": 36,
    "start_time": "2021-09-29T22:42:09.662Z"
   },
   {
    "duration": 99,
    "start_time": "2021-09-29T22:43:49.666Z"
   },
   {
    "duration": 50,
    "start_time": "2021-09-29T22:44:10.800Z"
   },
   {
    "duration": 92,
    "start_time": "2021-09-29T22:44:23.214Z"
   },
   {
    "duration": 40,
    "start_time": "2021-09-29T22:44:28.554Z"
   },
   {
    "duration": 35,
    "start_time": "2021-09-29T22:44:47.284Z"
   },
   {
    "duration": 88,
    "start_time": "2021-09-29T22:45:01.650Z"
   },
   {
    "duration": 33,
    "start_time": "2021-09-29T22:45:05.214Z"
   },
   {
    "duration": 32,
    "start_time": "2021-09-29T22:45:26.097Z"
   },
   {
    "duration": 38,
    "start_time": "2021-09-29T22:45:38.775Z"
   },
   {
    "duration": 21,
    "start_time": "2021-09-29T22:45:45.490Z"
   },
   {
    "duration": 24,
    "start_time": "2021-09-29T22:46:50.319Z"
   },
   {
    "duration": 3,
    "start_time": "2021-09-29T22:50:52.905Z"
   },
   {
    "duration": 8,
    "start_time": "2021-09-29T22:53:40.564Z"
   },
   {
    "duration": 4,
    "start_time": "2021-09-29T22:54:21.214Z"
   },
   {
    "duration": 5,
    "start_time": "2021-09-29T22:54:46.737Z"
   },
   {
    "duration": 3,
    "start_time": "2021-09-29T22:54:55.452Z"
   },
   {
    "duration": 23,
    "start_time": "2021-09-29T22:55:13.277Z"
   },
   {
    "duration": 3,
    "start_time": "2021-09-29T22:55:20.724Z"
   },
   {
    "duration": 8,
    "start_time": "2021-09-29T22:55:22.622Z"
   },
   {
    "duration": 262,
    "start_time": "2021-09-29T23:10:24.649Z"
   },
   {
    "duration": 373,
    "start_time": "2021-09-29T23:11:26.878Z"
   },
   {
    "duration": 289,
    "start_time": "2021-09-29T23:11:42.162Z"
   },
   {
    "duration": 70,
    "start_time": "2021-09-29T23:12:08.041Z"
   },
   {
    "duration": 58,
    "start_time": "2021-09-29T23:12:54.173Z"
   },
   {
    "duration": 25,
    "start_time": "2021-09-29T23:14:18.639Z"
   },
   {
    "duration": 29,
    "start_time": "2021-09-29T23:14:20.599Z"
   },
   {
    "duration": 59,
    "start_time": "2021-09-29T23:14:47.480Z"
   },
   {
    "duration": 56,
    "start_time": "2021-09-29T23:14:53.721Z"
   },
   {
    "duration": 32,
    "start_time": "2021-09-29T23:14:57.291Z"
   },
   {
    "duration": 32,
    "start_time": "2021-09-29T23:15:00.877Z"
   },
   {
    "duration": 10,
    "start_time": "2021-09-29T23:18:11.863Z"
   },
   {
    "duration": 52,
    "start_time": "2021-09-29T23:22:48.805Z"
   },
   {
    "duration": 63,
    "start_time": "2021-09-29T23:22:53.258Z"
   },
   {
    "duration": 35,
    "start_time": "2021-09-29T23:23:22.856Z"
   },
   {
    "duration": 25,
    "start_time": "2021-09-29T23:23:58.813Z"
   },
   {
    "duration": 12,
    "start_time": "2021-09-29T23:24:07.706Z"
   },
   {
    "duration": 11,
    "start_time": "2021-09-29T23:24:12.522Z"
   },
   {
    "duration": 590,
    "start_time": "2021-09-29T23:39:10.813Z"
   },
   {
    "duration": 437,
    "start_time": "2021-09-29T23:39:11.405Z"
   },
   {
    "duration": 35,
    "start_time": "2021-09-29T23:39:11.846Z"
   },
   {
    "duration": 21,
    "start_time": "2021-09-29T23:39:11.883Z"
   },
   {
    "duration": 11,
    "start_time": "2021-09-29T23:39:11.906Z"
   },
   {
    "duration": 25,
    "start_time": "2021-09-29T23:39:11.918Z"
   },
   {
    "duration": 38,
    "start_time": "2021-09-29T23:39:11.944Z"
   },
   {
    "duration": 17,
    "start_time": "2021-09-29T23:39:11.987Z"
   },
   {
    "duration": 6,
    "start_time": "2021-09-29T23:39:12.006Z"
   },
   {
    "duration": 7,
    "start_time": "2021-09-29T23:39:12.014Z"
   },
   {
    "duration": 6,
    "start_time": "2021-09-29T23:39:12.023Z"
   },
   {
    "duration": 120,
    "start_time": "2021-09-29T23:39:12.030Z"
   },
   {
    "duration": 102,
    "start_time": "2021-09-29T23:39:12.152Z"
   },
   {
    "duration": 109,
    "start_time": "2021-09-29T23:39:12.256Z"
   },
   {
    "duration": 52,
    "start_time": "2021-09-29T23:39:12.367Z"
   },
   {
    "duration": 61,
    "start_time": "2021-09-29T23:39:12.421Z"
   },
   {
    "duration": 10,
    "start_time": "2021-09-29T23:39:12.484Z"
   },
   {
    "duration": 85,
    "start_time": "2021-09-29T23:39:12.496Z"
   },
   {
    "duration": 66,
    "start_time": "2021-09-29T23:39:12.584Z"
   },
   {
    "duration": 54,
    "start_time": "2021-09-29T23:39:12.652Z"
   },
   {
    "duration": 26,
    "start_time": "2021-09-29T23:39:12.708Z"
   },
   {
    "duration": 2,
    "start_time": "2021-09-29T23:39:12.736Z"
   },
   {
    "duration": 11,
    "start_time": "2021-09-29T23:39:12.740Z"
   },
   {
    "duration": 3,
    "start_time": "2021-09-29T23:39:12.753Z"
   },
   {
    "duration": 409,
    "start_time": "2021-09-30T00:07:47.729Z"
   },
   {
    "duration": 269,
    "start_time": "2021-09-30T00:08:19.416Z"
   },
   {
    "duration": 278,
    "start_time": "2021-09-30T00:08:25.881Z"
   },
   {
    "duration": 88,
    "start_time": "2021-09-30T00:08:53.034Z"
   },
   {
    "duration": 279,
    "start_time": "2021-09-30T00:08:57.277Z"
   },
   {
    "duration": 273,
    "start_time": "2021-09-30T00:09:15.240Z"
   },
   {
    "duration": 33,
    "start_time": "2021-09-30T00:09:52.973Z"
   },
   {
    "duration": 31,
    "start_time": "2021-09-30T00:10:05.842Z"
   },
   {
    "duration": 11,
    "start_time": "2021-09-30T00:10:56.130Z"
   },
   {
    "duration": 70,
    "start_time": "2021-09-30T00:10:58.813Z"
   },
   {
    "duration": 25,
    "start_time": "2021-09-30T00:11:21.525Z"
   },
   {
    "duration": 14,
    "start_time": "2021-09-30T00:12:45.999Z"
   },
   {
    "duration": 12,
    "start_time": "2021-09-30T00:13:47.764Z"
   },
   {
    "duration": 10,
    "start_time": "2021-09-30T00:13:52.595Z"
   },
   {
    "duration": 13,
    "start_time": "2021-09-30T00:14:00.030Z"
   },
   {
    "duration": 25,
    "start_time": "2021-09-30T00:16:52.784Z"
   },
   {
    "duration": 40,
    "start_time": "2021-09-30T00:17:55.980Z"
   },
   {
    "duration": 33,
    "start_time": "2021-09-30T00:18:01.337Z"
   },
   {
    "duration": 12,
    "start_time": "2021-09-30T00:21:47.049Z"
   },
   {
    "duration": 7,
    "start_time": "2021-09-30T00:21:54.914Z"
   },
   {
    "duration": 268,
    "start_time": "2021-09-30T00:29:56.103Z"
   },
   {
    "duration": 7414,
    "start_time": "2021-09-30T01:12:38.420Z"
   },
   {
    "duration": 7802,
    "start_time": "2021-09-30T01:12:50.321Z"
   },
   {
    "duration": 6639,
    "start_time": "2021-09-30T01:13:23.573Z"
   },
   {
    "duration": 266,
    "start_time": "2021-09-30T01:13:32.907Z"
   },
   {
    "duration": 7860,
    "start_time": "2021-09-30T01:13:50.765Z"
   },
   {
    "duration": 7855,
    "start_time": "2021-09-30T01:14:24.043Z"
   },
   {
    "duration": 32,
    "start_time": "2021-09-30T01:14:44.422Z"
   },
   {
    "duration": 9,
    "start_time": "2021-09-30T01:15:01.055Z"
   },
   {
    "duration": 15,
    "start_time": "2021-09-30T01:15:13.132Z"
   },
   {
    "duration": 594,
    "start_time": "2021-09-30T01:15:44.895Z"
   },
   {
    "duration": 411,
    "start_time": "2021-09-30T01:15:45.492Z"
   },
   {
    "duration": 34,
    "start_time": "2021-09-30T01:15:45.905Z"
   },
   {
    "duration": 18,
    "start_time": "2021-09-30T01:15:45.941Z"
   },
   {
    "duration": 11,
    "start_time": "2021-09-30T01:15:45.961Z"
   },
   {
    "duration": 51,
    "start_time": "2021-09-30T01:15:45.977Z"
   },
   {
    "duration": 16,
    "start_time": "2021-09-30T01:15:46.029Z"
   },
   {
    "duration": 25,
    "start_time": "2021-09-30T01:15:46.047Z"
   },
   {
    "duration": 14,
    "start_time": "2021-09-30T01:15:46.074Z"
   },
   {
    "duration": 10,
    "start_time": "2021-09-30T01:15:46.090Z"
   },
   {
    "duration": 9,
    "start_time": "2021-09-30T01:15:46.102Z"
   },
   {
    "duration": 103,
    "start_time": "2021-09-30T01:15:46.112Z"
   },
   {
    "duration": 91,
    "start_time": "2021-09-30T01:15:46.217Z"
   },
   {
    "duration": 104,
    "start_time": "2021-09-30T01:15:46.310Z"
   },
   {
    "duration": 34,
    "start_time": "2021-09-30T01:15:46.415Z"
   },
   {
    "duration": 54,
    "start_time": "2021-09-30T01:15:46.451Z"
   },
   {
    "duration": 7,
    "start_time": "2021-09-30T01:15:46.506Z"
   },
   {
    "duration": 84,
    "start_time": "2021-09-30T01:15:46.514Z"
   },
   {
    "duration": 56,
    "start_time": "2021-09-30T01:15:46.600Z"
   },
   {
    "duration": 50,
    "start_time": "2021-09-30T01:15:46.658Z"
   },
   {
    "duration": 24,
    "start_time": "2021-09-30T01:15:46.710Z"
   },
   {
    "duration": 2,
    "start_time": "2021-09-30T01:15:46.736Z"
   },
   {
    "duration": 12,
    "start_time": "2021-09-30T01:15:46.741Z"
   },
   {
    "duration": 40,
    "start_time": "2021-09-30T01:15:46.755Z"
   },
   {
    "duration": 32,
    "start_time": "2021-09-30T01:15:46.797Z"
   },
   {
    "duration": 6,
    "start_time": "2021-09-30T01:15:46.830Z"
   },
   {
    "duration": 48,
    "start_time": "2021-09-30T01:15:46.838Z"
   },
   {
    "duration": 11,
    "start_time": "2021-09-30T01:16:02.140Z"
   },
   {
    "duration": 16,
    "start_time": "2021-09-30T01:16:09.895Z"
   },
   {
    "duration": 572,
    "start_time": "2021-09-30T01:16:27.621Z"
   },
   {
    "duration": 427,
    "start_time": "2021-09-30T01:16:28.196Z"
   },
   {
    "duration": 32,
    "start_time": "2021-09-30T01:16:28.627Z"
   },
   {
    "duration": 20,
    "start_time": "2021-09-30T01:16:28.661Z"
   },
   {
    "duration": 13,
    "start_time": "2021-09-30T01:16:28.684Z"
   },
   {
    "duration": 22,
    "start_time": "2021-09-30T01:16:28.699Z"
   },
   {
    "duration": 15,
    "start_time": "2021-09-30T01:16:28.724Z"
   },
   {
    "duration": 53,
    "start_time": "2021-09-30T01:16:28.742Z"
   },
   {
    "duration": 6,
    "start_time": "2021-09-30T01:16:28.796Z"
   },
   {
    "duration": 11,
    "start_time": "2021-09-30T01:16:28.804Z"
   },
   {
    "duration": 10,
    "start_time": "2021-09-30T01:16:28.816Z"
   },
   {
    "duration": 105,
    "start_time": "2021-09-30T01:16:28.827Z"
   },
   {
    "duration": 117,
    "start_time": "2021-09-30T01:16:28.934Z"
   },
   {
    "duration": 107,
    "start_time": "2021-09-30T01:16:29.053Z"
   },
   {
    "duration": 49,
    "start_time": "2021-09-30T01:16:29.162Z"
   },
   {
    "duration": 35,
    "start_time": "2021-09-30T01:16:29.212Z"
   },
   {
    "duration": 7,
    "start_time": "2021-09-30T01:16:29.248Z"
   },
   {
    "duration": 69,
    "start_time": "2021-09-30T01:16:29.277Z"
   },
   {
    "duration": 83,
    "start_time": "2021-09-30T01:16:29.348Z"
   },
   {
    "duration": 45,
    "start_time": "2021-09-30T01:16:29.432Z"
   },
   {
    "duration": 31,
    "start_time": "2021-09-30T01:16:29.479Z"
   },
   {
    "duration": 2,
    "start_time": "2021-09-30T01:16:29.513Z"
   },
   {
    "duration": 12,
    "start_time": "2021-09-30T01:16:29.517Z"
   },
   {
    "duration": 46,
    "start_time": "2021-09-30T01:16:29.531Z"
   },
   {
    "duration": 37,
    "start_time": "2021-09-30T01:16:29.579Z"
   },
   {
    "duration": 7,
    "start_time": "2021-09-30T01:16:29.618Z"
   },
   {
    "duration": 7,
    "start_time": "2021-09-30T01:16:29.627Z"
   },
   {
    "duration": 15,
    "start_time": "2021-09-30T01:17:06.157Z"
   },
   {
    "duration": 407,
    "start_time": "2021-09-30T01:17:52.086Z"
   },
   {
    "duration": 574,
    "start_time": "2021-09-30T01:18:14.198Z"
   },
   {
    "duration": 423,
    "start_time": "2021-09-30T01:18:14.774Z"
   },
   {
    "duration": 33,
    "start_time": "2021-09-30T01:18:15.199Z"
   },
   {
    "duration": 19,
    "start_time": "2021-09-30T01:18:15.234Z"
   },
   {
    "duration": 17,
    "start_time": "2021-09-30T01:18:15.255Z"
   },
   {
    "duration": 30,
    "start_time": "2021-09-30T01:18:15.277Z"
   },
   {
    "duration": 14,
    "start_time": "2021-09-30T01:18:15.309Z"
   },
   {
    "duration": 28,
    "start_time": "2021-09-30T01:18:15.327Z"
   },
   {
    "duration": 20,
    "start_time": "2021-09-30T01:18:15.358Z"
   },
   {
    "duration": 9,
    "start_time": "2021-09-30T01:18:15.381Z"
   },
   {
    "duration": 6,
    "start_time": "2021-09-30T01:18:15.392Z"
   },
   {
    "duration": 106,
    "start_time": "2021-09-30T01:18:15.400Z"
   },
   {
    "duration": 98,
    "start_time": "2021-09-30T01:18:15.508Z"
   },
   {
    "duration": 94,
    "start_time": "2021-09-30T01:18:15.607Z"
   },
   {
    "duration": 38,
    "start_time": "2021-09-30T01:18:15.703Z"
   },
   {
    "duration": 56,
    "start_time": "2021-09-30T01:18:15.743Z"
   },
   {
    "duration": 6,
    "start_time": "2021-09-30T01:18:15.801Z"
   },
   {
    "duration": 89,
    "start_time": "2021-09-30T01:18:15.809Z"
   },
   {
    "duration": 81,
    "start_time": "2021-09-30T01:18:15.900Z"
   },
   {
    "duration": 32,
    "start_time": "2021-09-30T01:18:15.983Z"
   },
   {
    "duration": 25,
    "start_time": "2021-09-30T01:18:16.017Z"
   },
   {
    "duration": 2,
    "start_time": "2021-09-30T01:18:16.043Z"
   },
   {
    "duration": 43,
    "start_time": "2021-09-30T01:18:16.048Z"
   },
   {
    "duration": 14,
    "start_time": "2021-09-30T01:18:16.092Z"
   },
   {
    "duration": 34,
    "start_time": "2021-09-30T01:18:16.107Z"
   },
   {
    "duration": 34,
    "start_time": "2021-09-30T01:18:16.143Z"
   },
   {
    "duration": 14,
    "start_time": "2021-09-30T01:18:16.180Z"
   },
   {
    "duration": 17,
    "start_time": "2021-09-30T01:18:16.195Z"
   },
   {
    "duration": 19,
    "start_time": "2021-09-30T01:18:45.928Z"
   },
   {
    "duration": 17,
    "start_time": "2021-09-30T01:18:54.008Z"
   },
   {
    "duration": 7,
    "start_time": "2021-09-30T01:22:48.294Z"
   },
   {
    "duration": 19,
    "start_time": "2021-09-30T01:23:08.079Z"
   },
   {
    "duration": 618,
    "start_time": "2021-09-30T01:25:38.563Z"
   },
   {
    "duration": 431,
    "start_time": "2021-09-30T01:25:39.184Z"
   },
   {
    "duration": 36,
    "start_time": "2021-09-30T01:25:39.617Z"
   },
   {
    "duration": 20,
    "start_time": "2021-09-30T01:25:39.655Z"
   },
   {
    "duration": 15,
    "start_time": "2021-09-30T01:25:39.678Z"
   },
   {
    "duration": 22,
    "start_time": "2021-09-30T01:25:39.694Z"
   },
   {
    "duration": 15,
    "start_time": "2021-09-30T01:25:39.717Z"
   },
   {
    "duration": 16,
    "start_time": "2021-09-30T01:25:39.734Z"
   },
   {
    "duration": 9,
    "start_time": "2021-09-30T01:25:39.779Z"
   },
   {
    "duration": 7,
    "start_time": "2021-09-30T01:25:39.791Z"
   },
   {
    "duration": 6,
    "start_time": "2021-09-30T01:25:39.800Z"
   },
   {
    "duration": 110,
    "start_time": "2021-09-30T01:25:39.808Z"
   },
   {
    "duration": 97,
    "start_time": "2021-09-30T01:25:39.921Z"
   },
   {
    "duration": 106,
    "start_time": "2021-09-30T01:25:40.020Z"
   },
   {
    "duration": 38,
    "start_time": "2021-09-30T01:25:40.128Z"
   },
   {
    "duration": 50,
    "start_time": "2021-09-30T01:25:40.167Z"
   },
   {
    "duration": 6,
    "start_time": "2021-09-30T01:25:40.219Z"
   },
   {
    "duration": 94,
    "start_time": "2021-09-30T01:25:40.226Z"
   },
   {
    "duration": 75,
    "start_time": "2021-09-30T01:25:40.322Z"
   },
   {
    "duration": 30,
    "start_time": "2021-09-30T01:25:40.399Z"
   },
   {
    "duration": 25,
    "start_time": "2021-09-30T01:25:40.430Z"
   },
   {
    "duration": 19,
    "start_time": "2021-09-30T01:25:40.457Z"
   },
   {
    "duration": 16,
    "start_time": "2021-09-30T01:25:40.481Z"
   },
   {
    "duration": 18,
    "start_time": "2021-09-30T01:25:40.499Z"
   },
   {
    "duration": 60,
    "start_time": "2021-09-30T01:25:40.518Z"
   },
   {
    "duration": 10,
    "start_time": "2021-09-30T01:25:40.580Z"
   },
   {
    "duration": 15,
    "start_time": "2021-09-30T01:25:40.592Z"
   },
   {
    "duration": 314,
    "start_time": "2021-09-30T01:25:40.608Z"
   },
   {
    "duration": -111,
    "start_time": "2021-09-30T01:25:41.035Z"
   },
   {
    "duration": -113,
    "start_time": "2021-09-30T01:25:41.038Z"
   },
   {
    "duration": 14,
    "start_time": "2021-09-30T01:28:51.127Z"
   },
   {
    "duration": 14,
    "start_time": "2021-09-30T01:30:02.025Z"
   },
   {
    "duration": 339,
    "start_time": "2021-09-30T01:30:09.590Z"
   },
   {
    "duration": 1062,
    "start_time": "2021-09-30T01:34:30.687Z"
   },
   {
    "duration": 258,
    "start_time": "2021-09-30T01:37:15.315Z"
   },
   {
    "duration": 290,
    "start_time": "2021-09-30T01:37:21.419Z"
   },
   {
    "duration": 16,
    "start_time": "2021-09-30T01:37:29.610Z"
   },
   {
    "duration": 83,
    "start_time": "2021-09-30T01:39:02.377Z"
   },
   {
    "duration": 15,
    "start_time": "2021-09-30T01:45:07.903Z"
   },
   {
    "duration": 254,
    "start_time": "2021-09-30T01:45:13.608Z"
   },
   {
    "duration": 293,
    "start_time": "2021-09-30T01:45:31.793Z"
   },
   {
    "duration": 273,
    "start_time": "2021-09-30T01:46:46.916Z"
   },
   {
    "duration": 4,
    "start_time": "2021-09-30T01:48:20.343Z"
   },
   {
    "duration": 6910,
    "start_time": "2021-09-30T01:50:39.726Z"
   },
   {
    "duration": 7,
    "start_time": "2021-09-30T01:51:36.474Z"
   },
   {
    "duration": 267,
    "start_time": "2021-09-30T01:53:24.663Z"
   },
   {
    "duration": 4,
    "start_time": "2021-09-30T01:53:29.609Z"
   },
   {
    "duration": 5,
    "start_time": "2021-09-30T01:53:33.273Z"
   },
   {
    "duration": 90,
    "start_time": "2021-09-30T01:53:55.261Z"
   },
   {
    "duration": 146,
    "start_time": "2021-09-30T01:53:59.512Z"
   },
   {
    "duration": 105,
    "start_time": "2021-09-30T01:54:27.299Z"
   },
   {
    "duration": 83,
    "start_time": "2021-09-30T01:54:32.055Z"
   },
   {
    "duration": 6,
    "start_time": "2021-09-30T01:54:34.310Z"
   },
   {
    "duration": 5,
    "start_time": "2021-09-30T01:54:44.469Z"
   },
   {
    "duration": 6719,
    "start_time": "2021-09-30T02:00:27.389Z"
   },
   {
    "duration": 84,
    "start_time": "2021-09-30T02:00:45.933Z"
   },
   {
    "duration": 6846,
    "start_time": "2021-09-30T02:01:37.902Z"
   },
   {
    "duration": 6558,
    "start_time": "2021-09-30T02:01:45.069Z"
   },
   {
    "duration": 268,
    "start_time": "2021-09-30T02:02:08.127Z"
   },
   {
    "duration": 84,
    "start_time": "2021-09-30T02:02:23.601Z"
   },
   {
    "duration": 471,
    "start_time": "2021-09-30T02:05:22.130Z"
   },
   {
    "duration": 12,
    "start_time": "2021-09-30T02:12:34.001Z"
   },
   {
    "duration": 18,
    "start_time": "2021-09-30T02:15:10.207Z"
   },
   {
    "duration": 23,
    "start_time": "2021-09-30T02:15:20.037Z"
   },
   {
    "duration": 266,
    "start_time": "2021-09-30T02:15:50.400Z"
   },
   {
    "duration": 627,
    "start_time": "2021-09-30T02:16:10.171Z"
   },
   {
    "duration": 414,
    "start_time": "2021-09-30T02:16:10.800Z"
   },
   {
    "duration": 35,
    "start_time": "2021-09-30T02:16:11.216Z"
   },
   {
    "duration": 20,
    "start_time": "2021-09-30T02:16:11.253Z"
   },
   {
    "duration": 16,
    "start_time": "2021-09-30T02:16:11.275Z"
   },
   {
    "duration": 21,
    "start_time": "2021-09-30T02:16:11.293Z"
   },
   {
    "duration": 14,
    "start_time": "2021-09-30T02:16:11.316Z"
   },
   {
    "duration": 16,
    "start_time": "2021-09-30T02:16:11.333Z"
   },
   {
    "duration": 9,
    "start_time": "2021-09-30T02:16:11.379Z"
   },
   {
    "duration": 7,
    "start_time": "2021-09-30T02:16:11.392Z"
   },
   {
    "duration": 14,
    "start_time": "2021-09-30T02:16:11.400Z"
   },
   {
    "duration": 97,
    "start_time": "2021-09-30T02:16:11.415Z"
   },
   {
    "duration": 111,
    "start_time": "2021-09-30T02:16:11.514Z"
   },
   {
    "duration": 99,
    "start_time": "2021-09-30T02:16:11.627Z"
   },
   {
    "duration": 37,
    "start_time": "2021-09-30T02:16:11.728Z"
   },
   {
    "duration": 39,
    "start_time": "2021-09-30T02:16:11.777Z"
   },
   {
    "duration": 5,
    "start_time": "2021-09-30T02:16:11.818Z"
   },
   {
    "duration": 100,
    "start_time": "2021-09-30T02:16:11.825Z"
   },
   {
    "duration": 82,
    "start_time": "2021-09-30T02:16:11.927Z"
   },
   {
    "duration": 37,
    "start_time": "2021-09-30T02:16:12.010Z"
   },
   {
    "duration": 45,
    "start_time": "2021-09-30T02:16:12.049Z"
   },
   {
    "duration": 2,
    "start_time": "2021-09-30T02:16:12.096Z"
   },
   {
    "duration": 15,
    "start_time": "2021-09-30T02:16:12.102Z"
   },
   {
    "duration": 16,
    "start_time": "2021-09-30T02:16:12.120Z"
   },
   {
    "duration": 77,
    "start_time": "2021-09-30T02:16:12.138Z"
   },
   {
    "duration": 8,
    "start_time": "2021-09-30T02:16:12.217Z"
   },
   {
    "duration": 20,
    "start_time": "2021-09-30T02:16:12.227Z"
   },
   {
    "duration": 47,
    "start_time": "2021-09-30T02:16:12.249Z"
   },
   {
    "duration": 12,
    "start_time": "2021-09-30T02:17:05.325Z"
   },
   {
    "duration": 18,
    "start_time": "2021-09-30T02:17:30.595Z"
   },
   {
    "duration": 645,
    "start_time": "2021-09-30T02:19:12.424Z"
   },
   {
    "duration": 498,
    "start_time": "2021-09-30T02:19:13.071Z"
   },
   {
    "duration": 47,
    "start_time": "2021-09-30T02:19:13.572Z"
   },
   {
    "duration": 20,
    "start_time": "2021-09-30T02:19:13.621Z"
   },
   {
    "duration": 11,
    "start_time": "2021-09-30T02:19:13.643Z"
   },
   {
    "duration": 58,
    "start_time": "2021-09-30T02:19:13.656Z"
   },
   {
    "duration": 13,
    "start_time": "2021-09-30T02:19:13.716Z"
   },
   {
    "duration": 15,
    "start_time": "2021-09-30T02:19:13.731Z"
   },
   {
    "duration": 6,
    "start_time": "2021-09-30T02:19:13.749Z"
   },
   {
    "duration": 12,
    "start_time": "2021-09-30T02:19:13.780Z"
   },
   {
    "duration": 11,
    "start_time": "2021-09-30T02:19:13.794Z"
   },
   {
    "duration": 108,
    "start_time": "2021-09-30T02:19:13.806Z"
   },
   {
    "duration": 120,
    "start_time": "2021-09-30T02:19:13.916Z"
   },
   {
    "duration": 99,
    "start_time": "2021-09-30T02:19:14.038Z"
   },
   {
    "duration": 58,
    "start_time": "2021-09-30T02:19:14.139Z"
   },
   {
    "duration": 37,
    "start_time": "2021-09-30T02:19:14.200Z"
   },
   {
    "duration": 7,
    "start_time": "2021-09-30T02:19:14.238Z"
   },
   {
    "duration": 91,
    "start_time": "2021-09-30T02:19:14.246Z"
   },
   {
    "duration": 72,
    "start_time": "2021-09-30T02:19:14.339Z"
   },
   {
    "duration": 30,
    "start_time": "2021-09-30T02:19:14.413Z"
   },
   {
    "duration": 25,
    "start_time": "2021-09-30T02:19:14.444Z"
   },
   {
    "duration": 4,
    "start_time": "2021-09-30T02:19:14.477Z"
   },
   {
    "duration": 16,
    "start_time": "2021-09-30T02:19:14.483Z"
   },
   {
    "duration": 15,
    "start_time": "2021-09-30T02:19:14.502Z"
   },
   {
    "duration": 32,
    "start_time": "2021-09-30T02:19:14.519Z"
   },
   {
    "duration": 6,
    "start_time": "2021-09-30T02:19:14.553Z"
   },
   {
    "duration": 17,
    "start_time": "2021-09-30T02:19:14.562Z"
   },
   {
    "duration": 25,
    "start_time": "2021-09-30T02:19:14.581Z"
   },
   {
    "duration": 654,
    "start_time": "2021-09-30T02:26:20.770Z"
   },
   {
    "duration": 421,
    "start_time": "2021-09-30T02:26:21.425Z"
   },
   {
    "duration": 34,
    "start_time": "2021-09-30T02:26:21.848Z"
   },
   {
    "duration": 21,
    "start_time": "2021-09-30T02:26:21.885Z"
   },
   {
    "duration": 10,
    "start_time": "2021-09-30T02:26:21.908Z"
   },
   {
    "duration": 25,
    "start_time": "2021-09-30T02:26:21.920Z"
   },
   {
    "duration": 46,
    "start_time": "2021-09-30T02:26:21.947Z"
   },
   {
    "duration": 22,
    "start_time": "2021-09-30T02:26:21.996Z"
   },
   {
    "duration": 5,
    "start_time": "2021-09-30T02:26:22.020Z"
   },
   {
    "duration": 15,
    "start_time": "2021-09-30T02:26:22.027Z"
   },
   {
    "duration": 21,
    "start_time": "2021-09-30T02:26:22.043Z"
   },
   {
    "duration": 96,
    "start_time": "2021-09-30T02:26:22.066Z"
   },
   {
    "duration": 92,
    "start_time": "2021-09-30T02:26:22.163Z"
   },
   {
    "duration": 109,
    "start_time": "2021-09-30T02:26:22.257Z"
   },
   {
    "duration": 56,
    "start_time": "2021-09-30T02:26:22.368Z"
   },
   {
    "duration": 71,
    "start_time": "2021-09-30T02:26:22.425Z"
   },
   {
    "duration": 7,
    "start_time": "2021-09-30T02:26:22.498Z"
   },
   {
    "duration": 90,
    "start_time": "2021-09-30T02:26:22.507Z"
   },
   {
    "duration": 65,
    "start_time": "2021-09-30T02:26:22.598Z"
   },
   {
    "duration": 39,
    "start_time": "2021-09-30T02:26:22.665Z"
   },
   {
    "duration": 28,
    "start_time": "2021-09-30T02:26:22.706Z"
   },
   {
    "duration": 3,
    "start_time": "2021-09-30T02:26:22.735Z"
   },
   {
    "duration": 34,
    "start_time": "2021-09-30T02:26:22.740Z"
   },
   {
    "duration": 32,
    "start_time": "2021-09-30T02:26:22.777Z"
   },
   {
    "duration": 44,
    "start_time": "2021-09-30T02:26:22.811Z"
   },
   {
    "duration": 6,
    "start_time": "2021-09-30T02:26:22.857Z"
   },
   {
    "duration": 18,
    "start_time": "2021-09-30T02:26:22.865Z"
   },
   {
    "duration": 25,
    "start_time": "2021-09-30T02:26:22.885Z"
   },
   {
    "duration": 362,
    "start_time": "2021-09-30T02:26:22.912Z"
   },
   {
    "duration": -478,
    "start_time": "2021-09-30T02:26:23.753Z"
   },
   {
    "duration": 253,
    "start_time": "2021-09-30T02:26:41.156Z"
   },
   {
    "duration": 9,
    "start_time": "2021-09-30T02:26:47.384Z"
   },
   {
    "duration": 12,
    "start_time": "2021-09-30T02:26:57.803Z"
   },
   {
    "duration": 14,
    "start_time": "2021-09-30T02:27:34.798Z"
   },
   {
    "duration": 20,
    "start_time": "2021-09-30T02:27:52.064Z"
   },
   {
    "duration": 11,
    "start_time": "2021-09-30T02:28:15.883Z"
   },
   {
    "duration": 9,
    "start_time": "2021-09-30T02:28:18.586Z"
   },
   {
    "duration": 277,
    "start_time": "2021-09-30T02:29:51.974Z"
   },
   {
    "duration": 16,
    "start_time": "2021-09-30T02:29:59.347Z"
   },
   {
    "duration": 17,
    "start_time": "2021-09-30T02:30:06.736Z"
   },
   {
    "duration": 7502,
    "start_time": "2021-09-30T02:52:44.597Z"
   },
   {
    "duration": 8772,
    "start_time": "2021-09-30T02:54:25.034Z"
   },
   {
    "duration": 85,
    "start_time": "2021-09-30T02:54:40.560Z"
   },
   {
    "duration": 86,
    "start_time": "2021-09-30T02:54:55.439Z"
   },
   {
    "duration": 7,
    "start_time": "2021-09-30T02:55:31.971Z"
   },
   {
    "duration": 596,
    "start_time": "2021-09-30T02:56:04.780Z"
   },
   {
    "duration": 429,
    "start_time": "2021-09-30T02:56:05.379Z"
   },
   {
    "duration": 34,
    "start_time": "2021-09-30T02:56:05.811Z"
   },
   {
    "duration": 19,
    "start_time": "2021-09-30T02:56:05.847Z"
   },
   {
    "duration": 22,
    "start_time": "2021-09-30T02:56:05.868Z"
   },
   {
    "duration": 22,
    "start_time": "2021-09-30T02:56:05.892Z"
   },
   {
    "duration": 14,
    "start_time": "2021-09-30T02:56:05.916Z"
   },
   {
    "duration": 16,
    "start_time": "2021-09-30T02:56:05.933Z"
   },
   {
    "duration": 27,
    "start_time": "2021-09-30T02:56:05.951Z"
   },
   {
    "duration": 10,
    "start_time": "2021-09-30T02:56:05.980Z"
   },
   {
    "duration": 9,
    "start_time": "2021-09-30T02:56:05.992Z"
   },
   {
    "duration": 114,
    "start_time": "2021-09-30T02:56:06.003Z"
   },
   {
    "duration": 102,
    "start_time": "2021-09-30T02:56:06.119Z"
   },
   {
    "duration": 102,
    "start_time": "2021-09-30T02:56:06.223Z"
   },
   {
    "duration": 52,
    "start_time": "2021-09-30T02:56:06.327Z"
   },
   {
    "duration": 40,
    "start_time": "2021-09-30T02:56:06.382Z"
   },
   {
    "duration": 7,
    "start_time": "2021-09-30T02:56:06.423Z"
   },
   {
    "duration": 94,
    "start_time": "2021-09-30T02:56:06.432Z"
   },
   {
    "duration": 76,
    "start_time": "2021-09-30T02:56:06.528Z"
   },
   {
    "duration": 29,
    "start_time": "2021-09-30T02:56:06.606Z"
   },
   {
    "duration": 40,
    "start_time": "2021-09-30T02:56:06.636Z"
   },
   {
    "duration": 3,
    "start_time": "2021-09-30T02:56:06.678Z"
   },
   {
    "duration": 18,
    "start_time": "2021-09-30T02:56:06.685Z"
   },
   {
    "duration": 39,
    "start_time": "2021-09-30T02:56:06.705Z"
   },
   {
    "duration": 34,
    "start_time": "2021-09-30T02:56:06.745Z"
   },
   {
    "duration": 10,
    "start_time": "2021-09-30T02:56:06.781Z"
   },
   {
    "duration": 17,
    "start_time": "2021-09-30T02:56:06.794Z"
   },
   {
    "duration": 28,
    "start_time": "2021-09-30T02:56:06.813Z"
   },
   {
    "duration": 9,
    "start_time": "2021-09-30T02:56:06.843Z"
   },
   {
    "duration": 40,
    "start_time": "2021-09-30T02:56:06.853Z"
   },
   {
    "duration": 101,
    "start_time": "2021-09-30T02:56:06.895Z"
   },
   {
    "duration": 80,
    "start_time": "2021-09-30T02:56:57.675Z"
   },
   {
    "duration": 84,
    "start_time": "2021-09-30T02:57:13.137Z"
   },
   {
    "duration": 36,
    "start_time": "2021-09-30T02:59:23.355Z"
   },
   {
    "duration": 586,
    "start_time": "2021-09-30T02:59:38.725Z"
   },
   {
    "duration": 407,
    "start_time": "2021-09-30T02:59:39.313Z"
   },
   {
    "duration": 32,
    "start_time": "2021-09-30T02:59:39.723Z"
   },
   {
    "duration": 18,
    "start_time": "2021-09-30T02:59:39.757Z"
   },
   {
    "duration": 16,
    "start_time": "2021-09-30T02:59:39.777Z"
   },
   {
    "duration": 22,
    "start_time": "2021-09-30T02:59:39.794Z"
   },
   {
    "duration": 15,
    "start_time": "2021-09-30T02:59:39.818Z"
   },
   {
    "duration": 16,
    "start_time": "2021-09-30T02:59:39.836Z"
   },
   {
    "duration": 19,
    "start_time": "2021-09-30T02:59:39.877Z"
   },
   {
    "duration": 7,
    "start_time": "2021-09-30T02:59:39.898Z"
   },
   {
    "duration": 7,
    "start_time": "2021-09-30T02:59:39.907Z"
   },
   {
    "duration": 112,
    "start_time": "2021-09-30T02:59:39.916Z"
   },
   {
    "duration": 99,
    "start_time": "2021-09-30T02:59:40.030Z"
   },
   {
    "duration": 102,
    "start_time": "2021-09-30T02:59:40.131Z"
   },
   {
    "duration": 54,
    "start_time": "2021-09-30T02:59:40.235Z"
   },
   {
    "duration": 35,
    "start_time": "2021-09-30T02:59:40.291Z"
   },
   {
    "duration": 6,
    "start_time": "2021-09-30T02:59:40.328Z"
   },
   {
    "duration": 86,
    "start_time": "2021-09-30T02:59:40.335Z"
   },
   {
    "duration": 79,
    "start_time": "2021-09-30T02:59:40.423Z"
   },
   {
    "duration": 30,
    "start_time": "2021-09-30T02:59:40.503Z"
   },
   {
    "duration": 43,
    "start_time": "2021-09-30T02:59:40.534Z"
   },
   {
    "duration": 4,
    "start_time": "2021-09-30T02:59:40.579Z"
   },
   {
    "duration": 14,
    "start_time": "2021-09-30T02:59:40.588Z"
   },
   {
    "duration": 14,
    "start_time": "2021-09-30T02:59:40.604Z"
   },
   {
    "duration": 71,
    "start_time": "2021-09-30T02:59:40.620Z"
   },
   {
    "duration": 7,
    "start_time": "2021-09-30T02:59:40.692Z"
   },
   {
    "duration": 9,
    "start_time": "2021-09-30T02:59:40.701Z"
   },
   {
    "duration": 14,
    "start_time": "2021-09-30T02:59:40.711Z"
   },
   {
    "duration": 8,
    "start_time": "2021-09-30T02:59:40.727Z"
   },
   {
    "duration": 57,
    "start_time": "2021-09-30T02:59:40.736Z"
   },
   {
    "duration": 90,
    "start_time": "2021-09-30T02:59:40.795Z"
   },
   {
    "duration": 331,
    "start_time": "2021-09-30T03:03:29.595Z"
   },
   {
    "duration": 6,
    "start_time": "2021-09-30T03:03:37.956Z"
   },
   {
    "duration": 572,
    "start_time": "2021-09-30T03:03:55.620Z"
   },
   {
    "duration": 428,
    "start_time": "2021-09-30T03:03:56.194Z"
   },
   {
    "duration": 34,
    "start_time": "2021-09-30T03:03:56.624Z"
   },
   {
    "duration": 21,
    "start_time": "2021-09-30T03:03:56.659Z"
   },
   {
    "duration": 16,
    "start_time": "2021-09-30T03:03:56.683Z"
   },
   {
    "duration": 16,
    "start_time": "2021-09-30T03:03:56.700Z"
   },
   {
    "duration": 33,
    "start_time": "2021-09-30T03:03:56.717Z"
   },
   {
    "duration": 14,
    "start_time": "2021-09-30T03:03:56.751Z"
   },
   {
    "duration": 23,
    "start_time": "2021-09-30T03:03:56.778Z"
   },
   {
    "duration": 8,
    "start_time": "2021-09-30T03:03:56.803Z"
   },
   {
    "duration": 29,
    "start_time": "2021-09-30T03:03:56.813Z"
   },
   {
    "duration": 25,
    "start_time": "2021-09-30T03:03:56.844Z"
   },
   {
    "duration": 101,
    "start_time": "2021-09-30T03:03:56.871Z"
   },
   {
    "duration": 89,
    "start_time": "2021-09-30T03:03:56.974Z"
   },
   {
    "duration": 113,
    "start_time": "2021-09-30T03:03:57.065Z"
   },
   {
    "duration": 52,
    "start_time": "2021-09-30T03:03:57.181Z"
   },
   {
    "duration": 64,
    "start_time": "2021-09-30T03:03:57.235Z"
   },
   {
    "duration": 6,
    "start_time": "2021-09-30T03:03:57.301Z"
   },
   {
    "duration": 92,
    "start_time": "2021-09-30T03:03:57.308Z"
   },
   {
    "duration": 56,
    "start_time": "2021-09-30T03:03:57.402Z"
   },
   {
    "duration": 52,
    "start_time": "2021-09-30T03:03:57.459Z"
   },
   {
    "duration": 22,
    "start_time": "2021-09-30T03:03:57.512Z"
   },
   {
    "duration": 3,
    "start_time": "2021-09-30T03:03:57.536Z"
   },
   {
    "duration": 38,
    "start_time": "2021-09-30T03:03:57.541Z"
   },
   {
    "duration": 18,
    "start_time": "2021-09-30T03:03:57.581Z"
   },
   {
    "duration": 34,
    "start_time": "2021-09-30T03:03:57.601Z"
   },
   {
    "duration": 7,
    "start_time": "2021-09-30T03:03:57.638Z"
   },
   {
    "duration": 14,
    "start_time": "2021-09-30T03:03:57.679Z"
   },
   {
    "duration": 23,
    "start_time": "2021-09-30T03:03:57.695Z"
   },
   {
    "duration": 18,
    "start_time": "2021-09-30T03:03:57.720Z"
   },
   {
    "duration": 14,
    "start_time": "2021-09-30T03:03:57.739Z"
   },
   {
    "duration": 257,
    "start_time": "2021-09-30T03:03:57.755Z"
   },
   {
    "duration": 219,
    "start_time": "2021-09-30T03:04:19.085Z"
   },
   {
    "duration": 230,
    "start_time": "2021-09-30T03:04:27.916Z"
   },
   {
    "duration": 258,
    "start_time": "2021-09-30T03:05:43.070Z"
   },
   {
    "duration": 226,
    "start_time": "2021-09-30T03:06:01.156Z"
   },
   {
    "duration": 29,
    "start_time": "2021-09-30T03:18:12.858Z"
   },
   {
    "duration": 623,
    "start_time": "2021-09-30T20:17:37.133Z"
   },
   {
    "duration": 427,
    "start_time": "2021-09-30T20:17:37.758Z"
   },
   {
    "duration": 35,
    "start_time": "2021-09-30T20:17:38.187Z"
   },
   {
    "duration": 24,
    "start_time": "2021-09-30T20:17:38.225Z"
   },
   {
    "duration": 13,
    "start_time": "2021-09-30T20:17:38.251Z"
   },
   {
    "duration": 6,
    "start_time": "2021-09-30T20:17:38.266Z"
   },
   {
    "duration": 24,
    "start_time": "2021-09-30T20:17:38.274Z"
   },
   {
    "duration": 15,
    "start_time": "2021-09-30T20:17:38.301Z"
   },
   {
    "duration": 46,
    "start_time": "2021-09-30T20:17:38.318Z"
   },
   {
    "duration": 12,
    "start_time": "2021-09-30T20:17:38.366Z"
   },
   {
    "duration": 10,
    "start_time": "2021-09-30T20:17:38.379Z"
   },
   {
    "duration": 11,
    "start_time": "2021-09-30T20:17:38.390Z"
   },
   {
    "duration": 101,
    "start_time": "2021-09-30T20:17:38.403Z"
   },
   {
    "duration": 94,
    "start_time": "2021-09-30T20:17:38.506Z"
   },
   {
    "duration": 114,
    "start_time": "2021-09-30T20:17:38.602Z"
   },
   {
    "duration": 55,
    "start_time": "2021-09-30T20:17:38.718Z"
   },
   {
    "duration": 41,
    "start_time": "2021-09-30T20:17:38.775Z"
   },
   {
    "duration": 7,
    "start_time": "2021-09-30T20:17:38.817Z"
   },
   {
    "duration": 83,
    "start_time": "2021-09-30T20:17:38.825Z"
   },
   {
    "duration": 117,
    "start_time": "2021-09-30T20:17:38.910Z"
   },
   {
    "duration": 49,
    "start_time": "2021-09-30T20:17:39.029Z"
   },
   {
    "duration": 25,
    "start_time": "2021-09-30T20:17:39.080Z"
   },
   {
    "duration": 3,
    "start_time": "2021-09-30T20:17:39.109Z"
   },
   {
    "duration": 14,
    "start_time": "2021-09-30T20:17:39.114Z"
   },
   {
    "duration": 34,
    "start_time": "2021-09-30T20:17:39.130Z"
   },
   {
    "duration": 34,
    "start_time": "2021-09-30T20:17:39.166Z"
   },
   {
    "duration": 7,
    "start_time": "2021-09-30T20:17:39.202Z"
   },
   {
    "duration": 48,
    "start_time": "2021-09-30T20:17:39.211Z"
   },
   {
    "duration": 19,
    "start_time": "2021-09-30T20:17:39.261Z"
   },
   {
    "duration": 9,
    "start_time": "2021-09-30T20:17:39.282Z"
   },
   {
    "duration": 17,
    "start_time": "2021-09-30T20:17:39.293Z"
   },
   {
    "duration": 237,
    "start_time": "2021-09-30T20:17:39.313Z"
   },
   {
    "duration": 24,
    "start_time": "2021-09-30T20:17:39.552Z"
   },
   {
    "duration": 345,
    "start_time": "2021-09-30T20:22:25.244Z"
   },
   {
    "duration": 33,
    "start_time": "2021-09-30T20:22:59.811Z"
   },
   {
    "duration": 55,
    "start_time": "2021-09-30T20:23:53.181Z"
   },
   {
    "duration": 20,
    "start_time": "2021-09-30T20:25:07.511Z"
   },
   {
    "duration": 19,
    "start_time": "2021-09-30T20:25:17.422Z"
   },
   {
    "duration": 19,
    "start_time": "2021-09-30T20:40:25.854Z"
   },
   {
    "duration": 20,
    "start_time": "2021-09-30T20:40:54.601Z"
   },
   {
    "duration": 22,
    "start_time": "2021-09-30T20:42:37.623Z"
   },
   {
    "duration": 111,
    "start_time": "2021-09-30T20:42:40.210Z"
   },
   {
    "duration": 20,
    "start_time": "2021-09-30T20:42:46.130Z"
   },
   {
    "duration": 23,
    "start_time": "2021-09-30T20:43:50.881Z"
   },
   {
    "duration": 21,
    "start_time": "2021-09-30T20:44:21.633Z"
   },
   {
    "duration": 20,
    "start_time": "2021-09-30T20:44:27.891Z"
   },
   {
    "duration": 20,
    "start_time": "2021-09-30T20:45:56.191Z"
   },
   {
    "duration": 20,
    "start_time": "2021-09-30T20:47:28.444Z"
   },
   {
    "duration": 19,
    "start_time": "2021-09-30T20:48:17.816Z"
   },
   {
    "duration": 24,
    "start_time": "2021-09-30T20:48:32.428Z"
   },
   {
    "duration": 19,
    "start_time": "2021-09-30T20:48:45.708Z"
   },
   {
    "duration": 25,
    "start_time": "2021-09-30T20:50:13.846Z"
   },
   {
    "duration": 413,
    "start_time": "2021-09-30T20:53:40.591Z"
   },
   {
    "duration": 197,
    "start_time": "2021-09-30T20:55:04.239Z"
   },
   {
    "duration": 192,
    "start_time": "2021-09-30T20:55:15.114Z"
   },
   {
    "duration": 242,
    "start_time": "2021-09-30T20:55:48.987Z"
   },
   {
    "duration": 538,
    "start_time": "2021-09-30T20:56:06.592Z"
   },
   {
    "duration": 431,
    "start_time": "2021-09-30T20:57:07.029Z"
   },
   {
    "duration": 434,
    "start_time": "2021-09-30T20:57:21.069Z"
   },
   {
    "duration": 417,
    "start_time": "2021-09-30T20:58:41.646Z"
   },
   {
    "duration": 486,
    "start_time": "2021-09-30T21:00:44.129Z"
   },
   {
    "duration": 673,
    "start_time": "2021-09-30T21:01:12.482Z"
   },
   {
    "duration": 565,
    "start_time": "2021-09-30T21:02:33.498Z"
   },
   {
    "duration": 241,
    "start_time": "2021-09-30T21:26:28.144Z"
   },
   {
    "duration": 4,
    "start_time": "2021-09-30T21:26:52.300Z"
   },
   {
    "duration": 88,
    "start_time": "2021-09-30T21:27:17.326Z"
   },
   {
    "duration": 10,
    "start_time": "2021-09-30T21:27:24.616Z"
   },
   {
    "duration": 13,
    "start_time": "2021-09-30T21:27:40.034Z"
   },
   {
    "duration": 33,
    "start_time": "2021-09-30T21:51:39.873Z"
   },
   {
    "duration": 562,
    "start_time": "2021-09-30T21:51:42.291Z"
   },
   {
    "duration": 31,
    "start_time": "2021-09-30T21:52:36.797Z"
   },
   {
    "duration": 640,
    "start_time": "2021-09-30T21:53:14.589Z"
   },
   {
    "duration": 706,
    "start_time": "2021-09-30T21:53:45.775Z"
   },
   {
    "duration": 267,
    "start_time": "2021-09-30T21:55:56.497Z"
   },
   {
    "duration": 274,
    "start_time": "2021-09-30T21:56:49.838Z"
   },
   {
    "duration": 248,
    "start_time": "2021-09-30T21:58:19.073Z"
   },
   {
    "duration": 246,
    "start_time": "2021-09-30T21:58:59.034Z"
   },
   {
    "duration": 11,
    "start_time": "2021-09-30T21:59:27.579Z"
   },
   {
    "duration": 11,
    "start_time": "2021-09-30T22:01:30.303Z"
   },
   {
    "duration": 13,
    "start_time": "2021-09-30T22:01:38.162Z"
   },
   {
    "duration": 10,
    "start_time": "2021-09-30T22:01:45.747Z"
   },
   {
    "duration": 10,
    "start_time": "2021-09-30T22:05:34.236Z"
   },
   {
    "duration": 10,
    "start_time": "2021-09-30T22:05:45.581Z"
   },
   {
    "duration": 11,
    "start_time": "2021-09-30T22:05:50.699Z"
   },
   {
    "duration": 10,
    "start_time": "2021-09-30T22:05:59.528Z"
   },
   {
    "duration": 10,
    "start_time": "2021-09-30T22:06:02.963Z"
   },
   {
    "duration": 10,
    "start_time": "2021-09-30T22:06:10.379Z"
   },
   {
    "duration": 10,
    "start_time": "2021-09-30T22:06:43.787Z"
   },
   {
    "duration": 270,
    "start_time": "2021-09-30T22:07:44.998Z"
   },
   {
    "duration": 13,
    "start_time": "2021-09-30T22:07:54.243Z"
   },
   {
    "duration": 3723,
    "start_time": "2021-09-30T22:08:39.983Z"
   },
   {
    "duration": 5931,
    "start_time": "2021-09-30T22:08:54.032Z"
   },
   {
    "duration": 316,
    "start_time": "2021-09-30T22:09:08.870Z"
   },
   {
    "duration": 10,
    "start_time": "2021-09-30T22:09:32.842Z"
   },
   {
    "duration": 10,
    "start_time": "2021-09-30T22:10:07.001Z"
   },
   {
    "duration": 9,
    "start_time": "2021-09-30T22:10:26.197Z"
   },
   {
    "duration": 9,
    "start_time": "2021-09-30T22:10:29.813Z"
   },
   {
    "duration": 12,
    "start_time": "2021-09-30T22:11:21.490Z"
   },
   {
    "duration": 551,
    "start_time": "2021-09-30T22:18:26.023Z"
   },
   {
    "duration": 412,
    "start_time": "2021-09-30T22:19:09.472Z"
   },
   {
    "duration": 556,
    "start_time": "2021-09-30T22:19:54.417Z"
   },
   {
    "duration": 497,
    "start_time": "2021-09-30T22:20:35.954Z"
   },
   {
    "duration": 404,
    "start_time": "2021-09-30T22:21:29.520Z"
   },
   {
    "duration": 576,
    "start_time": "2021-09-30T22:23:30.850Z"
   },
   {
    "duration": 590,
    "start_time": "2021-09-30T22:24:41.665Z"
   },
   {
    "duration": 573,
    "start_time": "2021-09-30T22:26:35.598Z"
   },
   {
    "duration": 666,
    "start_time": "2021-09-30T22:26:38.850Z"
   },
   {
    "duration": 8,
    "start_time": "2021-09-30T22:28:01.316Z"
   },
   {
    "duration": 2,
    "start_time": "2021-09-30T22:30:12.690Z"
   },
   {
    "duration": 11,
    "start_time": "2021-09-30T22:37:19.949Z"
   },
   {
    "duration": 16,
    "start_time": "2021-09-30T22:37:44.131Z"
   },
   {
    "duration": 15,
    "start_time": "2021-09-30T22:38:49.517Z"
   },
   {
    "duration": 17,
    "start_time": "2021-09-30T22:39:53.577Z"
   },
   {
    "duration": 250,
    "start_time": "2021-09-30T22:40:20.400Z"
   },
   {
    "duration": 18,
    "start_time": "2021-09-30T22:40:30.582Z"
   },
   {
    "duration": 20,
    "start_time": "2021-09-30T22:42:25.563Z"
   },
   {
    "duration": 23,
    "start_time": "2021-09-30T22:49:29.110Z"
   },
   {
    "duration": 22,
    "start_time": "2021-09-30T22:49:32.433Z"
   },
   {
    "duration": 391,
    "start_time": "2021-09-30T22:50:28.852Z"
   },
   {
    "duration": 369,
    "start_time": "2021-09-30T22:50:32.564Z"
   },
   {
    "duration": 373,
    "start_time": "2021-09-30T22:50:36.152Z"
   },
   {
    "duration": 1502,
    "start_time": "2021-09-30T23:16:43.934Z"
   },
   {
    "duration": 482,
    "start_time": "2021-09-30T23:16:45.439Z"
   },
   {
    "duration": 34,
    "start_time": "2021-09-30T23:16:45.923Z"
   },
   {
    "duration": 20,
    "start_time": "2021-09-30T23:16:45.959Z"
   },
   {
    "duration": 13,
    "start_time": "2021-09-30T23:16:45.981Z"
   },
   {
    "duration": 9,
    "start_time": "2021-09-30T23:16:45.996Z"
   },
   {
    "duration": 46,
    "start_time": "2021-09-30T23:16:46.006Z"
   },
   {
    "duration": 15,
    "start_time": "2021-09-30T23:16:46.055Z"
   },
   {
    "duration": 18,
    "start_time": "2021-09-30T23:16:46.072Z"
   },
   {
    "duration": 7,
    "start_time": "2021-09-30T23:16:46.091Z"
   },
   {
    "duration": 14,
    "start_time": "2021-09-30T23:16:46.100Z"
   },
   {
    "duration": 35,
    "start_time": "2021-09-30T23:16:46.115Z"
   },
   {
    "duration": 81,
    "start_time": "2021-09-30T23:16:46.152Z"
   },
   {
    "duration": 100,
    "start_time": "2021-09-30T23:16:46.235Z"
   },
   {
    "duration": 126,
    "start_time": "2021-09-30T23:16:46.337Z"
   },
   {
    "duration": 50,
    "start_time": "2021-09-30T23:16:46.464Z"
   },
   {
    "duration": 60,
    "start_time": "2021-09-30T23:16:46.515Z"
   },
   {
    "duration": 7,
    "start_time": "2021-09-30T23:16:46.577Z"
   },
   {
    "duration": 81,
    "start_time": "2021-09-30T23:16:46.585Z"
   },
   {
    "duration": 58,
    "start_time": "2021-09-30T23:16:46.668Z"
   },
   {
    "duration": 49,
    "start_time": "2021-09-30T23:16:46.728Z"
   },
   {
    "duration": 25,
    "start_time": "2021-09-30T23:16:46.779Z"
   },
   {
    "duration": 3,
    "start_time": "2021-09-30T23:16:46.807Z"
   },
   {
    "duration": 14,
    "start_time": "2021-09-30T23:16:46.811Z"
   },
   {
    "duration": 16,
    "start_time": "2021-09-30T23:16:46.850Z"
   },
   {
    "duration": 42,
    "start_time": "2021-09-30T23:16:46.867Z"
   },
   {
    "duration": 7,
    "start_time": "2021-09-30T23:16:46.911Z"
   },
   {
    "duration": 37,
    "start_time": "2021-09-30T23:16:46.920Z"
   },
   {
    "duration": 19,
    "start_time": "2021-09-30T23:16:46.959Z"
   },
   {
    "duration": 8,
    "start_time": "2021-09-30T23:16:46.980Z"
   },
   {
    "duration": 13,
    "start_time": "2021-09-30T23:16:46.990Z"
   },
   {
    "duration": 245,
    "start_time": "2021-09-30T23:16:47.005Z"
   },
   {
    "duration": 24,
    "start_time": "2021-09-30T23:16:47.251Z"
   },
   {
    "duration": 32,
    "start_time": "2021-09-30T23:16:47.277Z"
   },
   {
    "duration": 45,
    "start_time": "2021-09-30T23:16:47.311Z"
   },
   {
    "duration": 20,
    "start_time": "2021-09-30T23:16:47.358Z"
   },
   {
    "duration": 3,
    "start_time": "2021-09-30T23:16:47.379Z"
   },
   {
    "duration": 19,
    "start_time": "2021-09-30T23:16:47.384Z"
   },
   {
    "duration": 539,
    "start_time": "2021-09-30T23:16:47.405Z"
   },
   {
    "duration": 387,
    "start_time": "2021-09-30T23:16:47.946Z"
   },
   {
    "duration": 386,
    "start_time": "2021-09-30T23:16:48.335Z"
   },
   {
    "duration": 218,
    "start_time": "2021-10-01T23:14:51.349Z"
   },
   {
    "duration": 554,
    "start_time": "2021-10-01T23:14:57.896Z"
   },
   {
    "duration": 405,
    "start_time": "2021-10-01T23:14:58.452Z"
   },
   {
    "duration": 35,
    "start_time": "2021-10-01T23:14:58.859Z"
   },
   {
    "duration": 19,
    "start_time": "2021-10-01T23:14:58.897Z"
   },
   {
    "duration": 11,
    "start_time": "2021-10-01T23:14:58.918Z"
   },
   {
    "duration": 6,
    "start_time": "2021-10-01T23:14:58.931Z"
   },
   {
    "duration": 21,
    "start_time": "2021-10-01T23:14:58.939Z"
   },
   {
    "duration": 41,
    "start_time": "2021-10-01T23:14:58.963Z"
   },
   {
    "duration": 16,
    "start_time": "2021-10-01T23:14:59.005Z"
   },
   {
    "duration": 5,
    "start_time": "2021-10-01T23:14:59.022Z"
   },
   {
    "duration": 6,
    "start_time": "2021-10-01T23:14:59.029Z"
   },
   {
    "duration": 10,
    "start_time": "2021-10-01T23:14:59.037Z"
   },
   {
    "duration": 102,
    "start_time": "2021-10-01T23:14:59.048Z"
   },
   {
    "duration": 91,
    "start_time": "2021-10-01T23:14:59.152Z"
   },
   {
    "duration": 91,
    "start_time": "2021-10-01T23:14:59.245Z"
   },
   {
    "duration": 37,
    "start_time": "2021-10-01T23:14:59.338Z"
   },
   {
    "duration": 47,
    "start_time": "2021-10-01T23:14:59.377Z"
   },
   {
    "duration": 6,
    "start_time": "2021-10-01T23:14:59.425Z"
   },
   {
    "duration": 77,
    "start_time": "2021-10-01T23:14:59.432Z"
   },
   {
    "duration": 52,
    "start_time": "2021-10-01T23:14:59.511Z"
   },
   {
    "duration": 42,
    "start_time": "2021-10-01T23:14:59.565Z"
   },
   {
    "duration": 22,
    "start_time": "2021-10-01T23:14:59.609Z"
   },
   {
    "duration": 2,
    "start_time": "2021-10-01T23:14:59.635Z"
   },
   {
    "duration": 13,
    "start_time": "2021-10-01T23:14:59.639Z"
   },
   {
    "duration": 17,
    "start_time": "2021-10-01T23:14:59.653Z"
   },
   {
    "duration": 58,
    "start_time": "2021-10-01T23:14:59.672Z"
   },
   {
    "duration": 6,
    "start_time": "2021-10-01T23:14:59.731Z"
   },
   {
    "duration": 12,
    "start_time": "2021-10-01T23:14:59.738Z"
   },
   {
    "duration": 14,
    "start_time": "2021-10-01T23:14:59.752Z"
   },
   {
    "duration": 36,
    "start_time": "2021-10-01T23:14:59.767Z"
   },
   {
    "duration": 13,
    "start_time": "2021-10-01T23:14:59.805Z"
   },
   {
    "duration": 211,
    "start_time": "2021-10-01T23:14:59.819Z"
   },
   {
    "duration": 21,
    "start_time": "2021-10-01T23:15:00.032Z"
   },
   {
    "duration": 48,
    "start_time": "2021-10-01T23:15:00.055Z"
   },
   {
    "duration": 19,
    "start_time": "2021-10-01T23:15:00.104Z"
   },
   {
    "duration": 19,
    "start_time": "2021-10-01T23:15:00.124Z"
   },
   {
    "duration": 2,
    "start_time": "2021-10-01T23:15:00.144Z"
   },
   {
    "duration": 53,
    "start_time": "2021-10-01T23:15:00.148Z"
   },
   {
    "duration": 497,
    "start_time": "2021-10-01T23:15:00.203Z"
   },
   {
    "duration": 386,
    "start_time": "2021-10-01T23:15:00.703Z"
   },
   {
    "duration": 384,
    "start_time": "2021-10-01T23:15:01.091Z"
   },
   {
    "duration": 5,
    "start_time": "2021-10-01T23:15:01.477Z"
   },
   {
    "duration": 7,
    "start_time": "2021-10-01T23:21:42.290Z"
   },
   {
    "duration": 5,
    "start_time": "2021-10-01T23:21:54.334Z"
   },
   {
    "duration": 6,
    "start_time": "2021-10-01T23:22:02.059Z"
   },
   {
    "duration": 188,
    "start_time": "2021-10-01T23:27:55.069Z"
   },
   {
    "duration": 192,
    "start_time": "2021-10-01T23:28:06.362Z"
   },
   {
    "duration": 192,
    "start_time": "2021-10-01T23:28:34.234Z"
   },
   {
    "duration": 206,
    "start_time": "2021-10-01T23:28:37.997Z"
   },
   {
    "duration": 195,
    "start_time": "2021-10-01T23:29:02.589Z"
   },
   {
    "duration": 265,
    "start_time": "2021-10-01T23:29:09.521Z"
   },
   {
    "duration": 210,
    "start_time": "2021-10-01T23:29:19.595Z"
   },
   {
    "duration": 250,
    "start_time": "2021-10-01T23:29:39.549Z"
   },
   {
    "duration": 187,
    "start_time": "2021-10-01T23:29:58.288Z"
   },
   {
    "duration": 379,
    "start_time": "2021-10-01T23:30:59.361Z"
   },
   {
    "duration": 383,
    "start_time": "2021-10-01T23:31:07.096Z"
   },
   {
    "duration": 399,
    "start_time": "2021-10-01T23:32:41.648Z"
   },
   {
    "duration": 496,
    "start_time": "2021-10-01T23:33:06.355Z"
   },
   {
    "duration": 409,
    "start_time": "2021-10-01T23:33:29.174Z"
   },
   {
    "duration": 378,
    "start_time": "2021-10-02T00:41:32.836Z"
   },
   {
    "duration": 366,
    "start_time": "2021-10-02T00:46:38.062Z"
   },
   {
    "duration": 4,
    "start_time": "2021-10-02T00:47:14.481Z"
   },
   {
    "duration": 5,
    "start_time": "2021-10-02T00:47:31.854Z"
   },
   {
    "duration": 5,
    "start_time": "2021-10-02T00:47:40.213Z"
   },
   {
    "duration": 5,
    "start_time": "2021-10-02T00:47:52.893Z"
   },
   {
    "duration": 5,
    "start_time": "2021-10-02T00:47:59.327Z"
   },
   {
    "duration": 5,
    "start_time": "2021-10-02T00:48:55.803Z"
   },
   {
    "duration": 267,
    "start_time": "2021-10-02T00:54:50.985Z"
   },
   {
    "duration": 4,
    "start_time": "2021-10-02T00:55:04.607Z"
   },
   {
    "duration": 6,
    "start_time": "2021-10-02T00:57:20.947Z"
   },
   {
    "duration": 187,
    "start_time": "2021-10-02T01:19:30.802Z"
   },
   {
    "duration": 205,
    "start_time": "2021-10-02T01:19:34.131Z"
   },
   {
    "duration": 176,
    "start_time": "2021-10-02T01:19:42.470Z"
   },
   {
    "duration": 287,
    "start_time": "2021-10-02T01:19:45.555Z"
   },
   {
    "duration": 21,
    "start_time": "2021-10-02T01:19:53.519Z"
   },
   {
    "duration": 197,
    "start_time": "2021-10-02T01:26:00.937Z"
   },
   {
    "duration": 10,
    "start_time": "2021-10-02T01:27:01.377Z"
   },
   {
    "duration": 20,
    "start_time": "2021-10-02T01:27:16.647Z"
   },
   {
    "duration": 9,
    "start_time": "2021-10-02T01:29:10.573Z"
   },
   {
    "duration": 9,
    "start_time": "2021-10-02T01:29:22.335Z"
   },
   {
    "duration": 532,
    "start_time": "2021-10-02T01:49:28.735Z"
   },
   {
    "duration": 409,
    "start_time": "2021-10-02T01:49:29.269Z"
   },
   {
    "duration": 35,
    "start_time": "2021-10-02T01:49:29.680Z"
   },
   {
    "duration": 18,
    "start_time": "2021-10-02T01:49:29.717Z"
   },
   {
    "duration": 10,
    "start_time": "2021-10-02T01:49:29.737Z"
   },
   {
    "duration": 9,
    "start_time": "2021-10-02T01:49:29.748Z"
   },
   {
    "duration": 54,
    "start_time": "2021-10-02T01:49:29.758Z"
   },
   {
    "duration": 14,
    "start_time": "2021-10-02T01:49:29.814Z"
   },
   {
    "duration": 15,
    "start_time": "2021-10-02T01:49:29.831Z"
   },
   {
    "duration": 6,
    "start_time": "2021-10-02T01:49:29.847Z"
   },
   {
    "duration": 7,
    "start_time": "2021-10-02T01:49:29.854Z"
   },
   {
    "duration": 6,
    "start_time": "2021-10-02T01:49:29.862Z"
   },
   {
    "duration": 108,
    "start_time": "2021-10-02T01:49:29.870Z"
   },
   {
    "duration": 108,
    "start_time": "2021-10-02T01:49:29.980Z"
   },
   {
    "duration": 110,
    "start_time": "2021-10-02T01:49:30.090Z"
   },
   {
    "duration": 51,
    "start_time": "2021-10-02T01:49:30.202Z"
   },
   {
    "duration": 56,
    "start_time": "2021-10-02T01:49:30.255Z"
   },
   {
    "duration": 9,
    "start_time": "2021-10-02T01:49:30.313Z"
   },
   {
    "duration": 85,
    "start_time": "2021-10-02T01:49:30.324Z"
   },
   {
    "duration": 55,
    "start_time": "2021-10-02T01:49:30.411Z"
   },
   {
    "duration": 54,
    "start_time": "2021-10-02T01:49:30.468Z"
   },
   {
    "duration": 22,
    "start_time": "2021-10-02T01:49:30.523Z"
   },
   {
    "duration": 3,
    "start_time": "2021-10-02T01:49:30.548Z"
   },
   {
    "duration": 13,
    "start_time": "2021-10-02T01:49:30.553Z"
   },
   {
    "duration": 37,
    "start_time": "2021-10-02T01:49:30.567Z"
   },
   {
    "duration": 39,
    "start_time": "2021-10-02T01:49:30.606Z"
   },
   {
    "duration": 8,
    "start_time": "2021-10-02T01:49:30.647Z"
   },
   {
    "duration": 18,
    "start_time": "2021-10-02T01:49:30.657Z"
   },
   {
    "duration": 44,
    "start_time": "2021-10-02T01:49:30.677Z"
   },
   {
    "duration": 7,
    "start_time": "2021-10-02T01:49:30.723Z"
   },
   {
    "duration": 13,
    "start_time": "2021-10-02T01:49:30.732Z"
   },
   {
    "duration": 234,
    "start_time": "2021-10-02T01:49:30.746Z"
   },
   {
    "duration": 31,
    "start_time": "2021-10-02T01:49:30.981Z"
   },
   {
    "duration": 31,
    "start_time": "2021-10-02T01:49:31.014Z"
   },
   {
    "duration": 19,
    "start_time": "2021-10-02T01:49:31.046Z"
   },
   {
    "duration": 44,
    "start_time": "2021-10-02T01:49:31.066Z"
   },
   {
    "duration": 3,
    "start_time": "2021-10-02T01:49:31.112Z"
   },
   {
    "duration": 28,
    "start_time": "2021-10-02T01:49:31.116Z"
   },
   {
    "duration": 528,
    "start_time": "2021-10-02T01:49:31.145Z"
   },
   {
    "duration": 405,
    "start_time": "2021-10-02T01:49:31.675Z"
   },
   {
    "duration": 401,
    "start_time": "2021-10-02T01:49:32.081Z"
   },
   {
    "duration": 6,
    "start_time": "2021-10-02T01:49:32.483Z"
   },
   {
    "duration": 445,
    "start_time": "2021-10-02T01:49:32.490Z"
   },
   {
    "duration": 431,
    "start_time": "2021-10-02T01:49:32.937Z"
   },
   {
    "duration": 8,
    "start_time": "2021-10-02T01:49:33.370Z"
   },
   {
    "duration": 21,
    "start_time": "2021-10-02T01:49:33.380Z"
   },
   {
    "duration": 392,
    "start_time": "2021-10-02T01:50:07.684Z"
   },
   {
    "duration": 429,
    "start_time": "2021-10-02T01:50:19.970Z"
   },
   {
    "duration": 65,
    "start_time": "2021-10-02T01:53:06.081Z"
   },
   {
    "duration": 33,
    "start_time": "2021-10-02T01:53:09.561Z"
   },
   {
    "duration": 40,
    "start_time": "2021-10-02T01:53:13.396Z"
   },
   {
    "duration": 35,
    "start_time": "2021-10-02T01:53:32.883Z"
   },
   {
    "duration": 15,
    "start_time": "2021-10-02T01:54:04.510Z"
   },
   {
    "duration": 10,
    "start_time": "2021-10-02T01:54:11.452Z"
   },
   {
    "duration": 580,
    "start_time": "2021-10-02T11:09:58.203Z"
   },
   {
    "duration": 451,
    "start_time": "2021-10-02T11:10:00.060Z"
   },
   {
    "duration": 36,
    "start_time": "2021-10-02T11:10:01.013Z"
   },
   {
    "duration": 25,
    "start_time": "2021-10-02T11:10:01.612Z"
   },
   {
    "duration": 11,
    "start_time": "2021-10-02T11:10:02.131Z"
   },
   {
    "duration": 6,
    "start_time": "2021-10-02T11:10:02.531Z"
   },
   {
    "duration": 26,
    "start_time": "2021-10-02T11:10:03.113Z"
   },
   {
    "duration": 23,
    "start_time": "2021-10-02T11:10:03.301Z"
   },
   {
    "duration": 22,
    "start_time": "2021-10-02T11:10:03.494Z"
   },
   {
    "duration": 6,
    "start_time": "2021-10-02T11:10:03.683Z"
   },
   {
    "duration": 6,
    "start_time": "2021-10-02T11:10:03.883Z"
   },
   {
    "duration": 5,
    "start_time": "2021-10-02T11:10:04.068Z"
   },
   {
    "duration": 82,
    "start_time": "2021-10-02T11:10:06.610Z"
   },
   {
    "duration": 94,
    "start_time": "2021-10-02T11:10:07.734Z"
   },
   {
    "duration": 89,
    "start_time": "2021-10-02T11:10:08.147Z"
   },
   {
    "duration": 39,
    "start_time": "2021-10-02T11:10:08.355Z"
   },
   {
    "duration": 33,
    "start_time": "2021-10-02T11:10:08.556Z"
   },
   {
    "duration": 6,
    "start_time": "2021-10-02T11:10:08.752Z"
   },
   {
    "duration": 70,
    "start_time": "2021-10-02T11:10:10.046Z"
   },
   {
    "duration": 54,
    "start_time": "2021-10-02T11:10:10.651Z"
   },
   {
    "duration": 28,
    "start_time": "2021-10-02T11:10:10.918Z"
   },
   {
    "duration": 28,
    "start_time": "2021-10-02T11:10:11.206Z"
   },
   {
    "duration": 4,
    "start_time": "2021-10-02T11:10:11.915Z"
   },
   {
    "duration": 15,
    "start_time": "2021-10-02T11:10:12.190Z"
   },
   {
    "duration": 14,
    "start_time": "2021-10-02T11:10:12.731Z"
   },
   {
    "duration": 42,
    "start_time": "2021-10-02T11:10:13.292Z"
   },
   {
    "duration": 7,
    "start_time": "2021-10-02T11:10:14.038Z"
   },
   {
    "duration": 10,
    "start_time": "2021-10-02T11:10:14.446Z"
   },
   {
    "duration": 15,
    "start_time": "2021-10-02T11:10:14.852Z"
   },
   {
    "duration": 9,
    "start_time": "2021-10-02T11:10:15.076Z"
   },
   {
    "duration": 14,
    "start_time": "2021-10-02T11:10:15.595Z"
   },
   {
    "duration": 204,
    "start_time": "2021-10-02T11:10:16.536Z"
   },
   {
    "duration": 21,
    "start_time": "2021-10-02T11:10:54.404Z"
   },
   {
    "duration": 20,
    "start_time": "2021-10-02T11:11:03.965Z"
   },
   {
    "duration": 62,
    "start_time": "2021-10-02T11:13:25.902Z"
   },
   {
    "duration": 58,
    "start_time": "2021-10-02T11:16:33.953Z"
   },
   {
    "duration": 581,
    "start_time": "2021-10-04T03:56:32.324Z"
   },
   {
    "duration": 441,
    "start_time": "2021-10-04T03:56:32.907Z"
   },
   {
    "duration": 34,
    "start_time": "2021-10-04T03:56:33.350Z"
   },
   {
    "duration": 27,
    "start_time": "2021-10-04T03:56:33.386Z"
   },
   {
    "duration": 15,
    "start_time": "2021-10-04T03:56:33.415Z"
   },
   {
    "duration": 6,
    "start_time": "2021-10-04T03:56:33.431Z"
   },
   {
    "duration": 26,
    "start_time": "2021-10-04T03:56:33.439Z"
   },
   {
    "duration": 33,
    "start_time": "2021-10-04T03:56:33.467Z"
   },
   {
    "duration": 25,
    "start_time": "2021-10-04T03:56:33.503Z"
   },
   {
    "duration": 6,
    "start_time": "2021-10-04T03:56:33.529Z"
   },
   {
    "duration": 6,
    "start_time": "2021-10-04T03:56:33.537Z"
   },
   {
    "duration": 5,
    "start_time": "2021-10-04T03:56:33.545Z"
   },
   {
    "duration": 118,
    "start_time": "2021-10-04T03:56:33.551Z"
   },
   {
    "duration": 102,
    "start_time": "2021-10-04T03:56:33.670Z"
   },
   {
    "duration": 105,
    "start_time": "2021-10-04T03:56:33.773Z"
   },
   {
    "duration": 57,
    "start_time": "2021-10-04T03:56:33.879Z"
   },
   {
    "duration": 34,
    "start_time": "2021-10-04T03:56:33.938Z"
   },
   {
    "duration": 6,
    "start_time": "2021-10-04T03:56:33.974Z"
   },
   {
    "duration": 87,
    "start_time": "2021-10-04T03:56:33.982Z"
   },
   {
    "duration": 77,
    "start_time": "2021-10-04T03:56:34.070Z"
   },
   {
    "duration": 28,
    "start_time": "2021-10-04T03:56:34.149Z"
   },
   {
    "duration": 43,
    "start_time": "2021-10-04T03:56:34.179Z"
   },
   {
    "duration": 3,
    "start_time": "2021-10-04T03:56:34.225Z"
   },
   {
    "duration": 11,
    "start_time": "2021-10-04T03:56:34.230Z"
   },
   {
    "duration": 14,
    "start_time": "2021-10-04T03:56:34.242Z"
   },
   {
    "duration": 66,
    "start_time": "2021-10-04T03:56:34.257Z"
   },
   {
    "duration": 7,
    "start_time": "2021-10-04T03:56:34.326Z"
   },
   {
    "duration": 10,
    "start_time": "2021-10-04T03:56:34.335Z"
   },
   {
    "duration": 16,
    "start_time": "2021-10-04T03:56:34.347Z"
   },
   {
    "duration": 44,
    "start_time": "2021-10-04T03:56:34.365Z"
   },
   {
    "duration": 14,
    "start_time": "2021-10-04T03:56:34.415Z"
   },
   {
    "duration": 242,
    "start_time": "2021-10-04T03:56:34.430Z"
   },
   {
    "duration": 36,
    "start_time": "2021-10-04T03:56:34.673Z"
   },
   {
    "duration": 37,
    "start_time": "2021-10-04T03:56:34.712Z"
   },
   {
    "duration": 19,
    "start_time": "2021-10-04T03:56:34.751Z"
   },
   {
    "duration": 48,
    "start_time": "2021-10-04T03:56:34.771Z"
   },
   {
    "duration": 2,
    "start_time": "2021-10-04T03:56:34.821Z"
   },
   {
    "duration": 18,
    "start_time": "2021-10-04T03:56:34.825Z"
   },
   {
    "duration": 624,
    "start_time": "2021-10-04T03:56:34.845Z"
   },
   {
    "duration": 443,
    "start_time": "2021-10-04T03:56:35.471Z"
   },
   {
    "duration": 549,
    "start_time": "2021-10-04T03:56:35.917Z"
   },
   {
    "duration": 5,
    "start_time": "2021-10-04T03:56:36.467Z"
   },
   {
    "duration": 439,
    "start_time": "2021-10-04T03:56:36.473Z"
   },
   {
    "duration": 429,
    "start_time": "2021-10-04T03:56:36.914Z"
   },
   {
    "duration": 8,
    "start_time": "2021-10-04T03:56:37.344Z"
   },
   {
    "duration": 10,
    "start_time": "2021-10-04T03:56:37.353Z"
   },
   {
    "duration": 430,
    "start_time": "2021-10-04T04:41:09.932Z"
   },
   {
    "duration": 26,
    "start_time": "2021-10-04T04:41:20.404Z"
   },
   {
    "duration": 310,
    "start_time": "2021-10-04T04:42:02.539Z"
   },
   {
    "duration": 167,
    "start_time": "2021-10-04T04:42:07.117Z"
   },
   {
    "duration": 174,
    "start_time": "2021-10-04T04:42:12.979Z"
   },
   {
    "duration": 176,
    "start_time": "2021-10-04T04:42:15.936Z"
   },
   {
    "duration": 169,
    "start_time": "2021-10-04T04:42:23.560Z"
   },
   {
    "duration": 180,
    "start_time": "2021-10-04T04:42:26.327Z"
   },
   {
    "duration": 174,
    "start_time": "2021-10-04T04:42:48.257Z"
   },
   {
    "duration": 158,
    "start_time": "2021-10-04T04:42:51.021Z"
   },
   {
    "duration": 4,
    "start_time": "2021-10-04T04:42:59.567Z"
   },
   {
    "duration": 194,
    "start_time": "2021-10-04T04:43:35.487Z"
   },
   {
    "duration": 55,
    "start_time": "2021-10-04T04:44:06.570Z"
   },
   {
    "duration": 62,
    "start_time": "2021-10-04T04:44:13.054Z"
   },
   {
    "duration": 171,
    "start_time": "2021-10-04T04:44:34.821Z"
   },
   {
    "duration": 71,
    "start_time": "2021-10-04T04:44:48.249Z"
   },
   {
    "duration": 175,
    "start_time": "2021-10-04T04:48:24.913Z"
   },
   {
    "duration": 186,
    "start_time": "2021-10-04T04:48:50.819Z"
   },
   {
    "duration": 26,
    "start_time": "2021-10-04T04:49:24.708Z"
   },
   {
    "duration": 8,
    "start_time": "2021-10-04T04:49:32.558Z"
   },
   {
    "duration": 4,
    "start_time": "2021-10-04T04:49:45.106Z"
   },
   {
    "duration": 177,
    "start_time": "2021-10-04T04:50:02.948Z"
   },
   {
    "duration": 232,
    "start_time": "2021-10-04T04:50:24.783Z"
   },
   {
    "duration": 26,
    "start_time": "2021-10-04T04:50:33.414Z"
   },
   {
    "duration": 4,
    "start_time": "2021-10-04T04:50:46.171Z"
   },
   {
    "duration": 534,
    "start_time": "2021-10-04T04:51:02.165Z"
   },
   {
    "duration": 379,
    "start_time": "2021-10-04T04:51:02.701Z"
   },
   {
    "duration": 246,
    "start_time": "2021-10-04T04:51:03.081Z"
   },
   {
    "duration": 1573,
    "start_time": "2021-10-04T04:51:01.757Z"
   },
   {
    "duration": 1572,
    "start_time": "2021-10-04T04:51:01.759Z"
   },
   {
    "duration": 1571,
    "start_time": "2021-10-04T04:51:01.761Z"
   },
   {
    "duration": 1567,
    "start_time": "2021-10-04T04:51:01.766Z"
   },
   {
    "duration": 1567,
    "start_time": "2021-10-04T04:51:01.767Z"
   },
   {
    "duration": 1566,
    "start_time": "2021-10-04T04:51:01.769Z"
   },
   {
    "duration": 1564,
    "start_time": "2021-10-04T04:51:01.771Z"
   },
   {
    "duration": 1563,
    "start_time": "2021-10-04T04:51:01.773Z"
   },
   {
    "duration": 1560,
    "start_time": "2021-10-04T04:51:01.777Z"
   },
   {
    "duration": 1557,
    "start_time": "2021-10-04T04:51:01.781Z"
   },
   {
    "duration": 1556,
    "start_time": "2021-10-04T04:51:01.783Z"
   },
   {
    "duration": 1554,
    "start_time": "2021-10-04T04:51:01.786Z"
   },
   {
    "duration": 1551,
    "start_time": "2021-10-04T04:51:01.789Z"
   },
   {
    "duration": 1550,
    "start_time": "2021-10-04T04:51:01.791Z"
   },
   {
    "duration": 1551,
    "start_time": "2021-10-04T04:51:01.792Z"
   },
   {
    "duration": 1550,
    "start_time": "2021-10-04T04:51:01.794Z"
   },
   {
    "duration": 1550,
    "start_time": "2021-10-04T04:51:01.795Z"
   },
   {
    "duration": 1548,
    "start_time": "2021-10-04T04:51:01.797Z"
   },
   {
    "duration": 1548,
    "start_time": "2021-10-04T04:51:01.798Z"
   },
   {
    "duration": 1547,
    "start_time": "2021-10-04T04:51:01.800Z"
   },
   {
    "duration": 1546,
    "start_time": "2021-10-04T04:51:01.802Z"
   },
   {
    "duration": 1540,
    "start_time": "2021-10-04T04:51:01.809Z"
   },
   {
    "duration": 1538,
    "start_time": "2021-10-04T04:51:01.812Z"
   },
   {
    "duration": 1537,
    "start_time": "2021-10-04T04:51:01.814Z"
   },
   {
    "duration": 1536,
    "start_time": "2021-10-04T04:51:01.815Z"
   },
   {
    "duration": 1535,
    "start_time": "2021-10-04T04:51:01.817Z"
   },
   {
    "duration": 1534,
    "start_time": "2021-10-04T04:51:01.819Z"
   },
   {
    "duration": 1534,
    "start_time": "2021-10-04T04:51:01.820Z"
   },
   {
    "duration": 1533,
    "start_time": "2021-10-04T04:51:01.822Z"
   },
   {
    "duration": 1531,
    "start_time": "2021-10-04T04:51:01.824Z"
   },
   {
    "duration": 1530,
    "start_time": "2021-10-04T04:51:01.826Z"
   },
   {
    "duration": 1528,
    "start_time": "2021-10-04T04:51:01.829Z"
   },
   {
    "duration": 1526,
    "start_time": "2021-10-04T04:51:01.832Z"
   },
   {
    "duration": 1525,
    "start_time": "2021-10-04T04:51:01.834Z"
   },
   {
    "duration": 1524,
    "start_time": "2021-10-04T04:51:01.836Z"
   },
   {
    "duration": 1524,
    "start_time": "2021-10-04T04:51:01.837Z"
   },
   {
    "duration": 1522,
    "start_time": "2021-10-04T04:51:01.839Z"
   },
   {
    "duration": 1521,
    "start_time": "2021-10-04T04:51:01.841Z"
   },
   {
    "duration": 1521,
    "start_time": "2021-10-04T04:51:01.842Z"
   },
   {
    "duration": 1520,
    "start_time": "2021-10-04T04:51:01.844Z"
   },
   {
    "duration": 1520,
    "start_time": "2021-10-04T04:51:01.845Z"
   },
   {
    "duration": 1513,
    "start_time": "2021-10-04T04:51:01.852Z"
   },
   {
    "duration": 199,
    "start_time": "2021-10-04T04:52:02.632Z"
   },
   {
    "duration": 32,
    "start_time": "2021-10-04T04:53:26.781Z"
   },
   {
    "duration": 27,
    "start_time": "2021-10-04T04:53:39.778Z"
   },
   {
    "duration": 534,
    "start_time": "2021-10-04T04:54:05.221Z"
   },
   {
    "duration": 392,
    "start_time": "2021-10-04T04:54:05.757Z"
   },
   {
    "duration": 35,
    "start_time": "2021-10-04T04:54:06.151Z"
   },
   {
    "duration": 21,
    "start_time": "2021-10-04T04:54:06.188Z"
   },
   {
    "duration": 8,
    "start_time": "2021-10-04T04:54:06.211Z"
   },
   {
    "duration": 7,
    "start_time": "2021-10-04T04:54:06.220Z"
   },
   {
    "duration": 23,
    "start_time": "2021-10-04T04:54:06.228Z"
   },
   {
    "duration": 13,
    "start_time": "2021-10-04T04:54:06.252Z"
   },
   {
    "duration": 43,
    "start_time": "2021-10-04T04:54:06.268Z"
   },
   {
    "duration": 5,
    "start_time": "2021-10-04T04:54:06.313Z"
   },
   {
    "duration": 8,
    "start_time": "2021-10-04T04:54:06.320Z"
   },
   {
    "duration": 13,
    "start_time": "2021-10-04T04:54:06.330Z"
   },
   {
    "duration": 89,
    "start_time": "2021-10-04T04:54:06.345Z"
   },
   {
    "duration": 90,
    "start_time": "2021-10-04T04:54:06.436Z"
   },
   {
    "duration": 85,
    "start_time": "2021-10-04T04:54:06.528Z"
   },
   {
    "duration": 38,
    "start_time": "2021-10-04T04:54:06.615Z"
   },
   {
    "duration": 50,
    "start_time": "2021-10-04T04:54:06.654Z"
   },
   {
    "duration": 5,
    "start_time": "2021-10-04T04:54:06.706Z"
   },
   {
    "duration": 63,
    "start_time": "2021-10-04T04:54:06.713Z"
   },
   {
    "duration": 71,
    "start_time": "2021-10-04T04:54:06.777Z"
   },
   {
    "duration": 27,
    "start_time": "2021-10-04T04:54:06.850Z"
   },
   {
    "duration": 36,
    "start_time": "2021-10-04T04:54:06.878Z"
   },
   {
    "duration": 2,
    "start_time": "2021-10-04T04:54:06.916Z"
   },
   {
    "duration": 16,
    "start_time": "2021-10-04T04:54:06.919Z"
   },
   {
    "duration": 18,
    "start_time": "2021-10-04T04:54:06.936Z"
   },
   {
    "duration": 46,
    "start_time": "2021-10-04T04:54:06.955Z"
   },
   {
    "duration": 6,
    "start_time": "2021-10-04T04:54:07.005Z"
   },
   {
    "duration": 23,
    "start_time": "2021-10-04T04:54:07.012Z"
   },
   {
    "duration": 20,
    "start_time": "2021-10-04T04:54:07.036Z"
   },
   {
    "duration": 9,
    "start_time": "2021-10-04T04:54:07.058Z"
   },
   {
    "duration": 28,
    "start_time": "2021-10-04T04:54:07.069Z"
   },
   {
    "duration": 201,
    "start_time": "2021-10-04T04:54:07.099Z"
   },
   {
    "duration": 18,
    "start_time": "2021-10-04T04:54:07.302Z"
   },
   {
    "duration": 29,
    "start_time": "2021-10-04T04:54:07.321Z"
   },
   {
    "duration": 18,
    "start_time": "2021-10-04T04:54:07.352Z"
   },
   {
    "duration": 43,
    "start_time": "2021-10-04T04:54:07.371Z"
   },
   {
    "duration": 14,
    "start_time": "2021-10-04T04:54:07.416Z"
   },
   {
    "duration": 495,
    "start_time": "2021-10-04T04:54:07.432Z"
   },
   {
    "duration": 385,
    "start_time": "2021-10-04T04:54:07.928Z"
   },
   {
    "duration": 384,
    "start_time": "2021-10-04T04:54:08.314Z"
   },
   {
    "duration": 5,
    "start_time": "2021-10-04T04:54:08.699Z"
   },
   {
    "duration": 396,
    "start_time": "2021-10-04T04:54:08.706Z"
   },
   {
    "duration": 379,
    "start_time": "2021-10-04T04:54:09.104Z"
   },
   {
    "duration": 15,
    "start_time": "2021-10-04T04:54:09.485Z"
   },
   {
    "duration": 16,
    "start_time": "2021-10-04T04:54:09.501Z"
   },
   {
    "duration": 284,
    "start_time": "2021-10-04T04:58:34.131Z"
   },
   {
    "duration": 32,
    "start_time": "2021-10-04T04:58:58.883Z"
   },
   {
    "duration": 203,
    "start_time": "2021-10-04T05:03:36.556Z"
   },
   {
    "duration": 209,
    "start_time": "2021-10-04T05:03:46.085Z"
   },
   {
    "duration": 206,
    "start_time": "2021-10-04T05:04:36.347Z"
   },
   {
    "duration": 213,
    "start_time": "2021-10-04T05:04:40.344Z"
   },
   {
    "duration": 210,
    "start_time": "2021-10-04T05:04:49.134Z"
   },
   {
    "duration": 227,
    "start_time": "2021-10-04T05:05:34.430Z"
   },
   {
    "duration": 285,
    "start_time": "2021-10-04T05:05:49.445Z"
   },
   {
    "duration": 364,
    "start_time": "2021-10-04T05:10:09.708Z"
   },
   {
    "duration": 216,
    "start_time": "2021-10-04T05:10:24.244Z"
   },
   {
    "duration": 198,
    "start_time": "2021-10-04T05:10:30.595Z"
   },
   {
    "duration": 196,
    "start_time": "2021-10-04T05:17:03.748Z"
   },
   {
    "duration": 194,
    "start_time": "2021-10-04T05:17:08.456Z"
   },
   {
    "duration": 196,
    "start_time": "2021-10-04T05:22:10.716Z"
   },
   {
    "duration": 237,
    "start_time": "2021-10-04T05:22:24.707Z"
   },
   {
    "duration": 222,
    "start_time": "2021-10-04T05:22:55.841Z"
   },
   {
    "duration": 220,
    "start_time": "2021-10-04T05:23:12.461Z"
   },
   {
    "duration": 228,
    "start_time": "2021-10-04T05:23:24.778Z"
   },
   {
    "duration": 298,
    "start_time": "2021-10-04T05:23:56.442Z"
   },
   {
    "duration": 210,
    "start_time": "2021-10-04T05:24:59.124Z"
   },
   {
    "duration": 217,
    "start_time": "2021-10-04T05:25:58.830Z"
   },
   {
    "duration": 245,
    "start_time": "2021-10-04T05:26:24.995Z"
   },
   {
    "duration": 4281,
    "start_time": "2021-10-04T05:32:00.671Z"
   },
   {
    "duration": 587,
    "start_time": "2021-10-04T05:32:15.265Z"
   },
   {
    "duration": 414,
    "start_time": "2021-10-04T05:32:15.854Z"
   },
   {
    "duration": 30,
    "start_time": "2021-10-04T05:32:16.270Z"
   },
   {
    "duration": 20,
    "start_time": "2021-10-04T05:32:16.302Z"
   },
   {
    "duration": 9,
    "start_time": "2021-10-04T05:32:16.323Z"
   },
   {
    "duration": 6,
    "start_time": "2021-10-04T05:32:16.334Z"
   },
   {
    "duration": 20,
    "start_time": "2021-10-04T05:32:16.341Z"
   },
   {
    "duration": 40,
    "start_time": "2021-10-04T05:32:16.363Z"
   },
   {
    "duration": 15,
    "start_time": "2021-10-04T05:32:16.405Z"
   },
   {
    "duration": 5,
    "start_time": "2021-10-04T05:32:16.421Z"
   },
   {
    "duration": 7,
    "start_time": "2021-10-04T05:32:16.428Z"
   },
   {
    "duration": 7,
    "start_time": "2021-10-04T05:32:16.436Z"
   },
   {
    "duration": 101,
    "start_time": "2021-10-04T05:32:16.444Z"
   },
   {
    "duration": 95,
    "start_time": "2021-10-04T05:32:16.547Z"
   },
   {
    "duration": 113,
    "start_time": "2021-10-04T05:32:16.646Z"
   },
   {
    "duration": 44,
    "start_time": "2021-10-04T05:32:16.760Z"
   },
   {
    "duration": 35,
    "start_time": "2021-10-04T05:32:16.806Z"
   },
   {
    "duration": 6,
    "start_time": "2021-10-04T05:32:16.843Z"
   },
   {
    "duration": 66,
    "start_time": "2021-10-04T05:32:16.850Z"
   },
   {
    "duration": 62,
    "start_time": "2021-10-04T05:32:16.918Z"
   },
   {
    "duration": 33,
    "start_time": "2021-10-04T05:32:16.982Z"
   },
   {
    "duration": 22,
    "start_time": "2021-10-04T05:32:17.017Z"
   },
   {
    "duration": 2,
    "start_time": "2021-10-04T05:32:17.042Z"
   },
   {
    "duration": 12,
    "start_time": "2021-10-04T05:32:17.046Z"
   },
   {
    "duration": 16,
    "start_time": "2021-10-04T05:32:17.059Z"
   },
   {
    "duration": 36,
    "start_time": "2021-10-04T05:32:17.077Z"
   },
   {
    "duration": 5,
    "start_time": "2021-10-04T05:32:17.115Z"
   },
   {
    "duration": 7,
    "start_time": "2021-10-04T05:32:17.121Z"
   },
   {
    "duration": 13,
    "start_time": "2021-10-04T05:32:17.130Z"
   },
   {
    "duration": 8,
    "start_time": "2021-10-04T05:32:17.144Z"
   },
   {
    "duration": 11,
    "start_time": "2021-10-04T05:32:17.153Z"
   },
   {
    "duration": 5,
    "start_time": "2021-10-04T05:32:17.165Z"
   },
   {
    "duration": 256,
    "start_time": "2021-10-04T05:32:17.172Z"
   },
   {
    "duration": 20,
    "start_time": "2021-10-04T05:32:17.430Z"
   },
   {
    "duration": 49,
    "start_time": "2021-10-04T05:32:17.452Z"
   },
   {
    "duration": 19,
    "start_time": "2021-10-04T05:32:17.503Z"
   },
   {
    "duration": 18,
    "start_time": "2021-10-04T05:32:17.524Z"
   },
   {
    "duration": 61,
    "start_time": "2021-10-04T05:32:17.543Z"
   },
   {
    "duration": 332,
    "start_time": "2021-10-04T05:32:17.606Z"
   },
   {
    "duration": 259,
    "start_time": "2021-10-04T05:32:17.940Z"
   },
   {
    "duration": 215,
    "start_time": "2021-10-04T05:32:18.201Z"
   },
   {
    "duration": 5,
    "start_time": "2021-10-04T05:32:18.418Z"
   },
   {
    "duration": 237,
    "start_time": "2021-10-04T05:32:18.424Z"
   },
   {
    "duration": 359,
    "start_time": "2021-10-04T05:32:18.662Z"
   },
   {
    "duration": 7,
    "start_time": "2021-10-04T05:32:19.023Z"
   },
   {
    "duration": 10,
    "start_time": "2021-10-04T05:32:19.032Z"
   },
   {
    "duration": 44,
    "start_time": "2021-10-04T05:33:14.766Z"
   },
   {
    "duration": 291,
    "start_time": "2021-10-04T05:37:01.813Z"
   },
   {
    "duration": 187,
    "start_time": "2021-10-04T05:37:08.709Z"
   },
   {
    "duration": 18,
    "start_time": "2021-10-04T05:37:33.745Z"
   },
   {
    "duration": 17,
    "start_time": "2021-10-04T05:38:08.924Z"
   },
   {
    "duration": 17,
    "start_time": "2021-10-04T05:38:33.426Z"
   },
   {
    "duration": 18,
    "start_time": "2021-10-04T05:38:48.882Z"
   },
   {
    "duration": 200,
    "start_time": "2021-10-04T05:39:06.910Z"
   },
   {
    "duration": 19,
    "start_time": "2021-10-04T05:39:12.385Z"
   },
   {
    "duration": 168,
    "start_time": "2021-10-04T05:40:24.770Z"
   },
   {
    "duration": 190,
    "start_time": "2021-10-04T05:40:29.845Z"
   },
   {
    "duration": 198,
    "start_time": "2021-10-04T05:40:57.102Z"
   },
   {
    "duration": 15,
    "start_time": "2021-10-04T05:44:03.459Z"
   },
   {
    "duration": 91,
    "start_time": "2021-10-04T05:47:37.821Z"
   },
   {
    "duration": 626,
    "start_time": "2021-10-04T05:51:25.592Z"
   },
   {
    "duration": 413,
    "start_time": "2021-10-04T05:51:26.220Z"
   },
   {
    "duration": 33,
    "start_time": "2021-10-04T05:51:26.636Z"
   },
   {
    "duration": 22,
    "start_time": "2021-10-04T05:51:26.671Z"
   },
   {
    "duration": 11,
    "start_time": "2021-10-04T05:51:26.695Z"
   },
   {
    "duration": 6,
    "start_time": "2021-10-04T05:51:26.708Z"
   },
   {
    "duration": 89,
    "start_time": "2021-10-04T05:51:26.716Z"
   },
   {
    "duration": 6,
    "start_time": "2021-10-04T05:51:26.809Z"
   },
   {
    "duration": 99,
    "start_time": "2021-10-04T05:51:26.818Z"
   },
   {
    "duration": 90,
    "start_time": "2021-10-04T05:51:26.919Z"
   },
   {
    "duration": 206,
    "start_time": "2021-10-04T05:51:27.011Z"
   },
   {
    "duration": 62,
    "start_time": "2021-10-04T05:51:27.218Z"
   },
   {
    "duration": 76,
    "start_time": "2021-10-04T05:51:27.281Z"
   },
   {
    "duration": 42,
    "start_time": "2021-10-04T05:51:27.359Z"
   },
   {
    "duration": 24,
    "start_time": "2021-10-04T05:51:27.403Z"
   },
   {
    "duration": 3,
    "start_time": "2021-10-04T05:51:27.428Z"
   },
   {
    "duration": 14,
    "start_time": "2021-10-04T05:51:27.432Z"
   },
   {
    "duration": 17,
    "start_time": "2021-10-04T05:51:27.447Z"
   },
   {
    "duration": 60,
    "start_time": "2021-10-04T05:51:27.465Z"
   },
   {
    "duration": 5,
    "start_time": "2021-10-04T05:51:27.527Z"
   },
   {
    "duration": 11,
    "start_time": "2021-10-04T05:51:27.534Z"
   },
   {
    "duration": 14,
    "start_time": "2021-10-04T05:51:27.546Z"
   },
   {
    "duration": 36,
    "start_time": "2021-10-04T05:51:27.563Z"
   },
   {
    "duration": 12,
    "start_time": "2021-10-04T05:51:27.601Z"
   },
   {
    "duration": 6,
    "start_time": "2021-10-04T05:51:27.614Z"
   },
   {
    "duration": 210,
    "start_time": "2021-10-04T05:51:27.621Z"
   },
   {
    "duration": 19,
    "start_time": "2021-10-04T05:51:27.832Z"
   },
   {
    "duration": 30,
    "start_time": "2021-10-04T05:51:27.853Z"
   },
   {
    "duration": 19,
    "start_time": "2021-10-04T05:51:27.900Z"
   },
   {
    "duration": 19,
    "start_time": "2021-10-04T05:51:27.920Z"
   },
   {
    "duration": 16,
    "start_time": "2021-10-04T05:51:27.940Z"
   },
   {
    "duration": 293,
    "start_time": "2021-10-04T05:51:27.958Z"
   },
   {
    "duration": 218,
    "start_time": "2021-10-04T05:51:28.253Z"
   },
   {
    "duration": 219,
    "start_time": "2021-10-04T05:51:28.472Z"
   },
   {
    "duration": 9,
    "start_time": "2021-10-04T05:51:28.693Z"
   },
   {
    "duration": 232,
    "start_time": "2021-10-04T05:51:28.703Z"
   },
   {
    "duration": 301,
    "start_time": "2021-10-04T05:51:28.937Z"
   },
   {
    "duration": 8,
    "start_time": "2021-10-04T05:51:29.240Z"
   },
   {
    "duration": 11,
    "start_time": "2021-10-04T05:51:29.250Z"
   },
   {
    "duration": 233,
    "start_time": "2021-10-04T05:52:22.967Z"
   },
   {
    "duration": 296,
    "start_time": "2021-10-04T05:52:40.479Z"
   }
  ],
  "kernelspec": {
   "display_name": "Python 3",
   "language": "python",
   "name": "python3"
  },
  "language_info": {
   "codemirror_mode": {
    "name": "ipython",
    "version": 3
   },
   "file_extension": ".py",
   "mimetype": "text/x-python",
   "name": "python",
   "nbconvert_exporter": "python",
   "pygments_lexer": "ipython3",
   "version": "3.8.8"
  },
  "toc": {
   "base_numbering": 1,
   "nav_menu": {
    "height": "178px",
    "width": "398px"
   },
   "number_sections": true,
   "sideBar": true,
   "skip_h1_title": true,
   "title_cell": "Table of Contents",
   "title_sidebar": "Contents",
   "toc_cell": false,
   "toc_position": {},
   "toc_section_display": true,
   "toc_window_display": false
  }
 },
 "nbformat": 4,
 "nbformat_minor": 2
}
